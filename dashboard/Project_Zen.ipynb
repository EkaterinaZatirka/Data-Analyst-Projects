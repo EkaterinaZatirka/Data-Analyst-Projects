{
 "cells": [
  {
   "cell_type": "markdown",
   "id": "d1c25068",
   "metadata": {},
   "source": [
    "# Анализ пользовательского взаимодействия с карточками статей в Яндекс.Дзен"
   ]
  },
  {
   "cell_type": "markdown",
   "id": "18adf7d7",
   "metadata": {},
   "source": [
    "## Задача:\n",
    "разработка дашборда для менеджеров по анализу контента."
   ]
  },
  {
   "cell_type": "markdown",
   "id": "c02c1b61",
   "metadata": {},
   "source": [
    "## Состав данных для дашборда:\n",
    "\n",
    "История событий по темам карточек (два графика - абсолютные числа и процентное соотношение);\n",
    "\n",
    "Разбивка событий по темам источников;\n",
    "\n",
    "Таблица соответствия тем источников темам карточек;\n",
    "\n",
    "По каким параметрам данные должны группироваться:\n",
    "\n",
    "    дата и время;\n",
    "    \n",
    "    тема карточки;\n",
    "    \n",
    "    тема источника;\n",
    "    \n",
    "    возрастная группа;\n",
    "\n",
    "Характер данных:\n",
    "\n",
    "    история событий по темам карточек — абсолютные величины с разбивкой по минутам;\n",
    "\n",
    "    разбивка событий по темам источников — относительные величины (% событий);\n",
    "    \n",
    "    соответствия тем источников темам карточек - абсолютные величины;\n",
    "\n",
    "Важность: все графики имеют равную важность"
   ]
  },
  {
   "cell_type": "markdown",
   "id": "cf67637c",
   "metadata": {},
   "source": [
    "После обработки сырых данных в нашем распоряжении есть таблица dash_visits за период с 18:28 24.09.2019 по 19:00 24.09.2019 со следующими данными:\n",
    "\n",
    "record_id - идентификационный номер карточки;\n",
    "\n",
    "item_topic - тема карточки;\n",
    "\n",
    "source_topic - тема источника;\n",
    "\n",
    "age_segment - возрастная категория пользователя;\n",
    "\n",
    "dt - дата посещения;\n",
    "\n",
    "visits - количество посещений/просмотров карточки."
   ]
  },
  {
   "cell_type": "markdown",
   "id": "0ba9b10f",
   "metadata": {},
   "source": [
    "## Ссылка на дашборд\n",
    "https://public.tableau.com/app/profile/ekaterina.zatirka/viz/Project_Yandex_Zen/Yandex_Zen?publish=yes"
   ]
  },
  {
   "cell_type": "markdown",
   "id": "e642e539",
   "metadata": {},
   "source": [
    "## Ссылка на презентацию\n",
    "https://drive.google.com/file/d/1f6lh3XMh1t71EkoW6OjilVTjqg9WvRvJ/view?usp=sharing"
   ]
  },
  {
   "cell_type": "markdown",
   "id": "918900ad",
   "metadata": {},
   "source": [
    "## Выгрузка данных, предварительное изучение."
   ]
  },
  {
   "cell_type": "code",
   "execution_count": 1,
   "id": "8c3899d5",
   "metadata": {},
   "outputs": [
    {
     "name": "stdout",
     "output_type": "stream",
     "text": [
      "Requirement already satisfied: psycopg2-binary in c:\\programdata\\anaconda3\\lib\\site-packages (2.9.1)\n"
     ]
    }
   ],
   "source": [
    "# импортируем библиотеки\n",
    "import pandas as pd\n",
    "from sqlalchemy import create_engine\n",
    "!pip install psycopg2-binary "
   ]
  },
  {
   "cell_type": "code",
   "execution_count": 2,
   "id": "938b0504",
   "metadata": {},
   "outputs": [],
   "source": [
    "db_config = {'user': '', # имя пользователя\n",
    "            'pwd': '', # пароль\n",
    "            'host': '',\n",
    "            'port': , # порт подключения\n",
    "            'db': ''} # название базы данных\n",
    "\n",
    "connection_string = 'postgresql://{}:{}@{}:{}/{}'.format(db_config['user'],\n",
    "                                                db_config['pwd'],\n",
    "                                                db_config['host'],\n",
    "                                                db_config['port'],\n",
    "                                                db_config['db'])\n",
    "\n",
    "engine = create_engine(connection_string)\n",
    "\n",
    "query = '''SELECT *\n",
    "            FROM dash_visits'''\n",
    "\n",
    "dash_visits = pd.io.sql.read_sql(query, con = engine) "
   ]
  },
  {
   "cell_type": "code",
   "execution_count": 3,
   "id": "59787772",
   "metadata": {},
   "outputs": [
    {
     "data": {
      "text/html": [
       "<div>\n",
       "<style scoped>\n",
       "    .dataframe tbody tr th:only-of-type {\n",
       "        vertical-align: middle;\n",
       "    }\n",
       "\n",
       "    .dataframe tbody tr th {\n",
       "        vertical-align: top;\n",
       "    }\n",
       "\n",
       "    .dataframe thead th {\n",
       "        text-align: right;\n",
       "    }\n",
       "</style>\n",
       "<table border=\"1\" class=\"dataframe\">\n",
       "  <thead>\n",
       "    <tr style=\"text-align: right;\">\n",
       "      <th></th>\n",
       "      <th>record_id</th>\n",
       "      <th>item_topic</th>\n",
       "      <th>source_topic</th>\n",
       "      <th>age_segment</th>\n",
       "      <th>dt</th>\n",
       "      <th>visits</th>\n",
       "    </tr>\n",
       "  </thead>\n",
       "  <tbody>\n",
       "    <tr>\n",
       "      <th>0</th>\n",
       "      <td>1040597</td>\n",
       "      <td>Деньги</td>\n",
       "      <td>Авто</td>\n",
       "      <td>18-25</td>\n",
       "      <td>2019-09-24 18:32:00</td>\n",
       "      <td>3</td>\n",
       "    </tr>\n",
       "    <tr>\n",
       "      <th>1</th>\n",
       "      <td>1040598</td>\n",
       "      <td>Деньги</td>\n",
       "      <td>Авто</td>\n",
       "      <td>18-25</td>\n",
       "      <td>2019-09-24 18:35:00</td>\n",
       "      <td>1</td>\n",
       "    </tr>\n",
       "    <tr>\n",
       "      <th>2</th>\n",
       "      <td>1040599</td>\n",
       "      <td>Деньги</td>\n",
       "      <td>Авто</td>\n",
       "      <td>18-25</td>\n",
       "      <td>2019-09-24 18:54:00</td>\n",
       "      <td>4</td>\n",
       "    </tr>\n",
       "    <tr>\n",
       "      <th>3</th>\n",
       "      <td>1040600</td>\n",
       "      <td>Деньги</td>\n",
       "      <td>Авто</td>\n",
       "      <td>18-25</td>\n",
       "      <td>2019-09-24 18:55:00</td>\n",
       "      <td>17</td>\n",
       "    </tr>\n",
       "    <tr>\n",
       "      <th>4</th>\n",
       "      <td>1040601</td>\n",
       "      <td>Деньги</td>\n",
       "      <td>Авто</td>\n",
       "      <td>18-25</td>\n",
       "      <td>2019-09-24 18:56:00</td>\n",
       "      <td>27</td>\n",
       "    </tr>\n",
       "    <tr>\n",
       "      <th>5</th>\n",
       "      <td>1040602</td>\n",
       "      <td>Деньги</td>\n",
       "      <td>Авто</td>\n",
       "      <td>18-25</td>\n",
       "      <td>2019-09-24 18:57:00</td>\n",
       "      <td>22</td>\n",
       "    </tr>\n",
       "    <tr>\n",
       "      <th>6</th>\n",
       "      <td>1040603</td>\n",
       "      <td>Деньги</td>\n",
       "      <td>Авто</td>\n",
       "      <td>18-25</td>\n",
       "      <td>2019-09-24 18:58:00</td>\n",
       "      <td>24</td>\n",
       "    </tr>\n",
       "    <tr>\n",
       "      <th>7</th>\n",
       "      <td>1040604</td>\n",
       "      <td>Деньги</td>\n",
       "      <td>Авто</td>\n",
       "      <td>18-25</td>\n",
       "      <td>2019-09-24 18:59:00</td>\n",
       "      <td>20</td>\n",
       "    </tr>\n",
       "    <tr>\n",
       "      <th>8</th>\n",
       "      <td>1040605</td>\n",
       "      <td>Деньги</td>\n",
       "      <td>Авто</td>\n",
       "      <td>18-25</td>\n",
       "      <td>2019-09-24 19:00:00</td>\n",
       "      <td>5</td>\n",
       "    </tr>\n",
       "    <tr>\n",
       "      <th>9</th>\n",
       "      <td>1040606</td>\n",
       "      <td>Деньги</td>\n",
       "      <td>Авто</td>\n",
       "      <td>26-30</td>\n",
       "      <td>2019-09-24 18:29:00</td>\n",
       "      <td>1</td>\n",
       "    </tr>\n",
       "  </tbody>\n",
       "</table>\n",
       "</div>"
      ],
      "text/plain": [
       "   record_id item_topic source_topic age_segment                  dt  visits\n",
       "0    1040597     Деньги         Авто       18-25 2019-09-24 18:32:00       3\n",
       "1    1040598     Деньги         Авто       18-25 2019-09-24 18:35:00       1\n",
       "2    1040599     Деньги         Авто       18-25 2019-09-24 18:54:00       4\n",
       "3    1040600     Деньги         Авто       18-25 2019-09-24 18:55:00      17\n",
       "4    1040601     Деньги         Авто       18-25 2019-09-24 18:56:00      27\n",
       "5    1040602     Деньги         Авто       18-25 2019-09-24 18:57:00      22\n",
       "6    1040603     Деньги         Авто       18-25 2019-09-24 18:58:00      24\n",
       "7    1040604     Деньги         Авто       18-25 2019-09-24 18:59:00      20\n",
       "8    1040605     Деньги         Авто       18-25 2019-09-24 19:00:00       5\n",
       "9    1040606     Деньги         Авто       26-30 2019-09-24 18:29:00       1"
      ]
     },
     "metadata": {},
     "output_type": "display_data"
    },
    {
     "name": "stdout",
     "output_type": "stream",
     "text": [
      "<class 'pandas.core.frame.DataFrame'>\n",
      "RangeIndex: 30745 entries, 0 to 30744\n",
      "Data columns (total 6 columns):\n",
      " #   Column        Non-Null Count  Dtype         \n",
      "---  ------        --------------  -----         \n",
      " 0   record_id     30745 non-null  int64         \n",
      " 1   item_topic    30745 non-null  object        \n",
      " 2   source_topic  30745 non-null  object        \n",
      " 3   age_segment   30745 non-null  object        \n",
      " 4   dt            30745 non-null  datetime64[ns]\n",
      " 5   visits        30745 non-null  int64         \n",
      "dtypes: datetime64[ns](1), int64(2), object(3)\n",
      "memory usage: 1.4+ MB\n",
      "None\n"
     ]
    }
   ],
   "source": [
    "display(dash_visits.head(10))\n",
    "print(dash_visits.info())"
   ]
  },
  {
   "cell_type": "markdown",
   "id": "bf7ce54c",
   "metadata": {},
   "source": [
    "Пропусков в полученной таблице нет, типы данных корректны."
   ]
  },
  {
   "cell_type": "code",
   "execution_count": 4,
   "id": "468a31e7",
   "metadata": {},
   "outputs": [
    {
     "name": "stdout",
     "output_type": "stream",
     "text": [
      "Время первого события в таблице 2019-09-24 18:28:00\n",
      "Время последнего события в таблице 2019-09-24 19:00:00\n"
     ]
    }
   ],
   "source": [
    "print('Время первого события в таблице', dash_visits['dt'].min())\n",
    "print('Время последнего события в таблице',dash_visits['dt'].max())"
   ]
  },
  {
   "cell_type": "code",
   "execution_count": 5,
   "id": "8aab925d",
   "metadata": {},
   "outputs": [
    {
     "name": "stdout",
     "output_type": "stream",
     "text": [
      "Дубликатов в полученной таблице 0\n"
     ]
    }
   ],
   "source": [
    "print('Дубликатов в полученной таблице', dash_visits.duplicated().sum())"
   ]
  },
  {
   "cell_type": "code",
   "execution_count": 8,
   "id": "36fd6fbe",
   "metadata": {},
   "outputs": [
    {
     "name": "stdout",
     "output_type": "stream",
     "text": [
      "В рассматриваемом периоде совершено: 310207 визитов\n"
     ]
    }
   ],
   "source": [
    "print('В рассматриваемом периоде совершено:', dash_visits['visits'].sum(), 'визитов')"
   ]
  },
  {
   "cell_type": "code",
   "execution_count": 6,
   "id": "1f8e2982",
   "metadata": {},
   "outputs": [
    {
     "name": "stdout",
     "output_type": "stream",
     "text": [
      "Темы карточек: ['Деньги' 'Дети' 'Женская психология' 'Женщины' 'Здоровье' 'Знаменитости'\n",
      " 'Интересные факты' 'Искусство' 'История' 'Красота' 'Культура' 'Наука'\n",
      " 'Общество' 'Отношения' 'Подборки' 'Полезные советы' 'Психология'\n",
      " 'Путешествия' 'Рассказы' 'Россия' 'Семья' 'Скандалы' 'Туризм' 'Шоу'\n",
      " 'Юмор']\n",
      "\n",
      "Количество тем карточек: 25\n",
      "\n",
      "Темы источников: ['Авто' 'Деньги' 'Дети' 'Еда' 'Здоровье' 'Знаменитости' 'Интерьеры'\n",
      " 'Искусство' 'История' 'Кино' 'Музыка' 'Одежда' 'Полезные советы'\n",
      " 'Политика' 'Психология' 'Путешествия' 'Ремонт' 'Россия' 'Сад и дача'\n",
      " 'Сделай сам' 'Семейные отношения' 'Семья' 'Спорт' 'Строительство'\n",
      " 'Технологии' 'Финансы']\n",
      "\n",
      "Количество тем источников: 26\n",
      "\n",
      "Возрастные категории пользователей: ['18-25' '26-30' '31-35' '36-40' '41-45' '45+']\n"
     ]
    }
   ],
   "source": [
    "print('Темы карточек:', dash_visits['item_topic'].unique())\n",
    "print()\n",
    "print('Количество тем карточек:', dash_visits['item_topic'].nunique())\n",
    "print()\n",
    "print('Темы источников:',dash_visits['source_topic'].unique())\n",
    "print()\n",
    "print('Количество тем источников:', dash_visits['source_topic'].nunique())\n",
    "print()\n",
    "print('Возрастные категории пользователей:',dash_visits['age_segment'].unique())"
   ]
  },
  {
   "cell_type": "code",
   "execution_count": 7,
   "id": "540ac6f4",
   "metadata": {},
   "outputs": [],
   "source": [
    "dash_visits.to_csv(r'C:\\Users\\Ekaterina\\Documents\\dash_visits.csv')"
   ]
  },
  {
   "cell_type": "markdown",
   "id": "26e11111",
   "metadata": {},
   "source": [
    "Выгружаю данные в файл csv для дальнейшего построения дашборда в Tableau Public."
   ]
  },
  {
   "cell_type": "code",
   "execution_count": null,
   "id": "e21214bd",
   "metadata": {},
   "outputs": [],
   "source": []
  }
 ],
 "metadata": {
  "kernelspec": {
   "display_name": "Python 3",
   "language": "python",
   "name": "python3"
  },
  "language_info": {
   "codemirror_mode": {
    "name": "ipython",
    "version": 3
   },
   "file_extension": ".py",
   "mimetype": "text/x-python",
   "name": "python",
   "nbconvert_exporter": "python",
   "pygments_lexer": "ipython3",
   "version": "3.8.8"
  }
 },
 "nbformat": 4,
 "nbformat_minor": 5
}
