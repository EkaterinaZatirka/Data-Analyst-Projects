{
 "cells": [
  {
   "cell_type": "markdown",
   "metadata": {},
   "source": [
    "# Принятие решений на основе данных."
   ]
  },
  {
   "cell_type": "markdown",
   "metadata": {},
   "source": [
    "Цель проекта - приоритизация гипотез, анализ результатов A/B-тест."
   ]
  },
  {
   "cell_type": "code",
   "execution_count": 1,
   "metadata": {},
   "outputs": [],
   "source": [
    "import pandas as pd\n",
    "import numpy as np\n",
    "import math as mt\n",
    "import matplotlib.pyplot as plt\n",
    "import scipy.stats as stats\n",
    "\n",
    "pd.set_option('display.max_colwidth', -1)\n",
    "import warnings\n",
    "warnings.filterwarnings('ignore')"
   ]
  },
  {
   "cell_type": "markdown",
   "metadata": {},
   "source": [
    "## Приоритизация гипотез."
   ]
  },
  {
   "cell_type": "code",
   "execution_count": 2,
   "metadata": {},
   "outputs": [
    {
     "name": "stdout",
     "output_type": "stream",
     "text": [
      "<class 'pandas.core.frame.DataFrame'>\n",
      "RangeIndex: 9 entries, 0 to 8\n",
      "Data columns (total 5 columns):\n",
      "Hypothesis    9 non-null object\n",
      "Reach         9 non-null int64\n",
      "Impact        9 non-null int64\n",
      "Confidence    9 non-null int64\n",
      "Efforts       9 non-null int64\n",
      "dtypes: int64(4), object(1)\n",
      "memory usage: 488.0+ bytes\n",
      "None\n"
     ]
    }
   ],
   "source": [
    "server_path = '/datasets/hypothesis.csv'\n",
    "filename = 'hypothesis.csv'\n",
    "try:\n",
    "    hypothesis = pd.read_csv(server_path)\n",
    "except: \n",
    "    hypothesis = pd.read_csv(filename)\n",
    "    \n",
    "print(hypothesis.info())"
   ]
  },
  {
   "cell_type": "code",
   "execution_count": 3,
   "metadata": {},
   "outputs": [
    {
     "data": {
      "text/html": [
       "<div>\n",
       "<style scoped>\n",
       "    .dataframe tbody tr th:only-of-type {\n",
       "        vertical-align: middle;\n",
       "    }\n",
       "\n",
       "    .dataframe tbody tr th {\n",
       "        vertical-align: top;\n",
       "    }\n",
       "\n",
       "    .dataframe thead th {\n",
       "        text-align: right;\n",
       "    }\n",
       "</style>\n",
       "<table border=\"1\" class=\"dataframe\">\n",
       "  <thead>\n",
       "    <tr style=\"text-align: right;\">\n",
       "      <th></th>\n",
       "      <th>hypothesis</th>\n",
       "      <th>reach</th>\n",
       "      <th>impact</th>\n",
       "      <th>confidence</th>\n",
       "      <th>efforts</th>\n",
       "    </tr>\n",
       "  </thead>\n",
       "  <tbody>\n",
       "    <tr>\n",
       "      <td>0</td>\n",
       "      <td>Добавить два новых канала привлечения трафика, что позволит привлекать на 30% больше пользователей</td>\n",
       "      <td>3</td>\n",
       "      <td>10</td>\n",
       "      <td>8</td>\n",
       "      <td>6</td>\n",
       "    </tr>\n",
       "    <tr>\n",
       "      <td>1</td>\n",
       "      <td>Запустить собственную службу доставки, что сократит срок доставки заказов</td>\n",
       "      <td>2</td>\n",
       "      <td>5</td>\n",
       "      <td>4</td>\n",
       "      <td>10</td>\n",
       "    </tr>\n",
       "    <tr>\n",
       "      <td>2</td>\n",
       "      <td>Добавить блоки рекомендаций товаров на сайт интернет магазина, чтобы повысить конверсию и средний чек заказа</td>\n",
       "      <td>8</td>\n",
       "      <td>3</td>\n",
       "      <td>7</td>\n",
       "      <td>3</td>\n",
       "    </tr>\n",
       "    <tr>\n",
       "      <td>3</td>\n",
       "      <td>Изменить структура категорий, что увеличит конверсию, т.к. пользователи быстрее найдут нужный товар</td>\n",
       "      <td>8</td>\n",
       "      <td>3</td>\n",
       "      <td>3</td>\n",
       "      <td>8</td>\n",
       "    </tr>\n",
       "    <tr>\n",
       "      <td>4</td>\n",
       "      <td>Изменить цвет фона главной страницы, чтобы увеличить вовлеченность пользователей</td>\n",
       "      <td>3</td>\n",
       "      <td>1</td>\n",
       "      <td>1</td>\n",
       "      <td>1</td>\n",
       "    </tr>\n",
       "    <tr>\n",
       "      <td>5</td>\n",
       "      <td>Добавить страницу отзывов клиентов о магазине, что позволит увеличить количество заказов</td>\n",
       "      <td>3</td>\n",
       "      <td>2</td>\n",
       "      <td>2</td>\n",
       "      <td>3</td>\n",
       "    </tr>\n",
       "    <tr>\n",
       "      <td>6</td>\n",
       "      <td>Показать на главной странице баннеры с актуальными акциями и распродажами, чтобы увеличить конверсию</td>\n",
       "      <td>5</td>\n",
       "      <td>3</td>\n",
       "      <td>8</td>\n",
       "      <td>3</td>\n",
       "    </tr>\n",
       "    <tr>\n",
       "      <td>7</td>\n",
       "      <td>Добавить форму подписки на все основные страницы, чтобы собрать базу клиентов для email-рассылок</td>\n",
       "      <td>10</td>\n",
       "      <td>7</td>\n",
       "      <td>8</td>\n",
       "      <td>5</td>\n",
       "    </tr>\n",
       "    <tr>\n",
       "      <td>8</td>\n",
       "      <td>Запустить акцию, дающую скидку на товар в день рождения</td>\n",
       "      <td>1</td>\n",
       "      <td>9</td>\n",
       "      <td>9</td>\n",
       "      <td>5</td>\n",
       "    </tr>\n",
       "  </tbody>\n",
       "</table>\n",
       "</div>"
      ],
      "text/plain": [
       "                                                                                                     hypothesis  \\\n",
       "0  Добавить два новых канала привлечения трафика, что позволит привлекать на 30% больше пользователей             \n",
       "1  Запустить собственную службу доставки, что сократит срок доставки заказов                                      \n",
       "2  Добавить блоки рекомендаций товаров на сайт интернет магазина, чтобы повысить конверсию и средний чек заказа   \n",
       "3  Изменить структура категорий, что увеличит конверсию, т.к. пользователи быстрее найдут нужный товар            \n",
       "4  Изменить цвет фона главной страницы, чтобы увеличить вовлеченность пользователей                               \n",
       "5  Добавить страницу отзывов клиентов о магазине, что позволит увеличить количество заказов                       \n",
       "6  Показать на главной странице баннеры с актуальными акциями и распродажами, чтобы увеличить конверсию           \n",
       "7  Добавить форму подписки на все основные страницы, чтобы собрать базу клиентов для email-рассылок               \n",
       "8  Запустить акцию, дающую скидку на товар в день рождения                                                        \n",
       "\n",
       "   reach  impact  confidence  efforts  \n",
       "0  3      10      8           6        \n",
       "1  2      5       4           10       \n",
       "2  8      3       7           3        \n",
       "3  8      3       3           8        \n",
       "4  3      1       1           1        \n",
       "5  3      2       2           3        \n",
       "6  5      3       8           3        \n",
       "7  10     7       8           5        \n",
       "8  1      9       9           5        "
      ]
     },
     "metadata": {},
     "output_type": "display_data"
    }
   ],
   "source": [
    "hypothesis.columns = hypothesis.columns.str.lower()\n",
    "display(hypothesis)"
   ]
  },
  {
   "cell_type": "markdown",
   "metadata": {},
   "source": [
    "Загрузила данные о предлагаемых к проверке гипотезах и их параметрахк перевела названия столбцов в строковый формат.\n",
    "\n",
    "В таблице приведены следующие параметры гипотез:\n",
    "\n",
    "reach — скольких пользователей затронет изменение;\n",
    "\n",
    "impact — насколько сильно изменение повлияет на пользователей, их опыт и удовлетворение от продукта;\n",
    "\n",
    "confidence — уверенность, что это изменение повлияет на пользователей именно так;\n",
    "\n",
    "efforts — сколько стоит протестировать эту гипотезу."
   ]
  },
  {
   "cell_type": "markdown",
   "metadata": {},
   "source": [
    "### Приоритизиция гипотез методом ICE."
   ]
  },
  {
   "cell_type": "code",
   "execution_count": 4,
   "metadata": {},
   "outputs": [
    {
     "data": {
      "text/html": [
       "<div>\n",
       "<style scoped>\n",
       "    .dataframe tbody tr th:only-of-type {\n",
       "        vertical-align: middle;\n",
       "    }\n",
       "\n",
       "    .dataframe tbody tr th {\n",
       "        vertical-align: top;\n",
       "    }\n",
       "\n",
       "    .dataframe thead th {\n",
       "        text-align: right;\n",
       "    }\n",
       "</style>\n",
       "<table border=\"1\" class=\"dataframe\">\n",
       "  <thead>\n",
       "    <tr style=\"text-align: right;\">\n",
       "      <th></th>\n",
       "      <th>hypothesis</th>\n",
       "      <th>ice</th>\n",
       "    </tr>\n",
       "  </thead>\n",
       "  <tbody>\n",
       "    <tr>\n",
       "      <td>8</td>\n",
       "      <td>Запустить акцию, дающую скидку на товар в день рождения</td>\n",
       "      <td>16.20</td>\n",
       "    </tr>\n",
       "    <tr>\n",
       "      <td>0</td>\n",
       "      <td>Добавить два новых канала привлечения трафика, что позволит привлекать на 30% больше пользователей</td>\n",
       "      <td>13.33</td>\n",
       "    </tr>\n",
       "    <tr>\n",
       "      <td>7</td>\n",
       "      <td>Добавить форму подписки на все основные страницы, чтобы собрать базу клиентов для email-рассылок</td>\n",
       "      <td>11.20</td>\n",
       "    </tr>\n",
       "    <tr>\n",
       "      <td>6</td>\n",
       "      <td>Показать на главной странице баннеры с актуальными акциями и распродажами, чтобы увеличить конверсию</td>\n",
       "      <td>8.00</td>\n",
       "    </tr>\n",
       "    <tr>\n",
       "      <td>2</td>\n",
       "      <td>Добавить блоки рекомендаций товаров на сайт интернет магазина, чтобы повысить конверсию и средний чек заказа</td>\n",
       "      <td>7.00</td>\n",
       "    </tr>\n",
       "    <tr>\n",
       "      <td>1</td>\n",
       "      <td>Запустить собственную службу доставки, что сократит срок доставки заказов</td>\n",
       "      <td>2.00</td>\n",
       "    </tr>\n",
       "    <tr>\n",
       "      <td>5</td>\n",
       "      <td>Добавить страницу отзывов клиентов о магазине, что позволит увеличить количество заказов</td>\n",
       "      <td>1.33</td>\n",
       "    </tr>\n",
       "    <tr>\n",
       "      <td>3</td>\n",
       "      <td>Изменить структура категорий, что увеличит конверсию, т.к. пользователи быстрее найдут нужный товар</td>\n",
       "      <td>1.12</td>\n",
       "    </tr>\n",
       "    <tr>\n",
       "      <td>4</td>\n",
       "      <td>Изменить цвет фона главной страницы, чтобы увеличить вовлеченность пользователей</td>\n",
       "      <td>1.00</td>\n",
       "    </tr>\n",
       "  </tbody>\n",
       "</table>\n",
       "</div>"
      ],
      "text/plain": [
       "                                                                                                     hypothesis  \\\n",
       "8  Запустить акцию, дающую скидку на товар в день рождения                                                        \n",
       "0  Добавить два новых канала привлечения трафика, что позволит привлекать на 30% больше пользователей             \n",
       "7  Добавить форму подписки на все основные страницы, чтобы собрать базу клиентов для email-рассылок               \n",
       "6  Показать на главной странице баннеры с актуальными акциями и распродажами, чтобы увеличить конверсию           \n",
       "2  Добавить блоки рекомендаций товаров на сайт интернет магазина, чтобы повысить конверсию и средний чек заказа   \n",
       "1  Запустить собственную службу доставки, что сократит срок доставки заказов                                      \n",
       "5  Добавить страницу отзывов клиентов о магазине, что позволит увеличить количество заказов                       \n",
       "3  Изменить структура категорий, что увеличит конверсию, т.к. пользователи быстрее найдут нужный товар            \n",
       "4  Изменить цвет фона главной страницы, чтобы увеличить вовлеченность пользователей                               \n",
       "\n",
       "     ice  \n",
       "8  16.20  \n",
       "0  13.33  \n",
       "7  11.20  \n",
       "6  8.00   \n",
       "2  7.00   \n",
       "1  2.00   \n",
       "5  1.33   \n",
       "3  1.12   \n",
       "4  1.00   "
      ]
     },
     "metadata": {},
     "output_type": "display_data"
    }
   ],
   "source": [
    "hypothesis['ice'] = ((hypothesis['impact'] * hypothesis['confidence']) / hypothesis['efforts']).round(2)\n",
    "\n",
    "display(hypothesis[['hypothesis', 'ice']].sort_values(by='ice', ascending=False))"
   ]
  },
  {
   "cell_type": "markdown",
   "metadata": {},
   "source": [
    "Просле применения фреймворка ICE в приоритете гипотезы 8, 0 и 7. У компании достаточно высокая уверенность, что предполагаемые изменения сильно повлияют на пользовательский опыт и удовлетворение продуктом, при этом у данных гипотез невысокая стоимость тестирования."
   ]
  },
  {
   "cell_type": "markdown",
   "metadata": {},
   "source": [
    "### Приоритизиция гипотез методом RICE."
   ]
  },
  {
   "cell_type": "code",
   "execution_count": 5,
   "metadata": {},
   "outputs": [
    {
     "data": {
      "text/html": [
       "<div>\n",
       "<style scoped>\n",
       "    .dataframe tbody tr th:only-of-type {\n",
       "        vertical-align: middle;\n",
       "    }\n",
       "\n",
       "    .dataframe tbody tr th {\n",
       "        vertical-align: top;\n",
       "    }\n",
       "\n",
       "    .dataframe thead th {\n",
       "        text-align: right;\n",
       "    }\n",
       "</style>\n",
       "<table border=\"1\" class=\"dataframe\">\n",
       "  <thead>\n",
       "    <tr style=\"text-align: right;\">\n",
       "      <th></th>\n",
       "      <th>hypothesis</th>\n",
       "      <th>rice</th>\n",
       "    </tr>\n",
       "  </thead>\n",
       "  <tbody>\n",
       "    <tr>\n",
       "      <td>7</td>\n",
       "      <td>Добавить форму подписки на все основные страницы, чтобы собрать базу клиентов для email-рассылок</td>\n",
       "      <td>112.0</td>\n",
       "    </tr>\n",
       "    <tr>\n",
       "      <td>2</td>\n",
       "      <td>Добавить блоки рекомендаций товаров на сайт интернет магазина, чтобы повысить конверсию и средний чек заказа</td>\n",
       "      <td>56.0</td>\n",
       "    </tr>\n",
       "    <tr>\n",
       "      <td>0</td>\n",
       "      <td>Добавить два новых канала привлечения трафика, что позволит привлекать на 30% больше пользователей</td>\n",
       "      <td>40.0</td>\n",
       "    </tr>\n",
       "    <tr>\n",
       "      <td>6</td>\n",
       "      <td>Показать на главной странице баннеры с актуальными акциями и распродажами, чтобы увеличить конверсию</td>\n",
       "      <td>40.0</td>\n",
       "    </tr>\n",
       "    <tr>\n",
       "      <td>8</td>\n",
       "      <td>Запустить акцию, дающую скидку на товар в день рождения</td>\n",
       "      <td>16.2</td>\n",
       "    </tr>\n",
       "    <tr>\n",
       "      <td>3</td>\n",
       "      <td>Изменить структура категорий, что увеличит конверсию, т.к. пользователи быстрее найдут нужный товар</td>\n",
       "      <td>9.0</td>\n",
       "    </tr>\n",
       "    <tr>\n",
       "      <td>1</td>\n",
       "      <td>Запустить собственную службу доставки, что сократит срок доставки заказов</td>\n",
       "      <td>4.0</td>\n",
       "    </tr>\n",
       "    <tr>\n",
       "      <td>5</td>\n",
       "      <td>Добавить страницу отзывов клиентов о магазине, что позволит увеличить количество заказов</td>\n",
       "      <td>4.0</td>\n",
       "    </tr>\n",
       "    <tr>\n",
       "      <td>4</td>\n",
       "      <td>Изменить цвет фона главной страницы, чтобы увеличить вовлеченность пользователей</td>\n",
       "      <td>3.0</td>\n",
       "    </tr>\n",
       "  </tbody>\n",
       "</table>\n",
       "</div>"
      ],
      "text/plain": [
       "                                                                                                     hypothesis  \\\n",
       "7  Добавить форму подписки на все основные страницы, чтобы собрать базу клиентов для email-рассылок               \n",
       "2  Добавить блоки рекомендаций товаров на сайт интернет магазина, чтобы повысить конверсию и средний чек заказа   \n",
       "0  Добавить два новых канала привлечения трафика, что позволит привлекать на 30% больше пользователей             \n",
       "6  Показать на главной странице баннеры с актуальными акциями и распродажами, чтобы увеличить конверсию           \n",
       "8  Запустить акцию, дающую скидку на товар в день рождения                                                        \n",
       "3  Изменить структура категорий, что увеличит конверсию, т.к. пользователи быстрее найдут нужный товар            \n",
       "1  Запустить собственную службу доставки, что сократит срок доставки заказов                                      \n",
       "5  Добавить страницу отзывов клиентов о магазине, что позволит увеличить количество заказов                       \n",
       "4  Изменить цвет фона главной страницы, чтобы увеличить вовлеченность пользователей                               \n",
       "\n",
       "    rice  \n",
       "7  112.0  \n",
       "2  56.0   \n",
       "0  40.0   \n",
       "6  40.0   \n",
       "8  16.2   \n",
       "3  9.0    \n",
       "1  4.0    \n",
       "5  4.0    \n",
       "4  3.0    "
      ]
     },
     "metadata": {},
     "output_type": "display_data"
    }
   ],
   "source": [
    "hypothesis['rice'] = (hypothesis['reach'] * hypothesis['impact'] * hypothesis['confidence']) / hypothesis['efforts']\n",
    "\n",
    "display(hypothesis[['hypothesis', 'rice']].sort_values(by='rice', ascending=False))"
   ]
  },
  {
   "cell_type": "markdown",
   "metadata": {},
   "source": [
    "Просле применения фреймворка RICE в приоритете гипотезы 7, 2, 0 и 6. У гипотезы 8 очень маленький охват пользователей, поэтому по итогам данного метода у нее достаточно низкая оценка. Между тем применение гипотезы 2 охватит большое количество пользователей, поэтому не смотря на то, что ее применение не очень сильно  повлияет на пользовательский опыт, у нее достаточно высокая оценка."
   ]
  },
  {
   "cell_type": "markdown",
   "metadata": {},
   "source": [
    "### Вывод."
   ]
  },
  {
   "cell_type": "markdown",
   "metadata": {},
   "source": [
    "Оценка приоритетов гипотез после применения фреймворков ICE и RICE различается в связи с учетом во фреймоврке RICE величины охвата пользователей предполагаемыми изменениями. Логично,что добавление на все основные страницы формы подписки охватит большее количество пользователей, чем, скидка на товар в день покупки."
   ]
  },
  {
   "cell_type": "markdown",
   "metadata": {},
   "source": [
    "## Анализ A/B теста."
   ]
  },
  {
   "cell_type": "markdown",
   "metadata": {},
   "source": [
    "### Загрузка и подготовка данных к анализу."
   ]
  },
  {
   "cell_type": "code",
   "execution_count": 6,
   "metadata": {},
   "outputs": [
    {
     "name": "stdout",
     "output_type": "stream",
     "text": [
      "<class 'pandas.core.frame.DataFrame'>\n",
      "RangeIndex: 1197 entries, 0 to 1196\n",
      "Data columns (total 5 columns):\n",
      "transactionId    1197 non-null int64\n",
      "visitorId        1197 non-null int64\n",
      "date             1197 non-null object\n",
      "revenue          1197 non-null int64\n",
      "group            1197 non-null object\n",
      "dtypes: int64(3), object(2)\n",
      "memory usage: 46.9+ KB\n",
      "None\n"
     ]
    },
    {
     "data": {
      "text/html": [
       "<div>\n",
       "<style scoped>\n",
       "    .dataframe tbody tr th:only-of-type {\n",
       "        vertical-align: middle;\n",
       "    }\n",
       "\n",
       "    .dataframe tbody tr th {\n",
       "        vertical-align: top;\n",
       "    }\n",
       "\n",
       "    .dataframe thead th {\n",
       "        text-align: right;\n",
       "    }\n",
       "</style>\n",
       "<table border=\"1\" class=\"dataframe\">\n",
       "  <thead>\n",
       "    <tr style=\"text-align: right;\">\n",
       "      <th></th>\n",
       "      <th>transactionId</th>\n",
       "      <th>visitorId</th>\n",
       "      <th>date</th>\n",
       "      <th>revenue</th>\n",
       "      <th>group</th>\n",
       "    </tr>\n",
       "  </thead>\n",
       "  <tbody>\n",
       "    <tr>\n",
       "      <td>0</td>\n",
       "      <td>3667963787</td>\n",
       "      <td>3312258926</td>\n",
       "      <td>2019-08-15</td>\n",
       "      <td>1650</td>\n",
       "      <td>B</td>\n",
       "    </tr>\n",
       "    <tr>\n",
       "      <td>1</td>\n",
       "      <td>2804400009</td>\n",
       "      <td>3642806036</td>\n",
       "      <td>2019-08-15</td>\n",
       "      <td>730</td>\n",
       "      <td>B</td>\n",
       "    </tr>\n",
       "    <tr>\n",
       "      <td>2</td>\n",
       "      <td>2961555356</td>\n",
       "      <td>4069496402</td>\n",
       "      <td>2019-08-15</td>\n",
       "      <td>400</td>\n",
       "      <td>A</td>\n",
       "    </tr>\n",
       "    <tr>\n",
       "      <td>3</td>\n",
       "      <td>3797467345</td>\n",
       "      <td>1196621759</td>\n",
       "      <td>2019-08-15</td>\n",
       "      <td>9759</td>\n",
       "      <td>B</td>\n",
       "    </tr>\n",
       "    <tr>\n",
       "      <td>4</td>\n",
       "      <td>2282983706</td>\n",
       "      <td>2322279887</td>\n",
       "      <td>2019-08-15</td>\n",
       "      <td>2308</td>\n",
       "      <td>B</td>\n",
       "    </tr>\n",
       "  </tbody>\n",
       "</table>\n",
       "</div>"
      ],
      "text/plain": [
       "   transactionId   visitorId        date  revenue group\n",
       "0  3667963787     3312258926  2019-08-15  1650     B   \n",
       "1  2804400009     3642806036  2019-08-15  730      B   \n",
       "2  2961555356     4069496402  2019-08-15  400      A   \n",
       "3  3797467345     1196621759  2019-08-15  9759     B   \n",
       "4  2282983706     2322279887  2019-08-15  2308     B   "
      ]
     },
     "metadata": {},
     "output_type": "display_data"
    }
   ],
   "source": [
    "server_path = '/datasets/orders.csv'\n",
    "filename = 'orders.csv'\n",
    "try:\n",
    "    orders = pd.read_csv(server_path)\n",
    "except: \n",
    "    orders = pd.read_csv(filename)\n",
    "    \n",
    "print(orders.info())\n",
    "display(orders.head())"
   ]
  },
  {
   "cell_type": "code",
   "execution_count": 7,
   "metadata": {},
   "outputs": [
    {
     "name": "stdout",
     "output_type": "stream",
     "text": [
      "<class 'pandas.core.frame.DataFrame'>\n",
      "RangeIndex: 1197 entries, 0 to 1196\n",
      "Data columns (total 5 columns):\n",
      "transactionId    1197 non-null int64\n",
      "visitorId        1197 non-null int64\n",
      "date             1197 non-null datetime64[ns]\n",
      "revenue          1197 non-null int64\n",
      "group            1197 non-null object\n",
      "dtypes: datetime64[ns](1), int64(3), object(1)\n",
      "memory usage: 46.9+ KB\n"
     ]
    },
    {
     "data": {
      "text/plain": [
       "None"
      ]
     },
     "metadata": {},
     "output_type": "display_data"
    },
    {
     "name": "stdout",
     "output_type": "stream",
     "text": [
      "Дубликатов: 0\n"
     ]
    }
   ],
   "source": [
    "orders['date'] = pd.to_datetime(orders['date'],format='%Y/%m/%d')\n",
    "display(orders.info())\n",
    "print('Дубликатов:', orders.duplicated().sum())"
   ]
  },
  {
   "cell_type": "code",
   "execution_count": 8,
   "metadata": {},
   "outputs": [
    {
     "name": "stdout",
     "output_type": "stream",
     "text": [
      "<class 'pandas.core.frame.DataFrame'>\n",
      "RangeIndex: 62 entries, 0 to 61\n",
      "Data columns (total 3 columns):\n",
      "date        62 non-null object\n",
      "group       62 non-null object\n",
      "visitors    62 non-null int64\n",
      "dtypes: int64(1), object(2)\n",
      "memory usage: 1.6+ KB\n",
      "None\n"
     ]
    },
    {
     "data": {
      "text/html": [
       "<div>\n",
       "<style scoped>\n",
       "    .dataframe tbody tr th:only-of-type {\n",
       "        vertical-align: middle;\n",
       "    }\n",
       "\n",
       "    .dataframe tbody tr th {\n",
       "        vertical-align: top;\n",
       "    }\n",
       "\n",
       "    .dataframe thead th {\n",
       "        text-align: right;\n",
       "    }\n",
       "</style>\n",
       "<table border=\"1\" class=\"dataframe\">\n",
       "  <thead>\n",
       "    <tr style=\"text-align: right;\">\n",
       "      <th></th>\n",
       "      <th>date</th>\n",
       "      <th>group</th>\n",
       "      <th>visitors</th>\n",
       "    </tr>\n",
       "  </thead>\n",
       "  <tbody>\n",
       "    <tr>\n",
       "      <td>0</td>\n",
       "      <td>2019-08-01</td>\n",
       "      <td>A</td>\n",
       "      <td>719</td>\n",
       "    </tr>\n",
       "    <tr>\n",
       "      <td>1</td>\n",
       "      <td>2019-08-02</td>\n",
       "      <td>A</td>\n",
       "      <td>619</td>\n",
       "    </tr>\n",
       "    <tr>\n",
       "      <td>2</td>\n",
       "      <td>2019-08-03</td>\n",
       "      <td>A</td>\n",
       "      <td>507</td>\n",
       "    </tr>\n",
       "    <tr>\n",
       "      <td>3</td>\n",
       "      <td>2019-08-04</td>\n",
       "      <td>A</td>\n",
       "      <td>717</td>\n",
       "    </tr>\n",
       "    <tr>\n",
       "      <td>4</td>\n",
       "      <td>2019-08-05</td>\n",
       "      <td>A</td>\n",
       "      <td>756</td>\n",
       "    </tr>\n",
       "  </tbody>\n",
       "</table>\n",
       "</div>"
      ],
      "text/plain": [
       "         date group  visitors\n",
       "0  2019-08-01  A     719     \n",
       "1  2019-08-02  A     619     \n",
       "2  2019-08-03  A     507     \n",
       "3  2019-08-04  A     717     \n",
       "4  2019-08-05  A     756     "
      ]
     },
     "metadata": {},
     "output_type": "display_data"
    }
   ],
   "source": [
    "server_path = '/datasets/visitors.csv'\n",
    "filename = 'visitors.csv'\n",
    "try:\n",
    "    visitors = pd.read_csv(server_path)\n",
    "except: \n",
    "    visitors = pd.read_csv(filename)\n",
    "    \n",
    "print(visitors.info())\n",
    "display(visitors.head())"
   ]
  },
  {
   "cell_type": "code",
   "execution_count": 9,
   "metadata": {},
   "outputs": [
    {
     "name": "stdout",
     "output_type": "stream",
     "text": [
      "<class 'pandas.core.frame.DataFrame'>\n",
      "RangeIndex: 62 entries, 0 to 61\n",
      "Data columns (total 3 columns):\n",
      "date        62 non-null datetime64[ns]\n",
      "group       62 non-null object\n",
      "visitors    62 non-null int64\n",
      "dtypes: datetime64[ns](1), int64(1), object(1)\n",
      "memory usage: 1.6+ KB\n"
     ]
    },
    {
     "data": {
      "text/plain": [
       "None"
      ]
     },
     "metadata": {},
     "output_type": "display_data"
    },
    {
     "name": "stdout",
     "output_type": "stream",
     "text": [
      "Дубликатов: 0\n"
     ]
    }
   ],
   "source": [
    "visitors['date'] = pd.to_datetime(visitors['date'],format='%Y/%m/%d')\n",
    "display(visitors.info())\n",
    "print('Дубликатов:', visitors.duplicated().sum())"
   ]
  },
  {
   "cell_type": "markdown",
   "metadata": {},
   "source": [
    "Загрузила данные из файлов с результатами A/B тестирования,  перевела даты в формат даты.\n",
    "\n",
    "В таблице orders приведена следующая информация:\n",
    "\n",
    "transactionId — идентификатор заказа;\n",
    "\n",
    "visitorId — идентификатор пользователя, совершившего заказ;\n",
    "\n",
    "group — группа A/B-теста (A или B);\n",
    "\n",
    "revenue — выручка с заказа (средний чек);\n",
    "\n",
    "date — дата заказа.\n",
    "\n",
    "В таблице visitors приведена следующая информация:\n",
    "\n",
    "date — дата;\n",
    "\n",
    "group — группа A/B-теста (A или B);\n",
    "\n",
    "visitors — количество посетителей интернет-магазина в определённой группе A/B-теста в указанную дату.\n",
    "\n",
    "Пропусков и дубликатов в данных нет."
   ]
  },
  {
   "cell_type": "code",
   "execution_count": 10,
   "metadata": {},
   "outputs": [
    {
     "name": "stdout",
     "output_type": "stream",
     "text": [
      "В группе А 557 пользователей.\n",
      "В группе B 640 пользователей.\n",
      "В обеих группах есть 58 совпадающих пользователей.\n"
     ]
    }
   ],
   "source": [
    "visitorA = orders[orders['group'] == 'A']['visitorId']\n",
    "visitorB = orders[orders['group'] == 'B']['visitorId']\n",
    "print('В группе А', len(visitorA), 'пользователей.')\n",
    "print('В группе B', len(visitorB), 'пользователей.')\n",
    "list_duplicate = list(set(visitorA) & set(visitorB))\n",
    "print('В обеих группах есть', len(list_duplicate), 'совпадающих пользователей.')"
   ]
  },
  {
   "cell_type": "code",
   "execution_count": 11,
   "metadata": {},
   "outputs": [
    {
     "name": "stdout",
     "output_type": "stream",
     "text": [
      "<class 'pandas.core.frame.DataFrame'>\n",
      "Int64Index: 1016 entries, 0 to 1196\n",
      "Data columns (total 5 columns):\n",
      "transactionId    1016 non-null int64\n",
      "visitorId        1016 non-null int64\n",
      "date             1016 non-null datetime64[ns]\n",
      "revenue          1016 non-null int64\n",
      "group            1016 non-null object\n",
      "dtypes: datetime64[ns](1), int64(3), object(1)\n",
      "memory usage: 47.6+ KB\n"
     ]
    },
    {
     "data": {
      "text/plain": [
       "None"
      ]
     },
     "metadata": {},
     "output_type": "display_data"
    }
   ],
   "source": [
    "orders1 = orders.query('visitorId not in @list_duplicate')\n",
    "display(orders1.info())"
   ]
  },
  {
   "cell_type": "markdown",
   "metadata": {},
   "source": [
    "Исключила дублирующихся пользователей из расчетов."
   ]
  },
  {
   "cell_type": "markdown",
   "metadata": {},
   "source": [
    "### Изменение кумулятивной выручки по группам."
   ]
  },
  {
   "cell_type": "code",
   "execution_count": 12,
   "metadata": {},
   "outputs": [
    {
     "data": {
      "text/html": [
       "<div>\n",
       "<style scoped>\n",
       "    .dataframe tbody tr th:only-of-type {\n",
       "        vertical-align: middle;\n",
       "    }\n",
       "\n",
       "    .dataframe tbody tr th {\n",
       "        vertical-align: top;\n",
       "    }\n",
       "\n",
       "    .dataframe thead th {\n",
       "        text-align: right;\n",
       "    }\n",
       "</style>\n",
       "<table border=\"1\" class=\"dataframe\">\n",
       "  <thead>\n",
       "    <tr style=\"text-align: right;\">\n",
       "      <th></th>\n",
       "      <th>date</th>\n",
       "      <th>group</th>\n",
       "      <th>orders</th>\n",
       "      <th>buyers</th>\n",
       "      <th>revenue</th>\n",
       "    </tr>\n",
       "  </thead>\n",
       "  <tbody>\n",
       "    <tr>\n",
       "      <td>55</td>\n",
       "      <td>2019-08-01</td>\n",
       "      <td>A</td>\n",
       "      <td>23</td>\n",
       "      <td>19</td>\n",
       "      <td>142779</td>\n",
       "    </tr>\n",
       "    <tr>\n",
       "      <td>66</td>\n",
       "      <td>2019-08-01</td>\n",
       "      <td>B</td>\n",
       "      <td>17</td>\n",
       "      <td>17</td>\n",
       "      <td>59758</td>\n",
       "    </tr>\n",
       "    <tr>\n",
       "      <td>175</td>\n",
       "      <td>2019-08-02</td>\n",
       "      <td>A</td>\n",
       "      <td>42</td>\n",
       "      <td>36</td>\n",
       "      <td>234381</td>\n",
       "    </tr>\n",
       "    <tr>\n",
       "      <td>173</td>\n",
       "      <td>2019-08-02</td>\n",
       "      <td>B</td>\n",
       "      <td>40</td>\n",
       "      <td>39</td>\n",
       "      <td>221801</td>\n",
       "    </tr>\n",
       "    <tr>\n",
       "      <td>291</td>\n",
       "      <td>2019-08-03</td>\n",
       "      <td>A</td>\n",
       "      <td>66</td>\n",
       "      <td>60</td>\n",
       "      <td>346854</td>\n",
       "    </tr>\n",
       "  </tbody>\n",
       "</table>\n",
       "</div>"
      ],
      "text/plain": [
       "          date group  orders  buyers  revenue\n",
       "55  2019-08-01  A     23      19      142779 \n",
       "66  2019-08-01  B     17      17      59758  \n",
       "175 2019-08-02  A     42      36      234381 \n",
       "173 2019-08-02  B     40      39      221801 \n",
       "291 2019-08-03  A     66      60      346854 "
      ]
     },
     "metadata": {},
     "output_type": "display_data"
    }
   ],
   "source": [
    "dates_group = orders1[['date', 'group']].drop_duplicates()\n",
    "orders_agregated = dates_group.apply(lambda x: orders1[np.logical_and(\n",
    "    orders1['date'] <= x['date'], orders1['group'] == x['group'])].agg(\n",
    "    {'date':'max', 'group':'max', 'transactionId':'nunique', 'visitorId':'nunique',\n",
    "     'revenue':'sum'}), axis=1).sort_values(by=['date', 'group'])\n",
    "orders_agregated.columns = ['date', 'group', 'orders', 'buyers', 'revenue']\n",
    "display(orders_agregated.head())"
   ]
  },
  {
   "cell_type": "markdown",
   "metadata": {},
   "source": [
    "Посчитала агрегированные кумулятивные данные по дням и заказам."
   ]
  },
  {
   "cell_type": "code",
   "execution_count": 13,
   "metadata": {},
   "outputs": [
    {
     "data": {
      "text/html": [
       "<div>\n",
       "<style scoped>\n",
       "    .dataframe tbody tr th:only-of-type {\n",
       "        vertical-align: middle;\n",
       "    }\n",
       "\n",
       "    .dataframe tbody tr th {\n",
       "        vertical-align: top;\n",
       "    }\n",
       "\n",
       "    .dataframe thead th {\n",
       "        text-align: right;\n",
       "    }\n",
       "</style>\n",
       "<table border=\"1\" class=\"dataframe\">\n",
       "  <thead>\n",
       "    <tr style=\"text-align: right;\">\n",
       "      <th></th>\n",
       "      <th>date</th>\n",
       "      <th>orders</th>\n",
       "      <th>revenue</th>\n",
       "    </tr>\n",
       "  </thead>\n",
       "  <tbody>\n",
       "    <tr>\n",
       "      <td>55</td>\n",
       "      <td>2019-08-01</td>\n",
       "      <td>23</td>\n",
       "      <td>142779</td>\n",
       "    </tr>\n",
       "    <tr>\n",
       "      <td>175</td>\n",
       "      <td>2019-08-02</td>\n",
       "      <td>42</td>\n",
       "      <td>234381</td>\n",
       "    </tr>\n",
       "    <tr>\n",
       "      <td>291</td>\n",
       "      <td>2019-08-03</td>\n",
       "      <td>66</td>\n",
       "      <td>346854</td>\n",
       "    </tr>\n",
       "    <tr>\n",
       "      <td>499</td>\n",
       "      <td>2019-08-04</td>\n",
       "      <td>77</td>\n",
       "      <td>388030</td>\n",
       "    </tr>\n",
       "    <tr>\n",
       "      <td>719</td>\n",
       "      <td>2019-08-05</td>\n",
       "      <td>99</td>\n",
       "      <td>474413</td>\n",
       "    </tr>\n",
       "  </tbody>\n",
       "</table>\n",
       "</div>"
      ],
      "text/plain": [
       "          date  orders  revenue\n",
       "55  2019-08-01  23      142779 \n",
       "175 2019-08-02  42      234381 \n",
       "291 2019-08-03  66      346854 \n",
       "499 2019-08-04  77      388030 \n",
       "719 2019-08-05  99      474413 "
      ]
     },
     "metadata": {},
     "output_type": "display_data"
    },
    {
     "data": {
      "text/html": [
       "<div>\n",
       "<style scoped>\n",
       "    .dataframe tbody tr th:only-of-type {\n",
       "        vertical-align: middle;\n",
       "    }\n",
       "\n",
       "    .dataframe tbody tr th {\n",
       "        vertical-align: top;\n",
       "    }\n",
       "\n",
       "    .dataframe thead th {\n",
       "        text-align: right;\n",
       "    }\n",
       "</style>\n",
       "<table border=\"1\" class=\"dataframe\">\n",
       "  <thead>\n",
       "    <tr style=\"text-align: right;\">\n",
       "      <th></th>\n",
       "      <th>date</th>\n",
       "      <th>orders</th>\n",
       "      <th>revenue</th>\n",
       "    </tr>\n",
       "  </thead>\n",
       "  <tbody>\n",
       "    <tr>\n",
       "      <td>66</td>\n",
       "      <td>2019-08-01</td>\n",
       "      <td>17</td>\n",
       "      <td>59758</td>\n",
       "    </tr>\n",
       "    <tr>\n",
       "      <td>173</td>\n",
       "      <td>2019-08-02</td>\n",
       "      <td>40</td>\n",
       "      <td>221801</td>\n",
       "    </tr>\n",
       "    <tr>\n",
       "      <td>383</td>\n",
       "      <td>2019-08-03</td>\n",
       "      <td>54</td>\n",
       "      <td>288850</td>\n",
       "    </tr>\n",
       "    <tr>\n",
       "      <td>498</td>\n",
       "      <td>2019-08-04</td>\n",
       "      <td>68</td>\n",
       "      <td>385740</td>\n",
       "    </tr>\n",
       "    <tr>\n",
       "      <td>699</td>\n",
       "      <td>2019-08-05</td>\n",
       "      <td>89</td>\n",
       "      <td>475648</td>\n",
       "    </tr>\n",
       "  </tbody>\n",
       "</table>\n",
       "</div>"
      ],
      "text/plain": [
       "          date  orders  revenue\n",
       "66  2019-08-01  17      59758  \n",
       "173 2019-08-02  40      221801 \n",
       "383 2019-08-03  54      288850 \n",
       "498 2019-08-04  68      385740 \n",
       "699 2019-08-05  89      475648 "
      ]
     },
     "metadata": {},
     "output_type": "display_data"
    }
   ],
   "source": [
    "cum_revenue_A = orders_agregated[orders_agregated['group'] == 'A'][['date', 'orders', 'revenue']]\n",
    "cum_revenue_B = orders_agregated[orders_agregated['group'] == 'B'][['date', 'orders', 'revenue']]\n",
    "display(cum_revenue_A.head())\n",
    "display(cum_revenue_B.head())"
   ]
  },
  {
   "cell_type": "markdown",
   "metadata": {},
   "source": [
    "Разделила данные о кумулятивной выручке по дням в разрезе групп."
   ]
  },
  {
   "cell_type": "code",
   "execution_count": 14,
   "metadata": {},
   "outputs": [
    {
     "data": {
      "image/png": "[encoded data removed]",
      "text/plain": [
       "<Figure size 1080x504 with 1 Axes>"
      ]
     },
     "metadata": {
      "needs_background": "light"
     },
     "output_type": "display_data"
    }
   ],
   "source": [
    "from pandas.plotting import register_matplotlib_converters\n",
    "register_matplotlib_converters()\n",
    "plt.figure(figsize=(15, 7))\n",
    "plt.title('Кумулятивная выручка по группам')\n",
    "plt.plot(cum_revenue_A['date'], cum_revenue_A['revenue'], label = 'A')\n",
    "plt.plot(cum_revenue_B['date'], cum_revenue_B['revenue'], label = 'B')\n",
    "plt.legend()\n",
    "plt.xlabel('дата')\n",
    "plt.ylabel('кумлятивная выручка, у.е.') \n",
    "plt.show()"
   ]
  },
  {
   "cell_type": "markdown",
   "metadata": {},
   "source": [
    "### Вывод.\n",
    "Выручка по обеим группам в течение всего времени проведения теста растет.\n",
    "\n",
    "Первые пять дней проведения теста выручка в обеих группах примерно одинаковая, затем выручка в группе В превышает выручку в группе А. \n",
    "\n",
    "В группе А выручка растет равномерно, в группе В есть резкий скачок в период 18-19 августа 2019, возможно это вызвано или резким  числом заказов в эти дни, или заказами на очень большую сумму."
   ]
  },
  {
   "cell_type": "markdown",
   "metadata": {},
   "source": [
    "### Изменение кумулятивного среднего чека по группам."
   ]
  },
  {
   "cell_type": "code",
   "execution_count": 15,
   "metadata": {},
   "outputs": [
    {
     "data": {
      "image/png": "[encoded data removed]",
      "text/plain": [
       "<Figure size 1080x504 with 1 Axes>"
      ]
     },
     "metadata": {
      "needs_background": "light"
     },
     "output_type": "display_data"
    }
   ],
   "source": [
    "plt.figure(figsize=(15, 7))\n",
    "plt.title('Кумулятивный средний чек по группам')\n",
    "plt.plot(cum_revenue_A['date'], cum_revenue_A['revenue']/cum_revenue_A['orders'], label = 'A')\n",
    "plt.plot(cum_revenue_B['date'], cum_revenue_B['revenue']/cum_revenue_B['orders'], label = 'B')\n",
    "plt.legend()\n",
    "plt.xlabel('дата')\n",
    "plt.ylabel('кумлятивный средний чек, у.е.') \n",
    "plt.show()"
   ]
  },
  {
   "cell_type": "markdown",
   "metadata": {},
   "source": [
    "Кумулятивный средний чек изменяется неравномерно. В группе А сначала уменьшается, затем с 6 по 14 августа идет рост (возможно в этот период были крупные покупки), затем средний чек стабилизируется на уровне 7000 у.е.\n",
    "\n",
    "В группе В средний чек растет, затем падает, затем снова растет, начинает стабилизироваться, затем 19-20 августа происходит резкий рост чека более  чем на 3000 у.е. (аналогично резкому росту кумулятивной выручки для данной группы), затем идет плавное снижение."
   ]
  },
  {
   "cell_type": "markdown",
   "metadata": {},
   "source": [
    "### Относительное изменение кумулятивного среднего чека группы В к кумулятивному среднему чеку группы А."
   ]
  },
  {
   "cell_type": "code",
   "execution_count": 16,
   "metadata": {},
   "outputs": [
    {
     "data": {
      "text/html": [
       "<div>\n",
       "<style scoped>\n",
       "    .dataframe tbody tr th:only-of-type {\n",
       "        vertical-align: middle;\n",
       "    }\n",
       "\n",
       "    .dataframe tbody tr th {\n",
       "        vertical-align: top;\n",
       "    }\n",
       "\n",
       "    .dataframe thead th {\n",
       "        text-align: right;\n",
       "    }\n",
       "</style>\n",
       "<table border=\"1\" class=\"dataframe\">\n",
       "  <thead>\n",
       "    <tr style=\"text-align: right;\">\n",
       "      <th></th>\n",
       "      <th>date</th>\n",
       "      <th>ordersA</th>\n",
       "      <th>revenueA</th>\n",
       "      <th>ordersB</th>\n",
       "      <th>revenueB</th>\n",
       "    </tr>\n",
       "  </thead>\n",
       "  <tbody>\n",
       "    <tr>\n",
       "      <td>0</td>\n",
       "      <td>2019-08-01</td>\n",
       "      <td>23</td>\n",
       "      <td>142779</td>\n",
       "      <td>17</td>\n",
       "      <td>59758</td>\n",
       "    </tr>\n",
       "    <tr>\n",
       "      <td>1</td>\n",
       "      <td>2019-08-02</td>\n",
       "      <td>42</td>\n",
       "      <td>234381</td>\n",
       "      <td>40</td>\n",
       "      <td>221801</td>\n",
       "    </tr>\n",
       "    <tr>\n",
       "      <td>2</td>\n",
       "      <td>2019-08-03</td>\n",
       "      <td>66</td>\n",
       "      <td>346854</td>\n",
       "      <td>54</td>\n",
       "      <td>288850</td>\n",
       "    </tr>\n",
       "    <tr>\n",
       "      <td>3</td>\n",
       "      <td>2019-08-04</td>\n",
       "      <td>77</td>\n",
       "      <td>388030</td>\n",
       "      <td>68</td>\n",
       "      <td>385740</td>\n",
       "    </tr>\n",
       "    <tr>\n",
       "      <td>4</td>\n",
       "      <td>2019-08-05</td>\n",
       "      <td>99</td>\n",
       "      <td>474413</td>\n",
       "      <td>89</td>\n",
       "      <td>475648</td>\n",
       "    </tr>\n",
       "  </tbody>\n",
       "</table>\n",
       "</div>"
      ],
      "text/plain": [
       "        date  ordersA  revenueA  ordersB  revenueB\n",
       "0 2019-08-01  23       142779    17       59758   \n",
       "1 2019-08-02  42       234381    40       221801  \n",
       "2 2019-08-03  66       346854    54       288850  \n",
       "3 2019-08-04  77       388030    68       385740  \n",
       "4 2019-08-05  99       474413    89       475648  "
      ]
     },
     "metadata": {},
     "output_type": "display_data"
    }
   ],
   "source": [
    "cum_revenue = cum_revenue_A.merge(cum_revenue_B, on='date', suffixes=['A', 'B'])\n",
    "display(cum_revenue.head())"
   ]
  },
  {
   "cell_type": "code",
   "execution_count": 17,
   "metadata": {},
   "outputs": [
    {
     "data": {
      "image/png": "[encoded data removed]",
      "text/plain": [
       "<Figure size 1080x504 with 1 Axes>"
      ]
     },
     "metadata": {
      "needs_background": "light"
     },
     "output_type": "display_data"
    }
   ],
   "source": [
    "plt.figure(figsize=(15, 7))\n",
    "plt.title('Относительное изменение кумулятивного среднего чека группы В к группе А')\n",
    "plt.plot(cum_revenue['date'], (cum_revenue['revenueB']/cum_revenue['ordersB']) /\n",
    "         (cum_revenue['revenueA']/cum_revenue['ordersA']) - 1)\n",
    "plt.axhline(y=0, color='grey', linestyle='--') \n",
    "plt.xlabel('дата')\n",
    "plt.show()"
   ]
  },
  {
   "cell_type": "markdown",
   "metadata": {},
   "source": [
    "### Вывод.\n",
    "Не считая первого дня тестирования и провала 12-18 августа кумулятивный средний чек группы В превышает кумулятивный средний чек группы А.\n",
    "\n",
    "Поскольку отличие очень неравномерное, \"скачущее\", скорее всего влияют выбросы."
   ]
  },
  {
   "cell_type": "markdown",
   "metadata": {},
   "source": [
    "### Кумулятивная конверсия по группам."
   ]
  },
  {
   "cell_type": "code",
   "execution_count": 18,
   "metadata": {},
   "outputs": [
    {
     "data": {
      "text/html": [
       "<div>\n",
       "<style scoped>\n",
       "    .dataframe tbody tr th:only-of-type {\n",
       "        vertical-align: middle;\n",
       "    }\n",
       "\n",
       "    .dataframe tbody tr th {\n",
       "        vertical-align: top;\n",
       "    }\n",
       "\n",
       "    .dataframe thead th {\n",
       "        text-align: right;\n",
       "    }\n",
       "</style>\n",
       "<table border=\"1\" class=\"dataframe\">\n",
       "  <thead>\n",
       "    <tr style=\"text-align: right;\">\n",
       "      <th></th>\n",
       "      <th>date</th>\n",
       "      <th>group</th>\n",
       "      <th>visitors</th>\n",
       "    </tr>\n",
       "  </thead>\n",
       "  <tbody>\n",
       "    <tr>\n",
       "      <td>55</td>\n",
       "      <td>2019-08-01</td>\n",
       "      <td>A</td>\n",
       "      <td>719</td>\n",
       "    </tr>\n",
       "    <tr>\n",
       "      <td>66</td>\n",
       "      <td>2019-08-01</td>\n",
       "      <td>B</td>\n",
       "      <td>713</td>\n",
       "    </tr>\n",
       "    <tr>\n",
       "      <td>175</td>\n",
       "      <td>2019-08-02</td>\n",
       "      <td>A</td>\n",
       "      <td>1338</td>\n",
       "    </tr>\n",
       "    <tr>\n",
       "      <td>173</td>\n",
       "      <td>2019-08-02</td>\n",
       "      <td>B</td>\n",
       "      <td>1294</td>\n",
       "    </tr>\n",
       "    <tr>\n",
       "      <td>291</td>\n",
       "      <td>2019-08-03</td>\n",
       "      <td>A</td>\n",
       "      <td>1845</td>\n",
       "    </tr>\n",
       "  </tbody>\n",
       "</table>\n",
       "</div>"
      ],
      "text/plain": [
       "          date group  visitors\n",
       "55  2019-08-01  A     719     \n",
       "66  2019-08-01  B     713     \n",
       "175 2019-08-02  A     1338    \n",
       "173 2019-08-02  B     1294    \n",
       "291 2019-08-03  A     1845    "
      ]
     },
     "metadata": {},
     "output_type": "display_data"
    }
   ],
   "source": [
    "dates_group = orders[['date', 'group']].drop_duplicates()\n",
    "visitors_agregated = dates_group.apply(lambda x: visitors[np.logical_and(\n",
    "    visitors['date'] <= x['date'], visitors['group'] == x['group'])].agg(\n",
    "    {'date':'max', 'group':'max', 'visitors':'sum'}), axis=1).sort_values(by=['date', 'group'])\n",
    "visitors_agregated.columns = ['date', 'group', 'visitors']\n",
    "display(visitors_agregated.head())"
   ]
  },
  {
   "cell_type": "markdown",
   "metadata": {},
   "source": [
    "Посчитала агрегированные кумулятивные данные по визитам и дням."
   ]
  },
  {
   "cell_type": "code",
   "execution_count": 19,
   "metadata": {},
   "outputs": [
    {
     "data": {
      "text/html": [
       "<div>\n",
       "<style scoped>\n",
       "    .dataframe tbody tr th:only-of-type {\n",
       "        vertical-align: middle;\n",
       "    }\n",
       "\n",
       "    .dataframe tbody tr th {\n",
       "        vertical-align: top;\n",
       "    }\n",
       "\n",
       "    .dataframe thead th {\n",
       "        text-align: right;\n",
       "    }\n",
       "</style>\n",
       "<table border=\"1\" class=\"dataframe\">\n",
       "  <thead>\n",
       "    <tr style=\"text-align: right;\">\n",
       "      <th></th>\n",
       "      <th>date</th>\n",
       "      <th>group</th>\n",
       "      <th>orders</th>\n",
       "      <th>buyers</th>\n",
       "      <th>revenue</th>\n",
       "      <th>visitors</th>\n",
       "      <th>conversion</th>\n",
       "    </tr>\n",
       "  </thead>\n",
       "  <tbody>\n",
       "    <tr>\n",
       "      <td>0</td>\n",
       "      <td>2019-08-01</td>\n",
       "      <td>A</td>\n",
       "      <td>23</td>\n",
       "      <td>19</td>\n",
       "      <td>142779</td>\n",
       "      <td>719</td>\n",
       "      <td>0.031989</td>\n",
       "    </tr>\n",
       "    <tr>\n",
       "      <td>1</td>\n",
       "      <td>2019-08-01</td>\n",
       "      <td>B</td>\n",
       "      <td>17</td>\n",
       "      <td>17</td>\n",
       "      <td>59758</td>\n",
       "      <td>713</td>\n",
       "      <td>0.023843</td>\n",
       "    </tr>\n",
       "    <tr>\n",
       "      <td>2</td>\n",
       "      <td>2019-08-02</td>\n",
       "      <td>A</td>\n",
       "      <td>42</td>\n",
       "      <td>36</td>\n",
       "      <td>234381</td>\n",
       "      <td>1338</td>\n",
       "      <td>0.031390</td>\n",
       "    </tr>\n",
       "    <tr>\n",
       "      <td>3</td>\n",
       "      <td>2019-08-02</td>\n",
       "      <td>B</td>\n",
       "      <td>40</td>\n",
       "      <td>39</td>\n",
       "      <td>221801</td>\n",
       "      <td>1294</td>\n",
       "      <td>0.030912</td>\n",
       "    </tr>\n",
       "    <tr>\n",
       "      <td>4</td>\n",
       "      <td>2019-08-03</td>\n",
       "      <td>A</td>\n",
       "      <td>66</td>\n",
       "      <td>60</td>\n",
       "      <td>346854</td>\n",
       "      <td>1845</td>\n",
       "      <td>0.035772</td>\n",
       "    </tr>\n",
       "  </tbody>\n",
       "</table>\n",
       "</div>"
      ],
      "text/plain": [
       "        date group  orders  buyers  revenue  visitors  conversion\n",
       "0 2019-08-01  A     23      19      142779   719       0.031989  \n",
       "1 2019-08-01  B     17      17      59758    713       0.023843  \n",
       "2 2019-08-02  A     42      36      234381   1338      0.031390  \n",
       "3 2019-08-02  B     40      39      221801   1294      0.030912  \n",
       "4 2019-08-03  A     66      60      346854   1845      0.035772  "
      ]
     },
     "metadata": {},
     "output_type": "display_data"
    }
   ],
   "source": [
    "data_cum = orders_agregated.merge(visitors_agregated, on=['date', 'group'])\n",
    "data_cum['conversion'] = data_cum['orders'] / data_cum['visitors']\n",
    "display(data_cum.head())"
   ]
  },
  {
   "cell_type": "markdown",
   "metadata": {},
   "source": [
    "Объединила данные о заказах и визитах в одну таблицу, посчитала конверсию."
   ]
  },
  {
   "cell_type": "code",
   "execution_count": 20,
   "metadata": {},
   "outputs": [],
   "source": [
    "data_cum_A = data_cum[data_cum['group'] == 'A']\n",
    "data_cum_B = data_cum[data_cum['group'] == 'B']"
   ]
  },
  {
   "cell_type": "markdown",
   "metadata": {},
   "source": [
    "Выделила данные по группам."
   ]
  },
  {
   "cell_type": "code",
   "execution_count": 21,
   "metadata": {},
   "outputs": [
    {
     "data": {
      "image/png": "[encoded data removed]",
      "text/plain": [
       "<Figure size 864x504 with 1 Axes>"
      ]
     },
     "metadata": {
      "needs_background": "light"
     },
     "output_type": "display_data"
    }
   ],
   "source": [
    "plt.figure(figsize=(12, 7))\n",
    "plt.title('Кумулятивная конверсия по группам')\n",
    "plt.plot(data_cum_A['date'], data_cum_A['conversion'], label = 'A')\n",
    "plt.plot(data_cum_B['date'], data_cum_B['conversion'], label = 'B')\n",
    "plt.legend()\n",
    "plt.xlabel('дата')\n",
    "plt.show()"
   ]
  },
  {
   "cell_type": "markdown",
   "metadata": {},
   "source": [
    "Конверсия по группе А сначала превышала конверсию по группе В, но с 6 августа просела и колеблется на уровне 0.024 - 0.026. Конверсия по группе В до 18 августа неравномерно росла и падала, с 18 августа колеблется на уровне 0.028 - 0.030."
   ]
  },
  {
   "cell_type": "markdown",
   "metadata": {},
   "source": [
    "### Относительное изменение кумулятивной конверсии группы В к кумулятивной конверсии группы А."
   ]
  },
  {
   "cell_type": "code",
   "execution_count": 22,
   "metadata": {},
   "outputs": [
    {
     "data": {
      "text/html": [
       "<div>\n",
       "<style scoped>\n",
       "    .dataframe tbody tr th:only-of-type {\n",
       "        vertical-align: middle;\n",
       "    }\n",
       "\n",
       "    .dataframe tbody tr th {\n",
       "        vertical-align: top;\n",
       "    }\n",
       "\n",
       "    .dataframe thead th {\n",
       "        text-align: right;\n",
       "    }\n",
       "</style>\n",
       "<table border=\"1\" class=\"dataframe\">\n",
       "  <thead>\n",
       "    <tr style=\"text-align: right;\">\n",
       "      <th></th>\n",
       "      <th>date</th>\n",
       "      <th>conversionA</th>\n",
       "      <th>conversionB</th>\n",
       "    </tr>\n",
       "  </thead>\n",
       "  <tbody>\n",
       "    <tr>\n",
       "      <td>0</td>\n",
       "      <td>2019-08-01</td>\n",
       "      <td>0.031989</td>\n",
       "      <td>0.023843</td>\n",
       "    </tr>\n",
       "    <tr>\n",
       "      <td>1</td>\n",
       "      <td>2019-08-02</td>\n",
       "      <td>0.031390</td>\n",
       "      <td>0.030912</td>\n",
       "    </tr>\n",
       "    <tr>\n",
       "      <td>2</td>\n",
       "      <td>2019-08-03</td>\n",
       "      <td>0.035772</td>\n",
       "      <td>0.029950</td>\n",
       "    </tr>\n",
       "    <tr>\n",
       "      <td>3</td>\n",
       "      <td>2019-08-04</td>\n",
       "      <td>0.030055</td>\n",
       "      <td>0.026428</td>\n",
       "    </tr>\n",
       "    <tr>\n",
       "      <td>4</td>\n",
       "      <td>2019-08-05</td>\n",
       "      <td>0.029837</td>\n",
       "      <td>0.027134</td>\n",
       "    </tr>\n",
       "  </tbody>\n",
       "</table>\n",
       "</div>"
      ],
      "text/plain": [
       "        date  conversionA  conversionB\n",
       "0 2019-08-01  0.031989     0.023843   \n",
       "1 2019-08-02  0.031390     0.030912   \n",
       "2 2019-08-03  0.035772     0.029950   \n",
       "3 2019-08-04  0.030055     0.026428   \n",
       "4 2019-08-05  0.029837     0.027134   "
      ]
     },
     "metadata": {},
     "output_type": "display_data"
    }
   ],
   "source": [
    "cum_conversion = data_cum_A[['date', 'conversion']].merge(data_cum_B[['date', 'conversion']], on='date', suffixes=['A', 'B'])\n",
    "display(cum_conversion.head())"
   ]
  },
  {
   "cell_type": "markdown",
   "metadata": {},
   "source": [
    "Выделила кумулятивную конверсию по группам в отдельную таблицу."
   ]
  },
  {
   "cell_type": "code",
   "execution_count": 23,
   "metadata": {},
   "outputs": [
    {
     "data": {
      "image/png": "[encoded data removed]",
      "text/plain": [
       "<Figure size 864x432 with 1 Axes>"
      ]
     },
     "metadata": {
      "needs_background": "light"
     },
     "output_type": "display_data"
    }
   ],
   "source": [
    "plt.figure(figsize=(12, 6))\n",
    "plt.title('Относительное изменение кумулятивной конверсии группы В к группе А')\n",
    "plt.plot(cum_conversion['date'], cum_conversion['conversionB']/cum_conversion['conversionA'] - 1)\n",
    "plt.axhline(y=0, color='grey', linestyle='--') \n",
    "plt.xlabel('дата')\n",
    "plt.show()"
   ]
  },
  {
   "cell_type": "markdown",
   "metadata": {},
   "source": [
    "### Вывод.\n",
    "Начиная с 6 августа кумулятивная конверсия группы В превышает кумулятивную конверсию группы А. С 19 августа превышение колеблется в диапазоне 0.10 - 0.20.\n",
    "\n",
    "Возможно в период 1-19 августа  были какие-то выбросы, вызвавшие резкое колебание конверсии."
   ]
  },
  {
   "cell_type": "markdown",
   "metadata": {},
   "source": [
    "### Количество заказов по пользователям."
   ]
  },
  {
   "cell_type": "code",
   "execution_count": 24,
   "metadata": {},
   "outputs": [
    {
     "data": {
      "text/html": [
       "<div>\n",
       "<style scoped>\n",
       "    .dataframe tbody tr th:only-of-type {\n",
       "        vertical-align: middle;\n",
       "    }\n",
       "\n",
       "    .dataframe tbody tr th {\n",
       "        vertical-align: top;\n",
       "    }\n",
       "\n",
       "    .dataframe thead th {\n",
       "        text-align: right;\n",
       "    }\n",
       "</style>\n",
       "<table border=\"1\" class=\"dataframe\">\n",
       "  <thead>\n",
       "    <tr style=\"text-align: right;\">\n",
       "      <th></th>\n",
       "      <th>visitorId</th>\n",
       "      <th>orders</th>\n",
       "    </tr>\n",
       "  </thead>\n",
       "  <tbody>\n",
       "    <tr>\n",
       "      <td>908</td>\n",
       "      <td>3967698036</td>\n",
       "      <td>3</td>\n",
       "    </tr>\n",
       "    <tr>\n",
       "      <td>55</td>\n",
       "      <td>249864742</td>\n",
       "      <td>3</td>\n",
       "    </tr>\n",
       "    <tr>\n",
       "      <td>478</td>\n",
       "      <td>2108163459</td>\n",
       "      <td>3</td>\n",
       "    </tr>\n",
       "    <tr>\n",
       "      <td>687</td>\n",
       "      <td>2988190573</td>\n",
       "      <td>3</td>\n",
       "    </tr>\n",
       "    <tr>\n",
       "      <td>890</td>\n",
       "      <td>3908431265</td>\n",
       "      <td>3</td>\n",
       "    </tr>\n",
       "    <tr>\n",
       "      <td>138</td>\n",
       "      <td>611059232</td>\n",
       "      <td>3</td>\n",
       "    </tr>\n",
       "    <tr>\n",
       "      <td>632</td>\n",
       "      <td>2742574263</td>\n",
       "      <td>3</td>\n",
       "    </tr>\n",
       "    <tr>\n",
       "      <td>157</td>\n",
       "      <td>678354126</td>\n",
       "      <td>2</td>\n",
       "    </tr>\n",
       "    <tr>\n",
       "      <td>323</td>\n",
       "      <td>1404560065</td>\n",
       "      <td>2</td>\n",
       "    </tr>\n",
       "    <tr>\n",
       "      <td>452</td>\n",
       "      <td>1985475298</td>\n",
       "      <td>2</td>\n",
       "    </tr>\n",
       "  </tbody>\n",
       "</table>\n",
       "</div>"
      ],
      "text/plain": [
       "      visitorId  orders\n",
       "908  3967698036  3     \n",
       "55   249864742   3     \n",
       "478  2108163459  3     \n",
       "687  2988190573  3     \n",
       "890  3908431265  3     \n",
       "138  611059232   3     \n",
       "632  2742574263  3     \n",
       "157  678354126   2     \n",
       "323  1404560065  2     \n",
       "452  1985475298  2     "
      ]
     },
     "metadata": {},
     "output_type": "display_data"
    }
   ],
   "source": [
    "orders_by_users = (orders1.drop(['date', 'revenue', 'group'], axis=1).\n",
    "                   groupby('visitorId')['transactionId'].nunique()).reset_index()\n",
    "orders_by_users.columns = ['visitorId', 'orders']\n",
    "display(orders_by_users.sort_values(by='orders', ascending=False).head(10))"
   ]
  },
  {
   "cell_type": "markdown",
   "metadata": {},
   "source": [
    "В отдельной таблице посчитала количество заказов на одного покупателя."
   ]
  },
  {
   "cell_type": "code",
   "execution_count": 25,
   "metadata": {},
   "outputs": [
    {
     "data": {
      "image/png": "[encoded data removed]",
      "text/plain": [
       "<Figure size 432x288 with 1 Axes>"
      ]
     },
     "metadata": {
      "needs_background": "light"
     },
     "output_type": "display_data"
    }
   ],
   "source": [
    "x_values = pd.Series(range(0,len(orders_by_users)))\n",
    "plt.title('Количество заказов на одного покупателя')\n",
    "plt.scatter(x_values, orders_by_users['orders'])\n",
    "plt.xlabel('количество пользователей')\n",
    "plt.ylabel('количество заказов')\n",
    "plt.show()"
   ]
  },
  {
   "cell_type": "markdown",
   "metadata": {},
   "source": [
    "Подавляющее большинство покупателей за время проведения теста делали заказ один раз, однако также много покупателей совершали 2 заказа, это не единичные случаи, для определения их доли нужно посчитать перцентили."
   ]
  },
  {
   "cell_type": "code",
   "execution_count": 26,
   "metadata": {},
   "outputs": [
    {
     "name": "stdout",
     "output_type": "stream",
     "text": [
      "[1. 2.]\n"
     ]
    }
   ],
   "source": [
    "print(np.percentile(orders_by_users['orders'], [95, 99])) "
   ]
  },
  {
   "cell_type": "markdown",
   "metadata": {},
   "source": [
    "### Вывод.\n",
    "5% покупателей совершили более 1 заказа за время исследования, 1% покупателей совершили более 2-х заказов.\n",
    "\n",
    "Границей отсечения аномального числа заказов буду считать более 2-х заказов на одного пользователя (99 перцентиль). 2 покупки в месяц, это все-таки не 4, мне кажется, что их отбрасывать -  это терять не маленький объем данных."
   ]
  },
  {
   "cell_type": "markdown",
   "metadata": {},
   "source": [
    "### Стоимость заказов."
   ]
  },
  {
   "cell_type": "code",
   "execution_count": 27,
   "metadata": {},
   "outputs": [
    {
     "data": {
      "image/png": "[encoded data removed]",
      "text/plain": [
       "<Figure size 432x288 with 1 Axes>"
      ]
     },
     "metadata": {
      "needs_background": "light"
     },
     "output_type": "display_data"
    }
   ],
   "source": [
    "x_values = pd.Series(range(0,len(orders['revenue'])))\n",
    "plt.title('Стоимость заказов')\n",
    "plt.scatter(x_values, orders['revenue'])\n",
    "plt.xlabel('количество пользователей')\n",
    "plt.ylabel('стоимость заказа')\n",
    "plt.show()"
   ]
  },
  {
   "cell_type": "code",
   "execution_count": 28,
   "metadata": {},
   "outputs": [
    {
     "data": {
      "image/png": "[encoded data removed]",
      "text/plain": [
       "<Figure size 432x288 with 1 Axes>"
      ]
     },
     "metadata": {
      "needs_background": "light"
     },
     "output_type": "display_data"
    }
   ],
   "source": [
    "x_values = pd.Series(range(0,len(orders['revenue'])))\n",
    "plt.title('Стоимость заказов до 100 тысяч')\n",
    "plt.scatter(x_values, orders['revenue'])\n",
    "plt.xlabel('количество пользователей')\n",
    "plt.ylabel('стоимость заказа')\n",
    "plt.ylim([0, 100000])\n",
    "plt.show()"
   ]
  },
  {
   "cell_type": "markdown",
   "metadata": {},
   "source": [
    "Большая часть заказов была совершена на сумму не превышающую 40 тысяч у.е., что хорошо видно на втором графике, однако есть заказы на сумму 200 тысяч и 1200 тысяч, это очень похоже на выбросы. "
   ]
  },
  {
   "cell_type": "code",
   "execution_count": 29,
   "metadata": {},
   "outputs": [
    {
     "name": "stdout",
     "output_type": "stream",
     "text": [
      "[26785. 53904.]\n"
     ]
    }
   ],
   "source": [
    "print(np.percentile(orders1['revenue'], [95, 99])) "
   ]
  },
  {
   "cell_type": "markdown",
   "metadata": {},
   "source": [
    "### Вывод.\n",
    "5% заказов дороже 26.7 тысяч у.е. и 1% заказов дороже 53.9 тысяч у.е.\n",
    "\n",
    "Аномально дорогим заказом для целей нашего теста считаю заказы от 27 тысяч у.е. В данном случае беру 95 перцентиль, сумма 53.9 - это уже очень крупная для покупок за месяц не только для регионов, но и для крупных столичных округов, мне кажется, что если взять одинаковый перцентиль для определения аномалий в количестве покупок и в сумме заказа, то это может исказить картину."
   ]
  },
  {
   "cell_type": "markdown",
   "metadata": {},
   "source": [
    "### Различия между тестовыми группами по \"сырым\" данным."
   ]
  },
  {
   "cell_type": "markdown",
   "metadata": {},
   "source": [
    "#### Различия в конверсии."
   ]
  },
  {
   "cell_type": "code",
   "execution_count": 30,
   "metadata": {},
   "outputs": [
    {
     "data": {
      "text/html": [
       "<div>\n",
       "<style scoped>\n",
       "    .dataframe tbody tr th:only-of-type {\n",
       "        vertical-align: middle;\n",
       "    }\n",
       "\n",
       "    .dataframe tbody tr th {\n",
       "        vertical-align: top;\n",
       "    }\n",
       "\n",
       "    .dataframe thead th {\n",
       "        text-align: right;\n",
       "    }\n",
       "</style>\n",
       "<table border=\"1\" class=\"dataframe\">\n",
       "  <thead>\n",
       "    <tr style=\"text-align: right;\">\n",
       "      <th></th>\n",
       "      <th>date</th>\n",
       "      <th>visitors_dateA</th>\n",
       "    </tr>\n",
       "  </thead>\n",
       "  <tbody>\n",
       "    <tr>\n",
       "      <td>0</td>\n",
       "      <td>2019-08-01</td>\n",
       "      <td>719</td>\n",
       "    </tr>\n",
       "    <tr>\n",
       "      <td>1</td>\n",
       "      <td>2019-08-02</td>\n",
       "      <td>619</td>\n",
       "    </tr>\n",
       "    <tr>\n",
       "      <td>2</td>\n",
       "      <td>2019-08-03</td>\n",
       "      <td>507</td>\n",
       "    </tr>\n",
       "    <tr>\n",
       "      <td>3</td>\n",
       "      <td>2019-08-04</td>\n",
       "      <td>717</td>\n",
       "    </tr>\n",
       "    <tr>\n",
       "      <td>4</td>\n",
       "      <td>2019-08-05</td>\n",
       "      <td>756</td>\n",
       "    </tr>\n",
       "  </tbody>\n",
       "</table>\n",
       "</div>"
      ],
      "text/plain": [
       "        date  visitors_dateA\n",
       "0 2019-08-01  719           \n",
       "1 2019-08-02  619           \n",
       "2 2019-08-03  507           \n",
       "3 2019-08-04  717           \n",
       "4 2019-08-05  756           "
      ]
     },
     "metadata": {},
     "output_type": "display_data"
    },
    {
     "data": {
      "text/html": [
       "<div>\n",
       "<style scoped>\n",
       "    .dataframe tbody tr th:only-of-type {\n",
       "        vertical-align: middle;\n",
       "    }\n",
       "\n",
       "    .dataframe tbody tr th {\n",
       "        vertical-align: top;\n",
       "    }\n",
       "\n",
       "    .dataframe thead th {\n",
       "        text-align: right;\n",
       "    }\n",
       "</style>\n",
       "<table border=\"1\" class=\"dataframe\">\n",
       "  <thead>\n",
       "    <tr style=\"text-align: right;\">\n",
       "      <th></th>\n",
       "      <th>date</th>\n",
       "      <th>visitors_dateB</th>\n",
       "    </tr>\n",
       "  </thead>\n",
       "  <tbody>\n",
       "    <tr>\n",
       "      <td>31</td>\n",
       "      <td>2019-08-01</td>\n",
       "      <td>713</td>\n",
       "    </tr>\n",
       "    <tr>\n",
       "      <td>32</td>\n",
       "      <td>2019-08-02</td>\n",
       "      <td>581</td>\n",
       "    </tr>\n",
       "    <tr>\n",
       "      <td>33</td>\n",
       "      <td>2019-08-03</td>\n",
       "      <td>509</td>\n",
       "    </tr>\n",
       "    <tr>\n",
       "      <td>34</td>\n",
       "      <td>2019-08-04</td>\n",
       "      <td>770</td>\n",
       "    </tr>\n",
       "    <tr>\n",
       "      <td>35</td>\n",
       "      <td>2019-08-05</td>\n",
       "      <td>707</td>\n",
       "    </tr>\n",
       "  </tbody>\n",
       "</table>\n",
       "</div>"
      ],
      "text/plain": [
       "         date  visitors_dateB\n",
       "31 2019-08-01  713           \n",
       "32 2019-08-02  581           \n",
       "33 2019-08-03  509           \n",
       "34 2019-08-04  770           \n",
       "35 2019-08-05  707           "
      ]
     },
     "metadata": {},
     "output_type": "display_data"
    }
   ],
   "source": [
    "visitors_dailyA = visitors[visitors['group'] == 'A'][['date', 'visitors']]\n",
    "visitors_dailyA.columns = ['date', 'visitors_dateA']\n",
    "\n",
    "visitors_dailyB = visitors[visitors['group'] == 'B'][['date', 'visitors']]\n",
    "visitors_dailyB.columns = ['date', 'visitors_dateB']\n",
    "display(visitors_dailyA.head())\n",
    "display(visitors_dailyB.head())"
   ]
  },
  {
   "cell_type": "markdown",
   "metadata": {},
   "source": [
    "выбрала в отдельные таблицы количество посетителей за каждую дату в разрезе групп."
   ]
  },
  {
   "cell_type": "code",
   "execution_count": 31,
   "metadata": {},
   "outputs": [
    {
     "data": {
      "text/html": [
       "<div>\n",
       "<style scoped>\n",
       "    .dataframe tbody tr th:only-of-type {\n",
       "        vertical-align: middle;\n",
       "    }\n",
       "\n",
       "    .dataframe tbody tr th {\n",
       "        vertical-align: top;\n",
       "    }\n",
       "\n",
       "    .dataframe thead th {\n",
       "        text-align: right;\n",
       "    }\n",
       "</style>\n",
       "<table border=\"1\" class=\"dataframe\">\n",
       "  <thead>\n",
       "    <tr style=\"text-align: right;\">\n",
       "      <th></th>\n",
       "      <th>visitorId</th>\n",
       "      <th>orders</th>\n",
       "    </tr>\n",
       "  </thead>\n",
       "  <tbody>\n",
       "    <tr>\n",
       "      <td>0</td>\n",
       "      <td>11685486</td>\n",
       "      <td>1</td>\n",
       "    </tr>\n",
       "    <tr>\n",
       "      <td>1</td>\n",
       "      <td>54447517</td>\n",
       "      <td>1</td>\n",
       "    </tr>\n",
       "    <tr>\n",
       "      <td>2</td>\n",
       "      <td>66685450</td>\n",
       "      <td>1</td>\n",
       "    </tr>\n",
       "    <tr>\n",
       "      <td>3</td>\n",
       "      <td>78758296</td>\n",
       "      <td>1</td>\n",
       "    </tr>\n",
       "    <tr>\n",
       "      <td>4</td>\n",
       "      <td>85103373</td>\n",
       "      <td>1</td>\n",
       "    </tr>\n",
       "  </tbody>\n",
       "</table>\n",
       "</div>"
      ],
      "text/plain": [
       "   visitorId  orders\n",
       "0  11685486   1     \n",
       "1  54447517   1     \n",
       "2  66685450   1     \n",
       "3  78758296   1     \n",
       "4  85103373   1     "
      ]
     },
     "metadata": {},
     "output_type": "display_data"
    },
    {
     "data": {
      "text/html": [
       "<div>\n",
       "<style scoped>\n",
       "    .dataframe tbody tr th:only-of-type {\n",
       "        vertical-align: middle;\n",
       "    }\n",
       "\n",
       "    .dataframe tbody tr th {\n",
       "        vertical-align: top;\n",
       "    }\n",
       "\n",
       "    .dataframe thead th {\n",
       "        text-align: right;\n",
       "    }\n",
       "</style>\n",
       "<table border=\"1\" class=\"dataframe\">\n",
       "  <thead>\n",
       "    <tr style=\"text-align: right;\">\n",
       "      <th></th>\n",
       "      <th>visitorId</th>\n",
       "      <th>orders</th>\n",
       "    </tr>\n",
       "  </thead>\n",
       "  <tbody>\n",
       "    <tr>\n",
       "      <td>0</td>\n",
       "      <td>5114589</td>\n",
       "      <td>1</td>\n",
       "    </tr>\n",
       "    <tr>\n",
       "      <td>1</td>\n",
       "      <td>6958315</td>\n",
       "      <td>1</td>\n",
       "    </tr>\n",
       "    <tr>\n",
       "      <td>2</td>\n",
       "      <td>39475350</td>\n",
       "      <td>1</td>\n",
       "    </tr>\n",
       "    <tr>\n",
       "      <td>3</td>\n",
       "      <td>47206413</td>\n",
       "      <td>1</td>\n",
       "    </tr>\n",
       "    <tr>\n",
       "      <td>4</td>\n",
       "      <td>48147722</td>\n",
       "      <td>1</td>\n",
       "    </tr>\n",
       "  </tbody>\n",
       "</table>\n",
       "</div>"
      ],
      "text/plain": [
       "   visitorId  orders\n",
       "0  5114589    1     \n",
       "1  6958315    1     \n",
       "2  39475350   1     \n",
       "3  47206413   1     \n",
       "4  48147722   1     "
      ]
     },
     "metadata": {},
     "output_type": "display_data"
    }
   ],
   "source": [
    "orders_by_usersA = (orders1[orders1['group'] == 'A'].\n",
    "                    groupby('visitorId')['transactionId'].nunique()).reset_index()\n",
    "orders_by_usersA.columns = ['visitorId', 'orders']\n",
    "orders_by_usersB = (orders1[orders1['group'] == 'B'].\n",
    "                    groupby('visitorId')['transactionId'].nunique()).reset_index()\n",
    "orders_by_usersB.columns = ['visitorId', 'orders']\n",
    "display(orders_by_usersA.head())\n",
    "display(orders_by_usersB.head())"
   ]
  },
  {
   "cell_type": "markdown",
   "metadata": {},
   "source": [
    "Посчитала количество совершенных заказов для каждого пользователя в разрезе групп."
   ]
  },
  {
   "cell_type": "code",
   "execution_count": 32,
   "metadata": {},
   "outputs": [],
   "source": [
    "sampleA = pd.concat([orders_by_usersA['orders'], pd.Series(0,\n",
    "        index=np.arange(visitors_dailyA['visitors_dateA'].sum() - len(orders_by_usersA['orders'])),\n",
    "        name='orders')], axis=0)\n",
    "sampleB = pd.concat([orders_by_usersB['orders'], pd.Series(0,\n",
    "        index=np.arange(visitors_dailyB['visitors_dateB'].sum() - len(orders_by_usersB['orders'])),\n",
    "        name='orders')], axis=0)"
   ]
  },
  {
   "cell_type": "markdown",
   "metadata": {},
   "source": [
    "Создала переменные, в которых пользователям из разных групп соответствует количество заказов,  тем пользователям, котрые ничего не заказали, соответствуют нули."
   ]
  },
  {
   "cell_type": "code",
   "execution_count": 33,
   "metadata": {},
   "outputs": [
    {
     "name": "stdout",
     "output_type": "stream",
     "text": [
      "Статистическая значимость различий в конверсии 0.011\n",
      "Относительные различия конверсии 0.160\n"
     ]
    }
   ],
   "source": [
    "print('Статистическая значимость различий в конверсии', \"{0:.3f}\".format(\n",
    "    stats.mannwhitneyu(sampleA, sampleB, True, 'two-sided')[1]))\n",
    "\n",
    "print('Относительные различия конверсии', \"{0:.3f}\".format(sampleB.mean() / sampleA.mean() - 1))"
   ]
  },
  {
   "cell_type": "markdown",
   "metadata": {},
   "source": [
    "#### Вывод.\n",
    "Нулевая гипотеза: нет различий в распределении конверсии между двумя группами тестирования. Альтернативная гипотеза: распределение конверсии в двух группах тестирования различается.\n",
    "\n",
    "Статистическая значимость различий в конверсии меньше 0.05, значит отвергаем нулевую гипотезу о том, что статистически значимых различий в конверсии между группами нет.\n",
    "\n",
    "Относительное превышение конверсии группы В над группой А составляет 16%."
   ]
  },
  {
   "cell_type": "markdown",
   "metadata": {},
   "source": [
    "#### Различия в среднем чеке."
   ]
  },
  {
   "cell_type": "code",
   "execution_count": 34,
   "metadata": {},
   "outputs": [
    {
     "name": "stdout",
     "output_type": "stream",
     "text": [
      "Статистическая значимость различий в среднем чеке 0.829\n",
      "Относительные различия в среднем чеке 0.287\n"
     ]
    }
   ],
   "source": [
    "print('Статистическая значимость различий в среднем чеке', '{0:.3f}'.format(stats.mannwhitneyu\n",
    "            (orders1[orders1['group']=='A']['revenue'],\n",
    "             orders1[orders1['group']=='B']['revenue'], True, 'two-sided')[1]))\n",
    "\n",
    "print('Относительные различия в среднем чеке', '{0:.3f}'.format(orders1[orders1['group']=='B']\n",
    "            ['revenue'].mean()/orders1[orders1['group']=='A']['revenue'].mean()-1))"
   ]
  },
  {
   "cell_type": "markdown",
   "metadata": {},
   "source": [
    "#### Вывод.\n",
    "Нулевая гипотеза: нет различий в распределении среднего чека между двумя группами тестирования. Альтернативная гипотеза: распределение среднего чека в двух группах тестирования различается.\n",
    "\n",
    "Статистическая значимость различий в среднем чеке больше 0.05, значит нет причин отвергать нулевую гипотезу и считать, что в среднем чеке есть различия.\n",
    "\n",
    "При этом в средний чек группы В превышает средний чек группы А почти на 29%."
   ]
  },
  {
   "cell_type": "markdown",
   "metadata": {},
   "source": [
    "### Вывод.\n",
    "\n",
    "Конверсия группы В превышает конверсию группы А, средний чек двух тестовых групп не имеет статистически значимого различия.\n",
    "\n",
    "Необходимо проверить статистическую значимость различий на очищенных данных."
   ]
  },
  {
   "cell_type": "markdown",
   "metadata": {},
   "source": [
    "### Различия между тестовыми группами по \"очищенным\" данным."
   ]
  },
  {
   "cell_type": "markdown",
   "metadata": {},
   "source": [
    "Границей отсечения аномального числа заказов буду считать более 2-х заказов на одного пользователя.\n",
    "Аномально дорогим заказом для целей нашего теста считаю заказы от 54 тысяч у.е. "
   ]
  },
  {
   "cell_type": "code",
   "execution_count": 35,
   "metadata": {},
   "outputs": [
    {
     "data": {
      "text/plain": [
       "568     113298937\n",
       "1099    148427295\n",
       "928     204675465\n",
       "33      249864742\n",
       "684     358944393\n",
       "Name: visitorId, dtype: int64"
      ]
     },
     "metadata": {},
     "output_type": "display_data"
    },
    {
     "data": {
      "text/plain": [
       "(58,)"
      ]
     },
     "metadata": {},
     "output_type": "display_data"
    }
   ],
   "source": [
    "users_many_orders = pd.concat([orders_by_usersA[orders_by_usersA['orders'] > 2]['visitorId'],\n",
    "        orders_by_usersB[orders_by_usersB['orders'] > 2]['visitorId']], axis=0)\n",
    "users_expensive_orders = orders1[orders1['revenue'] >= 27000]['visitorId']\n",
    "abnormal_users = pd.concat([users_many_orders, users_expensive_orders], axis=0).drop_duplicates().sort_values()\n",
    "display(abnormal_users.head())\n",
    "display(abnormal_users.shape)"
   ]
  },
  {
   "cell_type": "markdown",
   "metadata": {},
   "source": [
    "Выбрала покупателей, сделавших более 2-х заказов и покупателей, сделавших заказы на суммы от 27 тысяч у.е., объединила в одну таблицу, удалила возможные дубликаты.\n",
    "\n",
    "Посчитала общее количество покупателей, отклоняющихся от заданных параметров - 58."
   ]
  },
  {
   "cell_type": "code",
   "execution_count": 36,
   "metadata": {},
   "outputs": [],
   "source": [
    "sampleA_normal = pd.concat([orders_by_usersA[np.logical_not(orders_by_usersA['visitorId'].isin(abnormal_users))]\n",
    "                ['orders'], pd.Series(0, index=np.arange(visitors_dailyA['visitors_dateA'].sum() -\n",
    "                len(orders_by_usersA['orders'])), name='orders')], axis=0)\n",
    "sampleB_normal = pd.concat([orders_by_usersB[np.logical_not(orders_by_usersB['visitorId'].\n",
    "                isin(abnormal_users))]['orders'], pd.Series(0, index=np.arange(\n",
    "                visitors_dailyB['visitors_dateB'].sum() - len(orders_by_usersB['orders'])),\n",
    "                name='orders')], axis=0) "
   ]
  },
  {
   "cell_type": "markdown",
   "metadata": {},
   "source": [
    "Создала переменные на очищенных от выбросов данных, в которых пользователям из разных групп соответствует количество заказов, тем пользователям, котрые ничего не заказали, соответствуют нули."
   ]
  },
  {
   "cell_type": "code",
   "execution_count": 37,
   "metadata": {},
   "outputs": [
    {
     "name": "stdout",
     "output_type": "stream",
     "text": [
      "Статистическая значимость различий в конверсии 0.012\n",
      "Относительные различия конверсии 0.182\n"
     ]
    }
   ],
   "source": [
    "print('Статистическая значимость различий в конверсии', \"{0:.3f}\".format(\n",
    "    stats.mannwhitneyu(sampleA_normal, sampleB_normal, True, 'two-sided')[1]))\n",
    "\n",
    "print('Относительные различия конверсии', \"{0:.3f}\".format(sampleB_normal.mean() / \n",
    "                                                           sampleA_normal.mean() - 1))"
   ]
  },
  {
   "cell_type": "markdown",
   "metadata": {},
   "source": [
    "Нулевая гипотеза: нет различий в распределении конверсии между двумя группами тестирования. Альтернативная гипотеза: распределение конверсии в двух группах тестирования различается.\n",
    "\n",
    "Статистическая значимость различий в конверсии меньше 0.05, значит отвергаем нулевую гипотезу о том, что статистически значимых различий в конверсии между группами нет.\n",
    "\n",
    "Относительное превышение конверсии группы В над группой А на очищенных данных выше, чем на сырых и составляет 18%."
   ]
  },
  {
   "cell_type": "code",
   "execution_count": 38,
   "metadata": {},
   "outputs": [
    {
     "name": "stdout",
     "output_type": "stream",
     "text": [
      "Статистическая значимость различий в среднем чеке 0.646\n",
      "Относительные различия в среднем чеке -0.048\n"
     ]
    }
   ],
   "source": [
    "print('Статистическая значимость различий в среднем чеке', '{0:.3f}'.format(stats.mannwhitneyu\n",
    "            (orders1[np.logical_and(orders1['group']=='A',\n",
    "            np.logical_not(orders['visitorId'].isin(abnormal_users)))]['revenue'],\n",
    "            orders1[np.logical_and(orders1['group']=='B', np.logical_not(orders1['visitorId'].\n",
    "            isin(abnormal_users)))]['revenue'], True, 'two-sided')[1]))\n",
    "print('Относительные различия в среднем чеке', '{0:.3f}'.format(orders1[np.logical_and(\n",
    "            orders1['group']=='B', np.logical_not(orders1['visitorId'].isin(abnormal_users)))]\n",
    "            ['revenue'].mean()/orders1[np.logical_and(orders1['group']=='A', np.logical_not(\n",
    "                orders1['visitorId'].isin(abnormal_users)))]['revenue'].mean()-1))"
   ]
  },
  {
   "cell_type": "markdown",
   "metadata": {},
   "source": [
    "Нулевая гипотеза: нет различий в распределении среднего чека на очищенных данных между двумя группами тестирования. Альтернативная гипотеза: распределение среднего чека на очищенных данных в двух группах тестирования различается.\n",
    "\n",
    "Статистическая значимость различий в среднем чеке больше 0.05, значит нет причин отвергать нулевую гипотезу, считаем, что в среднем чеке нет различий.\n",
    "\n",
    "При этом в средний чек группы В после исключения выбросов ниже среднего чека группы А на 4%, что подтверждает нулевую гипотезу."
   ]
  },
  {
   "cell_type": "markdown",
   "metadata": {},
   "source": [
    "### Вывод.\n",
    "Целью проекта являлась приоритизация гиоптез и проведение анализа результатов А/В тестирования гипотез.\n",
    "\n",
    "Приоритизиция гипотез была проведена методами ICE (на основе влияний изменений на пользователей, уверенности компании во влиянии на пользователей и стоимости тестирования гипотезы) и RICE (на основании охвата пользователей, влияний изменений на пользователей, уверенности компании во влиянии на пользователей и стоимости тестирования гипотезы). По итогам применения обоих методов пятерка приоритетных гипотез совпала.\n",
    "\n",
    "Анализ результатов А/В тестирования проведен на основании данных о совершенных пользователями покупках и количестве покупок за каждую дату.\n",
    "\n",
    "Данные проверила на отсутствие дубликатов в каждой группе и пользователей, попавших в обе группы тестирования. Таких пользователей оказалось 58, хотя это составляет около 1% для каждой группы, исключила их из данных для чистоты проверки.\n",
    "\n",
    "Анализировала конверсию и средний чек для обеих тестовых групп (сначала на сырых данных, затем на очищенных от выбросов). В качестве выбросов исключила большое количество покупок на одного покупателя (более 2-х) и дорогие покупки - от 27 тысяч у.е.\n",
    "\n",
    "Первоначально проверила кумулятивные метрики.\n",
    "\n",
    "Кумулятивная конверсия группы В превышает кумулятивную конверсию группы А, с 19 августа превышение колеблется в диапазоне 0.1 - 0.2.\n",
    "\n",
    "График различия среднего чека для тестовых групп сильно колеблется, данные по нему неоднозначные.\n",
    "\n",
    "Следующим шагом проверяла статистическую значимость различий в конверсии и среднем чеке между тетсовыми группами и относительное различие метрик.\n",
    "\n",
    "Конверсия тестовых групп имеет статистически значимое различие как по сырым данным, так и после фильтрации аномалий. Показатель (p-value меньше 0.05 и составляет 0.011 для сырых и 0.012 для очищенных данны\n",
    "\n",
    "Относительное превышение конверсии группы В над группой А на очищенных данных выше, чем на сырых и составляет 18% (на сырых данных - 16%).\n",
    "\n",
    "По сырым и очищенным данным средний чек тестовых групп практически не имеет статистически значимых различий (p-value больше 0.05 и составляет 0.82 для сырых и 0.78 для очищенных данных).\n",
    "\n",
    "Относительное превышение среднего чека группы А над группой В на очищенных данных составляет 4%, тогда как до удаления выбросов средний чек группы В превышал средний чек группы А на 29%. По этим данным выводов сделать нельзя.\n",
    "\n",
    "Считаю, что по результатам роста конверсии в тестовой группе В (конверсия группы В уверенно превышает конверсию группы А) нужно остановить тест и зафиксировать победу группы В."
   ]
  }
 ],
 "metadata": {
  "ExecuteTimeLog": [
   {
    "duration": 934,
    "start_time": "2021-08-22T12:32:42.415Z"
   },
   {
    "duration": 33,
    "start_time": "2021-08-22T12:33:09.016Z"
   },
   {
    "duration": 374,
    "start_time": "2021-08-22T12:41:58.654Z"
   },
   {
    "duration": 285,
    "start_time": "2021-08-22T12:42:14.867Z"
   },
   {
    "duration": 305,
    "start_time": "2021-08-22T12:43:16.937Z"
   },
   {
    "duration": 41,
    "start_time": "2021-08-22T12:43:24.507Z"
   },
   {
    "duration": 272,
    "start_time": "2021-08-22T12:43:31.316Z"
   },
   {
    "duration": 12,
    "start_time": "2021-08-22T12:44:39.398Z"
   },
   {
    "duration": 11,
    "start_time": "2021-08-22T12:45:37.341Z"
   },
   {
    "duration": 12,
    "start_time": "2021-08-22T12:55:57.234Z"
   },
   {
    "duration": 13,
    "start_time": "2021-08-22T12:59:37.983Z"
   },
   {
    "duration": 13,
    "start_time": "2021-08-22T13:11:12.645Z"
   },
   {
    "duration": 16,
    "start_time": "2021-08-22T13:12:35.356Z"
   },
   {
    "duration": 11,
    "start_time": "2021-08-22T13:13:58.072Z"
   },
   {
    "duration": 6969,
    "start_time": "2021-08-22T13:17:16.644Z"
   },
   {
    "duration": 12,
    "start_time": "2021-08-22T13:17:40.409Z"
   },
   {
    "duration": 26,
    "start_time": "2021-08-22T13:17:48.170Z"
   },
   {
    "duration": 23,
    "start_time": "2021-08-22T13:17:48.199Z"
   },
   {
    "duration": 23,
    "start_time": "2021-08-22T13:17:48.226Z"
   },
   {
    "duration": 17,
    "start_time": "2021-08-22T13:17:48.252Z"
   },
   {
    "duration": 27,
    "start_time": "2021-08-22T13:25:16.271Z"
   },
   {
    "duration": 13,
    "start_time": "2021-08-22T13:25:20.075Z"
   },
   {
    "duration": 11,
    "start_time": "2021-08-22T13:25:23.550Z"
   },
   {
    "duration": 55,
    "start_time": "2021-08-22T13:26:13.001Z"
   },
   {
    "duration": 31,
    "start_time": "2021-08-22T13:27:17.795Z"
   },
   {
    "duration": 15,
    "start_time": "2021-08-22T13:32:07.517Z"
   },
   {
    "duration": 13,
    "start_time": "2021-08-22T13:32:37.719Z"
   },
   {
    "duration": 18,
    "start_time": "2021-08-22T13:36:48.420Z"
   },
   {
    "duration": 15,
    "start_time": "2021-08-22T13:37:17.090Z"
   },
   {
    "duration": 938,
    "start_time": "2021-08-23T09:25:31.186Z"
   },
   {
    "duration": 16,
    "start_time": "2021-08-23T09:25:32.127Z"
   },
   {
    "duration": 29,
    "start_time": "2021-08-23T09:25:32.147Z"
   },
   {
    "duration": 21,
    "start_time": "2021-08-23T09:25:32.180Z"
   },
   {
    "duration": 83,
    "start_time": "2021-08-23T09:25:32.205Z"
   },
   {
    "duration": 26,
    "start_time": "2021-08-23T09:25:32.291Z"
   },
   {
    "duration": 45,
    "start_time": "2021-08-23T09:25:32.319Z"
   },
   {
    "duration": 34,
    "start_time": "2021-08-23T09:25:32.368Z"
   },
   {
    "duration": 698,
    "start_time": "2021-08-23T09:57:38.351Z"
   },
   {
    "duration": 694,
    "start_time": "2021-08-23T09:58:53.409Z"
   },
   {
    "duration": 397,
    "start_time": "2021-08-23T10:00:55.549Z"
   },
   {
    "duration": 317,
    "start_time": "2021-08-23T10:01:44.406Z"
   },
   {
    "duration": 314,
    "start_time": "2021-08-23T10:09:57.142Z"
   },
   {
    "duration": 6831,
    "start_time": "2021-08-23T10:10:48.869Z"
   },
   {
    "duration": 7795,
    "start_time": "2021-08-23T10:11:32.996Z"
   },
   {
    "duration": 556,
    "start_time": "2021-08-23T10:12:01.572Z"
   },
   {
    "duration": 313,
    "start_time": "2021-08-23T10:12:11.004Z"
   },
   {
    "duration": 6527,
    "start_time": "2021-08-23T10:12:16.475Z"
   },
   {
    "duration": 19,
    "start_time": "2021-08-23T10:13:54.584Z"
   },
   {
    "duration": 24,
    "start_time": "2021-08-23T10:16:17.326Z"
   },
   {
    "duration": 530,
    "start_time": "2021-08-23T10:20:58.998Z"
   },
   {
    "duration": 515,
    "start_time": "2021-08-23T10:21:41.925Z"
   },
   {
    "duration": 503,
    "start_time": "2021-08-23T10:22:39.921Z"
   },
   {
    "duration": 772,
    "start_time": "2021-08-23T10:23:00.901Z"
   },
   {
    "duration": 301,
    "start_time": "2021-08-23T10:23:18.358Z"
   },
   {
    "duration": 313,
    "start_time": "2021-08-23T10:23:57.820Z"
   },
   {
    "duration": 373,
    "start_time": "2021-08-23T10:26:44.298Z"
   },
   {
    "duration": 895,
    "start_time": "2021-08-23T10:26:54.762Z"
   },
   {
    "duration": 598,
    "start_time": "2021-08-23T10:29:28.135Z"
   },
   {
    "duration": 585,
    "start_time": "2021-08-23T10:29:55.487Z"
   },
   {
    "duration": 316,
    "start_time": "2021-08-23T10:30:10.661Z"
   },
   {
    "duration": 345,
    "start_time": "2021-08-23T10:35:20.859Z"
   },
   {
    "duration": 319,
    "start_time": "2021-08-23T10:36:53.872Z"
   },
   {
    "duration": 711,
    "start_time": "2021-08-23T10:38:26.878Z"
   },
   {
    "duration": 530,
    "start_time": "2021-08-23T10:38:50.482Z"
   },
   {
    "duration": 467,
    "start_time": "2021-08-23T10:46:21.241Z"
   },
   {
    "duration": 462,
    "start_time": "2021-08-23T10:51:08.975Z"
   },
   {
    "duration": 17,
    "start_time": "2021-08-23T11:08:43.564Z"
   },
   {
    "duration": 17,
    "start_time": "2021-08-23T11:09:07.093Z"
   },
   {
    "duration": 447,
    "start_time": "2021-08-23T11:11:50.065Z"
   },
   {
    "duration": 543,
    "start_time": "2021-08-23T11:12:22.485Z"
   },
   {
    "duration": 272,
    "start_time": "2021-08-23T11:57:50.187Z"
   },
   {
    "duration": 269,
    "start_time": "2021-08-23T11:58:05.085Z"
   },
   {
    "duration": 18,
    "start_time": "2021-08-23T12:01:22.769Z"
   },
   {
    "duration": 9,
    "start_time": "2021-08-23T12:13:59.547Z"
   },
   {
    "duration": 21,
    "start_time": "2021-08-23T12:15:30.649Z"
   },
   {
    "duration": 21,
    "start_time": "2021-08-23T12:15:39.771Z"
   },
   {
    "duration": 8,
    "start_time": "2021-08-23T12:15:42.724Z"
   },
   {
    "duration": 467,
    "start_time": "2021-08-23T12:16:42.871Z"
   },
   {
    "duration": 440,
    "start_time": "2021-08-23T12:23:45.763Z"
   },
   {
    "duration": 424,
    "start_time": "2021-08-23T12:23:55.634Z"
   },
   {
    "duration": 405,
    "start_time": "2021-08-23T12:29:55.921Z"
   },
   {
    "duration": 392,
    "start_time": "2021-08-23T12:30:09.667Z"
   },
   {
    "duration": 404,
    "start_time": "2021-08-23T12:30:21.945Z"
   },
   {
    "duration": 531,
    "start_time": "2021-08-23T12:30:32.323Z"
   },
   {
    "duration": 21,
    "start_time": "2021-08-23T12:39:05.617Z"
   },
   {
    "duration": 524,
    "start_time": "2021-08-23T12:40:59.443Z"
   },
   {
    "duration": 424,
    "start_time": "2021-08-23T13:09:27.886Z"
   },
   {
    "duration": 15,
    "start_time": "2021-08-23T13:09:43.429Z"
   },
   {
    "duration": 17,
    "start_time": "2021-08-23T13:10:41.431Z"
   },
   {
    "duration": 17,
    "start_time": "2021-08-23T13:11:21.780Z"
   },
   {
    "duration": 341,
    "start_time": "2021-08-23T13:12:56.701Z"
   },
   {
    "duration": 372,
    "start_time": "2021-08-23T13:13:25.519Z"
   },
   {
    "duration": 4,
    "start_time": "2021-08-23T13:18:53.928Z"
   },
   {
    "duration": 4,
    "start_time": "2021-08-23T13:19:27.343Z"
   },
   {
    "duration": 36,
    "start_time": "2021-08-23T13:19:27.350Z"
   },
   {
    "duration": 13,
    "start_time": "2021-08-23T13:19:27.390Z"
   },
   {
    "duration": 19,
    "start_time": "2021-08-23T13:19:27.406Z"
   },
   {
    "duration": 13,
    "start_time": "2021-08-23T13:19:27.437Z"
   },
   {
    "duration": 56,
    "start_time": "2021-08-23T13:19:27.456Z"
   },
   {
    "duration": 21,
    "start_time": "2021-08-23T13:19:27.515Z"
   },
   {
    "duration": 43,
    "start_time": "2021-08-23T13:19:27.540Z"
   },
   {
    "duration": 14,
    "start_time": "2021-08-23T13:19:27.585Z"
   },
   {
    "duration": 356,
    "start_time": "2021-08-23T13:19:27.602Z"
   },
   {
    "duration": 23,
    "start_time": "2021-08-23T13:19:27.961Z"
   },
   {
    "duration": 507,
    "start_time": "2021-08-23T13:19:27.987Z"
   },
   {
    "duration": 460,
    "start_time": "2021-08-23T13:19:28.497Z"
   },
   {
    "duration": 17,
    "start_time": "2021-08-23T13:19:28.961Z"
   },
   {
    "duration": 556,
    "start_time": "2021-08-23T13:19:28.981Z"
   },
   {
    "duration": 273,
    "start_time": "2021-08-23T13:19:29.540Z"
   },
   {
    "duration": 20,
    "start_time": "2021-08-23T13:19:29.816Z"
   },
   {
    "duration": 21,
    "start_time": "2021-08-23T13:19:29.839Z"
   },
   {
    "duration": 452,
    "start_time": "2021-08-23T13:19:29.862Z"
   },
   {
    "duration": 21,
    "start_time": "2021-08-23T13:19:30.316Z"
   },
   {
    "duration": 486,
    "start_time": "2021-08-23T13:19:30.354Z"
   },
   {
    "duration": 26,
    "start_time": "2021-08-23T13:19:30.842Z"
   },
   {
    "duration": 373,
    "start_time": "2021-08-23T13:19:30.870Z"
   },
   {
    "duration": 8,
    "start_time": "2021-08-23T13:19:31.246Z"
   },
   {
    "duration": 6,
    "start_time": "2021-08-23T13:24:09.524Z"
   },
   {
    "duration": 6,
    "start_time": "2021-08-23T13:24:21.294Z"
   },
   {
    "duration": 368,
    "start_time": "2021-08-23T13:33:41.586Z"
   },
   {
    "duration": 6,
    "start_time": "2021-08-23T13:37:54.559Z"
   },
   {
    "duration": 5,
    "start_time": "2021-08-23T13:44:20.023Z"
   },
   {
    "duration": 6,
    "start_time": "2021-08-23T13:44:38.582Z"
   },
   {
    "duration": 6,
    "start_time": "2021-08-23T13:45:20.856Z"
   },
   {
    "duration": 34,
    "start_time": "2021-08-23T14:00:08.621Z"
   },
   {
    "duration": 26,
    "start_time": "2021-08-23T14:00:28.985Z"
   },
   {
    "duration": 137,
    "start_time": "2021-08-23T14:01:49.127Z"
   },
   {
    "duration": 95,
    "start_time": "2021-08-23T14:01:58.779Z"
   },
   {
    "duration": 14,
    "start_time": "2021-08-23T14:25:17.266Z"
   },
   {
    "duration": 14,
    "start_time": "2021-08-23T14:25:33.512Z"
   },
   {
    "duration": 23,
    "start_time": "2021-08-23T14:26:27.393Z"
   },
   {
    "duration": 6,
    "start_time": "2021-08-23T14:38:36.425Z"
   },
   {
    "duration": 13,
    "start_time": "2021-08-23T14:39:55.767Z"
   },
   {
    "duration": 637,
    "start_time": "2021-08-23T14:49:02.731Z"
   },
   {
    "duration": 441,
    "start_time": "2021-08-23T14:49:50.923Z"
   },
   {
    "duration": 25,
    "start_time": "2021-08-23T14:49:51.366Z"
   },
   {
    "duration": 29,
    "start_time": "2021-08-23T14:49:51.395Z"
   },
   {
    "duration": 32,
    "start_time": "2021-08-23T14:49:51.427Z"
   },
   {
    "duration": 30,
    "start_time": "2021-08-23T14:49:51.462Z"
   },
   {
    "duration": 64,
    "start_time": "2021-08-23T14:49:51.494Z"
   },
   {
    "duration": 29,
    "start_time": "2021-08-23T14:49:51.560Z"
   },
   {
    "duration": 37,
    "start_time": "2021-08-23T14:49:51.594Z"
   },
   {
    "duration": 35,
    "start_time": "2021-08-23T14:49:51.634Z"
   },
   {
    "duration": 341,
    "start_time": "2021-08-23T14:49:51.672Z"
   },
   {
    "duration": 41,
    "start_time": "2021-08-23T14:49:52.016Z"
   },
   {
    "duration": 466,
    "start_time": "2021-08-23T14:49:52.059Z"
   },
   {
    "duration": 460,
    "start_time": "2021-08-23T14:49:52.528Z"
   },
   {
    "duration": 16,
    "start_time": "2021-08-23T14:49:52.990Z"
   },
   {
    "duration": 588,
    "start_time": "2021-08-23T14:49:53.008Z"
   },
   {
    "duration": 307,
    "start_time": "2021-08-23T14:49:53.598Z"
   },
   {
    "duration": 25,
    "start_time": "2021-08-23T14:49:53.908Z"
   },
   {
    "duration": 8,
    "start_time": "2021-08-23T14:49:53.955Z"
   },
   {
    "duration": 522,
    "start_time": "2021-08-23T14:49:53.965Z"
   },
   {
    "duration": 20,
    "start_time": "2021-08-23T14:49:54.490Z"
   },
   {
    "duration": 548,
    "start_time": "2021-08-23T14:49:54.512Z"
   },
   {
    "duration": 17,
    "start_time": "2021-08-23T14:49:55.062Z"
   },
   {
    "duration": 485,
    "start_time": "2021-08-23T14:49:55.084Z"
   },
   {
    "duration": 6,
    "start_time": "2021-08-23T14:49:55.572Z"
   },
   {
    "duration": 418,
    "start_time": "2021-08-23T14:49:55.581Z"
   },
   {
    "duration": 6,
    "start_time": "2021-08-23T14:49:56.003Z"
   },
   {
    "duration": 52,
    "start_time": "2021-08-23T14:49:56.012Z"
   },
   {
    "duration": 29,
    "start_time": "2021-08-23T14:49:56.067Z"
   },
   {
    "duration": 18,
    "start_time": "2021-08-23T14:49:56.099Z"
   },
   {
    "duration": 15,
    "start_time": "2021-08-23T14:49:56.156Z"
   },
   {
    "duration": 426,
    "start_time": "2021-08-23T14:56:20.209Z"
   },
   {
    "duration": 9,
    "start_time": "2021-08-23T14:56:46.202Z"
   },
   {
    "duration": 408,
    "start_time": "2021-08-23T15:03:19.678Z"
   },
   {
    "duration": 9,
    "start_time": "2021-08-23T15:09:50.303Z"
   },
   {
    "duration": 13,
    "start_time": "2021-08-23T15:11:04.797Z"
   },
   {
    "duration": 10,
    "start_time": "2021-08-23T15:11:12.257Z"
   },
   {
    "duration": 16,
    "start_time": "2021-08-23T15:21:17.214Z"
   },
   {
    "duration": 12,
    "start_time": "2021-08-23T15:25:36.596Z"
   },
   {
    "duration": 16,
    "start_time": "2021-08-23T15:27:36.011Z"
   },
   {
    "duration": 1079,
    "start_time": "2021-08-23T15:48:18.563Z"
   },
   {
    "duration": 9,
    "start_time": "2021-08-23T15:48:38.723Z"
   },
   {
    "duration": 10932,
    "start_time": "2021-08-23T15:58:01.240Z"
   },
   {
    "duration": 419,
    "start_time": "2021-08-23T15:58:33.399Z"
   },
   {
    "duration": 17,
    "start_time": "2021-08-23T15:59:11.594Z"
   },
   {
    "duration": 10880,
    "start_time": "2021-08-23T16:01:31.735Z"
   },
   {
    "duration": 16,
    "start_time": "2021-08-23T16:02:21.323Z"
   },
   {
    "duration": 401,
    "start_time": "2021-08-23T16:21:57.272Z"
   },
   {
    "duration": 449,
    "start_time": "2021-08-23T16:22:14.068Z"
   },
   {
    "duration": 11,
    "start_time": "2021-08-23T16:32:40.399Z"
   },
   {
    "duration": 17,
    "start_time": "2021-08-23T16:33:16.926Z"
   },
   {
    "duration": 12,
    "start_time": "2021-08-23T16:35:29.110Z"
   },
   {
    "duration": 10,
    "start_time": "2021-08-23T16:37:56.399Z"
   },
   {
    "duration": 6,
    "start_time": "2021-08-23T17:07:51.925Z"
   },
   {
    "duration": 32,
    "start_time": "2021-08-23T17:07:51.940Z"
   },
   {
    "duration": 61,
    "start_time": "2021-08-23T17:07:51.976Z"
   },
   {
    "duration": 25,
    "start_time": "2021-08-23T17:07:52.050Z"
   },
   {
    "duration": 19,
    "start_time": "2021-08-23T17:07:52.086Z"
   },
   {
    "duration": 59,
    "start_time": "2021-08-23T17:07:52.110Z"
   },
   {
    "duration": 19,
    "start_time": "2021-08-23T17:07:52.171Z"
   },
   {
    "duration": 38,
    "start_time": "2021-08-23T17:07:52.193Z"
   },
   {
    "duration": 46,
    "start_time": "2021-08-23T17:07:52.233Z"
   },
   {
    "duration": 335,
    "start_time": "2021-08-23T17:07:52.283Z"
   },
   {
    "duration": 33,
    "start_time": "2021-08-23T17:07:52.621Z"
   },
   {
    "duration": 474,
    "start_time": "2021-08-23T17:07:52.657Z"
   },
   {
    "duration": 554,
    "start_time": "2021-08-23T17:07:53.134Z"
   },
   {
    "duration": 17,
    "start_time": "2021-08-23T17:07:53.690Z"
   },
   {
    "duration": 605,
    "start_time": "2021-08-23T17:07:53.709Z"
   },
   {
    "duration": 285,
    "start_time": "2021-08-23T17:07:54.316Z"
   },
   {
    "duration": 21,
    "start_time": "2021-08-23T17:07:54.603Z"
   },
   {
    "duration": 29,
    "start_time": "2021-08-23T17:07:54.627Z"
   },
   {
    "duration": 466,
    "start_time": "2021-08-23T17:07:54.658Z"
   },
   {
    "duration": 29,
    "start_time": "2021-08-23T17:07:55.127Z"
   },
   {
    "duration": 489,
    "start_time": "2021-08-23T17:07:55.158Z"
   },
   {
    "duration": 15,
    "start_time": "2021-08-23T17:07:55.649Z"
   },
   {
    "duration": 375,
    "start_time": "2021-08-23T17:07:55.667Z"
   },
   {
    "duration": 6,
    "start_time": "2021-08-23T17:07:56.044Z"
   },
   {
    "duration": 404,
    "start_time": "2021-08-23T17:07:56.055Z"
   },
   {
    "duration": 5,
    "start_time": "2021-08-23T17:07:56.462Z"
   },
   {
    "duration": 51,
    "start_time": "2021-08-23T17:07:56.470Z"
   },
   {
    "duration": 29,
    "start_time": "2021-08-23T17:07:56.526Z"
   },
   {
    "duration": 12,
    "start_time": "2021-08-23T17:07:56.558Z"
   },
   {
    "duration": 29,
    "start_time": "2021-08-23T17:07:56.572Z"
   },
   {
    "duration": 31,
    "start_time": "2021-08-23T17:07:56.603Z"
   },
   {
    "duration": 30,
    "start_time": "2021-08-23T17:07:56.636Z"
   },
   {
    "duration": 13,
    "start_time": "2021-08-23T17:07:56.669Z"
   },
   {
    "duration": 18,
    "start_time": "2021-08-23T17:07:56.685Z"
   },
   {
    "duration": 528,
    "start_time": "2021-08-23T17:07:56.705Z"
   },
   {
    "duration": 18,
    "start_time": "2021-08-23T17:08:45.635Z"
   },
   {
    "duration": 1033,
    "start_time": "2021-08-23T18:57:25.120Z"
   },
   {
    "duration": 20,
    "start_time": "2021-08-23T18:57:26.154Z"
   },
   {
    "duration": 15,
    "start_time": "2021-08-23T18:57:26.176Z"
   },
   {
    "duration": 11,
    "start_time": "2021-08-23T18:57:26.193Z"
   },
   {
    "duration": 6,
    "start_time": "2021-08-23T18:57:26.205Z"
   },
   {
    "duration": 44,
    "start_time": "2021-08-23T18:57:26.213Z"
   },
   {
    "duration": 11,
    "start_time": "2021-08-23T18:57:26.258Z"
   },
   {
    "duration": 23,
    "start_time": "2021-08-23T18:57:26.271Z"
   },
   {
    "duration": 9,
    "start_time": "2021-08-23T18:57:26.296Z"
   },
   {
    "duration": 217,
    "start_time": "2021-08-23T18:57:26.306Z"
   },
   {
    "duration": 12,
    "start_time": "2021-08-23T18:57:26.525Z"
   },
   {
    "duration": 261,
    "start_time": "2021-08-23T18:57:26.538Z"
   },
   {
    "duration": 249,
    "start_time": "2021-08-23T18:57:26.801Z"
   },
   {
    "duration": 10,
    "start_time": "2021-08-23T18:57:27.052Z"
   },
   {
    "duration": 375,
    "start_time": "2021-08-23T18:57:27.064Z"
   },
   {
    "duration": 146,
    "start_time": "2021-08-23T18:57:27.441Z"
   },
   {
    "duration": 11,
    "start_time": "2021-08-23T18:57:27.591Z"
   },
   {
    "duration": 9,
    "start_time": "2021-08-23T18:57:27.604Z"
   },
   {
    "duration": 240,
    "start_time": "2021-08-23T18:57:27.614Z"
   },
   {
    "duration": 11,
    "start_time": "2021-08-23T18:57:27.855Z"
   },
   {
    "duration": 346,
    "start_time": "2021-08-23T18:57:27.868Z"
   },
   {
    "duration": 10,
    "start_time": "2021-08-23T18:57:28.216Z"
   },
   {
    "duration": 241,
    "start_time": "2021-08-23T18:57:28.228Z"
   },
   {
    "duration": 3,
    "start_time": "2021-08-23T18:57:28.471Z"
   },
   {
    "duration": 304,
    "start_time": "2021-08-23T18:57:28.476Z"
   },
   {
    "duration": 12,
    "start_time": "2021-08-23T18:57:28.782Z"
   },
   {
    "duration": 15,
    "start_time": "2021-08-23T18:57:28.796Z"
   },
   {
    "duration": 13,
    "start_time": "2021-08-23T18:57:28.813Z"
   },
   {
    "duration": 6,
    "start_time": "2021-08-23T18:57:28.828Z"
   },
   {
    "duration": 8,
    "start_time": "2021-08-23T18:57:28.835Z"
   },
   {
    "duration": 9,
    "start_time": "2021-08-23T18:57:28.845Z"
   },
   {
    "duration": 43,
    "start_time": "2021-08-23T18:57:28.856Z"
   },
   {
    "duration": 7,
    "start_time": "2021-08-23T18:57:28.900Z"
   },
   {
    "duration": 12,
    "start_time": "2021-08-23T18:57:28.908Z"
   },
   {
    "duration": 12,
    "start_time": "2021-08-23T18:57:28.921Z"
   },
   {
    "duration": 456,
    "start_time": "2021-08-23T19:02:30.653Z"
   },
   {
    "duration": 2446,
    "start_time": "2021-08-23T19:02:56.715Z"
   },
   {
    "duration": 13,
    "start_time": "2021-08-23T19:05:08.373Z"
   },
   {
    "duration": 5,
    "start_time": "2021-08-23T19:25:17.300Z"
   },
   {
    "duration": 337,
    "start_time": "2021-08-23T19:26:32.868Z"
   },
   {
    "duration": 1010,
    "start_time": "2021-08-23T19:41:20.646Z"
   },
   {
    "duration": 21,
    "start_time": "2021-08-23T19:41:21.657Z"
   },
   {
    "duration": 26,
    "start_time": "2021-08-23T19:41:21.679Z"
   },
   {
    "duration": 18,
    "start_time": "2021-08-23T19:41:21.706Z"
   },
   {
    "duration": 12,
    "start_time": "2021-08-23T19:41:21.725Z"
   },
   {
    "duration": 48,
    "start_time": "2021-08-23T19:41:21.738Z"
   },
   {
    "duration": 11,
    "start_time": "2021-08-23T19:41:21.787Z"
   },
   {
    "duration": 24,
    "start_time": "2021-08-23T19:41:21.800Z"
   },
   {
    "duration": 21,
    "start_time": "2021-08-23T19:41:21.825Z"
   },
   {
    "duration": 178,
    "start_time": "2021-08-23T19:41:21.847Z"
   },
   {
    "duration": 13,
    "start_time": "2021-08-23T19:41:22.026Z"
   },
   {
    "duration": 271,
    "start_time": "2021-08-23T19:41:22.040Z"
   },
   {
    "duration": 253,
    "start_time": "2021-08-23T19:41:22.312Z"
   },
   {
    "duration": 10,
    "start_time": "2021-08-23T19:41:22.567Z"
   },
   {
    "duration": 365,
    "start_time": "2021-08-23T19:41:22.578Z"
   },
   {
    "duration": 147,
    "start_time": "2021-08-23T19:41:22.945Z"
   },
   {
    "duration": 12,
    "start_time": "2021-08-23T19:41:23.094Z"
   },
   {
    "duration": 9,
    "start_time": "2021-08-23T19:41:23.107Z"
   },
   {
    "duration": 245,
    "start_time": "2021-08-23T19:41:23.118Z"
   },
   {
    "duration": 12,
    "start_time": "2021-08-23T19:41:23.365Z"
   },
   {
    "duration": 360,
    "start_time": "2021-08-23T19:41:23.378Z"
   },
   {
    "duration": 9,
    "start_time": "2021-08-23T19:41:23.740Z"
   },
   {
    "duration": 268,
    "start_time": "2021-08-23T19:41:23.752Z"
   },
   {
    "duration": 3,
    "start_time": "2021-08-23T19:41:24.022Z"
   },
   {
    "duration": 272,
    "start_time": "2021-08-23T19:41:24.026Z"
   },
   {
    "duration": 3,
    "start_time": "2021-08-23T19:41:24.299Z"
   },
   {
    "duration": 17,
    "start_time": "2021-08-23T19:41:24.304Z"
   },
   {
    "duration": 14,
    "start_time": "2021-08-23T19:41:24.322Z"
   },
   {
    "duration": 5,
    "start_time": "2021-08-23T19:41:24.337Z"
   },
   {
    "duration": 10,
    "start_time": "2021-08-23T19:41:24.344Z"
   },
   {
    "duration": 10,
    "start_time": "2021-08-23T19:41:24.355Z"
   },
   {
    "duration": 9,
    "start_time": "2021-08-23T19:41:24.391Z"
   },
   {
    "duration": 7,
    "start_time": "2021-08-23T19:41:24.401Z"
   },
   {
    "duration": 12,
    "start_time": "2021-08-23T19:41:24.409Z"
   },
   {
    "duration": 11,
    "start_time": "2021-08-23T19:41:24.422Z"
   },
   {
    "duration": 245,
    "start_time": "2021-08-23T19:41:49.273Z"
   },
   {
    "duration": 1311,
    "start_time": "2021-08-24T01:35:26.804Z"
   },
   {
    "duration": 26,
    "start_time": "2021-08-24T01:35:28.118Z"
   },
   {
    "duration": 29,
    "start_time": "2021-08-24T01:35:28.148Z"
   },
   {
    "duration": 14,
    "start_time": "2021-08-24T01:35:28.180Z"
   },
   {
    "duration": 13,
    "start_time": "2021-08-24T01:35:28.196Z"
   },
   {
    "duration": 58,
    "start_time": "2021-08-24T01:35:28.212Z"
   },
   {
    "duration": 25,
    "start_time": "2021-08-24T01:35:28.272Z"
   },
   {
    "duration": 40,
    "start_time": "2021-08-24T01:35:28.301Z"
   },
   {
    "duration": 27,
    "start_time": "2021-08-24T01:35:28.344Z"
   },
   {
    "duration": 326,
    "start_time": "2021-08-24T01:35:28.373Z"
   },
   {
    "duration": 22,
    "start_time": "2021-08-24T01:35:28.702Z"
   },
   {
    "duration": 499,
    "start_time": "2021-08-24T01:35:28.727Z"
   },
   {
    "duration": 473,
    "start_time": "2021-08-24T01:35:29.229Z"
   },
   {
    "duration": 18,
    "start_time": "2021-08-24T01:35:29.705Z"
   },
   {
    "duration": 560,
    "start_time": "2021-08-24T01:35:29.727Z"
   },
   {
    "duration": 297,
    "start_time": "2021-08-24T01:35:30.289Z"
   },
   {
    "duration": 21,
    "start_time": "2021-08-24T01:35:30.588Z"
   },
   {
    "duration": 33,
    "start_time": "2021-08-24T01:35:30.611Z"
   },
   {
    "duration": 449,
    "start_time": "2021-08-24T01:35:30.646Z"
   },
   {
    "duration": 19,
    "start_time": "2021-08-24T01:35:31.098Z"
   },
   {
    "duration": 509,
    "start_time": "2021-08-24T01:35:31.120Z"
   },
   {
    "duration": 29,
    "start_time": "2021-08-24T01:35:31.631Z"
   },
   {
    "duration": 366,
    "start_time": "2021-08-24T01:35:31.665Z"
   },
   {
    "duration": 6,
    "start_time": "2021-08-24T01:35:32.034Z"
   },
   {
    "duration": 413,
    "start_time": "2021-08-24T01:35:32.055Z"
   },
   {
    "duration": 6,
    "start_time": "2021-08-24T01:35:32.470Z"
   },
   {
    "duration": 40,
    "start_time": "2021-08-24T01:35:32.478Z"
   },
   {
    "duration": 43,
    "start_time": "2021-08-24T01:35:32.520Z"
   },
   {
    "duration": 8,
    "start_time": "2021-08-24T01:35:32.566Z"
   },
   {
    "duration": 30,
    "start_time": "2021-08-24T01:35:32.576Z"
   },
   {
    "duration": 18,
    "start_time": "2021-08-24T01:35:32.609Z"
   },
   {
    "duration": 35,
    "start_time": "2021-08-24T01:35:32.630Z"
   },
   {
    "duration": 12,
    "start_time": "2021-08-24T01:35:32.668Z"
   },
   {
    "duration": 36,
    "start_time": "2021-08-24T01:35:32.682Z"
   },
   {
    "duration": 28,
    "start_time": "2021-08-24T01:35:32.720Z"
   },
   {
    "duration": 421,
    "start_time": "2021-08-24T04:36:46.474Z"
   },
   {
    "duration": 720,
    "start_time": "2021-08-24T04:36:53.769Z"
   },
   {
    "duration": 372,
    "start_time": "2021-08-24T04:36:59.954Z"
   },
   {
    "duration": 1389,
    "start_time": "2021-08-24T04:37:07.920Z"
   },
   {
    "duration": 27,
    "start_time": "2021-08-24T04:37:10.822Z"
   },
   {
    "duration": 432,
    "start_time": "2021-08-24T04:37:12.397Z"
   },
   {
    "duration": 384,
    "start_time": "2021-08-24T04:37:32.145Z"
   },
   {
    "duration": 4,
    "start_time": "2021-08-24T04:40:30.965Z"
   },
   {
    "duration": 42,
    "start_time": "2021-08-24T04:40:30.983Z"
   },
   {
    "duration": 378,
    "start_time": "2021-08-24T04:40:31.028Z"
   },
   {
    "duration": -330,
    "start_time": "2021-08-24T04:40:31.740Z"
   },
   {
    "duration": -494,
    "start_time": "2021-08-24T04:40:31.905Z"
   },
   {
    "duration": -499,
    "start_time": "2021-08-24T04:40:31.912Z"
   },
   {
    "duration": -504,
    "start_time": "2021-08-24T04:40:31.919Z"
   },
   {
    "duration": -511,
    "start_time": "2021-08-24T04:40:31.927Z"
   },
   {
    "duration": -517,
    "start_time": "2021-08-24T04:40:31.934Z"
   },
   {
    "duration": -522,
    "start_time": "2021-08-24T04:40:31.941Z"
   },
   {
    "duration": -527,
    "start_time": "2021-08-24T04:40:31.948Z"
   },
   {
    "duration": -534,
    "start_time": "2021-08-24T04:40:31.956Z"
   },
   {
    "duration": -539,
    "start_time": "2021-08-24T04:40:31.962Z"
   },
   {
    "duration": -543,
    "start_time": "2021-08-24T04:40:31.968Z"
   },
   {
    "duration": -560,
    "start_time": "2021-08-24T04:40:31.986Z"
   },
   {
    "duration": -565,
    "start_time": "2021-08-24T04:40:31.993Z"
   },
   {
    "duration": -569,
    "start_time": "2021-08-24T04:40:31.998Z"
   },
   {
    "duration": -574,
    "start_time": "2021-08-24T04:40:32.004Z"
   },
   {
    "duration": -577,
    "start_time": "2021-08-24T04:40:32.009Z"
   },
   {
    "duration": -586,
    "start_time": "2021-08-24T04:40:32.019Z"
   },
   {
    "duration": -593,
    "start_time": "2021-08-24T04:40:32.027Z"
   },
   {
    "duration": -598,
    "start_time": "2021-08-24T04:40:32.034Z"
   },
   {
    "duration": -604,
    "start_time": "2021-08-24T04:40:32.041Z"
   },
   {
    "duration": -613,
    "start_time": "2021-08-24T04:40:32.051Z"
   },
   {
    "duration": -617,
    "start_time": "2021-08-24T04:40:32.057Z"
   },
   {
    "duration": -623,
    "start_time": "2021-08-24T04:40:32.064Z"
   },
   {
    "duration": -625,
    "start_time": "2021-08-24T04:40:32.068Z"
   },
   {
    "duration": -630,
    "start_time": "2021-08-24T04:40:32.074Z"
   },
   {
    "duration": -632,
    "start_time": "2021-08-24T04:40:32.078Z"
   },
   {
    "duration": -651,
    "start_time": "2021-08-24T04:40:32.098Z"
   },
   {
    "duration": -650,
    "start_time": "2021-08-24T04:40:32.105Z"
   },
   {
    "duration": -653,
    "start_time": "2021-08-24T04:40:32.113Z"
   },
   {
    "duration": -656,
    "start_time": "2021-08-24T04:40:32.120Z"
   },
   {
    "duration": -660,
    "start_time": "2021-08-24T04:40:32.126Z"
   },
   {
    "duration": -664,
    "start_time": "2021-08-24T04:40:32.132Z"
   },
   {
    "duration": 13,
    "start_time": "2021-08-24T04:40:46.516Z"
   },
   {
    "duration": 4,
    "start_time": "2021-08-24T04:40:57.917Z"
   },
   {
    "duration": 23,
    "start_time": "2021-08-24T04:40:57.931Z"
   },
   {
    "duration": 19,
    "start_time": "2021-08-24T04:40:57.957Z"
   },
   {
    "duration": 20,
    "start_time": "2021-08-24T04:40:57.980Z"
   },
   {
    "duration": 12,
    "start_time": "2021-08-24T04:40:58.003Z"
   },
   {
    "duration": 99,
    "start_time": "2021-08-24T04:40:58.017Z"
   },
   {
    "duration": 19,
    "start_time": "2021-08-24T04:40:58.118Z"
   },
   {
    "duration": 39,
    "start_time": "2021-08-24T04:40:58.140Z"
   },
   {
    "duration": 13,
    "start_time": "2021-08-24T04:40:58.183Z"
   },
   {
    "duration": 340,
    "start_time": "2021-08-24T04:40:58.199Z"
   },
   {
    "duration": 36,
    "start_time": "2021-08-24T04:40:58.541Z"
   },
   {
    "duration": 487,
    "start_time": "2021-08-24T04:40:58.579Z"
   },
   {
    "duration": 450,
    "start_time": "2021-08-24T04:40:59.071Z"
   },
   {
    "duration": 16,
    "start_time": "2021-08-24T04:40:59.523Z"
   },
   {
    "duration": 539,
    "start_time": "2021-08-24T04:40:59.558Z"
   },
   {
    "duration": 291,
    "start_time": "2021-08-24T04:41:00.099Z"
   },
   {
    "duration": 21,
    "start_time": "2021-08-24T04:41:00.392Z"
   },
   {
    "duration": 24,
    "start_time": "2021-08-24T04:41:00.415Z"
   },
   {
    "duration": 462,
    "start_time": "2021-08-24T04:41:00.441Z"
   },
   {
    "duration": 19,
    "start_time": "2021-08-24T04:41:00.906Z"
   },
   {
    "duration": 632,
    "start_time": "2021-08-24T04:41:00.927Z"
   },
   {
    "duration": 17,
    "start_time": "2021-08-24T04:41:01.562Z"
   },
   {
    "duration": 380,
    "start_time": "2021-08-24T04:41:01.586Z"
   },
   {
    "duration": 6,
    "start_time": "2021-08-24T04:41:01.969Z"
   },
   {
    "duration": 469,
    "start_time": "2021-08-24T04:41:01.978Z"
   },
   {
    "duration": 8,
    "start_time": "2021-08-24T04:41:02.450Z"
   },
   {
    "duration": 41,
    "start_time": "2021-08-24T04:41:02.461Z"
   },
   {
    "duration": 25,
    "start_time": "2021-08-24T04:41:02.505Z"
   },
   {
    "duration": 30,
    "start_time": "2021-08-24T04:41:02.532Z"
   },
   {
    "duration": 17,
    "start_time": "2021-08-24T04:41:02.565Z"
   },
   {
    "duration": 16,
    "start_time": "2021-08-24T04:41:02.585Z"
   },
   {
    "duration": 54,
    "start_time": "2021-08-24T04:41:02.604Z"
   },
   {
    "duration": 14,
    "start_time": "2021-08-24T04:41:02.661Z"
   },
   {
    "duration": 12,
    "start_time": "2021-08-24T04:41:02.678Z"
   },
   {
    "duration": 22,
    "start_time": "2021-08-24T04:41:02.693Z"
   },
   {
    "duration": 14,
    "start_time": "2021-08-24T04:41:55.193Z"
   },
   {
    "duration": 17,
    "start_time": "2021-08-24T04:43:48.047Z"
   },
   {
    "duration": 15,
    "start_time": "2021-08-24T04:45:07.128Z"
   },
   {
    "duration": 485,
    "start_time": "2021-08-24T04:46:41.487Z"
   },
   {
    "duration": 1346,
    "start_time": "2021-08-24T09:05:21.612Z"
   },
   {
    "duration": 27,
    "start_time": "2021-08-24T09:05:22.961Z"
   },
   {
    "duration": 19,
    "start_time": "2021-08-24T09:05:22.991Z"
   },
   {
    "duration": 17,
    "start_time": "2021-08-24T09:05:23.013Z"
   },
   {
    "duration": 15,
    "start_time": "2021-08-24T09:05:23.033Z"
   },
   {
    "duration": 68,
    "start_time": "2021-08-24T09:05:23.050Z"
   },
   {
    "duration": 17,
    "start_time": "2021-08-24T09:05:23.120Z"
   },
   {
    "duration": 30,
    "start_time": "2021-08-24T09:05:23.141Z"
   },
   {
    "duration": 39,
    "start_time": "2021-08-24T09:05:23.174Z"
   },
   {
    "duration": 358,
    "start_time": "2021-08-24T09:05:23.215Z"
   },
   {
    "duration": 33,
    "start_time": "2021-08-24T09:05:23.575Z"
   },
   {
    "duration": 500,
    "start_time": "2021-08-24T09:05:23.610Z"
   },
   {
    "duration": 459,
    "start_time": "2021-08-24T09:05:24.113Z"
   },
   {
    "duration": 28,
    "start_time": "2021-08-24T09:05:24.574Z"
   },
   {
    "duration": 556,
    "start_time": "2021-08-24T09:05:24.604Z"
   },
   {
    "duration": 289,
    "start_time": "2021-08-24T09:05:25.163Z"
   },
   {
    "duration": 20,
    "start_time": "2021-08-24T09:05:25.454Z"
   },
   {
    "duration": 28,
    "start_time": "2021-08-24T09:05:25.476Z"
   },
   {
    "duration": 446,
    "start_time": "2021-08-24T09:05:25.506Z"
   },
   {
    "duration": 20,
    "start_time": "2021-08-24T09:05:25.954Z"
   },
   {
    "duration": 533,
    "start_time": "2021-08-24T09:05:25.976Z"
   },
   {
    "duration": 15,
    "start_time": "2021-08-24T09:05:26.512Z"
   },
   {
    "duration": 362,
    "start_time": "2021-08-24T09:05:26.532Z"
   },
   {
    "duration": 8,
    "start_time": "2021-08-24T09:05:26.896Z"
   },
   {
    "duration": 448,
    "start_time": "2021-08-24T09:05:26.906Z"
   },
   {
    "duration": 6,
    "start_time": "2021-08-24T09:05:27.357Z"
   },
   {
    "duration": 46,
    "start_time": "2021-08-24T09:05:27.365Z"
   },
   {
    "duration": 26,
    "start_time": "2021-08-24T09:05:27.414Z"
   },
   {
    "duration": 9,
    "start_time": "2021-08-24T09:05:27.443Z"
   },
   {
    "duration": 50,
    "start_time": "2021-08-24T09:05:27.455Z"
   },
   {
    "duration": 15,
    "start_time": "2021-08-24T09:05:27.508Z"
   },
   {
    "duration": 17,
    "start_time": "2021-08-24T09:05:27.526Z"
   },
   {
    "duration": 54,
    "start_time": "2021-08-24T09:05:27.546Z"
   },
   {
    "duration": 10,
    "start_time": "2021-08-24T09:05:27.603Z"
   },
   {
    "duration": 23,
    "start_time": "2021-08-24T09:05:27.616Z"
   },
   {
    "duration": 454,
    "start_time": "2021-08-24T09:07:04.181Z"
   },
   {
    "duration": 4,
    "start_time": "2021-08-24T09:07:09.528Z"
   },
   {
    "duration": 24,
    "start_time": "2021-08-24T09:07:09.541Z"
   },
   {
    "duration": 15,
    "start_time": "2021-08-24T09:07:09.567Z"
   },
   {
    "duration": 15,
    "start_time": "2021-08-24T09:07:09.585Z"
   },
   {
    "duration": 17,
    "start_time": "2021-08-24T09:07:09.603Z"
   },
   {
    "duration": 57,
    "start_time": "2021-08-24T09:07:09.623Z"
   },
   {
    "duration": 19,
    "start_time": "2021-08-24T09:07:09.682Z"
   },
   {
    "duration": 32,
    "start_time": "2021-08-24T09:07:09.703Z"
   },
   {
    "duration": 18,
    "start_time": "2021-08-24T09:07:09.741Z"
   },
   {
    "duration": 323,
    "start_time": "2021-08-24T09:07:09.801Z"
   },
   {
    "duration": 23,
    "start_time": "2021-08-24T09:07:10.127Z"
   },
   {
    "duration": 481,
    "start_time": "2021-08-24T09:07:10.152Z"
   },
   {
    "duration": 512,
    "start_time": "2021-08-24T09:07:10.635Z"
   },
   {
    "duration": 19,
    "start_time": "2021-08-24T09:07:11.150Z"
   },
   {
    "duration": 573,
    "start_time": "2021-08-24T09:07:11.172Z"
   },
   {
    "duration": 286,
    "start_time": "2021-08-24T09:07:11.748Z"
   },
   {
    "duration": 20,
    "start_time": "2021-08-24T09:07:12.037Z"
   },
   {
    "duration": 11,
    "start_time": "2021-08-24T09:07:12.060Z"
   },
   {
    "duration": 476,
    "start_time": "2021-08-24T09:07:12.074Z"
   },
   {
    "duration": 18,
    "start_time": "2021-08-24T09:07:12.553Z"
   },
   {
    "duration": 516,
    "start_time": "2021-08-24T09:07:12.574Z"
   },
   {
    "duration": 17,
    "start_time": "2021-08-24T09:07:13.100Z"
   },
   {
    "duration": 367,
    "start_time": "2021-08-24T09:07:13.122Z"
   },
   {
    "duration": 12,
    "start_time": "2021-08-24T09:07:13.493Z"
   },
   {
    "duration": 406,
    "start_time": "2021-08-24T09:07:13.508Z"
   },
   {
    "duration": 7,
    "start_time": "2021-08-24T09:07:13.917Z"
   },
   {
    "duration": 27,
    "start_time": "2021-08-24T09:07:13.927Z"
   },
   {
    "duration": 64,
    "start_time": "2021-08-24T09:07:13.956Z"
   },
   {
    "duration": 8,
    "start_time": "2021-08-24T09:07:14.023Z"
   },
   {
    "duration": 13,
    "start_time": "2021-08-24T09:07:14.033Z"
   },
   {
    "duration": 15,
    "start_time": "2021-08-24T09:07:14.048Z"
   },
   {
    "duration": 18,
    "start_time": "2021-08-24T09:07:14.101Z"
   },
   {
    "duration": 11,
    "start_time": "2021-08-24T09:07:14.122Z"
   },
   {
    "duration": 11,
    "start_time": "2021-08-24T09:07:14.136Z"
   },
   {
    "duration": 62,
    "start_time": "2021-08-24T09:07:14.149Z"
   },
   {
    "duration": 459,
    "start_time": "2021-08-24T09:10:39.341Z"
   },
   {
    "duration": 465,
    "start_time": "2021-08-24T09:11:08.168Z"
   },
   {
    "duration": 470,
    "start_time": "2021-08-24T09:12:26.721Z"
   },
   {
    "duration": 5,
    "start_time": "2021-08-24T09:12:59.500Z"
   },
   {
    "duration": 38,
    "start_time": "2021-08-24T09:12:59.520Z"
   },
   {
    "duration": 27,
    "start_time": "2021-08-24T09:12:59.561Z"
   },
   {
    "duration": 28,
    "start_time": "2021-08-24T09:12:59.591Z"
   },
   {
    "duration": 25,
    "start_time": "2021-08-24T09:12:59.622Z"
   },
   {
    "duration": 67,
    "start_time": "2021-08-24T09:12:59.650Z"
   },
   {
    "duration": 17,
    "start_time": "2021-08-24T09:12:59.719Z"
   },
   {
    "duration": 32,
    "start_time": "2021-08-24T09:12:59.738Z"
   },
   {
    "duration": 37,
    "start_time": "2021-08-24T09:12:59.772Z"
   },
   {
    "duration": 342,
    "start_time": "2021-08-24T09:12:59.813Z"
   },
   {
    "duration": 42,
    "start_time": "2021-08-24T09:13:00.158Z"
   },
   {
    "duration": 488,
    "start_time": "2021-08-24T09:13:00.203Z"
   },
   {
    "duration": 471,
    "start_time": "2021-08-24T09:13:00.701Z"
   },
   {
    "duration": 25,
    "start_time": "2021-08-24T09:13:01.175Z"
   },
   {
    "duration": 680,
    "start_time": "2021-08-24T09:13:01.203Z"
   },
   {
    "duration": 286,
    "start_time": "2021-08-24T09:13:01.885Z"
   },
   {
    "duration": 30,
    "start_time": "2021-08-24T09:13:02.173Z"
   },
   {
    "duration": 36,
    "start_time": "2021-08-24T09:13:02.206Z"
   },
   {
    "duration": 430,
    "start_time": "2021-08-24T09:13:02.245Z"
   },
   {
    "duration": 29,
    "start_time": "2021-08-24T09:13:02.677Z"
   },
   {
    "duration": 486,
    "start_time": "2021-08-24T09:13:02.709Z"
   },
   {
    "duration": 17,
    "start_time": "2021-08-24T09:13:03.201Z"
   },
   {
    "duration": 376,
    "start_time": "2021-08-24T09:13:03.220Z"
   },
   {
    "duration": 7,
    "start_time": "2021-08-24T09:13:03.598Z"
   },
   {
    "duration": 399,
    "start_time": "2021-08-24T09:13:03.607Z"
   },
   {
    "duration": 6,
    "start_time": "2021-08-24T09:13:04.009Z"
   },
   {
    "duration": 34,
    "start_time": "2021-08-24T09:13:04.017Z"
   },
   {
    "duration": 51,
    "start_time": "2021-08-24T09:13:04.057Z"
   },
   {
    "duration": 8,
    "start_time": "2021-08-24T09:13:04.111Z"
   },
   {
    "duration": 18,
    "start_time": "2021-08-24T09:13:04.122Z"
   },
   {
    "duration": 16,
    "start_time": "2021-08-24T09:13:04.143Z"
   },
   {
    "duration": 45,
    "start_time": "2021-08-24T09:13:04.162Z"
   },
   {
    "duration": 18,
    "start_time": "2021-08-24T09:13:04.210Z"
   },
   {
    "duration": 11,
    "start_time": "2021-08-24T09:13:04.231Z"
   },
   {
    "duration": 22,
    "start_time": "2021-08-24T09:13:04.244Z"
   },
   {
    "duration": 593,
    "start_time": "2021-08-24T09:14:44.263Z"
   },
   {
    "duration": 591,
    "start_time": "2021-08-24T09:15:09.800Z"
   },
   {
    "duration": 538,
    "start_time": "2021-08-24T09:15:23.769Z"
   },
   {
    "duration": 453,
    "start_time": "2021-08-24T09:16:55.769Z"
   },
   {
    "duration": 163,
    "start_time": "2021-08-24T09:18:13.277Z"
   },
   {
    "duration": 451,
    "start_time": "2021-08-24T09:18:26.941Z"
   },
   {
    "duration": 388,
    "start_time": "2021-08-24T09:20:04.127Z"
   },
   {
    "duration": 481,
    "start_time": "2021-08-24T09:20:42.144Z"
   },
   {
    "duration": 423,
    "start_time": "2021-08-24T09:21:22.797Z"
   },
   {
    "duration": 24,
    "start_time": "2021-08-24T09:30:27.893Z"
   },
   {
    "duration": 16,
    "start_time": "2021-08-24T09:33:50.530Z"
   },
   {
    "duration": 16,
    "start_time": "2021-08-24T09:34:23.515Z"
   },
   {
    "duration": 173,
    "start_time": "2021-08-24T09:45:45.313Z"
   },
   {
    "duration": 10,
    "start_time": "2021-08-24T09:58:00.931Z"
   },
   {
    "duration": 10,
    "start_time": "2021-08-24T09:58:23.212Z"
   },
   {
    "duration": 11,
    "start_time": "2021-08-24T09:58:39.241Z"
   },
   {
    "duration": 491,
    "start_time": "2021-08-24T10:02:29.738Z"
   },
   {
    "duration": 16,
    "start_time": "2021-08-24T10:02:38.372Z"
   },
   {
    "duration": 10,
    "start_time": "2021-08-24T10:47:21.401Z"
   },
   {
    "duration": 11,
    "start_time": "2021-08-24T10:47:33.576Z"
   },
   {
    "duration": 21,
    "start_time": "2021-08-24T10:52:36.008Z"
   },
   {
    "duration": 10,
    "start_time": "2021-08-24T11:29:56.585Z"
   },
   {
    "duration": 11,
    "start_time": "2021-08-24T11:30:45.287Z"
   },
   {
    "duration": 9,
    "start_time": "2021-08-24T11:31:08.176Z"
   },
   {
    "duration": 11,
    "start_time": "2021-08-24T11:32:03.480Z"
   },
   {
    "duration": 16,
    "start_time": "2021-08-24T11:35:21.266Z"
   },
   {
    "duration": 15,
    "start_time": "2021-08-24T12:02:25.015Z"
   },
   {
    "duration": 11,
    "start_time": "2021-08-24T12:04:20.455Z"
   },
   {
    "duration": 14,
    "start_time": "2021-08-24T12:12:35.380Z"
   },
   {
    "duration": 12,
    "start_time": "2021-08-24T12:12:50.331Z"
   },
   {
    "duration": 13,
    "start_time": "2021-08-24T12:14:14.138Z"
   },
   {
    "duration": 126,
    "start_time": "2021-08-24T12:14:25.947Z"
   },
   {
    "duration": 12,
    "start_time": "2021-08-24T12:14:53.220Z"
   },
   {
    "duration": 12,
    "start_time": "2021-08-24T12:15:25.312Z"
   },
   {
    "duration": 10,
    "start_time": "2021-08-24T12:16:19.461Z"
   },
   {
    "duration": 11,
    "start_time": "2021-08-24T12:16:33.565Z"
   },
   {
    "duration": 11,
    "start_time": "2021-08-24T12:16:40.329Z"
   },
   {
    "duration": 1436,
    "start_time": "2021-08-24T12:16:51.646Z"
   },
   {
    "duration": 26,
    "start_time": "2021-08-24T12:16:53.085Z"
   },
   {
    "duration": 18,
    "start_time": "2021-08-24T12:16:53.114Z"
   },
   {
    "duration": 19,
    "start_time": "2021-08-24T12:16:53.135Z"
   },
   {
    "duration": 46,
    "start_time": "2021-08-24T12:16:53.157Z"
   },
   {
    "duration": 58,
    "start_time": "2021-08-24T12:16:53.206Z"
   },
   {
    "duration": 17,
    "start_time": "2021-08-24T12:16:53.267Z"
   },
   {
    "duration": 34,
    "start_time": "2021-08-24T12:16:53.287Z"
   },
   {
    "duration": 20,
    "start_time": "2021-08-24T12:16:53.326Z"
   },
   {
    "duration": 12,
    "start_time": "2021-08-24T12:16:53.349Z"
   },
   {
    "duration": 51,
    "start_time": "2021-08-24T12:16:53.365Z"
   },
   {
    "duration": 369,
    "start_time": "2021-08-24T12:16:53.419Z"
   },
   {
    "duration": 28,
    "start_time": "2021-08-24T12:16:53.791Z"
   },
   {
    "duration": 513,
    "start_time": "2021-08-24T12:16:53.821Z"
   },
   {
    "duration": 624,
    "start_time": "2021-08-24T12:16:54.337Z"
   },
   {
    "duration": 23,
    "start_time": "2021-08-24T12:16:54.964Z"
   },
   {
    "duration": 699,
    "start_time": "2021-08-24T12:16:55.002Z"
   },
   {
    "duration": 307,
    "start_time": "2021-08-24T12:16:55.703Z"
   },
   {
    "duration": 24,
    "start_time": "2021-08-24T12:16:56.012Z"
   },
   {
    "duration": 15,
    "start_time": "2021-08-24T12:16:56.039Z"
   },
   {
    "duration": 500,
    "start_time": "2021-08-24T12:16:56.057Z"
   },
   {
    "duration": 20,
    "start_time": "2021-08-24T12:16:56.559Z"
   },
   {
    "duration": 499,
    "start_time": "2021-08-24T12:16:56.601Z"
   },
   {
    "duration": 18,
    "start_time": "2021-08-24T12:16:57.103Z"
   },
   {
    "duration": 423,
    "start_time": "2021-08-24T12:16:57.124Z"
   },
   {
    "duration": 6,
    "start_time": "2021-08-24T12:16:57.549Z"
   },
   {
    "duration": 511,
    "start_time": "2021-08-24T12:16:57.560Z"
   },
   {
    "duration": 541,
    "start_time": "2021-08-24T12:16:58.074Z"
   },
   {
    "duration": 7,
    "start_time": "2021-08-24T12:16:58.618Z"
   },
   {
    "duration": 27,
    "start_time": "2021-08-24T12:16:58.627Z"
   },
   {
    "duration": 68,
    "start_time": "2021-08-24T12:16:58.658Z"
   },
   {
    "duration": 10,
    "start_time": "2021-08-24T12:16:58.729Z"
   },
   {
    "duration": 15,
    "start_time": "2021-08-24T12:16:58.741Z"
   },
   {
    "duration": 52,
    "start_time": "2021-08-24T12:16:58.760Z"
   },
   {
    "duration": 18,
    "start_time": "2021-08-24T12:16:58.815Z"
   },
   {
    "duration": 11,
    "start_time": "2021-08-24T12:16:58.836Z"
   },
   {
    "duration": 56,
    "start_time": "2021-08-24T12:16:58.849Z"
   },
   {
    "duration": 21,
    "start_time": "2021-08-24T12:16:58.907Z"
   },
   {
    "duration": 471,
    "start_time": "2021-08-24T12:17:24.678Z"
   },
   {
    "duration": 14,
    "start_time": "2021-08-24T12:17:43.998Z"
   },
   {
    "duration": 14,
    "start_time": "2021-08-24T12:25:58.173Z"
   },
   {
    "duration": 92,
    "start_time": "2021-08-24T12:30:28.267Z"
   },
   {
    "duration": 4,
    "start_time": "2021-08-24T12:30:39.916Z"
   },
   {
    "duration": 26,
    "start_time": "2021-08-24T12:30:39.931Z"
   },
   {
    "duration": 17,
    "start_time": "2021-08-24T12:30:39.960Z"
   },
   {
    "duration": 17,
    "start_time": "2021-08-24T12:30:39.980Z"
   },
   {
    "duration": 25,
    "start_time": "2021-08-24T12:30:40.001Z"
   },
   {
    "duration": 60,
    "start_time": "2021-08-24T12:30:40.029Z"
   },
   {
    "duration": 20,
    "start_time": "2021-08-24T12:30:40.091Z"
   },
   {
    "duration": 32,
    "start_time": "2021-08-24T12:30:40.113Z"
   },
   {
    "duration": 19,
    "start_time": "2021-08-24T12:30:40.148Z"
   },
   {
    "duration": 37,
    "start_time": "2021-08-24T12:30:40.171Z"
   },
   {
    "duration": 13,
    "start_time": "2021-08-24T12:30:40.211Z"
   },
   {
    "duration": 756,
    "start_time": "2021-08-24T12:30:40.226Z"
   },
   {
    "duration": -859,
    "start_time": "2021-08-24T12:30:41.844Z"
   },
   {
    "duration": -866,
    "start_time": "2021-08-24T12:30:41.853Z"
   },
   {
    "duration": -874,
    "start_time": "2021-08-24T12:30:41.862Z"
   },
   {
    "duration": -881,
    "start_time": "2021-08-24T12:30:41.871Z"
   },
   {
    "duration": -889,
    "start_time": "2021-08-24T12:30:41.880Z"
   },
   {
    "duration": -895,
    "start_time": "2021-08-24T12:30:41.888Z"
   },
   {
    "duration": -902,
    "start_time": "2021-08-24T12:30:41.896Z"
   },
   {
    "duration": -908,
    "start_time": "2021-08-24T12:30:41.904Z"
   },
   {
    "duration": -917,
    "start_time": "2021-08-24T12:30:41.914Z"
   },
   {
    "duration": -923,
    "start_time": "2021-08-24T12:30:41.922Z"
   },
   {
    "duration": -930,
    "start_time": "2021-08-24T12:30:41.930Z"
   },
   {
    "duration": -937,
    "start_time": "2021-08-24T12:30:41.938Z"
   },
   {
    "duration": -955,
    "start_time": "2021-08-24T12:30:41.958Z"
   },
   {
    "duration": -964,
    "start_time": "2021-08-24T12:30:41.968Z"
   },
   {
    "duration": -973,
    "start_time": "2021-08-24T12:30:41.978Z"
   },
   {
    "duration": -980,
    "start_time": "2021-08-24T12:30:41.986Z"
   },
   {
    "duration": -986,
    "start_time": "2021-08-24T12:30:41.994Z"
   },
   {
    "duration": -993,
    "start_time": "2021-08-24T12:30:42.002Z"
   },
   {
    "duration": -999,
    "start_time": "2021-08-24T12:30:42.010Z"
   },
   {
    "duration": -1006,
    "start_time": "2021-08-24T12:30:42.018Z"
   },
   {
    "duration": -1016,
    "start_time": "2021-08-24T12:30:42.029Z"
   },
   {
    "duration": -1028,
    "start_time": "2021-08-24T12:30:42.043Z"
   },
   {
    "duration": -1040,
    "start_time": "2021-08-24T12:30:42.056Z"
   },
   {
    "duration": -1066,
    "start_time": "2021-08-24T12:30:42.084Z"
   },
   {
    "duration": -1074,
    "start_time": "2021-08-24T12:30:42.093Z"
   },
   {
    "duration": -1083,
    "start_time": "2021-08-24T12:30:42.104Z"
   },
   {
    "duration": 333,
    "start_time": "2021-08-24T12:57:03.456Z"
   },
   {
    "duration": 4,
    "start_time": "2021-08-24T12:57:09.101Z"
   },
   {
    "duration": 42,
    "start_time": "2021-08-24T12:57:09.115Z"
   },
   {
    "duration": 39,
    "start_time": "2021-08-24T12:57:09.160Z"
   },
   {
    "duration": 27,
    "start_time": "2021-08-24T12:57:09.203Z"
   },
   {
    "duration": 39,
    "start_time": "2021-08-24T12:57:09.233Z"
   },
   {
    "duration": 98,
    "start_time": "2021-08-24T12:57:09.275Z"
   },
   {
    "duration": 18,
    "start_time": "2021-08-24T12:57:09.376Z"
   },
   {
    "duration": 41,
    "start_time": "2021-08-24T12:57:09.397Z"
   },
   {
    "duration": 27,
    "start_time": "2021-08-24T12:57:09.441Z"
   },
   {
    "duration": 14,
    "start_time": "2021-08-24T12:57:09.473Z"
   },
   {
    "duration": 19,
    "start_time": "2021-08-24T12:57:09.502Z"
   },
   {
    "duration": 339,
    "start_time": "2021-08-24T12:57:09.524Z"
   },
   {
    "duration": 35,
    "start_time": "2021-08-24T12:57:09.865Z"
   },
   {
    "duration": 478,
    "start_time": "2021-08-24T12:57:09.902Z"
   },
   {
    "duration": 472,
    "start_time": "2021-08-24T12:57:10.383Z"
   },
   {
    "duration": 17,
    "start_time": "2021-08-24T12:57:10.857Z"
   },
   {
    "duration": 556,
    "start_time": "2021-08-24T12:57:10.876Z"
   },
   {
    "duration": 276,
    "start_time": "2021-08-24T12:57:11.434Z"
   },
   {
    "duration": 21,
    "start_time": "2021-08-24T12:57:11.714Z"
   },
   {
    "duration": 18,
    "start_time": "2021-08-24T12:57:11.738Z"
   },
   {
    "duration": 435,
    "start_time": "2021-08-24T12:57:11.758Z"
   },
   {
    "duration": 29,
    "start_time": "2021-08-24T12:57:12.200Z"
   },
   {
    "duration": 523,
    "start_time": "2021-08-24T12:57:12.232Z"
   },
   {
    "duration": 16,
    "start_time": "2021-08-24T12:57:12.758Z"
   },
   {
    "duration": 451,
    "start_time": "2021-08-24T12:57:12.776Z"
   },
   {
    "duration": 5,
    "start_time": "2021-08-24T12:57:13.229Z"
   },
   {
    "duration": 511,
    "start_time": "2021-08-24T12:57:13.236Z"
   },
   {
    "duration": 398,
    "start_time": "2021-08-24T12:57:13.750Z"
   },
   {
    "duration": 5,
    "start_time": "2021-08-24T12:57:14.151Z"
   },
   {
    "duration": 42,
    "start_time": "2021-08-24T12:57:14.159Z"
   },
   {
    "duration": 27,
    "start_time": "2021-08-24T12:57:14.204Z"
   },
   {
    "duration": 12,
    "start_time": "2021-08-24T12:57:14.233Z"
   },
   {
    "duration": 18,
    "start_time": "2021-08-24T12:57:14.247Z"
   },
   {
    "duration": 40,
    "start_time": "2021-08-24T12:57:14.268Z"
   },
   {
    "duration": 146,
    "start_time": "2021-08-24T12:57:14.310Z"
   },
   {
    "duration": -563,
    "start_time": "2021-08-24T12:57:15.022Z"
   },
   {
    "duration": -566,
    "start_time": "2021-08-24T12:57:15.026Z"
   },
   {
    "duration": -567,
    "start_time": "2021-08-24T12:57:15.029Z"
   },
   {
    "duration": 6,
    "start_time": "2021-08-24T13:01:06.160Z"
   },
   {
    "duration": 19,
    "start_time": "2021-08-24T13:10:02.373Z"
   },
   {
    "duration": 135,
    "start_time": "2021-08-24T13:11:18.230Z"
   },
   {
    "duration": 17,
    "start_time": "2021-08-24T13:12:16.751Z"
   },
   {
    "duration": 12,
    "start_time": "2021-08-24T13:12:52.196Z"
   },
   {
    "duration": 10,
    "start_time": "2021-08-24T13:12:55.963Z"
   },
   {
    "duration": 24,
    "start_time": "2021-08-24T13:13:31.406Z"
   },
   {
    "duration": 24,
    "start_time": "2021-08-24T13:13:49.902Z"
   },
   {
    "duration": 1435,
    "start_time": "2021-08-24T13:22:04.611Z"
   },
   {
    "duration": 27,
    "start_time": "2021-08-24T13:22:06.049Z"
   },
   {
    "duration": 26,
    "start_time": "2021-08-24T13:22:06.079Z"
   },
   {
    "duration": 20,
    "start_time": "2021-08-24T13:22:06.109Z"
   },
   {
    "duration": 24,
    "start_time": "2021-08-24T13:22:06.132Z"
   },
   {
    "duration": 82,
    "start_time": "2021-08-24T13:22:06.158Z"
   },
   {
    "duration": 20,
    "start_time": "2021-08-24T13:22:06.244Z"
   },
   {
    "duration": 39,
    "start_time": "2021-08-24T13:22:06.270Z"
   },
   {
    "duration": 19,
    "start_time": "2021-08-24T13:22:06.314Z"
   },
   {
    "duration": 14,
    "start_time": "2021-08-24T13:22:06.336Z"
   },
   {
    "duration": 56,
    "start_time": "2021-08-24T13:22:06.354Z"
   },
   {
    "duration": 505,
    "start_time": "2021-08-24T13:22:06.413Z"
   },
   {
    "duration": 31,
    "start_time": "2021-08-24T13:22:06.921Z"
   },
   {
    "duration": 482,
    "start_time": "2021-08-24T13:22:06.955Z"
   },
   {
    "duration": 486,
    "start_time": "2021-08-24T13:22:07.440Z"
   },
   {
    "duration": 16,
    "start_time": "2021-08-24T13:22:07.929Z"
   },
   {
    "duration": 603,
    "start_time": "2021-08-24T13:22:07.949Z"
   },
   {
    "duration": 295,
    "start_time": "2021-08-24T13:22:08.555Z"
   },
   {
    "duration": 21,
    "start_time": "2021-08-24T13:22:08.852Z"
   },
   {
    "duration": 30,
    "start_time": "2021-08-24T13:22:08.876Z"
   },
   {
    "duration": 456,
    "start_time": "2021-08-24T13:22:08.909Z"
   },
   {
    "duration": 20,
    "start_time": "2021-08-24T13:22:09.367Z"
   },
   {
    "duration": 496,
    "start_time": "2021-08-24T13:22:09.404Z"
   },
   {
    "duration": 16,
    "start_time": "2021-08-24T13:22:09.904Z"
   },
   {
    "duration": 549,
    "start_time": "2021-08-24T13:22:09.922Z"
   },
   {
    "duration": 8,
    "start_time": "2021-08-24T13:22:10.475Z"
   },
   {
    "duration": 449,
    "start_time": "2021-08-24T13:22:10.486Z"
   },
   {
    "duration": 416,
    "start_time": "2021-08-24T13:22:10.938Z"
   },
   {
    "duration": 6,
    "start_time": "2021-08-24T13:22:11.357Z"
   },
   {
    "duration": 55,
    "start_time": "2021-08-24T13:22:11.366Z"
   },
   {
    "duration": 26,
    "start_time": "2021-08-24T13:22:11.424Z"
   },
   {
    "duration": 48,
    "start_time": "2021-08-24T13:22:11.453Z"
   },
   {
    "duration": 13,
    "start_time": "2021-08-24T13:22:11.504Z"
   },
   {
    "duration": 16,
    "start_time": "2021-08-24T13:22:11.520Z"
   },
   {
    "duration": 65,
    "start_time": "2021-08-24T13:22:11.538Z"
   },
   {
    "duration": 16,
    "start_time": "2021-08-24T13:22:11.607Z"
   },
   {
    "duration": 10,
    "start_time": "2021-08-24T13:22:11.626Z"
   },
   {
    "duration": 66,
    "start_time": "2021-08-24T13:22:11.639Z"
   },
   {
    "duration": 138,
    "start_time": "2021-08-24T13:56:33.997Z"
   },
   {
    "duration": 1070,
    "start_time": "2021-08-24T15:50:34.340Z"
   },
   {
    "duration": 20,
    "start_time": "2021-08-24T15:50:35.412Z"
   },
   {
    "duration": 20,
    "start_time": "2021-08-24T15:50:35.434Z"
   },
   {
    "duration": 33,
    "start_time": "2021-08-24T15:50:35.455Z"
   },
   {
    "duration": 15,
    "start_time": "2021-08-24T15:50:35.490Z"
   },
   {
    "duration": 47,
    "start_time": "2021-08-24T15:50:35.506Z"
   },
   {
    "duration": 15,
    "start_time": "2021-08-24T15:50:35.555Z"
   },
   {
    "duration": 28,
    "start_time": "2021-08-24T15:50:35.572Z"
   },
   {
    "duration": 18,
    "start_time": "2021-08-24T15:50:35.602Z"
   },
   {
    "duration": 10,
    "start_time": "2021-08-24T15:50:35.621Z"
   },
   {
    "duration": 12,
    "start_time": "2021-08-24T15:50:35.633Z"
   },
   {
    "duration": 193,
    "start_time": "2021-08-24T15:50:35.647Z"
   },
   {
    "duration": 14,
    "start_time": "2021-08-24T15:50:35.842Z"
   },
   {
    "duration": 287,
    "start_time": "2021-08-24T15:50:35.857Z"
   },
   {
    "duration": 265,
    "start_time": "2021-08-24T15:50:36.146Z"
   },
   {
    "duration": 11,
    "start_time": "2021-08-24T15:50:36.412Z"
   },
   {
    "duration": 377,
    "start_time": "2021-08-24T15:50:36.424Z"
   },
   {
    "duration": 158,
    "start_time": "2021-08-24T15:50:36.803Z"
   },
   {
    "duration": 13,
    "start_time": "2021-08-24T15:50:36.962Z"
   },
   {
    "duration": 5,
    "start_time": "2021-08-24T15:50:36.977Z"
   },
   {
    "duration": 252,
    "start_time": "2021-08-24T15:50:36.983Z"
   },
   {
    "duration": 14,
    "start_time": "2021-08-24T15:50:37.236Z"
   },
   {
    "duration": 327,
    "start_time": "2021-08-24T15:50:37.252Z"
   },
   {
    "duration": 10,
    "start_time": "2021-08-24T15:50:37.581Z"
   },
   {
    "duration": 267,
    "start_time": "2021-08-24T15:50:37.592Z"
   },
   {
    "duration": 4,
    "start_time": "2021-08-24T15:50:37.860Z"
   },
   {
    "duration": 283,
    "start_time": "2021-08-24T15:50:37.866Z"
   },
   {
    "duration": 283,
    "start_time": "2021-08-24T15:50:38.150Z"
   },
   {
    "duration": 8,
    "start_time": "2021-08-24T15:50:38.435Z"
   },
   {
    "duration": 16,
    "start_time": "2021-08-24T15:50:38.444Z"
   },
   {
    "duration": 16,
    "start_time": "2021-08-24T15:50:38.461Z"
   },
   {
    "duration": 5,
    "start_time": "2021-08-24T15:50:38.479Z"
   },
   {
    "duration": 9,
    "start_time": "2021-08-24T15:50:38.486Z"
   },
   {
    "duration": 44,
    "start_time": "2021-08-24T15:50:38.497Z"
   },
   {
    "duration": 11,
    "start_time": "2021-08-24T15:50:38.542Z"
   },
   {
    "duration": 9,
    "start_time": "2021-08-24T15:50:38.555Z"
   },
   {
    "duration": 8,
    "start_time": "2021-08-24T15:50:38.565Z"
   },
   {
    "duration": 14,
    "start_time": "2021-08-24T15:50:38.575Z"
   },
   {
    "duration": 445,
    "start_time": "2021-08-24T16:42:18.447Z"
   },
   {
    "duration": -633,
    "start_time": "2021-08-24T16:42:19.528Z"
   },
   {
    "duration": -648,
    "start_time": "2021-08-24T16:42:19.544Z"
   },
   {
    "duration": -661,
    "start_time": "2021-08-24T16:42:19.558Z"
   },
   {
    "duration": -669,
    "start_time": "2021-08-24T16:42:19.567Z"
   },
   {
    "duration": -678,
    "start_time": "2021-08-24T16:42:19.577Z"
   },
   {
    "duration": -684,
    "start_time": "2021-08-24T16:42:19.584Z"
   },
   {
    "duration": -699,
    "start_time": "2021-08-24T16:42:19.600Z"
   },
   {
    "duration": -713,
    "start_time": "2021-08-24T16:42:19.614Z"
   },
   {
    "duration": -738,
    "start_time": "2021-08-24T16:42:19.640Z"
   },
   {
    "duration": -747,
    "start_time": "2021-08-24T16:42:19.650Z"
   },
   {
    "duration": -757,
    "start_time": "2021-08-24T16:42:19.661Z"
   },
   {
    "duration": -763,
    "start_time": "2021-08-24T16:42:19.668Z"
   },
   {
    "duration": -772,
    "start_time": "2021-08-24T16:42:19.678Z"
   },
   {
    "duration": -781,
    "start_time": "2021-08-24T16:42:19.688Z"
   },
   {
    "duration": -804,
    "start_time": "2021-08-24T16:42:19.711Z"
   },
   {
    "duration": -811,
    "start_time": "2021-08-24T16:42:19.719Z"
   },
   {
    "duration": -821,
    "start_time": "2021-08-24T16:42:19.730Z"
   },
   {
    "duration": -829,
    "start_time": "2021-08-24T16:42:19.739Z"
   },
   {
    "duration": -857,
    "start_time": "2021-08-24T16:42:19.768Z"
   },
   {
    "duration": -866,
    "start_time": "2021-08-24T16:42:19.778Z"
   },
   {
    "duration": -876,
    "start_time": "2021-08-24T16:42:19.789Z"
   },
   {
    "duration": -888,
    "start_time": "2021-08-24T16:42:19.802Z"
   },
   {
    "duration": -900,
    "start_time": "2021-08-24T16:42:19.815Z"
   },
   {
    "duration": -907,
    "start_time": "2021-08-24T16:42:19.824Z"
   },
   {
    "duration": -916,
    "start_time": "2021-08-24T16:42:19.834Z"
   },
   {
    "duration": -930,
    "start_time": "2021-08-24T16:42:19.848Z"
   },
   {
    "duration": -943,
    "start_time": "2021-08-24T16:42:19.862Z"
   },
   {
    "duration": -969,
    "start_time": "2021-08-24T16:42:19.889Z"
   },
   {
    "duration": -981,
    "start_time": "2021-08-24T16:42:19.902Z"
   },
   {
    "duration": -991,
    "start_time": "2021-08-24T16:42:19.913Z"
   },
   {
    "duration": -1002,
    "start_time": "2021-08-24T16:42:19.925Z"
   },
   {
    "duration": -1009,
    "start_time": "2021-08-24T16:42:19.933Z"
   },
   {
    "duration": -1018,
    "start_time": "2021-08-24T16:42:19.943Z"
   },
   {
    "duration": -1024,
    "start_time": "2021-08-24T16:42:19.950Z"
   },
   {
    "duration": -1033,
    "start_time": "2021-08-24T16:42:19.960Z"
   },
   {
    "duration": -1047,
    "start_time": "2021-08-24T16:42:19.975Z"
   },
   {
    "duration": 21,
    "start_time": "2021-08-24T16:42:18.956Z"
   },
   {
    "duration": 384,
    "start_time": "2021-08-24T16:42:52.714Z"
   },
   {
    "duration": 3,
    "start_time": "2021-08-24T16:43:14.305Z"
   },
   {
    "duration": 20,
    "start_time": "2021-08-24T16:43:14.389Z"
   },
   {
    "duration": 17,
    "start_time": "2021-08-24T16:43:14.411Z"
   },
   {
    "duration": 29,
    "start_time": "2021-08-24T16:43:14.431Z"
   },
   {
    "duration": 21,
    "start_time": "2021-08-24T16:43:14.463Z"
   },
   {
    "duration": 60,
    "start_time": "2021-08-24T16:43:14.486Z"
   },
   {
    "duration": 22,
    "start_time": "2021-08-24T16:43:14.547Z"
   },
   {
    "duration": 35,
    "start_time": "2021-08-24T16:43:14.571Z"
   },
   {
    "duration": 15,
    "start_time": "2021-08-24T16:43:14.608Z"
   },
   {
    "duration": 22,
    "start_time": "2021-08-24T16:43:14.626Z"
   },
   {
    "duration": 20,
    "start_time": "2021-08-24T16:43:14.651Z"
   },
   {
    "duration": 332,
    "start_time": "2021-08-24T16:43:14.674Z"
   },
   {
    "duration": 34,
    "start_time": "2021-08-24T16:43:15.008Z"
   },
   {
    "duration": 286,
    "start_time": "2021-08-24T16:43:15.043Z"
   },
   {
    "duration": 332,
    "start_time": "2021-08-24T16:43:15.331Z"
   },
   {
    "duration": 11,
    "start_time": "2021-08-24T16:43:15.665Z"
   },
   {
    "duration": 360,
    "start_time": "2021-08-24T16:43:15.677Z"
   },
   {
    "duration": 149,
    "start_time": "2021-08-24T16:43:16.039Z"
   },
   {
    "duration": 12,
    "start_time": "2021-08-24T16:43:16.190Z"
   },
   {
    "duration": 18,
    "start_time": "2021-08-24T16:43:16.203Z"
   },
   {
    "duration": 248,
    "start_time": "2021-08-24T16:43:16.224Z"
   },
   {
    "duration": 13,
    "start_time": "2021-08-24T16:43:16.474Z"
   },
   {
    "duration": 338,
    "start_time": "2021-08-24T16:43:16.488Z"
   },
   {
    "duration": 21,
    "start_time": "2021-08-24T16:43:16.828Z"
   },
   {
    "duration": 323,
    "start_time": "2021-08-24T16:43:16.851Z"
   },
   {
    "duration": 4,
    "start_time": "2021-08-24T16:43:17.176Z"
   },
   {
    "duration": 272,
    "start_time": "2021-08-24T16:43:17.182Z"
   },
   {
    "duration": 289,
    "start_time": "2021-08-24T16:43:17.456Z"
   },
   {
    "duration": 4,
    "start_time": "2021-08-24T16:43:17.747Z"
   },
   {
    "duration": 20,
    "start_time": "2021-08-24T16:43:17.753Z"
   },
   {
    "duration": 18,
    "start_time": "2021-08-24T16:43:17.775Z"
   },
   {
    "duration": 5,
    "start_time": "2021-08-24T16:43:17.795Z"
   },
   {
    "duration": 47,
    "start_time": "2021-08-24T16:43:17.802Z"
   },
   {
    "duration": 9,
    "start_time": "2021-08-24T16:43:17.852Z"
   },
   {
    "duration": 11,
    "start_time": "2021-08-24T16:43:17.862Z"
   },
   {
    "duration": 10,
    "start_time": "2021-08-24T16:43:17.874Z"
   },
   {
    "duration": 19,
    "start_time": "2021-08-24T16:43:17.886Z"
   },
   {
    "duration": 34,
    "start_time": "2021-08-24T16:43:17.907Z"
   },
   {
    "duration": 3,
    "start_time": "2021-08-24T16:48:52.963Z"
   },
   {
    "duration": 3,
    "start_time": "2021-08-24T16:48:58.616Z"
   },
   {
    "duration": 20,
    "start_time": "2021-08-24T16:48:58.667Z"
   },
   {
    "duration": 14,
    "start_time": "2021-08-24T16:48:58.689Z"
   },
   {
    "duration": 10,
    "start_time": "2021-08-24T16:48:58.705Z"
   },
   {
    "duration": 13,
    "start_time": "2021-08-24T16:48:58.717Z"
   },
   {
    "duration": 50,
    "start_time": "2021-08-24T16:48:58.731Z"
   },
   {
    "duration": 11,
    "start_time": "2021-08-24T16:48:58.782Z"
   },
   {
    "duration": 24,
    "start_time": "2021-08-24T16:48:58.795Z"
   },
   {
    "duration": 10,
    "start_time": "2021-08-24T16:48:58.821Z"
   },
   {
    "duration": 9,
    "start_time": "2021-08-24T16:48:58.834Z"
   },
   {
    "duration": 13,
    "start_time": "2021-08-24T16:48:58.845Z"
   },
   {
    "duration": 260,
    "start_time": "2021-08-24T16:48:58.860Z"
   },
   {
    "duration": 22,
    "start_time": "2021-08-24T16:48:59.122Z"
   },
   {
    "duration": 270,
    "start_time": "2021-08-24T16:48:59.146Z"
   },
   {
    "duration": 270,
    "start_time": "2021-08-24T16:48:59.418Z"
   },
   {
    "duration": 10,
    "start_time": "2021-08-24T16:48:59.690Z"
   },
   {
    "duration": 354,
    "start_time": "2021-08-24T16:48:59.702Z"
   },
   {
    "duration": 166,
    "start_time": "2021-08-24T16:49:00.057Z"
   },
   {
    "duration": 25,
    "start_time": "2021-08-24T16:49:00.225Z"
   },
   {
    "duration": 20,
    "start_time": "2021-08-24T16:49:00.252Z"
   },
   {
    "duration": 278,
    "start_time": "2021-08-24T16:49:00.273Z"
   },
   {
    "duration": 13,
    "start_time": "2021-08-24T16:49:00.553Z"
   },
   {
    "duration": 402,
    "start_time": "2021-08-24T16:49:00.569Z"
   },
   {
    "duration": 10,
    "start_time": "2021-08-24T16:49:00.973Z"
   },
   {
    "duration": 276,
    "start_time": "2021-08-24T16:49:00.984Z"
   },
   {
    "duration": 3,
    "start_time": "2021-08-24T16:49:01.262Z"
   },
   {
    "duration": 300,
    "start_time": "2021-08-24T16:49:01.267Z"
   },
   {
    "duration": 296,
    "start_time": "2021-08-24T16:49:01.569Z"
   },
   {
    "duration": 3,
    "start_time": "2021-08-24T16:49:01.867Z"
   },
   {
    "duration": 16,
    "start_time": "2021-08-24T16:49:01.872Z"
   },
   {
    "duration": 18,
    "start_time": "2021-08-24T16:49:01.890Z"
   },
   {
    "duration": 10,
    "start_time": "2021-08-24T16:49:01.909Z"
   },
   {
    "duration": 26,
    "start_time": "2021-08-24T16:49:01.920Z"
   },
   {
    "duration": 16,
    "start_time": "2021-08-24T16:49:01.948Z"
   },
   {
    "duration": 19,
    "start_time": "2021-08-24T16:49:01.965Z"
   },
   {
    "duration": 16,
    "start_time": "2021-08-24T16:49:01.986Z"
   },
   {
    "duration": 27,
    "start_time": "2021-08-24T16:49:02.003Z"
   },
   {
    "duration": 22,
    "start_time": "2021-08-24T16:49:02.031Z"
   },
   {
    "duration": 1075,
    "start_time": "2021-08-24T16:49:40.342Z"
   },
   {
    "duration": 20,
    "start_time": "2021-08-24T16:49:41.419Z"
   },
   {
    "duration": 15,
    "start_time": "2021-08-24T16:49:41.442Z"
   },
   {
    "duration": 11,
    "start_time": "2021-08-24T16:49:41.459Z"
   },
   {
    "duration": 10,
    "start_time": "2021-08-24T16:49:41.472Z"
   },
   {
    "duration": 49,
    "start_time": "2021-08-24T16:49:41.483Z"
   },
   {
    "duration": 12,
    "start_time": "2021-08-24T16:49:41.534Z"
   },
   {
    "duration": 31,
    "start_time": "2021-08-24T16:49:41.548Z"
   },
   {
    "duration": 10,
    "start_time": "2021-08-24T16:49:41.581Z"
   },
   {
    "duration": 7,
    "start_time": "2021-08-24T16:49:41.593Z"
   },
   {
    "duration": 9,
    "start_time": "2021-08-24T16:49:41.601Z"
   },
   {
    "duration": 199,
    "start_time": "2021-08-24T16:49:41.612Z"
   },
   {
    "duration": 27,
    "start_time": "2021-08-24T16:49:41.813Z"
   },
   {
    "duration": 275,
    "start_time": "2021-08-24T16:49:41.842Z"
   },
   {
    "duration": 270,
    "start_time": "2021-08-24T16:49:42.118Z"
   },
   {
    "duration": 10,
    "start_time": "2021-08-24T16:49:42.390Z"
   },
   {
    "duration": 357,
    "start_time": "2021-08-24T16:49:42.401Z"
   },
   {
    "duration": 160,
    "start_time": "2021-08-24T16:49:42.759Z"
   },
   {
    "duration": 20,
    "start_time": "2021-08-24T16:49:42.921Z"
   },
   {
    "duration": 7,
    "start_time": "2021-08-24T16:49:42.943Z"
   },
   {
    "duration": 250,
    "start_time": "2021-08-24T16:49:42.951Z"
   },
   {
    "duration": 13,
    "start_time": "2021-08-24T16:49:43.203Z"
   },
   {
    "duration": 351,
    "start_time": "2021-08-24T16:49:43.219Z"
   },
   {
    "duration": 11,
    "start_time": "2021-08-24T16:49:43.572Z"
   },
   {
    "duration": 276,
    "start_time": "2021-08-24T16:49:43.584Z"
   },
   {
    "duration": 4,
    "start_time": "2021-08-24T16:49:43.862Z"
   },
   {
    "duration": 285,
    "start_time": "2021-08-24T16:49:43.868Z"
   },
   {
    "duration": 285,
    "start_time": "2021-08-24T16:49:44.155Z"
   },
   {
    "duration": 4,
    "start_time": "2021-08-24T16:49:44.442Z"
   },
   {
    "duration": 17,
    "start_time": "2021-08-24T16:49:44.448Z"
   },
   {
    "duration": 15,
    "start_time": "2021-08-24T16:49:44.466Z"
   },
   {
    "duration": 6,
    "start_time": "2021-08-24T16:49:44.483Z"
   },
   {
    "duration": 12,
    "start_time": "2021-08-24T16:49:44.490Z"
   },
   {
    "duration": 44,
    "start_time": "2021-08-24T16:49:44.504Z"
   },
   {
    "duration": 13,
    "start_time": "2021-08-24T16:49:44.549Z"
   },
   {
    "duration": 8,
    "start_time": "2021-08-24T16:49:44.563Z"
   },
   {
    "duration": 8,
    "start_time": "2021-08-24T16:49:44.572Z"
   },
   {
    "duration": 14,
    "start_time": "2021-08-24T16:49:44.582Z"
   },
   {
    "duration": 3,
    "start_time": "2021-08-24T17:23:07.559Z"
   },
   {
    "duration": 21,
    "start_time": "2021-08-24T17:23:07.593Z"
   },
   {
    "duration": 30,
    "start_time": "2021-08-24T17:23:07.616Z"
   },
   {
    "duration": 35,
    "start_time": "2021-08-24T17:23:07.648Z"
   },
   {
    "duration": 25,
    "start_time": "2021-08-24T17:23:07.685Z"
   },
   {
    "duration": 50,
    "start_time": "2021-08-24T17:23:07.712Z"
   },
   {
    "duration": 19,
    "start_time": "2021-08-24T17:23:07.764Z"
   },
   {
    "duration": 37,
    "start_time": "2021-08-24T17:23:07.785Z"
   },
   {
    "duration": 32,
    "start_time": "2021-08-24T17:23:07.824Z"
   },
   {
    "duration": 21,
    "start_time": "2021-08-24T17:23:07.858Z"
   },
   {
    "duration": 27,
    "start_time": "2021-08-24T17:23:07.881Z"
   },
   {
    "duration": 204,
    "start_time": "2021-08-24T17:23:07.909Z"
   },
   {
    "duration": 26,
    "start_time": "2021-08-24T17:23:08.115Z"
   },
   {
    "duration": 297,
    "start_time": "2021-08-24T17:23:08.143Z"
   },
   {
    "duration": 353,
    "start_time": "2021-08-24T17:23:08.442Z"
   },
   {
    "duration": 11,
    "start_time": "2021-08-24T17:23:08.797Z"
   },
   {
    "duration": 413,
    "start_time": "2021-08-24T17:23:08.810Z"
   },
   {
    "duration": 169,
    "start_time": "2021-08-24T17:23:09.224Z"
   },
   {
    "duration": 13,
    "start_time": "2021-08-24T17:23:09.395Z"
   },
   {
    "duration": 9,
    "start_time": "2021-08-24T17:23:09.410Z"
   },
   {
    "duration": 273,
    "start_time": "2021-08-24T17:23:09.422Z"
   },
   {
    "duration": 12,
    "start_time": "2021-08-24T17:23:09.697Z"
   },
   {
    "duration": 355,
    "start_time": "2021-08-24T17:23:09.711Z"
   },
   {
    "duration": 11,
    "start_time": "2021-08-24T17:23:10.068Z"
   },
   {
    "duration": 277,
    "start_time": "2021-08-24T17:23:10.081Z"
   },
   {
    "duration": 4,
    "start_time": "2021-08-24T17:23:10.360Z"
   },
   {
    "duration": 288,
    "start_time": "2021-08-24T17:23:10.365Z"
   },
   {
    "duration": 361,
    "start_time": "2021-08-24T17:23:10.655Z"
   },
   {
    "duration": 4,
    "start_time": "2021-08-24T17:23:11.017Z"
   },
   {
    "duration": 24,
    "start_time": "2021-08-24T17:23:11.023Z"
   },
   {
    "duration": 16,
    "start_time": "2021-08-24T17:23:11.049Z"
   },
   {
    "duration": 5,
    "start_time": "2021-08-24T17:23:11.067Z"
   },
   {
    "duration": 18,
    "start_time": "2021-08-24T17:23:11.074Z"
   },
   {
    "duration": 51,
    "start_time": "2021-08-24T17:23:11.094Z"
   },
   {
    "duration": 18,
    "start_time": "2021-08-24T17:23:11.148Z"
   },
   {
    "duration": 12,
    "start_time": "2021-08-24T17:23:11.168Z"
   },
   {
    "duration": 65,
    "start_time": "2021-08-24T17:23:11.183Z"
   },
   {
    "duration": 22,
    "start_time": "2021-08-24T17:23:11.251Z"
   },
   {
    "duration": 304,
    "start_time": "2021-08-24T19:23:41.816Z"
   },
   {
    "duration": 1619,
    "start_time": "2021-08-24T19:23:49.263Z"
   },
   {
    "duration": 24,
    "start_time": "2021-08-24T19:23:50.885Z"
   },
   {
    "duration": 16,
    "start_time": "2021-08-24T19:23:50.912Z"
   },
   {
    "duration": 32,
    "start_time": "2021-08-24T19:23:50.931Z"
   },
   {
    "duration": 15,
    "start_time": "2021-08-24T19:23:50.965Z"
   },
   {
    "duration": 52,
    "start_time": "2021-08-24T19:23:50.983Z"
   },
   {
    "duration": 17,
    "start_time": "2021-08-24T19:23:51.037Z"
   },
   {
    "duration": 28,
    "start_time": "2021-08-24T19:23:51.063Z"
   },
   {
    "duration": 21,
    "start_time": "2021-08-24T19:23:51.094Z"
   },
   {
    "duration": 13,
    "start_time": "2021-08-24T19:23:51.117Z"
   },
   {
    "duration": 36,
    "start_time": "2021-08-24T19:23:51.133Z"
   },
   {
    "duration": 329,
    "start_time": "2021-08-24T19:23:51.172Z"
   },
   {
    "duration": 22,
    "start_time": "2021-08-24T19:23:51.504Z"
   },
   {
    "duration": 479,
    "start_time": "2021-08-24T19:23:51.528Z"
   },
   {
    "duration": 494,
    "start_time": "2021-08-24T19:23:52.009Z"
   },
   {
    "duration": 16,
    "start_time": "2021-08-24T19:23:52.505Z"
   },
   {
    "duration": 553,
    "start_time": "2021-08-24T19:23:52.523Z"
   },
   {
    "duration": 295,
    "start_time": "2021-08-24T19:23:53.078Z"
   },
   {
    "duration": 20,
    "start_time": "2021-08-24T19:23:53.375Z"
   },
   {
    "duration": 10,
    "start_time": "2021-08-24T19:23:53.397Z"
   },
   {
    "duration": 420,
    "start_time": "2021-08-24T19:23:53.409Z"
   },
   {
    "duration": 19,
    "start_time": "2021-08-24T19:23:53.831Z"
   },
   {
    "duration": 474,
    "start_time": "2021-08-24T19:23:53.865Z"
   },
   {
    "duration": 23,
    "start_time": "2021-08-24T19:23:54.341Z"
   },
   {
    "duration": 405,
    "start_time": "2021-08-24T19:23:54.367Z"
   },
   {
    "duration": 5,
    "start_time": "2021-08-24T19:23:54.774Z"
   },
   {
    "duration": 407,
    "start_time": "2021-08-24T19:23:54.781Z"
   },
   {
    "duration": 389,
    "start_time": "2021-08-24T19:23:55.190Z"
   },
   {
    "duration": 5,
    "start_time": "2021-08-24T19:23:55.582Z"
   },
   {
    "duration": 25,
    "start_time": "2021-08-24T19:23:55.590Z"
   },
   {
    "duration": 57,
    "start_time": "2021-08-24T19:23:55.618Z"
   },
   {
    "duration": 8,
    "start_time": "2021-08-24T19:23:55.677Z"
   },
   {
    "duration": 12,
    "start_time": "2021-08-24T19:23:55.687Z"
   },
   {
    "duration": 60,
    "start_time": "2021-08-24T19:23:55.702Z"
   },
   {
    "duration": 17,
    "start_time": "2021-08-24T19:23:55.765Z"
   },
   {
    "duration": 11,
    "start_time": "2021-08-24T19:23:55.784Z"
   },
   {
    "duration": 10,
    "start_time": "2021-08-24T19:23:55.798Z"
   },
   {
    "duration": 58,
    "start_time": "2021-08-24T19:23:55.811Z"
   },
   {
    "duration": 25,
    "start_time": "2021-08-24T19:27:18.279Z"
   },
   {
    "duration": 1346,
    "start_time": "2021-08-24T19:27:47.266Z"
   },
   {
    "duration": 23,
    "start_time": "2021-08-24T19:27:48.615Z"
   },
   {
    "duration": 40,
    "start_time": "2021-08-24T19:27:48.641Z"
   },
   {
    "duration": 20,
    "start_time": "2021-08-24T19:27:48.684Z"
   },
   {
    "duration": 15,
    "start_time": "2021-08-24T19:27:48.707Z"
   },
   {
    "duration": 53,
    "start_time": "2021-08-24T19:27:48.725Z"
   },
   {
    "duration": 17,
    "start_time": "2021-08-24T19:27:48.781Z"
   },
   {
    "duration": 30,
    "start_time": "2021-08-24T19:27:48.802Z"
   },
   {
    "duration": 38,
    "start_time": "2021-08-24T19:27:48.835Z"
   },
   {
    "duration": 12,
    "start_time": "2021-08-24T19:27:48.875Z"
   },
   {
    "duration": 14,
    "start_time": "2021-08-24T19:27:48.889Z"
   },
   {
    "duration": 361,
    "start_time": "2021-08-24T19:27:48.906Z"
   },
   {
    "duration": 21,
    "start_time": "2021-08-24T19:27:49.270Z"
   },
   {
    "duration": 457,
    "start_time": "2021-08-24T19:27:49.294Z"
   },
   {
    "duration": 448,
    "start_time": "2021-08-24T19:27:49.761Z"
   },
   {
    "duration": 15,
    "start_time": "2021-08-24T19:27:50.212Z"
   },
   {
    "duration": 547,
    "start_time": "2021-08-24T19:27:50.230Z"
   },
   {
    "duration": 296,
    "start_time": "2021-08-24T19:27:50.779Z"
   },
   {
    "duration": 20,
    "start_time": "2021-08-24T19:27:51.078Z"
   },
   {
    "duration": 14,
    "start_time": "2021-08-24T19:27:51.101Z"
   },
   {
    "duration": 482,
    "start_time": "2021-08-24T19:27:51.118Z"
   },
   {
    "duration": 20,
    "start_time": "2021-08-24T19:27:51.603Z"
   },
   {
    "duration": 521,
    "start_time": "2021-08-24T19:27:51.627Z"
   },
   {
    "duration": 21,
    "start_time": "2021-08-24T19:27:52.151Z"
   },
   {
    "duration": 411,
    "start_time": "2021-08-24T19:27:52.174Z"
   },
   {
    "duration": 5,
    "start_time": "2021-08-24T19:27:52.588Z"
   },
   {
    "duration": 398,
    "start_time": "2021-08-24T19:27:52.596Z"
   },
   {
    "duration": 371,
    "start_time": "2021-08-24T19:27:52.997Z"
   },
   {
    "duration": 6,
    "start_time": "2021-08-24T19:27:53.371Z"
   },
   {
    "duration": 31,
    "start_time": "2021-08-24T19:27:53.379Z"
   },
   {
    "duration": 23,
    "start_time": "2021-08-24T19:27:53.413Z"
   },
   {
    "duration": 9,
    "start_time": "2021-08-24T19:27:53.462Z"
   },
   {
    "duration": 15,
    "start_time": "2021-08-24T19:27:53.473Z"
   },
   {
    "duration": 15,
    "start_time": "2021-08-24T19:27:53.490Z"
   },
   {
    "duration": 17,
    "start_time": "2021-08-24T19:27:53.507Z"
   },
   {
    "duration": 12,
    "start_time": "2021-08-24T19:27:53.562Z"
   },
   {
    "duration": 15,
    "start_time": "2021-08-24T19:27:53.576Z"
   },
   {
    "duration": 22,
    "start_time": "2021-08-24T19:27:53.594Z"
   },
   {
    "duration": 1384,
    "start_time": "2021-08-25T16:09:03.071Z"
   },
   {
    "duration": 26,
    "start_time": "2021-08-25T16:09:04.458Z"
   },
   {
    "duration": 25,
    "start_time": "2021-08-25T16:09:04.488Z"
   },
   {
    "duration": 17,
    "start_time": "2021-08-25T16:09:04.516Z"
   },
   {
    "duration": 14,
    "start_time": "2021-08-25T16:09:04.535Z"
   },
   {
    "duration": 79,
    "start_time": "2021-08-25T16:09:04.552Z"
   },
   {
    "duration": 17,
    "start_time": "2021-08-25T16:09:04.633Z"
   },
   {
    "duration": 30,
    "start_time": "2021-08-25T16:09:04.654Z"
   },
   {
    "duration": 27,
    "start_time": "2021-08-25T16:09:04.687Z"
   },
   {
    "duration": 12,
    "start_time": "2021-08-25T16:09:04.717Z"
   },
   {
    "duration": 15,
    "start_time": "2021-08-25T16:09:04.731Z"
   },
   {
    "duration": 371,
    "start_time": "2021-08-25T16:09:04.748Z"
   },
   {
    "duration": 22,
    "start_time": "2021-08-25T16:09:05.121Z"
   },
   {
    "duration": 491,
    "start_time": "2021-08-25T16:09:05.145Z"
   },
   {
    "duration": 480,
    "start_time": "2021-08-25T16:09:05.639Z"
   },
   {
    "duration": 17,
    "start_time": "2021-08-25T16:09:06.121Z"
   },
   {
    "duration": 575,
    "start_time": "2021-08-25T16:09:06.141Z"
   },
   {
    "duration": 290,
    "start_time": "2021-08-25T16:09:06.719Z"
   },
   {
    "duration": 21,
    "start_time": "2021-08-25T16:09:07.011Z"
   },
   {
    "duration": 8,
    "start_time": "2021-08-25T16:09:07.034Z"
   },
   {
    "duration": 440,
    "start_time": "2021-08-25T16:09:07.045Z"
   },
   {
    "duration": 29,
    "start_time": "2021-08-25T16:09:07.488Z"
   },
   {
    "duration": 465,
    "start_time": "2021-08-25T16:09:07.522Z"
   },
   {
    "duration": 22,
    "start_time": "2021-08-25T16:09:07.990Z"
   },
   {
    "duration": 408,
    "start_time": "2021-08-25T16:09:08.015Z"
   },
   {
    "duration": 6,
    "start_time": "2021-08-25T16:09:08.426Z"
   },
   {
    "duration": 381,
    "start_time": "2021-08-25T16:09:08.434Z"
   },
   {
    "duration": 408,
    "start_time": "2021-08-25T16:09:08.818Z"
   },
   {
    "duration": 5,
    "start_time": "2021-08-25T16:09:09.229Z"
   },
   {
    "duration": 23,
    "start_time": "2021-08-25T16:09:09.236Z"
   },
   {
    "duration": 53,
    "start_time": "2021-08-25T16:09:09.261Z"
   },
   {
    "duration": 7,
    "start_time": "2021-08-25T16:09:09.317Z"
   },
   {
    "duration": 16,
    "start_time": "2021-08-25T16:09:09.327Z"
   },
   {
    "duration": 16,
    "start_time": "2021-08-25T16:09:09.346Z"
   },
   {
    "duration": 17,
    "start_time": "2021-08-25T16:09:09.401Z"
   },
   {
    "duration": 11,
    "start_time": "2021-08-25T16:09:09.421Z"
   },
   {
    "duration": 13,
    "start_time": "2021-08-25T16:09:09.434Z"
   },
   {
    "duration": 59,
    "start_time": "2021-08-25T16:09:09.449Z"
   },
   {
    "duration": 1085,
    "start_time": "2022-01-05T12:57:15.936Z"
   },
   {
    "duration": 20,
    "start_time": "2022-01-05T12:57:17.023Z"
   },
   {
    "duration": 33,
    "start_time": "2022-01-05T12:57:17.045Z"
   },
   {
    "duration": 27,
    "start_time": "2022-01-05T12:57:17.080Z"
   },
   {
    "duration": 11,
    "start_time": "2022-01-05T12:57:17.108Z"
   },
   {
    "duration": 64,
    "start_time": "2022-01-05T12:57:17.121Z"
   },
   {
    "duration": 14,
    "start_time": "2022-01-05T12:57:17.186Z"
   },
   {
    "duration": 32,
    "start_time": "2022-01-05T12:57:17.202Z"
   },
   {
    "duration": 30,
    "start_time": "2022-01-05T12:57:17.236Z"
   },
   {
    "duration": 19,
    "start_time": "2022-01-05T12:57:17.268Z"
   },
   {
    "duration": 30,
    "start_time": "2022-01-05T12:57:17.288Z"
   },
   {
    "duration": 193,
    "start_time": "2022-01-05T12:57:17.320Z"
   },
   {
    "duration": 14,
    "start_time": "2022-01-05T12:57:17.514Z"
   },
   {
    "duration": 297,
    "start_time": "2022-01-05T12:57:17.530Z"
   },
   {
    "duration": 291,
    "start_time": "2022-01-05T12:57:17.828Z"
   },
   {
    "duration": 11,
    "start_time": "2022-01-05T12:57:18.121Z"
   },
   {
    "duration": 397,
    "start_time": "2022-01-05T12:57:18.133Z"
   },
   {
    "duration": 155,
    "start_time": "2022-01-05T12:57:18.531Z"
   },
   {
    "duration": 12,
    "start_time": "2022-01-05T12:57:18.688Z"
   },
   {
    "duration": 11,
    "start_time": "2022-01-05T12:57:18.702Z"
   },
   {
    "duration": 257,
    "start_time": "2022-01-05T12:57:18.714Z"
   },
   {
    "duration": 13,
    "start_time": "2022-01-05T12:57:18.973Z"
   },
   {
    "duration": 320,
    "start_time": "2022-01-05T12:57:18.989Z"
   },
   {
    "duration": 10,
    "start_time": "2022-01-05T12:57:19.311Z"
   },
   {
    "duration": 319,
    "start_time": "2022-01-05T12:57:19.323Z"
   },
   {
    "duration": 4,
    "start_time": "2022-01-05T12:57:19.644Z"
   },
   {
    "duration": 297,
    "start_time": "2022-01-05T12:57:19.661Z"
   },
   {
    "duration": 322,
    "start_time": "2022-01-05T12:57:19.960Z"
   },
   {
    "duration": 3,
    "start_time": "2022-01-05T12:57:20.284Z"
   },
   {
    "duration": 34,
    "start_time": "2022-01-05T12:57:20.289Z"
   },
   {
    "duration": 33,
    "start_time": "2022-01-05T12:57:20.325Z"
   },
   {
    "duration": 7,
    "start_time": "2022-01-05T12:57:20.360Z"
   },
   {
    "duration": 12,
    "start_time": "2022-01-05T12:57:20.368Z"
   },
   {
    "duration": 16,
    "start_time": "2022-01-05T12:57:20.382Z"
   },
   {
    "duration": 14,
    "start_time": "2022-01-05T12:57:20.400Z"
   },
   {
    "duration": 22,
    "start_time": "2022-01-05T12:57:20.416Z"
   },
   {
    "duration": 17,
    "start_time": "2022-01-05T12:57:20.440Z"
   },
   {
    "duration": 15,
    "start_time": "2022-01-05T12:57:20.459Z"
   }
  ],
  "kernelspec": {
   "display_name": "Python 3",
   "language": "python",
   "name": "python3"
  },
  "language_info": {
   "codemirror_mode": {
    "name": "ipython",
    "version": 3
   },
   "file_extension": ".py",
   "mimetype": "text/x-python",
   "name": "python",
   "nbconvert_exporter": "python",
   "pygments_lexer": "ipython3",
   "version": "3.8.8"
  },
  "toc": {
   "base_numbering": 1,
   "nav_menu": {},
   "number_sections": true,
   "sideBar": true,
   "skip_h1_title": true,
   "title_cell": "Table of Contents",
   "title_sidebar": "Contents",
   "toc_cell": false,
   "toc_position": {
    "height": "calc(100% - 180px)",
    "left": "10px",
    "top": "150px",
    "width": "165px"
   },
   "toc_section_display": true,
   "toc_window_display": true
  }
 },
 "nbformat": 4,
 "nbformat_minor": 2
}
