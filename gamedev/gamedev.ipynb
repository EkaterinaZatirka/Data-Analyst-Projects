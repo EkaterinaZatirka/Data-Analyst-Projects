{
 "cells": [
  {
   "cell_type": "markdown",
   "metadata": {},
   "source": [
    "# Анализ популярности компьютерных игр, и влияющие на нее факторы."
   ]
  },
  {
   "cell_type": "markdown",
   "metadata": {},
   "source": [
    "Интернет-магазин «Стримчик» продаёт по всему миру компьютерные игры. Из открытых источников доступны исторические данные о продажах игр, оценки пользователей и экспертов, жанры и платформы (например, Xbox или PlayStation). Необходимо выявить определяющие успешность игры закономерности, что позволит сделать ставку на потенциально популярный продукт и спланировать рекламные кампании.\n"
   ]
  },
  {
   "cell_type": "markdown",
   "metadata": {},
   "source": [
    "## Изучение данных файла."
   ]
  },
  {
   "cell_type": "code",
   "execution_count": 23,
   "metadata": {},
   "outputs": [
    {
     "name": "stdout",
     "output_type": "stream",
     "text": [
      "<class 'pandas.core.frame.DataFrame'>\n",
      "RangeIndex: 16715 entries, 0 to 16714\n",
      "Data columns (total 11 columns):\n",
      "Name               16713 non-null object\n",
      "Platform           16715 non-null object\n",
      "Year_of_Release    16446 non-null float64\n",
      "Genre              16713 non-null object\n",
      "NA_sales           16715 non-null float64\n",
      "EU_sales           16715 non-null float64\n",
      "JP_sales           16715 non-null float64\n",
      "Other_sales        16715 non-null float64\n",
      "Critic_Score       8137 non-null float64\n",
      "User_Score         10014 non-null object\n",
      "Rating             9949 non-null object\n",
      "dtypes: float64(6), object(5)\n",
      "memory usage: 1.4+ MB\n",
      "None\n"
     ]
    },
    {
     "data": {
      "text/html": [
       "<div>\n",
       "<style scoped>\n",
       "    .dataframe tbody tr th:only-of-type {\n",
       "        vertical-align: middle;\n",
       "    }\n",
       "\n",
       "    .dataframe tbody tr th {\n",
       "        vertical-align: top;\n",
       "    }\n",
       "\n",
       "    .dataframe thead th {\n",
       "        text-align: right;\n",
       "    }\n",
       "</style>\n",
       "<table border=\"1\" class=\"dataframe\">\n",
       "  <thead>\n",
       "    <tr style=\"text-align: right;\">\n",
       "      <th></th>\n",
       "      <th>Name</th>\n",
       "      <th>Platform</th>\n",
       "      <th>Year_of_Release</th>\n",
       "      <th>Genre</th>\n",
       "      <th>NA_sales</th>\n",
       "      <th>EU_sales</th>\n",
       "      <th>JP_sales</th>\n",
       "      <th>Other_sales</th>\n",
       "      <th>Critic_Score</th>\n",
       "      <th>User_Score</th>\n",
       "      <th>Rating</th>\n",
       "    </tr>\n",
       "  </thead>\n",
       "  <tbody>\n",
       "    <tr>\n",
       "      <td>0</td>\n",
       "      <td>Wii Sports</td>\n",
       "      <td>Wii</td>\n",
       "      <td>2006.0</td>\n",
       "      <td>Sports</td>\n",
       "      <td>41.36</td>\n",
       "      <td>28.96</td>\n",
       "      <td>3.77</td>\n",
       "      <td>8.45</td>\n",
       "      <td>76.0</td>\n",
       "      <td>8</td>\n",
       "      <td>E</td>\n",
       "    </tr>\n",
       "    <tr>\n",
       "      <td>1</td>\n",
       "      <td>Super Mario Bros.</td>\n",
       "      <td>NES</td>\n",
       "      <td>1985.0</td>\n",
       "      <td>Platform</td>\n",
       "      <td>29.08</td>\n",
       "      <td>3.58</td>\n",
       "      <td>6.81</td>\n",
       "      <td>0.77</td>\n",
       "      <td>NaN</td>\n",
       "      <td>NaN</td>\n",
       "      <td>NaN</td>\n",
       "    </tr>\n",
       "    <tr>\n",
       "      <td>2</td>\n",
       "      <td>Mario Kart Wii</td>\n",
       "      <td>Wii</td>\n",
       "      <td>2008.0</td>\n",
       "      <td>Racing</td>\n",
       "      <td>15.68</td>\n",
       "      <td>12.76</td>\n",
       "      <td>3.79</td>\n",
       "      <td>3.29</td>\n",
       "      <td>82.0</td>\n",
       "      <td>8.3</td>\n",
       "      <td>E</td>\n",
       "    </tr>\n",
       "    <tr>\n",
       "      <td>3</td>\n",
       "      <td>Wii Sports Resort</td>\n",
       "      <td>Wii</td>\n",
       "      <td>2009.0</td>\n",
       "      <td>Sports</td>\n",
       "      <td>15.61</td>\n",
       "      <td>10.93</td>\n",
       "      <td>3.28</td>\n",
       "      <td>2.95</td>\n",
       "      <td>80.0</td>\n",
       "      <td>8</td>\n",
       "      <td>E</td>\n",
       "    </tr>\n",
       "    <tr>\n",
       "      <td>4</td>\n",
       "      <td>Pokemon Red/Pokemon Blue</td>\n",
       "      <td>GB</td>\n",
       "      <td>1996.0</td>\n",
       "      <td>Role-Playing</td>\n",
       "      <td>11.27</td>\n",
       "      <td>8.89</td>\n",
       "      <td>10.22</td>\n",
       "      <td>1.00</td>\n",
       "      <td>NaN</td>\n",
       "      <td>NaN</td>\n",
       "      <td>NaN</td>\n",
       "    </tr>\n",
       "    <tr>\n",
       "      <td>5</td>\n",
       "      <td>Tetris</td>\n",
       "      <td>GB</td>\n",
       "      <td>1989.0</td>\n",
       "      <td>Puzzle</td>\n",
       "      <td>23.20</td>\n",
       "      <td>2.26</td>\n",
       "      <td>4.22</td>\n",
       "      <td>0.58</td>\n",
       "      <td>NaN</td>\n",
       "      <td>NaN</td>\n",
       "      <td>NaN</td>\n",
       "    </tr>\n",
       "    <tr>\n",
       "      <td>6</td>\n",
       "      <td>New Super Mario Bros.</td>\n",
       "      <td>DS</td>\n",
       "      <td>2006.0</td>\n",
       "      <td>Platform</td>\n",
       "      <td>11.28</td>\n",
       "      <td>9.14</td>\n",
       "      <td>6.50</td>\n",
       "      <td>2.88</td>\n",
       "      <td>89.0</td>\n",
       "      <td>8.5</td>\n",
       "      <td>E</td>\n",
       "    </tr>\n",
       "    <tr>\n",
       "      <td>7</td>\n",
       "      <td>Wii Play</td>\n",
       "      <td>Wii</td>\n",
       "      <td>2006.0</td>\n",
       "      <td>Misc</td>\n",
       "      <td>13.96</td>\n",
       "      <td>9.18</td>\n",
       "      <td>2.93</td>\n",
       "      <td>2.84</td>\n",
       "      <td>58.0</td>\n",
       "      <td>6.6</td>\n",
       "      <td>E</td>\n",
       "    </tr>\n",
       "    <tr>\n",
       "      <td>8</td>\n",
       "      <td>New Super Mario Bros. Wii</td>\n",
       "      <td>Wii</td>\n",
       "      <td>2009.0</td>\n",
       "      <td>Platform</td>\n",
       "      <td>14.44</td>\n",
       "      <td>6.94</td>\n",
       "      <td>4.70</td>\n",
       "      <td>2.24</td>\n",
       "      <td>87.0</td>\n",
       "      <td>8.4</td>\n",
       "      <td>E</td>\n",
       "    </tr>\n",
       "    <tr>\n",
       "      <td>9</td>\n",
       "      <td>Duck Hunt</td>\n",
       "      <td>NES</td>\n",
       "      <td>1984.0</td>\n",
       "      <td>Shooter</td>\n",
       "      <td>26.93</td>\n",
       "      <td>0.63</td>\n",
       "      <td>0.28</td>\n",
       "      <td>0.47</td>\n",
       "      <td>NaN</td>\n",
       "      <td>NaN</td>\n",
       "      <td>NaN</td>\n",
       "    </tr>\n",
       "  </tbody>\n",
       "</table>\n",
       "</div>"
      ],
      "text/plain": [
       "                        Name Platform  Year_of_Release         Genre  \\\n",
       "0                 Wii Sports      Wii           2006.0        Sports   \n",
       "1          Super Mario Bros.      NES           1985.0      Platform   \n",
       "2             Mario Kart Wii      Wii           2008.0        Racing   \n",
       "3          Wii Sports Resort      Wii           2009.0        Sports   \n",
       "4   Pokemon Red/Pokemon Blue       GB           1996.0  Role-Playing   \n",
       "5                     Tetris       GB           1989.0        Puzzle   \n",
       "6      New Super Mario Bros.       DS           2006.0      Platform   \n",
       "7                   Wii Play      Wii           2006.0          Misc   \n",
       "8  New Super Mario Bros. Wii      Wii           2009.0      Platform   \n",
       "9                  Duck Hunt      NES           1984.0       Shooter   \n",
       "\n",
       "   NA_sales  EU_sales  JP_sales  Other_sales  Critic_Score User_Score Rating  \n",
       "0     41.36     28.96      3.77         8.45          76.0          8      E  \n",
       "1     29.08      3.58      6.81         0.77           NaN        NaN    NaN  \n",
       "2     15.68     12.76      3.79         3.29          82.0        8.3      E  \n",
       "3     15.61     10.93      3.28         2.95          80.0          8      E  \n",
       "4     11.27      8.89     10.22         1.00           NaN        NaN    NaN  \n",
       "5     23.20      2.26      4.22         0.58           NaN        NaN    NaN  \n",
       "6     11.28      9.14      6.50         2.88          89.0        8.5      E  \n",
       "7     13.96      9.18      2.93         2.84          58.0        6.6      E  \n",
       "8     14.44      6.94      4.70         2.24          87.0        8.4      E  \n",
       "9     26.93      0.63      0.28         0.47           NaN        NaN    NaN  "
      ]
     },
     "metadata": {},
     "output_type": "display_data"
    }
   ],
   "source": [
    "import pandas as pd\n",
    "import numpy as np\n",
    "import math as mt\n",
    "import matplotlib.pyplot as plt\n",
    "from scipy import stats as st\n",
    "\n",
    "server_path = '/datasets/games.csv'\n",
    "filename = 'games.csv'\n",
    "try:\n",
    "    data = pd.read_csv(server_path)\n",
    "except: \n",
    "    data = pd.read_csv(filename)\n",
    "    \n",
    "print(data.info())\n",
    "display(data.head(10))"
   ]
  },
  {
   "cell_type": "markdown",
   "metadata": {},
   "source": [
    "Описание данных:\n",
    "\n",
    "Name — название игры\n",
    "\n",
    "Platform — платформа\n",
    "\n",
    "Year_of_Release — год выпуска\n",
    "\n",
    "Genre — жанр игры\n",
    "\n",
    "NA_sales — продажи в Северной Америке (миллионы проданных копий)\n",
    "\n",
    "EU_sales — продажи в Европе (миллионы проданных копий)\n",
    "\n",
    "JP_sales — продажи в Японии (миллионы проданных копий)\n",
    "\n",
    "Other_sales — продажи в других странах (миллионы проданных копий)\n",
    "\n",
    "Critic_Score — оценка критиков (максимум 100)\n",
    "\n",
    "User_Score — оценка пользователей (максимум 10)\n",
    "\n",
    "Rating — рейтинг от организации ESRB (англ. Entertainment Software Rating Board). Эта \n",
    "ассоциация определяет рейтинг компьютерных игр и присваивает им подходящую возрастную категорию:\n",
    "EC — Early Childhood,\n",
    "\n",
    "E — Everyone,\n",
    "\n",
    "K-A - Kids to Adults\n",
    "\n",
    "E10+ — Everyone 10+\n",
    "\n",
    "T — Teen\n",
    "\n",
    "M — Mature\n",
    "\n",
    "AO — Adults Only\n",
    "\n",
    "RP — Rating Pending."
   ]
  },
  {
   "cell_type": "markdown",
   "metadata": {},
   "source": [
    "### Вывод\n",
    "В файле содержатся сведения о 16715 играх. Есть пропущенные значения в графах с наименованием игр, жанром, годом выпуска, оценкой критиков и пользователей, рейтингом."
   ]
  },
  {
   "cell_type": "markdown",
   "metadata": {},
   "source": [
    "## Обработка данных"
   ]
  },
  {
   "cell_type": "code",
   "execution_count": 25,
   "metadata": {},
   "outputs": [
    {
     "data": {
      "text/html": [
       "<div>\n",
       "<style scoped>\n",
       "    .dataframe tbody tr th:only-of-type {\n",
       "        vertical-align: middle;\n",
       "    }\n",
       "\n",
       "    .dataframe tbody tr th {\n",
       "        vertical-align: top;\n",
       "    }\n",
       "\n",
       "    .dataframe thead th {\n",
       "        text-align: right;\n",
       "    }\n",
       "</style>\n",
       "<table border=\"1\" class=\"dataframe\">\n",
       "  <thead>\n",
       "    <tr style=\"text-align: right;\">\n",
       "      <th></th>\n",
       "      <th>name</th>\n",
       "      <th>platform</th>\n",
       "      <th>year_of_release</th>\n",
       "      <th>genre</th>\n",
       "      <th>na_sales</th>\n",
       "      <th>eu_sales</th>\n",
       "      <th>jp_sales</th>\n",
       "      <th>other_sales</th>\n",
       "      <th>critic_score</th>\n",
       "      <th>user_score</th>\n",
       "      <th>rating</th>\n",
       "    </tr>\n",
       "  </thead>\n",
       "  <tbody>\n",
       "    <tr>\n",
       "      <td>0</td>\n",
       "      <td>Wii Sports</td>\n",
       "      <td>Wii</td>\n",
       "      <td>2006.0</td>\n",
       "      <td>Sports</td>\n",
       "      <td>41.36</td>\n",
       "      <td>28.96</td>\n",
       "      <td>3.77</td>\n",
       "      <td>8.45</td>\n",
       "      <td>76.0</td>\n",
       "      <td>8</td>\n",
       "      <td>E</td>\n",
       "    </tr>\n",
       "    <tr>\n",
       "      <td>1</td>\n",
       "      <td>Super Mario Bros.</td>\n",
       "      <td>NES</td>\n",
       "      <td>1985.0</td>\n",
       "      <td>Platform</td>\n",
       "      <td>29.08</td>\n",
       "      <td>3.58</td>\n",
       "      <td>6.81</td>\n",
       "      <td>0.77</td>\n",
       "      <td>NaN</td>\n",
       "      <td>NaN</td>\n",
       "      <td>NaN</td>\n",
       "    </tr>\n",
       "    <tr>\n",
       "      <td>2</td>\n",
       "      <td>Mario Kart Wii</td>\n",
       "      <td>Wii</td>\n",
       "      <td>2008.0</td>\n",
       "      <td>Racing</td>\n",
       "      <td>15.68</td>\n",
       "      <td>12.76</td>\n",
       "      <td>3.79</td>\n",
       "      <td>3.29</td>\n",
       "      <td>82.0</td>\n",
       "      <td>8.3</td>\n",
       "      <td>E</td>\n",
       "    </tr>\n",
       "    <tr>\n",
       "      <td>3</td>\n",
       "      <td>Wii Sports Resort</td>\n",
       "      <td>Wii</td>\n",
       "      <td>2009.0</td>\n",
       "      <td>Sports</td>\n",
       "      <td>15.61</td>\n",
       "      <td>10.93</td>\n",
       "      <td>3.28</td>\n",
       "      <td>2.95</td>\n",
       "      <td>80.0</td>\n",
       "      <td>8</td>\n",
       "      <td>E</td>\n",
       "    </tr>\n",
       "    <tr>\n",
       "      <td>4</td>\n",
       "      <td>Pokemon Red/Pokemon Blue</td>\n",
       "      <td>GB</td>\n",
       "      <td>1996.0</td>\n",
       "      <td>Role-Playing</td>\n",
       "      <td>11.27</td>\n",
       "      <td>8.89</td>\n",
       "      <td>10.22</td>\n",
       "      <td>1.00</td>\n",
       "      <td>NaN</td>\n",
       "      <td>NaN</td>\n",
       "      <td>NaN</td>\n",
       "    </tr>\n",
       "    <tr>\n",
       "      <td>5</td>\n",
       "      <td>Tetris</td>\n",
       "      <td>GB</td>\n",
       "      <td>1989.0</td>\n",
       "      <td>Puzzle</td>\n",
       "      <td>23.20</td>\n",
       "      <td>2.26</td>\n",
       "      <td>4.22</td>\n",
       "      <td>0.58</td>\n",
       "      <td>NaN</td>\n",
       "      <td>NaN</td>\n",
       "      <td>NaN</td>\n",
       "    </tr>\n",
       "    <tr>\n",
       "      <td>6</td>\n",
       "      <td>New Super Mario Bros.</td>\n",
       "      <td>DS</td>\n",
       "      <td>2006.0</td>\n",
       "      <td>Platform</td>\n",
       "      <td>11.28</td>\n",
       "      <td>9.14</td>\n",
       "      <td>6.50</td>\n",
       "      <td>2.88</td>\n",
       "      <td>89.0</td>\n",
       "      <td>8.5</td>\n",
       "      <td>E</td>\n",
       "    </tr>\n",
       "    <tr>\n",
       "      <td>7</td>\n",
       "      <td>Wii Play</td>\n",
       "      <td>Wii</td>\n",
       "      <td>2006.0</td>\n",
       "      <td>Misc</td>\n",
       "      <td>13.96</td>\n",
       "      <td>9.18</td>\n",
       "      <td>2.93</td>\n",
       "      <td>2.84</td>\n",
       "      <td>58.0</td>\n",
       "      <td>6.6</td>\n",
       "      <td>E</td>\n",
       "    </tr>\n",
       "    <tr>\n",
       "      <td>8</td>\n",
       "      <td>New Super Mario Bros. Wii</td>\n",
       "      <td>Wii</td>\n",
       "      <td>2009.0</td>\n",
       "      <td>Platform</td>\n",
       "      <td>14.44</td>\n",
       "      <td>6.94</td>\n",
       "      <td>4.70</td>\n",
       "      <td>2.24</td>\n",
       "      <td>87.0</td>\n",
       "      <td>8.4</td>\n",
       "      <td>E</td>\n",
       "    </tr>\n",
       "    <tr>\n",
       "      <td>9</td>\n",
       "      <td>Duck Hunt</td>\n",
       "      <td>NES</td>\n",
       "      <td>1984.0</td>\n",
       "      <td>Shooter</td>\n",
       "      <td>26.93</td>\n",
       "      <td>0.63</td>\n",
       "      <td>0.28</td>\n",
       "      <td>0.47</td>\n",
       "      <td>NaN</td>\n",
       "      <td>NaN</td>\n",
       "      <td>NaN</td>\n",
       "    </tr>\n",
       "  </tbody>\n",
       "</table>\n",
       "</div>"
      ],
      "text/plain": [
       "                        name platform  year_of_release         genre  \\\n",
       "0                 Wii Sports      Wii           2006.0        Sports   \n",
       "1          Super Mario Bros.      NES           1985.0      Platform   \n",
       "2             Mario Kart Wii      Wii           2008.0        Racing   \n",
       "3          Wii Sports Resort      Wii           2009.0        Sports   \n",
       "4   Pokemon Red/Pokemon Blue       GB           1996.0  Role-Playing   \n",
       "5                     Tetris       GB           1989.0        Puzzle   \n",
       "6      New Super Mario Bros.       DS           2006.0      Platform   \n",
       "7                   Wii Play      Wii           2006.0          Misc   \n",
       "8  New Super Mario Bros. Wii      Wii           2009.0      Platform   \n",
       "9                  Duck Hunt      NES           1984.0       Shooter   \n",
       "\n",
       "   na_sales  eu_sales  jp_sales  other_sales  critic_score user_score rating  \n",
       "0     41.36     28.96      3.77         8.45          76.0          8      E  \n",
       "1     29.08      3.58      6.81         0.77           NaN        NaN    NaN  \n",
       "2     15.68     12.76      3.79         3.29          82.0        8.3      E  \n",
       "3     15.61     10.93      3.28         2.95          80.0          8      E  \n",
       "4     11.27      8.89     10.22         1.00           NaN        NaN    NaN  \n",
       "5     23.20      2.26      4.22         0.58           NaN        NaN    NaN  \n",
       "6     11.28      9.14      6.50         2.88          89.0        8.5      E  \n",
       "7     13.96      9.18      2.93         2.84          58.0        6.6      E  \n",
       "8     14.44      6.94      4.70         2.24          87.0        8.4      E  \n",
       "9     26.93      0.63      0.28         0.47           NaN        NaN    NaN  "
      ]
     },
     "metadata": {},
     "output_type": "display_data"
    }
   ],
   "source": [
    "data.columns = data.columns.str.lower()\n",
    "display(data.head(10))"
   ]
  },
  {
   "cell_type": "markdown",
   "metadata": {},
   "source": [
    "Привела названия граф к нижнему регистру."
   ]
  },
  {
   "cell_type": "code",
   "execution_count": 26,
   "metadata": {},
   "outputs": [
    {
     "name": "stdout",
     "output_type": "stream",
     "text": [
      "<class 'pandas.core.frame.DataFrame'>\n",
      "RangeIndex: 16715 entries, 0 to 16714\n",
      "Data columns (total 11 columns):\n",
      "name               16713 non-null object\n",
      "platform           16715 non-null object\n",
      "year_of_release    16715 non-null int64\n",
      "genre              16713 non-null object\n",
      "na_sales           16715 non-null float64\n",
      "eu_sales           16715 non-null float64\n",
      "jp_sales           16715 non-null float64\n",
      "other_sales        16715 non-null float64\n",
      "critic_score       8137 non-null float64\n",
      "user_score         10014 non-null object\n",
      "rating             9949 non-null object\n",
      "dtypes: float64(5), int64(1), object(5)\n",
      "memory usage: 1.4+ MB\n",
      "None\n"
     ]
    }
   ],
   "source": [
    "data['year_of_release'] = data['year_of_release'].fillna(99999)\n",
    "data['year_of_release'] = data['year_of_release'].astype(int)\n",
    "print(data.info())"
   ]
  },
  {
   "cell_type": "markdown",
   "metadata": {},
   "source": [
    "Заполнила маркером 99999 пропуски в данных с годами выпуска, таких пропусков менее 2%, перевела данные в столбце с годом выпуска в целочисленный формат для удобства."
   ]
  },
  {
   "cell_type": "code",
   "execution_count": 27,
   "metadata": {},
   "outputs": [
    {
     "name": "stdout",
     "output_type": "stream",
     "text": [
      "0      6701\n",
      "tbd    2424\n",
      "7.8     324\n",
      "8       290\n",
      "8.2     282\n",
      "       ... \n",
      "1.3       2\n",
      "0.7       2\n",
      "0.5       2\n",
      "9.7       1\n",
      "0         1\n",
      "Name: user_score, Length: 97, dtype: int64\n",
      "70.0    256\n",
      "71.0    254\n",
      "75.0    245\n",
      "78.0    240\n",
      "73.0    238\n",
      "       ... \n",
      "20.0      3\n",
      "17.0      1\n",
      "22.0      1\n",
      "13.0      1\n",
      "21.0      1\n",
      "Name: critic_score, Length: 82, dtype: int64\n",
      "E       3990\n",
      "T       2961\n",
      "M       1563\n",
      "E10+    1420\n",
      "EC         8\n",
      "K-A        3\n",
      "RP         3\n",
      "AO         1\n",
      "Name: rating, dtype: int64\n"
     ]
    }
   ],
   "source": [
    "data['user_score'] = data['user_score'].fillna(0)\n",
    "print(data['user_score'].value_counts())\n",
    "print(data['critic_score'].value_counts())\n",
    "print(data['rating'].value_counts())\n"
   ]
  },
  {
   "cell_type": "markdown",
   "metadata": {},
   "source": [
    "В столбце с оценкой пользователей есть 2424 оценки tbd - to be determined, т.е. имеется ввиду, что оценка еще не определена, будет определена позднее. В столбцах с оценкой критиков и рейтингом такой аббревиатуры нет.\n"
   ]
  },
  {
   "cell_type": "code",
   "execution_count": 28,
   "metadata": {},
   "outputs": [
    {
     "name": "stdout",
     "output_type": "stream",
     "text": [
      "0      6701\n",
      "777    2424\n",
      "7.8     324\n",
      "8       290\n",
      "8.2     282\n",
      "       ... \n",
      "1.9       2\n",
      "0.7       2\n",
      "0.5       2\n",
      "0         1\n",
      "9.7       1\n",
      "Name: user_score, Length: 97, dtype: int64\n",
      "<class 'pandas.core.frame.DataFrame'>\n",
      "RangeIndex: 16715 entries, 0 to 16714\n",
      "Data columns (total 11 columns):\n",
      "name               16713 non-null object\n",
      "platform           16715 non-null object\n",
      "year_of_release    16715 non-null int64\n",
      "genre              16713 non-null object\n",
      "na_sales           16715 non-null float64\n",
      "eu_sales           16715 non-null float64\n",
      "jp_sales           16715 non-null float64\n",
      "other_sales        16715 non-null float64\n",
      "critic_score       8137 non-null float64\n",
      "user_score         16715 non-null float64\n",
      "rating             9949 non-null object\n",
      "dtypes: float64(6), int64(1), object(4)\n",
      "memory usage: 1.4+ MB\n",
      "None\n"
     ]
    }
   ],
   "source": [
    "data['user_score'] = data['user_score'].replace('tbd', '777')\n",
    "print(data['user_score'].value_counts())\n",
    "data['user_score'] = pd.to_numeric(data['user_score'], errors='ignore')\n",
    "print(data.info())"
   ]
  },
  {
   "cell_type": "markdown",
   "metadata": {},
   "source": [
    "Поменяла данную аббревиатуру в столбце с оценкой пользователя на маркер 777 (раз оценки пока нет), привела данные в столбце в числовой формат."
   ]
  },
  {
   "cell_type": "code",
   "execution_count": 29,
   "metadata": {},
   "outputs": [
    {
     "name": "stdout",
     "output_type": "stream",
     "text": [
      "<class 'pandas.core.frame.DataFrame'>\n",
      "RangeIndex: 16715 entries, 0 to 16714\n",
      "Data columns (total 11 columns):\n",
      "name               16713 non-null object\n",
      "platform           16715 non-null object\n",
      "year_of_release    16715 non-null int64\n",
      "genre              16713 non-null object\n",
      "na_sales           16715 non-null float64\n",
      "eu_sales           16715 non-null float64\n",
      "jp_sales           16715 non-null float64\n",
      "other_sales        16715 non-null float64\n",
      "critic_score       16715 non-null float64\n",
      "user_score         16715 non-null float64\n",
      "rating             16715 non-null object\n",
      "dtypes: float64(6), int64(1), object(4)\n",
      "memory usage: 1.4+ MB\n",
      "None\n"
     ]
    }
   ],
   "source": [
    "data['critic_score'] = data['critic_score'].fillna(777)\n",
    "data['rating'] = data['rating'].fillna(777)\n",
    "print(data.info())"
   ]
  },
  {
   "cell_type": "markdown",
   "metadata": {},
   "source": [
    "Пропуски данных с толбцах с оценкой критиков и рейтингом изменила на маркер 777. Заменять пропуски на среднюю (например) считаю некорректным, получится, что мы искусственно завышаем оценку игре, так как скорее всего она не привлекла к себе большого внимания."
   ]
  },
  {
   "cell_type": "code",
   "execution_count": 30,
   "metadata": {},
   "outputs": [
    {
     "data": {
      "text/html": [
       "<div>\n",
       "<style scoped>\n",
       "    .dataframe tbody tr th:only-of-type {\n",
       "        vertical-align: middle;\n",
       "    }\n",
       "\n",
       "    .dataframe tbody tr th {\n",
       "        vertical-align: top;\n",
       "    }\n",
       "\n",
       "    .dataframe thead th {\n",
       "        text-align: right;\n",
       "    }\n",
       "</style>\n",
       "<table border=\"1\" class=\"dataframe\">\n",
       "  <thead>\n",
       "    <tr style=\"text-align: right;\">\n",
       "      <th></th>\n",
       "      <th>name</th>\n",
       "      <th>platform</th>\n",
       "      <th>year_of_release</th>\n",
       "      <th>genre</th>\n",
       "      <th>na_sales</th>\n",
       "      <th>eu_sales</th>\n",
       "      <th>jp_sales</th>\n",
       "      <th>other_sales</th>\n",
       "      <th>critic_score</th>\n",
       "      <th>user_score</th>\n",
       "      <th>rating</th>\n",
       "    </tr>\n",
       "  </thead>\n",
       "  <tbody>\n",
       "    <tr>\n",
       "      <td>0</td>\n",
       "      <td>wii sports</td>\n",
       "      <td>wii</td>\n",
       "      <td>2006</td>\n",
       "      <td>sports</td>\n",
       "      <td>41.36</td>\n",
       "      <td>28.96</td>\n",
       "      <td>3.77</td>\n",
       "      <td>8.45</td>\n",
       "      <td>76.0</td>\n",
       "      <td>8.0</td>\n",
       "      <td>E</td>\n",
       "    </tr>\n",
       "    <tr>\n",
       "      <td>1</td>\n",
       "      <td>super mario bros.</td>\n",
       "      <td>nes</td>\n",
       "      <td>1985</td>\n",
       "      <td>platform</td>\n",
       "      <td>29.08</td>\n",
       "      <td>3.58</td>\n",
       "      <td>6.81</td>\n",
       "      <td>0.77</td>\n",
       "      <td>777.0</td>\n",
       "      <td>0.0</td>\n",
       "      <td>777</td>\n",
       "    </tr>\n",
       "    <tr>\n",
       "      <td>2</td>\n",
       "      <td>mario kart wii</td>\n",
       "      <td>wii</td>\n",
       "      <td>2008</td>\n",
       "      <td>racing</td>\n",
       "      <td>15.68</td>\n",
       "      <td>12.76</td>\n",
       "      <td>3.79</td>\n",
       "      <td>3.29</td>\n",
       "      <td>82.0</td>\n",
       "      <td>8.3</td>\n",
       "      <td>E</td>\n",
       "    </tr>\n",
       "    <tr>\n",
       "      <td>3</td>\n",
       "      <td>wii sports resort</td>\n",
       "      <td>wii</td>\n",
       "      <td>2009</td>\n",
       "      <td>sports</td>\n",
       "      <td>15.61</td>\n",
       "      <td>10.93</td>\n",
       "      <td>3.28</td>\n",
       "      <td>2.95</td>\n",
       "      <td>80.0</td>\n",
       "      <td>8.0</td>\n",
       "      <td>E</td>\n",
       "    </tr>\n",
       "    <tr>\n",
       "      <td>4</td>\n",
       "      <td>pokemon red/pokemon blue</td>\n",
       "      <td>gb</td>\n",
       "      <td>1996</td>\n",
       "      <td>role-playing</td>\n",
       "      <td>11.27</td>\n",
       "      <td>8.89</td>\n",
       "      <td>10.22</td>\n",
       "      <td>1.00</td>\n",
       "      <td>777.0</td>\n",
       "      <td>0.0</td>\n",
       "      <td>777</td>\n",
       "    </tr>\n",
       "    <tr>\n",
       "      <td>5</td>\n",
       "      <td>tetris</td>\n",
       "      <td>gb</td>\n",
       "      <td>1989</td>\n",
       "      <td>puzzle</td>\n",
       "      <td>23.20</td>\n",
       "      <td>2.26</td>\n",
       "      <td>4.22</td>\n",
       "      <td>0.58</td>\n",
       "      <td>777.0</td>\n",
       "      <td>0.0</td>\n",
       "      <td>777</td>\n",
       "    </tr>\n",
       "    <tr>\n",
       "      <td>6</td>\n",
       "      <td>new super mario bros.</td>\n",
       "      <td>ds</td>\n",
       "      <td>2006</td>\n",
       "      <td>platform</td>\n",
       "      <td>11.28</td>\n",
       "      <td>9.14</td>\n",
       "      <td>6.50</td>\n",
       "      <td>2.88</td>\n",
       "      <td>89.0</td>\n",
       "      <td>8.5</td>\n",
       "      <td>E</td>\n",
       "    </tr>\n",
       "    <tr>\n",
       "      <td>7</td>\n",
       "      <td>wii play</td>\n",
       "      <td>wii</td>\n",
       "      <td>2006</td>\n",
       "      <td>misc</td>\n",
       "      <td>13.96</td>\n",
       "      <td>9.18</td>\n",
       "      <td>2.93</td>\n",
       "      <td>2.84</td>\n",
       "      <td>58.0</td>\n",
       "      <td>6.6</td>\n",
       "      <td>E</td>\n",
       "    </tr>\n",
       "    <tr>\n",
       "      <td>8</td>\n",
       "      <td>new super mario bros. wii</td>\n",
       "      <td>wii</td>\n",
       "      <td>2009</td>\n",
       "      <td>platform</td>\n",
       "      <td>14.44</td>\n",
       "      <td>6.94</td>\n",
       "      <td>4.70</td>\n",
       "      <td>2.24</td>\n",
       "      <td>87.0</td>\n",
       "      <td>8.4</td>\n",
       "      <td>E</td>\n",
       "    </tr>\n",
       "    <tr>\n",
       "      <td>9</td>\n",
       "      <td>duck hunt</td>\n",
       "      <td>nes</td>\n",
       "      <td>1984</td>\n",
       "      <td>shooter</td>\n",
       "      <td>26.93</td>\n",
       "      <td>0.63</td>\n",
       "      <td>0.28</td>\n",
       "      <td>0.47</td>\n",
       "      <td>777.0</td>\n",
       "      <td>0.0</td>\n",
       "      <td>777</td>\n",
       "    </tr>\n",
       "  </tbody>\n",
       "</table>\n",
       "</div>"
      ],
      "text/plain": [
       "                        name platform  year_of_release         genre  \\\n",
       "0                 wii sports      wii             2006        sports   \n",
       "1          super mario bros.      nes             1985      platform   \n",
       "2             mario kart wii      wii             2008        racing   \n",
       "3          wii sports resort      wii             2009        sports   \n",
       "4   pokemon red/pokemon blue       gb             1996  role-playing   \n",
       "5                     tetris       gb             1989        puzzle   \n",
       "6      new super mario bros.       ds             2006      platform   \n",
       "7                   wii play      wii             2006          misc   \n",
       "8  new super mario bros. wii      wii             2009      platform   \n",
       "9                  duck hunt      nes             1984       shooter   \n",
       "\n",
       "   na_sales  eu_sales  jp_sales  other_sales  critic_score  user_score rating  \n",
       "0     41.36     28.96      3.77         8.45          76.0         8.0      E  \n",
       "1     29.08      3.58      6.81         0.77         777.0         0.0    777  \n",
       "2     15.68     12.76      3.79         3.29          82.0         8.3      E  \n",
       "3     15.61     10.93      3.28         2.95          80.0         8.0      E  \n",
       "4     11.27      8.89     10.22         1.00         777.0         0.0    777  \n",
       "5     23.20      2.26      4.22         0.58         777.0         0.0    777  \n",
       "6     11.28      9.14      6.50         2.88          89.0         8.5      E  \n",
       "7     13.96      9.18      2.93         2.84          58.0         6.6      E  \n",
       "8     14.44      6.94      4.70         2.24          87.0         8.4      E  \n",
       "9     26.93      0.63      0.28         0.47         777.0         0.0    777  "
      ]
     },
     "metadata": {},
     "output_type": "display_data"
    }
   ],
   "source": [
    "data['name'] = data['name'].str.lower()\n",
    "data['platform'] = data['platform'].str.lower()\n",
    "data['genre'] = data['genre'].str.lower()\n",
    "display(data.head(10))"
   ]
  },
  {
   "cell_type": "markdown",
   "metadata": {},
   "source": [
    "Перевела название игр, платформ, жанр в нижний регистр."
   ]
  },
  {
   "cell_type": "code",
   "execution_count": 31,
   "metadata": {},
   "outputs": [
    {
     "name": "stdout",
     "output_type": "stream",
     "text": [
      "Дубликатов: 0\n"
     ]
    }
   ],
   "source": [
    "print('Дубликатов:', data.duplicated().sum())"
   ]
  },
  {
   "cell_type": "markdown",
   "metadata": {},
   "source": [
    "Дубликатов нет."
   ]
  },
  {
   "cell_type": "code",
   "execution_count": 32,
   "metadata": {},
   "outputs": [
    {
     "name": "stdout",
     "output_type": "stream",
     "text": [
      "<class 'pandas.core.frame.DataFrame'>\n",
      "RangeIndex: 16715 entries, 0 to 16714\n",
      "Data columns (total 12 columns):\n",
      "name               16713 non-null object\n",
      "platform           16715 non-null object\n",
      "year_of_release    16715 non-null int64\n",
      "genre              16713 non-null object\n",
      "na_sales           16715 non-null float64\n",
      "eu_sales           16715 non-null float64\n",
      "jp_sales           16715 non-null float64\n",
      "other_sales        16715 non-null float64\n",
      "critic_score       16715 non-null float64\n",
      "user_score         16715 non-null float64\n",
      "rating             16715 non-null object\n",
      "total_sales        16715 non-null float64\n",
      "dtypes: float64(7), int64(1), object(4)\n",
      "memory usage: 1.5+ MB\n",
      "None\n"
     ]
    },
    {
     "data": {
      "text/html": [
       "<div>\n",
       "<style scoped>\n",
       "    .dataframe tbody tr th:only-of-type {\n",
       "        vertical-align: middle;\n",
       "    }\n",
       "\n",
       "    .dataframe tbody tr th {\n",
       "        vertical-align: top;\n",
       "    }\n",
       "\n",
       "    .dataframe thead th {\n",
       "        text-align: right;\n",
       "    }\n",
       "</style>\n",
       "<table border=\"1\" class=\"dataframe\">\n",
       "  <thead>\n",
       "    <tr style=\"text-align: right;\">\n",
       "      <th></th>\n",
       "      <th>name</th>\n",
       "      <th>platform</th>\n",
       "      <th>year_of_release</th>\n",
       "      <th>genre</th>\n",
       "      <th>na_sales</th>\n",
       "      <th>eu_sales</th>\n",
       "      <th>jp_sales</th>\n",
       "      <th>other_sales</th>\n",
       "      <th>critic_score</th>\n",
       "      <th>user_score</th>\n",
       "      <th>rating</th>\n",
       "      <th>total_sales</th>\n",
       "    </tr>\n",
       "  </thead>\n",
       "  <tbody>\n",
       "    <tr>\n",
       "      <td>0</td>\n",
       "      <td>wii sports</td>\n",
       "      <td>wii</td>\n",
       "      <td>2006</td>\n",
       "      <td>sports</td>\n",
       "      <td>41.36</td>\n",
       "      <td>28.96</td>\n",
       "      <td>3.77</td>\n",
       "      <td>8.45</td>\n",
       "      <td>76.0</td>\n",
       "      <td>8.0</td>\n",
       "      <td>E</td>\n",
       "      <td>82.54</td>\n",
       "    </tr>\n",
       "    <tr>\n",
       "      <td>1</td>\n",
       "      <td>super mario bros.</td>\n",
       "      <td>nes</td>\n",
       "      <td>1985</td>\n",
       "      <td>platform</td>\n",
       "      <td>29.08</td>\n",
       "      <td>3.58</td>\n",
       "      <td>6.81</td>\n",
       "      <td>0.77</td>\n",
       "      <td>777.0</td>\n",
       "      <td>0.0</td>\n",
       "      <td>777</td>\n",
       "      <td>40.24</td>\n",
       "    </tr>\n",
       "    <tr>\n",
       "      <td>2</td>\n",
       "      <td>mario kart wii</td>\n",
       "      <td>wii</td>\n",
       "      <td>2008</td>\n",
       "      <td>racing</td>\n",
       "      <td>15.68</td>\n",
       "      <td>12.76</td>\n",
       "      <td>3.79</td>\n",
       "      <td>3.29</td>\n",
       "      <td>82.0</td>\n",
       "      <td>8.3</td>\n",
       "      <td>E</td>\n",
       "      <td>35.52</td>\n",
       "    </tr>\n",
       "    <tr>\n",
       "      <td>3</td>\n",
       "      <td>wii sports resort</td>\n",
       "      <td>wii</td>\n",
       "      <td>2009</td>\n",
       "      <td>sports</td>\n",
       "      <td>15.61</td>\n",
       "      <td>10.93</td>\n",
       "      <td>3.28</td>\n",
       "      <td>2.95</td>\n",
       "      <td>80.0</td>\n",
       "      <td>8.0</td>\n",
       "      <td>E</td>\n",
       "      <td>32.77</td>\n",
       "    </tr>\n",
       "    <tr>\n",
       "      <td>4</td>\n",
       "      <td>pokemon red/pokemon blue</td>\n",
       "      <td>gb</td>\n",
       "      <td>1996</td>\n",
       "      <td>role-playing</td>\n",
       "      <td>11.27</td>\n",
       "      <td>8.89</td>\n",
       "      <td>10.22</td>\n",
       "      <td>1.00</td>\n",
       "      <td>777.0</td>\n",
       "      <td>0.0</td>\n",
       "      <td>777</td>\n",
       "      <td>31.38</td>\n",
       "    </tr>\n",
       "    <tr>\n",
       "      <td>5</td>\n",
       "      <td>tetris</td>\n",
       "      <td>gb</td>\n",
       "      <td>1989</td>\n",
       "      <td>puzzle</td>\n",
       "      <td>23.20</td>\n",
       "      <td>2.26</td>\n",
       "      <td>4.22</td>\n",
       "      <td>0.58</td>\n",
       "      <td>777.0</td>\n",
       "      <td>0.0</td>\n",
       "      <td>777</td>\n",
       "      <td>30.26</td>\n",
       "    </tr>\n",
       "    <tr>\n",
       "      <td>6</td>\n",
       "      <td>new super mario bros.</td>\n",
       "      <td>ds</td>\n",
       "      <td>2006</td>\n",
       "      <td>platform</td>\n",
       "      <td>11.28</td>\n",
       "      <td>9.14</td>\n",
       "      <td>6.50</td>\n",
       "      <td>2.88</td>\n",
       "      <td>89.0</td>\n",
       "      <td>8.5</td>\n",
       "      <td>E</td>\n",
       "      <td>29.80</td>\n",
       "    </tr>\n",
       "    <tr>\n",
       "      <td>7</td>\n",
       "      <td>wii play</td>\n",
       "      <td>wii</td>\n",
       "      <td>2006</td>\n",
       "      <td>misc</td>\n",
       "      <td>13.96</td>\n",
       "      <td>9.18</td>\n",
       "      <td>2.93</td>\n",
       "      <td>2.84</td>\n",
       "      <td>58.0</td>\n",
       "      <td>6.6</td>\n",
       "      <td>E</td>\n",
       "      <td>28.91</td>\n",
       "    </tr>\n",
       "    <tr>\n",
       "      <td>8</td>\n",
       "      <td>new super mario bros. wii</td>\n",
       "      <td>wii</td>\n",
       "      <td>2009</td>\n",
       "      <td>platform</td>\n",
       "      <td>14.44</td>\n",
       "      <td>6.94</td>\n",
       "      <td>4.70</td>\n",
       "      <td>2.24</td>\n",
       "      <td>87.0</td>\n",
       "      <td>8.4</td>\n",
       "      <td>E</td>\n",
       "      <td>28.32</td>\n",
       "    </tr>\n",
       "    <tr>\n",
       "      <td>9</td>\n",
       "      <td>duck hunt</td>\n",
       "      <td>nes</td>\n",
       "      <td>1984</td>\n",
       "      <td>shooter</td>\n",
       "      <td>26.93</td>\n",
       "      <td>0.63</td>\n",
       "      <td>0.28</td>\n",
       "      <td>0.47</td>\n",
       "      <td>777.0</td>\n",
       "      <td>0.0</td>\n",
       "      <td>777</td>\n",
       "      <td>28.31</td>\n",
       "    </tr>\n",
       "  </tbody>\n",
       "</table>\n",
       "</div>"
      ],
      "text/plain": [
       "                        name platform  year_of_release         genre  \\\n",
       "0                 wii sports      wii             2006        sports   \n",
       "1          super mario bros.      nes             1985      platform   \n",
       "2             mario kart wii      wii             2008        racing   \n",
       "3          wii sports resort      wii             2009        sports   \n",
       "4   pokemon red/pokemon blue       gb             1996  role-playing   \n",
       "5                     tetris       gb             1989        puzzle   \n",
       "6      new super mario bros.       ds             2006      platform   \n",
       "7                   wii play      wii             2006          misc   \n",
       "8  new super mario bros. wii      wii             2009      platform   \n",
       "9                  duck hunt      nes             1984       shooter   \n",
       "\n",
       "   na_sales  eu_sales  jp_sales  other_sales  critic_score  user_score rating  \\\n",
       "0     41.36     28.96      3.77         8.45          76.0         8.0      E   \n",
       "1     29.08      3.58      6.81         0.77         777.0         0.0    777   \n",
       "2     15.68     12.76      3.79         3.29          82.0         8.3      E   \n",
       "3     15.61     10.93      3.28         2.95          80.0         8.0      E   \n",
       "4     11.27      8.89     10.22         1.00         777.0         0.0    777   \n",
       "5     23.20      2.26      4.22         0.58         777.0         0.0    777   \n",
       "6     11.28      9.14      6.50         2.88          89.0         8.5      E   \n",
       "7     13.96      9.18      2.93         2.84          58.0         6.6      E   \n",
       "8     14.44      6.94      4.70         2.24          87.0         8.4      E   \n",
       "9     26.93      0.63      0.28         0.47         777.0         0.0    777   \n",
       "\n",
       "   total_sales  \n",
       "0        82.54  \n",
       "1        40.24  \n",
       "2        35.52  \n",
       "3        32.77  \n",
       "4        31.38  \n",
       "5        30.26  \n",
       "6        29.80  \n",
       "7        28.91  \n",
       "8        28.32  \n",
       "9        28.31  "
      ]
     },
     "metadata": {},
     "output_type": "display_data"
    }
   ],
   "source": [
    "data['total_sales'] = data['na_sales'] + data['eu_sales'] + data['jp_sales'] + data['other_sales']\n",
    "print(data.info())\n",
    "display(data.head(10))"
   ]
  },
  {
   "cell_type": "markdown",
   "metadata": {},
   "source": [
    "В графе total_sales вывела суммарные продажи игр во всех регионах."
   ]
  },
  {
   "cell_type": "markdown",
   "metadata": {},
   "source": [
    "### Вывод\n",
    "Поскольку данные собирались из открытых источников, пропуски информации можно объяснить недостатком данных в интернете.\n",
    "\n",
    "Заполнила нулями пропуски в данных с годами выпуска, таких пропусков менее 2%, перевела данные в столбце с годом выпуска в формат даты.\n",
    "\n",
    "В столбце с оценкой пользователей есть 2424 оценки tbd - to be determined, т.е. имеется ввиду, что оценка еще не определена, будет определена позднее. Поменяла данную аббревиатуру в столбце с оценкой пользователя на маркер 777 (раз оценки пока нет), привела данные в столбце в числовой формат.\n",
    "\n",
    "Пропуски данных с толбцах с оценкой критиков и рейтингом изменила на маркер 777. Заменять пропуски на среднюю (например) считаю некорректным, получится, что мы искусственно завышаем оценку игре, так как скорее всего она не привлекла к себе большого внимания.\n",
    "\n",
    "Есть две строки с пропущенными названиями игр, но поскольку по этим играм есть данные о платформе и продажах, оставляю так, так как сами по себе названия игр нам не нужны.\n",
    "\n",
    "В графе total_sales вывела суммарные продажи игр во всех регионах."
   ]
  },
  {
   "cell_type": "markdown",
   "metadata": {},
   "source": [
    "## Исследовательский анализ данных"
   ]
  },
  {
   "cell_type": "markdown",
   "metadata": {},
   "source": [
    "### Анализ выпуска игр, определение жизни платформ, актуального периода"
   ]
  },
  {
   "cell_type": "code",
   "execution_count": 33,
   "metadata": {},
   "outputs": [
    {
     "name": "stdout",
     "output_type": "stream",
     "text": [
      "year_of_release\n",
      "1980        9\n",
      "1981       46\n",
      "1982       36\n",
      "1983       17\n",
      "1984       14\n",
      "1985       14\n",
      "1986       21\n",
      "1987       16\n",
      "1988       15\n",
      "1989       17\n",
      "1990       16\n",
      "1991       41\n",
      "1992       43\n",
      "1993       60\n",
      "1994      121\n",
      "1995      219\n",
      "1996      263\n",
      "1997      289\n",
      "1998      379\n",
      "1999      338\n",
      "2000      350\n",
      "2001      482\n",
      "2002      829\n",
      "2003      775\n",
      "2004      762\n",
      "2005      939\n",
      "2006     1006\n",
      "2007     1197\n",
      "2008     1427\n",
      "2009     1426\n",
      "2010     1255\n",
      "2011     1136\n",
      "2012      653\n",
      "2013      544\n",
      "2014      581\n",
      "2015      606\n",
      "2016      502\n",
      "99999     269\n",
      "Name: name, dtype: int64\n"
     ]
    }
   ],
   "source": [
    "release = data.groupby('year_of_release')['name'].count()\n",
    "print(release)"
   ]
  },
  {
   "cell_type": "markdown",
   "metadata": {},
   "source": [
    "Пик выпуска игр пришелся на 2006 - 2011 годы, когда выпускалось более одной тысячи игр в год, затем количество ежегодно выпускаемых игр резко снизилось практически до уровня 2001 года. С 2012 количество выпускаемых игр держится примерно на одном уровне, 2016 не должен сильно выбиваться из ряда, с учетом того, что данные за этот год у нас неполные."
   ]
  },
  {
   "cell_type": "code",
   "execution_count": 34,
   "metadata": {},
   "outputs": [
    {
     "name": "stdout",
     "output_type": "stream",
     "text": [
      "platform\n",
      "ps2     1255.77\n",
      "x360     971.42\n",
      "ps3      939.65\n",
      "wii      907.51\n",
      "ds       806.12\n",
      "ps       730.86\n",
      "gba      317.85\n",
      "ps4      314.14\n",
      "psp      294.05\n",
      "pc       259.52\n",
      "3ds      259.00\n",
      "xb       257.74\n",
      "gb       255.46\n",
      "nes      251.05\n",
      "n64      218.68\n",
      "snes     200.04\n",
      "gc       198.93\n",
      "xone     159.32\n",
      "2600      96.98\n",
      "wiiu      82.19\n",
      "psv       54.07\n",
      "sat       33.59\n",
      "gen       30.77\n",
      "dc        15.95\n",
      "scd        1.86\n",
      "ng         1.44\n",
      "ws         1.42\n",
      "tg16       0.16\n",
      "3do        0.10\n",
      "gg         0.04\n",
      "pcfx       0.03\n",
      "Name: total_sales, dtype: float64\n"
     ]
    }
   ],
   "source": [
    "platform = data.groupby('platform')['total_sales'].sum().sort_values(ascending = False)\n",
    "print(platform)"
   ]
  },
  {
   "cell_type": "markdown",
   "metadata": {},
   "source": [
    "Платформы с наибольшими суммарными продажами: ps2, x360, ps3, wii, ds, ps."
   ]
  },
  {
   "cell_type": "code",
   "execution_count": 35,
   "metadata": {},
   "outputs": [
    {
     "data": {
      "text/html": [
       "<div>\n",
       "<style scoped>\n",
       "    .dataframe tbody tr th:only-of-type {\n",
       "        vertical-align: middle;\n",
       "    }\n",
       "\n",
       "    .dataframe tbody tr th {\n",
       "        vertical-align: top;\n",
       "    }\n",
       "\n",
       "    .dataframe thead th {\n",
       "        text-align: right;\n",
       "    }\n",
       "</style>\n",
       "<table border=\"1\" class=\"dataframe\">\n",
       "  <thead>\n",
       "    <tr style=\"text-align: right;\">\n",
       "      <th>platform</th>\n",
       "      <th>year_of_release</th>\n",
       "      <th>ds</th>\n",
       "      <th>ps</th>\n",
       "      <th>ps2</th>\n",
       "      <th>ps3</th>\n",
       "      <th>wii</th>\n",
       "      <th>x360</th>\n",
       "    </tr>\n",
       "  </thead>\n",
       "  <tbody>\n",
       "    <tr>\n",
       "      <td>0</td>\n",
       "      <td>1985</td>\n",
       "      <td>0.02</td>\n",
       "      <td>NaN</td>\n",
       "      <td>NaN</td>\n",
       "      <td>NaN</td>\n",
       "      <td>NaN</td>\n",
       "      <td>NaN</td>\n",
       "    </tr>\n",
       "    <tr>\n",
       "      <td>1</td>\n",
       "      <td>1994</td>\n",
       "      <td>NaN</td>\n",
       "      <td>6.03</td>\n",
       "      <td>NaN</td>\n",
       "      <td>NaN</td>\n",
       "      <td>NaN</td>\n",
       "      <td>NaN</td>\n",
       "    </tr>\n",
       "    <tr>\n",
       "      <td>2</td>\n",
       "      <td>1995</td>\n",
       "      <td>NaN</td>\n",
       "      <td>35.96</td>\n",
       "      <td>NaN</td>\n",
       "      <td>NaN</td>\n",
       "      <td>NaN</td>\n",
       "      <td>NaN</td>\n",
       "    </tr>\n",
       "    <tr>\n",
       "      <td>3</td>\n",
       "      <td>1996</td>\n",
       "      <td>NaN</td>\n",
       "      <td>94.70</td>\n",
       "      <td>NaN</td>\n",
       "      <td>NaN</td>\n",
       "      <td>NaN</td>\n",
       "      <td>NaN</td>\n",
       "    </tr>\n",
       "    <tr>\n",
       "      <td>4</td>\n",
       "      <td>1997</td>\n",
       "      <td>NaN</td>\n",
       "      <td>136.17</td>\n",
       "      <td>NaN</td>\n",
       "      <td>NaN</td>\n",
       "      <td>NaN</td>\n",
       "      <td>NaN</td>\n",
       "    </tr>\n",
       "    <tr>\n",
       "      <td>5</td>\n",
       "      <td>1998</td>\n",
       "      <td>NaN</td>\n",
       "      <td>169.49</td>\n",
       "      <td>NaN</td>\n",
       "      <td>NaN</td>\n",
       "      <td>NaN</td>\n",
       "      <td>NaN</td>\n",
       "    </tr>\n",
       "    <tr>\n",
       "      <td>6</td>\n",
       "      <td>1999</td>\n",
       "      <td>NaN</td>\n",
       "      <td>144.53</td>\n",
       "      <td>NaN</td>\n",
       "      <td>NaN</td>\n",
       "      <td>NaN</td>\n",
       "      <td>NaN</td>\n",
       "    </tr>\n",
       "    <tr>\n",
       "      <td>7</td>\n",
       "      <td>2000</td>\n",
       "      <td>NaN</td>\n",
       "      <td>96.37</td>\n",
       "      <td>39.17</td>\n",
       "      <td>NaN</td>\n",
       "      <td>NaN</td>\n",
       "      <td>NaN</td>\n",
       "    </tr>\n",
       "    <tr>\n",
       "      <td>8</td>\n",
       "      <td>2001</td>\n",
       "      <td>NaN</td>\n",
       "      <td>35.59</td>\n",
       "      <td>166.43</td>\n",
       "      <td>NaN</td>\n",
       "      <td>NaN</td>\n",
       "      <td>NaN</td>\n",
       "    </tr>\n",
       "    <tr>\n",
       "      <td>9</td>\n",
       "      <td>2002</td>\n",
       "      <td>NaN</td>\n",
       "      <td>6.67</td>\n",
       "      <td>205.38</td>\n",
       "      <td>NaN</td>\n",
       "      <td>NaN</td>\n",
       "      <td>NaN</td>\n",
       "    </tr>\n",
       "    <tr>\n",
       "      <td>10</td>\n",
       "      <td>2003</td>\n",
       "      <td>NaN</td>\n",
       "      <td>2.07</td>\n",
       "      <td>184.31</td>\n",
       "      <td>NaN</td>\n",
       "      <td>NaN</td>\n",
       "      <td>NaN</td>\n",
       "    </tr>\n",
       "    <tr>\n",
       "      <td>11</td>\n",
       "      <td>2004</td>\n",
       "      <td>17.27</td>\n",
       "      <td>NaN</td>\n",
       "      <td>211.81</td>\n",
       "      <td>NaN</td>\n",
       "      <td>NaN</td>\n",
       "      <td>NaN</td>\n",
       "    </tr>\n",
       "    <tr>\n",
       "      <td>12</td>\n",
       "      <td>2005</td>\n",
       "      <td>130.14</td>\n",
       "      <td>NaN</td>\n",
       "      <td>160.66</td>\n",
       "      <td>NaN</td>\n",
       "      <td>NaN</td>\n",
       "      <td>8.25</td>\n",
       "    </tr>\n",
       "    <tr>\n",
       "      <td>13</td>\n",
       "      <td>2006</td>\n",
       "      <td>119.81</td>\n",
       "      <td>NaN</td>\n",
       "      <td>103.42</td>\n",
       "      <td>20.96</td>\n",
       "      <td>137.15</td>\n",
       "      <td>51.62</td>\n",
       "    </tr>\n",
       "    <tr>\n",
       "      <td>14</td>\n",
       "      <td>2007</td>\n",
       "      <td>146.94</td>\n",
       "      <td>NaN</td>\n",
       "      <td>75.99</td>\n",
       "      <td>73.19</td>\n",
       "      <td>152.77</td>\n",
       "      <td>95.41</td>\n",
       "    </tr>\n",
       "    <tr>\n",
       "      <td>15</td>\n",
       "      <td>2008</td>\n",
       "      <td>145.31</td>\n",
       "      <td>NaN</td>\n",
       "      <td>53.90</td>\n",
       "      <td>118.52</td>\n",
       "      <td>171.32</td>\n",
       "      <td>135.26</td>\n",
       "    </tr>\n",
       "    <tr>\n",
       "      <td>16</td>\n",
       "      <td>2009</td>\n",
       "      <td>119.54</td>\n",
       "      <td>NaN</td>\n",
       "      <td>26.40</td>\n",
       "      <td>130.93</td>\n",
       "      <td>206.97</td>\n",
       "      <td>120.29</td>\n",
       "    </tr>\n",
       "    <tr>\n",
       "      <td>17</td>\n",
       "      <td>2010</td>\n",
       "      <td>85.02</td>\n",
       "      <td>NaN</td>\n",
       "      <td>5.64</td>\n",
       "      <td>142.17</td>\n",
       "      <td>127.95</td>\n",
       "      <td>170.03</td>\n",
       "    </tr>\n",
       "    <tr>\n",
       "      <td>18</td>\n",
       "      <td>2011</td>\n",
       "      <td>26.18</td>\n",
       "      <td>NaN</td>\n",
       "      <td>0.45</td>\n",
       "      <td>156.78</td>\n",
       "      <td>59.65</td>\n",
       "      <td>143.84</td>\n",
       "    </tr>\n",
       "    <tr>\n",
       "      <td>19</td>\n",
       "      <td>2012</td>\n",
       "      <td>11.01</td>\n",
       "      <td>NaN</td>\n",
       "      <td>NaN</td>\n",
       "      <td>107.36</td>\n",
       "      <td>21.71</td>\n",
       "      <td>99.74</td>\n",
       "    </tr>\n",
       "    <tr>\n",
       "      <td>20</td>\n",
       "      <td>2013</td>\n",
       "      <td>1.54</td>\n",
       "      <td>NaN</td>\n",
       "      <td>NaN</td>\n",
       "      <td>113.25</td>\n",
       "      <td>8.59</td>\n",
       "      <td>88.58</td>\n",
       "    </tr>\n",
       "    <tr>\n",
       "      <td>21</td>\n",
       "      <td>2014</td>\n",
       "      <td>NaN</td>\n",
       "      <td>NaN</td>\n",
       "      <td>NaN</td>\n",
       "      <td>47.76</td>\n",
       "      <td>3.75</td>\n",
       "      <td>34.74</td>\n",
       "    </tr>\n",
       "    <tr>\n",
       "      <td>22</td>\n",
       "      <td>2015</td>\n",
       "      <td>NaN</td>\n",
       "      <td>NaN</td>\n",
       "      <td>NaN</td>\n",
       "      <td>16.82</td>\n",
       "      <td>1.14</td>\n",
       "      <td>11.96</td>\n",
       "    </tr>\n",
       "    <tr>\n",
       "      <td>23</td>\n",
       "      <td>2016</td>\n",
       "      <td>NaN</td>\n",
       "      <td>NaN</td>\n",
       "      <td>NaN</td>\n",
       "      <td>3.60</td>\n",
       "      <td>0.18</td>\n",
       "      <td>1.52</td>\n",
       "    </tr>\n",
       "    <tr>\n",
       "      <td>24</td>\n",
       "      <td>99999</td>\n",
       "      <td>3.34</td>\n",
       "      <td>3.28</td>\n",
       "      <td>22.21</td>\n",
       "      <td>8.31</td>\n",
       "      <td>16.33</td>\n",
       "      <td>10.18</td>\n",
       "    </tr>\n",
       "  </tbody>\n",
       "</table>\n",
       "</div>"
      ],
      "text/plain": [
       "platform  year_of_release      ds      ps     ps2     ps3     wii    x360\n",
       "0                    1985    0.02     NaN     NaN     NaN     NaN     NaN\n",
       "1                    1994     NaN    6.03     NaN     NaN     NaN     NaN\n",
       "2                    1995     NaN   35.96     NaN     NaN     NaN     NaN\n",
       "3                    1996     NaN   94.70     NaN     NaN     NaN     NaN\n",
       "4                    1997     NaN  136.17     NaN     NaN     NaN     NaN\n",
       "5                    1998     NaN  169.49     NaN     NaN     NaN     NaN\n",
       "6                    1999     NaN  144.53     NaN     NaN     NaN     NaN\n",
       "7                    2000     NaN   96.37   39.17     NaN     NaN     NaN\n",
       "8                    2001     NaN   35.59  166.43     NaN     NaN     NaN\n",
       "9                    2002     NaN    6.67  205.38     NaN     NaN     NaN\n",
       "10                   2003     NaN    2.07  184.31     NaN     NaN     NaN\n",
       "11                   2004   17.27     NaN  211.81     NaN     NaN     NaN\n",
       "12                   2005  130.14     NaN  160.66     NaN     NaN    8.25\n",
       "13                   2006  119.81     NaN  103.42   20.96  137.15   51.62\n",
       "14                   2007  146.94     NaN   75.99   73.19  152.77   95.41\n",
       "15                   2008  145.31     NaN   53.90  118.52  171.32  135.26\n",
       "16                   2009  119.54     NaN   26.40  130.93  206.97  120.29\n",
       "17                   2010   85.02     NaN    5.64  142.17  127.95  170.03\n",
       "18                   2011   26.18     NaN    0.45  156.78   59.65  143.84\n",
       "19                   2012   11.01     NaN     NaN  107.36   21.71   99.74\n",
       "20                   2013    1.54     NaN     NaN  113.25    8.59   88.58\n",
       "21                   2014     NaN     NaN     NaN   47.76    3.75   34.74\n",
       "22                   2015     NaN     NaN     NaN   16.82    1.14   11.96\n",
       "23                   2016     NaN     NaN     NaN    3.60    0.18    1.52\n",
       "24                  99999    3.34    3.28   22.21    8.31   16.33   10.18"
      ]
     },
     "metadata": {},
     "output_type": "display_data"
    }
   ],
   "source": [
    "platform_big = ['ps2', 'x360', 'ps3', 'wii', 'ds', 'ps']\n",
    "platform_top = data.query('platform in @platform_big').pivot_table(index='year_of_release',columns='platform',values='total_sales',aggfunc='sum').reset_index()\n",
    "display(platform_top)\n"
   ]
  },
  {
   "cell_type": "markdown",
   "metadata": {},
   "source": [
    "Сгруппировала данные в части глобальных продаж по годам выпуска игр и платформам."
   ]
  },
  {
   "cell_type": "code",
   "execution_count": 36,
   "metadata": {},
   "outputs": [
    {
     "data": {
      "image/png": "[encoded data removed]",
      "text/plain": [
       "<Figure size 432x288 with 1 Axes>"
      ]
     },
     "metadata": {
      "needs_background": "light"
     },
     "output_type": "display_data"
    }
   ],
   "source": [
    "platform_top.plot(x='year_of_release', y = 'ds', kind='bar', title = 'Продажи платформы ds',\n",
    "                 color='green', alpha=0.6, label='Суммарные объемы продаж платформы')\n",
    "plt.show()"
   ]
  },
  {
   "cell_type": "markdown",
   "metadata": {},
   "source": [
    "Пик продаж платформы ds приходится на 2005 - 2010 годы. Срок жизни платформы 9-10 лет."
   ]
  },
  {
   "cell_type": "code",
   "execution_count": 37,
   "metadata": {},
   "outputs": [
    {
     "data": {
      "image/png": "[encoded data removed]",
      "text/plain": [
       "<Figure size 432x288 with 1 Axes>"
      ]
     },
     "metadata": {
      "needs_background": "light"
     },
     "output_type": "display_data"
    }
   ],
   "source": [
    "platform_top.plot(x='year_of_release', y = 'ps', kind='bar', title = 'Продажи платформы ps',\n",
    "                 color='green', alpha=0.6, label='Суммарные объемы продаж платформы')\n",
    "plt.show()"
   ]
  },
  {
   "cell_type": "markdown",
   "metadata": {},
   "source": [
    "Пик продаж платформы ps приходится на 1996 - 2000 годы. Срок жизни платформы 9-10 лет."
   ]
  },
  {
   "cell_type": "code",
   "execution_count": 38,
   "metadata": {},
   "outputs": [
    {
     "data": {
      "image/png": "[encoded data removed]",
      "text/plain": [
       "<Figure size 432x288 with 1 Axes>"
      ]
     },
     "metadata": {
      "needs_background": "light"
     },
     "output_type": "display_data"
    }
   ],
   "source": [
    "platform_top.plot(x='year_of_release', y = 'ps2', kind='bar', title = 'Продажи платформы ps2',\n",
    "                 color='green', alpha=0.6, label='Суммарные объемы продаж платформы')\n",
    "plt.show()"
   ]
  },
  {
   "cell_type": "markdown",
   "metadata": {},
   "source": [
    "Пик продаж платформы ps2 приходится на 2001 - 2006 годы. Срок жизни платформы 10 - 11 лет."
   ]
  },
  {
   "cell_type": "code",
   "execution_count": 39,
   "metadata": {},
   "outputs": [
    {
     "data": {
      "image/png": "[encoded data removed]",
      "text/plain": [
       "<Figure size 432x288 with 1 Axes>"
      ]
     },
     "metadata": {
      "needs_background": "light"
     },
     "output_type": "display_data"
    }
   ],
   "source": [
    "platform_top.plot(x='year_of_release', y = 'ps3', kind='bar', title = 'Продажи платформы ps3',\n",
    "                 color='green', alpha=0.6, label='Суммарные объемы продаж платформы')\n",
    "plt.show()"
   ]
  },
  {
   "cell_type": "markdown",
   "metadata": {},
   "source": [
    "Пик продаж платформы ps3 приходится на 2008 - 2013 годы. Срок жизни платформы 10-11 лет."
   ]
  },
  {
   "cell_type": "code",
   "execution_count": 40,
   "metadata": {},
   "outputs": [
    {
     "data": {
      "image/png": "[encoded data removed]",
      "text/plain": [
       "<Figure size 432x288 with 1 Axes>"
      ]
     },
     "metadata": {
      "needs_background": "light"
     },
     "output_type": "display_data"
    }
   ],
   "source": [
    "platform_top.plot(x='year_of_release', y = 'wii', kind='bar', title = 'Продажи платформы wii',\n",
    "                 color='green', alpha=0.6, label='Суммарные объемы продаж платформы')\n",
    "plt.show()"
   ]
  },
  {
   "cell_type": "markdown",
   "metadata": {},
   "source": [
    "Пик продаж платформы wii приходится на 2006 - 2010 годы. Срок жизни платформы 8-10 лет."
   ]
  },
  {
   "cell_type": "code",
   "execution_count": 41,
   "metadata": {},
   "outputs": [
    {
     "data": {
      "image/png": "[encoded data removed]",
      "text/plain": [
       "<Figure size 432x288 with 1 Axes>"
      ]
     },
     "metadata": {
      "needs_background": "light"
     },
     "output_type": "display_data"
    }
   ],
   "source": [
    "platform_top.plot(x='year_of_release', y = 'x360', kind='bar', title = 'Продажи платформы x360',\n",
    "                 color='green', alpha=0.6, label='Суммарные объемы продаж платформы')\n",
    "plt.show()"
   ]
  },
  {
   "cell_type": "markdown",
   "metadata": {},
   "source": [
    "Пик продаж платформы x360 приходится на 2007 - 2013 годы. Срок жизни платформы 11-12 лет."
   ]
  },
  {
   "cell_type": "markdown",
   "metadata": {},
   "source": [
    "#### Вывод\n",
    "Срок жизни платформы 8-12 лет, пик продаж приходится на средние 5-6 лет, дальше идет затухание, начинают появляться и развиваться новые платформы.\n",
    "\n",
    "Для прогноза на 2017 год предлагаю за актуальный период взять с 2012 года, чтобы отследить намечающийся на 2017 год рост и спад платформ. "
   ]
  },
  {
   "cell_type": "markdown",
   "metadata": {},
   "source": [
    "### Анализ данных за актуальный период"
   ]
  },
  {
   "cell_type": "code",
   "execution_count": 43,
   "metadata": {},
   "outputs": [
    {
     "name": "stdout",
     "output_type": "stream",
     "text": [
      "<class 'pandas.core.frame.DataFrame'>\n",
      "RangeIndex: 2886 entries, 0 to 2885\n",
      "Data columns (total 12 columns):\n",
      "name               2886 non-null object\n",
      "platform           2886 non-null object\n",
      "year_of_release    2886 non-null int64\n",
      "genre              2886 non-null object\n",
      "na_sales           2886 non-null float64\n",
      "eu_sales           2886 non-null float64\n",
      "jp_sales           2886 non-null float64\n",
      "other_sales        2886 non-null float64\n",
      "critic_score       2886 non-null float64\n",
      "user_score         2886 non-null float64\n",
      "rating             2886 non-null object\n",
      "total_sales        2886 non-null float64\n",
      "dtypes: float64(7), int64(1), object(4)\n",
      "memory usage: 270.7+ KB\n",
      "None\n"
     ]
    },
    {
     "data": {
      "text/html": [
       "<div>\n",
       "<style scoped>\n",
       "    .dataframe tbody tr th:only-of-type {\n",
       "        vertical-align: middle;\n",
       "    }\n",
       "\n",
       "    .dataframe tbody tr th {\n",
       "        vertical-align: top;\n",
       "    }\n",
       "\n",
       "    .dataframe thead th {\n",
       "        text-align: right;\n",
       "    }\n",
       "</style>\n",
       "<table border=\"1\" class=\"dataframe\">\n",
       "  <thead>\n",
       "    <tr style=\"text-align: right;\">\n",
       "      <th></th>\n",
       "      <th>name</th>\n",
       "      <th>platform</th>\n",
       "      <th>year_of_release</th>\n",
       "      <th>genre</th>\n",
       "      <th>na_sales</th>\n",
       "      <th>eu_sales</th>\n",
       "      <th>jp_sales</th>\n",
       "      <th>other_sales</th>\n",
       "      <th>critic_score</th>\n",
       "      <th>user_score</th>\n",
       "      <th>rating</th>\n",
       "      <th>total_sales</th>\n",
       "    </tr>\n",
       "  </thead>\n",
       "  <tbody>\n",
       "    <tr>\n",
       "      <td>0</td>\n",
       "      <td>grand theft auto v</td>\n",
       "      <td>ps3</td>\n",
       "      <td>2013</td>\n",
       "      <td>action</td>\n",
       "      <td>7.02</td>\n",
       "      <td>9.09</td>\n",
       "      <td>0.98</td>\n",
       "      <td>3.96</td>\n",
       "      <td>97.0</td>\n",
       "      <td>8.2</td>\n",
       "      <td>M</td>\n",
       "      <td>21.05</td>\n",
       "    </tr>\n",
       "    <tr>\n",
       "      <td>1</td>\n",
       "      <td>grand theft auto v</td>\n",
       "      <td>x360</td>\n",
       "      <td>2013</td>\n",
       "      <td>action</td>\n",
       "      <td>9.66</td>\n",
       "      <td>5.14</td>\n",
       "      <td>0.06</td>\n",
       "      <td>1.41</td>\n",
       "      <td>97.0</td>\n",
       "      <td>8.1</td>\n",
       "      <td>M</td>\n",
       "      <td>16.27</td>\n",
       "    </tr>\n",
       "    <tr>\n",
       "      <td>2</td>\n",
       "      <td>call of duty: black ops 3</td>\n",
       "      <td>ps4</td>\n",
       "      <td>2015</td>\n",
       "      <td>shooter</td>\n",
       "      <td>6.03</td>\n",
       "      <td>5.86</td>\n",
       "      <td>0.36</td>\n",
       "      <td>2.38</td>\n",
       "      <td>777.0</td>\n",
       "      <td>0.0</td>\n",
       "      <td>777</td>\n",
       "      <td>14.63</td>\n",
       "    </tr>\n",
       "    <tr>\n",
       "      <td>3</td>\n",
       "      <td>pokemon x/pokemon y</td>\n",
       "      <td>3ds</td>\n",
       "      <td>2013</td>\n",
       "      <td>role-playing</td>\n",
       "      <td>5.28</td>\n",
       "      <td>4.19</td>\n",
       "      <td>4.35</td>\n",
       "      <td>0.78</td>\n",
       "      <td>777.0</td>\n",
       "      <td>0.0</td>\n",
       "      <td>777</td>\n",
       "      <td>14.60</td>\n",
       "    </tr>\n",
       "    <tr>\n",
       "      <td>4</td>\n",
       "      <td>call of duty: black ops ii</td>\n",
       "      <td>ps3</td>\n",
       "      <td>2012</td>\n",
       "      <td>shooter</td>\n",
       "      <td>4.99</td>\n",
       "      <td>5.73</td>\n",
       "      <td>0.65</td>\n",
       "      <td>2.42</td>\n",
       "      <td>83.0</td>\n",
       "      <td>5.3</td>\n",
       "      <td>M</td>\n",
       "      <td>13.79</td>\n",
       "    </tr>\n",
       "    <tr>\n",
       "      <td>5</td>\n",
       "      <td>call of duty: black ops ii</td>\n",
       "      <td>x360</td>\n",
       "      <td>2012</td>\n",
       "      <td>shooter</td>\n",
       "      <td>8.25</td>\n",
       "      <td>4.24</td>\n",
       "      <td>0.07</td>\n",
       "      <td>1.12</td>\n",
       "      <td>83.0</td>\n",
       "      <td>4.8</td>\n",
       "      <td>M</td>\n",
       "      <td>13.68</td>\n",
       "    </tr>\n",
       "    <tr>\n",
       "      <td>6</td>\n",
       "      <td>grand theft auto v</td>\n",
       "      <td>ps4</td>\n",
       "      <td>2014</td>\n",
       "      <td>action</td>\n",
       "      <td>3.96</td>\n",
       "      <td>6.31</td>\n",
       "      <td>0.38</td>\n",
       "      <td>1.97</td>\n",
       "      <td>97.0</td>\n",
       "      <td>8.3</td>\n",
       "      <td>M</td>\n",
       "      <td>12.62</td>\n",
       "    </tr>\n",
       "    <tr>\n",
       "      <td>7</td>\n",
       "      <td>pokemon omega ruby/pokemon alpha sapphire</td>\n",
       "      <td>3ds</td>\n",
       "      <td>2014</td>\n",
       "      <td>role-playing</td>\n",
       "      <td>4.35</td>\n",
       "      <td>3.49</td>\n",
       "      <td>3.10</td>\n",
       "      <td>0.74</td>\n",
       "      <td>777.0</td>\n",
       "      <td>0.0</td>\n",
       "      <td>777</td>\n",
       "      <td>11.68</td>\n",
       "    </tr>\n",
       "    <tr>\n",
       "      <td>8</td>\n",
       "      <td>call of duty: ghosts</td>\n",
       "      <td>x360</td>\n",
       "      <td>2013</td>\n",
       "      <td>shooter</td>\n",
       "      <td>6.73</td>\n",
       "      <td>2.56</td>\n",
       "      <td>0.04</td>\n",
       "      <td>0.91</td>\n",
       "      <td>73.0</td>\n",
       "      <td>2.6</td>\n",
       "      <td>M</td>\n",
       "      <td>10.24</td>\n",
       "    </tr>\n",
       "    <tr>\n",
       "      <td>9</td>\n",
       "      <td>new super mario bros. 2</td>\n",
       "      <td>3ds</td>\n",
       "      <td>2012</td>\n",
       "      <td>platform</td>\n",
       "      <td>3.66</td>\n",
       "      <td>3.14</td>\n",
       "      <td>2.47</td>\n",
       "      <td>0.63</td>\n",
       "      <td>78.0</td>\n",
       "      <td>7.2</td>\n",
       "      <td>E</td>\n",
       "      <td>9.90</td>\n",
       "    </tr>\n",
       "  </tbody>\n",
       "</table>\n",
       "</div>"
      ],
      "text/plain": [
       "                                        name platform  year_of_release  \\\n",
       "0                         grand theft auto v      ps3             2013   \n",
       "1                         grand theft auto v     x360             2013   \n",
       "2                  call of duty: black ops 3      ps4             2015   \n",
       "3                        pokemon x/pokemon y      3ds             2013   \n",
       "4                 call of duty: black ops ii      ps3             2012   \n",
       "5                 call of duty: black ops ii     x360             2012   \n",
       "6                         grand theft auto v      ps4             2014   \n",
       "7  pokemon omega ruby/pokemon alpha sapphire      3ds             2014   \n",
       "8                       call of duty: ghosts     x360             2013   \n",
       "9                    new super mario bros. 2      3ds             2012   \n",
       "\n",
       "          genre  na_sales  eu_sales  jp_sales  other_sales  critic_score  \\\n",
       "0        action      7.02      9.09      0.98         3.96          97.0   \n",
       "1        action      9.66      5.14      0.06         1.41          97.0   \n",
       "2       shooter      6.03      5.86      0.36         2.38         777.0   \n",
       "3  role-playing      5.28      4.19      4.35         0.78         777.0   \n",
       "4       shooter      4.99      5.73      0.65         2.42          83.0   \n",
       "5       shooter      8.25      4.24      0.07         1.12          83.0   \n",
       "6        action      3.96      6.31      0.38         1.97          97.0   \n",
       "7  role-playing      4.35      3.49      3.10         0.74         777.0   \n",
       "8       shooter      6.73      2.56      0.04         0.91          73.0   \n",
       "9      platform      3.66      3.14      2.47         0.63          78.0   \n",
       "\n",
       "   user_score rating  total_sales  \n",
       "0         8.2      M        21.05  \n",
       "1         8.1      M        16.27  \n",
       "2         0.0    777        14.63  \n",
       "3         0.0    777        14.60  \n",
       "4         5.3      M        13.79  \n",
       "5         4.8      M        13.68  \n",
       "6         8.3      M        12.62  \n",
       "7         0.0    777        11.68  \n",
       "8         2.6      M        10.24  \n",
       "9         7.2      E         9.90  "
      ]
     },
     "metadata": {},
     "output_type": "display_data"
    }
   ],
   "source": [
    "data_actual = data.query('2012 <= year_of_release < 99999').reset_index(drop=True)\n",
    "print(data_actual.info())\n",
    "display(data_actual.head(10))"
   ]
  },
  {
   "cell_type": "markdown",
   "metadata": {},
   "source": [
    "Сделала срез данных за актуальный период."
   ]
  },
  {
   "cell_type": "code",
   "execution_count": 44,
   "metadata": {},
   "outputs": [
    {
     "name": "stdout",
     "output_type": "stream",
     "text": [
      "platform\n",
      "ps4     314.14\n",
      "ps3     288.79\n",
      "x360    236.54\n",
      "3ds     194.61\n",
      "xone    159.32\n",
      "wiiu     82.19\n",
      "pc       62.65\n",
      "psv      49.18\n",
      "wii      35.37\n",
      "ds       12.55\n",
      "psp      11.19\n",
      "Name: total_sales, dtype: float64\n"
     ]
    }
   ],
   "source": [
    "platform_actual = data_actual.groupby('platform')['total_sales'].sum().sort_values(ascending = False)\n",
    "print(platform_actual)\n"
   ]
  },
  {
   "cell_type": "markdown",
   "metadata": {},
   "source": [
    "Платформы с наибольшими суммарными продажами за актуальный период: ps4, ps3, x360, 3ds, xone."
   ]
  },
  {
   "cell_type": "code",
   "execution_count": 45,
   "metadata": {},
   "outputs": [
    {
     "data": {
      "text/html": [
       "<div>\n",
       "<style scoped>\n",
       "    .dataframe tbody tr th:only-of-type {\n",
       "        vertical-align: middle;\n",
       "    }\n",
       "\n",
       "    .dataframe tbody tr th {\n",
       "        vertical-align: top;\n",
       "    }\n",
       "\n",
       "    .dataframe thead th {\n",
       "        text-align: right;\n",
       "    }\n",
       "</style>\n",
       "<table border=\"1\" class=\"dataframe\">\n",
       "  <thead>\n",
       "    <tr style=\"text-align: right;\">\n",
       "      <th>platform</th>\n",
       "      <th>year_of_release</th>\n",
       "      <th>3ds</th>\n",
       "      <th>ps3</th>\n",
       "      <th>ps4</th>\n",
       "      <th>wiiu</th>\n",
       "      <th>x360</th>\n",
       "      <th>xone</th>\n",
       "    </tr>\n",
       "  </thead>\n",
       "  <tbody>\n",
       "    <tr>\n",
       "      <td>0</td>\n",
       "      <td>2012</td>\n",
       "      <td>51.36</td>\n",
       "      <td>107.36</td>\n",
       "      <td>NaN</td>\n",
       "      <td>17.56</td>\n",
       "      <td>99.74</td>\n",
       "      <td>NaN</td>\n",
       "    </tr>\n",
       "    <tr>\n",
       "      <td>1</td>\n",
       "      <td>2013</td>\n",
       "      <td>56.57</td>\n",
       "      <td>113.25</td>\n",
       "      <td>25.99</td>\n",
       "      <td>21.65</td>\n",
       "      <td>88.58</td>\n",
       "      <td>18.96</td>\n",
       "    </tr>\n",
       "    <tr>\n",
       "      <td>2</td>\n",
       "      <td>2014</td>\n",
       "      <td>43.76</td>\n",
       "      <td>47.76</td>\n",
       "      <td>100.00</td>\n",
       "      <td>22.03</td>\n",
       "      <td>34.74</td>\n",
       "      <td>54.07</td>\n",
       "    </tr>\n",
       "    <tr>\n",
       "      <td>3</td>\n",
       "      <td>2015</td>\n",
       "      <td>27.78</td>\n",
       "      <td>16.82</td>\n",
       "      <td>118.90</td>\n",
       "      <td>16.35</td>\n",
       "      <td>11.96</td>\n",
       "      <td>60.14</td>\n",
       "    </tr>\n",
       "    <tr>\n",
       "      <td>4</td>\n",
       "      <td>2016</td>\n",
       "      <td>15.14</td>\n",
       "      <td>3.60</td>\n",
       "      <td>69.25</td>\n",
       "      <td>4.60</td>\n",
       "      <td>1.52</td>\n",
       "      <td>26.15</td>\n",
       "    </tr>\n",
       "  </tbody>\n",
       "</table>\n",
       "</div>"
      ],
      "text/plain": [
       "platform  year_of_release    3ds     ps3     ps4   wiiu   x360   xone\n",
       "0                    2012  51.36  107.36     NaN  17.56  99.74    NaN\n",
       "1                    2013  56.57  113.25   25.99  21.65  88.58  18.96\n",
       "2                    2014  43.76   47.76  100.00  22.03  34.74  54.07\n",
       "3                    2015  27.78   16.82  118.90  16.35  11.96  60.14\n",
       "4                    2016  15.14    3.60   69.25   4.60   1.52  26.15"
      ]
     },
     "metadata": {},
     "output_type": "display_data"
    }
   ],
   "source": [
    "platform_big_actual = ['ps4', 'ps3', 'x360', '3ds', 'xone', 'wiiu']\n",
    "platform_top_actual = data_actual.query('platform in @platform_big_actual').pivot_table(index='year_of_release',columns='platform',values='total_sales',aggfunc='sum').reset_index()\n",
    "display(platform_top_actual)\n"
   ]
  },
  {
   "cell_type": "markdown",
   "metadata": {},
   "source": [
    "Сгруппировала данные по платформам с наибольшими суммарными продажами за актуальный период."
   ]
  },
  {
   "cell_type": "code",
   "execution_count": 47,
   "metadata": {},
   "outputs": [
    {
     "data": {
      "image/png": "[encoded data removed]",
      "text/plain": [
       "<Figure size 432x288 with 1 Axes>"
      ]
     },
     "metadata": {
      "needs_background": "light"
     },
     "output_type": "display_data"
    }
   ],
   "source": [
    "platform_top_actual.plot(x='year_of_release', y = '3ds', kind='bar', title = 'Продажи платформы 3ds',\n",
    "                 color='blue', alpha=0.6, label='Суммарные объемы продаж платформы')\n",
    "plt.show()"
   ]
  },
  {
   "cell_type": "code",
   "execution_count": 48,
   "metadata": {},
   "outputs": [
    {
     "data": {
      "image/png": "[encoded data removed]",
      "text/plain": [
       "<Figure size 432x288 with 1 Axes>"
      ]
     },
     "metadata": {
      "needs_background": "light"
     },
     "output_type": "display_data"
    },
    {
     "name": "stdout",
     "output_type": "stream",
     "text": [
      "count     5.000000\n",
      "mean     38.922000\n",
      "std      17.170394\n",
      "min      15.140000\n",
      "25%      27.780000\n",
      "50%      43.760000\n",
      "75%      51.360000\n",
      "max      56.570000\n",
      "Name: 3ds, dtype: float64\n"
     ]
    }
   ],
   "source": [
    "plt.ylim(10, 60)\n",
    "platform_top_actual.boxplot(column='3ds')\n",
    "plt.show()\n",
    "print(platform_top_actual['3ds'].describe()) "
   ]
  },
  {
   "cell_type": "markdown",
   "metadata": {},
   "source": [
    "Продажа игр на платформе 3ds снижается начиная с 2014 года. Медиана продаж игр на платформе 3ds составляет 43.76 миллиона копий, среднее 38.92. Минимальное количество копий игр на данной платформе за актуальный период было продано в 2016 году, максимальное - в 2013."
   ]
  },
  {
   "cell_type": "code",
   "execution_count": 50,
   "metadata": {},
   "outputs": [
    {
     "data": {
      "image/png": "[encoded data removed]",
      "text/plain": [
       "<Figure size 432x288 with 1 Axes>"
      ]
     },
     "metadata": {
      "needs_background": "light"
     },
     "output_type": "display_data"
    }
   ],
   "source": [
    "platform_top_actual.plot(x='year_of_release', y = 'ps3', kind='bar', title = 'Продажи платформы ps3',\n",
    "                 color='blue', alpha=0.6, label='Суммарные объемы продаж платформы')\n",
    "plt.show()"
   ]
  },
  {
   "cell_type": "code",
   "execution_count": 51,
   "metadata": {},
   "outputs": [
    {
     "data": {
      "image/png": "[encoded data removed]",
      "text/plain": [
       "<Figure size 432x288 with 1 Axes>"
      ]
     },
     "metadata": {
      "needs_background": "light"
     },
     "output_type": "display_data"
    },
    {
     "name": "stdout",
     "output_type": "stream",
     "text": [
      "count      5.000000\n",
      "mean      57.758000\n",
      "std       50.617905\n",
      "min        3.600000\n",
      "25%       16.820000\n",
      "50%       47.760000\n",
      "75%      107.360000\n",
      "max      113.250000\n",
      "Name: ps3, dtype: float64\n"
     ]
    }
   ],
   "source": [
    "plt.ylim(5, 130)\n",
    "platform_top_actual.boxplot(column='ps3')\n",
    "plt.show()\n",
    "print(platform_top_actual['ps3'].describe()) "
   ]
  },
  {
   "cell_type": "markdown",
   "metadata": {},
   "source": [
    "Продажа игр на платформе ps3 также снижается начиная с 2014 года. Медиана продаж игр на платформе ps3 составляет 47.76 миллиона копий, среднее 57.75. Минимальное количество копий игр на данной платформе за актуальный период было продано в 2016 году, максимальное - в 2012."
   ]
  },
  {
   "cell_type": "code",
   "execution_count": 52,
   "metadata": {},
   "outputs": [
    {
     "data": {
      "image/png": "[encoded data removed]",
      "text/plain": [
       "<Figure size 432x288 with 1 Axes>"
      ]
     },
     "metadata": {
      "needs_background": "light"
     },
     "output_type": "display_data"
    }
   ],
   "source": [
    "platform_top_actual.plot(x='year_of_release', y = 'ps4', kind='bar', title = 'Продажи платформы ps4',\n",
    "                 color='blue', alpha=0.6, label='Суммарные объемы продаж платформы')\n",
    "plt.show()"
   ]
  },
  {
   "cell_type": "code",
   "execution_count": 53,
   "metadata": {},
   "outputs": [
    {
     "data": {
      "image/png": "[encoded data removed]",
      "text/plain": [
       "<Figure size 432x288 with 1 Axes>"
      ]
     },
     "metadata": {
      "needs_background": "light"
     },
     "output_type": "display_data"
    },
    {
     "name": "stdout",
     "output_type": "stream",
     "text": [
      "count      4.000000\n",
      "mean      78.535000\n",
      "std       40.567917\n",
      "min       25.990000\n",
      "25%       58.435000\n",
      "50%       84.625000\n",
      "75%      104.725000\n",
      "max      118.900000\n",
      "Name: ps4, dtype: float64\n"
     ]
    }
   ],
   "source": [
    "plt.ylim(10, 130)\n",
    "platform_top_actual.boxplot(column='ps4')\n",
    "plt.show()\n",
    "print(platform_top_actual['ps4'].describe()) "
   ]
  },
  {
   "cell_type": "markdown",
   "metadata": {},
   "source": [
    "Продажа игр на платформе ps4 весь актуальный период уверенно растет за исключением 2016 года.\n",
    "Медиана продаж игр на платформе ps4 составляет 84.62 миллиона копий, среднее 78.53. Минимальное количество копий игр на данной платформе за актуальный период было продано в 2013 году, максимальное - в 2015.\n",
    "\n",
    "Исходя из описания данные за 2016 год могут быть неполные, тогда можно предположить, что в 2016 году продажа игр на платформе ps4 также будет расти."
   ]
  },
  {
   "cell_type": "code",
   "execution_count": 55,
   "metadata": {},
   "outputs": [
    {
     "data": {
      "image/png": "[encoded data removed]",
      "text/plain": [
       "<Figure size 432x288 with 1 Axes>"
      ]
     },
     "metadata": {
      "needs_background": "light"
     },
     "output_type": "display_data"
    }
   ],
   "source": [
    "platform_top_actual.plot(x='year_of_release', y = 'x360', kind='bar', title = 'Продажи платформы x360',\n",
    "                 color='blue', alpha=0.6, label='Суммарные объемы продаж платформы')\n",
    "plt.show()"
   ]
  },
  {
   "cell_type": "code",
   "execution_count": 56,
   "metadata": {},
   "outputs": [
    {
     "data": {
      "image/png": "[encoded data removed]",
      "text/plain": [
       "<Figure size 432x288 with 1 Axes>"
      ]
     },
     "metadata": {
      "needs_background": "light"
     },
     "output_type": "display_data"
    },
    {
     "name": "stdout",
     "output_type": "stream",
     "text": [
      "count     5.000000\n",
      "mean     47.308000\n",
      "std      44.599522\n",
      "min       1.520000\n",
      "25%      11.960000\n",
      "50%      34.740000\n",
      "75%      88.580000\n",
      "max      99.740000\n",
      "Name: x360, dtype: float64\n"
     ]
    }
   ],
   "source": [
    "plt.ylim(0, 105)\n",
    "platform_top_actual.boxplot(column='x360')\n",
    "plt.show()\n",
    "print(platform_top_actual['x360'].describe()) "
   ]
  },
  {
   "cell_type": "markdown",
   "metadata": {},
   "source": [
    "Продажа игр на платформе x360 весь актуальный период снижается. Медиана продаж игр на платформе x360 составляет 34.74 миллиона копий, среднее 47.30. Минимальное количество копий игр на данной платформе за актуальный период было продано в 2016 году, максимальное - в 2012."
   ]
  },
  {
   "cell_type": "code",
   "execution_count": 58,
   "metadata": {},
   "outputs": [
    {
     "data": {
      "image/png": "[encoded data removed]",
      "text/plain": [
       "<Figure size 432x288 with 1 Axes>"
      ]
     },
     "metadata": {
      "needs_background": "light"
     },
     "output_type": "display_data"
    }
   ],
   "source": [
    "platform_top_actual.plot(x='year_of_release', y = 'xone', kind='bar', title = 'Продажи платформы xone',\n",
    "                 color='blue', alpha=0.6, label='Суммарные объемы продаж платформы')\n",
    "plt.show()"
   ]
  },
  {
   "cell_type": "code",
   "execution_count": 59,
   "metadata": {},
   "outputs": [
    {
     "data": {
      "image/png": "[encoded data removed]",
      "text/plain": [
       "<Figure size 432x288 with 1 Axes>"
      ]
     },
     "metadata": {
      "needs_background": "light"
     },
     "output_type": "display_data"
    },
    {
     "name": "stdout",
     "output_type": "stream",
     "text": [
      "count     4.000000\n",
      "mean     39.830000\n",
      "std      20.313977\n",
      "min      18.960000\n",
      "25%      24.352500\n",
      "50%      40.110000\n",
      "75%      55.587500\n",
      "max      60.140000\n",
      "Name: xone, dtype: float64\n"
     ]
    }
   ],
   "source": [
    "plt.ylim(10, 70)\n",
    "platform_top_actual.boxplot(column='xone')\n",
    "plt.show()\n",
    "print(platform_top_actual['xone'].describe()) "
   ]
  },
  {
   "cell_type": "markdown",
   "metadata": {},
   "source": [
    "Продажа игр на платформе xone весь актуальный период уверенно растет за исключением 2016 года.\n",
    "Медиана продаж игр на платформе xone составляет 40.11 миллиона копий, среднее 39.83. Минимальное количество копий игр на данной платформе за актуальный период было продано в 2013 году, максимальное - в 2015.\n",
    "\n",
    "Исходя из описания данные за 2016 год могут быть неполные, тогда можно предположить, что в 2016 году продажа игр на платформе xone также будет расти."
   ]
  },
  {
   "cell_type": "code",
   "execution_count": 60,
   "metadata": {},
   "outputs": [
    {
     "data": {
      "image/png": "[encoded data removed]",
      "text/plain": [
       "<Figure size 432x288 with 1 Axes>"
      ]
     },
     "metadata": {
      "needs_background": "light"
     },
     "output_type": "display_data"
    }
   ],
   "source": [
    "platform_top_actual.plot(x='year_of_release', y = 'wiiu', kind='bar', title = 'Продажи платформы wiiu',\n",
    "                 color='blue', alpha=0.6, label='Суммарные объемы продаж платформы')\n",
    "plt.show()"
   ]
  },
  {
   "cell_type": "code",
   "execution_count": 61,
   "metadata": {},
   "outputs": [
    {
     "data": {
      "image/png": "[encoded data removed]",
      "text/plain": [
       "<Figure size 432x288 with 1 Axes>"
      ]
     },
     "metadata": {
      "needs_background": "light"
     },
     "output_type": "display_data"
    },
    {
     "name": "stdout",
     "output_type": "stream",
     "text": [
      "count     5.000000\n",
      "mean     16.438000\n",
      "std       7.068244\n",
      "min       4.600000\n",
      "25%      16.350000\n",
      "50%      17.560000\n",
      "75%      21.650000\n",
      "max      22.030000\n",
      "Name: wiiu, dtype: float64\n"
     ]
    }
   ],
   "source": [
    "plt.ylim(0, 25)\n",
    "platform_top_actual.boxplot(column='wiiu')\n",
    "plt.show()\n",
    "print(platform_top_actual['wiiu'].describe()) "
   ]
  },
  {
   "cell_type": "markdown",
   "metadata": {},
   "source": [
    "Продажа игр на платформе wiiu с 2015 года снижается, хотя за 2016 год данные неполные, но объем продаж игр на данной платформе в целом за актуальный период мал."
   ]
  },
  {
   "cell_type": "markdown",
   "metadata": {},
   "source": [
    "#### Вывод\n",
    "Продажи игр на платформах ps3, x360, 3ds снижаются весь актуальный период.\n",
    "\n",
    "Рост показывают продажи игр на платформах ps4 и xone, причем по данным за 2015 (последний полный год) продажи на платформе ps4 в два раза превышали продажи на платформе xone.\n",
    "\n",
    "Платформа ps4 также является лидером продаж в актуальном периоде в целом."
   ]
  },
  {
   "cell_type": "markdown",
   "metadata": {},
   "source": [
    "###  Анализ влияния отзывов пользователей и критиков на продажи игр, анализ продаж игр по жанрам"
   ]
  },
  {
   "cell_type": "code",
   "execution_count": 62,
   "metadata": {},
   "outputs": [
    {
     "name": "stdout",
     "output_type": "stream",
     "text": [
      "<class 'pandas.core.frame.DataFrame'>\n",
      "RangeIndex: 1967 entries, 0 to 1966\n",
      "Data columns (total 12 columns):\n",
      "name               1967 non-null object\n",
      "platform           1967 non-null object\n",
      "year_of_release    1967 non-null int64\n",
      "genre              1967 non-null object\n",
      "na_sales           1967 non-null float64\n",
      "eu_sales           1967 non-null float64\n",
      "jp_sales           1967 non-null float64\n",
      "other_sales        1967 non-null float64\n",
      "critic_score       1967 non-null float64\n",
      "user_score         1967 non-null float64\n",
      "rating             1967 non-null object\n",
      "total_sales        1967 non-null float64\n",
      "dtypes: float64(7), int64(1), object(4)\n",
      "memory usage: 184.5+ KB\n",
      "None\n"
     ]
    },
    {
     "data": {
      "text/html": [
       "<div>\n",
       "<style scoped>\n",
       "    .dataframe tbody tr th:only-of-type {\n",
       "        vertical-align: middle;\n",
       "    }\n",
       "\n",
       "    .dataframe tbody tr th {\n",
       "        vertical-align: top;\n",
       "    }\n",
       "\n",
       "    .dataframe thead th {\n",
       "        text-align: right;\n",
       "    }\n",
       "</style>\n",
       "<table border=\"1\" class=\"dataframe\">\n",
       "  <thead>\n",
       "    <tr style=\"text-align: right;\">\n",
       "      <th></th>\n",
       "      <th>name</th>\n",
       "      <th>platform</th>\n",
       "      <th>year_of_release</th>\n",
       "      <th>genre</th>\n",
       "      <th>na_sales</th>\n",
       "      <th>eu_sales</th>\n",
       "      <th>jp_sales</th>\n",
       "      <th>other_sales</th>\n",
       "      <th>critic_score</th>\n",
       "      <th>user_score</th>\n",
       "      <th>rating</th>\n",
       "      <th>total_sales</th>\n",
       "    </tr>\n",
       "  </thead>\n",
       "  <tbody>\n",
       "    <tr>\n",
       "      <td>0</td>\n",
       "      <td>grand theft auto v</td>\n",
       "      <td>ps3</td>\n",
       "      <td>2013</td>\n",
       "      <td>action</td>\n",
       "      <td>7.02</td>\n",
       "      <td>9.09</td>\n",
       "      <td>0.98</td>\n",
       "      <td>3.96</td>\n",
       "      <td>97.0</td>\n",
       "      <td>8.2</td>\n",
       "      <td>M</td>\n",
       "      <td>21.05</td>\n",
       "    </tr>\n",
       "    <tr>\n",
       "      <td>1</td>\n",
       "      <td>grand theft auto v</td>\n",
       "      <td>x360</td>\n",
       "      <td>2013</td>\n",
       "      <td>action</td>\n",
       "      <td>9.66</td>\n",
       "      <td>5.14</td>\n",
       "      <td>0.06</td>\n",
       "      <td>1.41</td>\n",
       "      <td>97.0</td>\n",
       "      <td>8.1</td>\n",
       "      <td>M</td>\n",
       "      <td>16.27</td>\n",
       "    </tr>\n",
       "    <tr>\n",
       "      <td>2</td>\n",
       "      <td>call of duty: black ops 3</td>\n",
       "      <td>ps4</td>\n",
       "      <td>2015</td>\n",
       "      <td>shooter</td>\n",
       "      <td>6.03</td>\n",
       "      <td>5.86</td>\n",
       "      <td>0.36</td>\n",
       "      <td>2.38</td>\n",
       "      <td>777.0</td>\n",
       "      <td>0.0</td>\n",
       "      <td>777</td>\n",
       "      <td>14.63</td>\n",
       "    </tr>\n",
       "    <tr>\n",
       "      <td>3</td>\n",
       "      <td>pokemon x/pokemon y</td>\n",
       "      <td>3ds</td>\n",
       "      <td>2013</td>\n",
       "      <td>role-playing</td>\n",
       "      <td>5.28</td>\n",
       "      <td>4.19</td>\n",
       "      <td>4.35</td>\n",
       "      <td>0.78</td>\n",
       "      <td>777.0</td>\n",
       "      <td>0.0</td>\n",
       "      <td>777</td>\n",
       "      <td>14.60</td>\n",
       "    </tr>\n",
       "    <tr>\n",
       "      <td>4</td>\n",
       "      <td>call of duty: black ops ii</td>\n",
       "      <td>ps3</td>\n",
       "      <td>2012</td>\n",
       "      <td>shooter</td>\n",
       "      <td>4.99</td>\n",
       "      <td>5.73</td>\n",
       "      <td>0.65</td>\n",
       "      <td>2.42</td>\n",
       "      <td>83.0</td>\n",
       "      <td>5.3</td>\n",
       "      <td>M</td>\n",
       "      <td>13.79</td>\n",
       "    </tr>\n",
       "  </tbody>\n",
       "</table>\n",
       "</div>"
      ],
      "text/plain": [
       "                         name platform  year_of_release         genre  \\\n",
       "0          grand theft auto v      ps3             2013        action   \n",
       "1          grand theft auto v     x360             2013        action   \n",
       "2   call of duty: black ops 3      ps4             2015       shooter   \n",
       "3         pokemon x/pokemon y      3ds             2013  role-playing   \n",
       "4  call of duty: black ops ii      ps3             2012       shooter   \n",
       "\n",
       "   na_sales  eu_sales  jp_sales  other_sales  critic_score  user_score rating  \\\n",
       "0      7.02      9.09      0.98         3.96          97.0         8.2      M   \n",
       "1      9.66      5.14      0.06         1.41          97.0         8.1      M   \n",
       "2      6.03      5.86      0.36         2.38         777.0         0.0    777   \n",
       "3      5.28      4.19      4.35         0.78         777.0         0.0    777   \n",
       "4      4.99      5.73      0.65         2.42          83.0         5.3      M   \n",
       "\n",
       "   total_sales  \n",
       "0        21.05  \n",
       "1        16.27  \n",
       "2        14.63  \n",
       "3        14.60  \n",
       "4        13.79  "
      ]
     },
     "metadata": {},
     "output_type": "display_data"
    }
   ],
   "source": [
    "data_actual_platform = data_actual.query('platform in @platform_big_actual').reset_index(drop=True)\n",
    "print(data_actual_platform.info())\n",
    "display(data_actual_platform.head())"
   ]
  },
  {
   "cell_type": "markdown",
   "metadata": {},
   "source": [
    "Сделала срез по платформам с наибольшими суммарными продажами за актуальный период."
   ]
  },
  {
   "cell_type": "code",
   "execution_count": 63,
   "metadata": {},
   "outputs": [
    {
     "name": "stdout",
     "output_type": "stream",
     "text": [
      "<class 'pandas.core.frame.DataFrame'>\n",
      "RangeIndex: 250 entries, 0 to 249\n",
      "Data columns (total 12 columns):\n",
      "name               250 non-null object\n",
      "platform           250 non-null object\n",
      "year_of_release    250 non-null int64\n",
      "genre              250 non-null object\n",
      "na_sales           250 non-null float64\n",
      "eu_sales           250 non-null float64\n",
      "jp_sales           250 non-null float64\n",
      "other_sales        250 non-null float64\n",
      "critic_score       250 non-null float64\n",
      "user_score         250 non-null float64\n",
      "rating             250 non-null object\n",
      "total_sales        250 non-null float64\n",
      "dtypes: float64(7), int64(1), object(4)\n",
      "memory usage: 23.6+ KB\n",
      "None\n"
     ]
    },
    {
     "data": {
      "text/html": [
       "<div>\n",
       "<style scoped>\n",
       "    .dataframe tbody tr th:only-of-type {\n",
       "        vertical-align: middle;\n",
       "    }\n",
       "\n",
       "    .dataframe tbody tr th {\n",
       "        vertical-align: top;\n",
       "    }\n",
       "\n",
       "    .dataframe thead th {\n",
       "        text-align: right;\n",
       "    }\n",
       "</style>\n",
       "<table border=\"1\" class=\"dataframe\">\n",
       "  <thead>\n",
       "    <tr style=\"text-align: right;\">\n",
       "      <th></th>\n",
       "      <th>name</th>\n",
       "      <th>platform</th>\n",
       "      <th>year_of_release</th>\n",
       "      <th>genre</th>\n",
       "      <th>na_sales</th>\n",
       "      <th>eu_sales</th>\n",
       "      <th>jp_sales</th>\n",
       "      <th>other_sales</th>\n",
       "      <th>critic_score</th>\n",
       "      <th>user_score</th>\n",
       "      <th>rating</th>\n",
       "      <th>total_sales</th>\n",
       "    </tr>\n",
       "  </thead>\n",
       "  <tbody>\n",
       "    <tr>\n",
       "      <td>0</td>\n",
       "      <td>grand theft auto v</td>\n",
       "      <td>ps4</td>\n",
       "      <td>2014</td>\n",
       "      <td>action</td>\n",
       "      <td>3.96</td>\n",
       "      <td>6.31</td>\n",
       "      <td>0.38</td>\n",
       "      <td>1.97</td>\n",
       "      <td>97.0</td>\n",
       "      <td>8.3</td>\n",
       "      <td>M</td>\n",
       "      <td>12.62</td>\n",
       "    </tr>\n",
       "    <tr>\n",
       "      <td>1</td>\n",
       "      <td>fifa 16</td>\n",
       "      <td>ps4</td>\n",
       "      <td>2015</td>\n",
       "      <td>sports</td>\n",
       "      <td>1.12</td>\n",
       "      <td>6.12</td>\n",
       "      <td>0.06</td>\n",
       "      <td>1.28</td>\n",
       "      <td>82.0</td>\n",
       "      <td>4.3</td>\n",
       "      <td>E</td>\n",
       "      <td>8.58</td>\n",
       "    </tr>\n",
       "    <tr>\n",
       "      <td>2</td>\n",
       "      <td>call of duty: advanced warfare</td>\n",
       "      <td>ps4</td>\n",
       "      <td>2014</td>\n",
       "      <td>shooter</td>\n",
       "      <td>2.81</td>\n",
       "      <td>3.48</td>\n",
       "      <td>0.14</td>\n",
       "      <td>1.23</td>\n",
       "      <td>83.0</td>\n",
       "      <td>5.7</td>\n",
       "      <td>M</td>\n",
       "      <td>7.66</td>\n",
       "    </tr>\n",
       "    <tr>\n",
       "      <td>3</td>\n",
       "      <td>fifa 17</td>\n",
       "      <td>ps4</td>\n",
       "      <td>2016</td>\n",
       "      <td>sports</td>\n",
       "      <td>0.66</td>\n",
       "      <td>5.75</td>\n",
       "      <td>0.08</td>\n",
       "      <td>1.11</td>\n",
       "      <td>85.0</td>\n",
       "      <td>5.0</td>\n",
       "      <td>E</td>\n",
       "      <td>7.60</td>\n",
       "    </tr>\n",
       "    <tr>\n",
       "      <td>4</td>\n",
       "      <td>fallout 4</td>\n",
       "      <td>ps4</td>\n",
       "      <td>2015</td>\n",
       "      <td>role-playing</td>\n",
       "      <td>2.53</td>\n",
       "      <td>3.27</td>\n",
       "      <td>0.24</td>\n",
       "      <td>1.13</td>\n",
       "      <td>87.0</td>\n",
       "      <td>6.5</td>\n",
       "      <td>M</td>\n",
       "      <td>7.17</td>\n",
       "    </tr>\n",
       "  </tbody>\n",
       "</table>\n",
       "</div>"
      ],
      "text/plain": [
       "                             name platform  year_of_release         genre  \\\n",
       "0              grand theft auto v      ps4             2014        action   \n",
       "1                         fifa 16      ps4             2015        sports   \n",
       "2  call of duty: advanced warfare      ps4             2014       shooter   \n",
       "3                         fifa 17      ps4             2016        sports   \n",
       "4                       fallout 4      ps4             2015  role-playing   \n",
       "\n",
       "   na_sales  eu_sales  jp_sales  other_sales  critic_score  user_score rating  \\\n",
       "0      3.96      6.31      0.38         1.97          97.0         8.3      M   \n",
       "1      1.12      6.12      0.06         1.28          82.0         4.3      E   \n",
       "2      2.81      3.48      0.14         1.23          83.0         5.7      M   \n",
       "3      0.66      5.75      0.08         1.11          85.0         5.0      E   \n",
       "4      2.53      3.27      0.24         1.13          87.0         6.5      M   \n",
       "\n",
       "   total_sales  \n",
       "0        12.62  \n",
       "1         8.58  \n",
       "2         7.66  \n",
       "3         7.60  \n",
       "4         7.17  "
      ]
     },
     "metadata": {},
     "output_type": "display_data"
    }
   ],
   "source": [
    "ps4 = 'ps4'\n",
    "data_actual_ps4 = data_actual.query('platform in @ps4 and critic_score != 777 and user_score !=777').reset_index(drop=True)\n",
    "print(data_actual_ps4.info())\n",
    "display(data_actual_ps4.head())"
   ]
  },
  {
   "cell_type": "markdown",
   "metadata": {},
   "source": [
    "Сделала срез по платформе ps4 с исключением маркеров в оценках критиков и пользователей."
   ]
  },
  {
   "cell_type": "code",
   "execution_count": 64,
   "metadata": {},
   "outputs": [
    {
     "name": "stdout",
     "output_type": "stream",
     "text": [
      "Коэффициент корреляции продаж игр на платформе ps4 от отзывов критиков составляет 0.41\n"
     ]
    },
    {
     "data": {
      "image/png": "[encoded data removed]",
      "text/plain": [
       "<Figure size 432x288 with 1 Axes>"
      ]
     },
     "metadata": {
      "needs_background": "light"
     },
     "output_type": "display_data"
    }
   ],
   "source": [
    "data_actual_ps4.plot(x='total_sales', y='critic_score', kind='scatter', alpha=0.4) \n",
    "print('Коэффициент корреляции продаж игр на платформе ps4 от отзывов критиков составляет {:.2f}'.format(data_actual_ps4['total_sales'].corr(data_actual_ps4['critic_score'])))"
   ]
  },
  {
   "cell_type": "code",
   "execution_count": 65,
   "metadata": {},
   "outputs": [
    {
     "name": "stdout",
     "output_type": "stream",
     "text": [
      "Коэффициент зависимости продаж игр на платформе ps4 от отзывов пользователей составляет -0.02\n"
     ]
    },
    {
     "data": {
      "image/png": "[encoded data removed]",
      "text/plain": [
       "<Figure size 432x288 with 1 Axes>"
      ]
     },
     "metadata": {
      "needs_background": "light"
     },
     "output_type": "display_data"
    }
   ],
   "source": [
    "data_actual_ps4.plot(x='total_sales', y='user_score', kind='scatter', alpha=0.4) \n",
    "print('Коэффициент зависимости продаж игр на платформе ps4 от отзывов пользователей составляет {:.2f}'.format(data_actual_ps4['total_sales'].corr(data_actual_ps4['user_score'])))\n"
   ]
  },
  {
   "cell_type": "markdown",
   "metadata": {},
   "source": [
    "Для платформы ps4, как самой популярной в актуальный период, объем продаж слабо зависит от отзывов критиков (коэффициент корреляции 0.41) и совсем не зависит от отзывов других пользователей (коэффициент корреляции -0.02).\n",
    "\n",
    "Можно сказать, что пользователи игр на платформе ps4 играют в то, что нравится именно им.\n",
    "\n",
    "Проверю, распространяется ли это утверждение на остальные платформы."
   ]
  },
  {
   "cell_type": "code",
   "execution_count": 66,
   "metadata": {},
   "outputs": [
    {
     "name": "stdout",
     "output_type": "stream",
     "text": [
      "<class 'pandas.core.frame.DataFrame'>\n",
      "RangeIndex: 166 entries, 0 to 165\n",
      "Data columns (total 12 columns):\n",
      "name               166 non-null object\n",
      "platform           166 non-null object\n",
      "year_of_release    166 non-null int64\n",
      "genre              166 non-null object\n",
      "na_sales           166 non-null float64\n",
      "eu_sales           166 non-null float64\n",
      "jp_sales           166 non-null float64\n",
      "other_sales        166 non-null float64\n",
      "critic_score       166 non-null float64\n",
      "user_score         166 non-null float64\n",
      "rating             166 non-null object\n",
      "total_sales        166 non-null float64\n",
      "dtypes: float64(7), int64(1), object(4)\n",
      "memory usage: 15.7+ KB\n",
      "None\n"
     ]
    },
    {
     "data": {
      "text/html": [
       "<div>\n",
       "<style scoped>\n",
       "    .dataframe tbody tr th:only-of-type {\n",
       "        vertical-align: middle;\n",
       "    }\n",
       "\n",
       "    .dataframe tbody tr th {\n",
       "        vertical-align: top;\n",
       "    }\n",
       "\n",
       "    .dataframe thead th {\n",
       "        text-align: right;\n",
       "    }\n",
       "</style>\n",
       "<table border=\"1\" class=\"dataframe\">\n",
       "  <thead>\n",
       "    <tr style=\"text-align: right;\">\n",
       "      <th></th>\n",
       "      <th>name</th>\n",
       "      <th>platform</th>\n",
       "      <th>year_of_release</th>\n",
       "      <th>genre</th>\n",
       "      <th>na_sales</th>\n",
       "      <th>eu_sales</th>\n",
       "      <th>jp_sales</th>\n",
       "      <th>other_sales</th>\n",
       "      <th>critic_score</th>\n",
       "      <th>user_score</th>\n",
       "      <th>rating</th>\n",
       "      <th>total_sales</th>\n",
       "    </tr>\n",
       "  </thead>\n",
       "  <tbody>\n",
       "    <tr>\n",
       "      <td>0</td>\n",
       "      <td>grand theft auto v</td>\n",
       "      <td>xone</td>\n",
       "      <td>2014</td>\n",
       "      <td>action</td>\n",
       "      <td>2.81</td>\n",
       "      <td>2.19</td>\n",
       "      <td>0.00</td>\n",
       "      <td>0.47</td>\n",
       "      <td>97.0</td>\n",
       "      <td>7.9</td>\n",
       "      <td>M</td>\n",
       "      <td>5.47</td>\n",
       "    </tr>\n",
       "    <tr>\n",
       "      <td>1</td>\n",
       "      <td>call of duty: advanced warfare</td>\n",
       "      <td>xone</td>\n",
       "      <td>2014</td>\n",
       "      <td>shooter</td>\n",
       "      <td>3.22</td>\n",
       "      <td>1.55</td>\n",
       "      <td>0.01</td>\n",
       "      <td>0.48</td>\n",
       "      <td>81.0</td>\n",
       "      <td>5.4</td>\n",
       "      <td>M</td>\n",
       "      <td>5.26</td>\n",
       "    </tr>\n",
       "    <tr>\n",
       "      <td>2</td>\n",
       "      <td>halo 5: guardians</td>\n",
       "      <td>xone</td>\n",
       "      <td>2015</td>\n",
       "      <td>shooter</td>\n",
       "      <td>2.78</td>\n",
       "      <td>1.27</td>\n",
       "      <td>0.03</td>\n",
       "      <td>0.41</td>\n",
       "      <td>84.0</td>\n",
       "      <td>6.4</td>\n",
       "      <td>T</td>\n",
       "      <td>4.49</td>\n",
       "    </tr>\n",
       "    <tr>\n",
       "      <td>3</td>\n",
       "      <td>fallout 4</td>\n",
       "      <td>xone</td>\n",
       "      <td>2015</td>\n",
       "      <td>role-playing</td>\n",
       "      <td>2.51</td>\n",
       "      <td>1.32</td>\n",
       "      <td>0.01</td>\n",
       "      <td>0.38</td>\n",
       "      <td>88.0</td>\n",
       "      <td>6.2</td>\n",
       "      <td>M</td>\n",
       "      <td>4.22</td>\n",
       "    </tr>\n",
       "    <tr>\n",
       "      <td>4</td>\n",
       "      <td>assassin's creed: unity</td>\n",
       "      <td>xone</td>\n",
       "      <td>2014</td>\n",
       "      <td>action</td>\n",
       "      <td>2.27</td>\n",
       "      <td>0.90</td>\n",
       "      <td>0.00</td>\n",
       "      <td>0.33</td>\n",
       "      <td>72.0</td>\n",
       "      <td>4.1</td>\n",
       "      <td>M</td>\n",
       "      <td>3.50</td>\n",
       "    </tr>\n",
       "  </tbody>\n",
       "</table>\n",
       "</div>"
      ],
      "text/plain": [
       "                             name platform  year_of_release         genre  \\\n",
       "0              grand theft auto v     xone             2014        action   \n",
       "1  call of duty: advanced warfare     xone             2014       shooter   \n",
       "2               halo 5: guardians     xone             2015       shooter   \n",
       "3                       fallout 4     xone             2015  role-playing   \n",
       "4         assassin's creed: unity     xone             2014        action   \n",
       "\n",
       "   na_sales  eu_sales  jp_sales  other_sales  critic_score  user_score rating  \\\n",
       "0      2.81      2.19      0.00         0.47          97.0         7.9      M   \n",
       "1      3.22      1.55      0.01         0.48          81.0         5.4      M   \n",
       "2      2.78      1.27      0.03         0.41          84.0         6.4      T   \n",
       "3      2.51      1.32      0.01         0.38          88.0         6.2      M   \n",
       "4      2.27      0.90      0.00         0.33          72.0         4.1      M   \n",
       "\n",
       "   total_sales  \n",
       "0         5.47  \n",
       "1         5.26  \n",
       "2         4.49  \n",
       "3         4.22  \n",
       "4         3.50  "
      ]
     },
     "metadata": {},
     "output_type": "display_data"
    }
   ],
   "source": [
    "xone = 'xone'\n",
    "data_actual_xone = data_actual.query('platform in @xone and critic_score != 777 and user_score !=777').reset_index(drop=True)\n",
    "print(data_actual_xone.info())\n",
    "display(data_actual_xone.head())"
   ]
  },
  {
   "cell_type": "markdown",
   "metadata": {},
   "source": [
    "Сделала срез по платформе xone с исключением маркеров в оценках критиков и пользователей."
   ]
  },
  {
   "cell_type": "code",
   "execution_count": 67,
   "metadata": {},
   "outputs": [
    {
     "name": "stdout",
     "output_type": "stream",
     "text": [
      "Коэффициент корреляции продаж игр на платформе xone от отзывов критиков составляет 0.41\n"
     ]
    },
    {
     "data": {
      "image/png": "[encoded data removed]",
      "text/plain": [
       "<Figure size 432x288 with 1 Axes>"
      ]
     },
     "metadata": {
      "needs_background": "light"
     },
     "output_type": "display_data"
    }
   ],
   "source": [
    "data_actual_xone.plot(x='total_sales', y='critic_score', kind='scatter', alpha=0.4) \n",
    "print('Коэффициент корреляции продаж игр на платформе xone от отзывов критиков составляет {:.2f}'.format(data_actual_xone['total_sales'].corr(data_actual_xone['critic_score'])))"
   ]
  },
  {
   "cell_type": "code",
   "execution_count": 68,
   "metadata": {},
   "outputs": [
    {
     "name": "stdout",
     "output_type": "stream",
     "text": [
      "Коэффициент корреляции продаж игр на платформе xone от отзывов пользователей составляет -0.07\n"
     ]
    },
    {
     "data": {
      "image/png": "[encoded data removed]",
      "text/plain": [
       "<Figure size 432x288 with 1 Axes>"
      ]
     },
     "metadata": {
      "needs_background": "light"
     },
     "output_type": "display_data"
    }
   ],
   "source": [
    "data_actual_xone.plot(x='total_sales', y='user_score', kind='scatter', alpha=0.4) \n",
    "print('Коэффициент корреляции продаж игр на платформе xone от отзывов пользователей составляет {:.2f}'.format(data_actual_xone['total_sales'].corr(data_actual_xone['user_score'])))\n"
   ]
  },
  {
   "cell_type": "markdown",
   "metadata": {},
   "source": [
    "Зависимость продаж для платформы xone от отзывов критиков и пользователей практически совпадает с зависимостью для платформы ps4. То есть для растущих платформ зависимость от отзывов (или ее отсутствие) одинаково.\n",
    "\n",
    "Коэффициент корреляции от отзывов критиков составляет 0.41, коэффициент корреляции от отзывов пользователей составляет -0.07."
   ]
  },
  {
   "cell_type": "code",
   "execution_count": 69,
   "metadata": {},
   "outputs": [
    {
     "name": "stdout",
     "output_type": "stream",
     "text": [
      "Коэффициент корреляции продаж игр на платформе ps3 от отзывов критиков составляет 0.33\n"
     ]
    },
    {
     "data": {
      "image/png": "[encoded data removed]",
      "text/plain": [
       "<Figure size 432x288 with 1 Axes>"
      ]
     },
     "metadata": {
      "needs_background": "light"
     },
     "output_type": "display_data"
    }
   ],
   "source": [
    "ps3 = 'ps3'\n",
    "data_actual_ps3 = data_actual.query('platform in @ps3 and critic_score != 777 and user_score !=777').reset_index(drop=True)\n",
    "data_actual_ps3.plot(x='total_sales', y='critic_score', kind='scatter', alpha=0.4) \n",
    "print('Коэффициент корреляции продаж игр на платформе ps3 от отзывов критиков составляет {:.2f}'.format(data_actual_ps3['total_sales'].corr(data_actual_ps3['critic_score'])))\n"
   ]
  },
  {
   "cell_type": "markdown",
   "metadata": {},
   "source": [
    "Сделала срез по платформе ps3 с исключением маркеров в оценках критиков и пользователей."
   ]
  },
  {
   "cell_type": "code",
   "execution_count": 70,
   "metadata": {},
   "outputs": [
    {
     "name": "stdout",
     "output_type": "stream",
     "text": [
      "Коэффициент корреляции продаж игр на платформе ps3 от отзывов пользователей составляет 0.00\n"
     ]
    },
    {
     "data": {
      "image/png": "[encoded data removed]",
      "text/plain": [
       "<Figure size 432x288 with 1 Axes>"
      ]
     },
     "metadata": {
      "needs_background": "light"
     },
     "output_type": "display_data"
    }
   ],
   "source": [
    "data_actual_ps3.plot(x='total_sales', y='user_score', kind='scatter', alpha=0.4) \n",
    "print('Коэффициент корреляции продаж игр на платформе ps3 от отзывов пользователей составляет {:.2f}'.format(data_actual_ps3['total_sales'].corr(data_actual_ps3['user_score'])))\n"
   ]
  },
  {
   "cell_type": "markdown",
   "metadata": {},
   "source": [
    "Для платформы ps3 зависимость продаж от отзывов критиков еще ниже - коэффициент составляет 0.33, а зависимость от отзывов пользователей отсутствует, коэффициент - 0.00."
   ]
  },
  {
   "cell_type": "code",
   "execution_count": 71,
   "metadata": {},
   "outputs": [
    {
     "name": "stdout",
     "output_type": "stream",
     "text": [
      "Коэффициент корреляции продаж игр на платформе 3ds от отзывов критиков составляет 0.31\n"
     ]
    },
    {
     "data": {
      "image/png": "[encoded data removed]",
      "text/plain": [
       "<Figure size 432x288 with 1 Axes>"
      ]
     },
     "metadata": {
      "needs_background": "light"
     },
     "output_type": "display_data"
    }
   ],
   "source": [
    "_3ds = '3ds'\n",
    "data_actual_3ds = data_actual.query('platform in @_3ds and critic_score != 777 and user_score !=777').reset_index(drop=True)\n",
    "data_actual_3ds.plot(x='total_sales', y='critic_score', kind='scatter', alpha=0.4) \n",
    "print('Коэффициент корреляции продаж игр на платформе 3ds от отзывов критиков составляет {:.2f}'.format(data_actual_3ds['total_sales'].corr(data_actual_3ds['critic_score'])))\n"
   ]
  },
  {
   "cell_type": "markdown",
   "metadata": {},
   "source": [
    "Сделала срез по платформе 3ds с исключением маркеров в оценках критиков и пользователей."
   ]
  },
  {
   "cell_type": "code",
   "execution_count": 72,
   "metadata": {},
   "outputs": [
    {
     "name": "stdout",
     "output_type": "stream",
     "text": [
      "Коэффициент корреляции продаж игр на платформе 3ds от отзывов пользователей составляет 0.20\n"
     ]
    },
    {
     "data": {
      "image/png": "[encoded data removed]",
      "text/plain": [
       "<Figure size 432x288 with 1 Axes>"
      ]
     },
     "metadata": {
      "needs_background": "light"
     },
     "output_type": "display_data"
    }
   ],
   "source": [
    "data_actual_3ds.plot(x='total_sales', y='user_score', kind='scatter', alpha=0.4) \n",
    "print('Коэффициент корреляции продаж игр на платформе 3ds от отзывов пользователей составляет {:.2f}'.format(data_actual_3ds['total_sales'].corr(data_actual_3ds['user_score'])))\n"
   ]
  },
  {
   "cell_type": "markdown",
   "metadata": {},
   "source": [
    "Для платформы 3ds коэффициент корреляции продаж от отзывов критиков составляет 0.31, а коэффициент корреляции продаж от отзывов пользователей составляет 0.20."
   ]
  },
  {
   "cell_type": "code",
   "execution_count": 73,
   "metadata": {},
   "outputs": [
    {
     "name": "stdout",
     "output_type": "stream",
     "text": [
      "Коэффициент корреляции продаж игр на платформе x360 от отзывов критиков составляет 0.36\n"
     ]
    },
    {
     "data": {
      "image/png": "[encoded data removed]",
      "text/plain": [
       "<Figure size 432x288 with 1 Axes>"
      ]
     },
     "metadata": {
      "needs_background": "light"
     },
     "output_type": "display_data"
    }
   ],
   "source": [
    "x360 = 'x360'\n",
    "data_actual_x360 = data_actual.query('platform in @x360 and critic_score != 777 and user_score !=777').reset_index(drop=True)\n",
    "data_actual_x360.plot(x='total_sales', y='critic_score', kind='scatter', alpha=0.4) \n",
    "print('Коэффициент корреляции продаж игр на платформе x360 от отзывов критиков составляет {:.2f}'.format(data_actual_x360['total_sales'].corr(data_actual_x360['critic_score'])))\n"
   ]
  },
  {
   "cell_type": "code",
   "execution_count": 74,
   "metadata": {},
   "outputs": [
    {
     "name": "stdout",
     "output_type": "stream",
     "text": [
      "Коэффициент корреляции продаж игр на платформе x360 от отзывов пользователей составляет -0.00\n"
     ]
    },
    {
     "data": {
      "image/png": "[encoded data removed]",
      "text/plain": [
       "<Figure size 432x288 with 1 Axes>"
      ]
     },
     "metadata": {
      "needs_background": "light"
     },
     "output_type": "display_data"
    }
   ],
   "source": [
    "data_actual_x360.plot(x='total_sales', y='user_score', kind='scatter', alpha=0.4) \n",
    "print('Коэффициент корреляции продаж игр на платформе x360 от отзывов пользователей составляет {:.2f}'.format(data_actual_x360['total_sales'].corr(data_actual_x360['user_score'])))"
   ]
  },
  {
   "cell_type": "markdown",
   "metadata": {},
   "source": [
    "Для платформы x360 коэффициент зависимости продаж от отзывов критиков составляет 0.36, а коэффициент зависимости продаж от отзывов пользователей составляет -0.00."
   ]
  },
  {
   "cell_type": "code",
   "execution_count": 75,
   "metadata": {},
   "outputs": [
    {
     "name": "stdout",
     "output_type": "stream",
     "text": [
      "Коэффициент корреляции продаж игр на платформе wiiu от отзывов критиков составляет 0.35\n"
     ]
    },
    {
     "data": {
      "image/png": "[encoded data removed]",
      "text/plain": [
       "<Figure size 432x288 with 1 Axes>"
      ]
     },
     "metadata": {
      "needs_background": "light"
     },
     "output_type": "display_data"
    }
   ],
   "source": [
    "wiiu = 'wiiu'\n",
    "data_actual_wiiu = data_actual.query('platform in @wiiu and critic_score != 777 and user_score !=777').reset_index(drop=True)\n",
    "data_actual_wiiu.plot(x='total_sales', y='critic_score', kind='scatter', alpha=0.4) \n",
    "print('Коэффициент корреляции продаж игр на платформе wiiu от отзывов критиков составляет {:.2f}'.format(data_actual_wiiu['total_sales'].corr(data_actual_wiiu['critic_score'])))\n"
   ]
  },
  {
   "cell_type": "code",
   "execution_count": 76,
   "metadata": {},
   "outputs": [
    {
     "name": "stdout",
     "output_type": "stream",
     "text": [
      "Коэффициент корреляции продаж игр на платформе wiiu от отзывов пользователей составляет 0.39\n"
     ]
    },
    {
     "data": {
      "image/png": "[encoded data removed]",
      "text/plain": [
       "<Figure size 432x288 with 1 Axes>"
      ]
     },
     "metadata": {
      "needs_background": "light"
     },
     "output_type": "display_data"
    }
   ],
   "source": [
    "data_actual_wiiu.plot(x='total_sales', y='user_score', kind='scatter', alpha=0.4) \n",
    "print('Коэффициент корреляции продаж игр на платформе wiiu от отзывов пользователей составляет {:.2f}'.format(data_actual_wiiu['total_sales'].corr(data_actual_wiiu['user_score'])))"
   ]
  },
  {
   "cell_type": "markdown",
   "metadata": {},
   "source": [
    "А вот для платформы wiiu коэффициент корреляции продаж от отзывов критиков и от отзывов пользователей практически совпадает: 0.35 и 0.39 соответственно, но даже в этом случае зависимость небольшая."
   ]
  },
  {
   "cell_type": "markdown",
   "metadata": {},
   "source": [
    "#### Вывод\n",
    "Для растущих платформ (ps4, xone) коэффициент корреляции продаж от отзывов критиков составляет 0.41, коэффициент корреляции от отзывов пользователей отрицательный и несущественный.\n",
    "\n",
    "Для затухающих платформ коэффициент корреляции продаж от отзывов критиков менее существенный, коэффициент корреляции от отзывов пользователей также близок к нулю (кроме платформы wiiu)."
   ]
  },
  {
   "cell_type": "markdown",
   "metadata": {},
   "source": [
    "### Анализ игр по жанрам"
   ]
  },
  {
   "cell_type": "code",
   "execution_count": 78,
   "metadata": {},
   "outputs": [
    {
     "name": "stdout",
     "output_type": "stream",
     "text": [
      "           genre  total_sales\n",
      "0         action       395.32\n",
      "1        shooter       288.12\n",
      "2         sports       170.97\n",
      "3   role-playing       154.15\n",
      "4           misc        61.24\n",
      "5       platform        55.66\n",
      "6         racing        50.05\n",
      "7       fighting        41.80\n",
      "8     simulation        25.36\n",
      "9      adventure        22.85\n",
      "10      strategy         6.03\n",
      "11        puzzle         4.04\n",
      "Среднее число продаж в целом: 106.29916666666647\n"
     ]
    },
    {
     "data": {
      "text/html": [
       "<div>\n",
       "<style scoped>\n",
       "    .dataframe tbody tr th:only-of-type {\n",
       "        vertical-align: middle;\n",
       "    }\n",
       "\n",
       "    .dataframe tbody tr th {\n",
       "        vertical-align: top;\n",
       "    }\n",
       "\n",
       "    .dataframe thead th {\n",
       "        text-align: right;\n",
       "    }\n",
       "</style>\n",
       "<table border=\"1\" class=\"dataframe\">\n",
       "  <thead>\n",
       "    <tr style=\"text-align: right;\">\n",
       "      <th></th>\n",
       "      <th>total_sales</th>\n",
       "    </tr>\n",
       "    <tr>\n",
       "      <th>genre</th>\n",
       "      <th></th>\n",
       "    </tr>\n",
       "  </thead>\n",
       "  <tbody>\n",
       "    <tr>\n",
       "      <td>shooter</td>\n",
       "      <td>1.516421</td>\n",
       "    </tr>\n",
       "    <tr>\n",
       "      <td>sports</td>\n",
       "      <td>0.810284</td>\n",
       "    </tr>\n",
       "    <tr>\n",
       "      <td>platform</td>\n",
       "      <td>0.795143</td>\n",
       "    </tr>\n",
       "    <tr>\n",
       "      <td>role-playing</td>\n",
       "      <td>0.682080</td>\n",
       "    </tr>\n",
       "    <tr>\n",
       "      <td>racing</td>\n",
       "      <td>0.588824</td>\n",
       "    </tr>\n",
       "    <tr>\n",
       "      <td>action</td>\n",
       "      <td>0.548294</td>\n",
       "    </tr>\n",
       "    <tr>\n",
       "      <td>simulation</td>\n",
       "      <td>0.507200</td>\n",
       "    </tr>\n",
       "    <tr>\n",
       "      <td>fighting</td>\n",
       "      <td>0.475000</td>\n",
       "    </tr>\n",
       "    <tr>\n",
       "      <td>misc</td>\n",
       "      <td>0.443768</td>\n",
       "    </tr>\n",
       "    <tr>\n",
       "      <td>puzzle</td>\n",
       "      <td>0.212632</td>\n",
       "    </tr>\n",
       "    <tr>\n",
       "      <td>strategy</td>\n",
       "      <td>0.182727</td>\n",
       "    </tr>\n",
       "    <tr>\n",
       "      <td>adventure</td>\n",
       "      <td>0.168015</td>\n",
       "    </tr>\n",
       "  </tbody>\n",
       "</table>\n",
       "</div>"
      ],
      "text/plain": [
       "              total_sales\n",
       "genre                    \n",
       "shooter          1.516421\n",
       "sports           0.810284\n",
       "platform         0.795143\n",
       "role-playing     0.682080\n",
       "racing           0.588824\n",
       "action           0.548294\n",
       "simulation       0.507200\n",
       "fighting         0.475000\n",
       "misc             0.443768\n",
       "puzzle           0.212632\n",
       "strategy         0.182727\n",
       "adventure        0.168015"
      ]
     },
     "execution_count": 78,
     "metadata": {},
     "output_type": "execute_result"
    }
   ],
   "source": [
    "data_actual_genre = data_actual_platform.pivot_table(index='genre', values='total_sales',aggfunc='sum').sort_values(by = 'total_sales',\n",
    "ascending = False).reset_index()\n",
    "print(data_actual_genre)    \n",
    "print('Среднее число продаж в целом:', data_actual_genre['total_sales'].mean())\n",
    "data_actual_platform.pivot_table(index='genre', values='total_sales',aggfunc='mean').sort_values(by = 'total_sales',\n",
    "ascending = False)\n"
   ]
  },
  {
   "cell_type": "markdown",
   "metadata": {},
   "source": [
    "#### Вывод\n",
    "Самые популярные жанры - экшен, стрелялки, спортивные соревнования и ролевые игры, продажи этих игр превышают среднее число продаж за актуальный период в целом. На последних местах по продажам идут стратегии и головоломки. При этом в среднем на одну игру самое большое количество продаж у шутеров (с большим отрывом от остальных игр).\n",
    "\n",
    "Можно предположить, что пользователям не хватает активности (пусть и искусственной) и адреналина, и не очень хочется много думать в процессе игры."
   ]
  },
  {
   "cell_type": "markdown",
   "metadata": {},
   "source": [
    "## Портрет пользователя каждого региона"
   ]
  },
  {
   "cell_type": "code",
   "execution_count": 79,
   "metadata": {},
   "outputs": [
    {
     "data": {
      "text/html": [
       "<div>\n",
       "<style scoped>\n",
       "    .dataframe tbody tr th:only-of-type {\n",
       "        vertical-align: middle;\n",
       "    }\n",
       "\n",
       "    .dataframe tbody tr th {\n",
       "        vertical-align: top;\n",
       "    }\n",
       "\n",
       "    .dataframe thead th {\n",
       "        text-align: right;\n",
       "    }\n",
       "</style>\n",
       "<table border=\"1\" class=\"dataframe\">\n",
       "  <thead>\n",
       "    <tr style=\"text-align: right;\">\n",
       "      <th></th>\n",
       "      <th>name</th>\n",
       "      <th>platform</th>\n",
       "      <th>year_of_release</th>\n",
       "      <th>genre</th>\n",
       "      <th>na_sales</th>\n",
       "      <th>eu_sales</th>\n",
       "      <th>jp_sales</th>\n",
       "      <th>other_sales</th>\n",
       "      <th>critic_score</th>\n",
       "      <th>user_score</th>\n",
       "      <th>rating</th>\n",
       "      <th>total_sales</th>\n",
       "    </tr>\n",
       "  </thead>\n",
       "  <tbody>\n",
       "    <tr>\n",
       "      <td>0</td>\n",
       "      <td>grand theft auto v</td>\n",
       "      <td>ps3</td>\n",
       "      <td>2013</td>\n",
       "      <td>action</td>\n",
       "      <td>7.02</td>\n",
       "      <td>9.09</td>\n",
       "      <td>0.98</td>\n",
       "      <td>3.96</td>\n",
       "      <td>97.0</td>\n",
       "      <td>8.2</td>\n",
       "      <td>M</td>\n",
       "      <td>21.05</td>\n",
       "    </tr>\n",
       "    <tr>\n",
       "      <td>1</td>\n",
       "      <td>grand theft auto v</td>\n",
       "      <td>x360</td>\n",
       "      <td>2013</td>\n",
       "      <td>action</td>\n",
       "      <td>9.66</td>\n",
       "      <td>5.14</td>\n",
       "      <td>0.06</td>\n",
       "      <td>1.41</td>\n",
       "      <td>97.0</td>\n",
       "      <td>8.1</td>\n",
       "      <td>M</td>\n",
       "      <td>16.27</td>\n",
       "    </tr>\n",
       "    <tr>\n",
       "      <td>2</td>\n",
       "      <td>call of duty: black ops 3</td>\n",
       "      <td>ps4</td>\n",
       "      <td>2015</td>\n",
       "      <td>shooter</td>\n",
       "      <td>6.03</td>\n",
       "      <td>5.86</td>\n",
       "      <td>0.36</td>\n",
       "      <td>2.38</td>\n",
       "      <td>777.0</td>\n",
       "      <td>0.0</td>\n",
       "      <td>777</td>\n",
       "      <td>14.63</td>\n",
       "    </tr>\n",
       "    <tr>\n",
       "      <td>3</td>\n",
       "      <td>pokemon x/pokemon y</td>\n",
       "      <td>3ds</td>\n",
       "      <td>2013</td>\n",
       "      <td>role-playing</td>\n",
       "      <td>5.28</td>\n",
       "      <td>4.19</td>\n",
       "      <td>4.35</td>\n",
       "      <td>0.78</td>\n",
       "      <td>777.0</td>\n",
       "      <td>0.0</td>\n",
       "      <td>777</td>\n",
       "      <td>14.60</td>\n",
       "    </tr>\n",
       "    <tr>\n",
       "      <td>4</td>\n",
       "      <td>call of duty: black ops ii</td>\n",
       "      <td>ps3</td>\n",
       "      <td>2012</td>\n",
       "      <td>shooter</td>\n",
       "      <td>4.99</td>\n",
       "      <td>5.73</td>\n",
       "      <td>0.65</td>\n",
       "      <td>2.42</td>\n",
       "      <td>83.0</td>\n",
       "      <td>5.3</td>\n",
       "      <td>M</td>\n",
       "      <td>13.79</td>\n",
       "    </tr>\n",
       "  </tbody>\n",
       "</table>\n",
       "</div>"
      ],
      "text/plain": [
       "                         name platform  year_of_release         genre  \\\n",
       "0          grand theft auto v      ps3             2013        action   \n",
       "1          grand theft auto v     x360             2013        action   \n",
       "2   call of duty: black ops 3      ps4             2015       shooter   \n",
       "3         pokemon x/pokemon y      3ds             2013  role-playing   \n",
       "4  call of duty: black ops ii      ps3             2012       shooter   \n",
       "\n",
       "   na_sales  eu_sales  jp_sales  other_sales  critic_score  user_score rating  \\\n",
       "0      7.02      9.09      0.98         3.96          97.0         8.2      M   \n",
       "1      9.66      5.14      0.06         1.41          97.0         8.1      M   \n",
       "2      6.03      5.86      0.36         2.38         777.0         0.0    777   \n",
       "3      5.28      4.19      4.35         0.78         777.0         0.0    777   \n",
       "4      4.99      5.73      0.65         2.42          83.0         5.3      M   \n",
       "\n",
       "   total_sales  \n",
       "0        21.05  \n",
       "1        16.27  \n",
       "2        14.63  \n",
       "3        14.60  \n",
       "4        13.79  "
      ]
     },
     "metadata": {},
     "output_type": "display_data"
    },
    {
     "name": "stdout",
     "output_type": "stream",
     "text": [
      "<class 'pandas.core.frame.DataFrame'>\n",
      "RangeIndex: 1967 entries, 0 to 1966\n",
      "Data columns (total 12 columns):\n",
      "name               1967 non-null object\n",
      "platform           1967 non-null object\n",
      "year_of_release    1967 non-null int64\n",
      "genre              1967 non-null object\n",
      "na_sales           1967 non-null float64\n",
      "eu_sales           1967 non-null float64\n",
      "jp_sales           1967 non-null float64\n",
      "other_sales        1967 non-null float64\n",
      "critic_score       1967 non-null float64\n",
      "user_score         1967 non-null float64\n",
      "rating             1967 non-null object\n",
      "total_sales        1967 non-null float64\n",
      "dtypes: float64(7), int64(1), object(4)\n",
      "memory usage: 184.5+ KB\n",
      "None\n"
     ]
    }
   ],
   "source": [
    "display(data_actual_platform.head())\n",
    "print(data_actual_platform.info())"
   ]
  },
  {
   "cell_type": "code",
   "execution_count": 80,
   "metadata": {},
   "outputs": [
    {
     "name": "stdout",
     "output_type": "stream",
     "text": [
      "777     735\n",
      "M       375\n",
      "E       307\n",
      "T       304\n",
      "E10+    246\n",
      "Name: rating, dtype: int64\n"
     ]
    }
   ],
   "source": [
    "print(data_actual_platform['rating'].value_counts())"
   ]
  },
  {
   "cell_type": "markdown",
   "metadata": {},
   "source": [
    "Из 1967 игр актуальной выборки 735 не имеют рейтинга ESRB, у 375 рейтинг M \"Для взрослых\", у 307 рейтинг E \"Для всех\", у 304 рейтинг T \"Подросткам\", у 246 рейтинг E10+ \"Для всех от 10 лет и старше\"."
   ]
  },
  {
   "cell_type": "code",
   "execution_count": 81,
   "metadata": {},
   "outputs": [
    {
     "name": "stdout",
     "output_type": "stream",
     "text": [
      "<class 'pandas.core.frame.DataFrame'>\n",
      "RangeIndex: 1967 entries, 0 to 1966\n",
      "Data columns (total 13 columns):\n",
      "name               1967 non-null object\n",
      "platform           1967 non-null object\n",
      "year_of_release    1967 non-null int64\n",
      "genre              1967 non-null object\n",
      "na_sales           1967 non-null float64\n",
      "eu_sales           1967 non-null float64\n",
      "jp_sales           1967 non-null float64\n",
      "other_sales        1967 non-null float64\n",
      "critic_score       1967 non-null float64\n",
      "user_score         1967 non-null float64\n",
      "rating             1967 non-null object\n",
      "total_sales        1967 non-null float64\n",
      "rating_category    1967 non-null int64\n",
      "dtypes: float64(7), int64(2), object(4)\n",
      "memory usage: 199.9+ KB\n",
      "None\n"
     ]
    }
   ],
   "source": [
    "def rating_cat(row): \n",
    "    rating = row['rating']\n",
    "    if rating == 'E':\n",
    "        return '1'\n",
    "    if rating == 'E10+':\n",
    "        return '2'\n",
    "    if rating == 'T':\n",
    "        return '3'\n",
    "    if rating == 'M':\n",
    "        return '4'\n",
    "    else:\n",
    "        return '0'\n",
    "    \n",
    "data_actual_platform['rating_category'] = data_actual_platform.apply(rating_cat, axis = 1)\n",
    "data_actual_platform['rating_category'].value_counts()\n",
    "data_actual_platform['rating_category'] = data_actual_platform['rating_category'].astype(int)\n",
    "print(data_actual_platform.info())"
   ]
  },
  {
   "cell_type": "markdown",
   "metadata": {},
   "source": [
    "Для дальнейшего определения зависимости продаж от рейтинга провела категоризацию рейтингов: E - категория 1, E10+ - категория 2, T - категория 3, M - категория 4, без рейтинга - категория 0. То есть чем старше возраст, для которого предназначена игра, тем выше категория. Перевела столбец в целочисленный формат."
   ]
  },
  {
   "cell_type": "markdown",
   "metadata": {},
   "source": [
    "### Северная Америка"
   ]
  },
  {
   "cell_type": "code",
   "execution_count": 82,
   "metadata": {},
   "outputs": [
    {
     "data": {
      "text/html": [
       "<div>\n",
       "<style scoped>\n",
       "    .dataframe tbody tr th:only-of-type {\n",
       "        vertical-align: middle;\n",
       "    }\n",
       "\n",
       "    .dataframe tbody tr th {\n",
       "        vertical-align: top;\n",
       "    }\n",
       "\n",
       "    .dataframe thead th {\n",
       "        text-align: right;\n",
       "    }\n",
       "</style>\n",
       "<table border=\"1\" class=\"dataframe\">\n",
       "  <thead>\n",
       "    <tr style=\"text-align: right;\">\n",
       "      <th></th>\n",
       "      <th>na_sales</th>\n",
       "    </tr>\n",
       "    <tr>\n",
       "      <th>platform</th>\n",
       "      <th></th>\n",
       "    </tr>\n",
       "  </thead>\n",
       "  <tbody>\n",
       "    <tr>\n",
       "      <td>x360</td>\n",
       "      <td>140.05</td>\n",
       "    </tr>\n",
       "    <tr>\n",
       "      <td>ps4</td>\n",
       "      <td>108.74</td>\n",
       "    </tr>\n",
       "    <tr>\n",
       "      <td>ps3</td>\n",
       "      <td>103.38</td>\n",
       "    </tr>\n",
       "    <tr>\n",
       "      <td>xone</td>\n",
       "      <td>93.12</td>\n",
       "    </tr>\n",
       "    <tr>\n",
       "      <td>3ds</td>\n",
       "      <td>55.31</td>\n",
       "    </tr>\n",
       "    <tr>\n",
       "      <td>wiiu</td>\n",
       "      <td>38.10</td>\n",
       "    </tr>\n",
       "  </tbody>\n",
       "</table>\n",
       "</div>"
      ],
      "text/plain": [
       "          na_sales\n",
       "platform          \n",
       "x360        140.05\n",
       "ps4         108.74\n",
       "ps3         103.38\n",
       "xone         93.12\n",
       "3ds          55.31\n",
       "wiiu         38.10"
      ]
     },
     "metadata": {},
     "output_type": "display_data"
    }
   ],
   "source": [
    "data_platf_na = data_actual_platform.pivot_table(index='platform', values='na_sales', aggfunc='sum').sort_values(by='na_sales', ascending=False)\n",
    "display(data_platf_na)"
   ]
  },
  {
   "cell_type": "markdown",
   "metadata": {},
   "source": [
    "Сгруппировала по платформам продажи в Северной Америке."
   ]
  },
  {
   "cell_type": "code",
   "execution_count": 83,
   "metadata": {},
   "outputs": [
    {
     "data": {
      "text/plain": [
       "<matplotlib.axes._subplots.AxesSubplot at 0x7f4f5e2c3b10>"
      ]
     },
     "execution_count": 83,
     "metadata": {},
     "output_type": "execute_result"
    },
    {
     "data": {
      "image/png": "[encoded data removed]",
      "text/plain": [
       "<Figure size 432x432 with 1 Axes>"
      ]
     },
     "metadata": {},
     "output_type": "display_data"
    }
   ],
   "source": [
    "data_platf_na.plot(title = 'Продажи по платформам в Северной Америке', y='na_sales', kind='pie', autopct='%1.1f%%', figsize=(6, 6))"
   ]
  },
  {
   "cell_type": "markdown",
   "metadata": {},
   "source": [
    "На первом месте по продажам в Северной Америке в актуальном периоде находится платформа x360 - 26% рынка, на втором ps4 - 20.2% рынка, на третьем не сдает позиции ps3 - 19.2% (почти столько же, сколько у платформы следующей версии), на четвертом находится xone с 17.3% рынка, на пятом 3ds - 10.3%."
   ]
  },
  {
   "cell_type": "code",
   "execution_count": 84,
   "metadata": {},
   "outputs": [
    {
     "data": {
      "text/html": [
       "<div>\n",
       "<style scoped>\n",
       "    .dataframe tbody tr th:only-of-type {\n",
       "        vertical-align: middle;\n",
       "    }\n",
       "\n",
       "    .dataframe tbody tr th {\n",
       "        vertical-align: top;\n",
       "    }\n",
       "\n",
       "    .dataframe thead th {\n",
       "        text-align: right;\n",
       "    }\n",
       "</style>\n",
       "<table border=\"1\" class=\"dataframe\">\n",
       "  <thead>\n",
       "    <tr style=\"text-align: right;\">\n",
       "      <th></th>\n",
       "      <th>na_sales</th>\n",
       "    </tr>\n",
       "    <tr>\n",
       "      <th>genre</th>\n",
       "      <th></th>\n",
       "    </tr>\n",
       "  </thead>\n",
       "  <tbody>\n",
       "    <tr>\n",
       "      <td>action</td>\n",
       "      <td>163.16</td>\n",
       "    </tr>\n",
       "    <tr>\n",
       "      <td>shooter</td>\n",
       "      <td>138.87</td>\n",
       "    </tr>\n",
       "    <tr>\n",
       "      <td>sports</td>\n",
       "      <td>79.15</td>\n",
       "    </tr>\n",
       "    <tr>\n",
       "      <td>role-playing</td>\n",
       "      <td>52.87</td>\n",
       "    </tr>\n",
       "    <tr>\n",
       "      <td>misc</td>\n",
       "      <td>28.36</td>\n",
       "    </tr>\n",
       "    <tr>\n",
       "      <td>platform</td>\n",
       "      <td>23.32</td>\n",
       "    </tr>\n",
       "    <tr>\n",
       "      <td>fighting</td>\n",
       "      <td>18.93</td>\n",
       "    </tr>\n",
       "    <tr>\n",
       "      <td>racing</td>\n",
       "      <td>16.45</td>\n",
       "    </tr>\n",
       "    <tr>\n",
       "      <td>adventure</td>\n",
       "      <td>8.26</td>\n",
       "    </tr>\n",
       "    <tr>\n",
       "      <td>simulation</td>\n",
       "      <td>6.10</td>\n",
       "    </tr>\n",
       "    <tr>\n",
       "      <td>strategy</td>\n",
       "      <td>2.10</td>\n",
       "    </tr>\n",
       "    <tr>\n",
       "      <td>puzzle</td>\n",
       "      <td>1.13</td>\n",
       "    </tr>\n",
       "  </tbody>\n",
       "</table>\n",
       "</div>"
      ],
      "text/plain": [
       "              na_sales\n",
       "genre                 \n",
       "action          163.16\n",
       "shooter         138.87\n",
       "sports           79.15\n",
       "role-playing     52.87\n",
       "misc             28.36\n",
       "platform         23.32\n",
       "fighting         18.93\n",
       "racing           16.45\n",
       "adventure         8.26\n",
       "simulation        6.10\n",
       "strategy          2.10\n",
       "puzzle            1.13"
      ]
     },
     "metadata": {},
     "output_type": "display_data"
    }
   ],
   "source": [
    "data_user_na = data_actual_platform.pivot_table(index='genre', values='na_sales', aggfunc='sum').sort_values(by='na_sales', ascending=False)\n",
    "display(data_user_na)"
   ]
  },
  {
   "cell_type": "markdown",
   "metadata": {},
   "source": [
    "Сгруппировала по жанрам продажи в Северной Америке."
   ]
  },
  {
   "cell_type": "code",
   "execution_count": 86,
   "metadata": {},
   "outputs": [
    {
     "data": {
      "image/png": "[encoded data removed]",
      "text/plain": [
       "<Figure size 504x504 with 1 Axes>"
      ]
     },
     "metadata": {
      "needs_background": "light"
     },
     "output_type": "display_data"
    }
   ],
   "source": [
    "data_user_na.plot(title = 'Продажи по жанрам в Северной Америке', y='na_sales', kind='bar',\n",
    "                  color=['black', 'red', 'green', 'blue', 'cyan', 'yellow', 'brown', 'pink',\n",
    "                         'violet'], figsize=(7, 7))\n",
    "plt.show()"
   ]
  },
  {
   "cell_type": "markdown",
   "metadata": {},
   "source": [
    "Среди жанров первое место по подажам в Северной Америке занимает action - 30.3%, второе у shooter - 25.8%, третье место у sports - 14.7%, четвертое у role-playing - 9.8%, пятое у platform - 4.3%."
   ]
  },
  {
   "cell_type": "code",
   "execution_count": 88,
   "metadata": {},
   "outputs": [
    {
     "data": {
      "image/png": "[encoded data removed]",
      "text/plain": [
       "<Figure size 432x288 with 1 Axes>"
      ]
     },
     "metadata": {
      "needs_background": "light"
     },
     "output_type": "display_data"
    }
   ],
   "source": [
    "data_actual_platform.groupby('rating')['na_sales'].median().plot(y='rating_category', kind='bar',\n",
    "                                                                 color=['red', 'green', 'blue', 'cyan', 'yellow'])\n",
    "plt.show()"
   ]
  },
  {
   "cell_type": "markdown",
   "metadata": {},
   "source": [
    "#### Вывод"
   ]
  },
  {
   "cell_type": "markdown",
   "metadata": {},
   "source": [
    "На первом месте по продажам в Северной Америке в актуальном периоде находится платформа x360 - 26% рынка - поддержка местного производителя- (опережая по продажам следующую версию), на втором ps4 - 20.2% рынка, на третьем не сдает позиции ps3 - 19.2% (почти столько же, сколько у платформы следующей версии), на четвертом находится xone с 17.3% рынка, на пятом 3ds - 10.3%.\n",
    "\n",
    "Среди жанров первое место по подажам в Северной Америке занимает action - 30.3%, второе у shooter - 25.8%, третье место у sports - 14.7%, четвертое у role-playing - 9.8%, пятое у platform - 4.3%.\n",
    "\n",
    "В Северной Америке игры без рейтинга ESRB не продаются (или не покупаются?), зависимости продаж от рейтинга практически нет, но можно сказать, что популярностью пользуются игры для возраста 10+ и игры для взрослых, но без излишней жестокости/откровенности.\n"
   ]
  },
  {
   "cell_type": "markdown",
   "metadata": {},
   "source": [
    "### Европа"
   ]
  },
  {
   "cell_type": "code",
   "execution_count": 89,
   "metadata": {},
   "outputs": [
    {
     "data": {
      "text/html": [
       "<div>\n",
       "<style scoped>\n",
       "    .dataframe tbody tr th:only-of-type {\n",
       "        vertical-align: middle;\n",
       "    }\n",
       "\n",
       "    .dataframe tbody tr th {\n",
       "        vertical-align: top;\n",
       "    }\n",
       "\n",
       "    .dataframe thead th {\n",
       "        text-align: right;\n",
       "    }\n",
       "</style>\n",
       "<table border=\"1\" class=\"dataframe\">\n",
       "  <thead>\n",
       "    <tr style=\"text-align: right;\">\n",
       "      <th></th>\n",
       "      <th>eu_sales</th>\n",
       "    </tr>\n",
       "    <tr>\n",
       "      <th>platform</th>\n",
       "      <th></th>\n",
       "    </tr>\n",
       "  </thead>\n",
       "  <tbody>\n",
       "    <tr>\n",
       "      <td>ps4</td>\n",
       "      <td>141.09</td>\n",
       "    </tr>\n",
       "    <tr>\n",
       "      <td>ps3</td>\n",
       "      <td>106.86</td>\n",
       "    </tr>\n",
       "    <tr>\n",
       "      <td>x360</td>\n",
       "      <td>74.52</td>\n",
       "    </tr>\n",
       "    <tr>\n",
       "      <td>xone</td>\n",
       "      <td>51.59</td>\n",
       "    </tr>\n",
       "    <tr>\n",
       "      <td>3ds</td>\n",
       "      <td>42.64</td>\n",
       "    </tr>\n",
       "    <tr>\n",
       "      <td>wiiu</td>\n",
       "      <td>25.13</td>\n",
       "    </tr>\n",
       "  </tbody>\n",
       "</table>\n",
       "</div>"
      ],
      "text/plain": [
       "          eu_sales\n",
       "platform          \n",
       "ps4         141.09\n",
       "ps3         106.86\n",
       "x360         74.52\n",
       "xone         51.59\n",
       "3ds          42.64\n",
       "wiiu         25.13"
      ]
     },
     "metadata": {},
     "output_type": "display_data"
    }
   ],
   "source": [
    "data_platf_eu = data_actual_platform.pivot_table(index='platform', values='eu_sales', aggfunc='sum').sort_values(by='eu_sales', ascending=False)\n",
    "display(data_platf_eu)"
   ]
  },
  {
   "cell_type": "markdown",
   "metadata": {},
   "source": [
    "Сгруппировала по платформам продажи в Европе."
   ]
  },
  {
   "cell_type": "code",
   "execution_count": 91,
   "metadata": {},
   "outputs": [
    {
     "data": {
      "image/png": "[encoded data removed]",
      "text/plain": [
       "<Figure size 432x432 with 1 Axes>"
      ]
     },
     "metadata": {},
     "output_type": "display_data"
    }
   ],
   "source": [
    "data_platf_eu.plot(title = 'Продажи по платформам в Европе', y='eu_sales', kind='pie',\n",
    "                   autopct='%1.1f%%', figsize=(6, 6))\n",
    "plt.show()"
   ]
  },
  {
   "cell_type": "markdown",
   "metadata": {},
   "source": [
    "На первом месте по продажам в Европе в актуальном периоде находится платформа ps4 - 31.9% рынка, на втором ps3 - 24.2% рынка, на третьем x360 - 16.9%, на четвертом находится xone с 11.7% рынка, на пятом 3ds - 9.7%."
   ]
  },
  {
   "cell_type": "code",
   "execution_count": 92,
   "metadata": {},
   "outputs": [
    {
     "data": {
      "text/html": [
       "<div>\n",
       "<style scoped>\n",
       "    .dataframe tbody tr th:only-of-type {\n",
       "        vertical-align: middle;\n",
       "    }\n",
       "\n",
       "    .dataframe tbody tr th {\n",
       "        vertical-align: top;\n",
       "    }\n",
       "\n",
       "    .dataframe thead th {\n",
       "        text-align: right;\n",
       "    }\n",
       "</style>\n",
       "<table border=\"1\" class=\"dataframe\">\n",
       "  <thead>\n",
       "    <tr style=\"text-align: right;\">\n",
       "      <th></th>\n",
       "      <th>eu_sales</th>\n",
       "    </tr>\n",
       "    <tr>\n",
       "      <th>genre</th>\n",
       "      <th></th>\n",
       "    </tr>\n",
       "  </thead>\n",
       "  <tbody>\n",
       "    <tr>\n",
       "      <td>action</td>\n",
       "      <td>143.25</td>\n",
       "    </tr>\n",
       "    <tr>\n",
       "      <td>shooter</td>\n",
       "      <td>104.62</td>\n",
       "    </tr>\n",
       "    <tr>\n",
       "      <td>sports</td>\n",
       "      <td>64.22</td>\n",
       "    </tr>\n",
       "    <tr>\n",
       "      <td>role-playing</td>\n",
       "      <td>38.81</td>\n",
       "    </tr>\n",
       "    <tr>\n",
       "      <td>racing</td>\n",
       "      <td>25.23</td>\n",
       "    </tr>\n",
       "    <tr>\n",
       "      <td>platform</td>\n",
       "      <td>18.91</td>\n",
       "    </tr>\n",
       "    <tr>\n",
       "      <td>misc</td>\n",
       "      <td>18.12</td>\n",
       "    </tr>\n",
       "    <tr>\n",
       "      <td>fighting</td>\n",
       "      <td>10.26</td>\n",
       "    </tr>\n",
       "    <tr>\n",
       "      <td>adventure</td>\n",
       "      <td>7.92</td>\n",
       "    </tr>\n",
       "    <tr>\n",
       "      <td>simulation</td>\n",
       "      <td>7.66</td>\n",
       "    </tr>\n",
       "    <tr>\n",
       "      <td>strategy</td>\n",
       "      <td>1.56</td>\n",
       "    </tr>\n",
       "    <tr>\n",
       "      <td>puzzle</td>\n",
       "      <td>1.27</td>\n",
       "    </tr>\n",
       "  </tbody>\n",
       "</table>\n",
       "</div>"
      ],
      "text/plain": [
       "              eu_sales\n",
       "genre                 \n",
       "action          143.25\n",
       "shooter         104.62\n",
       "sports           64.22\n",
       "role-playing     38.81\n",
       "racing           25.23\n",
       "platform         18.91\n",
       "misc             18.12\n",
       "fighting         10.26\n",
       "adventure         7.92\n",
       "simulation        7.66\n",
       "strategy          1.56\n",
       "puzzle            1.27"
      ]
     },
     "metadata": {},
     "output_type": "display_data"
    }
   ],
   "source": [
    "data_user_eu = data_actual_platform.pivot_table(index='genre', values='eu_sales', aggfunc='sum').sort_values(by='eu_sales', ascending=False)\n",
    "display(data_user_eu)"
   ]
  },
  {
   "cell_type": "markdown",
   "metadata": {},
   "source": [
    "Сгруппировала по жанрам продажи в Европе."
   ]
  },
  {
   "cell_type": "code",
   "execution_count": 93,
   "metadata": {},
   "outputs": [
    {
     "data": {
      "image/png": "[encoded data removed]",
      "text/plain": [
       "<Figure size 504x504 with 1 Axes>"
      ]
     },
     "metadata": {
      "needs_background": "light"
     },
     "output_type": "display_data"
    }
   ],
   "source": [
    "data_user_eu.plot(title = 'Продажи по жанрам в Европе', y='eu_sales', kind='bar',\n",
    "                  color=['black', 'red', 'green', 'blue', 'cyan', 'yellow'], figsize=(7, 7))\n",
    "plt.show()"
   ]
  },
  {
   "cell_type": "markdown",
   "metadata": {},
   "source": [
    "Среди жанров первое место по подажам в Европе занимает action - 32.4%, второе у shooter - 23.7%, третье место у sports - 14.5%, четвертое у role-playing - 8.8%, пятое у racing - 5.7%."
   ]
  },
  {
   "cell_type": "code",
   "execution_count": 94,
   "metadata": {},
   "outputs": [
    {
     "data": {
      "image/png": "[encoded data removed]",
      "text/plain": [
       "<Figure size 432x288 with 1 Axes>"
      ]
     },
     "metadata": {
      "needs_background": "light"
     },
     "output_type": "display_data"
    }
   ],
   "source": [
    "data_actual_platform.groupby('rating')['eu_sales'].median().plot(y='rating_category', kind='bar', color=['red', 'green', 'blue', 'yellow'])\n",
    "plt.show()"
   ]
  },
  {
   "cell_type": "markdown",
   "metadata": {},
   "source": [
    "#### Вывод"
   ]
  },
  {
   "cell_type": "markdown",
   "metadata": {},
   "source": [
    "На первом месте по продажам в Европе в актуальном периоде находится платформа ps4 - 31.9% рынка, на втором ps3 - 24.2% рынка, на третьем x360 - 16.9%, на четвертом находится xone с 11.7% рынка, на пятом 3ds - 9.7%.\n",
    "\n",
    "Среди жанров первое место по подажам в Европе занимает action - 32.4%, второе у shooter - 23.7%, третье место у sports - 14.5%, четвертое у role-playing - 8.8%, пятое у racing - 5.7%.\n",
    "\n",
    "В Европе игры без рейтинга ESRB не продаются (или не покупаются?), зависимости продаж от рейтинга практически нет, но можно сказать, что популярностью пользуются игры для возраста 10+ и для взрослых, но без излишней жестокости/откровенности."
   ]
  },
  {
   "cell_type": "markdown",
   "metadata": {},
   "source": [
    "### Япония"
   ]
  },
  {
   "cell_type": "code",
   "execution_count": 95,
   "metadata": {},
   "outputs": [
    {
     "data": {
      "text/html": [
       "<div>\n",
       "<style scoped>\n",
       "    .dataframe tbody tr th:only-of-type {\n",
       "        vertical-align: middle;\n",
       "    }\n",
       "\n",
       "    .dataframe tbody tr th {\n",
       "        vertical-align: top;\n",
       "    }\n",
       "\n",
       "    .dataframe thead th {\n",
       "        text-align: right;\n",
       "    }\n",
       "</style>\n",
       "<table border=\"1\" class=\"dataframe\">\n",
       "  <thead>\n",
       "    <tr style=\"text-align: right;\">\n",
       "      <th></th>\n",
       "      <th>jp_sales</th>\n",
       "    </tr>\n",
       "    <tr>\n",
       "      <th>platform</th>\n",
       "      <th></th>\n",
       "    </tr>\n",
       "  </thead>\n",
       "  <tbody>\n",
       "    <tr>\n",
       "      <td>3ds</td>\n",
       "      <td>87.79</td>\n",
       "    </tr>\n",
       "    <tr>\n",
       "      <td>ps3</td>\n",
       "      <td>35.29</td>\n",
       "    </tr>\n",
       "    <tr>\n",
       "      <td>ps4</td>\n",
       "      <td>15.96</td>\n",
       "    </tr>\n",
       "    <tr>\n",
       "      <td>wiiu</td>\n",
       "      <td>13.01</td>\n",
       "    </tr>\n",
       "    <tr>\n",
       "      <td>x360</td>\n",
       "      <td>1.57</td>\n",
       "    </tr>\n",
       "    <tr>\n",
       "      <td>xone</td>\n",
       "      <td>0.34</td>\n",
       "    </tr>\n",
       "  </tbody>\n",
       "</table>\n",
       "</div>"
      ],
      "text/plain": [
       "          jp_sales\n",
       "platform          \n",
       "3ds          87.79\n",
       "ps3          35.29\n",
       "ps4          15.96\n",
       "wiiu         13.01\n",
       "x360          1.57\n",
       "xone          0.34"
      ]
     },
     "metadata": {},
     "output_type": "display_data"
    }
   ],
   "source": [
    "data_plarf_jp = data_actual_platform.pivot_table(index='platform', values='jp_sales', aggfunc='sum').sort_values(by='jp_sales', ascending=False)\n",
    "display(data_plarf_jp)"
   ]
  },
  {
   "cell_type": "markdown",
   "metadata": {},
   "source": [
    "Сгруппировала по платформам продажи в Японии."
   ]
  },
  {
   "cell_type": "code",
   "execution_count": 96,
   "metadata": {},
   "outputs": [
    {
     "data": {
      "image/png": "[encoded data removed]",
      "text/plain": [
       "<Figure size 432x432 with 1 Axes>"
      ]
     },
     "metadata": {
      "needs_background": "light"
     },
     "output_type": "display_data"
    }
   ],
   "source": [
    "data_plarf_jp.plot(title = 'Продажи по платформам в Японии', y='jp_sales', kind='bar',\n",
    "                   color=['red', 'green', 'blue', 'yellow', 'violet', 'brown'], figsize=(6, 6))\n",
    "plt.show()"
   ]
  },
  {
   "cell_type": "markdown",
   "metadata": {},
   "source": [
    "В актуальном периоде в Японии безоговорочно лидирует платформа 3ds - 57% рынка, на втором ps3 - 22.9% рынка, на третьем ps4 - 10.4%, на четвертом находится wiiu с 8.5% рынка, на пятом x360 - 1.57%."
   ]
  },
  {
   "cell_type": "code",
   "execution_count": 97,
   "metadata": {},
   "outputs": [
    {
     "data": {
      "text/html": [
       "<div>\n",
       "<style scoped>\n",
       "    .dataframe tbody tr th:only-of-type {\n",
       "        vertical-align: middle;\n",
       "    }\n",
       "\n",
       "    .dataframe tbody tr th {\n",
       "        vertical-align: top;\n",
       "    }\n",
       "\n",
       "    .dataframe thead th {\n",
       "        text-align: right;\n",
       "    }\n",
       "</style>\n",
       "<table border=\"1\" class=\"dataframe\">\n",
       "  <thead>\n",
       "    <tr style=\"text-align: right;\">\n",
       "      <th></th>\n",
       "      <th>jp_sales</th>\n",
       "    </tr>\n",
       "    <tr>\n",
       "      <th>genre</th>\n",
       "      <th></th>\n",
       "    </tr>\n",
       "  </thead>\n",
       "  <tbody>\n",
       "    <tr>\n",
       "      <td>role-playing</td>\n",
       "      <td>50.38</td>\n",
       "    </tr>\n",
       "    <tr>\n",
       "      <td>action</td>\n",
       "      <td>42.04</td>\n",
       "    </tr>\n",
       "    <tr>\n",
       "      <td>simulation</td>\n",
       "      <td>10.23</td>\n",
       "    </tr>\n",
       "    <tr>\n",
       "      <td>shooter</td>\n",
       "      <td>9.12</td>\n",
       "    </tr>\n",
       "    <tr>\n",
       "      <td>misc</td>\n",
       "      <td>9.06</td>\n",
       "    </tr>\n",
       "    <tr>\n",
       "      <td>platform</td>\n",
       "      <td>8.57</td>\n",
       "    </tr>\n",
       "    <tr>\n",
       "      <td>fighting</td>\n",
       "      <td>8.42</td>\n",
       "    </tr>\n",
       "    <tr>\n",
       "      <td>sports</td>\n",
       "      <td>6.13</td>\n",
       "    </tr>\n",
       "    <tr>\n",
       "      <td>adventure</td>\n",
       "      <td>4.28</td>\n",
       "    </tr>\n",
       "    <tr>\n",
       "      <td>racing</td>\n",
       "      <td>2.40</td>\n",
       "    </tr>\n",
       "    <tr>\n",
       "      <td>strategy</td>\n",
       "      <td>1.90</td>\n",
       "    </tr>\n",
       "    <tr>\n",
       "      <td>puzzle</td>\n",
       "      <td>1.43</td>\n",
       "    </tr>\n",
       "  </tbody>\n",
       "</table>\n",
       "</div>"
      ],
      "text/plain": [
       "              jp_sales\n",
       "genre                 \n",
       "role-playing     50.38\n",
       "action           42.04\n",
       "simulation       10.23\n",
       "shooter           9.12\n",
       "misc              9.06\n",
       "platform          8.57\n",
       "fighting          8.42\n",
       "sports            6.13\n",
       "adventure         4.28\n",
       "racing            2.40\n",
       "strategy          1.90\n",
       "puzzle            1.43"
      ]
     },
     "metadata": {},
     "output_type": "display_data"
    }
   ],
   "source": [
    "data_user_jp = data_actual_platform.pivot_table(index='genre', values='jp_sales', aggfunc='sum').sort_values(by='jp_sales', ascending=False)\n",
    "display(data_user_jp)"
   ]
  },
  {
   "cell_type": "markdown",
   "metadata": {},
   "source": [
    "Сгруппировала по жанрам продажи в Японии."
   ]
  },
  {
   "cell_type": "code",
   "execution_count": 98,
   "metadata": {},
   "outputs": [
    {
     "data": {
      "image/png": "[encoded data removed]",
      "text/plain": [
       "<Figure size 504x504 with 1 Axes>"
      ]
     },
     "metadata": {
      "needs_background": "light"
     },
     "output_type": "display_data"
    }
   ],
   "source": [
    "data_user_jp.plot(title = 'Продажи по жанрам в Японии', y='jp_sales', kind='bar',\n",
    "                  color=['red', 'green', 'blue', 'yellow', 'violet', 'brown'], figsize=(7, 7))\n",
    "plt.show()"
   ]
  },
  {
   "cell_type": "markdown",
   "metadata": {},
   "source": [
    "Среди жанров первое место по подажам в Японии занимает role-playing - 32.7%, второе у action - 27.3%, третье место у simulation - 6.6%, четвертое у shooter - 5.9%, пятое у platform - 5.6%."
   ]
  },
  {
   "cell_type": "code",
   "execution_count": 99,
   "metadata": {},
   "outputs": [
    {
     "data": {
      "image/png": "[encoded data removed]",
      "text/plain": [
       "<Figure size 432x288 with 1 Axes>"
      ]
     },
     "metadata": {
      "needs_background": "light"
     },
     "output_type": "display_data"
    }
   ],
   "source": [
    "data_actual_platform.groupby('rating')['jp_sales'].median().plot(y='rating_category', kind='bar',\n",
    "                                                                 color=['red', 'green', 'blue', 'yellow', 'violet'])\n",
    "plt.show()"
   ]
  },
  {
   "cell_type": "markdown",
   "metadata": {},
   "source": [
    "#### Вывод\n",
    "В актуальном периоде в Японии безоговорочно лидирует платформа 3ds - 57% рынка, на втором ps3 - 22.9% рынка, на третьем ps4 - 10.4%, на четвертом находится wiiu с 8.5% рынка, на пятом x360 - 1.57%.\n",
    "\n",
    "Среди жанров первое место по подажам в Японии занимает role-playing - 32.7%, второе у action - 27.3%, третье место у simulation - 6.6%, четвертое у shooter - 5.9%, пятое у platform - 5.6%\n",
    "\n",
    "Продажи в Японии не зависят от рейтинга ESRB, в продажах лидируют игры без рейтинга, поскольку ESRB это американский рейтинг, то за пределами США на него не очень обращают внимание, или японские  игры реже получают такие рейтинги, если не предполагается их продвижение на западе."
   ]
  },
  {
   "cell_type": "markdown",
   "metadata": {},
   "source": [
    "### Вывод"
   ]
  },
  {
   "cell_type": "markdown",
   "metadata": {},
   "source": [
    "В части продаж по платформам в Северной Америке и особенно в Японии заметны проявления \"патриотизма\".\n",
    "\n",
    "В Америке на долю платформ Microsoft приходится 43.3% рынка, и еще 39.4% на долю Sony.  \n",
    "\n",
    "В актуальном периоде в Японии на долю японских платформ приходится практически 98.0% рынка.\n",
    "\n",
    "На первом месте по продажам в Европе в актуальном периоде находится платформа ps4 - 31.9% рынка, на втором ps3 - 24.2% рынка, на третьем x360 - 16.9%, на четвертом находится xone с 11.7% рынка, на пятом 3ds - 9.7% (европейских производителей платформ нет).\n",
    "\n",
    "Для Старого и Нового Света ТОП-4 жанров совпадает: action, shooter, sports, role-playing. Нехватка активности и адреналина. \n",
    "\n",
    "Помимо адреналина и активности (action на втором месте, shooter на четвертом, platform на пятом), Япония также отдает предпочтения более вдумчивым и созерцательным жанрам: role-playing и simulation.\n",
    "\n",
    "Во всех трех регионах зависимость продаж от рейтинга слабая, но если в Европе и в Северной Америке игры без рейтинга ESRB не продаются, то в Японии они занимают большую часть рынка в актуальном периоде."
   ]
  },
  {
   "cell_type": "markdown",
   "metadata": {},
   "source": [
    "## Пользовательские рейтинги"
   ]
  },
  {
   "cell_type": "markdown",
   "metadata": {},
   "source": [
    "### Xbox One или PS4?"
   ]
  },
  {
   "cell_type": "markdown",
   "metadata": {},
   "source": [
    "Нулевая гипотеза: средние пользовательские рейтинги платформы Xbox One не отличаются от средних пользовательских рейтингов платформы PS4.\n",
    "\n",
    "Альтернативная гипотеза: средние пользовательские рейтинги платформы Xbox One отличаются от средних пользовательских рейтингов платформы PS4.\n",
    "\n",
    "В качестве критерия уровня проверки гипотез беру стандартный 5%, так как гипотеза проверяется на не слишком маленькой выборке."
   ]
  },
  {
   "cell_type": "code",
   "execution_count": 100,
   "metadata": {},
   "outputs": [
    {
     "name": "stdout",
     "output_type": "stream",
     "text": [
      "p-значение: 0.13161552119462966\n",
      "Не получилось отвергнуть нулевую гипотезу\n"
     ]
    }
   ],
   "source": [
    "alpha = 0.05  # критический уровень статистической значимости\n",
    "\n",
    "results = st.ttest_ind(data_actual_ps4['user_score'], data_actual_xone['user_score'])\n",
    "\n",
    "print('p-значение:', results.pvalue)\n",
    "\n",
    "if results.pvalue < alpha:\n",
    "    print('Отвергаем нулевую гипотезу')\n",
    "else:\n",
    "    print('Не получилось отвергнуть нулевую гипотезу') "
   ]
  },
  {
   "cell_type": "code",
   "execution_count": 101,
   "metadata": {},
   "outputs": [
    {
     "name": "stdout",
     "output_type": "stream",
     "text": [
      "Средний пользовательский рейтинг, платформа ps4 6.722799999999999\n",
      "Средний пользовательский рейтинг, платформа xone 6.498795180722893\n"
     ]
    }
   ],
   "source": [
    "print('Средний пользовательский рейтинг, платформа ps4', data_actual_ps4['user_score'].mean())\n",
    "print('Средний пользовательский рейтинг, платформа xone', data_actual_xone['user_score'].mean())"
   ]
  },
  {
   "cell_type": "markdown",
   "metadata": {},
   "source": [
    "#### Вывод\n",
    "Нулевую гипотезу не отвергаем.\n",
    "\n",
    "Расчет показал, что средние пользовательсие рейтинги платформ практически одинаковые."
   ]
  },
  {
   "cell_type": "markdown",
   "metadata": {},
   "source": [
    "###  action или sports?"
   ]
  },
  {
   "cell_type": "markdown",
   "metadata": {},
   "source": [
    "Нулевая гипотеза: средние пользовательские рейтинги жанров action и sports одинаковые.\n",
    "\n",
    "Альтернативная гипотеза: средние пользовательские рейтинги жанров action и sports разные.\n",
    "\n",
    "В качестве критерия уровня проверки гипотез беру стандартный 5%, так как гипотеза проверяется на не слишком маленькой выборке."
   ]
  },
  {
   "cell_type": "code",
   "execution_count": 102,
   "metadata": {},
   "outputs": [
    {
     "name": "stdout",
     "output_type": "stream",
     "text": [
      "<class 'pandas.core.frame.DataFrame'>\n",
      "RangeIndex: 343 entries, 0 to 342\n",
      "Data columns (total 13 columns):\n",
      "name               343 non-null object\n",
      "platform           343 non-null object\n",
      "year_of_release    343 non-null int64\n",
      "genre              343 non-null object\n",
      "na_sales           343 non-null float64\n",
      "eu_sales           343 non-null float64\n",
      "jp_sales           343 non-null float64\n",
      "other_sales        343 non-null float64\n",
      "critic_score       343 non-null float64\n",
      "user_score         343 non-null float64\n",
      "rating             343 non-null object\n",
      "total_sales        343 non-null float64\n",
      "rating_category    343 non-null int64\n",
      "dtypes: float64(7), int64(2), object(4)\n",
      "memory usage: 35.0+ KB\n",
      "None\n"
     ]
    },
    {
     "data": {
      "text/html": [
       "<div>\n",
       "<style scoped>\n",
       "    .dataframe tbody tr th:only-of-type {\n",
       "        vertical-align: middle;\n",
       "    }\n",
       "\n",
       "    .dataframe tbody tr th {\n",
       "        vertical-align: top;\n",
       "    }\n",
       "\n",
       "    .dataframe thead th {\n",
       "        text-align: right;\n",
       "    }\n",
       "</style>\n",
       "<table border=\"1\" class=\"dataframe\">\n",
       "  <thead>\n",
       "    <tr style=\"text-align: right;\">\n",
       "      <th></th>\n",
       "      <th>name</th>\n",
       "      <th>platform</th>\n",
       "      <th>year_of_release</th>\n",
       "      <th>genre</th>\n",
       "      <th>na_sales</th>\n",
       "      <th>eu_sales</th>\n",
       "      <th>jp_sales</th>\n",
       "      <th>other_sales</th>\n",
       "      <th>critic_score</th>\n",
       "      <th>user_score</th>\n",
       "      <th>rating</th>\n",
       "      <th>total_sales</th>\n",
       "      <th>rating_category</th>\n",
       "    </tr>\n",
       "  </thead>\n",
       "  <tbody>\n",
       "    <tr>\n",
       "      <td>0</td>\n",
       "      <td>grand theft auto v</td>\n",
       "      <td>ps3</td>\n",
       "      <td>2013</td>\n",
       "      <td>action</td>\n",
       "      <td>7.02</td>\n",
       "      <td>9.09</td>\n",
       "      <td>0.98</td>\n",
       "      <td>3.96</td>\n",
       "      <td>97.0</td>\n",
       "      <td>8.2</td>\n",
       "      <td>M</td>\n",
       "      <td>21.05</td>\n",
       "      <td>4</td>\n",
       "    </tr>\n",
       "    <tr>\n",
       "      <td>1</td>\n",
       "      <td>grand theft auto v</td>\n",
       "      <td>x360</td>\n",
       "      <td>2013</td>\n",
       "      <td>action</td>\n",
       "      <td>9.66</td>\n",
       "      <td>5.14</td>\n",
       "      <td>0.06</td>\n",
       "      <td>1.41</td>\n",
       "      <td>97.0</td>\n",
       "      <td>8.1</td>\n",
       "      <td>M</td>\n",
       "      <td>16.27</td>\n",
       "      <td>4</td>\n",
       "    </tr>\n",
       "    <tr>\n",
       "      <td>2</td>\n",
       "      <td>grand theft auto v</td>\n",
       "      <td>ps4</td>\n",
       "      <td>2014</td>\n",
       "      <td>action</td>\n",
       "      <td>3.96</td>\n",
       "      <td>6.31</td>\n",
       "      <td>0.38</td>\n",
       "      <td>1.97</td>\n",
       "      <td>97.0</td>\n",
       "      <td>8.3</td>\n",
       "      <td>M</td>\n",
       "      <td>12.62</td>\n",
       "      <td>4</td>\n",
       "    </tr>\n",
       "    <tr>\n",
       "      <td>3</td>\n",
       "      <td>fifa soccer 13</td>\n",
       "      <td>ps3</td>\n",
       "      <td>2012</td>\n",
       "      <td>action</td>\n",
       "      <td>1.06</td>\n",
       "      <td>5.01</td>\n",
       "      <td>0.13</td>\n",
       "      <td>1.97</td>\n",
       "      <td>88.0</td>\n",
       "      <td>6.6</td>\n",
       "      <td>E</td>\n",
       "      <td>8.17</td>\n",
       "      <td>1</td>\n",
       "    </tr>\n",
       "    <tr>\n",
       "      <td>4</td>\n",
       "      <td>assassin's creed iii</td>\n",
       "      <td>ps3</td>\n",
       "      <td>2012</td>\n",
       "      <td>action</td>\n",
       "      <td>2.64</td>\n",
       "      <td>2.52</td>\n",
       "      <td>0.16</td>\n",
       "      <td>1.12</td>\n",
       "      <td>85.0</td>\n",
       "      <td>6.9</td>\n",
       "      <td>M</td>\n",
       "      <td>6.44</td>\n",
       "      <td>4</td>\n",
       "    </tr>\n",
       "  </tbody>\n",
       "</table>\n",
       "</div>"
      ],
      "text/plain": [
       "                   name platform  year_of_release   genre  na_sales  eu_sales  \\\n",
       "0    grand theft auto v      ps3             2013  action      7.02      9.09   \n",
       "1    grand theft auto v     x360             2013  action      9.66      5.14   \n",
       "2    grand theft auto v      ps4             2014  action      3.96      6.31   \n",
       "3        fifa soccer 13      ps3             2012  action      1.06      5.01   \n",
       "4  assassin's creed iii      ps3             2012  action      2.64      2.52   \n",
       "\n",
       "   jp_sales  other_sales  critic_score  user_score rating  total_sales  \\\n",
       "0      0.98         3.96          97.0         8.2      M        21.05   \n",
       "1      0.06         1.41          97.0         8.1      M        16.27   \n",
       "2      0.38         1.97          97.0         8.3      M        12.62   \n",
       "3      0.13         1.97          88.0         6.6      E         8.17   \n",
       "4      0.16         1.12          85.0         6.9      M         6.44   \n",
       "\n",
       "   rating_category  \n",
       "0                4  \n",
       "1                4  \n",
       "2                4  \n",
       "3                1  \n",
       "4                4  "
      ]
     },
     "metadata": {},
     "output_type": "display_data"
    }
   ],
   "source": [
    "action = 'action'\n",
    "data_actual_action = data_actual_platform.query('genre in @action and critic_score != 777 and user_score !=777').reset_index(drop=True)\n",
    "print(data_actual_action.info())\n",
    "display(data_actual_action.head())"
   ]
  },
  {
   "cell_type": "markdown",
   "metadata": {},
   "source": [
    "Сделала срез по жанру action."
   ]
  },
  {
   "cell_type": "code",
   "execution_count": 103,
   "metadata": {},
   "outputs": [
    {
     "name": "stdout",
     "output_type": "stream",
     "text": [
      "<class 'pandas.core.frame.DataFrame'>\n",
      "RangeIndex: 122 entries, 0 to 121\n",
      "Data columns (total 13 columns):\n",
      "name               122 non-null object\n",
      "platform           122 non-null object\n",
      "year_of_release    122 non-null int64\n",
      "genre              122 non-null object\n",
      "na_sales           122 non-null float64\n",
      "eu_sales           122 non-null float64\n",
      "jp_sales           122 non-null float64\n",
      "other_sales        122 non-null float64\n",
      "critic_score       122 non-null float64\n",
      "user_score         122 non-null float64\n",
      "rating             122 non-null object\n",
      "total_sales        122 non-null float64\n",
      "rating_category    122 non-null int64\n",
      "dtypes: float64(7), int64(2), object(4)\n",
      "memory usage: 12.5+ KB\n",
      "None\n"
     ]
    },
    {
     "data": {
      "text/html": [
       "<div>\n",
       "<style scoped>\n",
       "    .dataframe tbody tr th:only-of-type {\n",
       "        vertical-align: middle;\n",
       "    }\n",
       "\n",
       "    .dataframe tbody tr th {\n",
       "        vertical-align: top;\n",
       "    }\n",
       "\n",
       "    .dataframe thead th {\n",
       "        text-align: right;\n",
       "    }\n",
       "</style>\n",
       "<table border=\"1\" class=\"dataframe\">\n",
       "  <thead>\n",
       "    <tr style=\"text-align: right;\">\n",
       "      <th></th>\n",
       "      <th>name</th>\n",
       "      <th>platform</th>\n",
       "      <th>year_of_release</th>\n",
       "      <th>genre</th>\n",
       "      <th>na_sales</th>\n",
       "      <th>eu_sales</th>\n",
       "      <th>jp_sales</th>\n",
       "      <th>other_sales</th>\n",
       "      <th>critic_score</th>\n",
       "      <th>user_score</th>\n",
       "      <th>rating</th>\n",
       "      <th>total_sales</th>\n",
       "      <th>rating_category</th>\n",
       "    </tr>\n",
       "  </thead>\n",
       "  <tbody>\n",
       "    <tr>\n",
       "      <td>0</td>\n",
       "      <td>fifa 16</td>\n",
       "      <td>ps4</td>\n",
       "      <td>2015</td>\n",
       "      <td>sports</td>\n",
       "      <td>1.12</td>\n",
       "      <td>6.12</td>\n",
       "      <td>0.06</td>\n",
       "      <td>1.28</td>\n",
       "      <td>82.0</td>\n",
       "      <td>4.3</td>\n",
       "      <td>E</td>\n",
       "      <td>8.58</td>\n",
       "      <td>1</td>\n",
       "    </tr>\n",
       "    <tr>\n",
       "      <td>1</td>\n",
       "      <td>fifa 17</td>\n",
       "      <td>ps4</td>\n",
       "      <td>2016</td>\n",
       "      <td>sports</td>\n",
       "      <td>0.66</td>\n",
       "      <td>5.75</td>\n",
       "      <td>0.08</td>\n",
       "      <td>1.11</td>\n",
       "      <td>85.0</td>\n",
       "      <td>5.0</td>\n",
       "      <td>E</td>\n",
       "      <td>7.60</td>\n",
       "      <td>1</td>\n",
       "    </tr>\n",
       "    <tr>\n",
       "      <td>2</td>\n",
       "      <td>fifa 14</td>\n",
       "      <td>ps3</td>\n",
       "      <td>2013</td>\n",
       "      <td>sports</td>\n",
       "      <td>0.78</td>\n",
       "      <td>4.24</td>\n",
       "      <td>0.07</td>\n",
       "      <td>1.37</td>\n",
       "      <td>86.0</td>\n",
       "      <td>4.3</td>\n",
       "      <td>E</td>\n",
       "      <td>6.46</td>\n",
       "      <td>1</td>\n",
       "    </tr>\n",
       "    <tr>\n",
       "      <td>3</td>\n",
       "      <td>fifa 15</td>\n",
       "      <td>ps4</td>\n",
       "      <td>2014</td>\n",
       "      <td>sports</td>\n",
       "      <td>0.80</td>\n",
       "      <td>4.33</td>\n",
       "      <td>0.05</td>\n",
       "      <td>0.90</td>\n",
       "      <td>82.0</td>\n",
       "      <td>5.7</td>\n",
       "      <td>E</td>\n",
       "      <td>6.08</td>\n",
       "      <td>1</td>\n",
       "    </tr>\n",
       "    <tr>\n",
       "      <td>4</td>\n",
       "      <td>fifa 14</td>\n",
       "      <td>x360</td>\n",
       "      <td>2013</td>\n",
       "      <td>sports</td>\n",
       "      <td>0.92</td>\n",
       "      <td>2.89</td>\n",
       "      <td>0.01</td>\n",
       "      <td>0.40</td>\n",
       "      <td>84.0</td>\n",
       "      <td>4.2</td>\n",
       "      <td>E</td>\n",
       "      <td>4.22</td>\n",
       "      <td>1</td>\n",
       "    </tr>\n",
       "  </tbody>\n",
       "</table>\n",
       "</div>"
      ],
      "text/plain": [
       "      name platform  year_of_release   genre  na_sales  eu_sales  jp_sales  \\\n",
       "0  fifa 16      ps4             2015  sports      1.12      6.12      0.06   \n",
       "1  fifa 17      ps4             2016  sports      0.66      5.75      0.08   \n",
       "2  fifa 14      ps3             2013  sports      0.78      4.24      0.07   \n",
       "3  fifa 15      ps4             2014  sports      0.80      4.33      0.05   \n",
       "4  fifa 14     x360             2013  sports      0.92      2.89      0.01   \n",
       "\n",
       "   other_sales  critic_score  user_score rating  total_sales  rating_category  \n",
       "0         1.28          82.0         4.3      E         8.58                1  \n",
       "1         1.11          85.0         5.0      E         7.60                1  \n",
       "2         1.37          86.0         4.3      E         6.46                1  \n",
       "3         0.90          82.0         5.7      E         6.08                1  \n",
       "4         0.40          84.0         4.2      E         4.22                1  "
      ]
     },
     "metadata": {},
     "output_type": "display_data"
    }
   ],
   "source": [
    "sports = 'sports'\n",
    "data_actual_sports = data_actual_platform.query('genre in @sports and critic_score != 777 and user_score !=777').reset_index(drop=True)\n",
    "print(data_actual_sports.info())\n",
    "display(data_actual_sports.head())"
   ]
  },
  {
   "cell_type": "markdown",
   "metadata": {},
   "source": [
    "Сделала срез по жанру sports."
   ]
  },
  {
   "cell_type": "code",
   "execution_count": 104,
   "metadata": {},
   "outputs": [
    {
     "name": "stdout",
     "output_type": "stream",
     "text": [
      "p-значение: 8.336004852233889e-14\n",
      "Отвергаем нулевую гипотезу\n"
     ]
    }
   ],
   "source": [
    "alpha = 0.05  # критический уровень статистической значимости\n",
    "\n",
    "results = st.ttest_ind(data_actual_sports['user_score'], data_actual_action['user_score'])\n",
    "\n",
    "print('p-значение:', results.pvalue)\n",
    "\n",
    "if results.pvalue < alpha:\n",
    "    print('Отвергаем нулевую гипотезу')\n",
    "else:\n",
    "    print('Не получилось отвергнуть нулевую гипотезу') "
   ]
  },
  {
   "cell_type": "code",
   "execution_count": 105,
   "metadata": {},
   "outputs": [
    {
     "name": "stdout",
     "output_type": "stream",
     "text": [
      "Средний пользовательский рейтинг жанра action 6.880174927113702\n",
      "Средний пользовательский рейтинг жанра sports 5.798360655737705\n"
     ]
    }
   ],
   "source": [
    "print('Средний пользовательский рейтинг жанра action', data_actual_action['user_score'].mean())\n",
    "print('Средний пользовательский рейтинг жанра sports', data_actual_sports['user_score'].mean())"
   ]
  },
  {
   "cell_type": "markdown",
   "metadata": {},
   "source": [
    "#### Вывод \n",
    "Нулевую гипотезу отвергли, слишком низкая вероятность того, что средние пользовательские рейтинги жанров action и sports одинаковые.\n",
    "\n",
    "Расчет показал, что средние пользовательсие рейтинги платформ практически одинаковые."
   ]
  },
  {
   "cell_type": "markdown",
   "metadata": {},
   "source": [
    "## Вывод"
   ]
  },
  {
   "cell_type": "markdown",
   "metadata": {},
   "source": [
    "В процессе анализа вяснила, что рок жизни платформы 8-12 лет, пик продаж приходится на средние 5-6 лет, дальше идет затухание, начинают появляться и развиваться новые платформы.\n",
    "\n",
    "Для прогноза на 2017 год за актуальный период взяла данные с 2012 года, чтобы отследить намечающийся на 2017 год рост и спад платформ.\n",
    "\n",
    "Продажи игр на платформах ps3, x360, 3ds снижаются весь актуальный период.\n",
    "\n",
    "Рост показывают продажи игр на платформах ps4 и xone, причем по данным за 2015 (последний полный год) продажи на платформе ps4 в два раза превышали продажи на платформе xone.\n",
    "\n",
    "Платформа ps4 также является лидером продаж в актуальном периоде в целом.\n",
    "\n",
    "При это для растущих платформ ps4, xone коэффициент зависимости продаж от отзывов критиков составляет 0.41, коэффициент зависимости продаж от отзывов пользователей отрицательный и несущественный. При этом средние пользовательсике рейтинги для этих платформ практически одинаковые. Опираться в части выбора игр на отзывы пользователей и критиков большого смысла нет, люди играют в то, что нравится именно им.\n",
    "\n",
    "Самые популярные жанры - экшен, стрелялки, спортивные соревнования и ролевые игры, на последних местах по продажам идут стратегии и головоломки.\n",
    "\n",
    "Для Старого и Нового Света ТОП-4 жанров совпадает: action, shooter, sports, role-playing. \n",
    "Можно предположить, что пользователям Америки и Европы не хватает активности (пусть и искусственной) и адреналина, и не очень хочется много думать в процессе игры.\n",
    "\n",
    "Помимо адреналина и активности (action на втором месте, shooter на четвертом, platform на пятом), Япония также отдает предпочтения более вдумчивым и созерцательным жанрам: role-playing и simulation.\n",
    "\n",
    "Средний пользовательский рейтинг самого популярного жанра action составляет 6.88 (из 10), средний пользовательский рейтинг жанра sports составляет 5.79 (из 10). \n",
    "\n",
    "Во всех трех регионах зависимость продаж от рейтинга слабая, но если в Европе и в Северной Америке игры без рейтинга ESRB не продаются, то в Японии они занимают большую часть рынка в актуальном периоде.\n",
    "\n",
    "В части продаж по видам платформ:\n",
    "\n",
    "1) в Америке на долю платформ Microsoft приходится 43.3% рынка, и еще 39.4% на долю Sony.\n",
    "\n",
    "2) в актуальном периоде в Японии на долю японских платформ приходится практически 98.0% рынка.\n",
    "\n",
    "3) в Европе ококло 65% рынка приходится на долю платформ из Японии, около 38% рынка на долю Microsoft.\n",
    "\n",
    "При формировании стратегии на 2017 год магазину нужно сделать основную ставку  на растущие платформы ps4 b xone, а также на самые популярные жанры:  action, shooter, sports, role-playing, simulation. Это позволит охватить аудиторию во всех трех основных регионах."
   ]
  },
  {
   "cell_type": "code",
   "execution_count": null,
   "metadata": {},
   "outputs": [],
   "source": []
  },
  {
   "cell_type": "code",
   "execution_count": null,
   "metadata": {},
   "outputs": [],
   "source": []
  }
 ],
 "metadata": {
  "ExecuteTimeLog": [
   {
    "duration": 121,
    "start_time": "2021-07-05T14:01:25.643Z"
   },
   {
    "duration": 140,
    "start_time": "2021-07-05T14:01:42.884Z"
   },
   {
    "duration": 1502,
    "start_time": "2021-07-05T14:01:53.779Z"
   },
   {
    "duration": 100,
    "start_time": "2021-07-05T14:09:53.076Z"
   },
   {
    "duration": 312,
    "start_time": "2021-07-05T18:04:33.155Z"
   },
   {
    "duration": 1369,
    "start_time": "2021-07-05T18:04:39.691Z"
   },
   {
    "duration": 319,
    "start_time": "2021-07-05T18:04:41.063Z"
   },
   {
    "duration": 245,
    "start_time": "2021-07-05T18:05:07.432Z"
   },
   {
    "duration": 22,
    "start_time": "2021-07-05T18:05:56.229Z"
   },
   {
    "duration": 247,
    "start_time": "2021-07-05T18:09:49.743Z"
   },
   {
    "duration": 515,
    "start_time": "2021-07-05T18:10:33.675Z"
   },
   {
    "duration": 1455,
    "start_time": "2021-07-06T15:05:16.202Z"
   },
   {
    "duration": 19,
    "start_time": "2021-07-06T15:05:17.660Z"
   },
   {
    "duration": 25,
    "start_time": "2021-07-06T15:05:31.236Z"
   },
   {
    "duration": 616,
    "start_time": "2021-07-06T15:20:11.059Z"
   },
   {
    "duration": 16,
    "start_time": "2021-07-06T15:28:11.165Z"
   },
   {
    "duration": 20,
    "start_time": "2021-07-06T15:28:28.536Z"
   },
   {
    "duration": 30,
    "start_time": "2021-07-06T15:38:15.057Z"
   },
   {
    "duration": 47,
    "start_time": "2021-07-06T15:38:59.408Z"
   },
   {
    "duration": 40,
    "start_time": "2021-07-06T15:39:23.639Z"
   },
   {
    "duration": 2938,
    "start_time": "2021-07-06T15:40:07.075Z"
   },
   {
    "duration": 35,
    "start_time": "2021-07-06T15:43:28.498Z"
   },
   {
    "duration": 12,
    "start_time": "2021-07-06T15:44:03.907Z"
   },
   {
    "duration": 24,
    "start_time": "2021-07-06T15:45:15.119Z"
   },
   {
    "duration": 15,
    "start_time": "2021-07-06T16:43:19.486Z"
   },
   {
    "duration": 19,
    "start_time": "2021-07-06T16:44:03.227Z"
   },
   {
    "duration": 16,
    "start_time": "2021-07-06T16:56:40.742Z"
   },
   {
    "duration": 20,
    "start_time": "2021-07-06T16:56:59.316Z"
   },
   {
    "duration": 77,
    "start_time": "2021-07-06T16:57:08.475Z"
   },
   {
    "duration": 25,
    "start_time": "2021-07-06T16:57:08.555Z"
   },
   {
    "duration": 40,
    "start_time": "2021-07-06T16:57:08.583Z"
   },
   {
    "duration": 19,
    "start_time": "2021-07-06T16:57:08.626Z"
   },
   {
    "duration": 16,
    "start_time": "2021-07-06T16:57:08.648Z"
   },
   {
    "duration": 34,
    "start_time": "2021-07-06T16:58:47.860Z"
   },
   {
    "duration": 49,
    "start_time": "2021-07-06T17:03:44.337Z"
   },
   {
    "duration": 17,
    "start_time": "2021-07-06T17:06:32.777Z"
   },
   {
    "duration": 2500,
    "start_time": "2021-07-06T17:11:34.222Z"
   },
   {
    "duration": 17,
    "start_time": "2021-07-06T17:12:11.088Z"
   },
   {
    "duration": 37,
    "start_time": "2021-07-06T17:13:47.901Z"
   },
   {
    "duration": 18,
    "start_time": "2021-07-06T17:24:13.933Z"
   },
   {
    "duration": 21,
    "start_time": "2021-07-06T17:24:19.540Z"
   },
   {
    "duration": 42,
    "start_time": "2021-07-06T17:40:36.211Z"
   },
   {
    "duration": 34,
    "start_time": "2021-07-06T17:41:47.461Z"
   },
   {
    "duration": 72,
    "start_time": "2021-07-06T17:43:11.765Z"
   },
   {
    "duration": 31,
    "start_time": "2021-07-06T17:43:11.839Z"
   },
   {
    "duration": 41,
    "start_time": "2021-07-06T17:43:11.872Z"
   },
   {
    "duration": 20,
    "start_time": "2021-07-06T17:43:11.915Z"
   },
   {
    "duration": 30,
    "start_time": "2021-07-06T17:43:11.937Z"
   },
   {
    "duration": 50,
    "start_time": "2021-07-06T17:43:11.970Z"
   },
   {
    "duration": 49,
    "start_time": "2021-07-06T17:43:12.022Z"
   },
   {
    "duration": 54,
    "start_time": "2021-07-06T17:43:12.074Z"
   },
   {
    "duration": 34,
    "start_time": "2021-07-06T17:43:12.131Z"
   },
   {
    "duration": 29,
    "start_time": "2021-07-06T17:50:13.836Z"
   },
   {
    "duration": 14,
    "start_time": "2021-07-06T17:50:43.619Z"
   },
   {
    "duration": 18,
    "start_time": "2021-07-06T17:51:57.037Z"
   },
   {
    "duration": 19,
    "start_time": "2021-07-06T17:52:04.202Z"
   },
   {
    "duration": 25,
    "start_time": "2021-07-06T17:52:08.322Z"
   },
   {
    "duration": 16,
    "start_time": "2021-07-06T17:52:12.147Z"
   },
   {
    "duration": 48,
    "start_time": "2021-07-06T17:52:15.944Z"
   },
   {
    "duration": 325,
    "start_time": "2021-07-06T17:53:39.904Z"
   },
   {
    "duration": 1697,
    "start_time": "2021-07-06T17:55:14.717Z"
   },
   {
    "duration": 1396,
    "start_time": "2021-07-06T17:55:35.823Z"
   },
   {
    "duration": 19,
    "start_time": "2021-07-06T17:56:32.904Z"
   },
   {
    "duration": 78,
    "start_time": "2021-07-06T17:56:55.143Z"
   },
   {
    "duration": 24,
    "start_time": "2021-07-06T17:56:55.224Z"
   },
   {
    "duration": 19,
    "start_time": "2021-07-06T17:56:55.251Z"
   },
   {
    "duration": 44,
    "start_time": "2021-07-06T17:56:55.273Z"
   },
   {
    "duration": 33,
    "start_time": "2021-07-06T17:56:55.320Z"
   },
   {
    "duration": 16,
    "start_time": "2021-07-06T17:56:55.356Z"
   },
   {
    "duration": 77,
    "start_time": "2021-07-06T17:56:55.374Z"
   },
   {
    "duration": 25,
    "start_time": "2021-07-06T17:56:55.455Z"
   },
   {
    "duration": 57,
    "start_time": "2021-07-06T17:56:55.482Z"
   },
   {
    "duration": 8,
    "start_time": "2021-07-06T17:56:55.541Z"
   },
   {
    "duration": 21,
    "start_time": "2021-07-06T17:57:22.916Z"
   },
   {
    "duration": 73,
    "start_time": "2021-07-06T17:57:55.174Z"
   },
   {
    "duration": 29,
    "start_time": "2021-07-06T17:57:55.250Z"
   },
   {
    "duration": 45,
    "start_time": "2021-07-06T17:57:55.283Z"
   },
   {
    "duration": 19,
    "start_time": "2021-07-06T17:57:55.330Z"
   },
   {
    "duration": 58,
    "start_time": "2021-07-06T17:57:55.351Z"
   },
   {
    "duration": 18,
    "start_time": "2021-07-06T17:57:55.411Z"
   },
   {
    "duration": 44,
    "start_time": "2021-07-06T17:57:55.431Z"
   },
   {
    "duration": 53,
    "start_time": "2021-07-06T17:57:55.479Z"
   },
   {
    "duration": 34,
    "start_time": "2021-07-06T17:57:55.535Z"
   },
   {
    "duration": 39,
    "start_time": "2021-07-06T17:57:55.571Z"
   },
   {
    "duration": 18,
    "start_time": "2021-07-06T17:58:44.029Z"
   },
   {
    "duration": 74,
    "start_time": "2021-07-06T17:58:56.340Z"
   },
   {
    "duration": 24,
    "start_time": "2021-07-06T17:58:56.417Z"
   },
   {
    "duration": 16,
    "start_time": "2021-07-06T17:58:56.444Z"
   },
   {
    "duration": 53,
    "start_time": "2021-07-06T17:58:56.463Z"
   },
   {
    "duration": 31,
    "start_time": "2021-07-06T17:58:56.518Z"
   },
   {
    "duration": 16,
    "start_time": "2021-07-06T17:58:56.551Z"
   },
   {
    "duration": 74,
    "start_time": "2021-07-06T17:58:56.569Z"
   },
   {
    "duration": 24,
    "start_time": "2021-07-06T17:58:56.646Z"
   },
   {
    "duration": 59,
    "start_time": "2021-07-06T17:58:56.673Z"
   },
   {
    "duration": 7,
    "start_time": "2021-07-06T17:58:56.734Z"
   },
   {
    "duration": 400,
    "start_time": "2021-07-06T18:22:01.785Z"
   },
   {
    "duration": 17,
    "start_time": "2021-07-06T18:22:23.259Z"
   },
   {
    "duration": 435,
    "start_time": "2021-07-07T13:10:12.610Z"
   },
   {
    "duration": 1871,
    "start_time": "2021-07-07T13:10:18.767Z"
   },
   {
    "duration": 28,
    "start_time": "2021-07-07T13:10:20.640Z"
   },
   {
    "duration": 45,
    "start_time": "2021-07-07T13:10:20.672Z"
   },
   {
    "duration": 19,
    "start_time": "2021-07-07T13:10:20.720Z"
   },
   {
    "duration": 32,
    "start_time": "2021-07-07T13:10:20.742Z"
   },
   {
    "duration": 47,
    "start_time": "2021-07-07T13:10:20.776Z"
   },
   {
    "duration": 48,
    "start_time": "2021-07-07T13:10:20.826Z"
   },
   {
    "duration": 55,
    "start_time": "2021-07-07T13:10:20.878Z"
   },
   {
    "duration": 42,
    "start_time": "2021-07-07T13:10:20.935Z"
   },
   {
    "duration": 32,
    "start_time": "2021-07-07T13:10:20.979Z"
   },
   {
    "duration": 19,
    "start_time": "2021-07-07T13:10:21.013Z"
   },
   {
    "duration": 1352,
    "start_time": "2021-07-07T13:11:30.150Z"
   },
   {
    "duration": 9,
    "start_time": "2021-07-07T13:11:44.960Z"
   },
   {
    "duration": 9,
    "start_time": "2021-07-07T13:12:18.015Z"
   },
   {
    "duration": 339,
    "start_time": "2021-07-07T13:34:55.335Z"
   },
   {
    "duration": 40,
    "start_time": "2021-07-07T13:35:28.171Z"
   },
   {
    "duration": 52,
    "start_time": "2021-07-07T13:35:52.302Z"
   },
   {
    "duration": 55,
    "start_time": "2021-07-07T13:41:05.851Z"
   },
   {
    "duration": 40,
    "start_time": "2021-07-07T13:50:01.723Z"
   },
   {
    "duration": 45,
    "start_time": "2021-07-07T13:50:16.062Z"
   },
   {
    "duration": 394,
    "start_time": "2021-07-07T13:53:28.154Z"
   },
   {
    "duration": 416,
    "start_time": "2021-07-07T13:54:27.304Z"
   },
   {
    "duration": 418,
    "start_time": "2021-07-07T13:55:48.429Z"
   },
   {
    "duration": 50,
    "start_time": "2021-07-07T13:56:29.878Z"
   },
   {
    "duration": 547,
    "start_time": "2021-07-07T13:58:05.834Z"
   },
   {
    "duration": 704,
    "start_time": "2021-07-07T14:00:42.274Z"
   },
   {
    "duration": 514,
    "start_time": "2021-07-07T14:03:01.926Z"
   },
   {
    "duration": 461,
    "start_time": "2021-07-07T14:04:30.192Z"
   },
   {
    "duration": 615,
    "start_time": "2021-07-07T14:07:18.313Z"
   },
   {
    "duration": 468,
    "start_time": "2021-07-07T14:07:49.780Z"
   },
   {
    "duration": 566,
    "start_time": "2021-07-07T14:09:26.115Z"
   },
   {
    "duration": 484,
    "start_time": "2021-07-07T14:15:58.558Z"
   },
   {
    "duration": 473,
    "start_time": "2021-07-07T14:17:43.909Z"
   },
   {
    "duration": 487,
    "start_time": "2021-07-07T14:19:20.064Z"
   },
   {
    "duration": 44,
    "start_time": "2021-07-07T14:29:43.934Z"
   },
   {
    "duration": 41,
    "start_time": "2021-07-07T14:45:05.842Z"
   },
   {
    "duration": 35,
    "start_time": "2021-07-07T14:45:33.417Z"
   },
   {
    "duration": 36,
    "start_time": "2021-07-07T14:46:53.910Z"
   },
   {
    "duration": 36,
    "start_time": "2021-07-07T14:50:16.405Z"
   },
   {
    "duration": 11,
    "start_time": "2021-07-07T15:00:37.639Z"
   },
   {
    "duration": 36,
    "start_time": "2021-07-07T15:02:20.536Z"
   },
   {
    "duration": 361,
    "start_time": "2021-07-07T15:06:54.246Z"
   },
   {
    "duration": 9,
    "start_time": "2021-07-07T15:07:03.300Z"
   },
   {
    "duration": 83,
    "start_time": "2021-07-07T15:07:31.815Z"
   },
   {
    "duration": 36,
    "start_time": "2021-07-07T15:07:31.900Z"
   },
   {
    "duration": 19,
    "start_time": "2021-07-07T15:07:31.939Z"
   },
   {
    "duration": 55,
    "start_time": "2021-07-07T15:07:31.960Z"
   },
   {
    "duration": 35,
    "start_time": "2021-07-07T15:07:32.018Z"
   },
   {
    "duration": 20,
    "start_time": "2021-07-07T15:07:32.056Z"
   },
   {
    "duration": 84,
    "start_time": "2021-07-07T15:07:32.079Z"
   },
   {
    "duration": 46,
    "start_time": "2021-07-07T15:07:32.167Z"
   },
   {
    "duration": 42,
    "start_time": "2021-07-07T15:07:32.216Z"
   },
   {
    "duration": 9,
    "start_time": "2021-07-07T15:07:32.260Z"
   },
   {
    "duration": 45,
    "start_time": "2021-07-07T15:07:32.271Z"
   },
   {
    "duration": 48,
    "start_time": "2021-07-07T15:07:32.320Z"
   },
   {
    "duration": 565,
    "start_time": "2021-07-07T15:07:32.370Z"
   },
   {
    "duration": 512,
    "start_time": "2021-07-07T15:07:32.938Z"
   },
   {
    "duration": 523,
    "start_time": "2021-07-07T15:07:33.453Z"
   },
   {
    "duration": 530,
    "start_time": "2021-07-07T15:07:33.978Z"
   },
   {
    "duration": 510,
    "start_time": "2021-07-07T15:07:34.511Z"
   },
   {
    "duration": 533,
    "start_time": "2021-07-07T15:07:35.024Z"
   },
   {
    "duration": 50,
    "start_time": "2021-07-07T15:07:35.559Z"
   },
   {
    "duration": 16,
    "start_time": "2021-07-07T15:07:35.611Z"
   },
   {
    "duration": 10,
    "start_time": "2021-07-07T15:07:42.583Z"
   },
   {
    "duration": 8,
    "start_time": "2021-07-07T15:07:50.282Z"
   },
   {
    "duration": 983,
    "start_time": "2021-07-07T17:06:27.225Z"
   },
   {
    "duration": 15,
    "start_time": "2021-07-07T17:06:28.209Z"
   },
   {
    "duration": 9,
    "start_time": "2021-07-07T17:06:28.226Z"
   },
   {
    "duration": 11,
    "start_time": "2021-07-07T17:06:28.237Z"
   },
   {
    "duration": 18,
    "start_time": "2021-07-07T17:06:28.249Z"
   },
   {
    "duration": 10,
    "start_time": "2021-07-07T17:06:28.291Z"
   },
   {
    "duration": 27,
    "start_time": "2021-07-07T17:06:28.302Z"
   },
   {
    "duration": 14,
    "start_time": "2021-07-07T17:06:28.331Z"
   },
   {
    "duration": 22,
    "start_time": "2021-07-07T17:06:28.346Z"
   },
   {
    "duration": 25,
    "start_time": "2021-07-07T17:06:28.369Z"
   },
   {
    "duration": 7,
    "start_time": "2021-07-07T17:06:28.395Z"
   },
   {
    "duration": 25,
    "start_time": "2021-07-07T17:06:28.404Z"
   },
   {
    "duration": 267,
    "start_time": "2021-07-07T17:06:28.431Z"
   },
   {
    "duration": 246,
    "start_time": "2021-07-07T17:06:28.700Z"
   },
   {
    "duration": 249,
    "start_time": "2021-07-07T17:06:28.948Z"
   },
   {
    "duration": 246,
    "start_time": "2021-07-07T17:06:29.198Z"
   },
   {
    "duration": 247,
    "start_time": "2021-07-07T17:06:29.446Z"
   },
   {
    "duration": 244,
    "start_time": "2021-07-07T17:06:29.694Z"
   },
   {
    "duration": 20,
    "start_time": "2021-07-07T17:06:29.939Z"
   },
   {
    "duration": 5,
    "start_time": "2021-07-07T17:06:29.960Z"
   },
   {
    "duration": 28,
    "start_time": "2021-07-07T17:22:58.017Z"
   },
   {
    "duration": 28,
    "start_time": "2021-07-07T17:23:31.937Z"
   },
   {
    "duration": 147,
    "start_time": "2021-07-07T17:25:32.277Z"
   },
   {
    "duration": 147,
    "start_time": "2021-07-07T17:28:16.159Z"
   },
   {
    "duration": 145,
    "start_time": "2021-07-07T17:30:58.587Z"
   },
   {
    "duration": 255,
    "start_time": "2021-07-07T17:34:57.610Z"
   },
   {
    "duration": 146,
    "start_time": "2021-07-07T17:36:14.843Z"
   },
   {
    "duration": 109,
    "start_time": "2021-07-07T17:40:27.346Z"
   },
   {
    "duration": 82,
    "start_time": "2021-07-07T17:41:01.635Z"
   },
   {
    "duration": 22,
    "start_time": "2021-07-07T17:45:48.369Z"
   },
   {
    "duration": 145,
    "start_time": "2021-07-07T17:47:02.795Z"
   },
   {
    "duration": 140,
    "start_time": "2021-07-07T17:54:05.229Z"
   },
   {
    "duration": 140,
    "start_time": "2021-07-07T17:54:27.720Z"
   },
   {
    "duration": 139,
    "start_time": "2021-07-07T17:54:42.671Z"
   },
   {
    "duration": 144,
    "start_time": "2021-07-07T17:55:01.846Z"
   },
   {
    "duration": 143,
    "start_time": "2021-07-07T17:55:12.639Z"
   },
   {
    "duration": 139,
    "start_time": "2021-07-07T17:55:19.175Z"
   },
   {
    "duration": 244,
    "start_time": "2021-07-07T17:55:34.311Z"
   },
   {
    "duration": 240,
    "start_time": "2021-07-07T17:55:43.074Z"
   },
   {
    "duration": 242,
    "start_time": "2021-07-07T17:55:49.231Z"
   },
   {
    "duration": 327,
    "start_time": "2021-07-07T17:55:54.587Z"
   },
   {
    "duration": 244,
    "start_time": "2021-07-07T17:56:01.113Z"
   },
   {
    "duration": 233,
    "start_time": "2021-07-07T17:56:07.050Z"
   },
   {
    "duration": 532,
    "start_time": "2021-07-07T18:00:26.119Z"
   },
   {
    "duration": 220,
    "start_time": "2021-07-07T18:01:30.781Z"
   },
   {
    "duration": 170,
    "start_time": "2021-07-07T18:02:43.355Z"
   },
   {
    "duration": 106,
    "start_time": "2021-07-07T18:02:58.395Z"
   },
   {
    "duration": 106,
    "start_time": "2021-07-07T18:25:46.525Z"
   },
   {
    "duration": 107,
    "start_time": "2021-07-07T18:26:08.556Z"
   },
   {
    "duration": 109,
    "start_time": "2021-07-07T18:26:18.116Z"
   },
   {
    "duration": 110,
    "start_time": "2021-07-07T18:28:40.512Z"
   },
   {
    "duration": 109,
    "start_time": "2021-07-07T18:31:08.539Z"
   },
   {
    "duration": 112,
    "start_time": "2021-07-07T18:33:13.815Z"
   },
   {
    "duration": 22,
    "start_time": "2021-07-07T18:43:12.033Z"
   },
   {
    "duration": 373,
    "start_time": "2021-07-08T06:38:59.962Z"
   },
   {
    "duration": 1399,
    "start_time": "2021-07-08T06:39:12.486Z"
   },
   {
    "duration": 26,
    "start_time": "2021-07-08T06:39:13.888Z"
   },
   {
    "duration": 39,
    "start_time": "2021-07-08T06:39:13.917Z"
   },
   {
    "duration": 18,
    "start_time": "2021-07-08T06:39:13.959Z"
   },
   {
    "duration": 30,
    "start_time": "2021-07-08T06:39:13.980Z"
   },
   {
    "duration": 49,
    "start_time": "2021-07-08T06:39:14.012Z"
   },
   {
    "duration": 45,
    "start_time": "2021-07-08T06:39:14.063Z"
   },
   {
    "duration": 48,
    "start_time": "2021-07-08T06:39:14.112Z"
   },
   {
    "duration": 35,
    "start_time": "2021-07-08T06:39:14.164Z"
   },
   {
    "duration": 8,
    "start_time": "2021-07-08T06:39:14.202Z"
   },
   {
    "duration": 43,
    "start_time": "2021-07-08T06:39:14.212Z"
   },
   {
    "duration": 41,
    "start_time": "2021-07-08T06:39:14.258Z"
   },
   {
    "duration": 497,
    "start_time": "2021-07-08T06:39:14.301Z"
   },
   {
    "duration": 494,
    "start_time": "2021-07-08T06:39:14.801Z"
   },
   {
    "duration": 478,
    "start_time": "2021-07-08T06:39:15.297Z"
   },
   {
    "duration": 500,
    "start_time": "2021-07-08T06:39:15.777Z"
   },
   {
    "duration": 482,
    "start_time": "2021-07-08T06:39:16.280Z"
   },
   {
    "duration": 493,
    "start_time": "2021-07-08T06:39:16.765Z"
   },
   {
    "duration": 35,
    "start_time": "2021-07-08T06:39:17.260Z"
   },
   {
    "duration": 9,
    "start_time": "2021-07-08T06:39:17.297Z"
   },
   {
    "duration": 70,
    "start_time": "2021-07-08T06:39:17.309Z"
   },
   {
    "duration": 306,
    "start_time": "2021-07-08T06:39:17.382Z"
   },
   {
    "duration": 283,
    "start_time": "2021-07-08T06:39:17.693Z"
   },
   {
    "duration": 309,
    "start_time": "2021-07-08T06:39:17.979Z"
   },
   {
    "duration": 371,
    "start_time": "2021-07-08T06:39:18.291Z"
   },
   {
    "duration": 292,
    "start_time": "2021-07-08T06:39:18.665Z"
   },
   {
    "duration": 278,
    "start_time": "2021-07-08T06:39:18.959Z"
   },
   {
    "duration": 224,
    "start_time": "2021-07-08T06:39:19.240Z"
   },
   {
    "duration": 230,
    "start_time": "2021-07-08T06:39:19.467Z"
   },
   {
    "duration": 243,
    "start_time": "2021-07-08T06:39:19.700Z"
   },
   {
    "duration": 235,
    "start_time": "2021-07-08T06:39:19.946Z"
   },
   {
    "duration": 225,
    "start_time": "2021-07-08T06:39:20.184Z"
   },
   {
    "duration": 287,
    "start_time": "2021-07-08T06:40:41.912Z"
   },
   {
    "duration": 294,
    "start_time": "2021-07-08T06:41:52.935Z"
   },
   {
    "duration": 208,
    "start_time": "2021-07-08T06:42:22.721Z"
   },
   {
    "duration": 272,
    "start_time": "2021-07-08T06:42:39.042Z"
   },
   {
    "duration": 204,
    "start_time": "2021-07-08T06:42:48.426Z"
   },
   {
    "duration": 260,
    "start_time": "2021-07-08T06:42:58.986Z"
   },
   {
    "duration": 309,
    "start_time": "2021-07-08T06:43:06.827Z"
   },
   {
    "duration": 202,
    "start_time": "2021-07-08T06:45:34.718Z"
   },
   {
    "duration": 208,
    "start_time": "2021-07-08T06:46:52.416Z"
   },
   {
    "duration": 205,
    "start_time": "2021-07-08T07:16:22.657Z"
   },
   {
    "duration": 210,
    "start_time": "2021-07-08T07:16:45.060Z"
   },
   {
    "duration": 34,
    "start_time": "2021-07-08T08:06:42.783Z"
   },
   {
    "duration": 34,
    "start_time": "2021-07-08T08:16:43.820Z"
   },
   {
    "duration": 32,
    "start_time": "2021-07-08T08:16:49.618Z"
   },
   {
    "duration": 32,
    "start_time": "2021-07-08T08:17:00.699Z"
   },
   {
    "duration": 1333,
    "start_time": "2021-07-08T08:21:16.832Z"
   },
   {
    "duration": 378,
    "start_time": "2021-07-08T08:21:31.078Z"
   },
   {
    "duration": 47,
    "start_time": "2021-07-08T08:24:05.379Z"
   },
   {
    "duration": 79,
    "start_time": "2021-07-08T08:26:26.878Z"
   },
   {
    "duration": 38,
    "start_time": "2021-07-08T08:26:26.960Z"
   },
   {
    "duration": 19,
    "start_time": "2021-07-08T08:26:27.002Z"
   },
   {
    "duration": 25,
    "start_time": "2021-07-08T08:26:27.056Z"
   },
   {
    "duration": 43,
    "start_time": "2021-07-08T08:26:27.083Z"
   },
   {
    "duration": 36,
    "start_time": "2021-07-08T08:26:27.128Z"
   },
   {
    "duration": 55,
    "start_time": "2021-07-08T08:26:27.166Z"
   },
   {
    "duration": 33,
    "start_time": "2021-07-08T08:26:27.225Z"
   },
   {
    "duration": 37,
    "start_time": "2021-07-08T08:26:27.261Z"
   },
   {
    "duration": 8,
    "start_time": "2021-07-08T08:26:27.300Z"
   },
   {
    "duration": 49,
    "start_time": "2021-07-08T08:26:27.311Z"
   },
   {
    "duration": 50,
    "start_time": "2021-07-08T08:26:27.363Z"
   },
   {
    "duration": 529,
    "start_time": "2021-07-08T08:26:27.415Z"
   },
   {
    "duration": 479,
    "start_time": "2021-07-08T08:26:27.947Z"
   },
   {
    "duration": 489,
    "start_time": "2021-07-08T08:26:28.430Z"
   },
   {
    "duration": 497,
    "start_time": "2021-07-08T08:26:28.922Z"
   },
   {
    "duration": 647,
    "start_time": "2021-07-08T08:26:29.422Z"
   },
   {
    "duration": 488,
    "start_time": "2021-07-08T08:26:30.072Z"
   },
   {
    "duration": 36,
    "start_time": "2021-07-08T08:26:30.563Z"
   },
   {
    "duration": 12,
    "start_time": "2021-07-08T08:26:30.603Z"
   },
   {
    "duration": 36,
    "start_time": "2021-07-08T08:26:30.654Z"
   },
   {
    "duration": 291,
    "start_time": "2021-07-08T08:26:30.692Z"
   },
   {
    "duration": 229,
    "start_time": "2021-07-08T08:26:30.988Z"
   },
   {
    "duration": 289,
    "start_time": "2021-07-08T08:26:31.219Z"
   },
   {
    "duration": 220,
    "start_time": "2021-07-08T08:26:31.510Z"
   },
   {
    "duration": 290,
    "start_time": "2021-07-08T08:26:31.732Z"
   },
   {
    "duration": 225,
    "start_time": "2021-07-08T08:26:32.025Z"
   },
   {
    "duration": 288,
    "start_time": "2021-07-08T08:26:32.253Z"
   },
   {
    "duration": 226,
    "start_time": "2021-07-08T08:26:32.544Z"
   },
   {
    "duration": 301,
    "start_time": "2021-07-08T08:26:32.772Z"
   },
   {
    "duration": 233,
    "start_time": "2021-07-08T08:26:33.075Z"
   },
   {
    "duration": 296,
    "start_time": "2021-07-08T08:26:33.311Z"
   },
   {
    "duration": 221,
    "start_time": "2021-07-08T08:26:33.610Z"
   },
   {
    "duration": 40,
    "start_time": "2021-07-08T08:26:33.833Z"
   },
   {
    "duration": 33,
    "start_time": "2021-07-08T08:26:33.876Z"
   },
   {
    "duration": 467,
    "start_time": "2021-07-08T08:26:33.911Z"
   },
   {
    "duration": 34,
    "start_time": "2021-07-08T08:27:02.545Z"
   },
   {
    "duration": 607,
    "start_time": "2021-07-08T08:27:08.910Z"
   },
   {
    "duration": 57,
    "start_time": "2021-07-08T08:30:01.621Z"
   },
   {
    "duration": 367,
    "start_time": "2021-07-08T08:31:10.794Z"
   },
   {
    "duration": 430,
    "start_time": "2021-07-08T13:40:12.031Z"
   },
   {
    "duration": 546,
    "start_time": "2021-07-08T13:40:25.938Z"
   },
   {
    "duration": 482,
    "start_time": "2021-07-08T13:40:35.464Z"
   },
   {
    "duration": 79,
    "start_time": "2021-07-08T13:49:49.282Z"
   },
   {
    "duration": 27,
    "start_time": "2021-07-08T13:49:49.364Z"
   },
   {
    "duration": 18,
    "start_time": "2021-07-08T13:49:49.394Z"
   },
   {
    "duration": 57,
    "start_time": "2021-07-08T13:49:49.415Z"
   },
   {
    "duration": 33,
    "start_time": "2021-07-08T13:49:49.475Z"
   },
   {
    "duration": 54,
    "start_time": "2021-07-08T13:49:49.510Z"
   },
   {
    "duration": 46,
    "start_time": "2021-07-08T13:49:49.566Z"
   },
   {
    "duration": 54,
    "start_time": "2021-07-08T13:49:49.618Z"
   },
   {
    "duration": 34,
    "start_time": "2021-07-08T13:49:49.675Z"
   },
   {
    "duration": 8,
    "start_time": "2021-07-08T13:49:49.711Z"
   },
   {
    "duration": 41,
    "start_time": "2021-07-08T13:49:49.721Z"
   },
   {
    "duration": 44,
    "start_time": "2021-07-08T13:49:49.765Z"
   },
   {
    "duration": 542,
    "start_time": "2021-07-08T13:49:49.812Z"
   },
   {
    "duration": 491,
    "start_time": "2021-07-08T13:49:50.356Z"
   },
   {
    "duration": 494,
    "start_time": "2021-07-08T13:49:50.850Z"
   },
   {
    "duration": 494,
    "start_time": "2021-07-08T13:49:51.347Z"
   },
   {
    "duration": 502,
    "start_time": "2021-07-08T13:49:51.844Z"
   },
   {
    "duration": 491,
    "start_time": "2021-07-08T13:49:52.348Z"
   },
   {
    "duration": 49,
    "start_time": "2021-07-08T13:49:52.841Z"
   },
   {
    "duration": 9,
    "start_time": "2021-07-08T13:49:52.892Z"
   },
   {
    "duration": 70,
    "start_time": "2021-07-08T13:49:52.903Z"
   },
   {
    "duration": 284,
    "start_time": "2021-07-08T13:49:52.976Z"
   },
   {
    "duration": 219,
    "start_time": "2021-07-08T13:49:53.264Z"
   },
   {
    "duration": 415,
    "start_time": "2021-07-08T13:49:53.486Z"
   },
   {
    "duration": 227,
    "start_time": "2021-07-08T13:49:53.904Z"
   },
   {
    "duration": 368,
    "start_time": "2021-07-08T13:49:54.134Z"
   },
   {
    "duration": 225,
    "start_time": "2021-07-08T13:49:54.504Z"
   },
   {
    "duration": 303,
    "start_time": "2021-07-08T13:49:54.731Z"
   },
   {
    "duration": 240,
    "start_time": "2021-07-08T13:49:55.036Z"
   },
   {
    "duration": 305,
    "start_time": "2021-07-08T13:49:55.279Z"
   },
   {
    "duration": 246,
    "start_time": "2021-07-08T13:49:55.586Z"
   },
   {
    "duration": 301,
    "start_time": "2021-07-08T13:49:55.835Z"
   },
   {
    "duration": 257,
    "start_time": "2021-07-08T13:49:56.139Z"
   },
   {
    "duration": 62,
    "start_time": "2021-07-08T13:49:56.399Z"
   },
   {
    "duration": 43,
    "start_time": "2021-07-08T13:49:56.464Z"
   },
   {
    "duration": 580,
    "start_time": "2021-07-08T13:49:56.509Z"
   },
   {
    "duration": 545,
    "start_time": "2021-07-08T13:49:57.092Z"
   },
   {
    "duration": 52,
    "start_time": "2021-07-08T13:49:57.640Z"
   },
   {
    "duration": 87,
    "start_time": "2021-07-08T13:51:19.779Z"
   },
   {
    "duration": 418,
    "start_time": "2021-07-08T13:53:08.760Z"
   },
   {
    "duration": 388,
    "start_time": "2021-07-08T13:53:18.856Z"
   },
   {
    "duration": 392,
    "start_time": "2021-07-08T14:04:55.588Z"
   },
   {
    "duration": 416,
    "start_time": "2021-07-08T14:06:35.162Z"
   },
   {
    "duration": 375,
    "start_time": "2021-07-08T14:07:01.598Z"
   },
   {
    "duration": 401,
    "start_time": "2021-07-08T14:09:03.116Z"
   },
   {
    "duration": 474,
    "start_time": "2021-07-08T14:09:53.705Z"
   },
   {
    "duration": 82,
    "start_time": "2021-07-08T14:11:31.555Z"
   },
   {
    "duration": 372,
    "start_time": "2021-07-08T14:12:06.073Z"
   },
   {
    "duration": 378,
    "start_time": "2021-07-08T14:15:40.293Z"
   },
   {
    "duration": 949,
    "start_time": "2021-07-08T14:19:28.331Z"
   },
   {
    "duration": 440,
    "start_time": "2021-07-08T14:19:59.644Z"
   },
   {
    "duration": 399,
    "start_time": "2021-07-08T14:20:24.470Z"
   },
   {
    "duration": 405,
    "start_time": "2021-07-08T14:23:30.885Z"
   },
   {
    "duration": 421,
    "start_time": "2021-07-08T14:23:36.936Z"
   },
   {
    "duration": 79,
    "start_time": "2021-07-08T14:26:12.245Z"
   },
   {
    "duration": 34,
    "start_time": "2021-07-08T14:26:12.327Z"
   },
   {
    "duration": 17,
    "start_time": "2021-07-08T14:26:12.364Z"
   },
   {
    "duration": 18,
    "start_time": "2021-07-08T14:26:12.384Z"
   },
   {
    "duration": 62,
    "start_time": "2021-07-08T14:26:12.404Z"
   },
   {
    "duration": 17,
    "start_time": "2021-07-08T14:26:12.469Z"
   },
   {
    "duration": 68,
    "start_time": "2021-07-08T14:26:12.488Z"
   },
   {
    "duration": 25,
    "start_time": "2021-07-08T14:26:12.558Z"
   },
   {
    "duration": 35,
    "start_time": "2021-07-08T14:26:12.588Z"
   },
   {
    "duration": 9,
    "start_time": "2021-07-08T14:26:12.655Z"
   },
   {
    "duration": 9,
    "start_time": "2021-07-08T14:26:12.666Z"
   },
   {
    "duration": 78,
    "start_time": "2021-07-08T14:26:12.677Z"
   },
   {
    "duration": 471,
    "start_time": "2021-07-08T14:26:12.757Z"
   },
   {
    "duration": 496,
    "start_time": "2021-07-08T14:26:13.230Z"
   },
   {
    "duration": 490,
    "start_time": "2021-07-08T14:26:13.729Z"
   },
   {
    "duration": 491,
    "start_time": "2021-07-08T14:26:14.222Z"
   },
   {
    "duration": 482,
    "start_time": "2021-07-08T14:26:14.715Z"
   },
   {
    "duration": 482,
    "start_time": "2021-07-08T14:26:15.199Z"
   },
   {
    "duration": 38,
    "start_time": "2021-07-08T14:26:15.683Z"
   },
   {
    "duration": 36,
    "start_time": "2021-07-08T14:26:15.724Z"
   },
   {
    "duration": 36,
    "start_time": "2021-07-08T14:26:15.763Z"
   },
   {
    "duration": 300,
    "start_time": "2021-07-08T14:26:15.802Z"
   },
   {
    "duration": 223,
    "start_time": "2021-07-08T14:26:16.105Z"
   },
   {
    "duration": 288,
    "start_time": "2021-07-08T14:26:16.331Z"
   },
   {
    "duration": 224,
    "start_time": "2021-07-08T14:26:16.621Z"
   },
   {
    "duration": 293,
    "start_time": "2021-07-08T14:26:16.847Z"
   },
   {
    "duration": 214,
    "start_time": "2021-07-08T14:26:17.154Z"
   },
   {
    "duration": 290,
    "start_time": "2021-07-08T14:26:17.371Z"
   },
   {
    "duration": 391,
    "start_time": "2021-07-08T14:26:17.663Z"
   },
   {
    "duration": 285,
    "start_time": "2021-07-08T14:26:18.057Z"
   },
   {
    "duration": 223,
    "start_time": "2021-07-08T14:26:18.344Z"
   },
   {
    "duration": 278,
    "start_time": "2021-07-08T14:26:18.570Z"
   },
   {
    "duration": 222,
    "start_time": "2021-07-08T14:26:18.855Z"
   },
   {
    "duration": 33,
    "start_time": "2021-07-08T14:26:19.079Z"
   },
   {
    "duration": 68,
    "start_time": "2021-07-08T14:26:19.114Z"
   },
   {
    "duration": 485,
    "start_time": "2021-07-08T14:26:19.186Z"
   },
   {
    "duration": 397,
    "start_time": "2021-07-08T14:26:19.675Z"
   },
   {
    "duration": 35,
    "start_time": "2021-07-08T14:26:20.075Z"
   },
   {
    "duration": 435,
    "start_time": "2021-07-08T14:26:20.112Z"
   },
   {
    "duration": 380,
    "start_time": "2021-07-08T14:26:20.550Z"
   },
   {
    "duration": 396,
    "start_time": "2021-07-08T14:26:20.932Z"
   },
   {
    "duration": 419,
    "start_time": "2021-07-08T14:26:21.330Z"
   },
   {
    "duration": 399,
    "start_time": "2021-07-08T14:26:21.755Z"
   },
   {
    "duration": 384,
    "start_time": "2021-07-08T14:26:22.156Z"
   },
   {
    "duration": 420,
    "start_time": "2021-07-08T14:26:22.554Z"
   },
   {
    "duration": 406,
    "start_time": "2021-07-08T14:26:22.976Z"
   },
   {
    "duration": 400,
    "start_time": "2021-07-08T14:26:23.384Z"
   },
   {
    "duration": 400,
    "start_time": "2021-07-08T14:26:23.786Z"
   },
   {
    "duration": 98,
    "start_time": "2021-07-08T14:43:35.805Z"
   },
   {
    "duration": 24,
    "start_time": "2021-07-08T14:48:08.879Z"
   },
   {
    "duration": 27,
    "start_time": "2021-07-08T14:49:45.956Z"
   },
   {
    "duration": 25,
    "start_time": "2021-07-08T14:50:14.590Z"
   },
   {
    "duration": 20,
    "start_time": "2021-07-08T14:50:36.119Z"
   },
   {
    "duration": 1112,
    "start_time": "2021-07-08T16:30:26.002Z"
   },
   {
    "duration": 17,
    "start_time": "2021-07-08T16:30:27.115Z"
   },
   {
    "duration": 10,
    "start_time": "2021-07-08T16:30:27.134Z"
   },
   {
    "duration": 13,
    "start_time": "2021-07-08T16:30:27.146Z"
   },
   {
    "duration": 20,
    "start_time": "2021-07-08T16:30:27.185Z"
   },
   {
    "duration": 10,
    "start_time": "2021-07-08T16:30:27.206Z"
   },
   {
    "duration": 28,
    "start_time": "2021-07-08T16:30:27.218Z"
   },
   {
    "duration": 43,
    "start_time": "2021-07-08T16:30:27.248Z"
   },
   {
    "duration": 23,
    "start_time": "2021-07-08T16:30:27.294Z"
   },
   {
    "duration": 5,
    "start_time": "2021-07-08T16:30:27.319Z"
   },
   {
    "duration": 6,
    "start_time": "2021-07-08T16:30:27.326Z"
   },
   {
    "duration": 56,
    "start_time": "2021-07-08T16:30:27.334Z"
   },
   {
    "duration": 317,
    "start_time": "2021-07-08T16:30:27.391Z"
   },
   {
    "duration": 293,
    "start_time": "2021-07-08T16:30:27.710Z"
   },
   {
    "duration": 303,
    "start_time": "2021-07-08T16:30:28.004Z"
   },
   {
    "duration": 301,
    "start_time": "2021-07-08T16:30:28.310Z"
   },
   {
    "duration": 299,
    "start_time": "2021-07-08T16:30:28.614Z"
   },
   {
    "duration": 299,
    "start_time": "2021-07-08T16:30:28.915Z"
   },
   {
    "duration": 23,
    "start_time": "2021-07-08T16:30:29.216Z"
   },
   {
    "duration": 6,
    "start_time": "2021-07-08T16:30:29.240Z"
   },
   {
    "duration": 48,
    "start_time": "2021-07-08T16:30:29.247Z"
   },
   {
    "duration": 195,
    "start_time": "2021-07-08T16:30:29.296Z"
   },
   {
    "duration": 135,
    "start_time": "2021-07-08T16:30:29.494Z"
   },
   {
    "duration": 174,
    "start_time": "2021-07-08T16:30:29.631Z"
   },
   {
    "duration": 201,
    "start_time": "2021-07-08T16:30:29.806Z"
   },
   {
    "duration": 195,
    "start_time": "2021-07-08T16:30:30.008Z"
   },
   {
    "duration": 142,
    "start_time": "2021-07-08T16:30:30.205Z"
   },
   {
    "duration": 167,
    "start_time": "2021-07-08T16:30:30.349Z"
   },
   {
    "duration": 137,
    "start_time": "2021-07-08T16:30:30.517Z"
   },
   {
    "duration": 185,
    "start_time": "2021-07-08T16:30:30.655Z"
   },
   {
    "duration": 134,
    "start_time": "2021-07-08T16:30:30.841Z"
   },
   {
    "duration": 176,
    "start_time": "2021-07-08T16:30:30.976Z"
   },
   {
    "duration": 138,
    "start_time": "2021-07-08T16:30:31.154Z"
   },
   {
    "duration": 20,
    "start_time": "2021-07-08T16:30:31.294Z"
   },
   {
    "duration": 21,
    "start_time": "2021-07-08T16:30:31.316Z"
   },
   {
    "duration": 354,
    "start_time": "2021-07-08T16:30:31.339Z"
   },
   {
    "duration": 291,
    "start_time": "2021-07-08T16:30:31.695Z"
   },
   {
    "duration": 20,
    "start_time": "2021-07-08T16:30:31.987Z"
   },
   {
    "duration": 295,
    "start_time": "2021-07-08T16:30:32.009Z"
   },
   {
    "duration": 264,
    "start_time": "2021-07-08T16:30:32.306Z"
   },
   {
    "duration": 313,
    "start_time": "2021-07-08T16:30:32.571Z"
   },
   {
    "duration": 308,
    "start_time": "2021-07-08T16:30:32.886Z"
   },
   {
    "duration": 397,
    "start_time": "2021-07-08T16:30:33.195Z"
   },
   {
    "duration": 294,
    "start_time": "2021-07-08T16:30:33.594Z"
   },
   {
    "duration": 318,
    "start_time": "2021-07-08T16:30:33.889Z"
   },
   {
    "duration": 308,
    "start_time": "2021-07-08T16:30:34.208Z"
   },
   {
    "duration": 298,
    "start_time": "2021-07-08T16:30:34.518Z"
   },
   {
    "duration": 288,
    "start_time": "2021-07-08T16:30:34.818Z"
   },
   {
    "duration": 13,
    "start_time": "2021-07-08T16:30:35.107Z"
   },
   {
    "duration": 13,
    "start_time": "2021-07-08T16:40:51.285Z"
   },
   {
    "duration": 3,
    "start_time": "2021-07-08T16:57:07.017Z"
   },
   {
    "duration": 259,
    "start_time": "2021-07-08T16:57:10.612Z"
   },
   {
    "duration": 711,
    "start_time": "2021-07-08T16:57:41.033Z"
   },
   {
    "duration": 761,
    "start_time": "2021-07-08T16:58:04.601Z"
   },
   {
    "duration": 22898,
    "start_time": "2021-07-08T17:01:22.322Z"
   },
   {
    "duration": 32,
    "start_time": "2021-07-08T17:08:06.251Z"
   },
   {
    "duration": 12,
    "start_time": "2021-07-08T17:08:42.217Z"
   },
   {
    "duration": 19,
    "start_time": "2021-07-08T17:10:00.744Z"
   },
   {
    "duration": 19,
    "start_time": "2021-07-08T17:11:19.216Z"
   },
   {
    "duration": 180,
    "start_time": "2021-07-08T17:13:07.925Z"
   },
   {
    "duration": 21,
    "start_time": "2021-07-08T17:13:19.809Z"
   },
   {
    "duration": 1255,
    "start_time": "2021-07-08T17:13:27.901Z"
   },
   {
    "duration": 751,
    "start_time": "2021-07-08T17:13:45.090Z"
   },
   {
    "duration": 19,
    "start_time": "2021-07-08T17:14:18.047Z"
   },
   {
    "duration": 17,
    "start_time": "2021-07-08T17:14:32.571Z"
   },
   {
    "duration": 54,
    "start_time": "2021-07-08T17:14:47.470Z"
   },
   {
    "duration": 16,
    "start_time": "2021-07-08T17:14:47.526Z"
   },
   {
    "duration": 11,
    "start_time": "2021-07-08T17:14:47.544Z"
   },
   {
    "duration": 38,
    "start_time": "2021-07-08T17:14:47.557Z"
   },
   {
    "duration": 19,
    "start_time": "2021-07-08T17:14:47.596Z"
   },
   {
    "duration": 11,
    "start_time": "2021-07-08T17:14:47.617Z"
   },
   {
    "duration": 58,
    "start_time": "2021-07-08T17:14:47.630Z"
   },
   {
    "duration": 17,
    "start_time": "2021-07-08T17:14:47.690Z"
   },
   {
    "duration": 22,
    "start_time": "2021-07-08T17:14:47.709Z"
   },
   {
    "duration": 6,
    "start_time": "2021-07-08T17:14:47.733Z"
   },
   {
    "duration": 48,
    "start_time": "2021-07-08T17:14:47.741Z"
   },
   {
    "duration": 29,
    "start_time": "2021-07-08T17:14:47.791Z"
   },
   {
    "duration": 302,
    "start_time": "2021-07-08T17:14:47.821Z"
   },
   {
    "duration": 288,
    "start_time": "2021-07-08T17:14:48.124Z"
   },
   {
    "duration": 298,
    "start_time": "2021-07-08T17:14:48.413Z"
   },
   {
    "duration": 291,
    "start_time": "2021-07-08T17:14:48.713Z"
   },
   {
    "duration": 289,
    "start_time": "2021-07-08T17:14:49.005Z"
   },
   {
    "duration": 301,
    "start_time": "2021-07-08T17:14:49.296Z"
   },
   {
    "duration": 23,
    "start_time": "2021-07-08T17:14:49.599Z"
   },
   {
    "duration": 6,
    "start_time": "2021-07-08T17:14:49.623Z"
   },
   {
    "duration": 22,
    "start_time": "2021-07-08T17:14:49.630Z"
   },
   {
    "duration": 197,
    "start_time": "2021-07-08T17:14:49.654Z"
   },
   {
    "duration": 137,
    "start_time": "2021-07-08T17:14:49.853Z"
   },
   {
    "duration": 170,
    "start_time": "2021-07-08T17:14:49.992Z"
   },
   {
    "duration": 222,
    "start_time": "2021-07-08T17:14:50.164Z"
   },
   {
    "duration": 172,
    "start_time": "2021-07-08T17:14:50.388Z"
   },
   {
    "duration": 139,
    "start_time": "2021-07-08T17:14:50.563Z"
   },
   {
    "duration": 174,
    "start_time": "2021-07-08T17:14:50.705Z"
   },
   {
    "duration": 128,
    "start_time": "2021-07-08T17:14:50.884Z"
   },
   {
    "duration": 184,
    "start_time": "2021-07-08T17:14:51.013Z"
   },
   {
    "duration": 132,
    "start_time": "2021-07-08T17:14:51.198Z"
   },
   {
    "duration": 163,
    "start_time": "2021-07-08T17:14:51.331Z"
   },
   {
    "duration": 130,
    "start_time": "2021-07-08T17:14:51.496Z"
   },
   {
    "duration": 19,
    "start_time": "2021-07-08T17:14:51.628Z"
   },
   {
    "duration": 37,
    "start_time": "2021-07-08T17:14:51.649Z"
   },
   {
    "duration": 303,
    "start_time": "2021-07-08T17:14:51.688Z"
   },
   {
    "duration": 278,
    "start_time": "2021-07-08T17:14:51.993Z"
   },
   {
    "duration": 27,
    "start_time": "2021-07-08T17:14:52.273Z"
   },
   {
    "duration": 292,
    "start_time": "2021-07-08T17:14:52.301Z"
   },
   {
    "duration": 278,
    "start_time": "2021-07-08T17:14:52.595Z"
   },
   {
    "duration": 295,
    "start_time": "2021-07-08T17:14:52.874Z"
   },
   {
    "duration": 316,
    "start_time": "2021-07-08T17:14:53.171Z"
   },
   {
    "duration": 288,
    "start_time": "2021-07-08T17:14:53.489Z"
   },
   {
    "duration": 300,
    "start_time": "2021-07-08T17:14:53.785Z"
   },
   {
    "duration": 316,
    "start_time": "2021-07-08T17:14:54.086Z"
   },
   {
    "duration": 298,
    "start_time": "2021-07-08T17:14:54.404Z"
   },
   {
    "duration": 290,
    "start_time": "2021-07-08T17:14:54.704Z"
   },
   {
    "duration": 403,
    "start_time": "2021-07-08T17:14:54.996Z"
   },
   {
    "duration": 12,
    "start_time": "2021-07-08T17:14:55.400Z"
   },
   {
    "duration": 16,
    "start_time": "2021-07-08T17:14:55.414Z"
   },
   {
    "duration": 16,
    "start_time": "2021-07-08T17:14:55.432Z"
   },
   {
    "duration": 136,
    "start_time": "2021-07-08T17:14:55.449Z"
   },
   {
    "duration": 2,
    "start_time": "2021-07-08T17:14:55.586Z"
   },
   {
    "duration": 16,
    "start_time": "2021-07-08T17:15:29.167Z"
   },
   {
    "duration": 123,
    "start_time": "2021-07-08T17:16:23.162Z"
   },
   {
    "duration": 344,
    "start_time": "2021-07-08T17:16:39.875Z"
   },
   {
    "duration": 107,
    "start_time": "2021-07-08T17:17:04.524Z"
   },
   {
    "duration": 171,
    "start_time": "2021-07-08T17:17:24.899Z"
   },
   {
    "duration": 16,
    "start_time": "2021-07-08T17:18:12.070Z"
   },
   {
    "duration": 14,
    "start_time": "2021-07-08T17:18:48.376Z"
   },
   {
    "duration": 13,
    "start_time": "2021-07-08T17:22:50.857Z"
   },
   {
    "duration": 118,
    "start_time": "2021-07-08T17:23:12.971Z"
   },
   {
    "duration": 310,
    "start_time": "2021-07-08T17:23:48.721Z"
   },
   {
    "duration": 157,
    "start_time": "2021-07-08T17:24:00.073Z"
   },
   {
    "duration": 125,
    "start_time": "2021-07-08T17:24:15.732Z"
   },
   {
    "duration": 129,
    "start_time": "2021-07-08T17:24:33.629Z"
   },
   {
    "duration": 145,
    "start_time": "2021-07-08T17:26:16.409Z"
   },
   {
    "duration": 14,
    "start_time": "2021-07-08T17:38:35.306Z"
   },
   {
    "duration": 228,
    "start_time": "2021-07-08T17:39:23.931Z"
   },
   {
    "duration": 13,
    "start_time": "2021-07-08T17:43:49.610Z"
   },
   {
    "duration": 190,
    "start_time": "2021-07-08T17:45:10.200Z"
   },
   {
    "duration": 13,
    "start_time": "2021-07-08T17:45:46.228Z"
   },
   {
    "duration": 140,
    "start_time": "2021-07-08T17:46:37.427Z"
   },
   {
    "duration": 216,
    "start_time": "2021-07-08T17:49:12.006Z"
   },
   {
    "duration": 195,
    "start_time": "2021-07-08T17:50:19.164Z"
   },
   {
    "duration": 14,
    "start_time": "2021-07-08T17:50:31.501Z"
   },
   {
    "duration": 224,
    "start_time": "2021-07-08T17:51:23.017Z"
   },
   {
    "duration": 14,
    "start_time": "2021-07-08T17:53:03.061Z"
   },
   {
    "duration": 18,
    "start_time": "2021-07-08T18:02:02.397Z"
   },
   {
    "duration": 153,
    "start_time": "2021-07-08T18:04:04.984Z"
   },
   {
    "duration": 13,
    "start_time": "2021-07-08T18:07:52.973Z"
   },
   {
    "duration": 59,
    "start_time": "2021-07-08T18:08:12.187Z"
   },
   {
    "duration": 219,
    "start_time": "2021-07-08T18:09:09.841Z"
   },
   {
    "duration": 21,
    "start_time": "2021-07-08T18:10:24.565Z"
   },
   {
    "duration": 1474,
    "start_time": "2021-07-09T12:35:16.569Z"
   },
   {
    "duration": 27,
    "start_time": "2021-07-09T12:35:18.045Z"
   },
   {
    "duration": 34,
    "start_time": "2021-07-09T12:35:18.075Z"
   },
   {
    "duration": 19,
    "start_time": "2021-07-09T12:35:18.111Z"
   },
   {
    "duration": 29,
    "start_time": "2021-07-09T12:35:18.132Z"
   },
   {
    "duration": 48,
    "start_time": "2021-07-09T12:35:18.163Z"
   },
   {
    "duration": 48,
    "start_time": "2021-07-09T12:35:18.213Z"
   },
   {
    "duration": 49,
    "start_time": "2021-07-09T12:35:18.264Z"
   },
   {
    "duration": 35,
    "start_time": "2021-07-09T12:35:18.316Z"
   },
   {
    "duration": 8,
    "start_time": "2021-07-09T12:35:18.353Z"
   },
   {
    "duration": 43,
    "start_time": "2021-07-09T12:35:18.364Z"
   },
   {
    "duration": 43,
    "start_time": "2021-07-09T12:35:18.409Z"
   },
   {
    "duration": 516,
    "start_time": "2021-07-09T12:35:18.455Z"
   },
   {
    "duration": 492,
    "start_time": "2021-07-09T12:35:18.973Z"
   },
   {
    "duration": 521,
    "start_time": "2021-07-09T12:35:19.468Z"
   },
   {
    "duration": 497,
    "start_time": "2021-07-09T12:35:19.999Z"
   },
   {
    "duration": 515,
    "start_time": "2021-07-09T12:35:20.501Z"
   },
   {
    "duration": 636,
    "start_time": "2021-07-09T12:35:21.018Z"
   },
   {
    "duration": 47,
    "start_time": "2021-07-09T12:35:21.656Z"
   },
   {
    "duration": 9,
    "start_time": "2021-07-09T12:35:21.705Z"
   },
   {
    "duration": 36,
    "start_time": "2021-07-09T12:35:21.716Z"
   },
   {
    "duration": 300,
    "start_time": "2021-07-09T12:35:21.755Z"
   },
   {
    "duration": 216,
    "start_time": "2021-07-09T12:35:22.061Z"
   },
   {
    "duration": 281,
    "start_time": "2021-07-09T12:35:22.281Z"
   },
   {
    "duration": 293,
    "start_time": "2021-07-09T12:35:22.564Z"
   },
   {
    "duration": 277,
    "start_time": "2021-07-09T12:35:22.859Z"
   },
   {
    "duration": 208,
    "start_time": "2021-07-09T12:35:23.138Z"
   },
   {
    "duration": 266,
    "start_time": "2021-07-09T12:35:23.349Z"
   },
   {
    "duration": 210,
    "start_time": "2021-07-09T12:35:23.617Z"
   },
   {
    "duration": 295,
    "start_time": "2021-07-09T12:35:23.829Z"
   },
   {
    "duration": 219,
    "start_time": "2021-07-09T12:35:24.126Z"
   },
   {
    "duration": 274,
    "start_time": "2021-07-09T12:35:24.348Z"
   },
   {
    "duration": 228,
    "start_time": "2021-07-09T12:35:24.624Z"
   },
   {
    "duration": 46,
    "start_time": "2021-07-09T12:35:24.854Z"
   },
   {
    "duration": 32,
    "start_time": "2021-07-09T12:35:24.903Z"
   },
   {
    "duration": 396,
    "start_time": "2021-07-09T12:35:24.938Z"
   },
   {
    "duration": 367,
    "start_time": "2021-07-09T12:35:25.336Z"
   },
   {
    "duration": 32,
    "start_time": "2021-07-09T12:35:25.705Z"
   },
   {
    "duration": 454,
    "start_time": "2021-07-09T12:35:25.739Z"
   },
   {
    "duration": 400,
    "start_time": "2021-07-09T12:35:26.200Z"
   },
   {
    "duration": 377,
    "start_time": "2021-07-09T12:35:26.604Z"
   },
   {
    "duration": 435,
    "start_time": "2021-07-09T12:35:26.984Z"
   },
   {
    "duration": 491,
    "start_time": "2021-07-09T12:35:27.422Z"
   },
   {
    "duration": 371,
    "start_time": "2021-07-09T12:35:27.915Z"
   },
   {
    "duration": 431,
    "start_time": "2021-07-09T12:35:28.289Z"
   },
   {
    "duration": 407,
    "start_time": "2021-07-09T12:35:28.722Z"
   },
   {
    "duration": 392,
    "start_time": "2021-07-09T12:35:29.131Z"
   },
   {
    "duration": 378,
    "start_time": "2021-07-09T12:35:29.526Z"
   },
   {
    "duration": 20,
    "start_time": "2021-07-09T12:35:29.907Z"
   },
   {
    "duration": 28,
    "start_time": "2021-07-09T12:35:29.930Z"
   },
   {
    "duration": 49,
    "start_time": "2021-07-09T12:35:29.961Z"
   },
   {
    "duration": 245,
    "start_time": "2021-07-09T12:35:30.013Z"
   },
   {
    "duration": 20,
    "start_time": "2021-07-09T12:35:30.261Z"
   },
   {
    "duration": 365,
    "start_time": "2021-07-09T12:35:30.301Z"
   },
   {
    "duration": 33,
    "start_time": "2021-07-09T12:35:30.668Z"
   },
   {
    "duration": 241,
    "start_time": "2021-07-09T12:35:30.704Z"
   },
   {
    "duration": 21,
    "start_time": "2021-07-09T12:35:30.949Z"
   },
   {
    "duration": 379,
    "start_time": "2021-07-09T12:35:30.972Z"
   },
   {
    "duration": 22,
    "start_time": "2021-07-09T12:35:31.355Z"
   },
   {
    "duration": 123,
    "start_time": "2021-07-09T12:35:31.402Z"
   },
   {
    "duration": 830,
    "start_time": "2021-07-09T12:35:30.698Z"
   },
   {
    "duration": 823,
    "start_time": "2021-07-09T12:35:30.707Z"
   },
   {
    "duration": 819,
    "start_time": "2021-07-09T12:35:30.714Z"
   },
   {
    "duration": 8,
    "start_time": "2021-07-09T12:55:38.390Z"
   },
   {
    "duration": 17,
    "start_time": "2021-07-09T12:56:27.002Z"
   },
   {
    "duration": 116,
    "start_time": "2021-07-09T12:56:41.391Z"
   },
   {
    "duration": 25,
    "start_time": "2021-07-09T12:56:41.510Z"
   },
   {
    "duration": 18,
    "start_time": "2021-07-09T12:56:41.538Z"
   },
   {
    "duration": 58,
    "start_time": "2021-07-09T12:56:41.559Z"
   },
   {
    "duration": 30,
    "start_time": "2021-07-09T12:56:41.620Z"
   },
   {
    "duration": 60,
    "start_time": "2021-07-09T12:56:41.652Z"
   },
   {
    "duration": 51,
    "start_time": "2021-07-09T12:56:41.715Z"
   },
   {
    "duration": 52,
    "start_time": "2021-07-09T12:56:41.770Z"
   },
   {
    "duration": 46,
    "start_time": "2021-07-09T12:56:41.825Z"
   },
   {
    "duration": 33,
    "start_time": "2021-07-09T12:56:41.873Z"
   },
   {
    "duration": 26,
    "start_time": "2021-07-09T12:56:41.909Z"
   },
   {
    "duration": 56,
    "start_time": "2021-07-09T12:56:41.938Z"
   },
   {
    "duration": 519,
    "start_time": "2021-07-09T12:56:41.996Z"
   },
   {
    "duration": 498,
    "start_time": "2021-07-09T12:56:42.518Z"
   },
   {
    "duration": 630,
    "start_time": "2021-07-09T12:56:43.018Z"
   },
   {
    "duration": 502,
    "start_time": "2021-07-09T12:56:43.651Z"
   },
   {
    "duration": 658,
    "start_time": "2021-07-09T12:56:44.156Z"
   },
   {
    "duration": 483,
    "start_time": "2021-07-09T12:56:44.817Z"
   },
   {
    "duration": 35,
    "start_time": "2021-07-09T12:56:45.302Z"
   },
   {
    "duration": 9,
    "start_time": "2021-07-09T12:56:45.339Z"
   },
   {
    "duration": 75,
    "start_time": "2021-07-09T12:56:45.351Z"
   },
   {
    "duration": 425,
    "start_time": "2021-07-09T12:56:45.429Z"
   },
   {
    "duration": 326,
    "start_time": "2021-07-09T12:56:45.863Z"
   },
   {
    "duration": 405,
    "start_time": "2021-07-09T12:56:46.202Z"
   },
   {
    "duration": 317,
    "start_time": "2021-07-09T12:56:46.610Z"
   },
   {
    "duration": 418,
    "start_time": "2021-07-09T12:56:46.930Z"
   },
   {
    "duration": 226,
    "start_time": "2021-07-09T12:56:47.351Z"
   },
   {
    "duration": 290,
    "start_time": "2021-07-09T12:56:47.579Z"
   },
   {
    "duration": 217,
    "start_time": "2021-07-09T12:56:47.871Z"
   },
   {
    "duration": 291,
    "start_time": "2021-07-09T12:56:48.091Z"
   },
   {
    "duration": 364,
    "start_time": "2021-07-09T12:56:48.384Z"
   },
   {
    "duration": 297,
    "start_time": "2021-07-09T12:56:48.750Z"
   },
   {
    "duration": 237,
    "start_time": "2021-07-09T12:56:49.050Z"
   },
   {
    "duration": 47,
    "start_time": "2021-07-09T12:56:49.302Z"
   },
   {
    "duration": 54,
    "start_time": "2021-07-09T12:56:49.352Z"
   },
   {
    "duration": 439,
    "start_time": "2021-07-09T12:56:49.409Z"
   },
   {
    "duration": 402,
    "start_time": "2021-07-09T12:56:49.850Z"
   },
   {
    "duration": 48,
    "start_time": "2021-07-09T12:56:50.255Z"
   },
   {
    "duration": 398,
    "start_time": "2021-07-09T12:56:50.305Z"
   },
   {
    "duration": 380,
    "start_time": "2021-07-09T12:56:50.706Z"
   },
   {
    "duration": 379,
    "start_time": "2021-07-09T12:56:51.089Z"
   },
   {
    "duration": 411,
    "start_time": "2021-07-09T12:56:51.471Z"
   },
   {
    "duration": 396,
    "start_time": "2021-07-09T12:56:51.885Z"
   },
   {
    "duration": 394,
    "start_time": "2021-07-09T12:56:52.284Z"
   },
   {
    "duration": 423,
    "start_time": "2021-07-09T12:56:52.681Z"
   },
   {
    "duration": 410,
    "start_time": "2021-07-09T12:56:53.107Z"
   },
   {
    "duration": 388,
    "start_time": "2021-07-09T12:56:53.520Z"
   },
   {
    "duration": 402,
    "start_time": "2021-07-09T12:56:53.910Z"
   },
   {
    "duration": 19,
    "start_time": "2021-07-09T12:56:54.315Z"
   },
   {
    "duration": 44,
    "start_time": "2021-07-09T12:56:54.336Z"
   },
   {
    "duration": 39,
    "start_time": "2021-07-09T12:56:54.383Z"
   },
   {
    "duration": 231,
    "start_time": "2021-07-09T12:56:54.425Z"
   },
   {
    "duration": 20,
    "start_time": "2021-07-09T12:56:54.659Z"
   },
   {
    "duration": 470,
    "start_time": "2021-07-09T12:56:54.681Z"
   },
   {
    "duration": 26,
    "start_time": "2021-07-09T12:56:55.155Z"
   },
   {
    "duration": 348,
    "start_time": "2021-07-09T12:56:55.202Z"
   },
   {
    "duration": 27,
    "start_time": "2021-07-09T12:56:55.553Z"
   },
   {
    "duration": 528,
    "start_time": "2021-07-09T12:56:55.583Z"
   },
   {
    "duration": 20,
    "start_time": "2021-07-09T12:56:56.114Z"
   },
   {
    "duration": 91,
    "start_time": "2021-07-09T12:56:56.137Z"
   },
   {
    "duration": 845,
    "start_time": "2021-07-09T12:56:55.386Z"
   },
   {
    "duration": 839,
    "start_time": "2021-07-09T12:56:55.394Z"
   },
   {
    "duration": 833,
    "start_time": "2021-07-09T12:56:55.402Z"
   },
   {
    "duration": 828,
    "start_time": "2021-07-09T12:56:55.409Z"
   },
   {
    "duration": 821,
    "start_time": "2021-07-09T12:56:55.417Z"
   },
   {
    "duration": 815,
    "start_time": "2021-07-09T12:56:55.425Z"
   },
   {
    "duration": 385,
    "start_time": "2021-07-09T12:57:23.863Z"
   },
   {
    "duration": 21,
    "start_time": "2021-07-09T12:57:26.575Z"
   },
   {
    "duration": 369,
    "start_time": "2021-07-09T12:57:29.380Z"
   },
   {
    "duration": 7,
    "start_time": "2021-07-09T12:57:37.153Z"
   },
   {
    "duration": 7,
    "start_time": "2021-07-09T12:59:24.158Z"
   },
   {
    "duration": 28,
    "start_time": "2021-07-09T13:00:20.569Z"
   },
   {
    "duration": 92,
    "start_time": "2021-07-09T13:11:38.409Z"
   },
   {
    "duration": 720,
    "start_time": "2021-07-09T13:12:01.382Z"
   },
   {
    "duration": 50,
    "start_time": "2021-07-09T13:12:35.340Z"
   },
   {
    "duration": 353,
    "start_time": "2021-07-09T13:23:41.448Z"
   },
   {
    "duration": 2932,
    "start_time": "2021-07-09T13:27:25.157Z"
   },
   {
    "duration": 2029,
    "start_time": "2021-07-09T13:28:53.416Z"
   },
   {
    "duration": 1851,
    "start_time": "2021-07-09T13:29:39.398Z"
   },
   {
    "duration": 292,
    "start_time": "2021-07-09T13:30:36.277Z"
   },
   {
    "duration": 296,
    "start_time": "2021-07-09T13:31:12.049Z"
   },
   {
    "duration": 51,
    "start_time": "2021-07-09T13:31:52.477Z"
   },
   {
    "duration": 66,
    "start_time": "2021-07-09T13:32:22.077Z"
   },
   {
    "duration": 509,
    "start_time": "2021-07-09T13:33:26.914Z"
   },
   {
    "duration": 34800,
    "start_time": "2021-07-09T13:34:27.235Z"
   },
   {
    "duration": 7054,
    "start_time": "2021-07-09T13:37:36.609Z"
   },
   {
    "duration": 6,
    "start_time": "2021-07-09T13:38:28.771Z"
   },
   {
    "duration": 116,
    "start_time": "2021-07-09T13:42:20.022Z"
   },
   {
    "duration": 219,
    "start_time": "2021-07-09T13:42:55.214Z"
   },
   {
    "duration": 241,
    "start_time": "2021-07-09T13:45:49.037Z"
   },
   {
    "duration": 294,
    "start_time": "2021-07-09T13:46:21.498Z"
   },
   {
    "duration": 737,
    "start_time": "2021-07-09T13:50:01.471Z"
   },
   {
    "duration": 226,
    "start_time": "2021-07-09T13:50:19.115Z"
   },
   {
    "duration": 8,
    "start_time": "2021-07-09T14:10:25.820Z"
   },
   {
    "duration": 6,
    "start_time": "2021-07-09T14:15:19.593Z"
   },
   {
    "duration": 36,
    "start_time": "2021-07-09T15:10:00.269Z"
   },
   {
    "duration": 37,
    "start_time": "2021-07-09T15:10:43.586Z"
   },
   {
    "duration": 36,
    "start_time": "2021-07-09T15:11:04.986Z"
   },
   {
    "duration": 32,
    "start_time": "2021-07-09T15:11:18.044Z"
   },
   {
    "duration": 7,
    "start_time": "2021-07-09T15:16:41.986Z"
   },
   {
    "duration": 6,
    "start_time": "2021-07-09T15:19:33.965Z"
   },
   {
    "duration": 1518,
    "start_time": "2021-07-09T15:54:20.679Z"
   },
   {
    "duration": 29,
    "start_time": "2021-07-09T15:54:22.200Z"
   },
   {
    "duration": 17,
    "start_time": "2021-07-09T15:54:22.232Z"
   },
   {
    "duration": 49,
    "start_time": "2021-07-09T15:54:22.252Z"
   },
   {
    "duration": 31,
    "start_time": "2021-07-09T15:54:22.303Z"
   },
   {
    "duration": 17,
    "start_time": "2021-07-09T15:54:22.337Z"
   },
   {
    "duration": 77,
    "start_time": "2021-07-09T15:54:22.357Z"
   },
   {
    "duration": 26,
    "start_time": "2021-07-09T15:54:22.439Z"
   },
   {
    "duration": 69,
    "start_time": "2021-07-09T15:54:22.468Z"
   },
   {
    "duration": 8,
    "start_time": "2021-07-09T15:54:22.540Z"
   },
   {
    "duration": 13,
    "start_time": "2021-07-09T15:54:22.550Z"
   },
   {
    "duration": 75,
    "start_time": "2021-07-09T15:54:22.565Z"
   },
   {
    "duration": 492,
    "start_time": "2021-07-09T15:54:22.643Z"
   },
   {
    "duration": 504,
    "start_time": "2021-07-09T15:54:23.138Z"
   },
   {
    "duration": 472,
    "start_time": "2021-07-09T15:54:23.644Z"
   },
   {
    "duration": 488,
    "start_time": "2021-07-09T15:54:24.118Z"
   },
   {
    "duration": 476,
    "start_time": "2021-07-09T15:54:24.609Z"
   },
   {
    "duration": 492,
    "start_time": "2021-07-09T15:54:25.088Z"
   },
   {
    "duration": 49,
    "start_time": "2021-07-09T15:54:25.583Z"
   },
   {
    "duration": 9,
    "start_time": "2021-07-09T15:54:25.634Z"
   },
   {
    "duration": 64,
    "start_time": "2021-07-09T15:54:25.646Z"
   },
   {
    "duration": 289,
    "start_time": "2021-07-09T15:54:25.713Z"
   },
   {
    "duration": 217,
    "start_time": "2021-07-09T15:54:26.009Z"
   },
   {
    "duration": 283,
    "start_time": "2021-07-09T15:54:26.230Z"
   },
   {
    "duration": 302,
    "start_time": "2021-07-09T15:54:26.516Z"
   },
   {
    "duration": 301,
    "start_time": "2021-07-09T15:54:26.820Z"
   },
   {
    "duration": 289,
    "start_time": "2021-07-09T15:54:27.124Z"
   },
   {
    "duration": 286,
    "start_time": "2021-07-09T15:54:27.417Z"
   },
   {
    "duration": 217,
    "start_time": "2021-07-09T15:54:27.705Z"
   },
   {
    "duration": 305,
    "start_time": "2021-07-09T15:54:27.925Z"
   },
   {
    "duration": 236,
    "start_time": "2021-07-09T15:54:28.232Z"
   },
   {
    "duration": 282,
    "start_time": "2021-07-09T15:54:28.471Z"
   },
   {
    "duration": 220,
    "start_time": "2021-07-09T15:54:28.756Z"
   },
   {
    "duration": 44,
    "start_time": "2021-07-09T15:54:28.979Z"
   },
   {
    "duration": 34,
    "start_time": "2021-07-09T15:54:29.025Z"
   },
   {
    "duration": 438,
    "start_time": "2021-07-09T15:54:29.062Z"
   },
   {
    "duration": 382,
    "start_time": "2021-07-09T15:54:29.503Z"
   },
   {
    "duration": 44,
    "start_time": "2021-07-09T15:54:29.888Z"
   },
   {
    "duration": 416,
    "start_time": "2021-07-09T15:54:29.935Z"
   },
   {
    "duration": 412,
    "start_time": "2021-07-09T15:54:30.354Z"
   },
   {
    "duration": 402,
    "start_time": "2021-07-09T15:54:30.768Z"
   },
   {
    "duration": 437,
    "start_time": "2021-07-09T15:54:31.172Z"
   },
   {
    "duration": 491,
    "start_time": "2021-07-09T15:54:31.612Z"
   },
   {
    "duration": 421,
    "start_time": "2021-07-09T15:54:32.105Z"
   },
   {
    "duration": 441,
    "start_time": "2021-07-09T15:54:32.529Z"
   },
   {
    "duration": 450,
    "start_time": "2021-07-09T15:54:32.972Z"
   },
   {
    "duration": 414,
    "start_time": "2021-07-09T15:54:33.424Z"
   },
   {
    "duration": 411,
    "start_time": "2021-07-09T15:54:33.841Z"
   },
   {
    "duration": 19,
    "start_time": "2021-07-09T15:54:34.255Z"
   },
   {
    "duration": 47,
    "start_time": "2021-07-09T15:54:34.277Z"
   },
   {
    "duration": 7,
    "start_time": "2021-07-09T15:54:34.326Z"
   },
   {
    "duration": 78,
    "start_time": "2021-07-09T15:54:34.336Z"
   },
   {
    "duration": 20,
    "start_time": "2021-07-09T15:54:34.417Z"
   },
   {
    "duration": 256,
    "start_time": "2021-07-09T15:54:34.439Z"
   },
   {
    "duration": 21,
    "start_time": "2021-07-09T15:54:34.701Z"
   },
   {
    "duration": 390,
    "start_time": "2021-07-09T15:54:34.724Z"
   },
   {
    "duration": 247,
    "start_time": "2021-07-09T15:54:35.117Z"
   },
   {
    "duration": 35,
    "start_time": "2021-07-09T15:54:35.367Z"
   },
   {
    "duration": 252,
    "start_time": "2021-07-09T15:54:35.405Z"
   },
   {
    "duration": 22,
    "start_time": "2021-07-09T15:54:35.660Z"
   },
   {
    "duration": 493,
    "start_time": "2021-07-09T15:54:35.702Z"
   },
   {
    "duration": 260,
    "start_time": "2021-07-09T15:54:36.202Z"
   },
   {
    "duration": 37,
    "start_time": "2021-07-09T15:54:36.465Z"
   },
   {
    "duration": 259,
    "start_time": "2021-07-09T15:54:36.504Z"
   },
   {
    "duration": 20,
    "start_time": "2021-07-09T15:54:36.766Z"
   },
   {
    "duration": 472,
    "start_time": "2021-07-09T15:54:36.801Z"
   },
   {
    "duration": 248,
    "start_time": "2021-07-09T15:54:37.276Z"
   },
   {
    "duration": 7,
    "start_time": "2021-07-09T15:54:37.532Z"
   },
   {
    "duration": 8,
    "start_time": "2021-07-09T15:54:37.542Z"
   },
   {
    "duration": 63,
    "start_time": "2021-07-09T15:54:37.553Z"
   },
   {
    "duration": 36,
    "start_time": "2021-07-09T15:54:37.619Z"
   },
   {
    "duration": 7,
    "start_time": "2021-07-09T15:54:37.657Z"
   },
   {
    "duration": 39,
    "start_time": "2021-07-09T15:54:37.666Z"
   },
   {
    "duration": 18290,
    "start_time": "2021-07-09T16:25:57.962Z"
   },
   {
    "duration": 1402,
    "start_time": "2021-07-09T16:29:18.629Z"
   },
   {
    "duration": 18569,
    "start_time": "2021-07-09T16:29:20.034Z"
   },
   {
    "duration": 30,
    "start_time": "2021-07-09T16:29:38.606Z"
   },
   {
    "duration": 16,
    "start_time": "2021-07-09T16:29:38.638Z"
   },
   {
    "duration": 48,
    "start_time": "2021-07-09T16:29:38.657Z"
   },
   {
    "duration": 29,
    "start_time": "2021-07-09T16:29:38.707Z"
   },
   {
    "duration": 17,
    "start_time": "2021-07-09T16:29:38.738Z"
   },
   {
    "duration": 77,
    "start_time": "2021-07-09T16:29:38.757Z"
   },
   {
    "duration": 27,
    "start_time": "2021-07-09T16:29:38.838Z"
   },
   {
    "duration": 60,
    "start_time": "2021-07-09T16:29:38.868Z"
   },
   {
    "duration": 13,
    "start_time": "2021-07-09T16:29:38.930Z"
   },
   {
    "duration": 14,
    "start_time": "2021-07-09T16:29:38.946Z"
   },
   {
    "duration": 77,
    "start_time": "2021-07-09T16:29:38.963Z"
   },
   {
    "duration": 461,
    "start_time": "2021-07-09T16:29:39.042Z"
   },
   {
    "duration": 430,
    "start_time": "2021-07-09T16:29:39.506Z"
   },
   {
    "duration": 446,
    "start_time": "2021-07-09T16:29:39.939Z"
   },
   {
    "duration": 441,
    "start_time": "2021-07-09T16:29:40.388Z"
   },
   {
    "duration": 451,
    "start_time": "2021-07-09T16:29:40.832Z"
   },
   {
    "duration": 449,
    "start_time": "2021-07-09T16:29:41.285Z"
   },
   {
    "duration": 36,
    "start_time": "2021-07-09T16:29:41.737Z"
   },
   {
    "duration": 30,
    "start_time": "2021-07-09T16:29:41.776Z"
   },
   {
    "duration": 55,
    "start_time": "2021-07-09T16:29:41.809Z"
   },
   {
    "duration": 286,
    "start_time": "2021-07-09T16:29:41.866Z"
   },
   {
    "duration": 237,
    "start_time": "2021-07-09T16:29:42.154Z"
   },
   {
    "duration": 278,
    "start_time": "2021-07-09T16:29:42.401Z"
   },
   {
    "duration": 304,
    "start_time": "2021-07-09T16:29:42.683Z"
   },
   {
    "duration": 274,
    "start_time": "2021-07-09T16:29:43.005Z"
   },
   {
    "duration": 224,
    "start_time": "2021-07-09T16:29:43.282Z"
   },
   {
    "duration": 290,
    "start_time": "2021-07-09T16:29:43.508Z"
   },
   {
    "duration": 225,
    "start_time": "2021-07-09T16:29:43.801Z"
   },
   {
    "duration": 289,
    "start_time": "2021-07-09T16:29:44.028Z"
   },
   {
    "duration": 226,
    "start_time": "2021-07-09T16:29:44.320Z"
   },
   {
    "duration": 286,
    "start_time": "2021-07-09T16:29:44.548Z"
   },
   {
    "duration": 224,
    "start_time": "2021-07-09T16:29:44.837Z"
   },
   {
    "duration": 45,
    "start_time": "2021-07-09T16:29:45.063Z"
   },
   {
    "duration": 34,
    "start_time": "2021-07-09T16:29:45.110Z"
   },
   {
    "duration": 513,
    "start_time": "2021-07-09T16:29:45.146Z"
   },
   {
    "duration": 418,
    "start_time": "2021-07-09T16:29:45.662Z"
   },
   {
    "duration": 43,
    "start_time": "2021-07-09T16:29:46.083Z"
   },
   {
    "duration": 419,
    "start_time": "2021-07-09T16:29:46.129Z"
   },
   {
    "duration": 428,
    "start_time": "2021-07-09T16:29:46.551Z"
   },
   {
    "duration": 403,
    "start_time": "2021-07-09T16:29:46.982Z"
   },
   {
    "duration": 495,
    "start_time": "2021-07-09T16:29:47.388Z"
   },
   {
    "duration": 401,
    "start_time": "2021-07-09T16:29:47.885Z"
   },
   {
    "duration": 400,
    "start_time": "2021-07-09T16:29:48.288Z"
   },
   {
    "duration": 418,
    "start_time": "2021-07-09T16:29:48.691Z"
   },
   {
    "duration": 401,
    "start_time": "2021-07-09T16:29:49.112Z"
   },
   {
    "duration": 388,
    "start_time": "2021-07-09T16:29:49.515Z"
   },
   {
    "duration": 406,
    "start_time": "2021-07-09T16:29:49.906Z"
   },
   {
    "duration": 19,
    "start_time": "2021-07-09T16:29:50.315Z"
   },
   {
    "duration": 29,
    "start_time": "2021-07-09T16:29:50.336Z"
   },
   {
    "duration": 34,
    "start_time": "2021-07-09T16:29:50.367Z"
   },
   {
    "duration": 52,
    "start_time": "2021-07-09T16:29:50.404Z"
   },
   {
    "duration": 41,
    "start_time": "2021-07-09T16:29:50.459Z"
   },
   {
    "duration": 243,
    "start_time": "2021-07-09T16:29:50.503Z"
   },
   {
    "duration": 20,
    "start_time": "2021-07-09T16:29:50.749Z"
   },
   {
    "duration": 349,
    "start_time": "2021-07-09T16:29:50.771Z"
   },
   {
    "duration": 235,
    "start_time": "2021-07-09T16:29:51.122Z"
   },
   {
    "duration": 21,
    "start_time": "2021-07-09T16:29:51.360Z"
   },
   {
    "duration": 239,
    "start_time": "2021-07-09T16:29:51.402Z"
   },
   {
    "duration": 19,
    "start_time": "2021-07-09T16:29:51.644Z"
   },
   {
    "duration": 360,
    "start_time": "2021-07-09T16:29:51.665Z"
   },
   {
    "duration": 245,
    "start_time": "2021-07-09T16:29:52.028Z"
   },
   {
    "duration": 33,
    "start_time": "2021-07-09T16:29:52.275Z"
   },
   {
    "duration": 332,
    "start_time": "2021-07-09T16:29:52.310Z"
   },
   {
    "duration": 20,
    "start_time": "2021-07-09T16:29:52.645Z"
   },
   {
    "duration": 355,
    "start_time": "2021-07-09T16:29:52.668Z"
   },
   {
    "duration": 241,
    "start_time": "2021-07-09T16:29:53.026Z"
   },
   {
    "duration": 7,
    "start_time": "2021-07-09T16:29:53.269Z"
   },
   {
    "duration": 25,
    "start_time": "2021-07-09T16:29:53.279Z"
   },
   {
    "duration": 35,
    "start_time": "2021-07-09T16:29:53.306Z"
   },
   {
    "duration": 65,
    "start_time": "2021-07-09T16:29:53.344Z"
   },
   {
    "duration": 7,
    "start_time": "2021-07-09T16:29:53.412Z"
   },
   {
    "duration": 10,
    "start_time": "2021-07-09T16:29:53.422Z"
   },
   {
    "duration": 78,
    "start_time": "2021-07-09T16:31:03.609Z"
   },
   {
    "duration": 18235,
    "start_time": "2021-07-09T16:31:03.701Z"
   },
   {
    "duration": 30,
    "start_time": "2021-07-09T16:31:21.940Z"
   },
   {
    "duration": 18,
    "start_time": "2021-07-09T16:31:21.972Z"
   },
   {
    "duration": 19,
    "start_time": "2021-07-09T16:31:21.993Z"
   },
   {
    "duration": 30,
    "start_time": "2021-07-09T16:31:22.014Z"
   },
   {
    "duration": 16,
    "start_time": "2021-07-09T16:31:22.046Z"
   },
   {
    "duration": 78,
    "start_time": "2021-07-09T16:31:22.065Z"
   },
   {
    "duration": 52,
    "start_time": "2021-07-09T16:31:22.148Z"
   },
   {
    "duration": 39,
    "start_time": "2021-07-09T16:31:22.203Z"
   },
   {
    "duration": 11,
    "start_time": "2021-07-09T16:31:22.245Z"
   },
   {
    "duration": 49,
    "start_time": "2021-07-09T16:31:22.258Z"
   },
   {
    "duration": 48,
    "start_time": "2021-07-09T16:31:22.310Z"
   },
   {
    "duration": 496,
    "start_time": "2021-07-09T16:31:22.361Z"
   },
   {
    "duration": 567,
    "start_time": "2021-07-09T16:31:22.859Z"
   },
   {
    "duration": 465,
    "start_time": "2021-07-09T16:31:23.428Z"
   },
   {
    "duration": 473,
    "start_time": "2021-07-09T16:31:23.895Z"
   },
   {
    "duration": 481,
    "start_time": "2021-07-09T16:31:24.370Z"
   },
   {
    "duration": 462,
    "start_time": "2021-07-09T16:31:24.854Z"
   },
   {
    "duration": 36,
    "start_time": "2021-07-09T16:31:25.318Z"
   },
   {
    "duration": 9,
    "start_time": "2021-07-09T16:31:25.356Z"
   },
   {
    "duration": 65,
    "start_time": "2021-07-09T16:31:25.367Z"
   },
   {
    "duration": 280,
    "start_time": "2021-07-09T16:31:25.438Z"
   },
   {
    "duration": 221,
    "start_time": "2021-07-09T16:31:25.721Z"
   },
   {
    "duration": 414,
    "start_time": "2021-07-09T16:31:25.945Z"
   },
   {
    "duration": 228,
    "start_time": "2021-07-09T16:31:26.361Z"
   },
   {
    "duration": 305,
    "start_time": "2021-07-09T16:31:26.591Z"
   },
   {
    "duration": 227,
    "start_time": "2021-07-09T16:31:26.901Z"
   },
   {
    "duration": 322,
    "start_time": "2021-07-09T16:31:27.131Z"
   },
   {
    "duration": 214,
    "start_time": "2021-07-09T16:31:27.455Z"
   },
   {
    "duration": 304,
    "start_time": "2021-07-09T16:31:27.671Z"
   },
   {
    "duration": 223,
    "start_time": "2021-07-09T16:31:27.978Z"
   },
   {
    "duration": 304,
    "start_time": "2021-07-09T16:31:28.204Z"
   },
   {
    "duration": 229,
    "start_time": "2021-07-09T16:31:28.510Z"
   },
   {
    "duration": 33,
    "start_time": "2021-07-09T16:31:28.741Z"
   },
   {
    "duration": 36,
    "start_time": "2021-07-09T16:31:28.800Z"
   },
   {
    "duration": 537,
    "start_time": "2021-07-09T16:31:28.839Z"
   },
   {
    "duration": 401,
    "start_time": "2021-07-09T16:31:29.378Z"
   },
   {
    "duration": 49,
    "start_time": "2021-07-09T16:31:29.781Z"
   },
   {
    "duration": 455,
    "start_time": "2021-07-09T16:31:29.833Z"
   },
   {
    "duration": 379,
    "start_time": "2021-07-09T16:31:30.299Z"
   },
   {
    "duration": 405,
    "start_time": "2021-07-09T16:31:30.682Z"
   },
   {
    "duration": 402,
    "start_time": "2021-07-09T16:31:31.101Z"
   },
   {
    "duration": 379,
    "start_time": "2021-07-09T16:31:31.505Z"
   },
   {
    "duration": 396,
    "start_time": "2021-07-09T16:31:31.887Z"
   },
   {
    "duration": 430,
    "start_time": "2021-07-09T16:31:32.285Z"
   },
   {
    "duration": 394,
    "start_time": "2021-07-09T16:31:32.718Z"
   },
   {
    "duration": 577,
    "start_time": "2021-07-09T16:31:33.114Z"
   },
   {
    "duration": 399,
    "start_time": "2021-07-09T16:31:33.701Z"
   },
   {
    "duration": 19,
    "start_time": "2021-07-09T16:31:34.103Z"
   },
   {
    "duration": 30,
    "start_time": "2021-07-09T16:31:34.124Z"
   },
   {
    "duration": 7,
    "start_time": "2021-07-09T16:31:34.156Z"
   },
   {
    "duration": 52,
    "start_time": "2021-07-09T16:31:34.201Z"
   },
   {
    "duration": 20,
    "start_time": "2021-07-09T16:31:34.255Z"
   },
   {
    "duration": 240,
    "start_time": "2021-07-09T16:31:34.301Z"
   },
   {
    "duration": 21,
    "start_time": "2021-07-09T16:31:34.544Z"
   },
   {
    "duration": 375,
    "start_time": "2021-07-09T16:31:34.568Z"
   },
   {
    "duration": 245,
    "start_time": "2021-07-09T16:31:34.945Z"
   },
   {
    "duration": 25,
    "start_time": "2021-07-09T16:31:35.192Z"
   },
   {
    "duration": 245,
    "start_time": "2021-07-09T16:31:35.220Z"
   },
   {
    "duration": 35,
    "start_time": "2021-07-09T16:31:35.468Z"
   },
   {
    "duration": 348,
    "start_time": "2021-07-09T16:31:35.506Z"
   },
   {
    "duration": 254,
    "start_time": "2021-07-09T16:31:35.856Z"
   },
   {
    "duration": 20,
    "start_time": "2021-07-09T16:31:36.113Z"
   },
   {
    "duration": 260,
    "start_time": "2021-07-09T16:31:36.136Z"
   },
   {
    "duration": 21,
    "start_time": "2021-07-09T16:31:36.401Z"
   },
   {
    "duration": 367,
    "start_time": "2021-07-09T16:31:36.424Z"
   },
   {
    "duration": 245,
    "start_time": "2021-07-09T16:31:36.802Z"
   },
   {
    "duration": 7,
    "start_time": "2021-07-09T16:31:37.050Z"
   },
   {
    "duration": 12,
    "start_time": "2021-07-09T16:31:37.060Z"
   },
   {
    "duration": 62,
    "start_time": "2021-07-09T16:31:37.074Z"
   },
   {
    "duration": 62,
    "start_time": "2021-07-09T16:31:37.139Z"
   },
   {
    "duration": 7,
    "start_time": "2021-07-09T16:31:37.204Z"
   },
   {
    "duration": 13,
    "start_time": "2021-07-09T16:31:37.214Z"
   },
   {
    "duration": 2314,
    "start_time": "2021-07-09T16:43:35.086Z"
   },
   {
    "duration": 868,
    "start_time": "2021-07-09T16:44:27.097Z"
   },
   {
    "duration": 90,
    "start_time": "2021-07-09T17:04:41.123Z"
   },
   {
    "duration": 96,
    "start_time": "2021-07-09T17:14:40.678Z"
   },
   {
    "duration": 1553,
    "start_time": "2021-07-10T10:00:22.890Z"
   },
   {
    "duration": 1239,
    "start_time": "2021-07-10T10:00:36.907Z"
   },
   {
    "duration": 3,
    "start_time": "2021-07-10T10:00:38.148Z"
   },
   {
    "duration": 46,
    "start_time": "2021-07-10T10:00:38.154Z"
   },
   {
    "duration": 16,
    "start_time": "2021-07-10T10:00:38.203Z"
   },
   {
    "duration": 20,
    "start_time": "2021-07-10T10:00:38.221Z"
   },
   {
    "duration": 59,
    "start_time": "2021-07-10T10:00:38.243Z"
   },
   {
    "duration": 17,
    "start_time": "2021-07-10T10:00:38.304Z"
   },
   {
    "duration": 43,
    "start_time": "2021-07-10T10:00:38.325Z"
   },
   {
    "duration": 51,
    "start_time": "2021-07-10T10:00:38.372Z"
   },
   {
    "duration": 34,
    "start_time": "2021-07-10T10:00:38.425Z"
   },
   {
    "duration": 8,
    "start_time": "2021-07-10T10:00:38.461Z"
   },
   {
    "duration": 9,
    "start_time": "2021-07-10T10:00:38.501Z"
   },
   {
    "duration": 41,
    "start_time": "2021-07-10T10:00:38.512Z"
   },
   {
    "duration": 499,
    "start_time": "2021-07-10T10:00:38.555Z"
   },
   {
    "duration": 481,
    "start_time": "2021-07-10T10:00:39.057Z"
   },
   {
    "duration": 483,
    "start_time": "2021-07-10T10:00:39.540Z"
   },
   {
    "duration": 482,
    "start_time": "2021-07-10T10:00:40.025Z"
   },
   {
    "duration": 491,
    "start_time": "2021-07-10T10:00:40.509Z"
   },
   {
    "duration": 488,
    "start_time": "2021-07-10T10:00:41.003Z"
   },
   {
    "duration": 1705,
    "start_time": "2021-07-10T10:00:41.501Z"
   },
   {
    "duration": 35,
    "start_time": "2021-07-10T10:00:43.208Z"
   },
   {
    "duration": 10,
    "start_time": "2021-07-10T10:00:43.300Z"
   },
   {
    "duration": 86,
    "start_time": "2021-07-10T10:00:43.317Z"
   },
   {
    "duration": 346,
    "start_time": "2021-07-10T10:00:43.407Z"
   },
   {
    "duration": 221,
    "start_time": "2021-07-10T10:00:43.755Z"
   },
   {
    "duration": 289,
    "start_time": "2021-07-10T10:00:43.978Z"
   },
   {
    "duration": 224,
    "start_time": "2021-07-10T10:00:44.269Z"
   },
   {
    "duration": 287,
    "start_time": "2021-07-10T10:00:44.501Z"
   },
   {
    "duration": 211,
    "start_time": "2021-07-10T10:00:44.790Z"
   },
   {
    "duration": 275,
    "start_time": "2021-07-10T10:00:45.003Z"
   },
   {
    "duration": 205,
    "start_time": "2021-07-10T10:00:45.281Z"
   },
   {
    "duration": 282,
    "start_time": "2021-07-10T10:00:45.489Z"
   },
   {
    "duration": 209,
    "start_time": "2021-07-10T10:00:45.774Z"
   },
   {
    "duration": 280,
    "start_time": "2021-07-10T10:00:45.986Z"
   },
   {
    "duration": 213,
    "start_time": "2021-07-10T10:00:46.269Z"
   },
   {
    "duration": 40,
    "start_time": "2021-07-10T10:00:46.485Z"
   },
   {
    "duration": 30,
    "start_time": "2021-07-10T10:00:46.527Z"
   },
   {
    "duration": 443,
    "start_time": "2021-07-10T10:00:46.559Z"
   },
   {
    "duration": 389,
    "start_time": "2021-07-10T10:00:47.004Z"
   },
   {
    "duration": 35,
    "start_time": "2021-07-10T10:00:47.396Z"
   },
   {
    "duration": 470,
    "start_time": "2021-07-10T10:00:47.434Z"
   },
   {
    "duration": 380,
    "start_time": "2021-07-10T10:00:47.906Z"
   },
   {
    "duration": 382,
    "start_time": "2021-07-10T10:00:48.300Z"
   },
   {
    "duration": 404,
    "start_time": "2021-07-10T10:00:48.685Z"
   },
   {
    "duration": 395,
    "start_time": "2021-07-10T10:00:49.100Z"
   },
   {
    "duration": 388,
    "start_time": "2021-07-10T10:00:49.500Z"
   },
   {
    "duration": 431,
    "start_time": "2021-07-10T10:00:49.890Z"
   },
   {
    "duration": 409,
    "start_time": "2021-07-10T10:00:50.324Z"
   },
   {
    "duration": 389,
    "start_time": "2021-07-10T10:00:50.735Z"
   },
   {
    "duration": 428,
    "start_time": "2021-07-10T10:00:51.126Z"
   },
   {
    "duration": 18,
    "start_time": "2021-07-10T10:00:51.557Z"
   },
   {
    "duration": 54,
    "start_time": "2021-07-10T10:00:51.578Z"
   },
   {
    "duration": 8,
    "start_time": "2021-07-10T10:00:51.635Z"
   },
   {
    "duration": 66,
    "start_time": "2021-07-10T10:00:51.645Z"
   },
   {
    "duration": 19,
    "start_time": "2021-07-10T10:00:51.713Z"
   },
   {
    "duration": 259,
    "start_time": "2021-07-10T10:00:51.735Z"
   },
   {
    "duration": 20,
    "start_time": "2021-07-10T10:00:52.000Z"
   },
   {
    "duration": 538,
    "start_time": "2021-07-10T10:00:52.022Z"
   },
   {
    "duration": 238,
    "start_time": "2021-07-10T10:00:52.562Z"
   },
   {
    "duration": 21,
    "start_time": "2021-07-10T10:00:52.802Z"
   },
   {
    "duration": 240,
    "start_time": "2021-07-10T10:00:52.826Z"
   },
   {
    "duration": 33,
    "start_time": "2021-07-10T10:00:53.068Z"
   },
   {
    "duration": 355,
    "start_time": "2021-07-10T10:00:53.103Z"
   },
   {
    "duration": 259,
    "start_time": "2021-07-10T10:00:53.460Z"
   },
   {
    "duration": 20,
    "start_time": "2021-07-10T10:00:53.721Z"
   },
   {
    "duration": 249,
    "start_time": "2021-07-10T10:00:53.743Z"
   },
   {
    "duration": 25,
    "start_time": "2021-07-10T10:00:53.994Z"
   },
   {
    "duration": 374,
    "start_time": "2021-07-10T10:00:54.027Z"
   },
   {
    "duration": 252,
    "start_time": "2021-07-10T10:00:54.404Z"
   },
   {
    "duration": 6,
    "start_time": "2021-07-10T10:00:54.659Z"
   },
   {
    "duration": 10,
    "start_time": "2021-07-10T10:00:54.668Z"
   },
   {
    "duration": 33,
    "start_time": "2021-07-10T10:00:54.701Z"
   },
   {
    "duration": 35,
    "start_time": "2021-07-10T10:00:54.736Z"
   },
   {
    "duration": 8,
    "start_time": "2021-07-10T10:00:54.801Z"
   },
   {
    "duration": 7,
    "start_time": "2021-07-10T10:00:54.811Z"
   },
   {
    "duration": 1095,
    "start_time": "2021-07-10T13:40:46.377Z"
   },
   {
    "duration": 1234,
    "start_time": "2021-07-10T13:40:51.374Z"
   },
   {
    "duration": 4,
    "start_time": "2021-07-10T13:40:52.611Z"
   },
   {
    "duration": 63,
    "start_time": "2021-07-10T13:40:52.619Z"
   },
   {
    "duration": 25,
    "start_time": "2021-07-10T13:40:52.687Z"
   },
   {
    "duration": 52,
    "start_time": "2021-07-10T13:40:52.715Z"
   },
   {
    "duration": 47,
    "start_time": "2021-07-10T13:40:52.771Z"
   },
   {
    "duration": 53,
    "start_time": "2021-07-10T13:40:52.821Z"
   },
   {
    "duration": 91,
    "start_time": "2021-07-10T13:40:52.880Z"
   },
   {
    "duration": 35,
    "start_time": "2021-07-10T13:40:52.975Z"
   },
   {
    "duration": 78,
    "start_time": "2021-07-10T13:40:53.013Z"
   },
   {
    "duration": 9,
    "start_time": "2021-07-10T13:40:53.093Z"
   },
   {
    "duration": 14,
    "start_time": "2021-07-10T13:40:53.104Z"
   },
   {
    "duration": 73,
    "start_time": "2021-07-10T13:40:53.122Z"
   },
   {
    "duration": 498,
    "start_time": "2021-07-10T13:40:53.199Z"
   },
   {
    "duration": 482,
    "start_time": "2021-07-10T13:40:53.700Z"
   },
   {
    "duration": 507,
    "start_time": "2021-07-10T13:40:54.185Z"
   },
   {
    "duration": 476,
    "start_time": "2021-07-10T13:40:54.695Z"
   },
   {
    "duration": 531,
    "start_time": "2021-07-10T13:40:55.174Z"
   },
   {
    "duration": 762,
    "start_time": "2021-07-10T13:40:55.708Z"
   },
   {
    "duration": 2367,
    "start_time": "2021-07-10T13:40:56.473Z"
   },
   {
    "duration": 115,
    "start_time": "2021-07-10T13:40:58.843Z"
   },
   {
    "duration": 9,
    "start_time": "2021-07-10T13:40:58.961Z"
   },
   {
    "duration": 91,
    "start_time": "2021-07-10T13:40:58.977Z"
   },
   {
    "duration": 321,
    "start_time": "2021-07-10T13:40:59.073Z"
   },
   {
    "duration": 225,
    "start_time": "2021-07-10T13:40:59.396Z"
   },
   {
    "duration": 274,
    "start_time": "2021-07-10T13:40:59.624Z"
   },
   {
    "duration": 225,
    "start_time": "2021-07-10T13:40:59.900Z"
   },
   {
    "duration": 306,
    "start_time": "2021-07-10T13:41:00.128Z"
   },
   {
    "duration": 354,
    "start_time": "2021-07-10T13:41:00.437Z"
   },
   {
    "duration": 429,
    "start_time": "2021-07-10T13:41:00.794Z"
   },
   {
    "duration": 346,
    "start_time": "2021-07-10T13:41:01.226Z"
   },
   {
    "duration": 435,
    "start_time": "2021-07-10T13:41:01.575Z"
   },
   {
    "duration": 328,
    "start_time": "2021-07-10T13:41:02.014Z"
   },
   {
    "duration": 417,
    "start_time": "2021-07-10T13:41:02.345Z"
   },
   {
    "duration": 234,
    "start_time": "2021-07-10T13:41:02.766Z"
   },
   {
    "duration": 56,
    "start_time": "2021-07-10T13:41:03.002Z"
   },
   {
    "duration": 50,
    "start_time": "2021-07-10T13:41:03.061Z"
   },
   {
    "duration": 620,
    "start_time": "2021-07-10T13:41:03.114Z"
   },
   {
    "duration": 414,
    "start_time": "2021-07-10T13:41:03.737Z"
   },
   {
    "duration": 45,
    "start_time": "2021-07-10T13:41:04.156Z"
   },
   {
    "duration": 589,
    "start_time": "2021-07-10T13:41:04.205Z"
   },
   {
    "duration": 499,
    "start_time": "2021-07-10T13:41:04.798Z"
   },
   {
    "duration": 455,
    "start_time": "2021-07-10T13:41:05.300Z"
   },
   {
    "duration": 422,
    "start_time": "2021-07-10T13:41:05.758Z"
   },
   {
    "duration": 427,
    "start_time": "2021-07-10T13:41:06.183Z"
   },
   {
    "duration": 459,
    "start_time": "2021-07-10T13:41:06.613Z"
   },
   {
    "duration": 453,
    "start_time": "2021-07-10T13:41:07.075Z"
   },
   {
    "duration": 444,
    "start_time": "2021-07-10T13:41:07.531Z"
   },
   {
    "duration": 434,
    "start_time": "2021-07-10T13:41:07.978Z"
   },
   {
    "duration": 586,
    "start_time": "2021-07-10T13:41:08.415Z"
   },
   {
    "duration": 28,
    "start_time": "2021-07-10T13:41:09.004Z"
   },
   {
    "duration": 28,
    "start_time": "2021-07-10T13:41:09.055Z"
   },
   {
    "duration": 8,
    "start_time": "2021-07-10T13:41:09.086Z"
   },
   {
    "duration": 126,
    "start_time": "2021-07-10T13:41:09.097Z"
   },
   {
    "duration": 44,
    "start_time": "2021-07-10T13:41:09.227Z"
   },
   {
    "duration": 242,
    "start_time": "2021-07-10T13:41:09.274Z"
   },
   {
    "duration": 20,
    "start_time": "2021-07-10T13:41:09.519Z"
   },
   {
    "duration": 561,
    "start_time": "2021-07-10T13:41:09.557Z"
   },
   {
    "duration": 245,
    "start_time": "2021-07-10T13:41:10.120Z"
   },
   {
    "duration": 30,
    "start_time": "2021-07-10T13:41:10.368Z"
   },
   {
    "duration": 267,
    "start_time": "2021-07-10T13:41:10.400Z"
   },
   {
    "duration": 21,
    "start_time": "2021-07-10T13:41:10.669Z"
   },
   {
    "duration": 419,
    "start_time": "2021-07-10T13:41:10.694Z"
   },
   {
    "duration": 251,
    "start_time": "2021-07-10T13:41:11.115Z"
   },
   {
    "duration": 19,
    "start_time": "2021-07-10T13:41:11.369Z"
   },
   {
    "duration": 343,
    "start_time": "2021-07-10T13:41:11.390Z"
   },
   {
    "duration": 40,
    "start_time": "2021-07-10T13:41:11.737Z"
   },
   {
    "duration": 556,
    "start_time": "2021-07-10T13:41:11.790Z"
   },
   {
    "duration": 382,
    "start_time": "2021-07-10T13:41:12.357Z"
   },
   {
    "duration": 17,
    "start_time": "2021-07-10T13:41:12.742Z"
   },
   {
    "duration": 10,
    "start_time": "2021-07-10T13:41:12.761Z"
   },
   {
    "duration": 83,
    "start_time": "2021-07-10T13:41:12.775Z"
   },
   {
    "duration": 34,
    "start_time": "2021-07-10T13:41:12.861Z"
   },
   {
    "duration": 13,
    "start_time": "2021-07-10T13:41:12.897Z"
   },
   {
    "duration": 46,
    "start_time": "2021-07-10T13:41:12.913Z"
   },
   {
    "duration": 805,
    "start_time": "2021-07-10T13:46:16.372Z"
   },
   {
    "duration": 285,
    "start_time": "2021-07-10T13:46:44.509Z"
   },
   {
    "duration": 22,
    "start_time": "2021-07-10T13:47:10.678Z"
   },
   {
    "duration": 1428,
    "start_time": "2021-07-10T13:55:34.757Z"
   },
   {
    "duration": 387,
    "start_time": "2021-07-10T13:55:57.110Z"
   },
   {
    "duration": 571,
    "start_time": "2021-07-10T13:58:49.951Z"
   },
   {
    "duration": 99,
    "start_time": "2021-07-10T14:01:38.200Z"
   },
   {
    "duration": 669,
    "start_time": "2021-07-10T14:01:48.842Z"
   },
   {
    "duration": 378,
    "start_time": "2021-07-10T14:02:15.101Z"
   },
   {
    "duration": 21,
    "start_time": "2021-07-10T14:03:46.638Z"
   },
   {
    "duration": 286,
    "start_time": "2021-07-10T14:03:52.381Z"
   },
   {
    "duration": 704,
    "start_time": "2021-07-10T14:06:10.219Z"
   },
   {
    "duration": 400,
    "start_time": "2021-07-10T14:06:33.159Z"
   },
   {
    "duration": 228,
    "start_time": "2021-07-10T14:07:46.317Z"
   },
   {
    "duration": 94,
    "start_time": "2021-07-10T14:08:30.790Z"
   },
   {
    "duration": 238,
    "start_time": "2021-07-10T14:09:46.379Z"
   },
   {
    "duration": 233,
    "start_time": "2021-07-10T14:13:55.805Z"
   },
   {
    "duration": 22,
    "start_time": "2021-07-10T14:15:58.428Z"
   },
   {
    "duration": 406,
    "start_time": "2021-07-10T14:22:35.386Z"
   },
   {
    "duration": 238,
    "start_time": "2021-07-10T14:23:21.386Z"
   },
   {
    "duration": 26,
    "start_time": "2021-07-10T14:25:45.018Z"
   },
   {
    "duration": 348,
    "start_time": "2021-07-10T14:27:45.205Z"
   },
   {
    "duration": 27,
    "start_time": "2021-07-10T14:28:14.085Z"
   },
   {
    "duration": 292,
    "start_time": "2021-07-10T14:28:26.319Z"
   },
   {
    "duration": 261,
    "start_time": "2021-07-10T14:28:51.142Z"
   },
   {
    "duration": 342,
    "start_time": "2021-07-10T14:29:31.831Z"
   },
   {
    "duration": 20,
    "start_time": "2021-07-10T14:29:40.224Z"
   },
   {
    "duration": 597,
    "start_time": "2021-07-10T14:31:02.374Z"
   },
   {
    "duration": 247,
    "start_time": "2021-07-10T14:31:28.298Z"
   },
   {
    "duration": 241,
    "start_time": "2021-07-10T14:31:51.792Z"
   },
   {
    "duration": 437,
    "start_time": "2021-07-10T14:36:45.664Z"
   },
   {
    "duration": 441,
    "start_time": "2021-07-10T14:36:54.930Z"
   },
   {
    "duration": 497,
    "start_time": "2021-07-10T14:37:08.606Z"
   },
   {
    "duration": 428,
    "start_time": "2021-07-10T14:37:13.841Z"
   },
   {
    "duration": 377,
    "start_time": "2021-07-10T14:37:42.883Z"
   },
   {
    "duration": 404,
    "start_time": "2021-07-10T14:38:00.914Z"
   },
   {
    "duration": 548,
    "start_time": "2021-07-10T14:38:35.019Z"
   },
   {
    "duration": 451,
    "start_time": "2021-07-10T14:39:03.557Z"
   },
   {
    "duration": 25,
    "start_time": "2021-07-10T14:42:41.490Z"
   },
   {
    "duration": 1759,
    "start_time": "2021-07-10T14:43:48.481Z"
   },
   {
    "duration": 4,
    "start_time": "2021-07-10T14:43:50.243Z"
   },
   {
    "duration": 53,
    "start_time": "2021-07-10T14:43:50.260Z"
   },
   {
    "duration": 26,
    "start_time": "2021-07-10T14:43:50.316Z"
   },
   {
    "duration": 28,
    "start_time": "2021-07-10T14:43:50.345Z"
   },
   {
    "duration": 60,
    "start_time": "2021-07-10T14:43:50.376Z"
   },
   {
    "duration": 33,
    "start_time": "2021-07-10T14:43:50.439Z"
   },
   {
    "duration": 81,
    "start_time": "2021-07-10T14:43:50.477Z"
   },
   {
    "duration": 36,
    "start_time": "2021-07-10T14:43:50.562Z"
   },
   {
    "duration": 77,
    "start_time": "2021-07-10T14:43:50.601Z"
   },
   {
    "duration": 10,
    "start_time": "2021-07-10T14:43:50.684Z"
   },
   {
    "duration": 21,
    "start_time": "2021-07-10T14:43:50.697Z"
   },
   {
    "duration": 85,
    "start_time": "2021-07-10T14:43:50.721Z"
   },
   {
    "duration": 530,
    "start_time": "2021-07-10T14:43:50.810Z"
   },
   {
    "duration": 541,
    "start_time": "2021-07-10T14:43:51.342Z"
   },
   {
    "duration": 630,
    "start_time": "2021-07-10T14:43:51.886Z"
   },
   {
    "duration": 538,
    "start_time": "2021-07-10T14:43:52.520Z"
   },
   {
    "duration": 681,
    "start_time": "2021-07-10T14:43:53.061Z"
   },
   {
    "duration": 493,
    "start_time": "2021-07-10T14:43:53.744Z"
   },
   {
    "duration": 3050,
    "start_time": "2021-07-10T14:43:54.239Z"
   },
   {
    "duration": 92,
    "start_time": "2021-07-10T14:43:57.294Z"
   },
   {
    "duration": 14,
    "start_time": "2021-07-10T14:43:57.389Z"
   },
   {
    "duration": 115,
    "start_time": "2021-07-10T14:43:57.465Z"
   },
   {
    "duration": 411,
    "start_time": "2021-07-10T14:43:57.588Z"
   },
   {
    "duration": 307,
    "start_time": "2021-07-10T14:43:58.002Z"
   },
   {
    "duration": 394,
    "start_time": "2021-07-10T14:43:58.312Z"
   },
   {
    "duration": 308,
    "start_time": "2021-07-10T14:43:58.709Z"
   },
   {
    "duration": 408,
    "start_time": "2021-07-10T14:43:59.020Z"
   },
   {
    "duration": 243,
    "start_time": "2021-07-10T14:43:59.431Z"
   },
   {
    "duration": 298,
    "start_time": "2021-07-10T14:43:59.677Z"
   },
   {
    "duration": 262,
    "start_time": "2021-07-10T14:43:59.978Z"
   },
   {
    "duration": 381,
    "start_time": "2021-07-10T14:44:00.243Z"
   },
   {
    "duration": 245,
    "start_time": "2021-07-10T14:44:00.628Z"
   },
   {
    "duration": 387,
    "start_time": "2021-07-10T14:44:00.876Z"
   },
   {
    "duration": 412,
    "start_time": "2021-07-10T14:44:01.266Z"
   },
   {
    "duration": 46,
    "start_time": "2021-07-10T14:44:01.682Z"
   },
   {
    "duration": 84,
    "start_time": "2021-07-10T14:44:01.731Z"
   },
   {
    "duration": 578,
    "start_time": "2021-07-10T14:44:01.818Z"
   },
   {
    "duration": 547,
    "start_time": "2021-07-10T14:44:02.399Z"
   },
   {
    "duration": 62,
    "start_time": "2021-07-10T14:44:02.950Z"
   },
   {
    "duration": 467,
    "start_time": "2021-07-10T14:44:03.015Z"
   },
   {
    "duration": 394,
    "start_time": "2021-07-10T14:44:03.484Z"
   },
   {
    "duration": 359,
    "start_time": "2021-07-10T14:44:03.886Z"
   },
   {
    "duration": 427,
    "start_time": "2021-07-10T14:44:04.248Z"
   },
   {
    "duration": 378,
    "start_time": "2021-07-10T14:44:04.678Z"
   },
   {
    "duration": 375,
    "start_time": "2021-07-10T14:44:05.058Z"
   },
   {
    "duration": 570,
    "start_time": "2021-07-10T14:44:05.436Z"
   },
   {
    "duration": 559,
    "start_time": "2021-07-10T14:44:06.010Z"
   },
   {
    "duration": 527,
    "start_time": "2021-07-10T14:44:06.572Z"
   },
   {
    "duration": 516,
    "start_time": "2021-07-10T14:44:07.108Z"
   },
   {
    "duration": 36,
    "start_time": "2021-07-10T14:44:07.645Z"
   },
   {
    "duration": 38,
    "start_time": "2021-07-10T14:44:07.684Z"
   },
   {
    "duration": 7,
    "start_time": "2021-07-10T14:44:07.724Z"
   },
   {
    "duration": 107,
    "start_time": "2021-07-10T14:44:07.734Z"
   },
   {
    "duration": 32,
    "start_time": "2021-07-10T14:44:07.856Z"
   },
   {
    "duration": 343,
    "start_time": "2021-07-10T14:44:07.892Z"
   },
   {
    "duration": 40,
    "start_time": "2021-07-10T14:44:08.239Z"
   },
   {
    "duration": 799,
    "start_time": "2021-07-10T14:44:08.281Z"
   },
   {
    "duration": 273,
    "start_time": "2021-07-10T14:44:09.083Z"
   },
   {
    "duration": 27,
    "start_time": "2021-07-10T14:44:09.358Z"
   },
   {
    "duration": 606,
    "start_time": "2021-07-10T14:44:09.389Z"
   },
   {
    "duration": 255,
    "start_time": "2021-07-10T14:44:09.743Z"
   },
   {
    "duration": 244,
    "start_time": "2021-07-10T14:44:09.756Z"
   },
   {
    "duration": 217,
    "start_time": "2021-07-10T14:44:09.784Z"
   },
   {
    "duration": 209,
    "start_time": "2021-07-10T14:44:09.795Z"
   },
   {
    "duration": 198,
    "start_time": "2021-07-10T14:44:09.807Z"
   },
   {
    "duration": 188,
    "start_time": "2021-07-10T14:44:09.818Z"
   },
   {
    "duration": 178,
    "start_time": "2021-07-10T14:44:09.830Z"
   },
   {
    "duration": 168,
    "start_time": "2021-07-10T14:44:09.841Z"
   },
   {
    "duration": 158,
    "start_time": "2021-07-10T14:44:09.853Z"
   },
   {
    "duration": 149,
    "start_time": "2021-07-10T14:44:09.864Z"
   },
   {
    "duration": 139,
    "start_time": "2021-07-10T14:44:09.875Z"
   },
   {
    "duration": 111,
    "start_time": "2021-07-10T14:44:09.904Z"
   },
   {
    "duration": 100,
    "start_time": "2021-07-10T14:44:09.917Z"
   },
   {
    "duration": 90,
    "start_time": "2021-07-10T14:44:09.928Z"
   },
   {
    "duration": 80,
    "start_time": "2021-07-10T14:44:09.940Z"
   },
   {
    "duration": 230,
    "start_time": "2021-07-10T14:44:41.160Z"
   },
   {
    "duration": 116,
    "start_time": "2021-07-10T14:44:57.243Z"
   },
   {
    "duration": 4,
    "start_time": "2021-07-10T14:44:57.363Z"
   },
   {
    "duration": 35,
    "start_time": "2021-07-10T14:44:57.371Z"
   },
   {
    "duration": 61,
    "start_time": "2021-07-10T14:44:57.410Z"
   },
   {
    "duration": 19,
    "start_time": "2021-07-10T14:44:57.473Z"
   },
   {
    "duration": 64,
    "start_time": "2021-07-10T14:44:57.495Z"
   },
   {
    "duration": 25,
    "start_time": "2021-07-10T14:44:57.561Z"
   },
   {
    "duration": 100,
    "start_time": "2021-07-10T14:44:57.590Z"
   },
   {
    "duration": 26,
    "start_time": "2021-07-10T14:44:57.694Z"
   },
   {
    "duration": 70,
    "start_time": "2021-07-10T14:44:57.723Z"
   },
   {
    "duration": 12,
    "start_time": "2021-07-10T14:44:57.796Z"
   },
   {
    "duration": 57,
    "start_time": "2021-07-10T14:44:57.810Z"
   },
   {
    "duration": 41,
    "start_time": "2021-07-10T14:44:57.870Z"
   },
   {
    "duration": 504,
    "start_time": "2021-07-10T14:44:57.914Z"
   },
   {
    "duration": 653,
    "start_time": "2021-07-10T14:44:58.422Z"
   },
   {
    "duration": 700,
    "start_time": "2021-07-10T14:44:59.078Z"
   },
   {
    "duration": 490,
    "start_time": "2021-07-10T14:44:59.780Z"
   },
   {
    "duration": 622,
    "start_time": "2021-07-10T14:45:00.274Z"
   },
   {
    "duration": 518,
    "start_time": "2021-07-10T14:45:00.898Z"
   },
   {
    "duration": 1113,
    "start_time": "2021-07-10T14:45:01.419Z"
   },
   {
    "duration": 53,
    "start_time": "2021-07-10T14:45:02.535Z"
   },
   {
    "duration": 8,
    "start_time": "2021-07-10T14:45:02.591Z"
   },
   {
    "duration": 74,
    "start_time": "2021-07-10T14:45:02.606Z"
   },
   {
    "duration": 299,
    "start_time": "2021-07-10T14:45:02.684Z"
   },
   {
    "duration": 329,
    "start_time": "2021-07-10T14:45:02.986Z"
   },
   {
    "duration": 321,
    "start_time": "2021-07-10T14:45:03.319Z"
   },
   {
    "duration": 232,
    "start_time": "2021-07-10T14:45:03.643Z"
   },
   {
    "duration": 289,
    "start_time": "2021-07-10T14:45:03.878Z"
   },
   {
    "duration": 301,
    "start_time": "2021-07-10T14:45:04.170Z"
   },
   {
    "duration": 297,
    "start_time": "2021-07-10T14:45:04.474Z"
   },
   {
    "duration": 248,
    "start_time": "2021-07-10T14:45:04.774Z"
   },
   {
    "duration": 297,
    "start_time": "2021-07-10T14:45:05.025Z"
   },
   {
    "duration": 308,
    "start_time": "2021-07-10T14:45:05.324Z"
   },
   {
    "duration": 294,
    "start_time": "2021-07-10T14:45:05.635Z"
   },
   {
    "duration": 305,
    "start_time": "2021-07-10T14:45:05.932Z"
   },
   {
    "duration": 49,
    "start_time": "2021-07-10T14:45:06.240Z"
   },
   {
    "duration": 33,
    "start_time": "2021-07-10T14:45:06.291Z"
   },
   {
    "duration": 433,
    "start_time": "2021-07-10T14:45:06.326Z"
   },
   {
    "duration": 437,
    "start_time": "2021-07-10T14:45:06.762Z"
   },
   {
    "duration": 58,
    "start_time": "2021-07-10T14:45:07.203Z"
   },
   {
    "duration": 398,
    "start_time": "2021-07-10T14:45:07.268Z"
   },
   {
    "duration": 371,
    "start_time": "2021-07-10T14:45:07.669Z"
   },
   {
    "duration": 403,
    "start_time": "2021-07-10T14:45:08.042Z"
   },
   {
    "duration": 413,
    "start_time": "2021-07-10T14:45:08.447Z"
   },
   {
    "duration": 612,
    "start_time": "2021-07-10T14:45:08.863Z"
   },
   {
    "duration": 457,
    "start_time": "2021-07-10T14:45:09.477Z"
   },
   {
    "duration": 464,
    "start_time": "2021-07-10T14:45:09.937Z"
   },
   {
    "duration": 715,
    "start_time": "2021-07-10T14:45:10.404Z"
   },
   {
    "duration": 456,
    "start_time": "2021-07-10T14:45:11.121Z"
   },
   {
    "duration": 526,
    "start_time": "2021-07-10T14:45:11.580Z"
   },
   {
    "duration": 28,
    "start_time": "2021-07-10T14:45:12.113Z"
   },
   {
    "duration": 44,
    "start_time": "2021-07-10T14:45:12.144Z"
   },
   {
    "duration": 9,
    "start_time": "2021-07-10T14:45:12.191Z"
   },
   {
    "duration": 99,
    "start_time": "2021-07-10T14:45:12.204Z"
   },
   {
    "duration": 28,
    "start_time": "2021-07-10T14:45:12.306Z"
   },
   {
    "duration": 328,
    "start_time": "2021-07-10T14:45:12.359Z"
   },
   {
    "duration": 27,
    "start_time": "2021-07-10T14:45:12.690Z"
   },
   {
    "duration": 577,
    "start_time": "2021-07-10T14:45:12.720Z"
   },
   {
    "duration": 268,
    "start_time": "2021-07-10T14:45:13.300Z"
   },
   {
    "duration": 26,
    "start_time": "2021-07-10T14:45:13.571Z"
   },
   {
    "duration": 342,
    "start_time": "2021-07-10T14:45:13.600Z"
   },
   {
    "duration": 35,
    "start_time": "2021-07-10T14:45:13.945Z"
   },
   {
    "duration": 429,
    "start_time": "2021-07-10T14:45:13.982Z"
   },
   {
    "duration": 275,
    "start_time": "2021-07-10T14:45:14.414Z"
   },
   {
    "duration": 22,
    "start_time": "2021-07-10T14:45:14.691Z"
   },
   {
    "duration": 314,
    "start_time": "2021-07-10T14:45:14.716Z"
   },
   {
    "duration": 83,
    "start_time": "2021-07-10T14:45:15.033Z"
   },
   {
    "duration": 387,
    "start_time": "2021-07-10T14:45:14.732Z"
   },
   {
    "duration": 377,
    "start_time": "2021-07-10T14:45:14.744Z"
   },
   {
    "duration": 363,
    "start_time": "2021-07-10T14:45:14.760Z"
   },
   {
    "duration": 354,
    "start_time": "2021-07-10T14:45:14.771Z"
   },
   {
    "duration": 340,
    "start_time": "2021-07-10T14:45:14.787Z"
   },
   {
    "duration": 329,
    "start_time": "2021-07-10T14:45:14.800Z"
   },
   {
    "duration": 225,
    "start_time": "2021-07-10T14:45:14.907Z"
   },
   {
    "duration": 213,
    "start_time": "2021-07-10T14:45:14.921Z"
   },
   {
    "duration": 202,
    "start_time": "2021-07-10T14:45:14.934Z"
   },
   {
    "duration": 723,
    "start_time": "2021-07-11T10:55:17.702Z"
   },
   {
    "duration": 849,
    "start_time": "2021-07-11T10:55:29.925Z"
   },
   {
    "duration": 135,
    "start_time": "2021-07-11T11:02:12.840Z"
   },
   {
    "duration": 1512,
    "start_time": "2021-11-03T14:17:04.357Z"
   },
   {
    "duration": 4,
    "start_time": "2021-11-03T14:17:05.872Z"
   },
   {
    "duration": 24,
    "start_time": "2021-11-03T14:17:05.879Z"
   },
   {
    "duration": 38,
    "start_time": "2021-11-03T14:17:05.906Z"
   },
   {
    "duration": 20,
    "start_time": "2021-11-03T14:17:05.947Z"
   },
   {
    "duration": 65,
    "start_time": "2021-11-03T14:17:05.970Z"
   },
   {
    "duration": 18,
    "start_time": "2021-11-03T14:17:06.038Z"
   },
   {
    "duration": 75,
    "start_time": "2021-11-03T14:17:06.061Z"
   },
   {
    "duration": 28,
    "start_time": "2021-11-03T14:17:06.140Z"
   },
   {
    "duration": 36,
    "start_time": "2021-11-03T14:17:06.170Z"
   },
   {
    "duration": 8,
    "start_time": "2021-11-03T14:17:06.230Z"
   },
   {
    "duration": 22,
    "start_time": "2021-11-03T14:17:06.240Z"
   },
   {
    "duration": 64,
    "start_time": "2021-11-03T14:17:06.265Z"
   },
   {
    "duration": 487,
    "start_time": "2021-11-03T14:17:06.332Z"
   },
   {
    "duration": 464,
    "start_time": "2021-11-03T14:17:06.822Z"
   },
   {
    "duration": 481,
    "start_time": "2021-11-03T14:17:07.289Z"
   },
   {
    "duration": 475,
    "start_time": "2021-11-03T14:17:07.772Z"
   },
   {
    "duration": 600,
    "start_time": "2021-11-03T14:17:08.250Z"
   },
   {
    "duration": 488,
    "start_time": "2021-11-03T14:17:08.852Z"
   },
   {
    "duration": 2292,
    "start_time": "2021-11-03T14:17:09.343Z"
   },
   {
    "duration": 92,
    "start_time": "2021-11-03T14:17:11.637Z"
   },
   {
    "duration": 9,
    "start_time": "2021-11-03T14:17:11.731Z"
   },
   {
    "duration": 92,
    "start_time": "2021-11-03T14:17:11.746Z"
   },
   {
    "duration": 333,
    "start_time": "2021-11-03T14:17:11.842Z"
   },
   {
    "duration": 228,
    "start_time": "2021-11-03T14:17:12.177Z"
   },
   {
    "duration": 291,
    "start_time": "2021-11-03T14:17:12.407Z"
   },
   {
    "duration": 228,
    "start_time": "2021-11-03T14:17:12.700Z"
   },
   {
    "duration": 294,
    "start_time": "2021-11-03T14:17:12.931Z"
   },
   {
    "duration": 218,
    "start_time": "2021-11-03T14:17:13.229Z"
   },
   {
    "duration": 278,
    "start_time": "2021-11-03T14:17:13.450Z"
   },
   {
    "duration": 221,
    "start_time": "2021-11-03T14:17:13.730Z"
   },
   {
    "duration": 295,
    "start_time": "2021-11-03T14:17:13.953Z"
   },
   {
    "duration": 232,
    "start_time": "2021-11-03T14:17:14.251Z"
   },
   {
    "duration": 281,
    "start_time": "2021-11-03T14:17:14.486Z"
   },
   {
    "duration": 221,
    "start_time": "2021-11-03T14:17:14.770Z"
   },
   {
    "duration": 60,
    "start_time": "2021-11-03T14:17:14.994Z"
   },
   {
    "duration": 31,
    "start_time": "2021-11-03T14:17:15.056Z"
   },
   {
    "duration": 443,
    "start_time": "2021-11-03T14:17:15.090Z"
   },
   {
    "duration": 377,
    "start_time": "2021-11-03T14:17:15.536Z"
   },
   {
    "duration": 39,
    "start_time": "2021-11-03T14:17:15.915Z"
   },
   {
    "duration": 403,
    "start_time": "2021-11-03T14:17:15.956Z"
   },
   {
    "duration": 378,
    "start_time": "2021-11-03T14:17:16.361Z"
   },
   {
    "duration": 496,
    "start_time": "2021-11-03T14:17:16.742Z"
   },
   {
    "duration": 391,
    "start_time": "2021-11-03T14:17:17.241Z"
   },
   {
    "duration": 410,
    "start_time": "2021-11-03T14:17:17.635Z"
   },
   {
    "duration": 369,
    "start_time": "2021-11-03T14:17:18.047Z"
   },
   {
    "duration": 428,
    "start_time": "2021-11-03T14:17:18.428Z"
   },
   {
    "duration": 396,
    "start_time": "2021-11-03T14:17:18.858Z"
   },
   {
    "duration": 431,
    "start_time": "2021-11-03T14:17:19.256Z"
   },
   {
    "duration": 441,
    "start_time": "2021-11-03T14:17:19.690Z"
   },
   {
    "duration": 21,
    "start_time": "2021-11-03T14:17:20.134Z"
   },
   {
    "duration": 39,
    "start_time": "2021-11-03T14:17:20.157Z"
   },
   {
    "duration": 31,
    "start_time": "2021-11-03T14:17:20.198Z"
   },
   {
    "duration": 72,
    "start_time": "2021-11-03T14:17:20.231Z"
   },
   {
    "duration": 28,
    "start_time": "2021-11-03T14:17:20.306Z"
   },
   {
    "duration": 256,
    "start_time": "2021-11-03T14:17:20.337Z"
   },
   {
    "duration": 35,
    "start_time": "2021-11-03T14:17:20.596Z"
   },
   {
    "duration": 861,
    "start_time": "2021-11-03T14:17:20.634Z"
   },
   {
    "duration": 257,
    "start_time": "2021-11-03T14:17:21.498Z"
   },
   {
    "duration": 20,
    "start_time": "2021-11-03T14:17:21.757Z"
   },
   {
    "duration": 398,
    "start_time": "2021-11-03T14:17:21.779Z"
   },
   {
    "duration": 20,
    "start_time": "2021-11-03T14:17:22.231Z"
   },
   {
    "duration": 719,
    "start_time": "2021-11-03T14:17:22.254Z"
   },
   {
    "duration": 341,
    "start_time": "2021-11-03T14:17:22.975Z"
   },
   {
    "duration": 27,
    "start_time": "2021-11-03T14:17:23.318Z"
   },
   {
    "duration": 324,
    "start_time": "2021-11-03T14:17:23.348Z"
   },
   {
    "duration": 86,
    "start_time": "2021-11-03T14:17:23.675Z"
   },
   {
    "duration": -2195,
    "start_time": "2021-11-03T14:17:25.959Z"
   },
   {
    "duration": -2224,
    "start_time": "2021-11-03T14:17:25.990Z"
   },
   {
    "duration": -2237,
    "start_time": "2021-11-03T14:17:26.004Z"
   },
   {
    "duration": -2246,
    "start_time": "2021-11-03T14:17:26.015Z"
   },
   {
    "duration": -2260,
    "start_time": "2021-11-03T14:17:26.030Z"
   },
   {
    "duration": -2270,
    "start_time": "2021-11-03T14:17:26.041Z"
   },
   {
    "duration": -2281,
    "start_time": "2021-11-03T14:17:26.054Z"
   },
   {
    "duration": -2292,
    "start_time": "2021-11-03T14:17:26.066Z"
   },
   {
    "duration": -2302,
    "start_time": "2021-11-03T14:17:26.078Z"
   },
   {
    "duration": 1384,
    "start_time": "2022-01-05T12:05:09.229Z"
   },
   {
    "duration": 2,
    "start_time": "2022-01-05T12:05:10.615Z"
   },
   {
    "duration": 35,
    "start_time": "2022-01-05T12:05:10.619Z"
   },
   {
    "duration": 45,
    "start_time": "2022-01-05T12:05:10.656Z"
   },
   {
    "duration": 12,
    "start_time": "2022-01-05T12:05:10.703Z"
   },
   {
    "duration": 28,
    "start_time": "2022-01-05T12:05:10.717Z"
   },
   {
    "duration": 12,
    "start_time": "2022-01-05T12:05:10.747Z"
   },
   {
    "duration": 55,
    "start_time": "2022-01-05T12:05:10.760Z"
   },
   {
    "duration": 15,
    "start_time": "2022-01-05T12:05:10.819Z"
   },
   {
    "duration": 25,
    "start_time": "2022-01-05T12:05:10.836Z"
   },
   {
    "duration": 9,
    "start_time": "2022-01-05T12:05:10.865Z"
   },
   {
    "duration": 21,
    "start_time": "2022-01-05T12:05:10.875Z"
   },
   {
    "duration": 45,
    "start_time": "2022-01-05T12:05:10.898Z"
   },
   {
    "duration": 622,
    "start_time": "2022-01-05T12:05:10.944Z"
   },
   {
    "duration": -333,
    "start_time": "2022-01-05T12:05:11.903Z"
   },
   {
    "duration": -337,
    "start_time": "2022-01-05T12:05:11.908Z"
   },
   {
    "duration": -341,
    "start_time": "2022-01-05T12:05:11.913Z"
   },
   {
    "duration": -347,
    "start_time": "2022-01-05T12:05:11.920Z"
   },
   {
    "duration": -374,
    "start_time": "2022-01-05T12:05:11.948Z"
   },
   {
    "duration": -378,
    "start_time": "2022-01-05T12:05:11.954Z"
   },
   {
    "duration": -383,
    "start_time": "2022-01-05T12:05:11.960Z"
   },
   {
    "duration": -386,
    "start_time": "2022-01-05T12:05:11.965Z"
   },
   {
    "duration": -391,
    "start_time": "2022-01-05T12:05:11.971Z"
   },
   {
    "duration": -393,
    "start_time": "2022-01-05T12:05:11.975Z"
   },
   {
    "duration": -401,
    "start_time": "2022-01-05T12:05:11.983Z"
   },
   {
    "duration": -405,
    "start_time": "2022-01-05T12:05:11.989Z"
   },
   {
    "duration": -409,
    "start_time": "2022-01-05T12:05:11.994Z"
   },
   {
    "duration": -413,
    "start_time": "2022-01-05T12:05:11.999Z"
   },
   {
    "duration": -418,
    "start_time": "2022-01-05T12:05:12.005Z"
   },
   {
    "duration": -424,
    "start_time": "2022-01-05T12:05:12.012Z"
   },
   {
    "duration": -429,
    "start_time": "2022-01-05T12:05:12.018Z"
   },
   {
    "duration": -432,
    "start_time": "2022-01-05T12:05:12.022Z"
   },
   {
    "duration": -437,
    "start_time": "2022-01-05T12:05:12.028Z"
   },
   {
    "duration": -442,
    "start_time": "2022-01-05T12:05:12.034Z"
   },
   {
    "duration": -447,
    "start_time": "2022-01-05T12:05:12.040Z"
   },
   {
    "duration": -460,
    "start_time": "2022-01-05T12:05:12.054Z"
   },
   {
    "duration": -467,
    "start_time": "2022-01-05T12:05:12.062Z"
   },
   {
    "duration": -470,
    "start_time": "2022-01-05T12:05:12.066Z"
   },
   {
    "duration": -475,
    "start_time": "2022-01-05T12:05:12.072Z"
   },
   {
    "duration": -481,
    "start_time": "2022-01-05T12:05:12.079Z"
   },
   {
    "duration": -485,
    "start_time": "2022-01-05T12:05:12.085Z"
   },
   {
    "duration": -487,
    "start_time": "2022-01-05T12:05:12.090Z"
   },
   {
    "duration": -439,
    "start_time": "2022-01-05T12:05:12.098Z"
   },
   {
    "duration": -442,
    "start_time": "2022-01-05T12:05:12.103Z"
   },
   {
    "duration": -446,
    "start_time": "2022-01-05T12:05:12.109Z"
   },
   {
    "duration": -448,
    "start_time": "2022-01-05T12:05:12.113Z"
   },
   {
    "duration": -453,
    "start_time": "2022-01-05T12:05:12.119Z"
   },
   {
    "duration": -457,
    "start_time": "2022-01-05T12:05:12.124Z"
   },
   {
    "duration": -460,
    "start_time": "2022-01-05T12:05:12.129Z"
   },
   {
    "duration": -464,
    "start_time": "2022-01-05T12:05:12.134Z"
   },
   {
    "duration": -467,
    "start_time": "2022-01-05T12:05:12.139Z"
   },
   {
    "duration": -471,
    "start_time": "2022-01-05T12:05:12.145Z"
   },
   {
    "duration": -476,
    "start_time": "2022-01-05T12:05:12.151Z"
   },
   {
    "duration": -491,
    "start_time": "2022-01-05T12:05:12.168Z"
   },
   {
    "duration": -496,
    "start_time": "2022-01-05T12:05:12.175Z"
   },
   {
    "duration": -501,
    "start_time": "2022-01-05T12:05:12.181Z"
   },
   {
    "duration": -504,
    "start_time": "2022-01-05T12:05:12.186Z"
   },
   {
    "duration": -507,
    "start_time": "2022-01-05T12:05:12.191Z"
   },
   {
    "duration": -514,
    "start_time": "2022-01-05T12:05:12.199Z"
   },
   {
    "duration": -517,
    "start_time": "2022-01-05T12:05:12.204Z"
   },
   {
    "duration": -522,
    "start_time": "2022-01-05T12:05:12.210Z"
   },
   {
    "duration": -526,
    "start_time": "2022-01-05T12:05:12.215Z"
   },
   {
    "duration": -529,
    "start_time": "2022-01-05T12:05:12.220Z"
   },
   {
    "duration": -533,
    "start_time": "2022-01-05T12:05:12.225Z"
   },
   {
    "duration": -537,
    "start_time": "2022-01-05T12:05:12.230Z"
   },
   {
    "duration": -540,
    "start_time": "2022-01-05T12:05:12.235Z"
   },
   {
    "duration": -544,
    "start_time": "2022-01-05T12:05:12.240Z"
   },
   {
    "duration": -548,
    "start_time": "2022-01-05T12:05:12.245Z"
   },
   {
    "duration": -552,
    "start_time": "2022-01-05T12:05:12.250Z"
   },
   {
    "duration": -556,
    "start_time": "2022-01-05T12:05:12.256Z"
   },
   {
    "duration": -561,
    "start_time": "2022-01-05T12:05:12.262Z"
   },
   {
    "duration": -575,
    "start_time": "2022-01-05T12:05:12.278Z"
   },
   {
    "duration": -523,
    "start_time": "2022-01-05T12:05:12.284Z"
   },
   {
    "duration": -527,
    "start_time": "2022-01-05T12:05:12.289Z"
   },
   {
    "duration": -531,
    "start_time": "2022-01-05T12:05:12.294Z"
   },
   {
    "duration": -537,
    "start_time": "2022-01-05T12:05:12.301Z"
   },
   {
    "duration": 276,
    "start_time": "2022-01-05T12:05:59.668Z"
   },
   {
    "duration": 285,
    "start_time": "2022-01-05T12:06:10.924Z"
   },
   {
    "duration": 289,
    "start_time": "2022-01-05T12:06:18.558Z"
   },
   {
    "duration": 281,
    "start_time": "2022-01-05T12:06:23.666Z"
   },
   {
    "duration": 357,
    "start_time": "2022-01-05T12:06:29.404Z"
   },
   {
    "duration": 294,
    "start_time": "2022-01-05T12:06:36.796Z"
   },
   {
    "duration": 1710,
    "start_time": "2022-01-05T12:06:49.439Z"
   },
   {
    "duration": 30,
    "start_time": "2022-01-05T12:07:23.174Z"
   },
   {
    "duration": 59,
    "start_time": "2022-01-05T12:07:26.861Z"
   },
   {
    "duration": 3,
    "start_time": "2022-01-05T12:07:26.922Z"
   },
   {
    "duration": 14,
    "start_time": "2022-01-05T12:07:26.927Z"
   },
   {
    "duration": 33,
    "start_time": "2022-01-05T12:07:26.943Z"
   },
   {
    "duration": 18,
    "start_time": "2022-01-05T12:07:26.978Z"
   },
   {
    "duration": 21,
    "start_time": "2022-01-05T12:07:26.998Z"
   },
   {
    "duration": 12,
    "start_time": "2022-01-05T12:07:27.021Z"
   },
   {
    "duration": 60,
    "start_time": "2022-01-05T12:07:27.036Z"
   },
   {
    "duration": 15,
    "start_time": "2022-01-05T12:07:27.099Z"
   },
   {
    "duration": 49,
    "start_time": "2022-01-05T12:07:27.116Z"
   },
   {
    "duration": 12,
    "start_time": "2022-01-05T12:07:27.168Z"
   },
   {
    "duration": 11,
    "start_time": "2022-01-05T12:07:27.182Z"
   },
   {
    "duration": 41,
    "start_time": "2022-01-05T12:07:27.195Z"
   },
   {
    "duration": 297,
    "start_time": "2022-01-05T12:07:27.238Z"
   },
   {
    "duration": 290,
    "start_time": "2022-01-05T12:07:27.537Z"
   },
   {
    "duration": 286,
    "start_time": "2022-01-05T12:07:27.829Z"
   },
   {
    "duration": 295,
    "start_time": "2022-01-05T12:07:28.117Z"
   },
   {
    "duration": 295,
    "start_time": "2022-01-05T12:07:28.414Z"
   },
   {
    "duration": 284,
    "start_time": "2022-01-05T12:07:28.710Z"
   },
   {
    "duration": 694,
    "start_time": "2022-01-05T12:07:28.995Z"
   },
   {
    "duration": 21,
    "start_time": "2022-01-05T12:07:29.690Z"
   },
   {
    "duration": 49,
    "start_time": "2022-01-05T12:07:29.713Z"
   },
   {
    "duration": 51,
    "start_time": "2022-01-05T12:07:29.766Z"
   },
   {
    "duration": 510,
    "start_time": "2022-01-05T12:07:29.820Z"
   },
   {
    "duration": -595,
    "start_time": "2022-01-05T12:07:30.927Z"
   },
   {
    "duration": -600,
    "start_time": "2022-01-05T12:07:30.933Z"
   },
   {
    "duration": -605,
    "start_time": "2022-01-05T12:07:30.939Z"
   },
   {
    "duration": -609,
    "start_time": "2022-01-05T12:07:30.945Z"
   },
   {
    "duration": -616,
    "start_time": "2022-01-05T12:07:30.953Z"
   },
   {
    "duration": -621,
    "start_time": "2022-01-05T12:07:30.959Z"
   },
   {
    "duration": -628,
    "start_time": "2022-01-05T12:07:30.967Z"
   },
   {
    "duration": -634,
    "start_time": "2022-01-05T12:07:30.974Z"
   },
   {
    "duration": -641,
    "start_time": "2022-01-05T12:07:30.982Z"
   },
   {
    "duration": -646,
    "start_time": "2022-01-05T12:07:30.988Z"
   },
   {
    "duration": -655,
    "start_time": "2022-01-05T12:07:30.997Z"
   },
   {
    "duration": -661,
    "start_time": "2022-01-05T12:07:31.004Z"
   },
   {
    "duration": -686,
    "start_time": "2022-01-05T12:07:31.046Z"
   },
   {
    "duration": -691,
    "start_time": "2022-01-05T12:07:31.052Z"
   },
   {
    "duration": -698,
    "start_time": "2022-01-05T12:07:31.060Z"
   },
   {
    "duration": -703,
    "start_time": "2022-01-05T12:07:31.065Z"
   },
   {
    "duration": -709,
    "start_time": "2022-01-05T12:07:31.072Z"
   },
   {
    "duration": -713,
    "start_time": "2022-01-05T12:07:31.078Z"
   },
   {
    "duration": -718,
    "start_time": "2022-01-05T12:07:31.084Z"
   },
   {
    "duration": -725,
    "start_time": "2022-01-05T12:07:31.092Z"
   },
   {
    "duration": -731,
    "start_time": "2022-01-05T12:07:31.099Z"
   },
   {
    "duration": -735,
    "start_time": "2022-01-05T12:07:31.104Z"
   },
   {
    "duration": -741,
    "start_time": "2022-01-05T12:07:31.111Z"
   },
   {
    "duration": -745,
    "start_time": "2022-01-05T12:07:31.116Z"
   },
   {
    "duration": -749,
    "start_time": "2022-01-05T12:07:31.123Z"
   },
   {
    "duration": -752,
    "start_time": "2022-01-05T12:07:31.128Z"
   },
   {
    "duration": -757,
    "start_time": "2022-01-05T12:07:31.135Z"
   },
   {
    "duration": -761,
    "start_time": "2022-01-05T12:07:31.140Z"
   },
   {
    "duration": -776,
    "start_time": "2022-01-05T12:07:31.157Z"
   },
   {
    "duration": -781,
    "start_time": "2022-01-05T12:07:31.164Z"
   },
   {
    "duration": -787,
    "start_time": "2022-01-05T12:07:31.171Z"
   },
   {
    "duration": -791,
    "start_time": "2022-01-05T12:07:31.177Z"
   },
   {
    "duration": -797,
    "start_time": "2022-01-05T12:07:31.184Z"
   },
   {
    "duration": -802,
    "start_time": "2022-01-05T12:07:31.190Z"
   },
   {
    "duration": -807,
    "start_time": "2022-01-05T12:07:31.196Z"
   },
   {
    "duration": -813,
    "start_time": "2022-01-05T12:07:31.203Z"
   },
   {
    "duration": -819,
    "start_time": "2022-01-05T12:07:31.210Z"
   },
   {
    "duration": -825,
    "start_time": "2022-01-05T12:07:31.217Z"
   },
   {
    "duration": -830,
    "start_time": "2022-01-05T12:07:31.223Z"
   },
   {
    "duration": -835,
    "start_time": "2022-01-05T12:07:31.229Z"
   },
   {
    "duration": -842,
    "start_time": "2022-01-05T12:07:31.237Z"
   },
   {
    "duration": -847,
    "start_time": "2022-01-05T12:07:31.243Z"
   },
   {
    "duration": -853,
    "start_time": "2022-01-05T12:07:31.250Z"
   },
   {
    "duration": -866,
    "start_time": "2022-01-05T12:07:31.264Z"
   },
   {
    "duration": -872,
    "start_time": "2022-01-05T12:07:31.270Z"
   },
   {
    "duration": -877,
    "start_time": "2022-01-05T12:07:31.277Z"
   },
   {
    "duration": -825,
    "start_time": "2022-01-05T12:07:31.286Z"
   },
   {
    "duration": -830,
    "start_time": "2022-01-05T12:07:31.292Z"
   },
   {
    "duration": -835,
    "start_time": "2022-01-05T12:07:31.298Z"
   },
   {
    "duration": -839,
    "start_time": "2022-01-05T12:07:31.303Z"
   },
   {
    "duration": -845,
    "start_time": "2022-01-05T12:07:31.310Z"
   },
   {
    "duration": -849,
    "start_time": "2022-01-05T12:07:31.316Z"
   },
   {
    "duration": 164,
    "start_time": "2022-01-05T12:08:14.369Z"
   },
   {
    "duration": 118,
    "start_time": "2022-01-05T12:08:19.064Z"
   },
   {
    "duration": 356,
    "start_time": "2022-01-05T12:08:21.422Z"
   },
   {
    "duration": 148,
    "start_time": "2022-01-05T12:08:25.824Z"
   },
   {
    "duration": 119,
    "start_time": "2022-01-05T12:08:28.712Z"
   },
   {
    "duration": 154,
    "start_time": "2022-01-05T12:08:35.784Z"
   },
   {
    "duration": 119,
    "start_time": "2022-01-05T12:08:39.487Z"
   },
   {
    "duration": 153,
    "start_time": "2022-01-05T12:08:44.062Z"
   },
   {
    "duration": 145,
    "start_time": "2022-01-05T12:08:51.292Z"
   },
   {
    "duration": 122,
    "start_time": "2022-01-05T12:08:54.512Z"
   },
   {
    "duration": 156,
    "start_time": "2022-01-05T12:08:56.311Z"
   },
   {
    "duration": 170,
    "start_time": "2022-01-05T12:09:01.136Z"
   },
   {
    "duration": 121,
    "start_time": "2022-01-05T12:09:05.116Z"
   },
   {
    "duration": 153,
    "start_time": "2022-01-05T12:09:10.976Z"
   },
   {
    "duration": 128,
    "start_time": "2022-01-05T12:09:14.887Z"
   },
   {
    "duration": 21,
    "start_time": "2022-01-05T12:09:35.233Z"
   },
   {
    "duration": 22,
    "start_time": "2022-01-05T12:09:37.842Z"
   },
   {
    "duration": 346,
    "start_time": "2022-01-05T12:09:51.473Z"
   },
   {
    "duration": 313,
    "start_time": "2022-01-05T12:09:57.658Z"
   },
   {
    "duration": 23,
    "start_time": "2022-01-05T12:10:01.408Z"
   },
   {
    "duration": 282,
    "start_time": "2022-01-05T12:10:03.424Z"
   },
   {
    "duration": 289,
    "start_time": "2022-01-05T12:10:05.035Z"
   },
   {
    "duration": 265,
    "start_time": "2022-01-05T12:10:09.217Z"
   },
   {
    "duration": 303,
    "start_time": "2022-01-05T12:10:11.060Z"
   },
   {
    "duration": 312,
    "start_time": "2022-01-05T12:10:12.651Z"
   },
   {
    "duration": 287,
    "start_time": "2022-01-05T12:10:14.306Z"
   },
   {
    "duration": 323,
    "start_time": "2022-01-05T12:10:16.129Z"
   },
   {
    "duration": 303,
    "start_time": "2022-01-05T12:10:17.169Z"
   },
   {
    "duration": 287,
    "start_time": "2022-01-05T12:10:19.617Z"
   },
   {
    "duration": 287,
    "start_time": "2022-01-05T12:10:20.725Z"
   },
   {
    "duration": 14,
    "start_time": "2022-01-05T12:10:45.353Z"
   },
   {
    "duration": 25,
    "start_time": "2022-01-05T12:11:36.984Z"
   },
   {
    "duration": 18,
    "start_time": "2022-01-05T12:14:50.560Z"
   },
   {
    "duration": 6,
    "start_time": "2022-01-05T12:14:51.698Z"
   },
   {
    "duration": 197,
    "start_time": "2022-01-05T12:14:54.713Z"
   },
   {
    "duration": 13,
    "start_time": "2022-01-05T12:14:59.944Z"
   },
   {
    "duration": 156,
    "start_time": "2022-01-05T12:15:01.449Z"
   },
   {
    "duration": 15,
    "start_time": "2022-01-05T12:15:03.592Z"
   },
   {
    "duration": 237,
    "start_time": "2022-01-05T12:15:05.667Z"
   },
   {
    "duration": 252,
    "start_time": "2022-01-05T12:15:57.043Z"
   },
   {
    "duration": 148,
    "start_time": "2022-01-05T12:16:19.672Z"
   },
   {
    "duration": 167,
    "start_time": "2022-01-05T12:16:24.733Z"
   },
   {
    "duration": 14,
    "start_time": "2022-01-05T12:16:37.620Z"
   },
   {
    "duration": 148,
    "start_time": "2022-01-05T12:16:39.475Z"
   },
   {
    "duration": 163,
    "start_time": "2022-01-05T12:16:48.405Z"
   },
   {
    "duration": 13,
    "start_time": "2022-01-05T12:16:54.813Z"
   },
   {
    "duration": 235,
    "start_time": "2022-01-05T12:17:09.117Z"
   },
   {
    "duration": 148,
    "start_time": "2022-01-05T12:17:17.789Z"
   },
   {
    "duration": 14,
    "start_time": "2022-01-05T12:17:26.750Z"
   },
   {
    "duration": 179,
    "start_time": "2022-01-05T12:17:36.895Z"
   },
   {
    "duration": 15,
    "start_time": "2022-01-05T12:17:51.588Z"
   },
   {
    "duration": 244,
    "start_time": "2022-01-05T12:18:01.952Z"
   },
   {
    "duration": 151,
    "start_time": "2022-01-05T12:18:13.087Z"
   },
   {
    "duration": 5,
    "start_time": "2022-01-05T12:19:20.105Z"
   },
   {
    "duration": 4,
    "start_time": "2022-01-05T12:19:22.208Z"
   },
   {
    "duration": 21,
    "start_time": "2022-01-05T12:19:28.622Z"
   },
   {
    "duration": 29,
    "start_time": "2022-01-05T12:19:32.400Z"
   },
   {
    "duration": 5,
    "start_time": "2022-01-05T12:19:34.543Z"
   },
   {
    "duration": 4,
    "start_time": "2022-01-05T12:19:35.512Z"
   }
  ],
  "kernelspec": {
   "display_name": "Python 3",
   "language": "python",
   "name": "python3"
  },
  "language_info": {
   "codemirror_mode": {
    "name": "ipython",
    "version": 3
   },
   "file_extension": ".py",
   "mimetype": "text/x-python",
   "name": "python",
   "nbconvert_exporter": "python",
   "pygments_lexer": "ipython3",
   "version": "3.8.8"
  },
  "toc": {
   "base_numbering": 1,
   "nav_menu": {},
   "number_sections": true,
   "sideBar": true,
   "skip_h1_title": true,
   "title_cell": "Table of Contents",
   "title_sidebar": "Contents",
   "toc_cell": false,
   "toc_position": {
    "height": "calc(100% - 180px)",
    "left": "10px",
    "top": "150px",
    "width": "165px"
   },
   "toc_section_display": true,
   "toc_window_display": true
  }
 },
 "nbformat": 4,
 "nbformat_minor": 2
}
