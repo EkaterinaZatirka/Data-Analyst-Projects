{
 "cells": [
  {
   "cell_type": "markdown",
   "metadata": {
    "toc": true
   },
   "source": [
    "<h1>Содержание<span class=\"tocSkip\"></span></h1>\n",
    "<div class=\"toc\"><ul class=\"toc-item\"><li><span><a href=\"#Изучение-данных-из-файла\" data-toc-modified-id=\"Изучение-данных-из-файла-1\"><span class=\"toc-item-num\">1&nbsp;&nbsp;</span>Изучение данных из файла</a></span><ul class=\"toc-item\"><li><span><a href=\"#Вывод\" data-toc-modified-id=\"Вывод-1.1\"><span class=\"toc-item-num\">1.1&nbsp;&nbsp;</span>Вывод</a></span></li></ul></li><li><span><a href=\"#Предобработка-данных\" data-toc-modified-id=\"Предобработка-данных-2\"><span class=\"toc-item-num\">2&nbsp;&nbsp;</span>Предобработка данных</a></span><ul class=\"toc-item\"><li><span><a href=\"#Вывод\" data-toc-modified-id=\"Вывод-2.1\"><span class=\"toc-item-num\">2.1&nbsp;&nbsp;</span>Вывод</a></span></li></ul></li><li><span><a href=\"#Расчёты-и-добавление-результатов-в-таблицу\" data-toc-modified-id=\"Расчёты-и-добавление-результатов-в-таблицу-3\"><span class=\"toc-item-num\">3&nbsp;&nbsp;</span>Расчёты и добавление результатов в таблицу</a></span><ul class=\"toc-item\"><li><span><a href=\"#Вывод\" data-toc-modified-id=\"Вывод-3.1\"><span class=\"toc-item-num\">3.1&nbsp;&nbsp;</span>Вывод</a></span></li></ul></li><li><span><a href=\"#Исследовательский-анализ-данных\" data-toc-modified-id=\"Исследовательский-анализ-данных-4\"><span class=\"toc-item-num\">4&nbsp;&nbsp;</span>Исследовательский анализ данных</a></span><ul class=\"toc-item\"><li><span><a href=\"#Вывод\" data-toc-modified-id=\"Вывод-4.1\"><span class=\"toc-item-num\">4.1&nbsp;&nbsp;</span>Вывод</a></span></li><li><span><a href=\"#Вывод\" data-toc-modified-id=\"Вывод-4.2\"><span class=\"toc-item-num\">4.2&nbsp;&nbsp;</span>Вывод</a></span></li></ul></li><li><span><a href=\"#Общий-вывод\" data-toc-modified-id=\"Общий-вывод-5\"><span class=\"toc-item-num\">5&nbsp;&nbsp;</span>Общий вывод</a></span></li><li><span><a href=\"#Чек-лист-готовности-проекта\" data-toc-modified-id=\"Чек-лист-готовности-проекта-6\"><span class=\"toc-item-num\">6&nbsp;&nbsp;</span>Чек-лист готовности проекта</a></span></li></ul></div>"
   ]
  },
  {
   "cell_type": "markdown",
   "metadata": {},
   "source": [
    "# Исследование объявлений о продаже квартир\n",
    "\n",
    "В вашем распоряжении данные сервиса Яндекс.Недвижимость — архив объявлений о продаже квартир в Санкт-Петербурге и соседних населённых пунктах за несколько лет. Нужно научиться определять рыночную стоимость объектов недвижимости. Ваша задача — установить параметры. Это позволит построить автоматизированную систему: она отследит аномалии и мошенническую деятельность. \n",
    "\n",
    "По каждой квартире на продажу доступны два вида данных. Первые вписаны пользователем, вторые получены автоматически на основе картографических данных. Например, расстояние до центра, аэропорта, ближайшего парка и водоёма. "
   ]
  },
  {
   "cell_type": "markdown",
   "metadata": {},
   "source": [
    "Описание данных\n",
    "\n",
    "airports_nearest — расстояние до ближайшего аэропорта в метрах (м)\n",
    "\n",
    "balcony — число балконов\n",
    "\n",
    "ceiling_height — высота потолков (м)\n",
    "\n",
    "cityCenters_nearest — расстояние до центра города (м)\n",
    "\n",
    "days_exposition — сколько дней было размещено объявление (от публикации до снятия)\n",
    "\n",
    "first_day_exposition — дата публикации\n",
    "\n",
    "floor — этаж\n",
    "\n",
    "floors_total — всего этажей в доме\n",
    "\n",
    "is_apartment — апартаменты (булев тип)\n",
    "\n",
    "kitchen_area — площадь кухни в квадратных метрах (м²)\n",
    "\n",
    "last_price — цена на момент снятия с публикации\n",
    "\n",
    "living_area — жилая площадь в квадратных метрах (м²)\n",
    "\n",
    "locality_name — название населённого пункта\n",
    "\n",
    "open_plan — свободная планировка (булев тип)\n",
    "\n",
    "parks_around3000 — число парков в радиусе 3 км\n",
    "\n",
    "parks_nearest — расстояние до ближайшего парка (м)\n",
    "\n",
    "ponds_around3000 — число водоёмов в радиусе 3 км\n",
    "\n",
    "ponds_nearest — расстояние до ближайшего водоёма (м)\n",
    "\n",
    "rooms — число комнат\n",
    "\n",
    "studio — квартира-студия (булев тип)\n",
    "\n",
    "total_area — площадь квартиры в квадратных метрах (м²)\n",
    "\n",
    "total_images — число фотографий квартиры в объявлении"
   ]
  },
  {
   "cell_type": "markdown",
   "metadata": {},
   "source": [
    "## Изучение данных из файла"
   ]
  },
  {
   "cell_type": "code",
   "execution_count": 1,
   "metadata": {},
   "outputs": [
    {
     "name": "stdout",
     "output_type": "stream",
     "text": [
      "<class 'pandas.core.frame.DataFrame'>\n",
      "RangeIndex: 23699 entries, 0 to 23698\n",
      "Data columns (total 22 columns):\n",
      "total_images            23699 non-null int64\n",
      "last_price              23699 non-null float64\n",
      "total_area              23699 non-null float64\n",
      "first_day_exposition    23699 non-null object\n",
      "rooms                   23699 non-null int64\n",
      "ceiling_height          14504 non-null float64\n",
      "floors_total            23613 non-null float64\n",
      "living_area             21796 non-null float64\n",
      "floor                   23699 non-null int64\n",
      "is_apartment            2775 non-null object\n",
      "studio                  23699 non-null bool\n",
      "open_plan               23699 non-null bool\n",
      "kitchen_area            21421 non-null float64\n",
      "balcony                 12180 non-null float64\n",
      "locality_name           23650 non-null object\n",
      "airports_nearest        18157 non-null float64\n",
      "cityCenters_nearest     18180 non-null float64\n",
      "parks_around3000        18181 non-null float64\n",
      "parks_nearest           8079 non-null float64\n",
      "ponds_around3000        18181 non-null float64\n",
      "ponds_nearest           9110 non-null float64\n",
      "days_exposition         20518 non-null float64\n",
      "dtypes: bool(2), float64(14), int64(3), object(3)\n",
      "memory usage: 3.7+ MB\n",
      "None\n"
     ]
    },
    {
     "data": {
      "text/html": [
       "<div>\n",
       "<style scoped>\n",
       "    .dataframe tbody tr th:only-of-type {\n",
       "        vertical-align: middle;\n",
       "    }\n",
       "\n",
       "    .dataframe tbody tr th {\n",
       "        vertical-align: top;\n",
       "    }\n",
       "\n",
       "    .dataframe thead th {\n",
       "        text-align: right;\n",
       "    }\n",
       "</style>\n",
       "<table border=\"1\" class=\"dataframe\">\n",
       "  <thead>\n",
       "    <tr style=\"text-align: right;\">\n",
       "      <th></th>\n",
       "      <th>total_images</th>\n",
       "      <th>last_price</th>\n",
       "      <th>total_area</th>\n",
       "      <th>first_day_exposition</th>\n",
       "      <th>rooms</th>\n",
       "      <th>ceiling_height</th>\n",
       "      <th>floors_total</th>\n",
       "      <th>living_area</th>\n",
       "      <th>floor</th>\n",
       "      <th>is_apartment</th>\n",
       "      <th>...</th>\n",
       "      <th>kitchen_area</th>\n",
       "      <th>balcony</th>\n",
       "      <th>locality_name</th>\n",
       "      <th>airports_nearest</th>\n",
       "      <th>cityCenters_nearest</th>\n",
       "      <th>parks_around3000</th>\n",
       "      <th>parks_nearest</th>\n",
       "      <th>ponds_around3000</th>\n",
       "      <th>ponds_nearest</th>\n",
       "      <th>days_exposition</th>\n",
       "    </tr>\n",
       "  </thead>\n",
       "  <tbody>\n",
       "    <tr>\n",
       "      <td>0</td>\n",
       "      <td>20</td>\n",
       "      <td>13000000.0</td>\n",
       "      <td>108.00</td>\n",
       "      <td>2019-03-07T00:00:00</td>\n",
       "      <td>3</td>\n",
       "      <td>2.70</td>\n",
       "      <td>16.0</td>\n",
       "      <td>51.00</td>\n",
       "      <td>8</td>\n",
       "      <td>NaN</td>\n",
       "      <td>...</td>\n",
       "      <td>25.00</td>\n",
       "      <td>NaN</td>\n",
       "      <td>Санкт-Петербург</td>\n",
       "      <td>18863.0</td>\n",
       "      <td>16028.0</td>\n",
       "      <td>1.0</td>\n",
       "      <td>482.0</td>\n",
       "      <td>2.0</td>\n",
       "      <td>755.0</td>\n",
       "      <td>NaN</td>\n",
       "    </tr>\n",
       "    <tr>\n",
       "      <td>1</td>\n",
       "      <td>7</td>\n",
       "      <td>3350000.0</td>\n",
       "      <td>40.40</td>\n",
       "      <td>2018-12-04T00:00:00</td>\n",
       "      <td>1</td>\n",
       "      <td>NaN</td>\n",
       "      <td>11.0</td>\n",
       "      <td>18.60</td>\n",
       "      <td>1</td>\n",
       "      <td>NaN</td>\n",
       "      <td>...</td>\n",
       "      <td>11.00</td>\n",
       "      <td>2.0</td>\n",
       "      <td>посёлок Шушары</td>\n",
       "      <td>12817.0</td>\n",
       "      <td>18603.0</td>\n",
       "      <td>0.0</td>\n",
       "      <td>NaN</td>\n",
       "      <td>0.0</td>\n",
       "      <td>NaN</td>\n",
       "      <td>81.0</td>\n",
       "    </tr>\n",
       "    <tr>\n",
       "      <td>2</td>\n",
       "      <td>10</td>\n",
       "      <td>5196000.0</td>\n",
       "      <td>56.00</td>\n",
       "      <td>2015-08-20T00:00:00</td>\n",
       "      <td>2</td>\n",
       "      <td>NaN</td>\n",
       "      <td>5.0</td>\n",
       "      <td>34.30</td>\n",
       "      <td>4</td>\n",
       "      <td>NaN</td>\n",
       "      <td>...</td>\n",
       "      <td>8.30</td>\n",
       "      <td>0.0</td>\n",
       "      <td>Санкт-Петербург</td>\n",
       "      <td>21741.0</td>\n",
       "      <td>13933.0</td>\n",
       "      <td>1.0</td>\n",
       "      <td>90.0</td>\n",
       "      <td>2.0</td>\n",
       "      <td>574.0</td>\n",
       "      <td>558.0</td>\n",
       "    </tr>\n",
       "    <tr>\n",
       "      <td>3</td>\n",
       "      <td>0</td>\n",
       "      <td>64900000.0</td>\n",
       "      <td>159.00</td>\n",
       "      <td>2015-07-24T00:00:00</td>\n",
       "      <td>3</td>\n",
       "      <td>NaN</td>\n",
       "      <td>14.0</td>\n",
       "      <td>NaN</td>\n",
       "      <td>9</td>\n",
       "      <td>NaN</td>\n",
       "      <td>...</td>\n",
       "      <td>NaN</td>\n",
       "      <td>0.0</td>\n",
       "      <td>Санкт-Петербург</td>\n",
       "      <td>28098.0</td>\n",
       "      <td>6800.0</td>\n",
       "      <td>2.0</td>\n",
       "      <td>84.0</td>\n",
       "      <td>3.0</td>\n",
       "      <td>234.0</td>\n",
       "      <td>424.0</td>\n",
       "    </tr>\n",
       "    <tr>\n",
       "      <td>4</td>\n",
       "      <td>2</td>\n",
       "      <td>10000000.0</td>\n",
       "      <td>100.00</td>\n",
       "      <td>2018-06-19T00:00:00</td>\n",
       "      <td>2</td>\n",
       "      <td>3.03</td>\n",
       "      <td>14.0</td>\n",
       "      <td>32.00</td>\n",
       "      <td>13</td>\n",
       "      <td>NaN</td>\n",
       "      <td>...</td>\n",
       "      <td>41.00</td>\n",
       "      <td>NaN</td>\n",
       "      <td>Санкт-Петербург</td>\n",
       "      <td>31856.0</td>\n",
       "      <td>8098.0</td>\n",
       "      <td>2.0</td>\n",
       "      <td>112.0</td>\n",
       "      <td>1.0</td>\n",
       "      <td>48.0</td>\n",
       "      <td>121.0</td>\n",
       "    </tr>\n",
       "    <tr>\n",
       "      <td>5</td>\n",
       "      <td>10</td>\n",
       "      <td>2890000.0</td>\n",
       "      <td>30.40</td>\n",
       "      <td>2018-09-10T00:00:00</td>\n",
       "      <td>1</td>\n",
       "      <td>NaN</td>\n",
       "      <td>12.0</td>\n",
       "      <td>14.40</td>\n",
       "      <td>5</td>\n",
       "      <td>NaN</td>\n",
       "      <td>...</td>\n",
       "      <td>9.10</td>\n",
       "      <td>NaN</td>\n",
       "      <td>городской посёлок Янино-1</td>\n",
       "      <td>NaN</td>\n",
       "      <td>NaN</td>\n",
       "      <td>NaN</td>\n",
       "      <td>NaN</td>\n",
       "      <td>NaN</td>\n",
       "      <td>NaN</td>\n",
       "      <td>55.0</td>\n",
       "    </tr>\n",
       "    <tr>\n",
       "      <td>6</td>\n",
       "      <td>6</td>\n",
       "      <td>3700000.0</td>\n",
       "      <td>37.30</td>\n",
       "      <td>2017-11-02T00:00:00</td>\n",
       "      <td>1</td>\n",
       "      <td>NaN</td>\n",
       "      <td>26.0</td>\n",
       "      <td>10.60</td>\n",
       "      <td>6</td>\n",
       "      <td>NaN</td>\n",
       "      <td>...</td>\n",
       "      <td>14.40</td>\n",
       "      <td>1.0</td>\n",
       "      <td>посёлок Парголово</td>\n",
       "      <td>52996.0</td>\n",
       "      <td>19143.0</td>\n",
       "      <td>0.0</td>\n",
       "      <td>NaN</td>\n",
       "      <td>0.0</td>\n",
       "      <td>NaN</td>\n",
       "      <td>155.0</td>\n",
       "    </tr>\n",
       "    <tr>\n",
       "      <td>7</td>\n",
       "      <td>5</td>\n",
       "      <td>7915000.0</td>\n",
       "      <td>71.60</td>\n",
       "      <td>2019-04-18T00:00:00</td>\n",
       "      <td>2</td>\n",
       "      <td>NaN</td>\n",
       "      <td>24.0</td>\n",
       "      <td>NaN</td>\n",
       "      <td>22</td>\n",
       "      <td>NaN</td>\n",
       "      <td>...</td>\n",
       "      <td>18.90</td>\n",
       "      <td>2.0</td>\n",
       "      <td>Санкт-Петербург</td>\n",
       "      <td>23982.0</td>\n",
       "      <td>11634.0</td>\n",
       "      <td>0.0</td>\n",
       "      <td>NaN</td>\n",
       "      <td>0.0</td>\n",
       "      <td>NaN</td>\n",
       "      <td>NaN</td>\n",
       "    </tr>\n",
       "    <tr>\n",
       "      <td>8</td>\n",
       "      <td>20</td>\n",
       "      <td>2900000.0</td>\n",
       "      <td>33.16</td>\n",
       "      <td>2018-05-23T00:00:00</td>\n",
       "      <td>1</td>\n",
       "      <td>NaN</td>\n",
       "      <td>27.0</td>\n",
       "      <td>15.43</td>\n",
       "      <td>26</td>\n",
       "      <td>NaN</td>\n",
       "      <td>...</td>\n",
       "      <td>8.81</td>\n",
       "      <td>NaN</td>\n",
       "      <td>посёлок Мурино</td>\n",
       "      <td>NaN</td>\n",
       "      <td>NaN</td>\n",
       "      <td>NaN</td>\n",
       "      <td>NaN</td>\n",
       "      <td>NaN</td>\n",
       "      <td>NaN</td>\n",
       "      <td>189.0</td>\n",
       "    </tr>\n",
       "    <tr>\n",
       "      <td>9</td>\n",
       "      <td>18</td>\n",
       "      <td>5400000.0</td>\n",
       "      <td>61.00</td>\n",
       "      <td>2017-02-26T00:00:00</td>\n",
       "      <td>3</td>\n",
       "      <td>2.50</td>\n",
       "      <td>9.0</td>\n",
       "      <td>43.60</td>\n",
       "      <td>7</td>\n",
       "      <td>NaN</td>\n",
       "      <td>...</td>\n",
       "      <td>6.50</td>\n",
       "      <td>2.0</td>\n",
       "      <td>Санкт-Петербург</td>\n",
       "      <td>50898.0</td>\n",
       "      <td>15008.0</td>\n",
       "      <td>0.0</td>\n",
       "      <td>NaN</td>\n",
       "      <td>0.0</td>\n",
       "      <td>NaN</td>\n",
       "      <td>289.0</td>\n",
       "    </tr>\n",
       "    <tr>\n",
       "      <td>10</td>\n",
       "      <td>5</td>\n",
       "      <td>5050000.0</td>\n",
       "      <td>39.60</td>\n",
       "      <td>2017-11-16T00:00:00</td>\n",
       "      <td>1</td>\n",
       "      <td>2.67</td>\n",
       "      <td>12.0</td>\n",
       "      <td>20.30</td>\n",
       "      <td>3</td>\n",
       "      <td>NaN</td>\n",
       "      <td>...</td>\n",
       "      <td>8.50</td>\n",
       "      <td>NaN</td>\n",
       "      <td>Санкт-Петербург</td>\n",
       "      <td>38357.0</td>\n",
       "      <td>13878.0</td>\n",
       "      <td>1.0</td>\n",
       "      <td>310.0</td>\n",
       "      <td>2.0</td>\n",
       "      <td>553.0</td>\n",
       "      <td>137.0</td>\n",
       "    </tr>\n",
       "    <tr>\n",
       "      <td>11</td>\n",
       "      <td>9</td>\n",
       "      <td>3300000.0</td>\n",
       "      <td>44.00</td>\n",
       "      <td>2018-08-27T00:00:00</td>\n",
       "      <td>2</td>\n",
       "      <td>NaN</td>\n",
       "      <td>5.0</td>\n",
       "      <td>31.00</td>\n",
       "      <td>4</td>\n",
       "      <td>False</td>\n",
       "      <td>...</td>\n",
       "      <td>6.00</td>\n",
       "      <td>1.0</td>\n",
       "      <td>Ломоносов</td>\n",
       "      <td>48252.0</td>\n",
       "      <td>51677.0</td>\n",
       "      <td>0.0</td>\n",
       "      <td>NaN</td>\n",
       "      <td>0.0</td>\n",
       "      <td>NaN</td>\n",
       "      <td>7.0</td>\n",
       "    </tr>\n",
       "    <tr>\n",
       "      <td>12</td>\n",
       "      <td>10</td>\n",
       "      <td>3890000.0</td>\n",
       "      <td>54.00</td>\n",
       "      <td>2016-06-30T00:00:00</td>\n",
       "      <td>2</td>\n",
       "      <td>NaN</td>\n",
       "      <td>5.0</td>\n",
       "      <td>30.00</td>\n",
       "      <td>5</td>\n",
       "      <td>NaN</td>\n",
       "      <td>...</td>\n",
       "      <td>9.00</td>\n",
       "      <td>0.0</td>\n",
       "      <td>Сертолово</td>\n",
       "      <td>NaN</td>\n",
       "      <td>NaN</td>\n",
       "      <td>NaN</td>\n",
       "      <td>NaN</td>\n",
       "      <td>NaN</td>\n",
       "      <td>NaN</td>\n",
       "      <td>90.0</td>\n",
       "    </tr>\n",
       "    <tr>\n",
       "      <td>13</td>\n",
       "      <td>20</td>\n",
       "      <td>3550000.0</td>\n",
       "      <td>42.80</td>\n",
       "      <td>2017-07-01T00:00:00</td>\n",
       "      <td>2</td>\n",
       "      <td>2.56</td>\n",
       "      <td>5.0</td>\n",
       "      <td>27.00</td>\n",
       "      <td>5</td>\n",
       "      <td>NaN</td>\n",
       "      <td>...</td>\n",
       "      <td>5.20</td>\n",
       "      <td>1.0</td>\n",
       "      <td>Петергоф</td>\n",
       "      <td>37868.0</td>\n",
       "      <td>33058.0</td>\n",
       "      <td>1.0</td>\n",
       "      <td>294.0</td>\n",
       "      <td>3.0</td>\n",
       "      <td>298.0</td>\n",
       "      <td>366.0</td>\n",
       "    </tr>\n",
       "    <tr>\n",
       "      <td>14</td>\n",
       "      <td>1</td>\n",
       "      <td>4400000.0</td>\n",
       "      <td>36.00</td>\n",
       "      <td>2016-06-23T00:00:00</td>\n",
       "      <td>1</td>\n",
       "      <td>NaN</td>\n",
       "      <td>6.0</td>\n",
       "      <td>17.00</td>\n",
       "      <td>1</td>\n",
       "      <td>NaN</td>\n",
       "      <td>...</td>\n",
       "      <td>8.00</td>\n",
       "      <td>0.0</td>\n",
       "      <td>Пушкин</td>\n",
       "      <td>20782.0</td>\n",
       "      <td>30759.0</td>\n",
       "      <td>0.0</td>\n",
       "      <td>NaN</td>\n",
       "      <td>1.0</td>\n",
       "      <td>96.0</td>\n",
       "      <td>203.0</td>\n",
       "    </tr>\n",
       "  </tbody>\n",
       "</table>\n",
       "<p>15 rows × 22 columns</p>\n",
       "</div>"
      ],
      "text/plain": [
       "    total_images  last_price  total_area first_day_exposition  rooms  \\\n",
       "0             20  13000000.0      108.00  2019-03-07T00:00:00      3   \n",
       "1              7   3350000.0       40.40  2018-12-04T00:00:00      1   \n",
       "2             10   5196000.0       56.00  2015-08-20T00:00:00      2   \n",
       "3              0  64900000.0      159.00  2015-07-24T00:00:00      3   \n",
       "4              2  10000000.0      100.00  2018-06-19T00:00:00      2   \n",
       "5             10   2890000.0       30.40  2018-09-10T00:00:00      1   \n",
       "6              6   3700000.0       37.30  2017-11-02T00:00:00      1   \n",
       "7              5   7915000.0       71.60  2019-04-18T00:00:00      2   \n",
       "8             20   2900000.0       33.16  2018-05-23T00:00:00      1   \n",
       "9             18   5400000.0       61.00  2017-02-26T00:00:00      3   \n",
       "10             5   5050000.0       39.60  2017-11-16T00:00:00      1   \n",
       "11             9   3300000.0       44.00  2018-08-27T00:00:00      2   \n",
       "12            10   3890000.0       54.00  2016-06-30T00:00:00      2   \n",
       "13            20   3550000.0       42.80  2017-07-01T00:00:00      2   \n",
       "14             1   4400000.0       36.00  2016-06-23T00:00:00      1   \n",
       "\n",
       "    ceiling_height  floors_total  living_area  floor is_apartment  ...  \\\n",
       "0             2.70          16.0        51.00      8          NaN  ...   \n",
       "1              NaN          11.0        18.60      1          NaN  ...   \n",
       "2              NaN           5.0        34.30      4          NaN  ...   \n",
       "3              NaN          14.0          NaN      9          NaN  ...   \n",
       "4             3.03          14.0        32.00     13          NaN  ...   \n",
       "5              NaN          12.0        14.40      5          NaN  ...   \n",
       "6              NaN          26.0        10.60      6          NaN  ...   \n",
       "7              NaN          24.0          NaN     22          NaN  ...   \n",
       "8              NaN          27.0        15.43     26          NaN  ...   \n",
       "9             2.50           9.0        43.60      7          NaN  ...   \n",
       "10            2.67          12.0        20.30      3          NaN  ...   \n",
       "11             NaN           5.0        31.00      4        False  ...   \n",
       "12             NaN           5.0        30.00      5          NaN  ...   \n",
       "13            2.56           5.0        27.00      5          NaN  ...   \n",
       "14             NaN           6.0        17.00      1          NaN  ...   \n",
       "\n",
       "    kitchen_area  balcony              locality_name  airports_nearest  \\\n",
       "0          25.00      NaN            Санкт-Петербург           18863.0   \n",
       "1          11.00      2.0             посёлок Шушары           12817.0   \n",
       "2           8.30      0.0            Санкт-Петербург           21741.0   \n",
       "3            NaN      0.0            Санкт-Петербург           28098.0   \n",
       "4          41.00      NaN            Санкт-Петербург           31856.0   \n",
       "5           9.10      NaN  городской посёлок Янино-1               NaN   \n",
       "6          14.40      1.0          посёлок Парголово           52996.0   \n",
       "7          18.90      2.0            Санкт-Петербург           23982.0   \n",
       "8           8.81      NaN             посёлок Мурино               NaN   \n",
       "9           6.50      2.0            Санкт-Петербург           50898.0   \n",
       "10          8.50      NaN            Санкт-Петербург           38357.0   \n",
       "11          6.00      1.0                  Ломоносов           48252.0   \n",
       "12          9.00      0.0                  Сертолово               NaN   \n",
       "13          5.20      1.0                   Петергоф           37868.0   \n",
       "14          8.00      0.0                     Пушкин           20782.0   \n",
       "\n",
       "   cityCenters_nearest  parks_around3000  parks_nearest  ponds_around3000  \\\n",
       "0              16028.0               1.0          482.0               2.0   \n",
       "1              18603.0               0.0            NaN               0.0   \n",
       "2              13933.0               1.0           90.0               2.0   \n",
       "3               6800.0               2.0           84.0               3.0   \n",
       "4               8098.0               2.0          112.0               1.0   \n",
       "5                  NaN               NaN            NaN               NaN   \n",
       "6              19143.0               0.0            NaN               0.0   \n",
       "7              11634.0               0.0            NaN               0.0   \n",
       "8                  NaN               NaN            NaN               NaN   \n",
       "9              15008.0               0.0            NaN               0.0   \n",
       "10             13878.0               1.0          310.0               2.0   \n",
       "11             51677.0               0.0            NaN               0.0   \n",
       "12                 NaN               NaN            NaN               NaN   \n",
       "13             33058.0               1.0          294.0               3.0   \n",
       "14             30759.0               0.0            NaN               1.0   \n",
       "\n",
       "    ponds_nearest  days_exposition  \n",
       "0           755.0              NaN  \n",
       "1             NaN             81.0  \n",
       "2           574.0            558.0  \n",
       "3           234.0            424.0  \n",
       "4            48.0            121.0  \n",
       "5             NaN             55.0  \n",
       "6             NaN            155.0  \n",
       "7             NaN              NaN  \n",
       "8             NaN            189.0  \n",
       "9             NaN            289.0  \n",
       "10          553.0            137.0  \n",
       "11            NaN              7.0  \n",
       "12            NaN             90.0  \n",
       "13          298.0            366.0  \n",
       "14           96.0            203.0  \n",
       "\n",
       "[15 rows x 22 columns]"
      ]
     },
     "metadata": {},
     "output_type": "display_data"
    }
   ],
   "source": [
    "import pandas as pd\n",
    "import numpy as np\n",
    "import matplotlib.pyplot as plt\n",
    "server_path = '/datasets/real_estate_data.csv'\n",
    "filename = 'real_estate_data.csv'\n",
    "try:\n",
    "    data = pd.read_csv(server_path, sep='\\t')\n",
    "except: \n",
    "    data = pd.read_csv(filename)\n",
    "print(data.info())\n",
    "display(data.head(15))\n",
    "#print(data.describe())"
   ]
  },
  {
   "cell_type": "markdown",
   "metadata": {},
   "source": [
    "### Вывод"
   ]
  },
  {
   "cell_type": "markdown",
   "metadata": {},
   "source": [
    "Не во всех объявлениях указана жилая площадь, площадь кухни, высота потолков в квартире, наличие балкона, количество этажей в доме, название района,  расстояние до центра, аэропортов, парков, водоемов. \n",
    "\n",
    "Не во всех объявлениях указан населенный пункт.\n",
    "\n",
    "В части данных, заполняемых атоматически (расстояние до центра, аэропортов, парков, водоемов) необходимо передать информацию разработчикам.\n",
    "\n",
    "Странно, что формат значений в графе is_apartment не является булевым, как сказано в описании, хотя в графах studio и open_plan тип соответствует описанию."
   ]
  },
  {
   "cell_type": "markdown",
   "metadata": {},
   "source": [
    "## Предобработка данных"
   ]
  },
  {
   "cell_type": "code",
   "execution_count": 2,
   "metadata": {},
   "outputs": [
    {
     "name": "stdout",
     "output_type": "stream",
     "text": [
      "<bound method Series.max of 0        16028.0\n",
      "1        18603.0\n",
      "2        13933.0\n",
      "3         6800.0\n",
      "4         8098.0\n",
      "          ...   \n",
      "23694     4232.0\n",
      "23695        NaN\n",
      "23696        NaN\n",
      "23697    10364.0\n",
      "23698        NaN\n",
      "Name: cityCenters_nearest, Length: 23699, dtype: float64>\n"
     ]
    }
   ],
   "source": [
    "data.duplicated().sum()# дубликатов нет\n",
    "print(data['cityCenters_nearest'].max)"
   ]
  },
  {
   "cell_type": "code",
   "execution_count": 3,
   "metadata": {},
   "outputs": [],
   "source": [
    "data['balcony'] = data['balcony'].fillna(0) #если собственник не указал наличие балкона, считаю, что его нет, меняю значение на 0\n",
    "data['parks_around3000'] = data['parks_around3000'].fillna(0) #если нет сведений о парках в радиусе 3 километров,\n",
    "#считаю, что парков нет, заменяю значение на 0, также меняю на 0 соответствующее значение в графе parks_nearest\n",
    "#аналогично для водоемов\n",
    "data['parks_nearest'] = data['parks_nearest'].fillna(0)\n",
    "data['ponds_around3000'] = data['ponds_around3000'].fillna(0)\n",
    "data['ponds_nearest'] = data['ponds_nearest'].fillna(0)\n",
    "#data['cityCenters_nearest'] = data['cityCenters_nearest'].fillna(0)\n",
    "#data['airports_nearest'] = data['airports_nearest'].fillna(0)\n"
   ]
  },
  {
   "cell_type": "code",
   "execution_count": 4,
   "metadata": {},
   "outputs": [],
   "source": [
    "data['living_area'] = data['living_area'].fillna(data.groupby('total_area')['living_area'].transform('median'))\n",
    "data['kitchen_area'] = data['total_area'] - data['living_area']\n",
    "\n",
    "data = data.dropna(subset = ['locality_name']) #удаляю строки с пропущенными названиями населенных пунктов (их всего 49)\n",
    "\n",
    "data['cityCenters_nearest'] = data['cityCenters_nearest'].fillna(data.groupby('locality_name')['cityCenters_nearest'].transform('mean'))\n",
    "\n",
    "data['airports_nearest'] = data['airports_nearest'].fillna(data.groupby('locality_name')['airports_nearest'].transform('mean')) \n",
    "\n",
    "data['cityCenters_nearest'] = data['cityCenters_nearest'].fillna(99999)\n",
    "data['airports_nearest'] = data['airports_nearest'].fillna(99999)\n",
    "\n",
    "data['rooms'].value_counts() # у 197 объявлений количество квартир равно 0, и это не все студии\n",
    "data['studio'].value_counts() # при этом студий всего 149\n",
    "data[data['studio'] == 1]['rooms'].unique()\n",
    "data[data['studio'] == 1]['rooms'].sum() # из них у 11 студий указано по 1 комнате\n",
    "\n",
    "data['days_exposition'] = data['days_exposition'].fillna(99999)\n",
    "data['floors_total'] = data['floors_total'].fillna(99999)\n",
    "\n",
    "#print(data.info())"
   ]
  },
  {
   "cell_type": "code",
   "execution_count": 5,
   "metadata": {},
   "outputs": [],
   "source": [
    "#Замена типа данных на целочисленный\n",
    "data['airports_nearest'] = data['airports_nearest'].astype('int')\n",
    "data['cityCenters_nearest'] = data['cityCenters_nearest'].astype('int')\n",
    "data['parks_around3000'] = data['parks_around3000'].astype('int')\n",
    "data['parks_nearest'] = data['parks_nearest'].astype('int')\n",
    "data['ponds_around3000'] = data['ponds_around3000'].astype('int')\n",
    "data['ponds_nearest'] = data['ponds_nearest'].astype('int')\n",
    "data['last_price'] = data['last_price'].astype('int')\n",
    "data['balcony'] = data['last_price'].astype('int')\n",
    "data['days_exposition'] = data['days_exposition'].astype('int')\n",
    "data['floors_total'] = data['floors_total'].astype('int')\n",
    "data['is_apartment'] = data['is_apartment'].astype('bool')"
   ]
  },
  {
   "cell_type": "code",
   "execution_count": 6,
   "metadata": {},
   "outputs": [],
   "source": [
    "#print(data['ceiling_height'].unique()) #есть объявления с указанной высотой потолков более 20 метров, считаю, что это ошибка при заведении\n",
    "#исправляю путем переноса запятой\n",
    "def ceiling(height):\n",
    "    if  height >= 20.0:\n",
    "        height = height / 10\n",
    "    return height\n",
    "data['ceiling_height'] = data['ceiling_height'].apply(ceiling)"
   ]
  },
  {
   "cell_type": "code",
   "execution_count": 7,
   "metadata": {},
   "outputs": [
    {
     "name": "stdout",
     "output_type": "stream",
     "text": [
      "<class 'pandas.core.frame.DataFrame'>\n",
      "Int64Index: 23650 entries, 0 to 23698\n",
      "Data columns (total 22 columns):\n",
      "total_images            23650 non-null int64\n",
      "last_price              23650 non-null int64\n",
      "total_area              23650 non-null float64\n",
      "first_day_exposition    23650 non-null datetime64[ns]\n",
      "rooms                   23650 non-null int64\n",
      "ceiling_height          14490 non-null float64\n",
      "floors_total            23650 non-null int64\n",
      "living_area             23507 non-null float64\n",
      "floor                   23650 non-null int64\n",
      "is_apartment            23650 non-null bool\n",
      "studio                  23650 non-null bool\n",
      "open_plan               23650 non-null bool\n",
      "kitchen_area            23507 non-null float64\n",
      "balcony                 23650 non-null int64\n",
      "locality_name           23650 non-null object\n",
      "airports_nearest        23650 non-null int64\n",
      "cityCenters_nearest     23650 non-null int64\n",
      "parks_around3000        23650 non-null int64\n",
      "parks_nearest           23650 non-null int64\n",
      "ponds_around3000        23650 non-null int64\n",
      "ponds_nearest           23650 non-null int64\n",
      "days_exposition         23650 non-null int64\n",
      "dtypes: bool(3), datetime64[ns](1), float64(4), int64(13), object(1)\n",
      "memory usage: 3.7+ MB\n",
      "None\n"
     ]
    }
   ],
   "source": [
    "data['first_day_exposition'] = pd.to_datetime(data['first_day_exposition'], format = '%Y%m%dT%H:%M:%S').dt.round('1D')\n",
    " #перевела графу first_day_exposition в формат даты с округлением до одного дня\n",
    "print(data.info())"
   ]
  },
  {
   "cell_type": "markdown",
   "metadata": {},
   "source": [
    "Формат графы с датами размещения объявления перевела в формат даты с округлением до одного дня."
   ]
  },
  {
   "cell_type": "code",
   "execution_count": 8,
   "metadata": {
    "scrolled": true
   },
   "outputs": [
    {
     "name": "stdout",
     "output_type": "stream",
     "text": [
      "Санкт-Петербург               15721\n",
      "посёлок Мурино                  522\n",
      "посёлок Шушары                  440\n",
      "Всеволожск                      398\n",
      "Пушкин                          369\n",
      "                              ...  \n",
      "деревня Большая Пустомержа        1\n",
      "посёлок Высокоключевой            1\n",
      "деревня Щеглово                   1\n",
      "деревня Большое Рейзино           1\n",
      "деревня Меньково                  1\n",
      "Name: locality_name, Length: 364, dtype: int64\n"
     ]
    }
   ],
   "source": [
    "print(data['locality_name'].value_counts())\n"
   ]
  },
  {
   "cell_type": "code",
   "execution_count": 9,
   "metadata": {},
   "outputs": [
    {
     "name": "stdout",
     "output_type": "stream",
     "text": [
      "санкт-петербург    15721\n",
      "мурино               590\n",
      "кудрово              472\n",
      "шушары               440\n",
      "всеволожск           398\n",
      "                   ...  \n",
      "алексеевка             1\n",
      "кирпичное              1\n",
      "хязельки               1\n",
      "пчева                  1\n",
      "мыза-ивановка          1\n",
      "Name: locality_name, Length: 309, dtype: int64\n"
     ]
    }
   ],
   "source": [
    "data['locality_name'] = data['locality_name'].str.lower()\n",
    "data['locality_name'] = data['locality_name'].str.replace('ё', 'е')\n",
    "data['locality_name'] = data['locality_name'].str.replace('городской поселок ', '', regex=True)\n",
    "data['locality_name'] = data['locality_name'].str.replace('деревня ', '', regex=True)\n",
    "data['locality_name'] = data['locality_name'].str.replace('поселок ', '', regex=True)\n",
    "data['locality_name'] = data['locality_name'].str.replace('поселок городского типа ', '', regex=True)\n",
    "data['locality_name'] = data['locality_name'].str.replace('платформа ', '', regex=True)\n",
    "data['locality_name'] = data['locality_name'].str.replace('село ', '', regex=True)\n",
    "data['locality_name'] = data['locality_name'].str.replace('садовое товарищество ', '', regex=True)\n",
    "data['locality_name'] = data['locality_name'].str.replace('садоводческое некоммерческое товарищество ', '', regex=True)\n",
    "data['locality_name'] = data['locality_name'].str.replace('городского типа ', '', regex=True)\n",
    "print(data['locality_name'].value_counts())"
   ]
  },
  {
   "cell_type": "markdown",
   "metadata": {},
   "source": [
    "### Вывод"
   ]
  },
  {
   "cell_type": "markdown",
   "metadata": {},
   "source": [
    "Заменила на 0 отсутствующие данные о балконах (считаю, что если собственник не указал наличие балкона, то его нет).\n",
    "\n",
    "Также считаю, что если нет сведений о парках в радиусе 3 километров, считаю, что парков нет, заменяю значение на 0, также меняю соответствующее значение в графе parks_nearest. Аналогично меняю значения для водоемов.\n",
    "\n",
    "Отсутствующую информацию по жилой площади заменила на медиану для квартир с такой же общей площадью, отсутствующие данные по площади кухни заменила на разность общей и жилой площади (незаполненными осталось менее 1% объявлений, считаю, что это несущественно).\n",
    "\n",
    "Там, где возможно заполнила расстояние до центра и до аэропорта средним расстоянием для данного населенного пункта, там где среднее расстояние для данного населенного пункта не вычисляется заполнила маркером (99999).\n",
    "\n",
    "Также маркерами заменила пропуске в графе days_exposition, считаю, что недвижимость еще не продана и объявление не снято, и графе floors_total.\n",
    "\n",
    "Поскольку количество объявлений с 0 комнат менее 1%,в дальнейшем буду считать это выбросами (тем более, что не понимаю, студия считается за комнату или нет).\n",
    "\n",
    "Тип данных в части полученных автоматически (количество парков, водоемов, а также расстояние до них, до центра, до аэропорта) заменила на целочисленный, для удобства расчетов.\n",
    "Количество балконов и цену квартиры также заменила на целочисленный для удобства расчетов.\n",
    "\n",
    "Считаю, что данные о метраже квартир (общая жилая площадь, площадь кухни, высота потолков) приводить к целочисленным значениям некорректно.\n",
    "\n",
    "В объявлениях с указанной высотой потолков более 20 метров считаю, что собственник ошибся при заведении и перенесла запятую на один знак влево.\n",
    "\n",
    "Перевела графу first_day_exposition в формат даты с округлением до одного дня."
   ]
  },
  {
   "cell_type": "markdown",
   "metadata": {},
   "source": [
    "## Расчёты и добавление результатов в таблицу"
   ]
  },
  {
   "cell_type": "code",
   "execution_count": 10,
   "metadata": {},
   "outputs": [],
   "source": [
    "weekday1 = {0: 1, 1: 2, 2: 3, 3: 4, 4: 5, 5: 6, 6: 7}\n",
    "data['weekday_exposition'] = data['first_day_exposition'].dt.weekday.map(weekday1) #получила день недели размещения объявления\n",
    "data['month_exposition'] = data['first_day_exposition'].dt.month #получила месяц размещения объявления\n",
    "data['year_exposition'] = data['first_day_exposition'].dt.year #получила год размещения объявления\n"
   ]
  },
  {
   "cell_type": "code",
   "execution_count": 11,
   "metadata": {},
   "outputs": [],
   "source": [
    "data['price_per_meter'] = data['last_price'] / data['total_area'] #посчитала и добавила в таблицу цену за квадратный метр\n"
   ]
  },
  {
   "cell_type": "code",
   "execution_count": 12,
   "metadata": {},
   "outputs": [
    {
     "data": {
      "text/plain": [
       "2    17408\n",
       "3     3330\n",
       "1     2912\n",
       "Name: floor_number, dtype: int64"
      ]
     },
     "execution_count": 12,
     "metadata": {},
     "output_type": "execute_result"
    }
   ],
   "source": [
    "def floor_number(row): #посчитпала и добавила в таблицу этаж квартиры, для тех объявлений, где не указано количество этажей считаю, что этаж не последний\n",
    "    number = row['floor']\n",
    "    floors_total = row['floors_total']\n",
    "    if number == 1:\n",
    "        return '1'\n",
    "    if number == floors_total:\n",
    "        return '3'\n",
    "    else:\n",
    "        return '2'\n",
    "    \n",
    "data['floor_number'] = data.apply(floor_number, axis = 1)\n",
    "data['floor_number'] = pd.to_numeric(data['floor_number'])\n",
    "data['floor_number'].value_counts()"
   ]
  },
  {
   "cell_type": "code",
   "execution_count": 13,
   "metadata": {},
   "outputs": [
    {
     "data": {
      "text/plain": [
       "0        санкт-петербург\n",
       "1                 шушары\n",
       "2        санкт-петербург\n",
       "3        санкт-петербург\n",
       "4        санкт-петербург\n",
       "              ...       \n",
       "23694    санкт-петербург\n",
       "23695              тосно\n",
       "23696        рождествено\n",
       "23697    санкт-петербург\n",
       "23698        новый учхоз\n",
       "Name: locality_name, Length: 23650, dtype: object"
      ]
     },
     "execution_count": 13,
     "metadata": {},
     "output_type": "execute_result"
    }
   ],
   "source": [
    "data['locality_name']"
   ]
  },
  {
   "cell_type": "code",
   "execution_count": 14,
   "metadata": {},
   "outputs": [
    {
     "data": {
      "text/html": [
       "<div>\n",
       "<style scoped>\n",
       "    .dataframe tbody tr th:only-of-type {\n",
       "        vertical-align: middle;\n",
       "    }\n",
       "\n",
       "    .dataframe tbody tr th {\n",
       "        vertical-align: top;\n",
       "    }\n",
       "\n",
       "    .dataframe thead th {\n",
       "        text-align: right;\n",
       "    }\n",
       "</style>\n",
       "<table border=\"1\" class=\"dataframe\">\n",
       "  <thead>\n",
       "    <tr style=\"text-align: right;\">\n",
       "      <th></th>\n",
       "      <th>total_images</th>\n",
       "      <th>last_price</th>\n",
       "      <th>total_area</th>\n",
       "      <th>first_day_exposition</th>\n",
       "      <th>rooms</th>\n",
       "      <th>ceiling_height</th>\n",
       "      <th>floors_total</th>\n",
       "      <th>living_area</th>\n",
       "      <th>floor</th>\n",
       "      <th>is_apartment</th>\n",
       "      <th>...</th>\n",
       "      <th>ponds_around3000</th>\n",
       "      <th>ponds_nearest</th>\n",
       "      <th>days_exposition</th>\n",
       "      <th>weekday_exposition</th>\n",
       "      <th>month_exposition</th>\n",
       "      <th>year_exposition</th>\n",
       "      <th>price_per_meter</th>\n",
       "      <th>floor_number</th>\n",
       "      <th>living_area_rate</th>\n",
       "      <th>kitchen_area_rate</th>\n",
       "    </tr>\n",
       "  </thead>\n",
       "  <tbody>\n",
       "    <tr>\n",
       "      <td>0</td>\n",
       "      <td>20</td>\n",
       "      <td>13000000</td>\n",
       "      <td>108.00</td>\n",
       "      <td>2019-03-07</td>\n",
       "      <td>3</td>\n",
       "      <td>2.70</td>\n",
       "      <td>16</td>\n",
       "      <td>51.00</td>\n",
       "      <td>8</td>\n",
       "      <td>True</td>\n",
       "      <td>...</td>\n",
       "      <td>2</td>\n",
       "      <td>755</td>\n",
       "      <td>99999</td>\n",
       "      <td>4</td>\n",
       "      <td>3</td>\n",
       "      <td>2019</td>\n",
       "      <td>120370.370370</td>\n",
       "      <td>2</td>\n",
       "      <td>0.472222</td>\n",
       "      <td>0.527778</td>\n",
       "    </tr>\n",
       "    <tr>\n",
       "      <td>1</td>\n",
       "      <td>7</td>\n",
       "      <td>3350000</td>\n",
       "      <td>40.40</td>\n",
       "      <td>2018-12-04</td>\n",
       "      <td>1</td>\n",
       "      <td>NaN</td>\n",
       "      <td>11</td>\n",
       "      <td>18.60</td>\n",
       "      <td>1</td>\n",
       "      <td>True</td>\n",
       "      <td>...</td>\n",
       "      <td>0</td>\n",
       "      <td>0</td>\n",
       "      <td>81</td>\n",
       "      <td>2</td>\n",
       "      <td>12</td>\n",
       "      <td>2018</td>\n",
       "      <td>82920.792079</td>\n",
       "      <td>1</td>\n",
       "      <td>0.460396</td>\n",
       "      <td>0.539604</td>\n",
       "    </tr>\n",
       "    <tr>\n",
       "      <td>2</td>\n",
       "      <td>10</td>\n",
       "      <td>5196000</td>\n",
       "      <td>56.00</td>\n",
       "      <td>2015-08-20</td>\n",
       "      <td>2</td>\n",
       "      <td>NaN</td>\n",
       "      <td>5</td>\n",
       "      <td>34.30</td>\n",
       "      <td>4</td>\n",
       "      <td>True</td>\n",
       "      <td>...</td>\n",
       "      <td>2</td>\n",
       "      <td>574</td>\n",
       "      <td>558</td>\n",
       "      <td>4</td>\n",
       "      <td>8</td>\n",
       "      <td>2015</td>\n",
       "      <td>92785.714286</td>\n",
       "      <td>2</td>\n",
       "      <td>0.612500</td>\n",
       "      <td>0.387500</td>\n",
       "    </tr>\n",
       "    <tr>\n",
       "      <td>3</td>\n",
       "      <td>0</td>\n",
       "      <td>64900000</td>\n",
       "      <td>159.00</td>\n",
       "      <td>2015-07-24</td>\n",
       "      <td>3</td>\n",
       "      <td>NaN</td>\n",
       "      <td>14</td>\n",
       "      <td>95.00</td>\n",
       "      <td>9</td>\n",
       "      <td>True</td>\n",
       "      <td>...</td>\n",
       "      <td>3</td>\n",
       "      <td>234</td>\n",
       "      <td>424</td>\n",
       "      <td>5</td>\n",
       "      <td>7</td>\n",
       "      <td>2015</td>\n",
       "      <td>408176.100629</td>\n",
       "      <td>2</td>\n",
       "      <td>0.597484</td>\n",
       "      <td>0.402516</td>\n",
       "    </tr>\n",
       "    <tr>\n",
       "      <td>4</td>\n",
       "      <td>2</td>\n",
       "      <td>10000000</td>\n",
       "      <td>100.00</td>\n",
       "      <td>2018-06-19</td>\n",
       "      <td>2</td>\n",
       "      <td>3.03</td>\n",
       "      <td>14</td>\n",
       "      <td>32.00</td>\n",
       "      <td>13</td>\n",
       "      <td>True</td>\n",
       "      <td>...</td>\n",
       "      <td>1</td>\n",
       "      <td>48</td>\n",
       "      <td>121</td>\n",
       "      <td>2</td>\n",
       "      <td>6</td>\n",
       "      <td>2018</td>\n",
       "      <td>100000.000000</td>\n",
       "      <td>2</td>\n",
       "      <td>0.320000</td>\n",
       "      <td>0.680000</td>\n",
       "    </tr>\n",
       "    <tr>\n",
       "      <td>5</td>\n",
       "      <td>10</td>\n",
       "      <td>2890000</td>\n",
       "      <td>30.40</td>\n",
       "      <td>2018-09-10</td>\n",
       "      <td>1</td>\n",
       "      <td>NaN</td>\n",
       "      <td>12</td>\n",
       "      <td>14.40</td>\n",
       "      <td>5</td>\n",
       "      <td>True</td>\n",
       "      <td>...</td>\n",
       "      <td>0</td>\n",
       "      <td>0</td>\n",
       "      <td>55</td>\n",
       "      <td>1</td>\n",
       "      <td>9</td>\n",
       "      <td>2018</td>\n",
       "      <td>95065.789474</td>\n",
       "      <td>2</td>\n",
       "      <td>0.473684</td>\n",
       "      <td>0.526316</td>\n",
       "    </tr>\n",
       "    <tr>\n",
       "      <td>6</td>\n",
       "      <td>6</td>\n",
       "      <td>3700000</td>\n",
       "      <td>37.30</td>\n",
       "      <td>2017-11-02</td>\n",
       "      <td>1</td>\n",
       "      <td>NaN</td>\n",
       "      <td>26</td>\n",
       "      <td>10.60</td>\n",
       "      <td>6</td>\n",
       "      <td>True</td>\n",
       "      <td>...</td>\n",
       "      <td>0</td>\n",
       "      <td>0</td>\n",
       "      <td>155</td>\n",
       "      <td>4</td>\n",
       "      <td>11</td>\n",
       "      <td>2017</td>\n",
       "      <td>99195.710456</td>\n",
       "      <td>2</td>\n",
       "      <td>0.284182</td>\n",
       "      <td>0.715818</td>\n",
       "    </tr>\n",
       "    <tr>\n",
       "      <td>7</td>\n",
       "      <td>5</td>\n",
       "      <td>7915000</td>\n",
       "      <td>71.60</td>\n",
       "      <td>2019-04-18</td>\n",
       "      <td>2</td>\n",
       "      <td>NaN</td>\n",
       "      <td>24</td>\n",
       "      <td>44.30</td>\n",
       "      <td>22</td>\n",
       "      <td>True</td>\n",
       "      <td>...</td>\n",
       "      <td>0</td>\n",
       "      <td>0</td>\n",
       "      <td>99999</td>\n",
       "      <td>4</td>\n",
       "      <td>4</td>\n",
       "      <td>2019</td>\n",
       "      <td>110544.692737</td>\n",
       "      <td>2</td>\n",
       "      <td>0.618715</td>\n",
       "      <td>0.381285</td>\n",
       "    </tr>\n",
       "    <tr>\n",
       "      <td>8</td>\n",
       "      <td>20</td>\n",
       "      <td>2900000</td>\n",
       "      <td>33.16</td>\n",
       "      <td>2018-05-23</td>\n",
       "      <td>1</td>\n",
       "      <td>NaN</td>\n",
       "      <td>27</td>\n",
       "      <td>15.43</td>\n",
       "      <td>26</td>\n",
       "      <td>True</td>\n",
       "      <td>...</td>\n",
       "      <td>0</td>\n",
       "      <td>0</td>\n",
       "      <td>189</td>\n",
       "      <td>3</td>\n",
       "      <td>5</td>\n",
       "      <td>2018</td>\n",
       "      <td>87454.764777</td>\n",
       "      <td>2</td>\n",
       "      <td>0.465320</td>\n",
       "      <td>0.534680</td>\n",
       "    </tr>\n",
       "    <tr>\n",
       "      <td>9</td>\n",
       "      <td>18</td>\n",
       "      <td>5400000</td>\n",
       "      <td>61.00</td>\n",
       "      <td>2017-02-26</td>\n",
       "      <td>3</td>\n",
       "      <td>2.50</td>\n",
       "      <td>9</td>\n",
       "      <td>43.60</td>\n",
       "      <td>7</td>\n",
       "      <td>True</td>\n",
       "      <td>...</td>\n",
       "      <td>0</td>\n",
       "      <td>0</td>\n",
       "      <td>289</td>\n",
       "      <td>7</td>\n",
       "      <td>2</td>\n",
       "      <td>2017</td>\n",
       "      <td>88524.590164</td>\n",
       "      <td>2</td>\n",
       "      <td>0.714754</td>\n",
       "      <td>0.285246</td>\n",
       "    </tr>\n",
       "    <tr>\n",
       "      <td>10</td>\n",
       "      <td>5</td>\n",
       "      <td>5050000</td>\n",
       "      <td>39.60</td>\n",
       "      <td>2017-11-16</td>\n",
       "      <td>1</td>\n",
       "      <td>2.67</td>\n",
       "      <td>12</td>\n",
       "      <td>20.30</td>\n",
       "      <td>3</td>\n",
       "      <td>True</td>\n",
       "      <td>...</td>\n",
       "      <td>2</td>\n",
       "      <td>553</td>\n",
       "      <td>137</td>\n",
       "      <td>4</td>\n",
       "      <td>11</td>\n",
       "      <td>2017</td>\n",
       "      <td>127525.252525</td>\n",
       "      <td>2</td>\n",
       "      <td>0.512626</td>\n",
       "      <td>0.487374</td>\n",
       "    </tr>\n",
       "    <tr>\n",
       "      <td>11</td>\n",
       "      <td>9</td>\n",
       "      <td>3300000</td>\n",
       "      <td>44.00</td>\n",
       "      <td>2018-08-27</td>\n",
       "      <td>2</td>\n",
       "      <td>NaN</td>\n",
       "      <td>5</td>\n",
       "      <td>31.00</td>\n",
       "      <td>4</td>\n",
       "      <td>False</td>\n",
       "      <td>...</td>\n",
       "      <td>0</td>\n",
       "      <td>0</td>\n",
       "      <td>7</td>\n",
       "      <td>1</td>\n",
       "      <td>8</td>\n",
       "      <td>2018</td>\n",
       "      <td>75000.000000</td>\n",
       "      <td>2</td>\n",
       "      <td>0.704545</td>\n",
       "      <td>0.295455</td>\n",
       "    </tr>\n",
       "    <tr>\n",
       "      <td>12</td>\n",
       "      <td>10</td>\n",
       "      <td>3890000</td>\n",
       "      <td>54.00</td>\n",
       "      <td>2016-06-30</td>\n",
       "      <td>2</td>\n",
       "      <td>NaN</td>\n",
       "      <td>5</td>\n",
       "      <td>30.00</td>\n",
       "      <td>5</td>\n",
       "      <td>True</td>\n",
       "      <td>...</td>\n",
       "      <td>0</td>\n",
       "      <td>0</td>\n",
       "      <td>90</td>\n",
       "      <td>4</td>\n",
       "      <td>6</td>\n",
       "      <td>2016</td>\n",
       "      <td>72037.037037</td>\n",
       "      <td>3</td>\n",
       "      <td>0.555556</td>\n",
       "      <td>0.444444</td>\n",
       "    </tr>\n",
       "    <tr>\n",
       "      <td>13</td>\n",
       "      <td>20</td>\n",
       "      <td>3550000</td>\n",
       "      <td>42.80</td>\n",
       "      <td>2017-07-01</td>\n",
       "      <td>2</td>\n",
       "      <td>2.56</td>\n",
       "      <td>5</td>\n",
       "      <td>27.00</td>\n",
       "      <td>5</td>\n",
       "      <td>True</td>\n",
       "      <td>...</td>\n",
       "      <td>3</td>\n",
       "      <td>298</td>\n",
       "      <td>366</td>\n",
       "      <td>6</td>\n",
       "      <td>7</td>\n",
       "      <td>2017</td>\n",
       "      <td>82943.925234</td>\n",
       "      <td>3</td>\n",
       "      <td>0.630841</td>\n",
       "      <td>0.369159</td>\n",
       "    </tr>\n",
       "    <tr>\n",
       "      <td>14</td>\n",
       "      <td>1</td>\n",
       "      <td>4400000</td>\n",
       "      <td>36.00</td>\n",
       "      <td>2016-06-23</td>\n",
       "      <td>1</td>\n",
       "      <td>NaN</td>\n",
       "      <td>6</td>\n",
       "      <td>17.00</td>\n",
       "      <td>1</td>\n",
       "      <td>True</td>\n",
       "      <td>...</td>\n",
       "      <td>1</td>\n",
       "      <td>96</td>\n",
       "      <td>203</td>\n",
       "      <td>4</td>\n",
       "      <td>6</td>\n",
       "      <td>2016</td>\n",
       "      <td>122222.222222</td>\n",
       "      <td>1</td>\n",
       "      <td>0.472222</td>\n",
       "      <td>0.527778</td>\n",
       "    </tr>\n",
       "  </tbody>\n",
       "</table>\n",
       "<p>15 rows × 29 columns</p>\n",
       "</div>"
      ],
      "text/plain": [
       "    total_images  last_price  total_area first_day_exposition  rooms  \\\n",
       "0             20    13000000      108.00           2019-03-07      3   \n",
       "1              7     3350000       40.40           2018-12-04      1   \n",
       "2             10     5196000       56.00           2015-08-20      2   \n",
       "3              0    64900000      159.00           2015-07-24      3   \n",
       "4              2    10000000      100.00           2018-06-19      2   \n",
       "5             10     2890000       30.40           2018-09-10      1   \n",
       "6              6     3700000       37.30           2017-11-02      1   \n",
       "7              5     7915000       71.60           2019-04-18      2   \n",
       "8             20     2900000       33.16           2018-05-23      1   \n",
       "9             18     5400000       61.00           2017-02-26      3   \n",
       "10             5     5050000       39.60           2017-11-16      1   \n",
       "11             9     3300000       44.00           2018-08-27      2   \n",
       "12            10     3890000       54.00           2016-06-30      2   \n",
       "13            20     3550000       42.80           2017-07-01      2   \n",
       "14             1     4400000       36.00           2016-06-23      1   \n",
       "\n",
       "    ceiling_height  floors_total  living_area  floor  is_apartment  ...  \\\n",
       "0             2.70            16        51.00      8          True  ...   \n",
       "1              NaN            11        18.60      1          True  ...   \n",
       "2              NaN             5        34.30      4          True  ...   \n",
       "3              NaN            14        95.00      9          True  ...   \n",
       "4             3.03            14        32.00     13          True  ...   \n",
       "5              NaN            12        14.40      5          True  ...   \n",
       "6              NaN            26        10.60      6          True  ...   \n",
       "7              NaN            24        44.30     22          True  ...   \n",
       "8              NaN            27        15.43     26          True  ...   \n",
       "9             2.50             9        43.60      7          True  ...   \n",
       "10            2.67            12        20.30      3          True  ...   \n",
       "11             NaN             5        31.00      4         False  ...   \n",
       "12             NaN             5        30.00      5          True  ...   \n",
       "13            2.56             5        27.00      5          True  ...   \n",
       "14             NaN             6        17.00      1          True  ...   \n",
       "\n",
       "    ponds_around3000  ponds_nearest  days_exposition  weekday_exposition  \\\n",
       "0                  2            755            99999                   4   \n",
       "1                  0              0               81                   2   \n",
       "2                  2            574              558                   4   \n",
       "3                  3            234              424                   5   \n",
       "4                  1             48              121                   2   \n",
       "5                  0              0               55                   1   \n",
       "6                  0              0              155                   4   \n",
       "7                  0              0            99999                   4   \n",
       "8                  0              0              189                   3   \n",
       "9                  0              0              289                   7   \n",
       "10                 2            553              137                   4   \n",
       "11                 0              0                7                   1   \n",
       "12                 0              0               90                   4   \n",
       "13                 3            298              366                   6   \n",
       "14                 1             96              203                   4   \n",
       "\n",
       "   month_exposition  year_exposition  price_per_meter  floor_number  \\\n",
       "0                 3             2019    120370.370370             2   \n",
       "1                12             2018     82920.792079             1   \n",
       "2                 8             2015     92785.714286             2   \n",
       "3                 7             2015    408176.100629             2   \n",
       "4                 6             2018    100000.000000             2   \n",
       "5                 9             2018     95065.789474             2   \n",
       "6                11             2017     99195.710456             2   \n",
       "7                 4             2019    110544.692737             2   \n",
       "8                 5             2018     87454.764777             2   \n",
       "9                 2             2017     88524.590164             2   \n",
       "10               11             2017    127525.252525             2   \n",
       "11                8             2018     75000.000000             2   \n",
       "12                6             2016     72037.037037             3   \n",
       "13                7             2017     82943.925234             3   \n",
       "14                6             2016    122222.222222             1   \n",
       "\n",
       "    living_area_rate  kitchen_area_rate  \n",
       "0           0.472222           0.527778  \n",
       "1           0.460396           0.539604  \n",
       "2           0.612500           0.387500  \n",
       "3           0.597484           0.402516  \n",
       "4           0.320000           0.680000  \n",
       "5           0.473684           0.526316  \n",
       "6           0.284182           0.715818  \n",
       "7           0.618715           0.381285  \n",
       "8           0.465320           0.534680  \n",
       "9           0.714754           0.285246  \n",
       "10          0.512626           0.487374  \n",
       "11          0.704545           0.295455  \n",
       "12          0.555556           0.444444  \n",
       "13          0.630841           0.369159  \n",
       "14          0.472222           0.527778  \n",
       "\n",
       "[15 rows x 29 columns]"
      ]
     },
     "metadata": {},
     "output_type": "display_data"
    },
    {
     "name": "stdout",
     "output_type": "stream",
     "text": [
      "<class 'pandas.core.frame.DataFrame'>\n",
      "Int64Index: 23650 entries, 0 to 23698\n",
      "Data columns (total 29 columns):\n",
      "total_images            23650 non-null int64\n",
      "last_price              23650 non-null int64\n",
      "total_area              23650 non-null float64\n",
      "first_day_exposition    23650 non-null datetime64[ns]\n",
      "rooms                   23650 non-null int64\n",
      "ceiling_height          14490 non-null float64\n",
      "floors_total            23650 non-null int64\n",
      "living_area             23507 non-null float64\n",
      "floor                   23650 non-null int64\n",
      "is_apartment            23650 non-null bool\n",
      "studio                  23650 non-null bool\n",
      "open_plan               23650 non-null bool\n",
      "kitchen_area            23507 non-null float64\n",
      "balcony                 23650 non-null int64\n",
      "locality_name           23650 non-null object\n",
      "airports_nearest        23650 non-null int64\n",
      "cityCenters_nearest     23650 non-null int64\n",
      "parks_around3000        23650 non-null int64\n",
      "parks_nearest           23650 non-null int64\n",
      "ponds_around3000        23650 non-null int64\n",
      "ponds_nearest           23650 non-null int64\n",
      "days_exposition         23650 non-null int64\n",
      "weekday_exposition      23650 non-null int64\n",
      "month_exposition        23650 non-null int64\n",
      "year_exposition         23650 non-null int64\n",
      "price_per_meter         23650 non-null float64\n",
      "floor_number            23650 non-null int64\n",
      "living_area_rate        23507 non-null float64\n",
      "kitchen_area_rate       23507 non-null float64\n",
      "dtypes: bool(3), datetime64[ns](1), float64(7), int64(17), object(1)\n",
      "memory usage: 4.9+ MB\n",
      "None\n"
     ]
    }
   ],
   "source": [
    "data['living_area_rate'] = data['living_area'] / data['total_area']\n",
    "data['kitchen_area_rate'] = data['kitchen_area'] / data['total_area']\n",
    "display(data.head(15)) #посчитала и добавила в таблицу отношение жилой площади к общей и площади кухни к общей\n",
    "print(data.info())"
   ]
  },
  {
   "cell_type": "markdown",
   "metadata": {},
   "source": [
    "### Вывод"
   ]
  },
  {
   "cell_type": "markdown",
   "metadata": {},
   "source": [
    "В отдельные графы вывела день недели, месяц и год размещения объявления. День недели вывела числовыми значеними от 1 до 7 для удобства восприятия. Месяцы оставила числовыми значениями, так как они соответсвуют общепринятым обозначениям.\n",
    "\n",
    "Посчитала и добавила в таблицу этаж квартиры используя следующие обозначения 1 - первый, 3 - последний, 2 - другой, для тех объявлений, где не указано количество этажей считаю, что этаж не последний.\n",
    "\n",
    "Посчитала и добавила в таблицу цену за квадратный метр, отношение жилой площади к общей и площади кухни к общей площади.\n"
   ]
  },
  {
   "cell_type": "markdown",
   "metadata": {},
   "source": [
    "## Исследовательский анализ данных"
   ]
  },
  {
   "cell_type": "code",
   "execution_count": 15,
   "metadata": {},
   "outputs": [
    {
     "data": {
      "image/png": "[encoded data removed]",
      "text/plain": [
       "<Figure size 432x288 with 1 Axes>"
      ]
     },
     "metadata": {
      "needs_background": "light"
     },
     "output_type": "display_data"
    },
    {
     "data": {
      "image/png": "[encoded data removed]",
      "text/plain": [
       "<Figure size 432x288 with 1 Axes>"
      ]
     },
     "metadata": {
      "needs_background": "light"
     },
     "output_type": "display_data"
    },
    {
     "name": "stdout",
     "output_type": "stream",
     "text": [
      "count    23650.000000\n",
      "mean        60.329069\n",
      "std         35.661808\n",
      "min         12.000000\n",
      "25%         40.000000\n",
      "50%         52.000000\n",
      "75%         69.700000\n",
      "max        900.000000\n",
      "Name: total_area, dtype: float64\n",
      "692\n"
     ]
    }
   ],
   "source": [
    "ax = plt.axes()\n",
    "ax.set_title('Площадь квартир, выставленных на продажу') \n",
    "ax.grid()\n",
    "plt.Figure(figsize=(15,15))\n",
    "plt.hist(data['total_area'], bins=90, color=\"green\", alpha=0.6)\n",
    "ax.set_xlim([10, 380]) \n",
    "plt.xlabel('площадь квартир')\n",
    "plt.ylabel('количество квартир') \n",
    "plt.show()\n",
    "\n",
    "plt.ylim(10, 380)\n",
    "data.boxplot(column='total_area')\n",
    "plt.show()\n",
    "print(data['total_area'].describe()) \n",
    "print(data[data['total_area'] < 30]['total_area'].count())"
   ]
  },
  {
   "cell_type": "markdown",
   "metadata": {},
   "source": [
    "Наибольшее количество квартир выставленных на продажу (пик гистограммы) - квартиры с площадью 30-40 квадратных метров, на них приходится почти половина всех продаваемых квартир. Скорее всего это однокомнатные квартиры и двухкомнатные квартиры  в советском жилом фонде.\n",
    "\n",
    "Следующие по количеству - квартиры площадью 50-100 квадратных метров, скорее всего двух-трехкомнатные квартиры.\n",
    "\n",
    "Медиана составляет 52 квадратных метра, средняя площадь - 60 квадратных метров.\n",
    "Самая маленькая площадь в объявлении - 12 квадратных метров (скорее всего продается комната в квартире), самая большая - 900 квадратных метров.\n",
    "Квартиры с площадью менее 30 квадратных метров и более 150 - выбросы. \n",
    "Квартиры с площадью более 150 метров уже находятся за пределами \"усов\", это нетиповые, штучные предложения на рынке."
   ]
  },
  {
   "cell_type": "code",
   "execution_count": 16,
   "metadata": {},
   "outputs": [
    {
     "data": {
      "image/png": "[encoded data removed]",
      "text/plain": [
       "<Figure size 432x288 with 1 Axes>"
      ]
     },
     "metadata": {
      "needs_background": "light"
     },
     "output_type": "display_data"
    },
    {
     "name": "stdout",
     "output_type": "stream",
     "text": [
      "count    22396.000000\n",
      "mean        57.470980\n",
      "std         22.661107\n",
      "min         30.000000\n",
      "25%         41.000000\n",
      "50%         52.000000\n",
      "75%         68.200000\n",
      "max        150.000000\n",
      "Name: total_area, dtype: float64\n"
     ]
    }
   ],
   "source": [
    "total_area_clean = data.query('30 <= total_area <= 150')\n",
    "ax = plt.axes()\n",
    "ax.set_title('Площадь квартир, выставленных на продажу') \n",
    "ax.grid()\n",
    "plt.Figure(figsize=(15,15))\n",
    "plt.hist(total_area_clean['total_area'], bins=15, color=\"green\", alpha=0.6)\n",
    "ax.set_xlim([20, 150]) \n",
    "plt.xlabel('площадь квартир')\n",
    "plt.ylabel('количество квартир') \n",
    "plt.show()\n",
    "\n",
    "print(total_area_clean['total_area'].describe()) "
   ]
  },
  {
   "cell_type": "markdown",
   "metadata": {},
   "source": [
    "После исключения слишком больших и слишком маленьких площадей медиана не изменилась (52 квадратных метра), среднее значение площади квартир (57 квадратных метров) приблизилось к медиане. "
   ]
  },
  {
   "cell_type": "code",
   "execution_count": 17,
   "metadata": {
    "scrolled": false
   },
   "outputs": [
    {
     "data": {
      "text/plain": [
       "Text(0.5, 1, 'Цена квартир, выставленных на продажу')"
      ]
     },
     "execution_count": 17,
     "metadata": {},
     "output_type": "execute_result"
    },
    {
     "data": {
      "image/png": "[encoded data removed]",
      "text/plain": [
       "<Figure size 648x432 with 1 Axes>"
      ]
     },
     "metadata": {
      "needs_background": "light"
     },
     "output_type": "display_data"
    }
   ],
   "source": [
    "(data['last_price'] / 1000000).hist(bins=100, range=(0, 80), figsize=(9, 6))\n",
    "plt.xlabel('Цена квартир, млн.')\n",
    "plt.ylabel('количество квартир')\n",
    "ax.set_title('Цена квартир, выставленных на продажу') \n"
   ]
  },
  {
   "cell_type": "code",
   "execution_count": 18,
   "metadata": {},
   "outputs": [
    {
     "data": {
      "image/png": "[encoded data removed]",
      "text/plain": [
       "<Figure size 432x288 with 1 Axes>"
      ]
     },
     "metadata": {
      "needs_background": "light"
     },
     "output_type": "display_data"
    },
    {
     "name": "stdout",
     "output_type": "stream",
     "text": [
      "count    23650.000000\n",
      "mean         6.541127\n",
      "std         10.896399\n",
      "min          0.012190\n",
      "25%          3.400000\n",
      "50%          4.650000\n",
      "75%          6.799000\n",
      "max        763.000000\n",
      "Name: last_price, dtype: float64\n",
      "972\n"
     ]
    }
   ],
   "source": [
    "plt.ylim(0, 80000000)\n",
    "data.boxplot(column='last_price')\n",
    "plt.show()\n",
    "print((data['last_price']/1000000).describe()) \n",
    "print(data[data['last_price'] < 1750000]['last_price'].count()) "
   ]
  },
  {
   "cell_type": "markdown",
   "metadata": {},
   "source": [
    "Средняя цена квартиры составляет 6.5 миллионов, медианная - 4.65 миллиона. Квартиры стоимостью менее 1.5 и более 20 миллионов предлагаю отбрасывать, доля таких квартир невелика, это единичные, эксклюзивные предложения на рынке."
   ]
  },
  {
   "cell_type": "code",
   "execution_count": 19,
   "metadata": {},
   "outputs": [
    {
     "data": {
      "image/png": "[encoded data removed]",
      "text/plain": [
       "<Figure size 648x432 with 1 Axes>"
      ]
     },
     "metadata": {
      "needs_background": "light"
     },
     "output_type": "display_data"
    },
    {
     "name": "stdout",
     "output_type": "stream",
     "text": [
      "count    2.223700e+04\n",
      "mean     5.544967e+06\n",
      "std      3.153120e+06\n",
      "min      1.510000e+06\n",
      "25%      3.500000e+06\n",
      "50%      4.630000e+06\n",
      "75%      6.550000e+06\n",
      "max      1.999900e+07\n",
      "Name: last_price, dtype: float64\n"
     ]
    }
   ],
   "source": [
    "good_prices = data.query('1500000 < last_price < 20000000')\n",
    "\n",
    "(good_prices['last_price'] / 1000000).hist(bins=30, range=(0, 22), figsize=(9, 6))\n",
    "plt.xlabel('Цена квартир, млн.')\n",
    "plt.ylabel('количество квартир')\n",
    "ax.set_title('Цена квартир, выставленных на продажу') \n",
    "\n",
    "plt.show()\n",
    "print(good_prices['last_price'].describe())"
   ]
  },
  {
   "cell_type": "markdown",
   "metadata": {},
   "source": [
    "Исключение слишком больших и слишком маленьких цен практически не повлияло на медиану (стала 4.63 миллиона), средняя стоимость (5.54 миллиона) приблизилась к медиане, гистограмма приняла вид нормального распределения."
   ]
  },
  {
   "cell_type": "code",
   "execution_count": 20,
   "metadata": {},
   "outputs": [
    {
     "data": {
      "image/png": "[encoded data removed]",
      "text/plain": [
       "<Figure size 432x288 with 1 Axes>"
      ]
     },
     "metadata": {
      "needs_background": "light"
     },
     "output_type": "display_data"
    },
    {
     "data": {
      "image/png": "[encoded data removed]",
      "text/plain": [
       "<Figure size 432x288 with 1 Axes>"
      ]
     },
     "metadata": {
      "needs_background": "light"
     },
     "output_type": "display_data"
    },
    {
     "name": "stdout",
     "output_type": "stream",
     "text": [
      "count    23650.000000\n",
      "mean         2.070106\n",
      "std          1.078620\n",
      "min          0.000000\n",
      "25%          1.000000\n",
      "50%          2.000000\n",
      "75%          3.000000\n",
      "max         19.000000\n",
      "Name: rooms, dtype: float64\n"
     ]
    }
   ],
   "source": [
    "ax = plt.axes()\n",
    "ax.set_title('Количество комнат в квартирах, выставленных на продажу') \n",
    "ax.grid()\n",
    "plt.Figure(figsize=(15,10))\n",
    "plt.hist(data['rooms'], bins=60, color=\"green\", alpha=0.6)\n",
    "ax.set_xlim([0, 20]) \n",
    "plt.xlabel('количество комнат')\n",
    "plt.ylabel('количество квартир') \n",
    "plt.show()\n",
    "\n",
    "plt.ylim(0, 20)\n",
    "data.boxplot(column='rooms')\n",
    "plt.show()\n",
    "print(data['rooms'].describe()) "
   ]
  },
  {
   "cell_type": "markdown",
   "metadata": {},
   "source": [
    " В основном на продажу выставлены одно- и двухкомнатные квартиры (почти 70%), чуть менее 25% рынка занимают трехкомнатные квартиры.\n",
    " В данном случае среднее совпадает с медианой - 2 комнаты.\n",
    "Около 5% составляют четырехкомнатные квартиры (их предложение на рынке недвижимости всегда невелико).\n",
    "Квартиры более чем из 6 комнат - это штучные предложения на рынке недвижимости, их можно считать выбросами, как квартиры с 0 комнат.\n",
    " \n"
   ]
  },
  {
   "cell_type": "code",
   "execution_count": 21,
   "metadata": {},
   "outputs": [
    {
     "data": {
      "image/png": "[encoded data removed]",
      "text/plain": [
       "<Figure size 432x288 with 1 Axes>"
      ]
     },
     "metadata": {
      "needs_background": "light"
     },
     "output_type": "display_data"
    },
    {
     "name": "stdout",
     "output_type": "stream",
     "text": [
      "count    23258.000000\n",
      "mean         2.046823\n",
      "std          0.959605\n",
      "min          1.000000\n",
      "25%          1.000000\n",
      "50%          2.000000\n",
      "75%          3.000000\n",
      "max          5.000000\n",
      "Name: rooms, dtype: float64\n"
     ]
    }
   ],
   "source": [
    "good_rooms = data.query('0 < rooms < 6')\n",
    "ax = plt.axes()\n",
    "ax.set_title('Количество комнат в квартирах, выставленных на продажу') \n",
    "ax.grid()\n",
    "plt.Figure(figsize=(15,15))\n",
    "plt.hist(good_rooms['rooms'], bins=4, color=\"green\", alpha=0.6)\n",
    "ax.set_xlim([1, 6]) \n",
    "plt.xlabel('количество комнат')\n",
    "plt.ylabel('количество квартир') \n",
    "plt.show()\n",
    "\n",
    "print(good_rooms['rooms'].describe()) "
   ]
  },
  {
   "cell_type": "markdown",
   "metadata": {},
   "source": [
    "Исключение выбросов на распределение практически не повлияло (убрали хвосты слева и справа, что и ожидалось), среднее и медиана остались на том же уровне."
   ]
  },
  {
   "cell_type": "code",
   "execution_count": 22,
   "metadata": {},
   "outputs": [
    {
     "data": {
      "image/png": "[encoded data removed]",
      "text/plain": [
       "<Figure size 432x288 with 1 Axes>"
      ]
     },
     "metadata": {
      "needs_background": "light"
     },
     "output_type": "display_data"
    },
    {
     "data": {
      "image/png": "[encoded data removed]",
      "text/plain": [
       "<Figure size 432x288 with 1 Axes>"
      ]
     },
     "metadata": {
      "needs_background": "light"
     },
     "output_type": "display_data"
    },
    {
     "name": "stdout",
     "output_type": "stream",
     "text": [
      "count    14490.000000\n",
      "mean         2.729355\n",
      "std          0.319691\n",
      "min          1.000000\n",
      "25%          2.510000\n",
      "50%          2.650000\n",
      "75%          2.800000\n",
      "max         14.000000\n",
      "Name: ceiling_height, dtype: float64\n"
     ]
    }
   ],
   "source": [
    "ax = plt.axes()\n",
    "ax.set_title('Высота потолка в квартирах, выставленных на продажу') \n",
    "ax.grid()\n",
    "plt.Figure(figsize=(15,15))\n",
    "plt.hist(data['ceiling_height'], bins=10, color=\"blue\", alpha=0.6)\n",
    "ax.set_xlim([1, 5]) \n",
    "plt.xlabel('высота потолка, м')\n",
    "plt.ylabel('количество квартир') \n",
    "plt.show()\n",
    "\n",
    "plt.ylim(1, 5)\n",
    "data.boxplot(column='ceiling_height')\n",
    "plt.show()\n",
    "print(data['ceiling_height'].describe()) "
   ]
  },
  {
   "cell_type": "markdown",
   "metadata": {},
   "source": [
    "В основном в продаже квартиры с высотой потолков от 2,5 до 3.5 метров. Квартиры с потолками выше 3.5 метров - штучные предложения на рынке (могу предположить что это или дореволюционный фонд, или современные пентхаусы). \n",
    "\n",
    "Средняя высота потолков 2.77 метра, медиана - 2.65.\n",
    "Высота больше 3.5 и меньше 2.3 - это выбросы.\n",
    "\n",
    "Квартир с потолками менее 2.3 метра не строили (это даже для хрущевок минимум), потолки высотой более 3.5 метров - это или дореволюционный жилой фонд, или пентхаусы, или коттеджи."
   ]
  },
  {
   "cell_type": "code",
   "execution_count": 23,
   "metadata": {},
   "outputs": [
    {
     "data": {
      "image/png": "[encoded data removed]",
      "text/plain": [
       "<Figure size 432x288 with 1 Axes>"
      ]
     },
     "metadata": {
      "needs_background": "light"
     },
     "output_type": "display_data"
    },
    {
     "name": "stdout",
     "output_type": "stream",
     "text": [
      "count    14058.000000\n",
      "mean         2.697674\n",
      "std          0.210332\n",
      "min          2.340000\n",
      "25%          2.500000\n",
      "50%          2.650000\n",
      "75%          2.800000\n",
      "max          3.490000\n",
      "Name: ceiling_height, dtype: float64\n"
     ]
    }
   ],
   "source": [
    "good_ceilings = data.query('2.3 < ceiling_height < 3.5')\n",
    "ax = plt.axes()\n",
    "ax.set_title('Высота потолка в квартирах, выставленных на продажу') \n",
    "ax.grid()\n",
    "plt.Figure(figsize=(15,15))\n",
    "plt.hist(good_ceilings['ceiling_height'], bins=10, color=\"blue\", alpha=0.6)\n",
    "ax.set_xlim([2.25, 3.75]) \n",
    "plt.xlabel('высота потолка, м')\n",
    "plt.ylabel('количество квартир') \n",
    "plt.show()\n",
    "\n",
    "print(good_ceilings['ceiling_height'].describe()) "
   ]
  },
  {
   "cell_type": "markdown",
   "metadata": {},
   "source": [
    "После исключения выбросов средняя высота (стала 2.69) потолков практически сравнялась с медианой, которая осталась на прежнем уровне (2.65 метра)."
   ]
  },
  {
   "cell_type": "code",
   "execution_count": 24,
   "metadata": {},
   "outputs": [
    {
     "data": {
      "image/png": "[encoded data removed]",
      "text/plain": [
       "<Figure size 432x288 with 1 Axes>"
      ]
     },
     "metadata": {
      "needs_background": "light"
     },
     "output_type": "display_data"
    }
   ],
   "source": [
    "good_time = data.query('days_exposition < 2000') #исключаю маркеры пустых дней \"99999\"\n",
    "ax = plt.axes()\n",
    "ax.set_title('Время продажи квартир') \n",
    "ax.grid()\n",
    "plt.Figure(figsize=(20,45))\n",
    "plt.hist(good_time['days_exposition'], bins=158, color=\"green\", alpha=0.6)\n",
    "ax.set_xlim([0, 1000]) \n",
    "plt.xlabel('время продажи, дни')\n",
    "plt.ylabel('количество квартир') \n",
    "plt.show()"
   ]
  },
  {
   "cell_type": "markdown",
   "metadata": {},
   "source": [
    "Продажи основной массы квартир происходят в пределах одного года, пик продаж приходится на первые два месяца с подачи объявления. Отдельные квартиры продаются 2-3 года и более, скорее всего это нестандартные варианты."
   ]
  },
  {
   "cell_type": "code",
   "execution_count": 25,
   "metadata": {
    "scrolled": true
   },
   "outputs": [
    {
     "data": {
      "image/png": "[encoded data removed]",
      "text/plain": [
       "<Figure size 432x288 with 1 Axes>"
      ]
     },
     "metadata": {
      "needs_background": "light"
     },
     "output_type": "display_data"
    },
    {
     "name": "stdout",
     "output_type": "stream",
     "text": [
      "count    20470.000000\n",
      "mean       180.753200\n",
      "std        219.777916\n",
      "min          1.000000\n",
      "25%         45.000000\n",
      "50%         95.000000\n",
      "75%        231.000000\n",
      "max       1580.000000\n",
      "Name: days_exposition, dtype: float64\n",
      "1127\n",
      "19877\n"
     ]
    }
   ],
   "source": [
    "plt.ylim(0, 1000)\n",
    "good_time.boxplot(column='days_exposition')\n",
    "plt.show()\n",
    "print(good_time['days_exposition'].describe()) \n",
    "print(data[data['days_exposition'] < 10]['days_exposition'].count())\n",
    "print(data[data['days_exposition'] < 800]['days_exposition'].count())"
   ]
  },
  {
   "cell_type": "markdown",
   "metadata": {},
   "source": [
    "Медиана приходится на 95 дней, средний срок продажи квартиры составляет полгода. Судя по гистограмме недвижимость в Санкт-Петергбурге продается очень быстро, на продажи менее 10 дней приходится 5% всех продаж, но я предлагаю считать их считать очень быстрыми и отбросить (возможно объявление было размещено, а потом по какой-то причине снято). Медленные продажи, выпадающие за пределы \"уса\" - начиная с 500 дней и более, но я предлагаю отбрасывать значения начиная с 600 дней - нестандартная, премиальная недвижимость может продаваться годами."
   ]
  },
  {
   "cell_type": "code",
   "execution_count": 26,
   "metadata": {},
   "outputs": [
    {
     "data": {
      "image/png": "[encoded data removed]",
      "text/plain": [
       "<Figure size 432x288 with 1 Axes>"
      ]
     },
     "metadata": {
      "needs_background": "light"
     },
     "output_type": "display_data"
    },
    {
     "name": "stdout",
     "output_type": "stream",
     "text": [
      "count    18938.000000\n",
      "mean       177.807424\n",
      "std        188.718831\n",
      "min         11.000000\n",
      "25%         46.000000\n",
      "50%        104.000000\n",
      "75%        236.000000\n",
      "max        999.000000\n",
      "Name: days_exposition, dtype: float64\n"
     ]
    }
   ],
   "source": [
    "good_sells = data.query('10 < days_exposition < 1000')\n",
    "ax = plt.axes()\n",
    "ax.set_title('Время продажи квартир') \n",
    "ax.grid()\n",
    "plt.Figure(figsize=(20,45))\n",
    "plt.hist(good_sells['days_exposition'], bins=100, color=\"green\", alpha=0.6)\n",
    "ax.set_xlim([1, 1000]) \n",
    "plt.xlabel('время продажи, дни')\n",
    "plt.ylabel('количество квартир') \n",
    "plt.show()\n",
    "\n",
    "print(good_sells['days_exposition'].describe())      "
   ]
  },
  {
   "cell_type": "code",
   "execution_count": 27,
   "metadata": {},
   "outputs": [
    {
     "data": {
      "image/png": "[encoded data removed]",
      "text/plain": [
       "<Figure size 432x288 with 1 Axes>"
      ]
     },
     "metadata": {
      "needs_background": "light"
     },
     "output_type": "display_data"
    }
   ],
   "source": [
    "good_sells = data.query('10 < days_exposition < 150')\n",
    "ax = plt.axes()\n",
    "ax.set_title('Время продажи квартир') \n",
    "ax.grid()\n",
    "plt.Figure(figsize=(20,45))\n",
    "plt.hist(good_sells['days_exposition'], bins=100, color=\"green\", alpha=0.6)\n",
    "ax.set_xlim([1, 150]) \n",
    "plt.xlabel('время продажи, дни')\n",
    "plt.ylabel('количество квартир') \n",
    "plt.show()"
   ]
  },
  {
   "cell_type": "markdown",
   "metadata": {},
   "source": [
    "Есть пики приблизительно на 45 и 60 днях. У меня есть предположение, что это может быть оплаченный срок размещения объявления на разных сайтах, после которого объявление автоматически снимается, если не поступила оплата за следующий период. Возможно, не все продавцы самостоятельно снимают объявление, после получения аванса или выхода на сделку. Косвенно это предположние подтверждают небольшие пики на 30 и 90 днях.\n",
    "Предлагаю ничего с этими данными не делать, так как они так или иначе отражают срок продажи квартиры, пусть и не совсем точно."
   ]
  },
  {
   "cell_type": "markdown",
   "metadata": {},
   "source": [
    "После исключения очень коротких и очень быстрых объявлений средний срок объявления практически не изменился (был 180 дней, стал 177), но изменилась медиана с 95 дней до 104."
   ]
  },
  {
   "cell_type": "markdown",
   "metadata": {},
   "source": [
    "В общем после исключения выбросов практически все гистограммы стали одного типа: пик, снижение вправо и длинный хвост."
   ]
  },
  {
   "cell_type": "code",
   "execution_count": 28,
   "metadata": {},
   "outputs": [
    {
     "name": "stdout",
     "output_type": "stream",
     "text": [
      "<class 'pandas.core.frame.DataFrame'>\n",
      "Int64Index: 22237 entries, 0 to 23697\n",
      "Data columns (total 29 columns):\n",
      "total_images            22237 non-null int64\n",
      "last_price              22237 non-null int64\n",
      "total_area              22237 non-null float64\n",
      "first_day_exposition    22237 non-null datetime64[ns]\n",
      "rooms                   22237 non-null int64\n",
      "ceiling_height          13657 non-null float64\n",
      "floors_total            22237 non-null int64\n",
      "living_area             22125 non-null float64\n",
      "floor                   22237 non-null int64\n",
      "is_apartment            22237 non-null bool\n",
      "studio                  22237 non-null bool\n",
      "open_plan               22237 non-null bool\n",
      "kitchen_area            22125 non-null float64\n",
      "balcony                 22237 non-null int64\n",
      "locality_name           22237 non-null object\n",
      "airports_nearest        22237 non-null int64\n",
      "cityCenters_nearest     22237 non-null int64\n",
      "parks_around3000        22237 non-null int64\n",
      "parks_nearest           22237 non-null int64\n",
      "ponds_around3000        22237 non-null int64\n",
      "ponds_nearest           22237 non-null int64\n",
      "days_exposition         22237 non-null int64\n",
      "weekday_exposition      22237 non-null int64\n",
      "month_exposition        22237 non-null int64\n",
      "year_exposition         22237 non-null int64\n",
      "price_per_meter         22237 non-null float64\n",
      "floor_number            22237 non-null int64\n",
      "living_area_rate        22125 non-null float64\n",
      "kitchen_area_rate       22125 non-null float64\n",
      "dtypes: bool(3), datetime64[ns](1), float64(7), int64(17), object(1)\n",
      "memory usage: 4.6+ MB\n",
      "None\n"
     ]
    }
   ],
   "source": [
    "print(good_prices.info()) #данные с очищенными от выбросов ценами"
   ]
  },
  {
   "cell_type": "code",
   "execution_count": 29,
   "metadata": {},
   "outputs": [
    {
     "name": "stdout",
     "output_type": "stream",
     "text": [
      "Коэффициент зависимости цены квартиры от ее площади составляет 0.78\n"
     ]
    },
    {
     "data": {
      "image/png": "[encoded data removed]",
      "text/plain": [
       "<Figure size 432x288 with 1 Axes>"
      ]
     },
     "metadata": {
      "needs_background": "light"
     },
     "output_type": "display_data"
    }
   ],
   "source": [
    "good_prices.plot(x='last_price', y='total_area', kind='scatter', alpha=0.1) \n",
    "print('Коэффициент зависимости цены квартиры от ее площади составляет {:.2f}'.format(good_prices['last_price'].corr(good_prices['total_area'])))\n"
   ]
  },
  {
   "cell_type": "code",
   "execution_count": 30,
   "metadata": {},
   "outputs": [
    {
     "name": "stdout",
     "output_type": "stream",
     "text": [
      "Коэффициент зависимости цены квартиры от количества комнат составляет 0.52\n"
     ]
    },
    {
     "data": {
      "image/png": "[encoded data removed]",
      "text/plain": [
       "<Figure size 432x288 with 1 Axes>"
      ]
     },
     "metadata": {
      "needs_background": "light"
     },
     "output_type": "display_data"
    }
   ],
   "source": [
    "good_prices.groupby('rooms')['last_price'].median().plot(y='rooms', kind='bar')\n",
    "print('Коэффициент зависимости цены квартиры от количества комнат составляет {:.2f}'.format(good_prices['last_price'].corr(good_prices['rooms'])))\n"
   ]
  },
  {
   "cell_type": "code",
   "execution_count": 31,
   "metadata": {
    "scrolled": true
   },
   "outputs": [
    {
     "name": "stdout",
     "output_type": "stream",
     "text": [
      "Коэффициент зависимости цены квартиры от этажа составляет 0.06\n"
     ]
    },
    {
     "data": {
      "image/png": "[encoded data removed]",
      "text/plain": [
       "<Figure size 432x288 with 1 Axes>"
      ]
     },
     "metadata": {
      "needs_background": "light"
     },
     "output_type": "display_data"
    }
   ],
   "source": [
    "good_prices.groupby('floor_number')['last_price'].median().plot(y='floor_number', kind='bar')\n",
    "\n",
    "print('Коэффициент зависимости цены квартиры от этажа составляет {:.2f}'.format(good_prices['last_price'].corr(good_prices['floor_number'])))\n"
   ]
  },
  {
   "cell_type": "code",
   "execution_count": 32,
   "metadata": {
    "scrolled": true
   },
   "outputs": [
    {
     "name": "stdout",
     "output_type": "stream",
     "text": [
      "Коэффициент зависимости цены квартиры от дня недели размещения объявления составляет -0.01\n"
     ]
    },
    {
     "data": {
      "image/png": "[encoded data removed]",
      "text/plain": [
       "<Figure size 432x288 with 1 Axes>"
      ]
     },
     "metadata": {
      "needs_background": "light"
     },
     "output_type": "display_data"
    }
   ],
   "source": [
    "good_prices.groupby('weekday_exposition')['last_price'].median().plot(y='weekday_exposition', kind='bar')\n",
    "\n",
    "print('Коэффициент зависимости цены квартиры от дня недели размещения объявления составляет {:.2f}'.format(good_prices['last_price'].corr(good_prices['weekday_exposition'])))\n"
   ]
  },
  {
   "cell_type": "code",
   "execution_count": 33,
   "metadata": {},
   "outputs": [
    {
     "name": "stdout",
     "output_type": "stream",
     "text": [
      "Коэффициент зависимости цены квартиры от месяца размещения объявления составляет 0.00\n"
     ]
    },
    {
     "data": {
      "image/png": "[encoded data removed]",
      "text/plain": [
       "<Figure size 432x288 with 1 Axes>"
      ]
     },
     "metadata": {
      "needs_background": "light"
     },
     "output_type": "display_data"
    }
   ],
   "source": [
    "good_prices.groupby('month_exposition')['last_price'].median().plot(y='month_exposition', kind='bar')\n",
    "\n",
    "print('Коэффициент зависимости цены квартиры от месяца размещения объявления составляет {:.2f}'.format(good_prices['last_price'].corr(good_prices['month_exposition'])))\n"
   ]
  },
  {
   "cell_type": "code",
   "execution_count": 34,
   "metadata": {},
   "outputs": [
    {
     "name": "stdout",
     "output_type": "stream",
     "text": [
      "Коэффициент зависимости цены квартиры от года размещения объявления составляет -0.02\n"
     ]
    },
    {
     "data": {
      "image/png": "[encoded data removed]",
      "text/plain": [
       "<Figure size 432x288 with 1 Axes>"
      ]
     },
     "metadata": {
      "needs_background": "light"
     },
     "output_type": "display_data"
    }
   ],
   "source": [
    "good_prices.groupby('year_exposition')['last_price'].median().plot(y='year_exposition', kind='bar')\n",
    "\n",
    "print('Коэффициент зависимости цены квартиры от года размещения объявления составляет {:.2f}'.format(good_prices['last_price'].corr(good_prices['year_exposition'])))"
   ]
  },
  {
   "cell_type": "code",
   "execution_count": 35,
   "metadata": {},
   "outputs": [
    {
     "name": "stderr",
     "output_type": "stream",
     "text": [
      "/opt/conda/lib/python3.7/site-packages/ipykernel_launcher.py:2: SettingWithCopyWarning: \n",
      "A value is trying to be set on a copy of a slice from a DataFrame.\n",
      "Try using .loc[row_indexer,col_indexer] = value instead\n",
      "\n",
      "See the caveats in the documentation: http://pandas.pydata.org/pandas-docs/stable/user_guide/indexing.html#returning-a-view-versus-a-copy\n",
      "  \n"
     ]
    },
    {
     "name": "stdout",
     "output_type": "stream",
     "text": [
      "Коэффициент зависимости цены квартиры от удаленности квартиры от центра составляет -0.44\n"
     ]
    },
    {
     "data": {
      "image/png": "[encoded data removed]",
      "text/plain": [
       "<Figure size 432x288 with 1 Axes>"
      ]
     },
     "metadata": {
      "needs_background": "light"
     },
     "output_type": "display_data"
    }
   ],
   "source": [
    "good_prices_near = good_prices.query('cityCenters_nearest < 17000') #до установки маркеров максимальное расстояние от центра не превышало 16028 метров, исключаю маркеры\n",
    "good_prices_near['Centers_km'] = (good_prices_near['cityCenters_nearest'] / 1000).round().astype('int').copy()\n",
    "good_prices_near.groupby('Centers_km')['last_price'].median().plot(y='cityCenters_nearest', kind='bar')\n",
    "\n",
    "print('Коэффициент зависимости цены квартиры от удаленности квартиры от центра составляет {:.2f}'.format(good_prices['last_price'].corr(good_prices['cityCenters_nearest'])))"
   ]
  },
  {
   "cell_type": "markdown",
   "metadata": {},
   "source": [
    "### Вывод"
   ]
  },
  {
   "cell_type": "markdown",
   "metadata": {},
   "source": [
    "Цена квартиры напрямую зависит от ее площади, количества комнат.\n",
    "Зависимость цены квартиры от этажа (первый, последний, другой) дня недели, месяца, года размещения объявления несущественная.\n",
    "Если напрямую рассчитывать коэффициент зависимости цены квартиры от удаленности квартиры от центра, то зависимость получается обратная (как и должно быть) и не очень существенная, так как анализируем область в целом, а цена жилья в деревне в 30 километрах от города должна быть ниже, чем в райцентре в 100 километрах от города.."
   ]
  },
  {
   "cell_type": "code",
   "execution_count": 36,
   "metadata": {
    "scrolled": true
   },
   "outputs": [
    {
     "name": "stdout",
     "output_type": "stream",
     "text": [
      "locality_name\n",
      "санкт-петербург    15721\n",
      "мурино               590\n",
      "кудрово              472\n",
      "шушары               440\n",
      "всеволожск           398\n",
      "пушкин               369\n",
      "колпино              338\n",
      "парголово            327\n",
      "гатчина              307\n",
      "выборг               237\n",
      "Name: locality_name, dtype: int64\n"
     ]
    }
   ],
   "source": [
    "locality_max = data.groupby('locality_name')['locality_name'].count().sort_values(ascending = False).head(10)\n",
    "#получила список из 10 населенных пунктов с самым болши количеством объявлений\n",
    "print(locality_max)"
   ]
  },
  {
   "cell_type": "code",
   "execution_count": 37,
   "metadata": {},
   "outputs": [
    {
     "name": "stdout",
     "output_type": "stream",
     "text": [
      "<class 'pandas.core.frame.DataFrame'>\n",
      "Int64Index: 18453 entries, 0 to 23697\n",
      "Data columns (total 29 columns):\n",
      "total_images            18453 non-null int64\n",
      "last_price              18453 non-null int64\n",
      "total_area              18453 non-null float64\n",
      "first_day_exposition    18453 non-null datetime64[ns]\n",
      "rooms                   18453 non-null int64\n",
      "ceiling_height          11331 non-null float64\n",
      "floors_total            18453 non-null int64\n",
      "living_area             18359 non-null float64\n",
      "floor                   18453 non-null int64\n",
      "is_apartment            18453 non-null bool\n",
      "studio                  18453 non-null bool\n",
      "open_plan               18453 non-null bool\n",
      "kitchen_area            18359 non-null float64\n",
      "balcony                 18453 non-null int64\n",
      "locality_name           18453 non-null object\n",
      "airports_nearest        18453 non-null int64\n",
      "cityCenters_nearest     18453 non-null int64\n",
      "parks_around3000        18453 non-null int64\n",
      "parks_nearest           18453 non-null int64\n",
      "ponds_around3000        18453 non-null int64\n",
      "ponds_nearest           18453 non-null int64\n",
      "days_exposition         18453 non-null int64\n",
      "weekday_exposition      18453 non-null int64\n",
      "month_exposition        18453 non-null int64\n",
      "year_exposition         18453 non-null int64\n",
      "price_per_meter         18453 non-null float64\n",
      "floor_number            18453 non-null int64\n",
      "living_area_rate        18359 non-null float64\n",
      "kitchen_area_rate       18359 non-null float64\n",
      "dtypes: bool(3), datetime64[ns](1), float64(7), int64(17), object(1)\n",
      "memory usage: 3.9+ MB\n",
      "None\n"
     ]
    }
   ],
   "source": [
    "good_prices_local = good_prices.query('locality_name in @locality_max.index') #получила таблицу в части населенных пунктов с самым большим количеством объявлений\n",
    "print(good_prices_local.info())"
   ]
  },
  {
   "cell_type": "code",
   "execution_count": 38,
   "metadata": {},
   "outputs": [
    {
     "name": "stdout",
     "output_type": "stream",
     "text": [
      "                 price_per_meter\n",
      "locality_name                   \n",
      "санкт-петербург    108624.976771\n",
      "пушкин             101788.572053\n",
      "кудрово             95324.930544\n",
      "парголово           90273.590084\n",
      "мурино              86087.512050\n",
      "шушары              78655.592167\n",
      "колпино             75333.295801\n",
      "гатчина             69536.314687\n",
      "всеволожск          67514.045319\n",
      "выборг              59479.344610\n"
     ]
    }
   ],
   "source": [
    "#print(good_prices_local['price_per_meter'].describe()) \n",
    "price_per_meter_local = good_prices_local.pivot_table(index = 'locality_name', values = 'price_per_meter', aggfunc = 'mean')\n",
    "print(price_per_meter_local.sort_values(by = 'price_per_meter', ascending = False))\n",
    "#посчитала среднюю цену за квадратный метр для населенных пунктов с самым большим количеством объявлений"
   ]
  },
  {
   "cell_type": "markdown",
   "metadata": {},
   "source": [
    "Самая высокая средняя цена за квадратный метр - в Санкт-Петербурге и Пушкине - 108624 рубля и 101788 рублей за квадратный метр соответственно.\n",
    "Самая низкая  - во Всеволожске и Выборге - 67514 рублей и 59479 рублей за квадратный метр соответственно.\n",
    "Пушкин находится в границах Санкт-Петербурга, цены на недвижимость в нем этому соответствуют. Кудрово и Мурино расположены вблизи трансопортного кольца, должно быть удобно добираться на работу и с работы в Санкт-Петербурге. Цены на недвижимость в Выборге обусловлены его удаленностью от Санкт-Петербурга. Почему недвижимость во Всеволожске дешевле, чем недвижимость в Гатчине - возможно во Всеволожске старые дома и не очень удобная транспортная связка с центром."
   ]
  },
  {
   "cell_type": "code",
   "execution_count": 39,
   "metadata": {},
   "outputs": [
    {
     "name": "stdout",
     "output_type": "stream",
     "text": [
      "<class 'pandas.core.frame.DataFrame'>\n",
      "Int64Index: 15012 entries, 0 to 23697\n",
      "Data columns (total 29 columns):\n",
      "total_images            15012 non-null int64\n",
      "last_price              15012 non-null int64\n",
      "total_area              15012 non-null float64\n",
      "first_day_exposition    15012 non-null datetime64[ns]\n",
      "rooms                   15012 non-null int64\n",
      "ceiling_height          9615 non-null float64\n",
      "floors_total            15012 non-null int64\n",
      "living_area             14940 non-null float64\n",
      "floor                   15012 non-null int64\n",
      "is_apartment            15012 non-null bool\n",
      "studio                  15012 non-null bool\n",
      "open_plan               15012 non-null bool\n",
      "kitchen_area            14940 non-null float64\n",
      "balcony                 15012 non-null int64\n",
      "locality_name           15012 non-null object\n",
      "airports_nearest        15012 non-null int64\n",
      "cityCenters_nearest     15012 non-null int64\n",
      "parks_around3000        15012 non-null int64\n",
      "parks_nearest           15012 non-null int64\n",
      "ponds_around3000        15012 non-null int64\n",
      "ponds_nearest           15012 non-null int64\n",
      "days_exposition         15012 non-null int64\n",
      "weekday_exposition      15012 non-null int64\n",
      "month_exposition        15012 non-null int64\n",
      "year_exposition         15012 non-null int64\n",
      "price_per_meter         15012 non-null float64\n",
      "floor_number            15012 non-null int64\n",
      "living_area_rate        14940 non-null float64\n",
      "kitchen_area_rate       14940 non-null float64\n",
      "dtypes: bool(3), datetime64[ns](1), float64(7), int64(17), object(1)\n",
      "memory usage: 3.1+ MB\n",
      "None\n"
     ]
    }
   ],
   "source": [
    "city = 'санкт-петербург'\n",
    "good_prices_SPb = good_prices.query('locality_name in @city') #получила срез по Санкт-Петербургу\n",
    "print(good_prices_SPb.info())"
   ]
  },
  {
   "cell_type": "code",
   "execution_count": 40,
   "metadata": {},
   "outputs": [
    {
     "name": "stderr",
     "output_type": "stream",
     "text": [
      "/opt/conda/lib/python3.7/site-packages/ipykernel_launcher.py:1: SettingWithCopyWarning: \n",
      "A value is trying to be set on a copy of a slice from a DataFrame.\n",
      "Try using .loc[row_indexer,col_indexer] = value instead\n",
      "\n",
      "See the caveats in the documentation: http://pandas.pydata.org/pandas-docs/stable/user_guide/indexing.html#returning-a-view-versus-a-copy\n",
      "  \"\"\"Entry point for launching an IPython kernel.\n"
     ]
    },
    {
     "data": {
      "text/html": [
       "<div>\n",
       "<style scoped>\n",
       "    .dataframe tbody tr th:only-of-type {\n",
       "        vertical-align: middle;\n",
       "    }\n",
       "\n",
       "    .dataframe tbody tr th {\n",
       "        vertical-align: top;\n",
       "    }\n",
       "\n",
       "    .dataframe thead th {\n",
       "        text-align: right;\n",
       "    }\n",
       "</style>\n",
       "<table border=\"1\" class=\"dataframe\">\n",
       "  <thead>\n",
       "    <tr style=\"text-align: right;\">\n",
       "      <th></th>\n",
       "      <th>total_images</th>\n",
       "      <th>last_price</th>\n",
       "      <th>total_area</th>\n",
       "      <th>first_day_exposition</th>\n",
       "      <th>rooms</th>\n",
       "      <th>ceiling_height</th>\n",
       "      <th>floors_total</th>\n",
       "      <th>living_area</th>\n",
       "      <th>floor</th>\n",
       "      <th>is_apartment</th>\n",
       "      <th>...</th>\n",
       "      <th>ponds_nearest</th>\n",
       "      <th>days_exposition</th>\n",
       "      <th>weekday_exposition</th>\n",
       "      <th>month_exposition</th>\n",
       "      <th>year_exposition</th>\n",
       "      <th>price_per_meter</th>\n",
       "      <th>floor_number</th>\n",
       "      <th>living_area_rate</th>\n",
       "      <th>kitchen_area_rate</th>\n",
       "      <th>cityCenters_km</th>\n",
       "    </tr>\n",
       "  </thead>\n",
       "  <tbody>\n",
       "    <tr>\n",
       "      <td>0</td>\n",
       "      <td>20</td>\n",
       "      <td>13000000</td>\n",
       "      <td>108.0</td>\n",
       "      <td>2019-03-07</td>\n",
       "      <td>3</td>\n",
       "      <td>2.70</td>\n",
       "      <td>16</td>\n",
       "      <td>51.0</td>\n",
       "      <td>8</td>\n",
       "      <td>True</td>\n",
       "      <td>...</td>\n",
       "      <td>755</td>\n",
       "      <td>99999</td>\n",
       "      <td>4</td>\n",
       "      <td>3</td>\n",
       "      <td>2019</td>\n",
       "      <td>120370.370370</td>\n",
       "      <td>2</td>\n",
       "      <td>0.472222</td>\n",
       "      <td>0.527778</td>\n",
       "      <td>16</td>\n",
       "    </tr>\n",
       "    <tr>\n",
       "      <td>2</td>\n",
       "      <td>10</td>\n",
       "      <td>5196000</td>\n",
       "      <td>56.0</td>\n",
       "      <td>2015-08-20</td>\n",
       "      <td>2</td>\n",
       "      <td>NaN</td>\n",
       "      <td>5</td>\n",
       "      <td>34.3</td>\n",
       "      <td>4</td>\n",
       "      <td>True</td>\n",
       "      <td>...</td>\n",
       "      <td>574</td>\n",
       "      <td>558</td>\n",
       "      <td>4</td>\n",
       "      <td>8</td>\n",
       "      <td>2015</td>\n",
       "      <td>92785.714286</td>\n",
       "      <td>2</td>\n",
       "      <td>0.612500</td>\n",
       "      <td>0.387500</td>\n",
       "      <td>14</td>\n",
       "    </tr>\n",
       "    <tr>\n",
       "      <td>4</td>\n",
       "      <td>2</td>\n",
       "      <td>10000000</td>\n",
       "      <td>100.0</td>\n",
       "      <td>2018-06-19</td>\n",
       "      <td>2</td>\n",
       "      <td>3.03</td>\n",
       "      <td>14</td>\n",
       "      <td>32.0</td>\n",
       "      <td>13</td>\n",
       "      <td>True</td>\n",
       "      <td>...</td>\n",
       "      <td>48</td>\n",
       "      <td>121</td>\n",
       "      <td>2</td>\n",
       "      <td>6</td>\n",
       "      <td>2018</td>\n",
       "      <td>100000.000000</td>\n",
       "      <td>2</td>\n",
       "      <td>0.320000</td>\n",
       "      <td>0.680000</td>\n",
       "      <td>8</td>\n",
       "    </tr>\n",
       "    <tr>\n",
       "      <td>7</td>\n",
       "      <td>5</td>\n",
       "      <td>7915000</td>\n",
       "      <td>71.6</td>\n",
       "      <td>2019-04-18</td>\n",
       "      <td>2</td>\n",
       "      <td>NaN</td>\n",
       "      <td>24</td>\n",
       "      <td>44.3</td>\n",
       "      <td>22</td>\n",
       "      <td>True</td>\n",
       "      <td>...</td>\n",
       "      <td>0</td>\n",
       "      <td>99999</td>\n",
       "      <td>4</td>\n",
       "      <td>4</td>\n",
       "      <td>2019</td>\n",
       "      <td>110544.692737</td>\n",
       "      <td>2</td>\n",
       "      <td>0.618715</td>\n",
       "      <td>0.381285</td>\n",
       "      <td>12</td>\n",
       "    </tr>\n",
       "    <tr>\n",
       "      <td>9</td>\n",
       "      <td>18</td>\n",
       "      <td>5400000</td>\n",
       "      <td>61.0</td>\n",
       "      <td>2017-02-26</td>\n",
       "      <td>3</td>\n",
       "      <td>2.50</td>\n",
       "      <td>9</td>\n",
       "      <td>43.6</td>\n",
       "      <td>7</td>\n",
       "      <td>True</td>\n",
       "      <td>...</td>\n",
       "      <td>0</td>\n",
       "      <td>289</td>\n",
       "      <td>7</td>\n",
       "      <td>2</td>\n",
       "      <td>2017</td>\n",
       "      <td>88524.590164</td>\n",
       "      <td>2</td>\n",
       "      <td>0.714754</td>\n",
       "      <td>0.285246</td>\n",
       "      <td>15</td>\n",
       "    </tr>\n",
       "    <tr>\n",
       "      <td>10</td>\n",
       "      <td>5</td>\n",
       "      <td>5050000</td>\n",
       "      <td>39.6</td>\n",
       "      <td>2017-11-16</td>\n",
       "      <td>1</td>\n",
       "      <td>2.67</td>\n",
       "      <td>12</td>\n",
       "      <td>20.3</td>\n",
       "      <td>3</td>\n",
       "      <td>True</td>\n",
       "      <td>...</td>\n",
       "      <td>553</td>\n",
       "      <td>137</td>\n",
       "      <td>4</td>\n",
       "      <td>11</td>\n",
       "      <td>2017</td>\n",
       "      <td>127525.252525</td>\n",
       "      <td>2</td>\n",
       "      <td>0.512626</td>\n",
       "      <td>0.487374</td>\n",
       "      <td>14</td>\n",
       "    </tr>\n",
       "    <tr>\n",
       "      <td>15</td>\n",
       "      <td>16</td>\n",
       "      <td>4650000</td>\n",
       "      <td>39.0</td>\n",
       "      <td>2017-11-18</td>\n",
       "      <td>1</td>\n",
       "      <td>NaN</td>\n",
       "      <td>14</td>\n",
       "      <td>20.5</td>\n",
       "      <td>5</td>\n",
       "      <td>True</td>\n",
       "      <td>...</td>\n",
       "      <td>296</td>\n",
       "      <td>19</td>\n",
       "      <td>6</td>\n",
       "      <td>11</td>\n",
       "      <td>2017</td>\n",
       "      <td>119230.769231</td>\n",
       "      <td>2</td>\n",
       "      <td>0.525641</td>\n",
       "      <td>0.474359</td>\n",
       "      <td>14</td>\n",
       "    </tr>\n",
       "    <tr>\n",
       "      <td>16</td>\n",
       "      <td>11</td>\n",
       "      <td>6700000</td>\n",
       "      <td>82.0</td>\n",
       "      <td>2017-11-23</td>\n",
       "      <td>3</td>\n",
       "      <td>3.05</td>\n",
       "      <td>5</td>\n",
       "      <td>55.6</td>\n",
       "      <td>1</td>\n",
       "      <td>True</td>\n",
       "      <td>...</td>\n",
       "      <td>0</td>\n",
       "      <td>397</td>\n",
       "      <td>4</td>\n",
       "      <td>11</td>\n",
       "      <td>2017</td>\n",
       "      <td>81707.317073</td>\n",
       "      <td>1</td>\n",
       "      <td>0.678049</td>\n",
       "      <td>0.321951</td>\n",
       "      <td>11</td>\n",
       "    </tr>\n",
       "    <tr>\n",
       "      <td>17</td>\n",
       "      <td>6</td>\n",
       "      <td>4180000</td>\n",
       "      <td>36.0</td>\n",
       "      <td>2016-09-09</td>\n",
       "      <td>1</td>\n",
       "      <td>NaN</td>\n",
       "      <td>17</td>\n",
       "      <td>16.5</td>\n",
       "      <td>7</td>\n",
       "      <td>True</td>\n",
       "      <td>...</td>\n",
       "      <td>859</td>\n",
       "      <td>571</td>\n",
       "      <td>5</td>\n",
       "      <td>9</td>\n",
       "      <td>2016</td>\n",
       "      <td>116111.111111</td>\n",
       "      <td>2</td>\n",
       "      <td>0.458333</td>\n",
       "      <td>0.541667</td>\n",
       "      <td>15</td>\n",
       "    </tr>\n",
       "    <tr>\n",
       "      <td>18</td>\n",
       "      <td>8</td>\n",
       "      <td>3250000</td>\n",
       "      <td>31.0</td>\n",
       "      <td>2017-01-27</td>\n",
       "      <td>1</td>\n",
       "      <td>2.50</td>\n",
       "      <td>5</td>\n",
       "      <td>19.4</td>\n",
       "      <td>2</td>\n",
       "      <td>True</td>\n",
       "      <td>...</td>\n",
       "      <td>0</td>\n",
       "      <td>168</td>\n",
       "      <td>5</td>\n",
       "      <td>1</td>\n",
       "      <td>2017</td>\n",
       "      <td>104838.709677</td>\n",
       "      <td>2</td>\n",
       "      <td>0.625806</td>\n",
       "      <td>0.374194</td>\n",
       "      <td>11</td>\n",
       "    </tr>\n",
       "  </tbody>\n",
       "</table>\n",
       "<p>10 rows × 30 columns</p>\n",
       "</div>"
      ],
      "text/plain": [
       "    total_images  last_price  total_area first_day_exposition  rooms  \\\n",
       "0             20    13000000       108.0           2019-03-07      3   \n",
       "2             10     5196000        56.0           2015-08-20      2   \n",
       "4              2    10000000       100.0           2018-06-19      2   \n",
       "7              5     7915000        71.6           2019-04-18      2   \n",
       "9             18     5400000        61.0           2017-02-26      3   \n",
       "10             5     5050000        39.6           2017-11-16      1   \n",
       "15            16     4650000        39.0           2017-11-18      1   \n",
       "16            11     6700000        82.0           2017-11-23      3   \n",
       "17             6     4180000        36.0           2016-09-09      1   \n",
       "18             8     3250000        31.0           2017-01-27      1   \n",
       "\n",
       "    ceiling_height  floors_total  living_area  floor  is_apartment  ...  \\\n",
       "0             2.70            16         51.0      8          True  ...   \n",
       "2              NaN             5         34.3      4          True  ...   \n",
       "4             3.03            14         32.0     13          True  ...   \n",
       "7              NaN            24         44.3     22          True  ...   \n",
       "9             2.50             9         43.6      7          True  ...   \n",
       "10            2.67            12         20.3      3          True  ...   \n",
       "15             NaN            14         20.5      5          True  ...   \n",
       "16            3.05             5         55.6      1          True  ...   \n",
       "17             NaN            17         16.5      7          True  ...   \n",
       "18            2.50             5         19.4      2          True  ...   \n",
       "\n",
       "    ponds_nearest  days_exposition  weekday_exposition  month_exposition  \\\n",
       "0             755            99999                   4                 3   \n",
       "2             574              558                   4                 8   \n",
       "4              48              121                   2                 6   \n",
       "7               0            99999                   4                 4   \n",
       "9               0              289                   7                 2   \n",
       "10            553              137                   4                11   \n",
       "15            296               19                   6                11   \n",
       "16              0              397                   4                11   \n",
       "17            859              571                   5                 9   \n",
       "18              0              168                   5                 1   \n",
       "\n",
       "   year_exposition  price_per_meter  floor_number  living_area_rate  \\\n",
       "0             2019    120370.370370             2          0.472222   \n",
       "2             2015     92785.714286             2          0.612500   \n",
       "4             2018    100000.000000             2          0.320000   \n",
       "7             2019    110544.692737             2          0.618715   \n",
       "9             2017     88524.590164             2          0.714754   \n",
       "10            2017    127525.252525             2          0.512626   \n",
       "15            2017    119230.769231             2          0.525641   \n",
       "16            2017     81707.317073             1          0.678049   \n",
       "17            2016    116111.111111             2          0.458333   \n",
       "18            2017    104838.709677             2          0.625806   \n",
       "\n",
       "    kitchen_area_rate  cityCenters_km  \n",
       "0            0.527778              16  \n",
       "2            0.387500              14  \n",
       "4            0.680000               8  \n",
       "7            0.381285              12  \n",
       "9            0.285246              15  \n",
       "10           0.487374              14  \n",
       "15           0.474359              14  \n",
       "16           0.321951              11  \n",
       "17           0.541667              15  \n",
       "18           0.374194              11  \n",
       "\n",
       "[10 rows x 30 columns]"
      ]
     },
     "metadata": {},
     "output_type": "display_data"
    }
   ],
   "source": [
    "good_prices_SPb['cityCenters_km'] = (good_prices_SPb['cityCenters_nearest'] / 1000).round().astype('int').copy()\n",
    "#print(good_prices_SPb.info())\n",
    "#добавила столбец с расстоянием до центра в километрах\n",
    "display(good_prices_SPb.head(10))"
   ]
  },
  {
   "cell_type": "code",
   "execution_count": 41,
   "metadata": {},
   "outputs": [
    {
     "name": "stdout",
     "output_type": "stream",
     "text": [
      "                price_per_meter  cityCenters_km\n",
      "cityCenters_km                                 \n",
      "0                 118153.215310               0\n",
      "1                 129643.925472               1\n",
      "2                 122138.107993               2\n",
      "3                 112994.403271               3\n",
      "4                 120668.307919               4\n",
      "5                 125342.390243               5\n",
      "6                 126724.902726               6\n",
      "7                 123837.738523               7\n",
      "8                 121442.994158               8\n",
      "9                 110442.247045               9\n",
      "10                111223.571123              10\n",
      "11                107335.852335              11\n",
      "12                107657.419322              12\n",
      "13                107688.318077              13\n",
      "14                104202.834723              14\n",
      "15                103912.724766              15\n",
      "16                100178.231402              16\n",
      "17                 96309.492256              17\n",
      "18                 96308.935932              18\n",
      "19                 98652.736027              19\n",
      "20                103045.181922              20\n",
      "21                 94469.584582              21\n",
      "22                 91330.425050              22\n",
      "23                 91828.517765              23\n",
      "24                 85736.904595              24\n",
      "25                 91531.371618              25\n",
      "26                 89285.876593              26\n",
      "27                132115.709459              27\n",
      "28                 81161.915320              28\n",
      "29                 72953.365445              29\n"
     ]
    },
    {
     "data": {
      "text/plain": [
       "<matplotlib.axes._subplots.AxesSubplot at 0x7fde2002ff90>"
      ]
     },
     "execution_count": 41,
     "metadata": {},
     "output_type": "execute_result"
    },
    {
     "data": {
      "image/png": "[encoded data removed]",
      "text/plain": [
       "<Figure size 432x288 with 1 Axes>"
      ]
     },
     "metadata": {
      "needs_background": "light"
     },
     "output_type": "display_data"
    }
   ],
   "source": [
    "priceSPb_per_km = good_prices_SPb.pivot_table(index='cityCenters_km', values='price_per_meter')\n",
    "#посчитала среднюю стоимость квадратного метра для каждого километра удаления от центра в Санкт-Петербурге\n",
    "priceSPb_per_km['cityCenters_km'] = priceSPb_per_km.index\n",
    "print(priceSPb_per_km)\n",
    "priceSPb_per_km.plot(x='cityCenters_km', y='price_per_meter', kind='scatter') #построила график зависимости цены от удаления от центра"
   ]
  },
  {
   "cell_type": "markdown",
   "metadata": {},
   "source": [
    "Исходя из графика видно, что начиная с девятого километра от центра средняя цена за квадратный метр снижается, то есть центральными можно считать районы в радиусе 8 километров.\n",
    "\n",
    "Есть небольшое повышение цены на 20 километре (возможно какой-то новый район со всеми удобствами) и на 27 километре - но это скорее всего уже коттеджи на краю города и природы искажают цены."
   ]
  },
  {
   "cell_type": "code",
   "execution_count": 42,
   "metadata": {},
   "outputs": [],
   "source": [
    "good_prices_SPb_centre = good_prices_SPb.query('cityCenters_km <= 8') # выделила объявления о продаже в центральных районах города\n",
    "#display(good_prices_SPb_centre.info())"
   ]
  },
  {
   "cell_type": "code",
   "execution_count": 43,
   "metadata": {
    "scrolled": true
   },
   "outputs": [
    {
     "data": {
      "image/png": "[encoded data removed]",
      "text/plain": [
       "<Figure size 432x288 with 1 Axes>"
      ]
     },
     "metadata": {
      "needs_background": "light"
     },
     "output_type": "display_data"
    },
    {
     "name": "stdout",
     "output_type": "stream",
     "text": [
      "count    3534.000000\n",
      "mean       75.808902\n",
      "std        33.584727\n",
      "min        12.000000\n",
      "25%        51.000000\n",
      "50%        70.000000\n",
      "75%        93.000000\n",
      "max       287.500000\n",
      "Name: total_area, dtype: float64\n"
     ]
    }
   ],
   "source": [
    "ax = plt.axes()\n",
    "ax.set_title('Площадь квартир, выставленных на продажу в центральных районах') \n",
    "ax.grid()\n",
    "plt.Figure(figsize=(15,15))\n",
    "plt.hist(good_prices_SPb_centre['total_area'], bins=32, color=\"green\", alpha=0.6)\n",
    "ax.set_xlim([10, 300]) \n",
    "plt.xlabel('площадь квартир')\n",
    "plt.ylabel('количество квартир') \n",
    "plt.show()\n",
    "\n",
    "print(good_prices_SPb_centre['total_area'].describe()) "
   ]
  },
  {
   "cell_type": "markdown",
   "metadata": {},
   "source": [
    "Наибольшее количество квартир выставленных на продажу в центральных районах города - с площадью 40 и 70-80 квадратных метров, медиана для центральных районов составляет 70 квадратных метров, среднее - 75 квадратных метров."
   ]
  },
  {
   "cell_type": "code",
   "execution_count": 44,
   "metadata": {},
   "outputs": [
    {
     "name": "stdout",
     "output_type": "stream",
     "text": [
      "count    3.534000e+03\n",
      "mean     8.944335e+06\n",
      "std      3.824588e+06\n",
      "min      1.600000e+06\n",
      "25%      6.084592e+06\n",
      "50%      8.163000e+06\n",
      "75%      1.120000e+07\n",
      "max      1.999900e+07\n",
      "Name: last_price, dtype: float64\n"
     ]
    },
    {
     "data": {
      "image/png": "[encoded data removed]",
      "text/plain": [
       "<Figure size 648x432 with 1 Axes>"
      ]
     },
     "metadata": {
      "needs_background": "light"
     },
     "output_type": "display_data"
    }
   ],
   "source": [
    "(good_prices_SPb_centre['last_price'] / 1000000).hist(bins=25, range=(0, 22), figsize=(9, 6))\n",
    "plt.xlabel('Цена квартир, млн.')\n",
    "plt.ylabel('количество квартир')\n",
    "ax.set_title('Цена квартир, выставленных на продажу') \n",
    "\n",
    "print(good_prices_SPb_centre['last_price'].describe()) \n",
    " "
   ]
  },
  {
   "cell_type": "markdown",
   "metadata": {},
   "source": [
    "Средняя цена квартиры в центральных районах города - 8.94 миллиона, медианная - 8.16 миллионов."
   ]
  },
  {
   "cell_type": "code",
   "execution_count": 45,
   "metadata": {},
   "outputs": [
    {
     "data": {
      "image/png": "[encoded data removed]",
      "text/plain": [
       "<Figure size 432x288 with 1 Axes>"
      ]
     },
     "metadata": {
      "needs_background": "light"
     },
     "output_type": "display_data"
    },
    {
     "name": "stdout",
     "output_type": "stream",
     "text": [
      "count    3534.000000\n",
      "mean        2.546406\n",
      "std         1.208973\n",
      "min         0.000000\n",
      "25%         2.000000\n",
      "50%         2.000000\n",
      "75%         3.000000\n",
      "max        11.000000\n",
      "Name: rooms, dtype: float64\n"
     ]
    }
   ],
   "source": [
    "ax = plt.axes()\n",
    "ax.set_title('Количество комнат в квартирах, выставленных на продажу в центральных районах города') \n",
    "ax.grid()\n",
    "plt.Figure(figsize=(15,15))\n",
    "plt.hist(good_prices_SPb_centre['rooms'], bins=12, color=\"green\", alpha=0.6)\n",
    "ax.set_xlim([0, 12]) \n",
    "plt.xlabel('количество комнат')\n",
    "plt.ylabel('количество квартир') \n",
    "plt.show()\n",
    "\n",
    "print(good_prices_SPb_centre['rooms'].describe()) "
   ]
  },
  {
   "cell_type": "markdown",
   "metadata": {},
   "source": [
    "В центральных районах города картина средняя и медиана - 2 комнаты, но при этом на продажу выставляется еще достаточное количество 3-х и 4-х комнатных квартир, а также отдельные люксовые предложения с большим количеством комнат."
   ]
  },
  {
   "cell_type": "code",
   "execution_count": 46,
   "metadata": {},
   "outputs": [
    {
     "data": {
      "image/png": "[encoded data removed]",
      "text/plain": [
       "<Figure size 432x288 with 1 Axes>"
      ]
     },
     "metadata": {
      "needs_background": "light"
     },
     "output_type": "display_data"
    },
    {
     "name": "stdout",
     "output_type": "stream",
     "text": [
      "count    2281.000000\n",
      "mean        3.028005\n",
      "std         0.382380\n",
      "min         2.000000\n",
      "25%         2.750000\n",
      "50%         3.000000\n",
      "75%         3.200000\n",
      "max        10.000000\n",
      "Name: ceiling_height, dtype: float64\n"
     ]
    }
   ],
   "source": [
    "ax = plt.axes()\n",
    "ax.set_title('Высота потолка в квартирах, выставленных на продажу') \n",
    "ax.grid()\n",
    "plt.Figure(figsize=(15,15))\n",
    "plt.hist(good_prices_SPb_centre['ceiling_height'], bins=10, color=\"blue\", alpha=0.6)\n",
    "ax.set_xlim([2.25, 3.75]) \n",
    "plt.xlabel('высота потолка, м')\n",
    "plt.ylabel('количество квартир') \n",
    "plt.show()\n",
    "\n",
    "print(good_prices_SPb_centre['ceiling_height'].describe())"
   ]
  },
  {
   "cell_type": "markdown",
   "metadata": {},
   "source": [
    "В центральных районах города продаваемые квартиры выше - средняя высота 3.02 метра, медиана - 3 метра, это может объясняться тем, что меньше типовых домов советской постройки (хрущевок, брежневок), в которых потолки не превышают 2.65 метра."
   ]
  },
  {
   "cell_type": "code",
   "execution_count": 47,
   "metadata": {},
   "outputs": [
    {
     "name": "stdout",
     "output_type": "stream",
     "text": [
      "Коэффициент зависимости цены квартиры в центральном районе от количества комнат составляет 0.52\n"
     ]
    },
    {
     "data": {
      "image/png": "[encoded data removed]",
      "text/plain": [
       "<Figure size 432x288 with 1 Axes>"
      ]
     },
     "metadata": {
      "needs_background": "light"
     },
     "output_type": "display_data"
    }
   ],
   "source": [
    "good_prices_SPb_centre.groupby('rooms')['last_price'].median().plot(y='rooms', kind='bar')\n",
    "\n",
    "print('Коэффициент зависимости цены квартиры в центральном районе от количества комнат составляет {:.2f}'.format(good_prices_SPb_centre['last_price'].corr(good_prices_SPb_centre['rooms'])))\n"
   ]
  },
  {
   "cell_type": "code",
   "execution_count": 48,
   "metadata": {},
   "outputs": [
    {
     "name": "stdout",
     "output_type": "stream",
     "text": [
      "Коэффициент зависимости цены квартиры в центральном районе от этажа составляет 0.12\n"
     ]
    },
    {
     "data": {
      "image/png": "[encoded data removed]",
      "text/plain": [
       "<Figure size 432x288 with 1 Axes>"
      ]
     },
     "metadata": {
      "needs_background": "light"
     },
     "output_type": "display_data"
    }
   ],
   "source": [
    "good_prices_SPb_centre.groupby('floor_number')['last_price'].median().plot(y='floor_number', kind='bar')\n",
    "\n",
    "print('Коэффициент зависимости цены квартиры в центральном районе от этажа составляет {:.2f}'.format(good_prices_SPb_centre['last_price'].corr(good_prices_SPb_centre['floor_number'])))\n"
   ]
  },
  {
   "cell_type": "code",
   "execution_count": 49,
   "metadata": {},
   "outputs": [
    {
     "name": "stdout",
     "output_type": "stream",
     "text": [
      "Коэффициент зависимости цены квартиры в центральном районе от удаленности от центра составляет -0.18\n"
     ]
    },
    {
     "data": {
      "image/png": "[encoded data removed]",
      "text/plain": [
       "<Figure size 432x288 with 1 Axes>"
      ]
     },
     "metadata": {
      "needs_background": "light"
     },
     "output_type": "display_data"
    }
   ],
   "source": [
    "good_prices_SPb_centre.groupby('cityCenters_km')['last_price'].median().plot(y='cityCenters_km', kind='bar')\n",
    "\n",
    "print('Коэффициент зависимости цены квартиры в центральном районе от удаленности от центра составляет {:.2f}'.format(good_prices_SPb_centre['last_price'].corr(good_prices_SPb_centre['cityCenters_km'])))\n"
   ]
  },
  {
   "cell_type": "code",
   "execution_count": 50,
   "metadata": {},
   "outputs": [
    {
     "name": "stdout",
     "output_type": "stream",
     "text": [
      "Коэффициент зависимости цены квартиры в центральном районе от дня недели размещения объявления составляет -0.01\n"
     ]
    },
    {
     "data": {
      "image/png": "[encoded data removed]",
      "text/plain": [
       "<Figure size 432x288 with 1 Axes>"
      ]
     },
     "metadata": {
      "needs_background": "light"
     },
     "output_type": "display_data"
    }
   ],
   "source": [
    "good_prices_SPb_centre.groupby('weekday_exposition')['last_price'].median().plot(y='weekday_exposition', kind='bar')\n",
    " \n",
    "print('Коэффициент зависимости цены квартиры в центральном районе от дня недели размещения объявления составляет {:.2f}'.format(good_prices_SPb_centre['last_price'].corr(good_prices_SPb_centre['weekday_exposition'])))\n"
   ]
  },
  {
   "cell_type": "code",
   "execution_count": 51,
   "metadata": {},
   "outputs": [
    {
     "name": "stdout",
     "output_type": "stream",
     "text": [
      "Коэффициент зависимости цены квартиры в центральном районе от месяца размещения объявления составляет -0.03\n"
     ]
    },
    {
     "data": {
      "image/png": "[encoded data removed]",
      "text/plain": [
       "<Figure size 432x288 with 1 Axes>"
      ]
     },
     "metadata": {
      "needs_background": "light"
     },
     "output_type": "display_data"
    }
   ],
   "source": [
    "good_prices_SPb_centre.groupby('month_exposition')['last_price'].median().plot(y='month_exposition', kind='bar')\n",
    "\n",
    "print('Коэффициент зависимости цены квартиры в центральном районе от месяца размещения объявления составляет {:.2f}'.format(good_prices_SPb_centre['last_price'].corr(good_prices_SPb_centre['month_exposition'])))\n"
   ]
  },
  {
   "cell_type": "code",
   "execution_count": 52,
   "metadata": {},
   "outputs": [
    {
     "name": "stdout",
     "output_type": "stream",
     "text": [
      "Коэффициент зависимости цены квартиры в центральном районе от года размещения объявления составляет -0.03\n"
     ]
    },
    {
     "data": {
      "image/png": "[encoded data removed]",
      "text/plain": [
       "<Figure size 432x288 with 1 Axes>"
      ]
     },
     "metadata": {
      "needs_background": "light"
     },
     "output_type": "display_data"
    }
   ],
   "source": [
    "good_prices_SPb_centre.groupby('year_exposition')['last_price'].median().plot(y='year_exposition', kind='bar')\n",
    "\n",
    "print('Коэффициент зависимости цены квартиры в центральном районе от года размещения объявления составляет {:.2f}'.format(good_prices_SPb_centre['last_price'].corr(good_prices_SPb_centre['year_exposition'])))"
   ]
  },
  {
   "cell_type": "markdown",
   "metadata": {},
   "source": [
    "### Вывод"
   ]
  },
  {
   "cell_type": "markdown",
   "metadata": {},
   "source": [
    "Наибольшее количество квартир выставленных на продажу по области в целом - квартиры с площадью 30-40 квадратных метров, на них приходится почти половина всех продаваемых квартир. Медиана составляет 52 квадратных метра, средняя площадь - 57 квадратных метров.\n",
    "Наибольшее количество квартир выставленных на продажу в центральных районах города - с площадью 40 и 70-80 квадратных метров, медиана для центральных районов составляет 70 квадратных метров.\n",
    "\n",
    "Средняя цена квартиры по области в целом составляет 5.54 миллионов, медианная - 4.64 миллиона. \n",
    "Средняя цена квартиры в центральных районах города - 8.94 миллиона, медианная - 8.16 миллионов.\n",
    "Цена квартиры в центре города выше, что вполне ожидаемо и логично.\n",
    "\n",
    "В целом по области на продажу выставлены одно- и двухкомнатные квартиры (почти 70%), чуть менее 25% рынка занимают трехкомнатные квартиры. В данном случае среднее совпадает с медианой - 2 комнаты.\n",
    "В центральных районах города картина практически такая же, средняя и медина - 2 комнаты.\n",
    "\n",
    "В среднем по области в продаже квартиры с высотой потолков от 2,5 до 3.5 метров. Квартиры с потолками выше 3.5 метров - штучные предложения на рынке (могу предположить что это или дореволюционный фонд, или современные пентхаусы). Средняя высота потолков 2.69 метра, медиана - 2.65.\n",
    "В центральных районах города продаваемые квартиры выше - средняя высота 3.02 метра, медиана - 3.20 метров, это может объясняться тем, что меньше типовых домов советской постройки (хрущевок, брежневок), в которых потолки не превышают 2.65 метра.\n",
    "\n",
    "Цена квартиры напрямую зависит от ее площади, количества комнат, это утверждение справедливо как для центральных районов города, так и для области в целом.\n",
    "Зависимость цены квартиры от этажа (первый, последний, другой) дня недели, месяца, года размещения объявления несущественная, что также одинаково справедливо для центра города и для области в целом.\n",
    "Зависимость цены квартиры от удаленности квартиры от центра обратная и не очень существенная, так как разброс цен в центральных районах города не очень большой.\n"
   ]
  },
  {
   "cell_type": "markdown",
   "metadata": {},
   "source": [
    "## Общий вывод"
   ]
  },
  {
   "cell_type": "markdown",
   "metadata": {},
   "source": [
    "Основной объем составляют объявления о продаже одно-двухкомнатных квартир, площадью 30-40 квадратных метров. Квартиры площадью более 150 квадратных метров и с количеством комнат более 4-х - это редкие варианты.\n",
    "В среднем по области в продаже квартиры с высотой потолков от 2,5 до 3.5 метров. Квартиры с потолками выше 3.5 метров - штучные предложения на рынке. В центральных районах города продаваемые квартиры выше - средняя высота 3.02 метра, медиана - 3.20 метров.\n",
    "Цена квартиры напрямую зависит от ее площади, количества комнат.\n",
    "Этаж и дата размещения объявления на стоимость квартиры влияния не оказывают.\n",
    "Закономерность \"чем ближе к центру - тем дороже\" работает как для средних по области, так и для Санкт-Петербурга, только в центральных районах города эта зависимость не очень ярко выражена.\n"
   ]
  },
  {
   "cell_type": "code",
   "execution_count": 53,
   "metadata": {},
   "outputs": [
    {
     "data": {
      "text/html": [
       "<div>\n",
       "<style scoped>\n",
       "    .dataframe tbody tr th:only-of-type {\n",
       "        vertical-align: middle;\n",
       "    }\n",
       "\n",
       "    .dataframe tbody tr th {\n",
       "        vertical-align: top;\n",
       "    }\n",
       "\n",
       "    .dataframe thead th {\n",
       "        text-align: right;\n",
       "    }\n",
       "</style>\n",
       "<table border=\"1\" class=\"dataframe\">\n",
       "  <thead>\n",
       "    <tr style=\"text-align: right;\">\n",
       "      <th></th>\n",
       "      <th>параметр</th>\n",
       "      <th>влияние на цену</th>\n",
       "    </tr>\n",
       "  </thead>\n",
       "  <tbody>\n",
       "    <tr>\n",
       "      <td>0</td>\n",
       "      <td>площадь</td>\n",
       "      <td>существенное</td>\n",
       "    </tr>\n",
       "    <tr>\n",
       "      <td>1</td>\n",
       "      <td>количество комнат</td>\n",
       "      <td>не существенное</td>\n",
       "    </tr>\n",
       "    <tr>\n",
       "      <td>2</td>\n",
       "      <td>этаж</td>\n",
       "      <td>не существенное</td>\n",
       "    </tr>\n",
       "    <tr>\n",
       "      <td>3</td>\n",
       "      <td>день подачи объявления</td>\n",
       "      <td>не существенное</td>\n",
       "    </tr>\n",
       "    <tr>\n",
       "      <td>4</td>\n",
       "      <td>удаленность от центра</td>\n",
       "      <td>существенное, в пределах населенного пункта</td>\n",
       "    </tr>\n",
       "  </tbody>\n",
       "</table>\n",
       "</div>"
      ],
      "text/plain": [
       "                 параметр                              влияние на цену\n",
       "0                 площадь                                 существенное\n",
       "1       количество комнат                              не существенное\n",
       "2                    этаж                              не существенное\n",
       "3  день подачи объявления                              не существенное\n",
       "4   удаленность от центра  существенное, в пределах населенного пункта"
      ]
     },
     "metadata": {},
     "output_type": "display_data"
    }
   ],
   "source": [
    "parametre = pd.DataFrame({'параметр': ['площадь', 'количество комнат', 'этаж', 'день подачи объявления', 'удаленность от центра'], 'влияние на цену': ['существенное', 'не существенное', 'не существенное', 'не существенное', 'существенное, в пределах населенного пункта']})\n",
    "display(parametre)"
   ]
  }
 ],
 "metadata": {
  "ExecuteTimeLog": [
   {
    "duration": 420,
    "start_time": "2021-06-12T12:15:41.360Z"
   },
   {
    "duration": 1013,
    "start_time": "2021-06-12T12:17:34.932Z"
   },
   {
    "duration": 5096,
    "start_time": "2021-06-12T12:22:40.430Z"
   },
   {
    "duration": 123,
    "start_time": "2021-06-12T12:22:59.764Z"
   },
   {
    "duration": 200,
    "start_time": "2021-06-12T12:32:50.102Z"
   },
   {
    "duration": 113,
    "start_time": "2021-06-12T12:37:19.087Z"
   },
   {
    "duration": 367,
    "start_time": "2021-06-12T14:01:21.933Z"
   },
   {
    "duration": 115,
    "start_time": "2021-06-12T14:02:32.324Z"
   },
   {
    "duration": 9,
    "start_time": "2021-06-12T14:15:21.178Z"
   },
   {
    "duration": 8,
    "start_time": "2021-06-12T14:15:27.767Z"
   },
   {
    "duration": 379,
    "start_time": "2021-06-12T14:15:42.049Z"
   },
   {
    "duration": 12,
    "start_time": "2021-06-12T14:16:14.989Z"
   },
   {
    "duration": 22,
    "start_time": "2021-06-12T14:16:32.404Z"
   },
   {
    "duration": 423,
    "start_time": "2021-06-12T14:25:23.694Z"
   },
   {
    "duration": 8,
    "start_time": "2021-06-12T14:25:50.693Z"
   },
   {
    "duration": 3,
    "start_time": "2021-06-12T14:32:14.238Z"
   },
   {
    "duration": 10,
    "start_time": "2021-06-12T14:32:42.502Z"
   },
   {
    "duration": 113,
    "start_time": "2021-06-12T14:33:12.539Z"
   },
   {
    "duration": 9,
    "start_time": "2021-06-12T14:33:12.776Z"
   },
   {
    "duration": 3,
    "start_time": "2021-06-12T14:33:12.788Z"
   },
   {
    "duration": 14,
    "start_time": "2021-06-12T14:33:12.795Z"
   },
   {
    "duration": 22,
    "start_time": "2021-06-12T14:33:27.794Z"
   },
   {
    "duration": 28,
    "start_time": "2021-06-12T14:39:18.872Z"
   },
   {
    "duration": 31,
    "start_time": "2021-06-12T14:42:12.435Z"
   },
   {
    "duration": 8,
    "start_time": "2021-06-12T14:48:39.831Z"
   },
   {
    "duration": 21,
    "start_time": "2021-06-12T14:49:31.325Z"
   },
   {
    "duration": 23,
    "start_time": "2021-06-12T14:55:46.681Z"
   },
   {
    "duration": 375,
    "start_time": "2021-06-13T05:35:23.933Z"
   },
   {
    "duration": 706,
    "start_time": "2021-06-13T05:35:45.327Z"
   },
   {
    "duration": 7,
    "start_time": "2021-06-13T05:35:46.036Z"
   },
   {
    "duration": 616,
    "start_time": "2021-06-13T05:35:46.046Z"
   },
   {
    "duration": 466,
    "start_time": "2021-06-13T05:35:46.197Z"
   },
   {
    "duration": 1242,
    "start_time": "2021-06-13T05:36:03.544Z"
   },
   {
    "duration": 263,
    "start_time": "2021-06-13T05:36:21.858Z"
   },
   {
    "duration": 388,
    "start_time": "2021-06-13T05:43:00.134Z"
   },
   {
    "duration": 185,
    "start_time": "2021-06-13T06:11:02.317Z"
   },
   {
    "duration": 202,
    "start_time": "2021-06-13T06:12:13.993Z"
   },
   {
    "duration": 91,
    "start_time": "2021-06-13T06:12:31.074Z"
   },
   {
    "duration": 6,
    "start_time": "2021-06-13T06:12:31.166Z"
   },
   {
    "duration": 4754,
    "start_time": "2021-06-13T06:12:31.173Z"
   },
   {
    "duration": 371,
    "start_time": "2021-06-13T06:12:35.558Z"
   },
   {
    "duration": 1630,
    "start_time": "2021-06-13T06:12:57.498Z"
   },
   {
    "duration": 1641,
    "start_time": "2021-06-13T06:15:46.364Z"
   },
   {
    "duration": 60,
    "start_time": "2021-06-13T06:19:05.547Z"
   },
   {
    "duration": 149,
    "start_time": "2021-06-13T06:19:21.666Z"
   },
   {
    "duration": 146,
    "start_time": "2021-06-13T06:21:18.973Z"
   },
   {
    "duration": 145,
    "start_time": "2021-06-13T06:24:12.553Z"
   },
   {
    "duration": 91,
    "start_time": "2021-06-13T06:25:05.623Z"
   },
   {
    "duration": 5,
    "start_time": "2021-06-13T06:25:05.716Z"
   },
   {
    "duration": 151,
    "start_time": "2021-06-13T06:25:05.723Z"
   },
   {
    "duration": 25,
    "start_time": "2021-06-13T06:25:05.876Z"
   },
   {
    "duration": 144,
    "start_time": "2021-06-13T06:25:47.035Z"
   },
   {
    "duration": 137,
    "start_time": "2021-06-13T06:29:17.805Z"
   },
   {
    "duration": 140,
    "start_time": "2021-06-13T06:30:35.861Z"
   },
   {
    "duration": 143,
    "start_time": "2021-06-13T06:33:13.391Z"
   },
   {
    "duration": 71,
    "start_time": "2021-06-13T06:47:21.920Z"
   },
   {
    "duration": 13,
    "start_time": "2021-06-13T06:47:33.278Z"
   },
   {
    "duration": 181,
    "start_time": "2021-06-13T09:39:06.357Z"
   },
   {
    "duration": 5,
    "start_time": "2021-06-13T09:47:03.122Z"
   },
   {
    "duration": 177,
    "start_time": "2021-06-13T09:47:11.260Z"
   },
   {
    "duration": 433,
    "start_time": "2021-06-13T09:47:25.493Z"
   },
   {
    "duration": 5,
    "start_time": "2021-06-13T09:47:25.928Z"
   },
   {
    "duration": 176,
    "start_time": "2021-06-13T09:47:25.935Z"
   },
   {
    "duration": -101,
    "start_time": "2021-06-13T09:47:26.214Z"
   },
   {
    "duration": 7,
    "start_time": "2021-06-13T09:48:44.422Z"
   },
   {
    "duration": 179,
    "start_time": "2021-06-13T09:48:51.367Z"
   },
   {
    "duration": 19,
    "start_time": "2021-06-13T09:53:50.308Z"
   },
   {
    "duration": 178,
    "start_time": "2021-06-13T09:57:44.656Z"
   },
   {
    "duration": 13,
    "start_time": "2021-06-13T09:58:11.062Z"
   },
   {
    "duration": 172,
    "start_time": "2021-06-13T09:59:37.039Z"
   },
   {
    "duration": 619,
    "start_time": "2021-06-13T10:01:00.005Z"
   },
   {
    "duration": 35,
    "start_time": "2021-06-13T10:01:14.940Z"
   },
   {
    "duration": 13,
    "start_time": "2021-06-13T10:02:22.660Z"
   },
   {
    "duration": 179,
    "start_time": "2021-06-13T10:02:59.569Z"
   },
   {
    "duration": 19,
    "start_time": "2021-06-13T10:03:18.183Z"
   },
   {
    "duration": 60,
    "start_time": "2021-06-13T10:09:27.821Z"
   },
   {
    "duration": 24,
    "start_time": "2021-06-13T10:16:54.518Z"
   },
   {
    "duration": 21,
    "start_time": "2021-06-13T10:28:09.099Z"
   },
   {
    "duration": 19,
    "start_time": "2021-06-13T10:36:04.729Z"
   },
   {
    "duration": 9,
    "start_time": "2021-06-13T10:38:19.549Z"
   },
   {
    "duration": 183,
    "start_time": "2021-06-13T10:39:43.073Z"
   },
   {
    "duration": 22,
    "start_time": "2021-06-13T10:44:28.081Z"
   },
   {
    "duration": 19,
    "start_time": "2021-06-13T10:46:26.857Z"
   },
   {
    "duration": 31,
    "start_time": "2021-06-13T10:47:13.382Z"
   },
   {
    "duration": 87,
    "start_time": "2021-06-13T10:47:20.196Z"
   },
   {
    "duration": 12,
    "start_time": "2021-06-13T10:47:20.289Z"
   },
   {
    "duration": 2,
    "start_time": "2021-06-13T10:47:20.304Z"
   },
   {
    "duration": 24,
    "start_time": "2021-06-13T10:47:20.309Z"
   },
   {
    "duration": 20,
    "start_time": "2021-06-13T10:47:20.335Z"
   },
   {
    "duration": 62,
    "start_time": "2021-06-13T10:47:20.356Z"
   },
   {
    "duration": 28,
    "start_time": "2021-06-13T10:47:53.471Z"
   },
   {
    "duration": 1179,
    "start_time": "2021-06-13T10:49:53.086Z"
   },
   {
    "duration": 95,
    "start_time": "2021-06-13T10:50:17.431Z"
   },
   {
    "duration": 6,
    "start_time": "2021-06-13T10:50:17.528Z"
   },
   {
    "duration": 1581,
    "start_time": "2021-06-13T10:50:17.535Z"
   },
   {
    "duration": -72,
    "start_time": "2021-06-13T10:50:19.189Z"
   },
   {
    "duration": -72,
    "start_time": "2021-06-13T10:50:19.190Z"
   },
   {
    "duration": -73,
    "start_time": "2021-06-13T10:50:19.192Z"
   },
   {
    "duration": 5,
    "start_time": "2021-06-13T10:50:38.521Z"
   },
   {
    "duration": 94,
    "start_time": "2021-06-13T10:50:53.171Z"
   },
   {
    "duration": 6,
    "start_time": "2021-06-13T10:50:53.267Z"
   },
   {
    "duration": 1220,
    "start_time": "2021-06-13T10:50:53.274Z"
   },
   {
    "duration": -172,
    "start_time": "2021-06-13T10:50:54.669Z"
   },
   {
    "duration": -172,
    "start_time": "2021-06-13T10:50:54.671Z"
   },
   {
    "duration": -172,
    "start_time": "2021-06-13T10:50:54.673Z"
   },
   {
    "duration": 87,
    "start_time": "2021-06-13T10:56:04.340Z"
   },
   {
    "duration": 6,
    "start_time": "2021-06-13T10:56:04.428Z"
   },
   {
    "duration": 2,
    "start_time": "2021-06-13T10:56:04.436Z"
   },
   {
    "duration": 21,
    "start_time": "2021-06-13T10:56:04.440Z"
   },
   {
    "duration": 42,
    "start_time": "2021-06-13T10:56:04.463Z"
   },
   {
    "duration": 59,
    "start_time": "2021-06-13T10:56:04.507Z"
   },
   {
    "duration": 19,
    "start_time": "2021-06-13T11:02:51.923Z"
   },
   {
    "duration": 4284,
    "start_time": "2021-06-13T11:24:24.452Z"
   },
   {
    "duration": 19,
    "start_time": "2021-06-13T11:25:16.016Z"
   },
   {
    "duration": 378,
    "start_time": "2021-06-13T11:25:51.578Z"
   },
   {
    "duration": 21,
    "start_time": "2021-06-13T11:26:23.279Z"
   },
   {
    "duration": 12,
    "start_time": "2021-06-13T11:28:15.043Z"
   },
   {
    "duration": 8,
    "start_time": "2021-06-13T11:30:56.028Z"
   },
   {
    "duration": 9,
    "start_time": "2021-06-13T11:31:08.511Z"
   },
   {
    "duration": 15,
    "start_time": "2021-06-13T11:31:43.059Z"
   },
   {
    "duration": 13,
    "start_time": "2021-06-13T11:32:04.538Z"
   },
   {
    "duration": 11,
    "start_time": "2021-06-13T11:32:18.033Z"
   },
   {
    "duration": 98,
    "start_time": "2021-06-13T11:32:33.925Z"
   },
   {
    "duration": 6,
    "start_time": "2021-06-13T11:32:34.024Z"
   },
   {
    "duration": 19,
    "start_time": "2021-06-13T11:32:34.032Z"
   },
   {
    "duration": 32,
    "start_time": "2021-06-13T11:32:34.053Z"
   },
   {
    "duration": 25,
    "start_time": "2021-06-13T11:32:34.088Z"
   },
   {
    "duration": 12,
    "start_time": "2021-06-13T11:32:34.114Z"
   },
   {
    "duration": 12,
    "start_time": "2021-06-13T11:35:22.144Z"
   },
   {
    "duration": 16,
    "start_time": "2021-06-13T11:40:22.648Z"
   },
   {
    "duration": 89,
    "start_time": "2021-06-13T11:41:54.225Z"
   },
   {
    "duration": 6,
    "start_time": "2021-06-13T11:41:54.316Z"
   },
   {
    "duration": 17,
    "start_time": "2021-06-13T11:41:54.324Z"
   },
   {
    "duration": 24,
    "start_time": "2021-06-13T11:41:54.342Z"
   },
   {
    "duration": 19,
    "start_time": "2021-06-13T11:41:54.411Z"
   },
   {
    "duration": 11,
    "start_time": "2021-06-13T11:41:54.432Z"
   },
   {
    "duration": 1238,
    "start_time": "2021-06-13T11:55:11.942Z"
   },
   {
    "duration": 17,
    "start_time": "2021-06-13T11:58:36.817Z"
   },
   {
    "duration": 61,
    "start_time": "2021-06-13T12:07:33.493Z"
   },
   {
    "duration": 60,
    "start_time": "2021-06-13T12:12:14.208Z"
   },
   {
    "duration": 65,
    "start_time": "2021-06-13T12:12:45.014Z"
   },
   {
    "duration": 185,
    "start_time": "2021-06-13T12:12:57.019Z"
   },
   {
    "duration": 13,
    "start_time": "2021-06-13T12:13:23.975Z"
   },
   {
    "duration": 251,
    "start_time": "2021-06-13T12:28:51.568Z"
   },
   {
    "duration": 186,
    "start_time": "2021-06-13T12:48:47.993Z"
   },
   {
    "duration": 11,
    "start_time": "2021-06-13T12:49:02.182Z"
   },
   {
    "duration": 12,
    "start_time": "2021-06-13T12:50:29.072Z"
   },
   {
    "duration": 81,
    "start_time": "2021-06-13T12:50:33.439Z"
   },
   {
    "duration": 15,
    "start_time": "2021-06-13T12:50:33.546Z"
   },
   {
    "duration": 19,
    "start_time": "2021-06-13T12:50:33.562Z"
   },
   {
    "duration": 683,
    "start_time": "2021-06-13T12:50:33.583Z"
   },
   {
    "duration": 150,
    "start_time": "2021-06-13T12:50:34.118Z"
   },
   {
    "duration": 150,
    "start_time": "2021-06-13T12:50:34.119Z"
   },
   {
    "duration": 16,
    "start_time": "2021-06-13T12:51:06.287Z"
   },
   {
    "duration": 87,
    "start_time": "2021-06-13T12:53:08.885Z"
   },
   {
    "duration": 20,
    "start_time": "2021-06-13T12:53:08.974Z"
   },
   {
    "duration": 20,
    "start_time": "2021-06-13T12:53:08.996Z"
   },
   {
    "duration": 17,
    "start_time": "2021-06-13T12:53:09.018Z"
   },
   {
    "duration": 48,
    "start_time": "2021-06-13T12:53:09.037Z"
   },
   {
    "duration": 16,
    "start_time": "2021-06-13T12:53:09.086Z"
   },
   {
    "duration": 21,
    "start_time": "2021-06-13T12:53:54.491Z"
   },
   {
    "duration": 657,
    "start_time": "2021-06-13T12:54:30.141Z"
   },
   {
    "duration": 28,
    "start_time": "2021-06-13T12:54:30.801Z"
   },
   {
    "duration": 20,
    "start_time": "2021-06-13T12:54:30.831Z"
   },
   {
    "duration": 40,
    "start_time": "2021-06-13T12:54:30.853Z"
   },
   {
    "duration": 20,
    "start_time": "2021-06-13T12:54:30.895Z"
   },
   {
    "duration": 14,
    "start_time": "2021-06-13T12:54:30.917Z"
   },
   {
    "duration": 83,
    "start_time": "2021-06-13T12:55:40.798Z"
   },
   {
    "duration": 21,
    "start_time": "2021-06-13T12:55:40.884Z"
   },
   {
    "duration": 3,
    "start_time": "2021-06-13T12:55:40.908Z"
   },
   {
    "duration": 18,
    "start_time": "2021-06-13T12:55:40.913Z"
   },
   {
    "duration": 18,
    "start_time": "2021-06-13T12:55:40.933Z"
   },
   {
    "duration": 43,
    "start_time": "2021-06-13T12:55:40.953Z"
   },
   {
    "duration": 15,
    "start_time": "2021-06-13T12:56:53.198Z"
   },
   {
    "duration": 239,
    "start_time": "2021-06-13T12:57:49.892Z"
   },
   {
    "duration": 46,
    "start_time": "2021-06-13T13:08:44.389Z"
   },
   {
    "duration": 91,
    "start_time": "2021-06-13T13:09:21.544Z"
   },
   {
    "duration": 13,
    "start_time": "2021-06-13T13:09:21.636Z"
   },
   {
    "duration": 2,
    "start_time": "2021-06-13T13:09:21.651Z"
   },
   {
    "duration": 36,
    "start_time": "2021-06-13T13:09:21.655Z"
   },
   {
    "duration": 24,
    "start_time": "2021-06-13T13:09:21.693Z"
   },
   {
    "duration": 47,
    "start_time": "2021-06-13T13:09:21.718Z"
   },
   {
    "duration": 13,
    "start_time": "2021-06-13T13:15:43.199Z"
   },
   {
    "duration": 791,
    "start_time": "2021-06-13T13:19:57.920Z"
   },
   {
    "duration": 60,
    "start_time": "2021-06-13T13:25:16.416Z"
   },
   {
    "duration": 13,
    "start_time": "2021-06-13T13:25:30.119Z"
   },
   {
    "duration": 27,
    "start_time": "2021-06-13T14:32:56.277Z"
   },
   {
    "duration": 24,
    "start_time": "2021-06-13T14:33:09.712Z"
   },
   {
    "duration": 16,
    "start_time": "2021-06-13T14:39:40.932Z"
   },
   {
    "duration": 18,
    "start_time": "2021-06-13T14:41:03.953Z"
   },
   {
    "duration": 16,
    "start_time": "2021-06-13T14:41:49.358Z"
   },
   {
    "duration": 36,
    "start_time": "2021-06-13T14:41:58.326Z"
   },
   {
    "duration": 186,
    "start_time": "2021-06-13T14:43:58.658Z"
   },
   {
    "duration": 27,
    "start_time": "2021-06-13T14:44:11.053Z"
   },
   {
    "duration": 87,
    "start_time": "2021-06-13T14:45:24.194Z"
   },
   {
    "duration": 27,
    "start_time": "2021-06-13T14:45:24.283Z"
   },
   {
    "duration": 21,
    "start_time": "2021-06-13T14:45:24.312Z"
   },
   {
    "duration": 2,
    "start_time": "2021-06-13T14:45:24.335Z"
   },
   {
    "duration": 47,
    "start_time": "2021-06-13T14:45:24.339Z"
   },
   {
    "duration": 26,
    "start_time": "2021-06-13T14:45:24.388Z"
   },
   {
    "duration": 14,
    "start_time": "2021-06-13T14:45:24.415Z"
   },
   {
    "duration": 55,
    "start_time": "2021-06-13T14:45:24.432Z"
   },
   {
    "duration": 17,
    "start_time": "2021-06-13T14:46:52.905Z"
   },
   {
    "duration": 193,
    "start_time": "2021-06-13T14:48:41.091Z"
   },
   {
    "duration": 7,
    "start_time": "2021-06-13T14:48:59.677Z"
   },
   {
    "duration": 198,
    "start_time": "2021-06-13T14:49:05.664Z"
   },
   {
    "duration": 21,
    "start_time": "2021-06-13T14:49:23.223Z"
   },
   {
    "duration": 22,
    "start_time": "2021-06-13T14:54:04.682Z"
   },
   {
    "duration": 37,
    "start_time": "2021-06-13T14:54:32.780Z"
   },
   {
    "duration": 20,
    "start_time": "2021-06-13T14:55:42.314Z"
   },
   {
    "duration": 19,
    "start_time": "2021-06-13T14:56:10.190Z"
   },
   {
    "duration": 15,
    "start_time": "2021-06-13T14:56:28.985Z"
   },
   {
    "duration": 402,
    "start_time": "2021-06-13T16:14:02.560Z"
   },
   {
    "duration": 1098,
    "start_time": "2021-06-13T16:14:30.288Z"
   },
   {
    "duration": 50,
    "start_time": "2021-06-13T16:14:31.389Z"
   },
   {
    "duration": 41,
    "start_time": "2021-06-13T16:14:31.442Z"
   },
   {
    "duration": 23,
    "start_time": "2021-06-13T16:14:31.486Z"
   },
   {
    "duration": 40,
    "start_time": "2021-06-13T16:14:31.512Z"
   },
   {
    "duration": 25,
    "start_time": "2021-06-13T16:14:31.555Z"
   },
   {
    "duration": 37,
    "start_time": "2021-06-13T16:14:31.583Z"
   },
   {
    "duration": 47,
    "start_time": "2021-06-13T16:14:31.623Z"
   },
   {
    "duration": 44,
    "start_time": "2021-06-13T16:14:31.673Z"
   },
   {
    "duration": 34,
    "start_time": "2021-06-13T16:17:33.069Z"
   },
   {
    "duration": 119,
    "start_time": "2021-06-13T16:18:15.492Z"
   },
   {
    "duration": 36,
    "start_time": "2021-06-13T16:18:15.614Z"
   },
   {
    "duration": 60,
    "start_time": "2021-06-13T16:18:15.653Z"
   },
   {
    "duration": 3,
    "start_time": "2021-06-13T16:18:15.715Z"
   },
   {
    "duration": 33,
    "start_time": "2021-06-13T16:18:15.720Z"
   },
   {
    "duration": 53,
    "start_time": "2021-06-13T16:18:15.755Z"
   },
   {
    "duration": 13,
    "start_time": "2021-06-13T16:18:15.810Z"
   },
   {
    "duration": 36,
    "start_time": "2021-06-13T16:18:15.826Z"
   },
   {
    "duration": 45,
    "start_time": "2021-06-13T16:18:15.864Z"
   },
   {
    "duration": 31,
    "start_time": "2021-06-13T16:18:44.585Z"
   },
   {
    "duration": 29,
    "start_time": "2021-06-13T16:19:49.867Z"
   },
   {
    "duration": 27,
    "start_time": "2021-06-13T16:21:04.470Z"
   },
   {
    "duration": 115,
    "start_time": "2021-06-13T16:21:27.513Z"
   },
   {
    "duration": 36,
    "start_time": "2021-06-13T16:21:27.630Z"
   },
   {
    "duration": 54,
    "start_time": "2021-06-13T16:21:27.669Z"
   },
   {
    "duration": 4,
    "start_time": "2021-06-13T16:21:27.727Z"
   },
   {
    "duration": 29,
    "start_time": "2021-06-13T16:21:27.734Z"
   },
   {
    "duration": 56,
    "start_time": "2021-06-13T16:21:27.766Z"
   },
   {
    "duration": 13,
    "start_time": "2021-06-13T16:21:27.824Z"
   },
   {
    "duration": 40,
    "start_time": "2021-06-13T16:21:27.840Z"
   },
   {
    "duration": 41,
    "start_time": "2021-06-13T16:21:27.882Z"
   },
   {
    "duration": 24,
    "start_time": "2021-06-13T16:23:59.264Z"
   },
   {
    "duration": 107,
    "start_time": "2021-06-13T16:24:54.590Z"
   },
   {
    "duration": 41,
    "start_time": "2021-06-13T16:24:54.700Z"
   },
   {
    "duration": 28,
    "start_time": "2021-06-13T16:24:54.744Z"
   },
   {
    "duration": 3,
    "start_time": "2021-06-13T16:24:54.775Z"
   },
   {
    "duration": 54,
    "start_time": "2021-06-13T16:24:54.781Z"
   },
   {
    "duration": 23,
    "start_time": "2021-06-13T16:24:54.837Z"
   },
   {
    "duration": 47,
    "start_time": "2021-06-13T16:24:54.862Z"
   },
   {
    "duration": 36,
    "start_time": "2021-06-13T16:24:54.912Z"
   },
   {
    "duration": 19,
    "start_time": "2021-06-13T16:24:54.951Z"
   },
   {
    "duration": 26,
    "start_time": "2021-06-13T16:28:27.621Z"
   },
   {
    "duration": 120,
    "start_time": "2021-06-13T16:46:58.277Z"
   },
   {
    "duration": 85,
    "start_time": "2021-06-14T04:57:05.695Z"
   },
   {
    "duration": 306,
    "start_time": "2021-06-14T04:57:28.577Z"
   },
   {
    "duration": 652,
    "start_time": "2021-06-14T04:58:02.726Z"
   },
   {
    "duration": 248,
    "start_time": "2021-06-14T04:58:21.914Z"
   },
   {
    "duration": 865,
    "start_time": "2021-06-14T04:58:43.628Z"
   },
   {
    "duration": 37,
    "start_time": "2021-06-14T04:58:44.496Z"
   },
   {
    "duration": 12,
    "start_time": "2021-06-14T04:58:44.537Z"
   },
   {
    "duration": 31,
    "start_time": "2021-06-14T04:58:44.552Z"
   },
   {
    "duration": 33,
    "start_time": "2021-06-14T04:58:44.585Z"
   },
   {
    "duration": 26,
    "start_time": "2021-06-14T04:58:44.620Z"
   },
   {
    "duration": 38,
    "start_time": "2021-06-14T04:58:44.648Z"
   },
   {
    "duration": 37,
    "start_time": "2021-06-14T04:58:44.690Z"
   },
   {
    "duration": 11,
    "start_time": "2021-06-14T04:58:44.730Z"
   },
   {
    "duration": 1176,
    "start_time": "2021-06-14T04:58:44.744Z"
   },
   {
    "duration": 1166,
    "start_time": "2021-06-14T04:59:16.873Z"
   },
   {
    "duration": 1143,
    "start_time": "2021-06-14T05:00:22.365Z"
   },
   {
    "duration": 1130,
    "start_time": "2021-06-14T05:14:12.099Z"
   },
   {
    "duration": 1211,
    "start_time": "2021-06-14T05:15:32.534Z"
   },
   {
    "duration": 248,
    "start_time": "2021-06-14T05:23:55.840Z"
   },
   {
    "duration": 86,
    "start_time": "2021-06-14T05:30:22.242Z"
   },
   {
    "duration": 28,
    "start_time": "2021-06-14T05:30:38.846Z"
   },
   {
    "duration": 29,
    "start_time": "2021-06-14T05:31:01.731Z"
   },
   {
    "duration": 20,
    "start_time": "2021-06-14T05:34:38.508Z"
   },
   {
    "duration": 1236,
    "start_time": "2021-06-14T05:40:11.793Z"
   },
   {
    "duration": 1116,
    "start_time": "2021-06-14T05:42:05.705Z"
   },
   {
    "duration": 289,
    "start_time": "2021-06-14T05:59:50.039Z"
   },
   {
    "duration": 288,
    "start_time": "2021-06-14T05:59:57.341Z"
   },
   {
    "duration": 1040,
    "start_time": "2021-06-14T06:05:00.473Z"
   },
   {
    "duration": 1018,
    "start_time": "2021-06-14T06:05:31.748Z"
   },
   {
    "duration": 11,
    "start_time": "2021-06-14T06:08:57.896Z"
   },
   {
    "duration": 732,
    "start_time": "2021-06-14T06:09:37.855Z"
   },
   {
    "duration": 290,
    "start_time": "2021-06-14T06:21:05.770Z"
   },
   {
    "duration": 109,
    "start_time": "2021-06-14T06:21:18.768Z"
   },
   {
    "duration": 39,
    "start_time": "2021-06-14T06:21:18.989Z"
   },
   {
    "duration": 12,
    "start_time": "2021-06-14T06:21:19.031Z"
   },
   {
    "duration": 250,
    "start_time": "2021-06-14T06:21:19.046Z"
   },
   {
    "duration": -296,
    "start_time": "2021-06-14T06:21:19.595Z"
   },
   {
    "duration": -298,
    "start_time": "2021-06-14T06:21:19.598Z"
   },
   {
    "duration": -378,
    "start_time": "2021-06-14T06:21:19.679Z"
   },
   {
    "duration": -384,
    "start_time": "2021-06-14T06:21:19.687Z"
   },
   {
    "duration": -388,
    "start_time": "2021-06-14T06:21:19.692Z"
   },
   {
    "duration": -391,
    "start_time": "2021-06-14T06:21:19.696Z"
   },
   {
    "duration": 11,
    "start_time": "2021-06-14T06:22:38.868Z"
   },
   {
    "duration": 26,
    "start_time": "2021-06-14T06:23:52.730Z"
   },
   {
    "duration": 305,
    "start_time": "2021-06-14T06:24:29.887Z"
   },
   {
    "duration": 299,
    "start_time": "2021-06-14T06:25:13.864Z"
   },
   {
    "duration": 266,
    "start_time": "2021-06-14T06:26:47.264Z"
   },
   {
    "duration": 460,
    "start_time": "2021-06-14T06:27:47.283Z"
   },
   {
    "duration": 344,
    "start_time": "2021-06-14T06:31:39.469Z"
   },
   {
    "duration": 21,
    "start_time": "2021-06-14T06:31:52.865Z"
   },
   {
    "duration": 19,
    "start_time": "2021-06-14T06:40:14.824Z"
   },
   {
    "duration": 314,
    "start_time": "2021-06-14T06:40:42.664Z"
   },
   {
    "duration": 293,
    "start_time": "2021-06-14T06:41:05.084Z"
   },
   {
    "duration": 12,
    "start_time": "2021-06-14T06:41:23.703Z"
   },
   {
    "duration": 361,
    "start_time": "2021-06-14T06:41:34.846Z"
   },
   {
    "duration": 29,
    "start_time": "2021-06-14T07:27:55.212Z"
   },
   {
    "duration": 10,
    "start_time": "2021-06-14T07:28:14.543Z"
   },
   {
    "duration": 35,
    "start_time": "2021-06-14T07:28:18.777Z"
   },
   {
    "duration": 111,
    "start_time": "2021-06-14T07:28:26.246Z"
   },
   {
    "duration": 46,
    "start_time": "2021-06-14T07:28:26.360Z"
   },
   {
    "duration": 11,
    "start_time": "2021-06-14T07:28:26.408Z"
   },
   {
    "duration": 31,
    "start_time": "2021-06-14T07:28:26.421Z"
   },
   {
    "duration": 49,
    "start_time": "2021-06-14T07:28:26.455Z"
   },
   {
    "duration": 12,
    "start_time": "2021-06-14T07:28:26.506Z"
   },
   {
    "duration": 15,
    "start_time": "2021-06-14T07:28:26.521Z"
   },
   {
    "duration": 68,
    "start_time": "2021-06-14T07:28:26.539Z"
   },
   {
    "duration": 5,
    "start_time": "2021-06-14T07:28:26.610Z"
   },
   {
    "duration": 839,
    "start_time": "2021-06-14T07:28:26.617Z"
   },
   {
    "duration": 36,
    "start_time": "2021-06-14T07:31:01.439Z"
   },
   {
    "duration": 38,
    "start_time": "2021-06-14T07:33:05.627Z"
   },
   {
    "duration": 113,
    "start_time": "2021-06-14T07:33:45.325Z"
   },
   {
    "duration": 46,
    "start_time": "2021-06-14T07:33:45.440Z"
   },
   {
    "duration": 10,
    "start_time": "2021-06-14T07:33:45.489Z"
   },
   {
    "duration": 38,
    "start_time": "2021-06-14T07:33:45.502Z"
   },
   {
    "duration": 266,
    "start_time": "2021-06-14T07:33:45.542Z"
   },
   {
    "duration": -619,
    "start_time": "2021-06-14T07:33:46.430Z"
   },
   {
    "duration": -621,
    "start_time": "2021-06-14T07:33:46.433Z"
   },
   {
    "duration": -624,
    "start_time": "2021-06-14T07:33:46.437Z"
   },
   {
    "duration": -626,
    "start_time": "2021-06-14T07:33:46.441Z"
   },
   {
    "duration": -628,
    "start_time": "2021-06-14T07:33:46.444Z"
   },
   {
    "duration": 92,
    "start_time": "2021-06-14T07:35:31.722Z"
   },
   {
    "duration": 140,
    "start_time": "2021-06-14T07:44:52.967Z"
   },
   {
    "duration": 11,
    "start_time": "2021-06-14T07:46:07.629Z"
   },
   {
    "duration": 129,
    "start_time": "2021-06-14T07:46:22.770Z"
   },
   {
    "duration": 267,
    "start_time": "2021-06-14T07:47:19.538Z"
   },
   {
    "duration": 140,
    "start_time": "2021-06-14T07:57:34.131Z"
   },
   {
    "duration": 43,
    "start_time": "2021-06-14T07:57:34.284Z"
   },
   {
    "duration": 10,
    "start_time": "2021-06-14T07:57:34.330Z"
   },
   {
    "duration": 66,
    "start_time": "2021-06-14T07:57:34.343Z"
   },
   {
    "duration": 288,
    "start_time": "2021-06-14T07:57:34.412Z"
   },
   {
    "duration": -521,
    "start_time": "2021-06-14T07:57:35.224Z"
   },
   {
    "duration": -523,
    "start_time": "2021-06-14T07:57:35.227Z"
   },
   {
    "duration": -524,
    "start_time": "2021-06-14T07:57:35.230Z"
   },
   {
    "duration": -525,
    "start_time": "2021-06-14T07:57:35.232Z"
   },
   {
    "duration": -528,
    "start_time": "2021-06-14T07:57:35.236Z"
   },
   {
    "duration": 28,
    "start_time": "2021-06-14T07:58:53.025Z"
   },
   {
    "duration": 32,
    "start_time": "2021-06-14T08:00:34.432Z"
   },
   {
    "duration": 1020,
    "start_time": "2021-06-14T08:01:02.269Z"
   },
   {
    "duration": 39,
    "start_time": "2021-06-14T08:01:03.293Z"
   },
   {
    "duration": 10,
    "start_time": "2021-06-14T08:01:03.335Z"
   },
   {
    "duration": 66,
    "start_time": "2021-06-14T08:01:03.348Z"
   },
   {
    "duration": 367,
    "start_time": "2021-06-14T08:01:03.416Z"
   },
   {
    "duration": -523,
    "start_time": "2021-06-14T08:01:04.310Z"
   },
   {
    "duration": -524,
    "start_time": "2021-06-14T08:01:04.313Z"
   },
   {
    "duration": -527,
    "start_time": "2021-06-14T08:01:04.317Z"
   },
   {
    "duration": -528,
    "start_time": "2021-06-14T08:01:04.320Z"
   },
   {
    "duration": -527,
    "start_time": "2021-06-14T08:01:04.322Z"
   },
   {
    "duration": 27,
    "start_time": "2021-06-14T08:08:16.851Z"
   },
   {
    "duration": 12,
    "start_time": "2021-06-14T08:12:09.627Z"
   },
   {
    "duration": 48,
    "start_time": "2021-06-14T08:12:42.261Z"
   },
   {
    "duration": 41,
    "start_time": "2021-06-14T08:15:56.336Z"
   },
   {
    "duration": 44,
    "start_time": "2021-06-14T08:16:13.200Z"
   },
   {
    "duration": 24,
    "start_time": "2021-06-14T08:16:48.905Z"
   },
   {
    "duration": 134,
    "start_time": "2021-06-14T08:17:57.530Z"
   },
   {
    "duration": 48,
    "start_time": "2021-06-14T08:17:57.667Z"
   },
   {
    "duration": 9,
    "start_time": "2021-06-14T08:17:57.718Z"
   },
   {
    "duration": 53,
    "start_time": "2021-06-14T08:17:57.730Z"
   },
   {
    "duration": 31,
    "start_time": "2021-06-14T08:17:57.786Z"
   },
   {
    "duration": 13,
    "start_time": "2021-06-14T08:17:57.820Z"
   },
   {
    "duration": 19,
    "start_time": "2021-06-14T08:17:57.836Z"
   },
   {
    "duration": 60,
    "start_time": "2021-06-14T08:17:57.857Z"
   },
   {
    "duration": 5,
    "start_time": "2021-06-14T08:17:57.920Z"
   },
   {
    "duration": 820,
    "start_time": "2021-06-14T08:17:57.928Z"
   },
   {
    "duration": 36,
    "start_time": "2021-06-14T08:17:58.751Z"
   },
   {
    "duration": 42,
    "start_time": "2021-06-14T08:18:27.033Z"
   },
   {
    "duration": 34,
    "start_time": "2021-06-14T08:22:07.684Z"
   },
   {
    "duration": 136,
    "start_time": "2021-06-14T08:22:11.008Z"
   },
   {
    "duration": 47,
    "start_time": "2021-06-14T08:22:11.147Z"
   },
   {
    "duration": 9,
    "start_time": "2021-06-14T08:22:11.198Z"
   },
   {
    "duration": 25,
    "start_time": "2021-06-14T08:22:11.210Z"
   },
   {
    "duration": 53,
    "start_time": "2021-06-14T08:22:11.237Z"
   },
   {
    "duration": 13,
    "start_time": "2021-06-14T08:22:11.293Z"
   },
   {
    "duration": 21,
    "start_time": "2021-06-14T08:22:11.308Z"
   },
   {
    "duration": 52,
    "start_time": "2021-06-14T08:22:11.331Z"
   },
   {
    "duration": 7,
    "start_time": "2021-06-14T08:22:11.386Z"
   },
   {
    "duration": 819,
    "start_time": "2021-06-14T08:22:11.396Z"
   },
   {
    "duration": 42,
    "start_time": "2021-06-14T08:22:12.218Z"
   },
   {
    "duration": 799,
    "start_time": "2021-06-14T08:36:00.476Z"
   },
   {
    "duration": 779,
    "start_time": "2021-06-14T08:36:17.470Z"
   },
   {
    "duration": 44,
    "start_time": "2021-06-14T08:40:40.579Z"
   },
   {
    "duration": 60,
    "start_time": "2021-06-14T08:41:28.911Z"
   },
   {
    "duration": 44,
    "start_time": "2021-06-14T08:42:04.917Z"
   },
   {
    "duration": 41,
    "start_time": "2021-06-14T08:42:59.629Z"
   },
   {
    "duration": 54,
    "start_time": "2021-06-14T08:43:07.822Z"
   },
   {
    "duration": 35,
    "start_time": "2021-06-14T08:44:26.561Z"
   },
   {
    "duration": 137,
    "start_time": "2021-06-14T08:44:44.048Z"
   },
   {
    "duration": 35,
    "start_time": "2021-06-14T08:44:44.520Z"
   },
   {
    "duration": 9,
    "start_time": "2021-06-14T08:44:44.557Z"
   },
   {
    "duration": 37,
    "start_time": "2021-06-14T08:44:44.569Z"
   },
   {
    "duration": 23,
    "start_time": "2021-06-14T08:44:44.608Z"
   },
   {
    "duration": 11,
    "start_time": "2021-06-14T08:44:44.634Z"
   },
   {
    "duration": 36,
    "start_time": "2021-06-14T08:44:44.647Z"
   },
   {
    "duration": 39,
    "start_time": "2021-06-14T08:44:44.764Z"
   },
   {
    "duration": 5,
    "start_time": "2021-06-14T08:44:44.806Z"
   },
   {
    "duration": 792,
    "start_time": "2021-06-14T08:44:44.814Z"
   },
   {
    "duration": 42,
    "start_time": "2021-06-14T08:44:45.608Z"
   },
   {
    "duration": 52,
    "start_time": "2021-06-14T08:45:12.443Z"
   },
   {
    "duration": 684,
    "start_time": "2021-06-14T09:42:27.097Z"
   },
   {
    "duration": 310,
    "start_time": "2021-06-14T09:42:41.162Z"
   },
   {
    "duration": 261,
    "start_time": "2021-06-14T09:43:10.472Z"
   },
   {
    "duration": 326,
    "start_time": "2021-06-14T09:43:41.907Z"
   },
   {
    "duration": 318,
    "start_time": "2021-06-14T09:43:56.775Z"
   },
   {
    "duration": 308,
    "start_time": "2021-06-14T09:44:22.079Z"
   },
   {
    "duration": 121,
    "start_time": "2021-06-14T09:44:27.249Z"
   },
   {
    "duration": 42,
    "start_time": "2021-06-14T09:44:27.373Z"
   },
   {
    "duration": 9,
    "start_time": "2021-06-14T09:44:27.418Z"
   },
   {
    "duration": 67,
    "start_time": "2021-06-14T09:44:27.430Z"
   },
   {
    "duration": 23,
    "start_time": "2021-06-14T09:44:27.499Z"
   },
   {
    "duration": 12,
    "start_time": "2021-06-14T09:44:27.524Z"
   },
   {
    "duration": 49,
    "start_time": "2021-06-14T09:44:27.539Z"
   },
   {
    "duration": 39,
    "start_time": "2021-06-14T09:44:27.591Z"
   },
   {
    "duration": 5,
    "start_time": "2021-06-14T09:44:27.633Z"
   },
   {
    "duration": 747,
    "start_time": "2021-06-14T09:44:27.640Z"
   },
   {
    "duration": 42,
    "start_time": "2021-06-14T09:44:28.389Z"
   },
   {
    "duration": 354,
    "start_time": "2021-06-14T09:44:28.433Z"
   },
   {
    "duration": 367,
    "start_time": "2021-06-14T09:44:42.745Z"
   },
   {
    "duration": 427,
    "start_time": "2021-06-14T09:45:00.927Z"
   },
   {
    "duration": 522,
    "start_time": "2021-06-14T09:45:57.464Z"
   },
   {
    "duration": 407,
    "start_time": "2021-06-14T09:46:41.521Z"
   },
   {
    "duration": 658,
    "start_time": "2021-06-14T09:51:33.561Z"
   },
   {
    "duration": 694,
    "start_time": "2021-06-14T09:57:24.945Z"
   },
   {
    "duration": 405,
    "start_time": "2021-06-14T10:00:59.624Z"
   },
   {
    "duration": 1549,
    "start_time": "2021-06-14T10:01:35.227Z"
   },
   {
    "duration": 562,
    "start_time": "2021-06-14T10:10:10.245Z"
   },
   {
    "duration": 539,
    "start_time": "2021-06-14T10:12:00.997Z"
   },
   {
    "duration": 294,
    "start_time": "2021-06-14T10:12:20.358Z"
   },
   {
    "duration": 120,
    "start_time": "2021-06-14T10:15:39.005Z"
   },
   {
    "duration": 434,
    "start_time": "2021-06-14T10:15:47.240Z"
   },
   {
    "duration": 423,
    "start_time": "2021-06-14T10:17:08.889Z"
   },
   {
    "duration": 446,
    "start_time": "2021-06-14T10:17:21.223Z"
   },
   {
    "duration": 603,
    "start_time": "2021-06-14T10:18:08.707Z"
   },
   {
    "duration": 491,
    "start_time": "2021-06-14T10:19:15.276Z"
   },
   {
    "duration": 498,
    "start_time": "2021-06-14T10:20:04.959Z"
   },
   {
    "duration": 530,
    "start_time": "2021-06-14T10:20:30.013Z"
   },
   {
    "duration": 395,
    "start_time": "2021-06-14T10:33:11.148Z"
   },
   {
    "duration": 752,
    "start_time": "2021-06-14T10:34:21.659Z"
   },
   {
    "duration": 361,
    "start_time": "2021-06-14T10:35:12.880Z"
   },
   {
    "duration": 324,
    "start_time": "2021-06-14T10:35:56.013Z"
   },
   {
    "duration": 520,
    "start_time": "2021-06-14T10:36:11.821Z"
   },
   {
    "duration": 1015,
    "start_time": "2021-06-14T10:37:03.913Z"
   },
   {
    "duration": 1149,
    "start_time": "2021-06-14T10:37:40.045Z"
   },
   {
    "duration": 1390,
    "start_time": "2021-06-14T10:38:30.998Z"
   },
   {
    "duration": 1309,
    "start_time": "2021-06-14T10:38:47.556Z"
   },
   {
    "duration": 1374,
    "start_time": "2021-06-14T10:39:09.132Z"
   },
   {
    "duration": 295,
    "start_time": "2021-06-14T10:43:37.168Z"
   },
   {
    "duration": 339,
    "start_time": "2021-06-14T10:43:53.325Z"
   },
   {
    "duration": 293,
    "start_time": "2021-06-14T10:44:09.649Z"
   },
   {
    "duration": 327,
    "start_time": "2021-06-14T10:44:20.247Z"
   },
   {
    "duration": 323,
    "start_time": "2021-06-14T10:44:50.003Z"
   },
   {
    "duration": 362,
    "start_time": "2021-06-14T10:45:27.492Z"
   },
   {
    "duration": 378,
    "start_time": "2021-06-14T10:45:54.701Z"
   },
   {
    "duration": 1351,
    "start_time": "2021-06-14T10:50:19.432Z"
   },
   {
    "duration": 358,
    "start_time": "2021-06-14T11:56:27.770Z"
   },
   {
    "duration": 343,
    "start_time": "2021-06-14T11:56:42.821Z"
   },
   {
    "duration": 341,
    "start_time": "2021-06-14T11:57:32.343Z"
   },
   {
    "duration": 338,
    "start_time": "2021-06-14T11:57:51.835Z"
   },
   {
    "duration": 361,
    "start_time": "2021-06-14T12:11:03.324Z"
   },
   {
    "duration": 1238,
    "start_time": "2021-06-14T12:12:36.040Z"
   },
   {
    "duration": 340,
    "start_time": "2021-06-14T12:13:11.668Z"
   },
   {
    "duration": 485,
    "start_time": "2021-06-14T12:13:23.798Z"
   },
   {
    "duration": 296,
    "start_time": "2021-06-14T12:13:29.167Z"
   },
   {
    "duration": 295,
    "start_time": "2021-06-14T12:13:43.230Z"
   },
   {
    "duration": 297,
    "start_time": "2021-06-14T12:13:56.832Z"
   },
   {
    "duration": 316,
    "start_time": "2021-06-14T12:14:24.017Z"
   },
   {
    "duration": 495,
    "start_time": "2021-06-14T12:22:52.943Z"
   },
   {
    "duration": 325,
    "start_time": "2021-06-14T12:23:07.005Z"
   },
   {
    "duration": 1682,
    "start_time": "2021-06-14T12:30:04.821Z"
   },
   {
    "duration": 1468,
    "start_time": "2021-06-14T12:30:27.679Z"
   },
   {
    "duration": 85,
    "start_time": "2021-06-14T12:34:12.071Z"
   },
   {
    "duration": 500,
    "start_time": "2021-06-14T12:34:25.406Z"
   },
   {
    "duration": 293,
    "start_time": "2021-06-14T12:34:45.734Z"
   },
   {
    "duration": 345,
    "start_time": "2021-06-14T12:35:51.775Z"
   },
   {
    "duration": 339,
    "start_time": "2021-06-14T12:36:07.475Z"
   },
   {
    "duration": 340,
    "start_time": "2021-06-14T12:36:17.752Z"
   },
   {
    "duration": 330,
    "start_time": "2021-06-14T12:36:48.650Z"
   },
   {
    "duration": 355,
    "start_time": "2021-06-14T12:37:11.266Z"
   },
   {
    "duration": 538,
    "start_time": "2021-06-14T12:40:04.523Z"
   },
   {
    "duration": 1258,
    "start_time": "2021-06-14T12:45:27.860Z"
   },
   {
    "duration": 137,
    "start_time": "2021-06-14T12:45:38.362Z"
   },
   {
    "duration": 37,
    "start_time": "2021-06-14T12:45:38.501Z"
   },
   {
    "duration": 11,
    "start_time": "2021-06-14T12:45:38.540Z"
   },
   {
    "duration": 47,
    "start_time": "2021-06-14T12:45:38.585Z"
   },
   {
    "duration": 53,
    "start_time": "2021-06-14T12:45:38.634Z"
   },
   {
    "duration": 12,
    "start_time": "2021-06-14T12:45:38.689Z"
   },
   {
    "duration": 18,
    "start_time": "2021-06-14T12:45:38.703Z"
   },
   {
    "duration": 33,
    "start_time": "2021-06-14T12:45:38.725Z"
   },
   {
    "duration": 6,
    "start_time": "2021-06-14T12:45:38.784Z"
   },
   {
    "duration": 741,
    "start_time": "2021-06-14T12:45:38.792Z"
   },
   {
    "duration": 55,
    "start_time": "2021-06-14T12:45:39.536Z"
   },
   {
    "duration": 525,
    "start_time": "2021-06-14T12:45:39.594Z"
   },
   {
    "duration": 1402,
    "start_time": "2021-06-14T12:45:40.123Z"
   },
   {
    "duration": 367,
    "start_time": "2021-06-14T12:45:41.528Z"
   },
   {
    "duration": 336,
    "start_time": "2021-06-14T12:45:41.897Z"
   },
   {
    "duration": 363,
    "start_time": "2021-06-14T12:45:42.235Z"
   },
   {
    "duration": 210,
    "start_time": "2021-06-14T12:55:03.196Z"
   },
   {
    "duration": 1266,
    "start_time": "2021-06-14T12:56:41.175Z"
   },
   {
    "duration": 1355,
    "start_time": "2021-06-14T12:57:23.839Z"
   },
   {
    "duration": 190,
    "start_time": "2021-06-14T12:58:38.547Z"
   },
   {
    "duration": 328,
    "start_time": "2021-06-15T13:30:11.518Z"
   },
   {
    "duration": 959,
    "start_time": "2021-06-15T13:30:28.545Z"
   },
   {
    "duration": 40,
    "start_time": "2021-06-15T13:30:29.507Z"
   },
   {
    "duration": 11,
    "start_time": "2021-06-15T13:30:29.550Z"
   },
   {
    "duration": 76,
    "start_time": "2021-06-15T13:30:29.564Z"
   },
   {
    "duration": 25,
    "start_time": "2021-06-15T13:30:29.643Z"
   },
   {
    "duration": 41,
    "start_time": "2021-06-15T13:30:29.670Z"
   },
   {
    "duration": 19,
    "start_time": "2021-06-15T13:30:29.714Z"
   },
   {
    "duration": 41,
    "start_time": "2021-06-15T13:30:29.737Z"
   },
   {
    "duration": 19,
    "start_time": "2021-06-15T13:30:29.781Z"
   },
   {
    "duration": 847,
    "start_time": "2021-06-15T13:30:29.802Z"
   },
   {
    "duration": 58,
    "start_time": "2021-06-15T13:30:30.651Z"
   },
   {
    "duration": 598,
    "start_time": "2021-06-15T13:30:30.712Z"
   },
   {
    "duration": 1321,
    "start_time": "2021-06-15T13:30:31.313Z"
   },
   {
    "duration": 369,
    "start_time": "2021-06-15T13:30:32.636Z"
   },
   {
    "duration": 335,
    "start_time": "2021-06-15T13:30:33.008Z"
   },
   {
    "duration": 373,
    "start_time": "2021-06-15T13:30:33.345Z"
   },
   {
    "duration": 214,
    "start_time": "2021-06-15T13:30:33.720Z"
   },
   {
    "duration": 31,
    "start_time": "2021-06-15T13:55:56.886Z"
   },
   {
    "duration": 113,
    "start_time": "2021-06-15T14:27:24.945Z"
   },
   {
    "duration": 12,
    "start_time": "2021-06-15T14:28:22.707Z"
   },
   {
    "duration": 208,
    "start_time": "2021-06-15T14:30:46.489Z"
   },
   {
    "duration": 814,
    "start_time": "2021-06-15T14:36:33.476Z"
   },
   {
    "duration": 1524,
    "start_time": "2021-06-15T14:42:58.337Z"
   },
   {
    "duration": 89,
    "start_time": "2021-06-15T14:44:09.945Z"
   },
   {
    "duration": 559,
    "start_time": "2021-06-15T14:44:20.287Z"
   },
   {
    "duration": 652,
    "start_time": "2021-06-15T14:44:45.751Z"
   },
   {
    "duration": 564,
    "start_time": "2021-06-15T14:47:23.853Z"
   },
   {
    "duration": 570,
    "start_time": "2021-06-15T14:47:34.908Z"
   },
   {
    "duration": 37,
    "start_time": "2021-06-15T14:48:41.170Z"
   },
   {
    "duration": 25,
    "start_time": "2021-06-15T14:49:16.580Z"
   },
   {
    "duration": 27,
    "start_time": "2021-06-15T14:52:29.254Z"
   },
   {
    "duration": 24,
    "start_time": "2021-06-15T14:53:14.956Z"
   },
   {
    "duration": 7200,
    "start_time": "2021-06-15T14:53:58.948Z"
   },
   {
    "duration": 28,
    "start_time": "2021-06-15T14:54:40.531Z"
   },
   {
    "duration": 285,
    "start_time": "2021-06-15T16:11:36.483Z"
   },
   {
    "duration": 266,
    "start_time": "2021-06-15T16:12:19.196Z"
   },
   {
    "duration": 82,
    "start_time": "2021-06-15T16:13:14.596Z"
   },
   {
    "duration": 1114,
    "start_time": "2021-06-15T16:13:51.750Z"
   },
   {
    "duration": 23,
    "start_time": "2021-06-15T16:13:53.638Z"
   },
   {
    "duration": 28,
    "start_time": "2021-06-15T16:15:57.242Z"
   },
   {
    "duration": 30,
    "start_time": "2021-06-15T16:17:52.962Z"
   },
   {
    "duration": 28,
    "start_time": "2021-06-15T16:19:12.980Z"
   },
   {
    "duration": 30,
    "start_time": "2021-06-15T16:20:22.040Z"
   },
   {
    "duration": 34,
    "start_time": "2021-06-15T16:22:35.251Z"
   },
   {
    "duration": 99,
    "start_time": "2021-06-15T16:28:55.039Z"
   },
   {
    "duration": 278,
    "start_time": "2021-06-15T16:29:03.741Z"
   },
   {
    "duration": 33,
    "start_time": "2021-06-15T16:29:12.503Z"
   },
   {
    "duration": 102,
    "start_time": "2021-06-15T16:32:37.935Z"
   },
   {
    "duration": 96,
    "start_time": "2021-06-15T16:38:39.308Z"
   },
   {
    "duration": 38,
    "start_time": "2021-06-15T16:48:00.655Z"
   },
   {
    "duration": 35,
    "start_time": "2021-06-15T16:48:14.917Z"
   },
   {
    "duration": 85,
    "start_time": "2021-06-15T16:54:22.748Z"
   },
   {
    "duration": 88,
    "start_time": "2021-06-15T16:59:04.069Z"
   },
   {
    "duration": 1253,
    "start_time": "2021-06-15T16:59:57.053Z"
   },
   {
    "duration": 1024,
    "start_time": "2021-06-15T17:00:39.892Z"
   },
   {
    "duration": 632,
    "start_time": "2021-06-15T17:00:55.328Z"
   },
   {
    "duration": 596,
    "start_time": "2021-06-15T17:02:01.770Z"
   },
   {
    "duration": 635,
    "start_time": "2021-06-15T17:02:23.792Z"
   },
   {
    "duration": 668,
    "start_time": "2021-06-15T17:04:54.714Z"
   },
   {
    "duration": 355,
    "start_time": "2021-06-15T17:58:26.001Z"
   },
   {
    "duration": 34,
    "start_time": "2021-06-15T17:58:35.949Z"
   },
   {
    "duration": 38,
    "start_time": "2021-06-15T17:58:55.249Z"
   },
   {
    "duration": 36,
    "start_time": "2021-06-15T17:59:28.425Z"
   },
   {
    "duration": 42,
    "start_time": "2021-06-15T18:00:01.697Z"
   },
   {
    "duration": 39,
    "start_time": "2021-06-15T18:01:45.931Z"
   },
   {
    "duration": 39,
    "start_time": "2021-06-15T18:03:25.264Z"
   },
   {
    "duration": 36,
    "start_time": "2021-06-15T18:03:53.763Z"
   },
   {
    "duration": 131,
    "start_time": "2021-06-15T18:04:00.257Z"
   },
   {
    "duration": 45,
    "start_time": "2021-06-15T18:04:00.391Z"
   },
   {
    "duration": 9,
    "start_time": "2021-06-15T18:04:00.438Z"
   },
   {
    "duration": 61,
    "start_time": "2021-06-15T18:04:00.450Z"
   },
   {
    "duration": 23,
    "start_time": "2021-06-15T18:04:00.513Z"
   },
   {
    "duration": 30,
    "start_time": "2021-06-15T18:04:00.539Z"
   },
   {
    "duration": 39,
    "start_time": "2021-06-15T18:04:00.571Z"
   },
   {
    "duration": 33,
    "start_time": "2021-06-15T18:04:00.614Z"
   },
   {
    "duration": 5,
    "start_time": "2021-06-15T18:04:00.650Z"
   },
   {
    "duration": 792,
    "start_time": "2021-06-15T18:04:00.657Z"
   },
   {
    "duration": 57,
    "start_time": "2021-06-15T18:04:01.452Z"
   },
   {
    "duration": 766,
    "start_time": "2021-06-15T18:04:01.511Z"
   },
   {
    "duration": 1540,
    "start_time": "2021-06-15T18:04:02.280Z"
   },
   {
    "duration": 685,
    "start_time": "2021-06-15T18:04:03.822Z"
   },
   {
    "duration": 334,
    "start_time": "2021-06-15T18:04:04.510Z"
   },
   {
    "duration": 368,
    "start_time": "2021-06-15T18:04:04.846Z"
   },
   {
    "duration": 214,
    "start_time": "2021-06-15T18:04:05.216Z"
   },
   {
    "duration": 40,
    "start_time": "2021-06-15T18:04:28.494Z"
   },
   {
    "duration": 140,
    "start_time": "2021-06-15T18:04:50.677Z"
   },
   {
    "duration": 36,
    "start_time": "2021-06-15T18:04:50.820Z"
   },
   {
    "duration": 9,
    "start_time": "2021-06-15T18:04:50.859Z"
   },
   {
    "duration": 64,
    "start_time": "2021-06-15T18:04:50.871Z"
   },
   {
    "duration": 27,
    "start_time": "2021-06-15T18:04:50.937Z"
   },
   {
    "duration": 55,
    "start_time": "2021-06-15T18:04:50.966Z"
   },
   {
    "duration": 12,
    "start_time": "2021-06-15T18:04:51.023Z"
   },
   {
    "duration": 64,
    "start_time": "2021-06-15T18:04:51.039Z"
   },
   {
    "duration": 5,
    "start_time": "2021-06-15T18:04:51.106Z"
   },
   {
    "duration": 813,
    "start_time": "2021-06-15T18:04:51.113Z"
   },
   {
    "duration": 46,
    "start_time": "2021-06-15T18:04:51.928Z"
   },
   {
    "duration": 763,
    "start_time": "2021-06-15T18:04:51.976Z"
   },
   {
    "duration": 1559,
    "start_time": "2021-06-15T18:04:52.741Z"
   },
   {
    "duration": 557,
    "start_time": "2021-06-15T18:04:54.303Z"
   },
   {
    "duration": 338,
    "start_time": "2021-06-15T18:04:54.862Z"
   },
   {
    "duration": 350,
    "start_time": "2021-06-15T18:04:55.202Z"
   },
   {
    "duration": 215,
    "start_time": "2021-06-15T18:04:55.555Z"
   },
   {
    "duration": 138,
    "start_time": "2021-06-15T18:15:08.001Z"
   },
   {
    "duration": 36,
    "start_time": "2021-06-15T18:15:08.141Z"
   },
   {
    "duration": 9,
    "start_time": "2021-06-15T18:15:08.201Z"
   },
   {
    "duration": 34,
    "start_time": "2021-06-15T18:15:08.213Z"
   },
   {
    "duration": 50,
    "start_time": "2021-06-15T18:15:08.250Z"
   },
   {
    "duration": 28,
    "start_time": "2021-06-15T18:15:08.303Z"
   },
   {
    "duration": 13,
    "start_time": "2021-06-15T18:15:08.333Z"
   },
   {
    "duration": 64,
    "start_time": "2021-06-15T18:15:08.350Z"
   },
   {
    "duration": 5,
    "start_time": "2021-06-15T18:15:08.417Z"
   },
   {
    "duration": 858,
    "start_time": "2021-06-15T18:15:08.424Z"
   },
   {
    "duration": 52,
    "start_time": "2021-06-15T18:15:09.284Z"
   },
   {
    "duration": 748,
    "start_time": "2021-06-15T18:15:09.338Z"
   },
   {
    "duration": 1512,
    "start_time": "2021-06-15T18:15:10.089Z"
   },
   {
    "duration": 669,
    "start_time": "2021-06-15T18:15:11.603Z"
   },
   {
    "duration": 334,
    "start_time": "2021-06-15T18:15:12.275Z"
   },
   {
    "duration": 384,
    "start_time": "2021-06-15T18:15:12.612Z"
   },
   {
    "duration": 211,
    "start_time": "2021-06-15T18:15:13.000Z"
   },
   {
    "duration": 46,
    "start_time": "2021-06-15T18:17:12.385Z"
   },
   {
    "duration": 35,
    "start_time": "2021-06-15T18:17:48.852Z"
   },
   {
    "duration": 34,
    "start_time": "2021-06-15T18:18:08.545Z"
   },
   {
    "duration": 40,
    "start_time": "2021-06-15T18:18:17.869Z"
   },
   {
    "duration": 44,
    "start_time": "2021-06-15T18:18:26.505Z"
   },
   {
    "duration": 542,
    "start_time": "2021-06-15T18:22:52.099Z"
   },
   {
    "duration": 1110,
    "start_time": "2021-06-16T13:40:34.419Z"
   },
   {
    "duration": 63,
    "start_time": "2021-06-16T13:40:35.532Z"
   },
   {
    "duration": 10,
    "start_time": "2021-06-16T13:40:35.599Z"
   },
   {
    "duration": 54,
    "start_time": "2021-06-16T13:40:35.612Z"
   },
   {
    "duration": 26,
    "start_time": "2021-06-16T13:40:35.669Z"
   },
   {
    "duration": 28,
    "start_time": "2021-06-16T13:40:35.698Z"
   },
   {
    "duration": 40,
    "start_time": "2021-06-16T13:40:35.729Z"
   },
   {
    "duration": 40,
    "start_time": "2021-06-16T13:40:35.776Z"
   },
   {
    "duration": 5,
    "start_time": "2021-06-16T13:40:35.819Z"
   },
   {
    "duration": 952,
    "start_time": "2021-06-16T13:40:35.855Z"
   },
   {
    "duration": 65,
    "start_time": "2021-06-16T13:40:36.809Z"
   },
   {
    "duration": 1018,
    "start_time": "2021-06-16T13:40:36.877Z"
   },
   {
    "duration": 1896,
    "start_time": "2021-06-16T13:40:37.897Z"
   },
   {
    "duration": 700,
    "start_time": "2021-06-16T13:40:39.796Z"
   },
   {
    "duration": 662,
    "start_time": "2021-06-16T13:40:40.499Z"
   },
   {
    "duration": 543,
    "start_time": "2021-06-16T13:40:41.163Z"
   },
   {
    "duration": 230,
    "start_time": "2021-06-16T13:40:41.708Z"
   },
   {
    "duration": 395,
    "start_time": "2021-06-16T13:51:47.771Z"
   },
   {
    "duration": 442,
    "start_time": "2021-06-16T13:51:58.531Z"
   },
   {
    "duration": 425,
    "start_time": "2021-06-16T13:53:11.774Z"
   },
   {
    "duration": 488,
    "start_time": "2021-06-16T13:54:51.124Z"
   },
   {
    "duration": 496,
    "start_time": "2021-06-16T13:55:07.966Z"
   },
   {
    "duration": 546,
    "start_time": "2021-06-16T14:44:20.065Z"
   },
   {
    "duration": 266,
    "start_time": "2021-06-16T15:01:31.080Z"
   },
   {
    "duration": 93,
    "start_time": "2021-06-16T15:01:57.155Z"
   },
   {
    "duration": 291,
    "start_time": "2021-06-16T15:02:09.820Z"
   },
   {
    "duration": 247,
    "start_time": "2021-06-16T15:02:24.795Z"
   },
   {
    "duration": 222,
    "start_time": "2021-06-16T15:03:24.874Z"
   },
   {
    "duration": 344,
    "start_time": "2021-06-16T15:16:20.604Z"
   },
   {
    "duration": 234,
    "start_time": "2021-06-16T15:16:41.224Z"
   },
   {
    "duration": 238,
    "start_time": "2021-06-16T15:17:01.907Z"
   },
   {
    "duration": 308,
    "start_time": "2021-06-16T15:20:53.736Z"
   },
   {
    "duration": 7478,
    "start_time": "2021-06-16T15:21:36.278Z"
   },
   {
    "duration": 756,
    "start_time": "2021-06-16T15:30:52.217Z"
   },
   {
    "duration": 768,
    "start_time": "2021-06-16T15:32:01.286Z"
   },
   {
    "duration": 726,
    "start_time": "2021-06-16T15:33:30.638Z"
   },
   {
    "duration": 153,
    "start_time": "2021-06-16T15:34:18.119Z"
   },
   {
    "duration": 45,
    "start_time": "2021-06-16T15:34:18.274Z"
   },
   {
    "duration": 33,
    "start_time": "2021-06-16T15:34:18.322Z"
   },
   {
    "duration": 39,
    "start_time": "2021-06-16T15:34:18.359Z"
   },
   {
    "duration": 25,
    "start_time": "2021-06-16T15:34:18.400Z"
   },
   {
    "duration": 36,
    "start_time": "2021-06-16T15:34:18.510Z"
   },
   {
    "duration": 19,
    "start_time": "2021-06-16T15:34:18.549Z"
   },
   {
    "duration": 37,
    "start_time": "2021-06-16T15:34:18.574Z"
   },
   {
    "duration": 6,
    "start_time": "2021-06-16T15:34:18.614Z"
   },
   {
    "duration": 980,
    "start_time": "2021-06-16T15:34:18.622Z"
   },
   {
    "duration": 70,
    "start_time": "2021-06-16T15:34:19.604Z"
   },
   {
    "duration": 1341,
    "start_time": "2021-06-16T15:34:19.677Z"
   },
   {
    "duration": 2384,
    "start_time": "2021-06-16T15:34:21.023Z"
   },
   {
    "duration": 843,
    "start_time": "2021-06-16T15:34:23.411Z"
   },
   {
    "duration": 646,
    "start_time": "2021-06-16T15:34:24.260Z"
   },
   {
    "duration": 528,
    "start_time": "2021-06-16T15:34:24.909Z"
   },
   {
    "duration": 245,
    "start_time": "2021-06-16T15:34:25.440Z"
   },
   {
    "duration": 839,
    "start_time": "2021-06-16T15:34:25.690Z"
   },
   {
    "duration": 814,
    "start_time": "2021-06-16T15:35:28.462Z"
   },
   {
    "duration": 963,
    "start_time": "2021-06-16T15:41:09.142Z"
   },
   {
    "duration": 586,
    "start_time": "2021-06-16T15:42:42.952Z"
   },
   {
    "duration": 699,
    "start_time": "2021-06-16T15:43:14.832Z"
   },
   {
    "duration": 804,
    "start_time": "2021-06-16T15:45:29.172Z"
   },
   {
    "duration": 754,
    "start_time": "2021-06-16T15:52:41.912Z"
   },
   {
    "duration": 105,
    "start_time": "2021-06-16T15:53:06.960Z"
   },
   {
    "duration": 699,
    "start_time": "2021-06-16T15:53:23.968Z"
   },
   {
    "duration": 914,
    "start_time": "2021-06-16T15:53:43.965Z"
   },
   {
    "duration": 1172,
    "start_time": "2021-06-16T15:54:30.084Z"
   },
   {
    "duration": 855,
    "start_time": "2021-06-16T15:54:49.916Z"
   },
   {
    "duration": 543,
    "start_time": "2021-06-16T15:55:18.115Z"
   },
   {
    "duration": 339,
    "start_time": "2021-06-16T15:55:43.739Z"
   },
   {
    "duration": 341,
    "start_time": "2021-06-16T15:55:53.854Z"
   },
   {
    "duration": 284,
    "start_time": "2021-06-16T15:57:18.787Z"
   },
   {
    "duration": 40,
    "start_time": "2021-06-16T15:57:19.075Z"
   },
   {
    "duration": 9,
    "start_time": "2021-06-16T15:57:19.118Z"
   },
   {
    "duration": 73,
    "start_time": "2021-06-16T15:57:19.130Z"
   },
   {
    "duration": 28,
    "start_time": "2021-06-16T15:57:19.205Z"
   },
   {
    "duration": 59,
    "start_time": "2021-06-16T15:57:19.235Z"
   },
   {
    "duration": 12,
    "start_time": "2021-06-16T15:57:19.297Z"
   },
   {
    "duration": 75,
    "start_time": "2021-06-16T15:57:19.313Z"
   },
   {
    "duration": 9,
    "start_time": "2021-06-16T15:57:19.391Z"
   },
   {
    "duration": 1110,
    "start_time": "2021-06-16T15:57:19.403Z"
   },
   {
    "duration": 72,
    "start_time": "2021-06-16T15:57:20.515Z"
   },
   {
    "duration": 1096,
    "start_time": "2021-06-16T15:57:20.590Z"
   },
   {
    "duration": 352,
    "start_time": "2021-06-16T15:57:21.689Z"
   },
   {
    "duration": 1850,
    "start_time": "2021-06-16T15:57:22.044Z"
   },
   {
    "duration": 662,
    "start_time": "2021-06-16T15:57:23.897Z"
   },
   {
    "duration": 641,
    "start_time": "2021-06-16T15:57:24.561Z"
   },
   {
    "duration": 803,
    "start_time": "2021-06-16T15:57:25.204Z"
   },
   {
    "duration": 257,
    "start_time": "2021-06-16T15:57:26.010Z"
   },
   {
    "duration": 831,
    "start_time": "2021-06-16T15:57:26.271Z"
   },
   {
    "duration": 2174,
    "start_time": "2021-06-16T16:01:09.149Z"
   },
   {
    "duration": 1801,
    "start_time": "2021-06-16T16:02:11.403Z"
   },
   {
    "duration": 1594,
    "start_time": "2021-06-16T16:02:26.342Z"
   },
   {
    "duration": 1231,
    "start_time": "2021-06-16T16:02:54.699Z"
   },
   {
    "duration": 1378,
    "start_time": "2021-06-16T16:03:30.907Z"
   },
   {
    "duration": 1160,
    "start_time": "2021-06-16T16:03:39.519Z"
   },
   {
    "duration": 1071,
    "start_time": "2021-06-16T16:05:53.287Z"
   },
   {
    "duration": 1458,
    "start_time": "2021-06-16T16:06:29.922Z"
   },
   {
    "duration": 1411,
    "start_time": "2021-06-16T16:06:51.955Z"
   },
   {
    "duration": 1411,
    "start_time": "2021-06-16T16:07:11.302Z"
   },
   {
    "duration": 100,
    "start_time": "2021-06-16T16:10:09.742Z"
   },
   {
    "duration": 1847,
    "start_time": "2021-06-16T16:10:18.305Z"
   },
   {
    "duration": 1610,
    "start_time": "2021-06-16T16:10:43.097Z"
   },
   {
    "duration": 1300,
    "start_time": "2021-06-16T16:15:30.474Z"
   },
   {
    "duration": 1530,
    "start_time": "2021-06-16T16:16:09.214Z"
   },
   {
    "duration": 1373,
    "start_time": "2021-06-16T16:18:22.091Z"
   },
   {
    "duration": 914,
    "start_time": "2021-06-16T16:23:50.346Z"
   },
   {
    "duration": 433,
    "start_time": "2021-06-16T16:31:02.591Z"
   },
   {
    "duration": 340,
    "start_time": "2021-06-16T16:33:35.921Z"
   },
   {
    "duration": 344,
    "start_time": "2021-06-16T16:34:07.413Z"
   },
   {
    "duration": 353,
    "start_time": "2021-06-16T16:37:52.168Z"
   },
   {
    "duration": 336,
    "start_time": "2021-06-16T16:38:36.189Z"
   },
   {
    "duration": 1094,
    "start_time": "2021-06-16T16:40:12.418Z"
   },
   {
    "duration": 878,
    "start_time": "2021-06-16T16:40:33.451Z"
   },
   {
    "duration": 433,
    "start_time": "2021-06-16T16:44:51.314Z"
   },
   {
    "duration": 708,
    "start_time": "2021-06-16T16:51:27.485Z"
   },
   {
    "duration": 376,
    "start_time": "2021-06-16T16:52:00.814Z"
   },
   {
    "duration": 445,
    "start_time": "2021-06-16T16:52:25.935Z"
   },
   {
    "duration": 387,
    "start_time": "2021-06-16T16:52:52.732Z"
   },
   {
    "duration": 858,
    "start_time": "2021-06-16T16:54:16.040Z"
   },
   {
    "duration": 360,
    "start_time": "2021-06-16T17:02:01.988Z"
   },
   {
    "duration": 359,
    "start_time": "2021-06-16T17:02:34.792Z"
   },
   {
    "duration": 586,
    "start_time": "2021-06-16T17:03:09.328Z"
   },
   {
    "duration": 30,
    "start_time": "2021-06-16T18:26:11.664Z"
   },
   {
    "duration": 8,
    "start_time": "2021-06-16T18:27:44.657Z"
   },
   {
    "duration": 291,
    "start_time": "2021-06-16T18:31:00.373Z"
   },
   {
    "duration": 280,
    "start_time": "2021-06-16T18:31:31.747Z"
   },
   {
    "duration": 13,
    "start_time": "2021-06-16T18:32:09.369Z"
   },
   {
    "duration": 12,
    "start_time": "2021-06-16T18:33:17.579Z"
   },
   {
    "duration": 1231,
    "start_time": "2021-06-16T18:36:00.267Z"
   },
   {
    "duration": 983,
    "start_time": "2021-06-17T14:02:24.333Z"
   },
   {
    "duration": 37,
    "start_time": "2021-06-17T14:02:25.318Z"
   },
   {
    "duration": 9,
    "start_time": "2021-06-17T14:02:25.358Z"
   },
   {
    "duration": 417,
    "start_time": "2021-06-17T14:02:25.386Z"
   },
   {
    "duration": -1263,
    "start_time": "2021-06-17T14:02:27.069Z"
   },
   {
    "duration": -1274,
    "start_time": "2021-06-17T14:02:27.082Z"
   },
   {
    "duration": -1279,
    "start_time": "2021-06-17T14:02:27.088Z"
   },
   {
    "duration": -1289,
    "start_time": "2021-06-17T14:02:27.099Z"
   },
   {
    "duration": -1295,
    "start_time": "2021-06-17T14:02:27.106Z"
   },
   {
    "duration": -1300,
    "start_time": "2021-06-17T14:02:27.112Z"
   },
   {
    "duration": -1304,
    "start_time": "2021-06-17T14:02:27.118Z"
   },
   {
    "duration": -1309,
    "start_time": "2021-06-17T14:02:27.124Z"
   },
   {
    "duration": -1314,
    "start_time": "2021-06-17T14:02:27.130Z"
   },
   {
    "duration": -1318,
    "start_time": "2021-06-17T14:02:27.135Z"
   },
   {
    "duration": -1324,
    "start_time": "2021-06-17T14:02:27.142Z"
   },
   {
    "duration": -1332,
    "start_time": "2021-06-17T14:02:27.152Z"
   },
   {
    "duration": -1339,
    "start_time": "2021-06-17T14:02:27.160Z"
   },
   {
    "duration": -1341,
    "start_time": "2021-06-17T14:02:27.164Z"
   },
   {
    "duration": -1345,
    "start_time": "2021-06-17T14:02:27.169Z"
   },
   {
    "duration": -1351,
    "start_time": "2021-06-17T14:02:27.176Z"
   },
   {
    "duration": -1369,
    "start_time": "2021-06-17T14:02:27.195Z"
   },
   {
    "duration": -1372,
    "start_time": "2021-06-17T14:02:27.200Z"
   },
   {
    "duration": -1378,
    "start_time": "2021-06-17T14:02:27.207Z"
   },
   {
    "duration": -1381,
    "start_time": "2021-06-17T14:02:27.211Z"
   },
   {
    "duration": 334,
    "start_time": "2021-06-17T14:03:26.540Z"
   },
   {
    "duration": 133,
    "start_time": "2021-06-17T14:03:51.398Z"
   },
   {
    "duration": 53,
    "start_time": "2021-06-17T14:03:51.534Z"
   },
   {
    "duration": 9,
    "start_time": "2021-06-17T14:03:51.590Z"
   },
   {
    "duration": 45,
    "start_time": "2021-06-17T14:03:51.602Z"
   },
   {
    "duration": 53,
    "start_time": "2021-06-17T14:03:51.649Z"
   },
   {
    "duration": 28,
    "start_time": "2021-06-17T14:03:51.704Z"
   },
   {
    "duration": 13,
    "start_time": "2021-06-17T14:03:51.734Z"
   },
   {
    "duration": 60,
    "start_time": "2021-06-17T14:03:51.753Z"
   },
   {
    "duration": 4,
    "start_time": "2021-06-17T14:03:51.816Z"
   },
   {
    "duration": 799,
    "start_time": "2021-06-17T14:03:51.823Z"
   },
   {
    "duration": 45,
    "start_time": "2021-06-17T14:03:52.624Z"
   },
   {
    "duration": 775,
    "start_time": "2021-06-17T14:03:52.686Z"
   },
   {
    "duration": 335,
    "start_time": "2021-06-17T14:03:53.464Z"
   },
   {
    "duration": 1038,
    "start_time": "2021-06-17T14:03:53.801Z"
   },
   {
    "duration": 1004,
    "start_time": "2021-06-17T14:03:54.842Z"
   },
   {
    "duration": 689,
    "start_time": "2021-06-17T14:03:55.848Z"
   },
   {
    "duration": 332,
    "start_time": "2021-06-17T14:03:56.539Z"
   },
   {
    "duration": 819,
    "start_time": "2021-06-17T14:03:56.873Z"
   },
   {
    "duration": 494,
    "start_time": "2021-06-17T14:03:57.695Z"
   },
   {
    "duration": 1053,
    "start_time": "2021-06-17T14:03:58.192Z"
   },
   {
    "duration": 337,
    "start_time": "2021-06-17T14:03:59.248Z"
   },
   {
    "duration": 878,
    "start_time": "2021-06-17T14:03:59.588Z"
   },
   {
    "duration": 26,
    "start_time": "2021-06-17T14:04:00.485Z"
   },
   {
    "duration": 1216,
    "start_time": "2021-06-17T14:04:00.514Z"
   },
   {
    "duration": 54,
    "start_time": "2021-06-17T14:05:39.654Z"
   },
   {
    "duration": 332,
    "start_time": "2021-06-17T14:10:37.730Z"
   },
   {
    "duration": 56,
    "start_time": "2021-06-17T14:10:56.420Z"
   },
   {
    "duration": 326,
    "start_time": "2021-06-17T14:13:57.932Z"
   },
   {
    "duration": 55,
    "start_time": "2021-06-17T14:14:24.324Z"
   },
   {
    "duration": 140,
    "start_time": "2021-06-17T14:17:36.613Z"
   },
   {
    "duration": 51,
    "start_time": "2021-06-17T14:17:36.756Z"
   },
   {
    "duration": 11,
    "start_time": "2021-06-17T14:17:36.811Z"
   },
   {
    "duration": 82,
    "start_time": "2021-06-17T14:17:36.825Z"
   },
   {
    "duration": 27,
    "start_time": "2021-06-17T14:17:36.910Z"
   },
   {
    "duration": 65,
    "start_time": "2021-06-17T14:17:36.940Z"
   },
   {
    "duration": 15,
    "start_time": "2021-06-17T14:17:37.008Z"
   },
   {
    "duration": 67,
    "start_time": "2021-06-17T14:17:37.026Z"
   },
   {
    "duration": 5,
    "start_time": "2021-06-17T14:17:37.096Z"
   },
   {
    "duration": 890,
    "start_time": "2021-06-17T14:17:37.103Z"
   },
   {
    "duration": 44,
    "start_time": "2021-06-17T14:17:37.995Z"
   },
   {
    "duration": 768,
    "start_time": "2021-06-17T14:17:38.041Z"
   },
   {
    "duration": 339,
    "start_time": "2021-06-17T14:17:38.811Z"
   },
   {
    "duration": 1155,
    "start_time": "2021-06-17T14:17:39.153Z"
   },
   {
    "duration": 934,
    "start_time": "2021-06-17T14:17:40.310Z"
   },
   {
    "duration": 618,
    "start_time": "2021-06-17T14:17:41.247Z"
   },
   {
    "duration": 355,
    "start_time": "2021-06-17T14:17:41.867Z"
   },
   {
    "duration": 564,
    "start_time": "2021-06-17T14:17:42.225Z"
   },
   {
    "duration": 327,
    "start_time": "2021-06-17T14:17:42.791Z"
   },
   {
    "duration": 725,
    "start_time": "2021-06-17T14:17:43.120Z"
   },
   {
    "duration": 229,
    "start_time": "2021-06-17T14:17:43.848Z"
   },
   {
    "duration": 661,
    "start_time": "2021-06-17T14:17:44.085Z"
   },
   {
    "duration": 17,
    "start_time": "2021-06-17T14:17:44.750Z"
   },
   {
    "duration": 1217,
    "start_time": "2021-06-17T14:17:44.787Z"
   },
   {
    "duration": 29,
    "start_time": "2021-06-17T14:19:30.115Z"
   },
   {
    "duration": 139,
    "start_time": "2021-06-17T14:25:50.910Z"
   },
   {
    "duration": 53,
    "start_time": "2021-06-17T14:25:51.051Z"
   },
   {
    "duration": 9,
    "start_time": "2021-06-17T14:25:51.107Z"
   },
   {
    "duration": 93,
    "start_time": "2021-06-17T14:25:51.119Z"
   },
   {
    "duration": 331,
    "start_time": "2021-06-17T14:25:51.214Z"
   },
   {
    "duration": -1136,
    "start_time": "2021-06-17T14:25:52.685Z"
   },
   {
    "duration": -1145,
    "start_time": "2021-06-17T14:25:52.697Z"
   },
   {
    "duration": -1149,
    "start_time": "2021-06-17T14:25:52.703Z"
   },
   {
    "duration": -1151,
    "start_time": "2021-06-17T14:25:52.707Z"
   },
   {
    "duration": -1153,
    "start_time": "2021-06-17T14:25:52.712Z"
   },
   {
    "duration": -1156,
    "start_time": "2021-06-17T14:25:52.717Z"
   },
   {
    "duration": -1160,
    "start_time": "2021-06-17T14:25:52.723Z"
   },
   {
    "duration": -1162,
    "start_time": "2021-06-17T14:25:52.727Z"
   },
   {
    "duration": -1165,
    "start_time": "2021-06-17T14:25:52.732Z"
   },
   {
    "duration": -1167,
    "start_time": "2021-06-17T14:25:52.736Z"
   },
   {
    "duration": -1170,
    "start_time": "2021-06-17T14:25:52.741Z"
   },
   {
    "duration": -1173,
    "start_time": "2021-06-17T14:25:52.746Z"
   },
   {
    "duration": -1176,
    "start_time": "2021-06-17T14:25:52.751Z"
   },
   {
    "duration": -1178,
    "start_time": "2021-06-17T14:25:52.755Z"
   },
   {
    "duration": -1181,
    "start_time": "2021-06-17T14:25:52.760Z"
   },
   {
    "duration": -1183,
    "start_time": "2021-06-17T14:25:52.764Z"
   },
   {
    "duration": -1186,
    "start_time": "2021-06-17T14:25:52.769Z"
   },
   {
    "duration": -1188,
    "start_time": "2021-06-17T14:25:52.773Z"
   },
   {
    "duration": -1191,
    "start_time": "2021-06-17T14:25:52.778Z"
   },
   {
    "duration": 47,
    "start_time": "2021-06-17T14:27:56.831Z"
   },
   {
    "duration": 27,
    "start_time": "2021-06-17T14:28:35.780Z"
   },
   {
    "duration": 24,
    "start_time": "2021-06-17T14:29:50.767Z"
   },
   {
    "duration": 742,
    "start_time": "2021-06-17T14:30:49.647Z"
   },
   {
    "duration": 346,
    "start_time": "2021-06-17T14:30:55.955Z"
   },
   {
    "duration": 1016,
    "start_time": "2021-06-17T14:31:14.026Z"
   },
   {
    "duration": 918,
    "start_time": "2021-06-17T14:31:33.047Z"
   },
   {
    "duration": 589,
    "start_time": "2021-06-17T14:31:42.222Z"
   },
   {
    "duration": 379,
    "start_time": "2021-06-17T14:31:53.923Z"
   },
   {
    "duration": 621,
    "start_time": "2021-06-17T14:32:25.645Z"
   },
   {
    "duration": 12,
    "start_time": "2021-06-17T14:33:19.357Z"
   },
   {
    "duration": 19,
    "start_time": "2021-06-17T14:33:25.278Z"
   },
   {
    "duration": 551,
    "start_time": "2021-06-17T14:34:26.800Z"
   },
   {
    "duration": 542,
    "start_time": "2021-06-17T14:34:39.122Z"
   },
   {
    "duration": 411,
    "start_time": "2021-06-17T14:35:06.041Z"
   },
   {
    "duration": 780,
    "start_time": "2021-06-17T14:35:39.673Z"
   },
   {
    "duration": 219,
    "start_time": "2021-06-17T14:36:33.236Z"
   },
   {
    "duration": 576,
    "start_time": "2021-06-17T14:36:54.456Z"
   },
   {
    "duration": 17,
    "start_time": "2021-06-17T14:37:11.675Z"
   },
   {
    "duration": 136,
    "start_time": "2021-06-17T14:47:36.317Z"
   },
   {
    "duration": 50,
    "start_time": "2021-06-17T14:47:36.457Z"
   },
   {
    "duration": 10,
    "start_time": "2021-06-17T14:47:36.511Z"
   },
   {
    "duration": 67,
    "start_time": "2021-06-17T14:47:36.523Z"
   },
   {
    "duration": 17,
    "start_time": "2021-06-17T14:47:36.592Z"
   },
   {
    "duration": 13,
    "start_time": "2021-06-17T14:47:36.612Z"
   },
   {
    "duration": 60,
    "start_time": "2021-06-17T14:47:36.627Z"
   },
   {
    "duration": 34,
    "start_time": "2021-06-17T14:47:36.689Z"
   },
   {
    "duration": 5,
    "start_time": "2021-06-17T14:47:36.725Z"
   },
   {
    "duration": 806,
    "start_time": "2021-06-17T14:47:36.733Z"
   },
   {
    "duration": 57,
    "start_time": "2021-06-17T14:47:37.543Z"
   },
   {
    "duration": 826,
    "start_time": "2021-06-17T14:47:37.602Z"
   },
   {
    "duration": 333,
    "start_time": "2021-06-17T14:47:38.430Z"
   },
   {
    "duration": 1057,
    "start_time": "2021-06-17T14:47:38.765Z"
   },
   {
    "duration": 873,
    "start_time": "2021-06-17T14:47:39.825Z"
   },
   {
    "duration": 609,
    "start_time": "2021-06-17T14:47:40.701Z"
   },
   {
    "duration": 431,
    "start_time": "2021-06-17T14:47:41.313Z"
   },
   {
    "duration": 572,
    "start_time": "2021-06-17T14:47:41.747Z"
   },
   {
    "duration": 328,
    "start_time": "2021-06-17T14:47:42.321Z"
   },
   {
    "duration": 733,
    "start_time": "2021-06-17T14:47:42.652Z"
   },
   {
    "duration": 230,
    "start_time": "2021-06-17T14:47:43.387Z"
   },
   {
    "duration": 660,
    "start_time": "2021-06-17T14:47:43.620Z"
   },
   {
    "duration": 18,
    "start_time": "2021-06-17T14:47:44.285Z"
   },
   {
    "duration": 1206,
    "start_time": "2021-06-17T14:47:44.305Z"
   },
   {
    "duration": 13,
    "start_time": "2021-06-17T14:51:15.244Z"
   },
   {
    "duration": 12,
    "start_time": "2021-06-17T14:51:40.401Z"
   },
   {
    "duration": 100,
    "start_time": "2021-06-17T14:54:47.550Z"
   },
   {
    "duration": 112,
    "start_time": "2021-06-17T14:55:16.441Z"
   },
   {
    "duration": 9,
    "start_time": "2021-06-17T14:55:38.183Z"
   },
   {
    "duration": 876,
    "start_time": "2021-06-17T15:05:14.058Z"
   },
   {
    "duration": 32,
    "start_time": "2021-06-17T15:06:32.997Z"
   },
   {
    "duration": 37,
    "start_time": "2021-06-17T15:07:27.060Z"
   },
   {
    "duration": 18,
    "start_time": "2021-06-17T15:12:48.867Z"
   },
   {
    "duration": 16,
    "start_time": "2021-06-17T15:12:55.737Z"
   },
   {
    "duration": 135,
    "start_time": "2021-06-17T15:13:10.726Z"
   },
   {
    "duration": 48,
    "start_time": "2021-06-17T15:13:10.864Z"
   },
   {
    "duration": 8,
    "start_time": "2021-06-17T15:13:10.915Z"
   },
   {
    "duration": 67,
    "start_time": "2021-06-17T15:13:10.926Z"
   },
   {
    "duration": 16,
    "start_time": "2021-06-17T15:13:10.996Z"
   },
   {
    "duration": 13,
    "start_time": "2021-06-17T15:13:11.015Z"
   },
   {
    "duration": 58,
    "start_time": "2021-06-17T15:13:11.030Z"
   },
   {
    "duration": 31,
    "start_time": "2021-06-17T15:13:11.092Z"
   },
   {
    "duration": 5,
    "start_time": "2021-06-17T15:13:11.126Z"
   },
   {
    "duration": 775,
    "start_time": "2021-06-17T15:13:11.133Z"
   },
   {
    "duration": 40,
    "start_time": "2021-06-17T15:13:11.911Z"
   },
   {
    "duration": 934,
    "start_time": "2021-06-17T15:13:11.953Z"
   },
   {
    "duration": 319,
    "start_time": "2021-06-17T15:13:12.889Z"
   },
   {
    "duration": 1013,
    "start_time": "2021-06-17T15:13:13.211Z"
   },
   {
    "duration": 891,
    "start_time": "2021-06-17T15:13:14.226Z"
   },
   {
    "duration": 578,
    "start_time": "2021-06-17T15:13:15.120Z"
   },
   {
    "duration": 327,
    "start_time": "2021-06-17T15:13:15.700Z"
   },
   {
    "duration": 564,
    "start_time": "2021-06-17T15:13:16.030Z"
   },
   {
    "duration": 312,
    "start_time": "2021-06-17T15:13:16.597Z"
   },
   {
    "duration": 700,
    "start_time": "2021-06-17T15:13:16.911Z"
   },
   {
    "duration": 303,
    "start_time": "2021-06-17T15:13:17.614Z"
   },
   {
    "duration": 580,
    "start_time": "2021-06-17T15:13:17.920Z"
   },
   {
    "duration": 16,
    "start_time": "2021-06-17T15:13:18.504Z"
   },
   {
    "duration": 9,
    "start_time": "2021-06-17T15:13:18.522Z"
   },
   {
    "duration": 898,
    "start_time": "2021-06-17T15:13:49.211Z"
   },
   {
    "duration": 53,
    "start_time": "2021-06-17T15:15:04.386Z"
   },
   {
    "duration": 791,
    "start_time": "2021-06-17T15:26:00.458Z"
   },
   {
    "duration": 2079,
    "start_time": "2021-06-17T15:27:02.080Z"
   },
   {
    "duration": 137,
    "start_time": "2021-06-17T15:27:30.009Z"
   },
   {
    "duration": 61,
    "start_time": "2021-06-17T15:27:30.149Z"
   },
   {
    "duration": 10,
    "start_time": "2021-06-17T15:27:30.213Z"
   },
   {
    "duration": 60,
    "start_time": "2021-06-17T15:27:30.225Z"
   },
   {
    "duration": 19,
    "start_time": "2021-06-17T15:27:30.288Z"
   },
   {
    "duration": 12,
    "start_time": "2021-06-17T15:27:30.310Z"
   },
   {
    "duration": 49,
    "start_time": "2021-06-17T15:27:30.325Z"
   },
   {
    "duration": 20,
    "start_time": "2021-06-17T15:27:30.386Z"
   },
   {
    "duration": 5,
    "start_time": "2021-06-17T15:27:30.410Z"
   },
   {
    "duration": 853,
    "start_time": "2021-06-17T15:27:30.418Z"
   },
   {
    "duration": 63,
    "start_time": "2021-06-17T15:27:31.274Z"
   },
   {
    "duration": 729,
    "start_time": "2021-06-17T15:27:31.340Z"
   },
   {
    "duration": 333,
    "start_time": "2021-06-17T15:27:32.072Z"
   },
   {
    "duration": 1078,
    "start_time": "2021-06-17T15:27:32.408Z"
   },
   {
    "duration": 884,
    "start_time": "2021-06-17T15:27:33.488Z"
   },
   {
    "duration": 677,
    "start_time": "2021-06-17T15:27:34.374Z"
   },
   {
    "duration": 333,
    "start_time": "2021-06-17T15:27:35.054Z"
   },
   {
    "duration": 550,
    "start_time": "2021-06-17T15:27:35.390Z"
   },
   {
    "duration": 317,
    "start_time": "2021-06-17T15:27:35.942Z"
   },
   {
    "duration": 690,
    "start_time": "2021-06-17T15:27:36.262Z"
   },
   {
    "duration": 235,
    "start_time": "2021-06-17T15:27:36.954Z"
   },
   {
    "duration": 547,
    "start_time": "2021-06-17T15:27:37.191Z"
   },
   {
    "duration": 15,
    "start_time": "2021-06-17T15:27:37.742Z"
   },
   {
    "duration": 29,
    "start_time": "2021-06-17T15:27:37.760Z"
   },
   {
    "duration": 15,
    "start_time": "2021-06-17T15:30:37.476Z"
   },
   {
    "duration": 7,
    "start_time": "2021-06-17T16:30:24.345Z"
   },
   {
    "duration": 323,
    "start_time": "2021-06-17T16:41:35.310Z"
   },
   {
    "duration": 10,
    "start_time": "2021-06-17T16:45:43.738Z"
   },
   {
    "duration": 399,
    "start_time": "2021-06-17T16:47:13.976Z"
   },
   {
    "duration": 9,
    "start_time": "2021-06-17T16:47:51.483Z"
   },
   {
    "duration": 11,
    "start_time": "2021-06-17T16:48:28.495Z"
   },
   {
    "duration": 10,
    "start_time": "2021-06-17T16:48:48.961Z"
   },
   {
    "duration": 11,
    "start_time": "2021-06-17T16:55:21.746Z"
   },
   {
    "duration": 318,
    "start_time": "2021-06-17T16:57:43.853Z"
   },
   {
    "duration": 24,
    "start_time": "2021-06-17T16:58:24.521Z"
   },
   {
    "duration": 14,
    "start_time": "2021-06-17T17:02:42.980Z"
   },
   {
    "duration": 12,
    "start_time": "2021-06-17T17:03:01.208Z"
   },
   {
    "duration": 23,
    "start_time": "2021-06-17T17:04:15.747Z"
   },
   {
    "duration": 11,
    "start_time": "2021-06-17T17:08:10.444Z"
   },
   {
    "duration": 20,
    "start_time": "2021-06-17T17:17:27.165Z"
   },
   {
    "duration": 338,
    "start_time": "2021-06-17T17:18:04.154Z"
   },
   {
    "duration": 19,
    "start_time": "2021-06-17T17:18:40.719Z"
   },
   {
    "duration": 341,
    "start_time": "2021-06-17T17:26:26.186Z"
   },
   {
    "duration": 335,
    "start_time": "2021-06-17T17:26:50.776Z"
   },
   {
    "duration": 414,
    "start_time": "2021-06-17T17:28:44.771Z"
   },
   {
    "duration": 22,
    "start_time": "2021-06-17T17:29:24.651Z"
   },
   {
    "duration": 340,
    "start_time": "2021-06-17T17:36:08.079Z"
   },
   {
    "duration": 19,
    "start_time": "2021-06-17T17:36:29.848Z"
   },
   {
    "duration": 23,
    "start_time": "2021-06-17T17:38:31.341Z"
   },
   {
    "duration": 22,
    "start_time": "2021-06-17T17:40:21.282Z"
   },
   {
    "duration": 18,
    "start_time": "2021-06-17T17:41:15.045Z"
   },
   {
    "duration": 28,
    "start_time": "2021-06-17T17:41:47.626Z"
   },
   {
    "duration": 74,
    "start_time": "2021-06-17T17:42:35.630Z"
   },
   {
    "duration": 53,
    "start_time": "2021-06-17T17:47:17.465Z"
   },
   {
    "duration": 52,
    "start_time": "2021-06-17T17:47:34.239Z"
   },
   {
    "duration": 5,
    "start_time": "2021-06-17T17:48:36.039Z"
   },
   {
    "duration": 39,
    "start_time": "2021-06-17T17:50:32.357Z"
   },
   {
    "duration": 298,
    "start_time": "2021-06-17T17:55:02.961Z"
   },
   {
    "duration": 7,
    "start_time": "2021-06-17T17:56:18.110Z"
   },
   {
    "duration": 38,
    "start_time": "2021-06-17T17:57:50.437Z"
   },
   {
    "duration": 39,
    "start_time": "2021-06-17T17:58:05.158Z"
   },
   {
    "duration": 1080,
    "start_time": "2021-06-18T12:34:54.862Z"
   },
   {
    "duration": 43,
    "start_time": "2021-06-18T12:34:55.945Z"
   },
   {
    "duration": 9,
    "start_time": "2021-06-18T12:34:55.991Z"
   },
   {
    "duration": 56,
    "start_time": "2021-06-18T12:34:56.003Z"
   },
   {
    "duration": 40,
    "start_time": "2021-06-18T12:34:56.061Z"
   },
   {
    "duration": 14,
    "start_time": "2021-06-18T12:34:56.103Z"
   },
   {
    "duration": 33,
    "start_time": "2021-06-18T12:34:56.119Z"
   },
   {
    "duration": 20,
    "start_time": "2021-06-18T12:34:56.185Z"
   },
   {
    "duration": 6,
    "start_time": "2021-06-18T12:34:56.208Z"
   },
   {
    "duration": 846,
    "start_time": "2021-06-18T12:34:56.217Z"
   },
   {
    "duration": 70,
    "start_time": "2021-06-18T12:34:57.066Z"
   },
   {
    "duration": 865,
    "start_time": "2021-06-18T12:34:57.138Z"
   },
   {
    "duration": 357,
    "start_time": "2021-06-18T12:34:58.006Z"
   },
   {
    "duration": 1086,
    "start_time": "2021-06-18T12:34:58.365Z"
   },
   {
    "duration": 878,
    "start_time": "2021-06-18T12:34:59.454Z"
   },
   {
    "duration": 730,
    "start_time": "2021-06-18T12:35:00.334Z"
   },
   {
    "duration": 360,
    "start_time": "2021-06-18T12:35:01.066Z"
   },
   {
    "duration": 596,
    "start_time": "2021-06-18T12:35:01.428Z"
   },
   {
    "duration": 341,
    "start_time": "2021-06-18T12:35:02.026Z"
   },
   {
    "duration": 716,
    "start_time": "2021-06-18T12:35:02.369Z"
   },
   {
    "duration": 235,
    "start_time": "2021-06-18T12:35:03.087Z"
   },
   {
    "duration": 591,
    "start_time": "2021-06-18T12:35:03.325Z"
   },
   {
    "duration": 19,
    "start_time": "2021-06-18T12:35:03.923Z"
   },
   {
    "duration": 45,
    "start_time": "2021-06-18T12:35:03.945Z"
   },
   {
    "duration": 6,
    "start_time": "2021-06-18T12:35:03.993Z"
   },
   {
    "duration": 17,
    "start_time": "2021-06-18T12:35:04.002Z"
   },
   {
    "duration": 27,
    "start_time": "2021-06-18T12:35:04.022Z"
   },
   {
    "duration": 48,
    "start_time": "2021-06-18T12:35:04.052Z"
   },
   {
    "duration": 24,
    "start_time": "2021-06-18T12:35:04.103Z"
   },
   {
    "duration": 75,
    "start_time": "2021-06-18T12:35:04.130Z"
   },
   {
    "duration": 8,
    "start_time": "2021-06-18T12:35:04.207Z"
   },
   {
    "duration": 42,
    "start_time": "2021-06-18T13:35:41.289Z"
   },
   {
    "duration": 1594,
    "start_time": "2021-06-18T13:35:47.311Z"
   },
   {
    "duration": 36,
    "start_time": "2021-06-18T13:35:48.908Z"
   },
   {
    "duration": 10,
    "start_time": "2021-06-18T13:35:48.947Z"
   },
   {
    "duration": 70,
    "start_time": "2021-06-18T13:35:48.959Z"
   },
   {
    "duration": 17,
    "start_time": "2021-06-18T13:35:49.032Z"
   },
   {
    "duration": 34,
    "start_time": "2021-06-18T13:35:49.051Z"
   },
   {
    "duration": 27,
    "start_time": "2021-06-18T13:35:49.088Z"
   },
   {
    "duration": 19,
    "start_time": "2021-06-18T13:35:49.117Z"
   },
   {
    "duration": 4,
    "start_time": "2021-06-18T13:35:49.140Z"
   },
   {
    "duration": 950,
    "start_time": "2021-06-18T13:35:49.149Z"
   },
   {
    "duration": 58,
    "start_time": "2021-06-18T13:35:50.101Z"
   },
   {
    "duration": 895,
    "start_time": "2021-06-18T13:35:50.162Z"
   },
   {
    "duration": 346,
    "start_time": "2021-06-18T13:35:51.060Z"
   },
   {
    "duration": 1070,
    "start_time": "2021-06-18T13:35:51.409Z"
   },
   {
    "duration": 939,
    "start_time": "2021-06-18T13:35:52.485Z"
   },
   {
    "duration": 628,
    "start_time": "2021-06-18T13:35:53.426Z"
   },
   {
    "duration": 348,
    "start_time": "2021-06-18T13:35:54.056Z"
   },
   {
    "duration": 571,
    "start_time": "2021-06-18T13:35:54.406Z"
   },
   {
    "duration": 336,
    "start_time": "2021-06-18T13:35:54.985Z"
   },
   {
    "duration": 825,
    "start_time": "2021-06-18T13:35:55.323Z"
   },
   {
    "duration": 235,
    "start_time": "2021-06-18T13:35:56.151Z"
   },
   {
    "duration": 681,
    "start_time": "2021-06-18T13:35:56.389Z"
   },
   {
    "duration": 26,
    "start_time": "2021-06-18T13:35:57.073Z"
   },
   {
    "duration": 14,
    "start_time": "2021-06-18T13:35:57.102Z"
   },
   {
    "duration": 5,
    "start_time": "2021-06-18T13:35:57.118Z"
   },
   {
    "duration": 12,
    "start_time": "2021-06-18T13:35:57.126Z"
   },
   {
    "duration": 62,
    "start_time": "2021-06-18T13:35:57.143Z"
   },
   {
    "duration": 17,
    "start_time": "2021-06-18T13:35:57.208Z"
   },
   {
    "duration": 21,
    "start_time": "2021-06-18T13:35:57.227Z"
   },
   {
    "duration": 72,
    "start_time": "2021-06-18T13:35:57.250Z"
   },
   {
    "duration": 7,
    "start_time": "2021-06-18T13:35:57.324Z"
   },
   {
    "duration": 407,
    "start_time": "2021-06-18T13:36:45.307Z"
   },
   {
    "duration": 41,
    "start_time": "2021-06-18T13:37:05.086Z"
   },
   {
    "duration": 39,
    "start_time": "2021-06-18T13:37:11.565Z"
   },
   {
    "duration": 40,
    "start_time": "2021-06-18T13:37:28.125Z"
   },
   {
    "duration": 8,
    "start_time": "2021-06-18T13:37:29.967Z"
   },
   {
    "duration": 312,
    "start_time": "2021-06-18T13:42:53.542Z"
   },
   {
    "duration": 18,
    "start_time": "2021-06-18T13:47:48.379Z"
   },
   {
    "duration": 321,
    "start_time": "2021-06-18T13:49:07.991Z"
   },
   {
    "duration": 18,
    "start_time": "2021-06-18T13:49:34.335Z"
   },
   {
    "duration": 17,
    "start_time": "2021-06-18T13:55:28.421Z"
   },
   {
    "duration": 324,
    "start_time": "2021-06-18T13:56:11.423Z"
   },
   {
    "duration": 41,
    "start_time": "2021-06-18T13:56:50.537Z"
   },
   {
    "duration": 18,
    "start_time": "2021-06-18T13:57:02.250Z"
   },
   {
    "duration": 7837,
    "start_time": "2021-06-18T14:11:58.020Z"
   },
   {
    "duration": 417,
    "start_time": "2021-06-18T14:13:11.869Z"
   },
   {
    "duration": 298,
    "start_time": "2021-06-18T14:13:44.371Z"
   },
   {
    "duration": 411,
    "start_time": "2021-06-18T14:14:07.977Z"
   },
   {
    "duration": 438,
    "start_time": "2021-06-18T15:29:33.772Z"
   },
   {
    "duration": 474,
    "start_time": "2021-06-18T15:30:02.745Z"
   },
   {
    "duration": 339,
    "start_time": "2021-06-18T15:39:29.470Z"
   },
   {
    "duration": 312,
    "start_time": "2021-06-18T15:40:11.009Z"
   },
   {
    "duration": 323,
    "start_time": "2021-06-18T15:40:31.976Z"
   },
   {
    "duration": 490,
    "start_time": "2021-06-18T15:41:18.601Z"
   },
   {
    "duration": 139,
    "start_time": "2021-06-18T15:41:57.384Z"
   },
   {
    "duration": 37,
    "start_time": "2021-06-18T15:41:57.651Z"
   },
   {
    "duration": 11,
    "start_time": "2021-06-18T15:41:57.691Z"
   },
   {
    "duration": 46,
    "start_time": "2021-06-18T15:41:57.707Z"
   },
   {
    "duration": 42,
    "start_time": "2021-06-18T15:41:57.756Z"
   },
   {
    "duration": 12,
    "start_time": "2021-06-18T15:41:57.801Z"
   },
   {
    "duration": 33,
    "start_time": "2021-06-18T15:41:57.815Z"
   },
   {
    "duration": 20,
    "start_time": "2021-06-18T15:41:58.254Z"
   },
   {
    "duration": 6,
    "start_time": "2021-06-18T15:41:58.278Z"
   },
   {
    "duration": 860,
    "start_time": "2021-06-18T15:41:58.287Z"
   },
   {
    "duration": 68,
    "start_time": "2021-06-18T15:41:59.150Z"
   },
   {
    "duration": 800,
    "start_time": "2021-06-18T15:41:59.221Z"
   },
   {
    "duration": 338,
    "start_time": "2021-06-18T15:42:00.024Z"
   },
   {
    "duration": 1091,
    "start_time": "2021-06-18T15:42:00.365Z"
   },
   {
    "duration": 860,
    "start_time": "2021-06-18T15:42:01.460Z"
   },
   {
    "duration": 730,
    "start_time": "2021-06-18T15:42:02.324Z"
   },
   {
    "duration": 349,
    "start_time": "2021-06-18T15:42:03.056Z"
   },
   {
    "duration": 607,
    "start_time": "2021-06-18T15:42:03.408Z"
   },
   {
    "duration": 468,
    "start_time": "2021-06-18T15:42:04.018Z"
   },
   {
    "duration": 902,
    "start_time": "2021-06-18T15:42:04.489Z"
   },
   {
    "duration": 236,
    "start_time": "2021-06-18T15:42:05.394Z"
   },
   {
    "duration": 590,
    "start_time": "2021-06-18T15:42:05.633Z"
   },
   {
    "duration": 16,
    "start_time": "2021-06-18T15:42:06.226Z"
   },
   {
    "duration": 132,
    "start_time": "2021-06-18T15:42:06.244Z"
   },
   {
    "duration": 14,
    "start_time": "2021-06-18T15:42:06.386Z"
   },
   {
    "duration": 20,
    "start_time": "2021-06-18T15:42:06.403Z"
   },
   {
    "duration": 28,
    "start_time": "2021-06-18T15:42:06.426Z"
   },
   {
    "duration": 30,
    "start_time": "2021-06-18T15:42:06.457Z"
   },
   {
    "duration": 21,
    "start_time": "2021-06-18T15:42:06.492Z"
   },
   {
    "duration": 38,
    "start_time": "2021-06-18T15:42:06.516Z"
   },
   {
    "duration": 501,
    "start_time": "2021-06-18T15:42:06.556Z"
   },
   {
    "duration": 680,
    "start_time": "2021-06-18T15:44:24.639Z"
   },
   {
    "duration": 419,
    "start_time": "2021-06-18T15:45:38.777Z"
   },
   {
    "duration": 158,
    "start_time": "2021-06-18T15:45:49.860Z"
   },
   {
    "duration": 37,
    "start_time": "2021-06-18T15:45:50.021Z"
   },
   {
    "duration": 10,
    "start_time": "2021-06-18T15:45:50.085Z"
   },
   {
    "duration": 48,
    "start_time": "2021-06-18T15:45:50.098Z"
   },
   {
    "duration": 38,
    "start_time": "2021-06-18T15:45:50.148Z"
   },
   {
    "duration": 13,
    "start_time": "2021-06-18T15:45:50.188Z"
   },
   {
    "duration": 45,
    "start_time": "2021-06-18T15:45:50.203Z"
   },
   {
    "duration": 35,
    "start_time": "2021-06-18T15:45:50.252Z"
   },
   {
    "duration": 5,
    "start_time": "2021-06-18T15:45:50.290Z"
   },
   {
    "duration": 803,
    "start_time": "2021-06-18T15:45:50.298Z"
   },
   {
    "duration": 58,
    "start_time": "2021-06-18T15:45:51.103Z"
   },
   {
    "duration": 731,
    "start_time": "2021-06-18T15:45:51.186Z"
   },
   {
    "duration": 341,
    "start_time": "2021-06-18T15:45:51.919Z"
   },
   {
    "duration": 1088,
    "start_time": "2021-06-18T15:45:52.262Z"
   },
   {
    "duration": 856,
    "start_time": "2021-06-18T15:45:53.352Z"
   },
   {
    "duration": 601,
    "start_time": "2021-06-18T15:45:54.210Z"
   },
   {
    "duration": 349,
    "start_time": "2021-06-18T15:45:54.813Z"
   },
   {
    "duration": 624,
    "start_time": "2021-06-18T15:45:55.164Z"
   },
   {
    "duration": 420,
    "start_time": "2021-06-18T15:45:55.792Z"
   },
   {
    "duration": 706,
    "start_time": "2021-06-18T15:45:56.215Z"
   },
   {
    "duration": 238,
    "start_time": "2021-06-18T15:45:56.924Z"
   },
   {
    "duration": 691,
    "start_time": "2021-06-18T15:45:57.164Z"
   },
   {
    "duration": 28,
    "start_time": "2021-06-18T15:45:57.859Z"
   },
   {
    "duration": 15,
    "start_time": "2021-06-18T15:45:57.890Z"
   },
   {
    "duration": 7,
    "start_time": "2021-06-18T15:45:57.907Z"
   },
   {
    "duration": 15,
    "start_time": "2021-06-18T15:45:57.916Z"
   },
   {
    "duration": 62,
    "start_time": "2021-06-18T15:45:57.933Z"
   },
   {
    "duration": 21,
    "start_time": "2021-06-18T15:45:57.997Z"
   },
   {
    "duration": 19,
    "start_time": "2021-06-18T15:45:58.020Z"
   },
   {
    "duration": 70,
    "start_time": "2021-06-18T15:45:58.042Z"
   },
   {
    "duration": 466,
    "start_time": "2021-06-18T15:45:58.115Z"
   },
   {
    "duration": 420,
    "start_time": "2021-06-18T15:47:24.869Z"
   },
   {
    "duration": 663,
    "start_time": "2021-06-18T15:48:07.012Z"
   },
   {
    "duration": 9161,
    "start_time": "2021-06-18T15:48:46.755Z"
   },
   {
    "duration": 161,
    "start_time": "2021-06-18T15:49:03.567Z"
   },
   {
    "duration": 59,
    "start_time": "2021-06-18T15:49:03.731Z"
   },
   {
    "duration": 9,
    "start_time": "2021-06-18T15:49:03.793Z"
   },
   {
    "duration": 53,
    "start_time": "2021-06-18T15:49:03.805Z"
   },
   {
    "duration": 38,
    "start_time": "2021-06-18T15:49:03.861Z"
   },
   {
    "duration": 12,
    "start_time": "2021-06-18T15:49:03.902Z"
   },
   {
    "duration": 36,
    "start_time": "2021-06-18T15:49:03.916Z"
   },
   {
    "duration": 43,
    "start_time": "2021-06-18T15:49:03.956Z"
   },
   {
    "duration": 6,
    "start_time": "2021-06-18T15:49:04.002Z"
   },
   {
    "duration": 1026,
    "start_time": "2021-06-18T15:49:04.010Z"
   },
   {
    "duration": 73,
    "start_time": "2021-06-18T15:49:05.039Z"
   },
   {
    "duration": 793,
    "start_time": "2021-06-18T15:49:05.114Z"
   },
   {
    "duration": 355,
    "start_time": "2021-06-18T15:49:05.909Z"
   },
   {
    "duration": 1082,
    "start_time": "2021-06-18T15:49:06.266Z"
   },
   {
    "duration": 1081,
    "start_time": "2021-06-18T15:49:07.351Z"
   },
   {
    "duration": 636,
    "start_time": "2021-06-18T15:49:08.435Z"
   },
   {
    "duration": 364,
    "start_time": "2021-06-18T15:49:09.073Z"
   },
   {
    "duration": 624,
    "start_time": "2021-06-18T15:49:09.440Z"
   },
   {
    "duration": 380,
    "start_time": "2021-06-18T15:49:10.067Z"
   },
   {
    "duration": 756,
    "start_time": "2021-06-18T15:49:10.449Z"
   },
   {
    "duration": 291,
    "start_time": "2021-06-18T15:49:11.209Z"
   },
   {
    "duration": 718,
    "start_time": "2021-06-18T15:49:11.503Z"
   },
   {
    "duration": 16,
    "start_time": "2021-06-18T15:49:12.226Z"
   },
   {
    "duration": 44,
    "start_time": "2021-06-18T15:49:12.245Z"
   },
   {
    "duration": 7,
    "start_time": "2021-06-18T15:49:12.292Z"
   },
   {
    "duration": 14,
    "start_time": "2021-06-18T15:49:12.302Z"
   },
   {
    "duration": 22,
    "start_time": "2021-06-18T15:49:12.319Z"
   },
   {
    "duration": 55,
    "start_time": "2021-06-18T15:49:12.343Z"
   },
   {
    "duration": 22,
    "start_time": "2021-06-18T15:49:12.401Z"
   },
   {
    "duration": 73,
    "start_time": "2021-06-18T15:49:12.426Z"
   },
   {
    "duration": 9194,
    "start_time": "2021-06-18T15:49:12.502Z"
   },
   {
    "duration": 443,
    "start_time": "2021-06-18T15:49:37.104Z"
   },
   {
    "duration": 58,
    "start_time": "2021-06-18T15:49:56.053Z"
   },
   {
    "duration": 454,
    "start_time": "2021-06-18T15:50:59.868Z"
   },
   {
    "duration": 65,
    "start_time": "2021-06-18T15:51:43.369Z"
   },
   {
    "duration": 160,
    "start_time": "2021-06-18T15:51:54.593Z"
   },
   {
    "duration": 59,
    "start_time": "2021-06-18T15:51:54.757Z"
   },
   {
    "duration": 11,
    "start_time": "2021-06-18T15:51:54.820Z"
   },
   {
    "duration": 71,
    "start_time": "2021-06-18T15:51:54.834Z"
   },
   {
    "duration": 19,
    "start_time": "2021-06-18T15:51:54.908Z"
   },
   {
    "duration": 14,
    "start_time": "2021-06-18T15:51:54.930Z"
   },
   {
    "duration": 60,
    "start_time": "2021-06-18T15:51:54.947Z"
   },
   {
    "duration": 20,
    "start_time": "2021-06-18T15:51:55.013Z"
   },
   {
    "duration": 6,
    "start_time": "2021-06-18T15:51:55.037Z"
   },
   {
    "duration": 858,
    "start_time": "2021-06-18T15:51:55.046Z"
   },
   {
    "duration": 57,
    "start_time": "2021-06-18T15:51:55.906Z"
   },
   {
    "duration": 786,
    "start_time": "2021-06-18T15:51:55.966Z"
   },
   {
    "duration": 355,
    "start_time": "2021-06-18T15:51:56.754Z"
   },
   {
    "duration": 1174,
    "start_time": "2021-06-18T15:51:57.111Z"
   },
   {
    "duration": 858,
    "start_time": "2021-06-18T15:51:58.288Z"
   },
   {
    "duration": 625,
    "start_time": "2021-06-18T15:51:59.148Z"
   },
   {
    "duration": 349,
    "start_time": "2021-06-18T15:51:59.775Z"
   },
   {
    "duration": 590,
    "start_time": "2021-06-18T15:52:00.126Z"
   },
   {
    "duration": 472,
    "start_time": "2021-06-18T15:52:00.719Z"
   },
   {
    "duration": 726,
    "start_time": "2021-06-18T15:52:01.193Z"
   },
   {
    "duration": 227,
    "start_time": "2021-06-18T15:52:01.921Z"
   },
   {
    "duration": 593,
    "start_time": "2021-06-18T15:52:02.150Z"
   },
   {
    "duration": 15,
    "start_time": "2021-06-18T15:52:02.747Z"
   },
   {
    "duration": 31,
    "start_time": "2021-06-18T15:52:02.765Z"
   },
   {
    "duration": 10,
    "start_time": "2021-06-18T15:52:02.798Z"
   },
   {
    "duration": 17,
    "start_time": "2021-06-18T15:52:02.810Z"
   },
   {
    "duration": 23,
    "start_time": "2021-06-18T15:52:02.830Z"
   },
   {
    "duration": 17,
    "start_time": "2021-06-18T15:52:02.886Z"
   },
   {
    "duration": 25,
    "start_time": "2021-06-18T15:52:02.906Z"
   },
   {
    "duration": 70,
    "start_time": "2021-06-18T15:52:02.934Z"
   },
   {
    "duration": 67,
    "start_time": "2021-06-18T15:52:03.007Z"
   },
   {
    "duration": 701,
    "start_time": "2021-06-18T15:54:09.317Z"
   },
   {
    "duration": 52,
    "start_time": "2021-06-18T15:56:54.372Z"
   },
   {
    "duration": 20,
    "start_time": "2021-06-18T15:57:16.642Z"
   },
   {
    "duration": 759,
    "start_time": "2021-06-18T16:02:47.607Z"
   },
   {
    "duration": 892,
    "start_time": "2021-06-18T16:04:34.334Z"
   },
   {
    "duration": 646,
    "start_time": "2021-06-18T16:06:22.292Z"
   },
   {
    "duration": 571,
    "start_time": "2021-06-18T16:06:46.155Z"
   },
   {
    "duration": 626,
    "start_time": "2021-06-18T16:06:55.480Z"
   },
   {
    "duration": 387,
    "start_time": "2021-06-18T16:07:22.710Z"
   },
   {
    "duration": 359,
    "start_time": "2021-06-18T16:08:34.217Z"
   },
   {
    "duration": 989,
    "start_time": "2021-06-18T16:12:09.536Z"
   },
   {
    "duration": 864,
    "start_time": "2021-06-18T16:12:36.223Z"
   },
   {
    "duration": 825,
    "start_time": "2021-06-18T16:12:47.148Z"
   },
   {
    "duration": 922,
    "start_time": "2021-06-18T16:13:10.349Z"
   },
   {
    "duration": 1294,
    "start_time": "2021-06-18T16:15:50.394Z"
   },
   {
    "duration": 467,
    "start_time": "2021-06-18T16:16:14.550Z"
   },
   {
    "duration": 374,
    "start_time": "2021-06-18T16:16:29.445Z"
   },
   {
    "duration": 325,
    "start_time": "2021-06-18T16:19:15.493Z"
   },
   {
    "duration": 346,
    "start_time": "2021-06-18T16:20:27.600Z"
   },
   {
    "duration": 370,
    "start_time": "2021-06-18T16:20:34.588Z"
   },
   {
    "duration": 368,
    "start_time": "2021-06-18T16:20:43.385Z"
   },
   {
    "duration": 450,
    "start_time": "2021-06-18T16:21:16.330Z"
   },
   {
    "duration": 320,
    "start_time": "2021-06-18T16:27:17.505Z"
   },
   {
    "duration": 322,
    "start_time": "2021-06-18T16:27:34.388Z"
   },
   {
    "duration": 330,
    "start_time": "2021-06-18T16:27:45.958Z"
   },
   {
    "duration": 318,
    "start_time": "2021-06-18T16:28:04.359Z"
   },
   {
    "duration": 327,
    "start_time": "2021-06-18T16:28:17.850Z"
   },
   {
    "duration": 102,
    "start_time": "2021-06-18T16:34:17.630Z"
   },
   {
    "duration": 347,
    "start_time": "2021-06-18T16:34:25.560Z"
   },
   {
    "duration": 318,
    "start_time": "2021-06-18T16:35:34.546Z"
   },
   {
    "duration": 349,
    "start_time": "2021-06-18T16:35:44.260Z"
   },
   {
    "duration": 319,
    "start_time": "2021-06-18T16:35:56.036Z"
   },
   {
    "duration": 642,
    "start_time": "2021-06-18T16:37:36.957Z"
   },
   {
    "duration": 757,
    "start_time": "2021-06-18T16:37:45.923Z"
   },
   {
    "duration": 134,
    "start_time": "2021-06-18T16:37:56.401Z"
   },
   {
    "duration": 51,
    "start_time": "2021-06-18T16:37:56.538Z"
   },
   {
    "duration": 10,
    "start_time": "2021-06-18T16:37:56.592Z"
   },
   {
    "duration": 41,
    "start_time": "2021-06-18T16:37:56.604Z"
   },
   {
    "duration": 48,
    "start_time": "2021-06-18T16:37:56.647Z"
   },
   {
    "duration": 13,
    "start_time": "2021-06-18T16:37:56.697Z"
   },
   {
    "duration": 33,
    "start_time": "2021-06-18T16:37:56.713Z"
   },
   {
    "duration": 44,
    "start_time": "2021-06-18T16:37:56.750Z"
   },
   {
    "duration": 6,
    "start_time": "2021-06-18T16:37:56.797Z"
   },
   {
    "duration": 873,
    "start_time": "2021-06-18T16:37:56.806Z"
   },
   {
    "duration": 70,
    "start_time": "2021-06-18T16:37:57.685Z"
   },
   {
    "duration": 773,
    "start_time": "2021-06-18T16:37:57.758Z"
   },
   {
    "duration": 353,
    "start_time": "2021-06-18T16:37:58.534Z"
   },
   {
    "duration": 1333,
    "start_time": "2021-06-18T16:37:58.889Z"
   },
   {
    "duration": 353,
    "start_time": "2021-06-18T16:38:00.224Z"
   },
   {
    "duration": 631,
    "start_time": "2021-06-18T16:38:00.585Z"
   },
   {
    "duration": 351,
    "start_time": "2021-06-18T16:38:01.218Z"
   },
   {
    "duration": 590,
    "start_time": "2021-06-18T16:38:01.572Z"
   },
   {
    "duration": 329,
    "start_time": "2021-06-18T16:38:02.166Z"
   },
   {
    "duration": 812,
    "start_time": "2021-06-18T16:38:02.497Z"
   },
   {
    "duration": 221,
    "start_time": "2021-06-18T16:38:03.312Z"
   },
   {
    "duration": 688,
    "start_time": "2021-06-18T16:38:03.536Z"
   },
   {
    "duration": 19,
    "start_time": "2021-06-18T16:38:04.227Z"
   },
   {
    "duration": 42,
    "start_time": "2021-06-18T16:38:04.249Z"
   },
   {
    "duration": 6,
    "start_time": "2021-06-18T16:38:04.294Z"
   },
   {
    "duration": 14,
    "start_time": "2021-06-18T16:38:04.303Z"
   },
   {
    "duration": 23,
    "start_time": "2021-06-18T16:38:04.320Z"
   },
   {
    "duration": 21,
    "start_time": "2021-06-18T16:38:04.387Z"
   },
   {
    "duration": 20,
    "start_time": "2021-06-18T16:38:04.411Z"
   },
   {
    "duration": 75,
    "start_time": "2021-06-18T16:38:04.434Z"
   },
   {
    "duration": 626,
    "start_time": "2021-06-18T16:38:04.512Z"
   },
   {
    "duration": 20,
    "start_time": "2021-06-18T16:38:05.140Z"
   },
   {
    "duration": 399,
    "start_time": "2021-06-18T16:38:05.162Z"
   },
   {
    "duration": 438,
    "start_time": "2021-06-18T16:38:05.563Z"
   },
   {
    "duration": 373,
    "start_time": "2021-06-18T16:38:06.003Z"
   },
   {
    "duration": 350,
    "start_time": "2021-06-18T16:38:06.386Z"
   },
   {
    "duration": 401,
    "start_time": "2021-06-18T16:38:33.980Z"
   },
   {
    "duration": 14,
    "start_time": "2021-06-18T16:49:27.567Z"
   },
   {
    "duration": 16,
    "start_time": "2021-06-18T16:51:58.736Z"
   },
   {
    "duration": 14,
    "start_time": "2021-06-18T16:52:37.581Z"
   },
   {
    "duration": 421,
    "start_time": "2021-06-18T16:53:07.567Z"
   },
   {
    "duration": 8219,
    "start_time": "2021-06-18T17:06:06.363Z"
   },
   {
    "duration": 3466,
    "start_time": "2021-06-18T17:07:49.231Z"
   },
   {
    "duration": 132,
    "start_time": "2021-06-18T17:09:29.977Z"
   },
   {
    "duration": 3254,
    "start_time": "2021-06-18T17:09:44.027Z"
   },
   {
    "duration": 3308,
    "start_time": "2021-06-18T17:10:47.772Z"
   },
   {
    "duration": 486,
    "start_time": "2021-06-18T17:11:51.065Z"
   },
   {
    "duration": 616,
    "start_time": "2021-06-18T17:15:22.184Z"
   },
   {
    "duration": 499,
    "start_time": "2021-06-18T17:16:07.279Z"
   },
   {
    "duration": 548,
    "start_time": "2021-06-18T17:16:29.745Z"
   },
   {
    "duration": 505,
    "start_time": "2021-06-18T17:16:42.465Z"
   },
   {
    "duration": 502,
    "start_time": "2021-06-18T17:16:53.521Z"
   },
   {
    "duration": 144,
    "start_time": "2021-06-18T17:44:13.988Z"
   },
   {
    "duration": 62,
    "start_time": "2021-06-18T17:44:14.135Z"
   },
   {
    "duration": 11,
    "start_time": "2021-06-18T17:44:14.202Z"
   },
   {
    "duration": 72,
    "start_time": "2021-06-18T17:44:14.217Z"
   },
   {
    "duration": 20,
    "start_time": "2021-06-18T17:44:14.292Z"
   },
   {
    "duration": 13,
    "start_time": "2021-06-18T17:44:14.315Z"
   },
   {
    "duration": 59,
    "start_time": "2021-06-18T17:44:14.331Z"
   },
   {
    "duration": 21,
    "start_time": "2021-06-18T17:44:14.396Z"
   },
   {
    "duration": 5,
    "start_time": "2021-06-18T17:44:14.420Z"
   },
   {
    "duration": 797,
    "start_time": "2021-06-18T17:44:14.427Z"
   },
   {
    "duration": 71,
    "start_time": "2021-06-18T17:44:15.226Z"
   },
   {
    "duration": 730,
    "start_time": "2021-06-18T17:44:15.300Z"
   },
   {
    "duration": 410,
    "start_time": "2021-06-18T17:44:16.032Z"
   },
   {
    "duration": 1050,
    "start_time": "2021-06-18T17:44:16.445Z"
   },
   {
    "duration": 330,
    "start_time": "2021-06-18T17:44:17.498Z"
   },
   {
    "duration": 594,
    "start_time": "2021-06-18T17:44:17.830Z"
   },
   {
    "duration": 342,
    "start_time": "2021-06-18T17:44:18.427Z"
   },
   {
    "duration": 761,
    "start_time": "2021-06-18T17:44:18.771Z"
   },
   {
    "duration": 430,
    "start_time": "2021-06-18T17:44:19.534Z"
   },
   {
    "duration": 689,
    "start_time": "2021-06-18T17:44:19.967Z"
   },
   {
    "duration": 219,
    "start_time": "2021-06-18T17:44:20.659Z"
   },
   {
    "duration": 573,
    "start_time": "2021-06-18T17:44:20.884Z"
   },
   {
    "duration": 32,
    "start_time": "2021-06-18T17:44:21.462Z"
   },
   {
    "duration": 15,
    "start_time": "2021-06-18T17:44:21.497Z"
   },
   {
    "duration": 10,
    "start_time": "2021-06-18T17:44:21.514Z"
   },
   {
    "duration": 12,
    "start_time": "2021-06-18T17:44:21.527Z"
   },
   {
    "duration": 56,
    "start_time": "2021-06-18T17:44:21.542Z"
   },
   {
    "duration": 20,
    "start_time": "2021-06-18T17:44:21.600Z"
   },
   {
    "duration": 21,
    "start_time": "2021-06-18T17:44:21.622Z"
   },
   {
    "duration": 70,
    "start_time": "2021-06-18T17:44:21.645Z"
   },
   {
    "duration": 401,
    "start_time": "2021-06-18T17:44:21.718Z"
   },
   {
    "duration": 10,
    "start_time": "2021-06-18T17:44:22.121Z"
   },
   {
    "duration": 372,
    "start_time": "2021-06-18T17:44:22.134Z"
   },
   {
    "duration": 382,
    "start_time": "2021-06-18T17:44:22.509Z"
   },
   {
    "duration": 342,
    "start_time": "2021-06-18T17:44:22.894Z"
   },
   {
    "duration": 348,
    "start_time": "2021-06-18T17:44:23.239Z"
   },
   {
    "duration": 14,
    "start_time": "2021-06-18T17:44:23.590Z"
   },
   {
    "duration": 112,
    "start_time": "2021-06-19T15:33:36.442Z"
   },
   {
    "duration": 111,
    "start_time": "2021-06-19T16:23:24.229Z"
   },
   {
    "duration": 335,
    "start_time": "2021-06-19T16:23:29.010Z"
   },
   {
    "duration": 959,
    "start_time": "2021-06-19T16:23:45.107Z"
   },
   {
    "duration": 47,
    "start_time": "2021-06-19T16:23:46.069Z"
   },
   {
    "duration": 10,
    "start_time": "2021-06-19T16:23:46.120Z"
   },
   {
    "duration": 67,
    "start_time": "2021-06-19T16:23:46.133Z"
   },
   {
    "duration": 20,
    "start_time": "2021-06-19T16:23:46.203Z"
   },
   {
    "duration": 14,
    "start_time": "2021-06-19T16:23:46.226Z"
   },
   {
    "duration": 45,
    "start_time": "2021-06-19T16:23:46.242Z"
   },
   {
    "duration": 8,
    "start_time": "2021-06-19T16:23:46.302Z"
   },
   {
    "duration": 32,
    "start_time": "2021-06-19T16:23:46.313Z"
   },
   {
    "duration": 5,
    "start_time": "2021-06-19T16:23:46.347Z"
   },
   {
    "duration": 786,
    "start_time": "2021-06-19T16:23:46.354Z"
   },
   {
    "duration": 73,
    "start_time": "2021-06-19T16:23:47.143Z"
   },
   {
    "duration": 822,
    "start_time": "2021-06-19T16:23:47.219Z"
   },
   {
    "duration": 620,
    "start_time": "2021-06-19T16:23:48.044Z"
   },
   {
    "duration": 1035,
    "start_time": "2021-06-19T16:23:48.666Z"
   },
   {
    "duration": 328,
    "start_time": "2021-06-19T16:23:49.704Z"
   },
   {
    "duration": 597,
    "start_time": "2021-06-19T16:23:50.035Z"
   },
   {
    "duration": 338,
    "start_time": "2021-06-19T16:23:50.635Z"
   },
   {
    "duration": 624,
    "start_time": "2021-06-19T16:23:50.976Z"
   },
   {
    "duration": 359,
    "start_time": "2021-06-19T16:23:51.603Z"
   },
   {
    "duration": 778,
    "start_time": "2021-06-19T16:23:51.964Z"
   },
   {
    "duration": 221,
    "start_time": "2021-06-19T16:23:52.745Z"
   },
   {
    "duration": 558,
    "start_time": "2021-06-19T16:23:52.971Z"
   },
   {
    "duration": 16,
    "start_time": "2021-06-19T16:23:53.532Z"
   },
   {
    "duration": 13,
    "start_time": "2021-06-19T16:23:53.550Z"
   },
   {
    "duration": 38,
    "start_time": "2021-06-19T16:23:53.565Z"
   },
   {
    "duration": 11,
    "start_time": "2021-06-19T16:23:53.605Z"
   },
   {
    "duration": 23,
    "start_time": "2021-06-19T16:23:53.619Z"
   },
   {
    "duration": 17,
    "start_time": "2021-06-19T16:23:53.644Z"
   },
   {
    "duration": 58,
    "start_time": "2021-06-19T16:23:53.663Z"
   },
   {
    "duration": 38,
    "start_time": "2021-06-19T16:23:53.723Z"
   },
   {
    "duration": 435,
    "start_time": "2021-06-19T16:23:53.763Z"
   },
   {
    "duration": 10,
    "start_time": "2021-06-19T16:23:54.201Z"
   },
   {
    "duration": 371,
    "start_time": "2021-06-19T16:23:54.213Z"
   },
   {
    "duration": 384,
    "start_time": "2021-06-19T16:23:54.587Z"
   },
   {
    "duration": 386,
    "start_time": "2021-06-19T16:23:54.974Z"
   },
   {
    "duration": 344,
    "start_time": "2021-06-19T16:23:55.363Z"
   },
   {
    "duration": 14,
    "start_time": "2021-06-19T16:23:55.709Z"
   },
   {
    "duration": 9,
    "start_time": "2021-06-19T16:24:25.443Z"
   },
   {
    "duration": 963,
    "start_time": "2021-06-19T16:24:35.916Z"
   },
   {
    "duration": 47,
    "start_time": "2021-06-19T16:24:36.882Z"
   },
   {
    "duration": 9,
    "start_time": "2021-06-19T16:24:36.932Z"
   },
   {
    "duration": 94,
    "start_time": "2021-06-19T16:24:36.944Z"
   },
   {
    "duration": 74,
    "start_time": "2021-06-19T16:24:37.040Z"
   },
   {
    "duration": 13,
    "start_time": "2021-06-19T16:24:37.117Z"
   },
   {
    "duration": 68,
    "start_time": "2021-06-19T16:24:37.133Z"
   },
   {
    "duration": 26,
    "start_time": "2021-06-19T16:24:37.205Z"
   },
   {
    "duration": 71,
    "start_time": "2021-06-19T16:24:37.235Z"
   },
   {
    "duration": 5,
    "start_time": "2021-06-19T16:24:37.309Z"
   },
   {
    "duration": 987,
    "start_time": "2021-06-19T16:24:37.316Z"
   },
   {
    "duration": 57,
    "start_time": "2021-06-19T16:24:38.306Z"
   },
   {
    "duration": 792,
    "start_time": "2021-06-19T16:24:38.365Z"
   },
   {
    "duration": 320,
    "start_time": "2021-06-19T16:24:39.159Z"
   },
   {
    "duration": 1020,
    "start_time": "2021-06-19T16:24:39.481Z"
   },
   {
    "duration": 331,
    "start_time": "2021-06-19T16:24:40.504Z"
   },
   {
    "duration": 599,
    "start_time": "2021-06-19T16:24:40.838Z"
   },
   {
    "duration": 378,
    "start_time": "2021-06-19T16:24:41.440Z"
   },
   {
    "duration": 602,
    "start_time": "2021-06-19T16:24:41.820Z"
   },
   {
    "duration": 325,
    "start_time": "2021-06-19T16:24:42.425Z"
   },
   {
    "duration": 670,
    "start_time": "2021-06-19T16:24:42.753Z"
   },
   {
    "duration": 229,
    "start_time": "2021-06-19T16:24:43.426Z"
   },
   {
    "duration": 557,
    "start_time": "2021-06-19T16:24:43.661Z"
   },
   {
    "duration": 17,
    "start_time": "2021-06-19T16:24:44.221Z"
   },
   {
    "duration": 14,
    "start_time": "2021-06-19T16:24:44.240Z"
   },
   {
    "duration": 7,
    "start_time": "2021-06-19T16:24:44.257Z"
   },
   {
    "duration": 15,
    "start_time": "2021-06-19T16:24:44.302Z"
   },
   {
    "duration": 24,
    "start_time": "2021-06-19T16:24:44.320Z"
   },
   {
    "duration": 59,
    "start_time": "2021-06-19T16:24:44.347Z"
   },
   {
    "duration": 24,
    "start_time": "2021-06-19T16:24:44.409Z"
   },
   {
    "duration": 72,
    "start_time": "2021-06-19T16:24:44.436Z"
   },
   {
    "duration": 395,
    "start_time": "2021-06-19T16:24:44.511Z"
   },
   {
    "duration": 9,
    "start_time": "2021-06-19T16:24:44.909Z"
   },
   {
    "duration": 367,
    "start_time": "2021-06-19T16:24:44.920Z"
   },
   {
    "duration": 378,
    "start_time": "2021-06-19T16:24:45.289Z"
   },
   {
    "duration": 397,
    "start_time": "2021-06-19T16:24:45.669Z"
   },
   {
    "duration": 334,
    "start_time": "2021-06-19T16:24:46.068Z"
   },
   {
    "duration": 15,
    "start_time": "2021-06-19T16:24:46.404Z"
   },
   {
    "duration": 85,
    "start_time": "2021-06-19T17:25:23.744Z"
   },
   {
    "duration": 84,
    "start_time": "2021-06-19T17:37:37.307Z"
   },
   {
    "duration": 95,
    "start_time": "2021-06-19T17:37:41.129Z"
   },
   {
    "duration": 96,
    "start_time": "2021-06-19T17:38:27.148Z"
   },
   {
    "duration": 92,
    "start_time": "2021-06-19T17:40:28.516Z"
   },
   {
    "duration": 102,
    "start_time": "2021-06-19T17:40:55.229Z"
   },
   {
    "duration": 85,
    "start_time": "2021-06-19T17:42:07.940Z"
   },
   {
    "duration": 85,
    "start_time": "2021-06-19T17:42:28.995Z"
   },
   {
    "duration": 950,
    "start_time": "2021-06-20T05:52:14.628Z"
   },
   {
    "duration": 36,
    "start_time": "2021-06-20T05:52:15.583Z"
   },
   {
    "duration": 8,
    "start_time": "2021-06-20T05:52:15.623Z"
   },
   {
    "duration": 73,
    "start_time": "2021-06-20T05:52:15.634Z"
   },
   {
    "duration": 368,
    "start_time": "2021-06-20T05:52:15.710Z"
   },
   {
    "duration": -2128,
    "start_time": "2021-06-20T05:52:18.210Z"
   },
   {
    "duration": -2131,
    "start_time": "2021-06-20T05:52:18.216Z"
   },
   {
    "duration": -2138,
    "start_time": "2021-06-20T05:52:18.224Z"
   },
   {
    "duration": -2143,
    "start_time": "2021-06-20T05:52:18.231Z"
   },
   {
    "duration": -2150,
    "start_time": "2021-06-20T05:52:18.239Z"
   },
   {
    "duration": -2153,
    "start_time": "2021-06-20T05:52:18.244Z"
   },
   {
    "duration": -2160,
    "start_time": "2021-06-20T05:52:18.252Z"
   },
   {
    "duration": -2180,
    "start_time": "2021-06-20T05:52:18.274Z"
   },
   {
    "duration": -2186,
    "start_time": "2021-06-20T05:52:18.281Z"
   },
   {
    "duration": -2190,
    "start_time": "2021-06-20T05:52:18.287Z"
   },
   {
    "duration": -2195,
    "start_time": "2021-06-20T05:52:18.293Z"
   },
   {
    "duration": -2200,
    "start_time": "2021-06-20T05:52:18.299Z"
   },
   {
    "duration": -2204,
    "start_time": "2021-06-20T05:52:18.305Z"
   },
   {
    "duration": -2209,
    "start_time": "2021-06-20T05:52:18.311Z"
   },
   {
    "duration": -2214,
    "start_time": "2021-06-20T05:52:18.317Z"
   },
   {
    "duration": -2219,
    "start_time": "2021-06-20T05:52:18.324Z"
   },
   {
    "duration": -2226,
    "start_time": "2021-06-20T05:52:18.332Z"
   },
   {
    "duration": -2230,
    "start_time": "2021-06-20T05:52:18.338Z"
   },
   {
    "duration": -2237,
    "start_time": "2021-06-20T05:52:18.346Z"
   },
   {
    "duration": -2244,
    "start_time": "2021-06-20T05:52:18.354Z"
   },
   {
    "duration": -2253,
    "start_time": "2021-06-20T05:52:18.365Z"
   },
   {
    "duration": -2278,
    "start_time": "2021-06-20T05:52:18.391Z"
   },
   {
    "duration": -2287,
    "start_time": "2021-06-20T05:52:18.401Z"
   },
   {
    "duration": -2292,
    "start_time": "2021-06-20T05:52:18.408Z"
   },
   {
    "duration": -2298,
    "start_time": "2021-06-20T05:52:18.415Z"
   },
   {
    "duration": -2302,
    "start_time": "2021-06-20T05:52:18.420Z"
   },
   {
    "duration": -2310,
    "start_time": "2021-06-20T05:52:18.429Z"
   },
   {
    "duration": -2316,
    "start_time": "2021-06-20T05:52:18.437Z"
   },
   {
    "duration": -2321,
    "start_time": "2021-06-20T05:52:18.443Z"
   },
   {
    "duration": -2327,
    "start_time": "2021-06-20T05:52:18.450Z"
   },
   {
    "duration": -2334,
    "start_time": "2021-06-20T05:52:18.458Z"
   },
   {
    "duration": -2338,
    "start_time": "2021-06-20T05:52:18.464Z"
   },
   {
    "duration": 46,
    "start_time": "2021-06-20T05:52:50.340Z"
   },
   {
    "duration": 16,
    "start_time": "2021-06-20T05:53:07.567Z"
   },
   {
    "duration": 31,
    "start_time": "2021-06-20T05:53:19.795Z"
   },
   {
    "duration": 16,
    "start_time": "2021-06-20T05:55:52.191Z"
   },
   {
    "duration": 100,
    "start_time": "2021-06-20T05:56:42.234Z"
   },
   {
    "duration": 43,
    "start_time": "2021-06-20T05:56:49.769Z"
   },
   {
    "duration": 19,
    "start_time": "2021-06-20T06:00:19.932Z"
   },
   {
    "duration": 674,
    "start_time": "2021-06-20T06:02:25.652Z"
   },
   {
    "duration": 300,
    "start_time": "2021-06-20T06:04:56.484Z"
   },
   {
    "duration": 999,
    "start_time": "2021-06-20T06:06:40.703Z"
   },
   {
    "duration": 949,
    "start_time": "2021-06-20T06:07:32.647Z"
   },
   {
    "duration": 88,
    "start_time": "2021-06-20T06:11:49.043Z"
   },
   {
    "duration": 88,
    "start_time": "2021-06-20T06:12:32.139Z"
   },
   {
    "duration": 1029,
    "start_time": "2021-06-20T06:13:34.831Z"
   },
   {
    "duration": 998,
    "start_time": "2021-06-20T06:14:31.198Z"
   },
   {
    "duration": 1002,
    "start_time": "2021-06-20T06:15:04.750Z"
   },
   {
    "duration": 1087,
    "start_time": "2021-06-20T06:15:24.799Z"
   },
   {
    "duration": 88,
    "start_time": "2021-06-20T06:17:18.635Z"
   },
   {
    "duration": 3452,
    "start_time": "2021-06-20T06:17:30.601Z"
   },
   {
    "duration": 1187,
    "start_time": "2021-06-20T06:17:57.979Z"
   },
   {
    "duration": 1121,
    "start_time": "2021-06-20T06:18:44.909Z"
   },
   {
    "duration": 1042,
    "start_time": "2021-06-20T06:18:58.684Z"
   },
   {
    "duration": 118,
    "start_time": "2021-06-20T06:20:50.375Z"
   },
   {
    "duration": 978,
    "start_time": "2021-06-20T06:21:19.287Z"
   },
   {
    "duration": 133,
    "start_time": "2021-06-20T06:21:31.643Z"
   },
   {
    "duration": 36,
    "start_time": "2021-06-20T06:21:31.783Z"
   },
   {
    "duration": 8,
    "start_time": "2021-06-20T06:21:31.822Z"
   },
   {
    "duration": 156,
    "start_time": "2021-06-20T06:21:31.833Z"
   },
   {
    "duration": 18,
    "start_time": "2021-06-20T06:21:31.991Z"
   },
   {
    "duration": 12,
    "start_time": "2021-06-20T06:21:32.012Z"
   },
   {
    "duration": 1773,
    "start_time": "2021-06-20T06:21:32.026Z"
   },
   {
    "duration": -2068,
    "start_time": "2021-06-20T06:21:35.871Z"
   },
   {
    "duration": -2075,
    "start_time": "2021-06-20T06:21:35.879Z"
   },
   {
    "duration": -2077,
    "start_time": "2021-06-20T06:21:35.883Z"
   },
   {
    "duration": -2079,
    "start_time": "2021-06-20T06:21:35.886Z"
   },
   {
    "duration": -2081,
    "start_time": "2021-06-20T06:21:35.889Z"
   },
   {
    "duration": -2082,
    "start_time": "2021-06-20T06:21:35.892Z"
   },
   {
    "duration": -2084,
    "start_time": "2021-06-20T06:21:35.895Z"
   },
   {
    "duration": -2086,
    "start_time": "2021-06-20T06:21:35.899Z"
   },
   {
    "duration": -2089,
    "start_time": "2021-06-20T06:21:35.903Z"
   },
   {
    "duration": -2091,
    "start_time": "2021-06-20T06:21:35.906Z"
   },
   {
    "duration": -2092,
    "start_time": "2021-06-20T06:21:35.909Z"
   },
   {
    "duration": -2093,
    "start_time": "2021-06-20T06:21:35.912Z"
   },
   {
    "duration": -2095,
    "start_time": "2021-06-20T06:21:35.915Z"
   },
   {
    "duration": -2096,
    "start_time": "2021-06-20T06:21:35.918Z"
   },
   {
    "duration": -2103,
    "start_time": "2021-06-20T06:21:35.926Z"
   },
   {
    "duration": -2106,
    "start_time": "2021-06-20T06:21:35.931Z"
   },
   {
    "duration": -2109,
    "start_time": "2021-06-20T06:21:35.935Z"
   },
   {
    "duration": -2111,
    "start_time": "2021-06-20T06:21:35.939Z"
   },
   {
    "duration": -2113,
    "start_time": "2021-06-20T06:21:35.942Z"
   },
   {
    "duration": -2128,
    "start_time": "2021-06-20T06:21:35.959Z"
   },
   {
    "duration": -2133,
    "start_time": "2021-06-20T06:21:35.965Z"
   },
   {
    "duration": -2136,
    "start_time": "2021-06-20T06:21:35.969Z"
   },
   {
    "duration": -2138,
    "start_time": "2021-06-20T06:21:35.973Z"
   },
   {
    "duration": -2139,
    "start_time": "2021-06-20T06:21:35.976Z"
   },
   {
    "duration": -2099,
    "start_time": "2021-06-20T06:21:35.981Z"
   },
   {
    "duration": -2099,
    "start_time": "2021-06-20T06:21:35.984Z"
   },
   {
    "duration": -2101,
    "start_time": "2021-06-20T06:21:35.988Z"
   },
   {
    "duration": -2102,
    "start_time": "2021-06-20T06:21:35.992Z"
   },
   {
    "duration": -2104,
    "start_time": "2021-06-20T06:21:35.996Z"
   },
   {
    "duration": -2106,
    "start_time": "2021-06-20T06:21:36.000Z"
   },
   {
    "duration": 969,
    "start_time": "2021-06-20T06:21:42.103Z"
   },
   {
    "duration": 984,
    "start_time": "2021-06-20T06:22:26.426Z"
   },
   {
    "duration": 1284,
    "start_time": "2021-06-20T06:22:51.528Z"
   },
   {
    "duration": 969,
    "start_time": "2021-06-20T06:23:01.961Z"
   },
   {
    "duration": 216,
    "start_time": "2021-06-20T06:26:36.069Z"
   },
   {
    "duration": 369,
    "start_time": "2021-06-20T06:27:18.312Z"
   },
   {
    "duration": 304,
    "start_time": "2021-06-20T06:27:29.112Z"
   },
   {
    "duration": 382,
    "start_time": "2021-06-20T06:28:50.490Z"
   },
   {
    "duration": 389,
    "start_time": "2021-06-20T06:29:09.419Z"
   },
   {
    "duration": 389,
    "start_time": "2021-06-20T06:29:49.147Z"
   },
   {
    "duration": 933,
    "start_time": "2021-06-20T06:30:19.125Z"
   },
   {
    "duration": 602,
    "start_time": "2021-06-20T06:30:28.325Z"
   },
   {
    "duration": 562,
    "start_time": "2021-06-20T06:31:48.135Z"
   },
   {
    "duration": 559,
    "start_time": "2021-06-20T06:32:06.367Z"
   },
   {
    "duration": 537,
    "start_time": "2021-06-20T06:32:20.511Z"
   },
   {
    "duration": 725,
    "start_time": "2021-06-20T06:32:32.448Z"
   },
   {
    "duration": 584,
    "start_time": "2021-06-20T06:32:59.110Z"
   },
   {
    "duration": 215,
    "start_time": "2021-06-20T06:33:07.097Z"
   },
   {
    "duration": 113,
    "start_time": "2021-06-20T06:33:46.781Z"
   },
   {
    "duration": 223,
    "start_time": "2021-06-20T06:34:00.410Z"
   },
   {
    "duration": 172,
    "start_time": "2021-06-20T06:36:19.885Z"
   },
   {
    "duration": 92,
    "start_time": "2021-06-20T06:36:31.241Z"
   },
   {
    "duration": 595,
    "start_time": "2021-06-20T06:38:03.793Z"
   },
   {
    "duration": 555,
    "start_time": "2021-06-20T06:38:19.176Z"
   },
   {
    "duration": 413,
    "start_time": "2021-06-20T06:39:09.729Z"
   },
   {
    "duration": 394,
    "start_time": "2021-06-20T06:39:20.267Z"
   },
   {
    "duration": 646,
    "start_time": "2021-06-20T06:39:50.482Z"
   },
   {
    "duration": 635,
    "start_time": "2021-06-20T06:40:01.836Z"
   },
   {
    "duration": 654,
    "start_time": "2021-06-20T06:40:18.283Z"
   },
   {
    "duration": 663,
    "start_time": "2021-06-20T06:40:42.567Z"
   },
   {
    "duration": 855,
    "start_time": "2021-06-20T06:44:07.664Z"
   },
   {
    "duration": 342,
    "start_time": "2021-06-20T06:44:48.986Z"
   },
   {
    "duration": 293,
    "start_time": "2021-06-20T06:45:05.194Z"
   },
   {
    "duration": 657,
    "start_time": "2021-06-20T06:48:27.630Z"
   },
   {
    "duration": 513,
    "start_time": "2021-06-20T06:48:42.575Z"
   },
   {
    "duration": 195,
    "start_time": "2021-06-20T06:53:23.067Z"
   },
   {
    "duration": 733,
    "start_time": "2021-06-20T06:57:22.802Z"
   },
   {
    "duration": 668,
    "start_time": "2021-06-20T06:57:41.668Z"
   },
   {
    "duration": 203,
    "start_time": "2021-06-20T06:58:02.109Z"
   },
   {
    "duration": 668,
    "start_time": "2021-06-20T06:58:19.922Z"
   },
   {
    "duration": 206,
    "start_time": "2021-06-20T06:58:28.030Z"
   },
   {
    "duration": 198,
    "start_time": "2021-06-20T06:58:57.233Z"
   },
   {
    "duration": 523,
    "start_time": "2021-06-20T06:59:39.514Z"
   },
   {
    "duration": 100,
    "start_time": "2021-06-20T07:01:18.130Z"
   },
   {
    "duration": 651,
    "start_time": "2021-06-20T07:02:33.652Z"
   },
   {
    "duration": 1823,
    "start_time": "2021-06-20T07:30:34.276Z"
   },
   {
    "duration": 1907,
    "start_time": "2021-06-20T07:34:24.021Z"
   },
   {
    "duration": 23,
    "start_time": "2021-06-20T07:35:24.581Z"
   },
   {
    "duration": 17,
    "start_time": "2021-06-20T07:35:45.775Z"
   },
   {
    "duration": 9,
    "start_time": "2021-06-20T07:36:58.888Z"
   },
   {
    "duration": 93,
    "start_time": "2021-06-20T07:39:46.994Z"
   },
   {
    "duration": 13,
    "start_time": "2021-06-20T07:40:00.578Z"
   },
   {
    "duration": 12,
    "start_time": "2021-06-20T07:40:21.379Z"
   },
   {
    "duration": 12,
    "start_time": "2021-06-20T07:40:41.627Z"
   },
   {
    "duration": 12,
    "start_time": "2021-06-20T07:40:51.515Z"
   },
   {
    "duration": 28,
    "start_time": "2021-06-20T07:42:47.927Z"
   },
   {
    "duration": 28,
    "start_time": "2021-06-20T07:43:16.422Z"
   },
   {
    "duration": 14,
    "start_time": "2021-06-20T07:43:25.743Z"
   },
   {
    "duration": 129,
    "start_time": "2021-06-20T07:43:30.439Z"
   },
   {
    "duration": 44,
    "start_time": "2021-06-20T07:43:30.571Z"
   },
   {
    "duration": 9,
    "start_time": "2021-06-20T07:43:30.618Z"
   },
   {
    "duration": 68,
    "start_time": "2021-06-20T07:43:30.630Z"
   },
   {
    "duration": 19,
    "start_time": "2021-06-20T07:43:30.701Z"
   },
   {
    "duration": 12,
    "start_time": "2021-06-20T07:43:30.722Z"
   },
   {
    "duration": 50,
    "start_time": "2021-06-20T07:43:30.737Z"
   },
   {
    "duration": 11,
    "start_time": "2021-06-20T07:43:30.791Z"
   },
   {
    "duration": 20,
    "start_time": "2021-06-20T07:43:30.804Z"
   },
   {
    "duration": 20,
    "start_time": "2021-06-20T07:43:30.826Z"
   },
   {
    "duration": 35,
    "start_time": "2021-06-20T07:43:30.848Z"
   },
   {
    "duration": 763,
    "start_time": "2021-06-20T07:43:30.886Z"
   },
   {
    "duration": 67,
    "start_time": "2021-06-20T07:43:31.652Z"
   },
   {
    "duration": 727,
    "start_time": "2021-06-20T07:43:31.721Z"
   },
   {
    "duration": 315,
    "start_time": "2021-06-20T07:43:32.451Z"
   },
   {
    "duration": 615,
    "start_time": "2021-06-20T07:43:32.768Z"
   },
   {
    "duration": 233,
    "start_time": "2021-06-20T07:43:33.385Z"
   },
   {
    "duration": 493,
    "start_time": "2021-06-20T07:43:33.620Z"
   },
   {
    "duration": 676,
    "start_time": "2021-06-20T07:43:34.117Z"
   },
   {
    "duration": 314,
    "start_time": "2021-06-20T07:43:34.797Z"
   },
   {
    "duration": 559,
    "start_time": "2021-06-20T07:43:35.114Z"
   },
   {
    "duration": 350,
    "start_time": "2021-06-20T07:43:35.684Z"
   },
   {
    "duration": 690,
    "start_time": "2021-06-20T07:43:36.037Z"
   },
   {
    "duration": 224,
    "start_time": "2021-06-20T07:43:36.730Z"
   },
   {
    "duration": 650,
    "start_time": "2021-06-20T07:43:36.957Z"
   },
   {
    "duration": 544,
    "start_time": "2021-06-20T07:43:37.610Z"
   },
   {
    "duration": 29,
    "start_time": "2021-06-20T07:43:38.157Z"
   },
   {
    "duration": 264,
    "start_time": "2021-06-20T07:43:38.189Z"
   },
   {
    "duration": -88,
    "start_time": "2021-06-20T07:43:38.544Z"
   },
   {
    "duration": -211,
    "start_time": "2021-06-20T07:43:38.669Z"
   },
   {
    "duration": -213,
    "start_time": "2021-06-20T07:43:38.673Z"
   },
   {
    "duration": -215,
    "start_time": "2021-06-20T07:43:38.678Z"
   },
   {
    "duration": -218,
    "start_time": "2021-06-20T07:43:38.683Z"
   },
   {
    "duration": -221,
    "start_time": "2021-06-20T07:43:38.688Z"
   },
   {
    "duration": -224,
    "start_time": "2021-06-20T07:43:38.693Z"
   },
   {
    "duration": -225,
    "start_time": "2021-06-20T07:43:38.697Z"
   },
   {
    "duration": -227,
    "start_time": "2021-06-20T07:43:38.701Z"
   },
   {
    "duration": -229,
    "start_time": "2021-06-20T07:43:38.705Z"
   },
   {
    "duration": -231,
    "start_time": "2021-06-20T07:43:38.709Z"
   },
   {
    "duration": -233,
    "start_time": "2021-06-20T07:43:38.713Z"
   },
   {
    "duration": -236,
    "start_time": "2021-06-20T07:43:38.718Z"
   },
   {
    "duration": 13,
    "start_time": "2021-06-20T07:44:11.433Z"
   },
   {
    "duration": 14,
    "start_time": "2021-06-20T07:44:23.964Z"
   },
   {
    "duration": 29,
    "start_time": "2021-06-20T07:44:36.042Z"
   },
   {
    "duration": 45,
    "start_time": "2021-06-20T07:45:48.625Z"
   },
   {
    "duration": 62,
    "start_time": "2021-06-20T07:46:09.725Z"
   },
   {
    "duration": 85,
    "start_time": "2021-06-20T07:46:30.428Z"
   },
   {
    "duration": 30,
    "start_time": "2021-06-20T07:50:19.650Z"
   },
   {
    "duration": 137,
    "start_time": "2021-06-20T07:50:27.525Z"
   },
   {
    "duration": 37,
    "start_time": "2021-06-20T07:50:27.682Z"
   },
   {
    "duration": 10,
    "start_time": "2021-06-20T07:50:27.723Z"
   },
   {
    "duration": 77,
    "start_time": "2021-06-20T07:50:27.737Z"
   },
   {
    "duration": 19,
    "start_time": "2021-06-20T07:50:27.816Z"
   },
   {
    "duration": 12,
    "start_time": "2021-06-20T07:50:27.837Z"
   },
   {
    "duration": 27,
    "start_time": "2021-06-20T07:50:27.883Z"
   },
   {
    "duration": 11,
    "start_time": "2021-06-20T07:50:27.913Z"
   },
   {
    "duration": 60,
    "start_time": "2021-06-20T07:50:27.927Z"
   },
   {
    "duration": 18,
    "start_time": "2021-06-20T07:50:27.990Z"
   },
   {
    "duration": 5,
    "start_time": "2021-06-20T07:50:28.010Z"
   },
   {
    "duration": 757,
    "start_time": "2021-06-20T07:50:28.018Z"
   },
   {
    "duration": 56,
    "start_time": "2021-06-20T07:50:28.777Z"
   },
   {
    "duration": 730,
    "start_time": "2021-06-20T07:50:28.836Z"
   },
   {
    "duration": 310,
    "start_time": "2021-06-20T07:50:29.568Z"
   },
   {
    "duration": 731,
    "start_time": "2021-06-20T07:50:29.886Z"
   },
   {
    "duration": 237,
    "start_time": "2021-06-20T07:50:30.621Z"
   },
   {
    "duration": 397,
    "start_time": "2021-06-20T07:50:30.860Z"
   },
   {
    "duration": 678,
    "start_time": "2021-06-20T07:50:31.259Z"
   },
   {
    "duration": 311,
    "start_time": "2021-06-20T07:50:31.939Z"
   },
   {
    "duration": 539,
    "start_time": "2021-06-20T07:50:32.253Z"
   },
   {
    "duration": 313,
    "start_time": "2021-06-20T07:50:32.795Z"
   },
   {
    "duration": 878,
    "start_time": "2021-06-20T07:50:33.113Z"
   },
   {
    "duration": 219,
    "start_time": "2021-06-20T07:50:33.994Z"
   },
   {
    "duration": 622,
    "start_time": "2021-06-20T07:50:34.216Z"
   },
   {
    "duration": 527,
    "start_time": "2021-06-20T07:50:34.841Z"
   },
   {
    "duration": 24,
    "start_time": "2021-06-20T07:50:35.371Z"
   },
   {
    "duration": 270,
    "start_time": "2021-06-20T07:50:35.397Z"
   },
   {
    "duration": -41,
    "start_time": "2021-06-20T07:50:35.710Z"
   },
   {
    "duration": -111,
    "start_time": "2021-06-20T07:50:35.781Z"
   },
   {
    "duration": -232,
    "start_time": "2021-06-20T07:50:35.904Z"
   },
   {
    "duration": -239,
    "start_time": "2021-06-20T07:50:35.912Z"
   },
   {
    "duration": -241,
    "start_time": "2021-06-20T07:50:35.916Z"
   },
   {
    "duration": -243,
    "start_time": "2021-06-20T07:50:35.919Z"
   },
   {
    "duration": -246,
    "start_time": "2021-06-20T07:50:35.923Z"
   },
   {
    "duration": -247,
    "start_time": "2021-06-20T07:50:35.926Z"
   },
   {
    "duration": -249,
    "start_time": "2021-06-20T07:50:35.929Z"
   },
   {
    "duration": -252,
    "start_time": "2021-06-20T07:50:35.933Z"
   },
   {
    "duration": -253,
    "start_time": "2021-06-20T07:50:35.936Z"
   },
   {
    "duration": -255,
    "start_time": "2021-06-20T07:50:35.939Z"
   },
   {
    "duration": -257,
    "start_time": "2021-06-20T07:50:35.943Z"
   },
   {
    "duration": 40,
    "start_time": "2021-06-20T07:50:59.530Z"
   },
   {
    "duration": 102,
    "start_time": "2021-06-20T07:51:40.487Z"
   },
   {
    "duration": 114,
    "start_time": "2021-06-20T07:52:03.069Z"
   },
   {
    "duration": 123,
    "start_time": "2021-06-20T07:53:31.888Z"
   },
   {
    "duration": 36,
    "start_time": "2021-06-20T07:53:32.013Z"
   },
   {
    "duration": 31,
    "start_time": "2021-06-20T07:53:32.052Z"
   },
   {
    "duration": 45,
    "start_time": "2021-06-20T07:53:32.086Z"
   },
   {
    "duration": 51,
    "start_time": "2021-06-20T07:53:32.134Z"
   },
   {
    "duration": 12,
    "start_time": "2021-06-20T07:53:32.188Z"
   },
   {
    "duration": 31,
    "start_time": "2021-06-20T07:53:32.202Z"
   },
   {
    "duration": 9,
    "start_time": "2021-06-20T07:53:32.237Z"
   },
   {
    "duration": 148,
    "start_time": "2021-06-20T07:53:32.249Z"
   },
   {
    "duration": 19,
    "start_time": "2021-06-20T07:53:32.399Z"
   },
   {
    "duration": 5,
    "start_time": "2021-06-20T07:53:32.420Z"
   },
   {
    "duration": 756,
    "start_time": "2021-06-20T07:53:32.427Z"
   },
   {
    "duration": 54,
    "start_time": "2021-06-20T07:53:33.185Z"
   },
   {
    "duration": 830,
    "start_time": "2021-06-20T07:53:33.241Z"
   },
   {
    "duration": 319,
    "start_time": "2021-06-20T07:53:34.074Z"
   },
   {
    "duration": 612,
    "start_time": "2021-06-20T07:53:34.395Z"
   },
   {
    "duration": 239,
    "start_time": "2021-06-20T07:53:35.010Z"
   },
   {
    "duration": 399,
    "start_time": "2021-06-20T07:53:35.251Z"
   },
   {
    "duration": 736,
    "start_time": "2021-06-20T07:53:35.652Z"
   },
   {
    "duration": 541,
    "start_time": "2021-06-20T07:53:36.391Z"
   },
   {
    "duration": 658,
    "start_time": "2021-06-20T07:53:36.935Z"
   },
   {
    "duration": 321,
    "start_time": "2021-06-20T07:53:37.596Z"
   },
   {
    "duration": 690,
    "start_time": "2021-06-20T07:53:37.923Z"
   },
   {
    "duration": 231,
    "start_time": "2021-06-20T07:53:38.617Z"
   },
   {
    "duration": 567,
    "start_time": "2021-06-20T07:53:38.851Z"
   },
   {
    "duration": 631,
    "start_time": "2021-06-20T07:53:39.421Z"
   },
   {
    "duration": 29,
    "start_time": "2021-06-20T07:53:40.054Z"
   },
   {
    "duration": 261,
    "start_time": "2021-06-20T07:53:40.086Z"
   },
   {
    "duration": -38,
    "start_time": "2021-06-20T07:53:40.388Z"
   },
   {
    "duration": -45,
    "start_time": "2021-06-20T07:53:40.396Z"
   },
   {
    "duration": -50,
    "start_time": "2021-06-20T07:53:40.402Z"
   },
   {
    "duration": -53,
    "start_time": "2021-06-20T07:53:40.406Z"
   },
   {
    "duration": -54,
    "start_time": "2021-06-20T07:53:40.409Z"
   },
   {
    "duration": -56,
    "start_time": "2021-06-20T07:53:40.412Z"
   },
   {
    "duration": -58,
    "start_time": "2021-06-20T07:53:40.415Z"
   },
   {
    "duration": -60,
    "start_time": "2021-06-20T07:53:40.419Z"
   },
   {
    "duration": -62,
    "start_time": "2021-06-20T07:53:40.422Z"
   },
   {
    "duration": -64,
    "start_time": "2021-06-20T07:53:40.425Z"
   },
   {
    "duration": -65,
    "start_time": "2021-06-20T07:53:40.428Z"
   },
   {
    "duration": -68,
    "start_time": "2021-06-20T07:53:40.432Z"
   },
   {
    "duration": -70,
    "start_time": "2021-06-20T07:53:40.435Z"
   },
   {
    "duration": 306,
    "start_time": "2021-06-20T07:54:24.313Z"
   },
   {
    "duration": 14,
    "start_time": "2021-06-20T07:54:35.582Z"
   },
   {
    "duration": 22,
    "start_time": "2021-06-20T07:55:04.803Z"
   },
   {
    "duration": 20,
    "start_time": "2021-06-20T07:55:12.332Z"
   },
   {
    "duration": 21,
    "start_time": "2021-06-20T07:55:34.456Z"
   },
   {
    "duration": 57,
    "start_time": "2021-06-20T07:55:40.649Z"
   },
   {
    "duration": 38,
    "start_time": "2021-06-20T07:56:03.301Z"
   },
   {
    "duration": 392,
    "start_time": "2021-06-20T07:56:08.978Z"
   },
   {
    "duration": 824,
    "start_time": "2021-06-20T07:57:31.093Z"
   },
   {
    "duration": 664,
    "start_time": "2021-06-20T08:06:29.537Z"
   },
   {
    "duration": 1013,
    "start_time": "2021-06-20T08:06:43.838Z"
   },
   {
    "duration": 709,
    "start_time": "2021-06-20T08:06:59.584Z"
   },
   {
    "duration": 708,
    "start_time": "2021-06-20T08:07:26.130Z"
   },
   {
    "duration": 695,
    "start_time": "2021-06-20T08:09:35.567Z"
   },
   {
    "duration": 663,
    "start_time": "2021-06-20T08:09:46.454Z"
   },
   {
    "duration": 729,
    "start_time": "2021-06-20T08:16:20.406Z"
   },
   {
    "duration": 681,
    "start_time": "2021-06-20T08:17:45.681Z"
   },
   {
    "duration": 671,
    "start_time": "2021-06-20T08:17:51.412Z"
   },
   {
    "duration": 627,
    "start_time": "2021-06-20T08:18:49.755Z"
   },
   {
    "duration": 679,
    "start_time": "2021-06-20T08:19:26.284Z"
   },
   {
    "duration": 645,
    "start_time": "2021-06-20T08:19:36.332Z"
   },
   {
    "duration": 649,
    "start_time": "2021-06-20T08:19:46.836Z"
   },
   {
    "duration": 640,
    "start_time": "2021-06-20T08:20:36.642Z"
   },
   {
    "duration": 758,
    "start_time": "2021-06-20T08:22:52.443Z"
   },
   {
    "duration": 4,
    "start_time": "2021-06-20T08:23:10.112Z"
   },
   {
    "duration": 96,
    "start_time": "2021-06-20T08:25:34.804Z"
   },
   {
    "duration": 510,
    "start_time": "2021-06-20T08:42:08.614Z"
   },
   {
    "duration": 10,
    "start_time": "2021-06-20T08:42:16.163Z"
   },
   {
    "duration": 337,
    "start_time": "2021-06-20T08:42:20.309Z"
   },
   {
    "duration": 592,
    "start_time": "2021-06-20T08:45:55.605Z"
   },
   {
    "duration": 611,
    "start_time": "2021-06-20T08:46:12.851Z"
   },
   {
    "duration": 558,
    "start_time": "2021-06-20T08:46:24.259Z"
   },
   {
    "duration": 673,
    "start_time": "2021-06-20T08:46:34.231Z"
   },
   {
    "duration": 549,
    "start_time": "2021-06-20T08:46:42.628Z"
   },
   {
    "duration": 389,
    "start_time": "2021-06-20T08:46:57.582Z"
   },
   {
    "duration": 382,
    "start_time": "2021-06-20T08:47:15.086Z"
   },
   {
    "duration": 382,
    "start_time": "2021-06-20T08:47:35.544Z"
   },
   {
    "duration": 450,
    "start_time": "2021-06-20T08:48:00.054Z"
   },
   {
    "duration": 357,
    "start_time": "2021-06-20T08:48:09.456Z"
   },
   {
    "duration": 366,
    "start_time": "2021-06-20T08:48:21.417Z"
   },
   {
    "duration": 386,
    "start_time": "2021-06-20T08:49:54.785Z"
   },
   {
    "duration": 305,
    "start_time": "2021-06-20T08:51:32.611Z"
   },
   {
    "duration": 717,
    "start_time": "2021-06-20T08:54:57.433Z"
   },
   {
    "duration": 294,
    "start_time": "2021-06-20T08:55:07.793Z"
   },
   {
    "duration": 423,
    "start_time": "2021-06-20T08:56:12.281Z"
   },
   {
    "duration": 342,
    "start_time": "2021-06-20T08:56:23.183Z"
   },
   {
    "duration": 310,
    "start_time": "2021-06-20T08:58:17.109Z"
   },
   {
    "duration": 466,
    "start_time": "2021-06-20T09:05:47.710Z"
   },
   {
    "duration": 442,
    "start_time": "2021-06-20T09:05:54.280Z"
   },
   {
    "duration": 453,
    "start_time": "2021-06-20T09:06:09.408Z"
   },
   {
    "duration": 428,
    "start_time": "2021-06-20T09:06:15.401Z"
   },
   {
    "duration": 481,
    "start_time": "2021-06-20T09:06:31.530Z"
   },
   {
    "duration": 436,
    "start_time": "2021-06-20T09:06:45.208Z"
   },
   {
    "duration": 420,
    "start_time": "2021-06-20T09:06:50.409Z"
   },
   {
    "duration": 502,
    "start_time": "2021-06-20T09:07:03.769Z"
   },
   {
    "duration": 12,
    "start_time": "2021-06-20T09:17:00.105Z"
   },
   {
    "duration": 994,
    "start_time": "2021-06-20T09:18:14.943Z"
   },
   {
    "duration": 54,
    "start_time": "2021-06-20T09:18:15.941Z"
   },
   {
    "duration": 9,
    "start_time": "2021-06-20T09:18:15.998Z"
   },
   {
    "duration": 73,
    "start_time": "2021-06-20T09:18:16.010Z"
   },
   {
    "duration": 20,
    "start_time": "2021-06-20T09:18:16.085Z"
   },
   {
    "duration": 13,
    "start_time": "2021-06-20T09:18:16.108Z"
   },
   {
    "duration": 31,
    "start_time": "2021-06-20T09:18:16.124Z"
   },
   {
    "duration": 31,
    "start_time": "2021-06-20T09:18:16.159Z"
   },
   {
    "duration": 126,
    "start_time": "2021-06-20T09:18:16.193Z"
   },
   {
    "duration": 18,
    "start_time": "2021-06-20T09:18:16.322Z"
   },
   {
    "duration": 6,
    "start_time": "2021-06-20T09:18:16.342Z"
   },
   {
    "duration": 834,
    "start_time": "2021-06-20T09:18:16.350Z"
   },
   {
    "duration": 60,
    "start_time": "2021-06-20T09:18:17.186Z"
   },
   {
    "duration": 768,
    "start_time": "2021-06-20T09:18:17.248Z"
   },
   {
    "duration": 314,
    "start_time": "2021-06-20T09:18:18.019Z"
   },
   {
    "duration": 597,
    "start_time": "2021-06-20T09:18:18.335Z"
   },
   {
    "duration": 230,
    "start_time": "2021-06-20T09:18:18.934Z"
   },
   {
    "duration": 402,
    "start_time": "2021-06-20T09:18:19.166Z"
   },
   {
    "duration": 763,
    "start_time": "2021-06-20T09:18:19.570Z"
   },
   {
    "duration": 302,
    "start_time": "2021-06-20T09:18:20.335Z"
   },
   {
    "duration": 605,
    "start_time": "2021-06-20T09:18:20.639Z"
   },
   {
    "duration": 310,
    "start_time": "2021-06-20T09:18:21.246Z"
   },
   {
    "duration": 668,
    "start_time": "2021-06-20T09:18:21.561Z"
   },
   {
    "duration": 219,
    "start_time": "2021-06-20T09:18:22.232Z"
   },
   {
    "duration": 539,
    "start_time": "2021-06-20T09:18:22.453Z"
   },
   {
    "duration": 538,
    "start_time": "2021-06-20T09:18:22.995Z"
   },
   {
    "duration": 16,
    "start_time": "2021-06-20T09:18:23.535Z"
   },
   {
    "duration": 752,
    "start_time": "2021-06-20T09:18:23.554Z"
   },
   {
    "duration": 791,
    "start_time": "2021-06-20T09:18:24.308Z"
   },
   {
    "duration": 708,
    "start_time": "2021-06-20T09:18:25.101Z"
   },
   {
    "duration": 690,
    "start_time": "2021-06-20T09:18:25.811Z"
   },
   {
    "duration": 781,
    "start_time": "2021-06-20T09:18:26.504Z"
   },
   {
    "duration": 717,
    "start_time": "2021-06-20T09:18:27.289Z"
   },
   {
    "duration": 709,
    "start_time": "2021-06-20T09:18:28.009Z"
   },
   {
    "duration": 14,
    "start_time": "2021-06-20T09:18:28.720Z"
   },
   {
    "duration": 21,
    "start_time": "2021-06-20T09:18:28.736Z"
   },
   {
    "duration": 19,
    "start_time": "2021-06-20T09:18:28.785Z"
   },
   {
    "duration": 23,
    "start_time": "2021-06-20T09:18:28.806Z"
   },
   {
    "duration": 71,
    "start_time": "2021-06-20T09:18:28.831Z"
   },
   {
    "duration": 398,
    "start_time": "2021-06-20T09:18:28.904Z"
   },
   {
    "duration": 9,
    "start_time": "2021-06-20T09:18:29.305Z"
   },
   {
    "duration": 350,
    "start_time": "2021-06-20T09:18:29.317Z"
   },
   {
    "duration": 408,
    "start_time": "2021-06-20T09:18:29.669Z"
   },
   {
    "duration": 320,
    "start_time": "2021-06-20T09:18:30.084Z"
   },
   {
    "duration": 329,
    "start_time": "2021-06-20T09:18:30.407Z"
   },
   {
    "duration": 561,
    "start_time": "2021-06-20T09:18:30.739Z"
   },
   {
    "duration": 421,
    "start_time": "2021-06-20T09:18:31.303Z"
   },
   {
    "duration": 481,
    "start_time": "2021-06-20T09:18:31.727Z"
   },
   {
    "duration": 435,
    "start_time": "2021-06-20T09:18:32.211Z"
   },
   {
    "duration": 458,
    "start_time": "2021-06-20T09:18:32.648Z"
   },
   {
    "duration": 415,
    "start_time": "2021-06-20T09:18:33.109Z"
   },
   {
    "duration": 465,
    "start_time": "2021-06-20T09:18:33.527Z"
   },
   {
    "duration": 10,
    "start_time": "2021-06-20T09:18:33.994Z"
   },
   {
    "duration": 131,
    "start_time": "2021-06-21T08:13:35.527Z"
   },
   {
    "duration": 390,
    "start_time": "2021-06-21T08:14:50.592Z"
   },
   {
    "duration": 1207,
    "start_time": "2021-06-21T08:15:00.093Z"
   },
   {
    "duration": 42,
    "start_time": "2021-06-21T08:15:01.314Z"
   },
   {
    "duration": 10,
    "start_time": "2021-06-21T08:15:01.360Z"
   },
   {
    "duration": 90,
    "start_time": "2021-06-21T08:15:01.373Z"
   },
   {
    "duration": 21,
    "start_time": "2021-06-21T08:15:01.466Z"
   },
   {
    "duration": 47,
    "start_time": "2021-06-21T08:15:01.490Z"
   },
   {
    "duration": 57,
    "start_time": "2021-06-21T08:15:01.539Z"
   },
   {
    "duration": 37,
    "start_time": "2021-06-21T08:15:01.600Z"
   },
   {
    "duration": 131,
    "start_time": "2021-06-21T08:15:01.641Z"
   },
   {
    "duration": 11,
    "start_time": "2021-06-21T08:15:01.775Z"
   },
   {
    "duration": 41,
    "start_time": "2021-06-21T08:15:01.788Z"
   },
   {
    "duration": 18,
    "start_time": "2021-06-21T08:15:01.831Z"
   },
   {
    "duration": 930,
    "start_time": "2021-06-21T08:15:01.851Z"
   },
   {
    "duration": 76,
    "start_time": "2021-06-21T08:15:02.784Z"
   },
   {
    "duration": 863,
    "start_time": "2021-06-21T08:15:02.863Z"
   },
   {
    "duration": 358,
    "start_time": "2021-06-21T08:15:03.728Z"
   },
   {
    "duration": 1407,
    "start_time": "2021-06-21T08:15:04.088Z"
   },
   {
    "duration": 366,
    "start_time": "2021-06-21T08:15:05.498Z"
   },
   {
    "duration": 598,
    "start_time": "2021-06-21T08:15:05.867Z"
   },
   {
    "duration": 789,
    "start_time": "2021-06-21T08:15:06.467Z"
   },
   {
    "duration": 389,
    "start_time": "2021-06-21T08:15:07.259Z"
   },
   {
    "duration": 711,
    "start_time": "2021-06-21T08:15:07.650Z"
   },
   {
    "duration": 357,
    "start_time": "2021-06-21T08:15:08.369Z"
   },
   {
    "duration": 760,
    "start_time": "2021-06-21T08:15:08.729Z"
   },
   {
    "duration": 245,
    "start_time": "2021-06-21T08:15:09.492Z"
   },
   {
    "duration": 618,
    "start_time": "2021-06-21T08:15:09.740Z"
   },
   {
    "duration": 596,
    "start_time": "2021-06-21T08:15:10.360Z"
   },
   {
    "duration": 15,
    "start_time": "2021-06-21T08:15:10.959Z"
   },
   {
    "duration": 841,
    "start_time": "2021-06-21T08:15:10.977Z"
   },
   {
    "duration": 999,
    "start_time": "2021-06-21T08:15:11.821Z"
   },
   {
    "duration": 775,
    "start_time": "2021-06-21T08:15:12.822Z"
   },
   {
    "duration": 780,
    "start_time": "2021-06-21T08:15:13.600Z"
   },
   {
    "duration": 794,
    "start_time": "2021-06-21T08:15:14.383Z"
   },
   {
    "duration": 814,
    "start_time": "2021-06-21T08:15:15.180Z"
   },
   {
    "duration": 773,
    "start_time": "2021-06-21T08:15:15.997Z"
   },
   {
    "duration": 12,
    "start_time": "2021-06-21T08:15:16.772Z"
   },
   {
    "duration": 44,
    "start_time": "2021-06-21T08:15:16.787Z"
   },
   {
    "duration": 33,
    "start_time": "2021-06-21T08:15:16.834Z"
   },
   {
    "duration": 31,
    "start_time": "2021-06-21T08:15:16.869Z"
   },
   {
    "duration": 48,
    "start_time": "2021-06-21T08:15:16.903Z"
   },
   {
    "duration": 475,
    "start_time": "2021-06-21T08:15:16.953Z"
   },
   {
    "duration": 10,
    "start_time": "2021-06-21T08:15:17.430Z"
   },
   {
    "duration": 413,
    "start_time": "2021-06-21T08:15:17.443Z"
   },
   {
    "duration": 457,
    "start_time": "2021-06-21T08:15:17.859Z"
   },
   {
    "duration": 373,
    "start_time": "2021-06-21T08:15:18.319Z"
   },
   {
    "duration": 362,
    "start_time": "2021-06-21T08:15:18.694Z"
   },
   {
    "duration": 622,
    "start_time": "2021-06-21T08:15:19.059Z"
   },
   {
    "duration": 494,
    "start_time": "2021-06-21T08:15:19.684Z"
   },
   {
    "duration": 494,
    "start_time": "2021-06-21T08:15:20.181Z"
   },
   {
    "duration": 511,
    "start_time": "2021-06-21T08:15:20.679Z"
   },
   {
    "duration": 496,
    "start_time": "2021-06-21T08:15:21.192Z"
   },
   {
    "duration": 528,
    "start_time": "2021-06-21T08:15:21.691Z"
   },
   {
    "duration": 546,
    "start_time": "2021-06-21T08:15:22.223Z"
   },
   {
    "duration": 11,
    "start_time": "2021-06-21T08:15:22.772Z"
   },
   {
    "duration": 11,
    "start_time": "2021-06-21T08:21:55.346Z"
   },
   {
    "duration": 449,
    "start_time": "2021-06-21T08:22:14.802Z"
   },
   {
    "duration": 9,
    "start_time": "2021-06-21T08:22:19.761Z"
   },
   {
    "duration": 153,
    "start_time": "2021-06-21T08:39:08.521Z"
   },
   {
    "duration": 102,
    "start_time": "2021-06-21T08:41:15.461Z"
   },
   {
    "duration": 125,
    "start_time": "2021-06-21T08:59:12.833Z"
   },
   {
    "duration": 111,
    "start_time": "2021-06-21T08:59:26.831Z"
   },
   {
    "duration": 161,
    "start_time": "2021-06-21T09:01:44.060Z"
   },
   {
    "duration": 142,
    "start_time": "2021-06-21T09:05:24.824Z"
   },
   {
    "duration": 710,
    "start_time": "2021-06-21T13:50:59.820Z"
   },
   {
    "duration": 25,
    "start_time": "2021-06-21T13:51:00.532Z"
   },
   {
    "duration": 26,
    "start_time": "2021-06-21T13:51:00.559Z"
   },
   {
    "duration": 30,
    "start_time": "2021-06-21T13:51:00.586Z"
   },
   {
    "duration": 13,
    "start_time": "2021-06-21T13:51:00.618Z"
   },
   {
    "duration": 8,
    "start_time": "2021-06-21T13:51:00.633Z"
   },
   {
    "duration": 25,
    "start_time": "2021-06-21T13:51:00.642Z"
   },
   {
    "duration": 18,
    "start_time": "2021-06-21T13:51:00.670Z"
   },
   {
    "duration": 124,
    "start_time": "2021-06-21T13:51:00.690Z"
   },
   {
    "duration": 13,
    "start_time": "2021-06-21T13:51:00.816Z"
   },
   {
    "duration": 4,
    "start_time": "2021-06-21T13:51:00.831Z"
   },
   {
    "duration": 487,
    "start_time": "2021-06-21T13:51:00.837Z"
   },
   {
    "duration": 5,
    "start_time": "2021-06-21T13:51:01.326Z"
   },
   {
    "duration": 58,
    "start_time": "2021-06-21T13:51:01.333Z"
   },
   {
    "duration": 520,
    "start_time": "2021-06-21T13:51:01.393Z"
   },
   {
    "duration": 211,
    "start_time": "2021-06-21T13:51:01.915Z"
   },
   {
    "duration": 398,
    "start_time": "2021-06-21T13:51:02.127Z"
   },
   {
    "duration": 159,
    "start_time": "2021-06-21T13:51:02.526Z"
   },
   {
    "duration": 260,
    "start_time": "2021-06-21T13:51:02.686Z"
   },
   {
    "duration": 437,
    "start_time": "2021-06-21T13:51:02.948Z"
   },
   {
    "duration": 206,
    "start_time": "2021-06-21T13:51:03.386Z"
   },
   {
    "duration": 417,
    "start_time": "2021-06-21T13:51:03.594Z"
   },
   {
    "duration": 210,
    "start_time": "2021-06-21T13:51:04.014Z"
   },
   {
    "duration": 464,
    "start_time": "2021-06-21T13:51:04.226Z"
   },
   {
    "duration": 144,
    "start_time": "2021-06-21T13:51:04.692Z"
   },
   {
    "duration": 356,
    "start_time": "2021-06-21T13:51:04.838Z"
   },
   {
    "duration": 348,
    "start_time": "2021-06-21T13:51:05.195Z"
   },
   {
    "duration": 10,
    "start_time": "2021-06-21T13:51:05.545Z"
   },
   {
    "duration": 506,
    "start_time": "2021-06-21T13:51:05.557Z"
   },
   {
    "duration": 559,
    "start_time": "2021-06-21T13:51:06.064Z"
   },
   {
    "duration": 512,
    "start_time": "2021-06-21T13:51:06.625Z"
   },
   {
    "duration": 509,
    "start_time": "2021-06-21T13:51:07.139Z"
   },
   {
    "duration": 484,
    "start_time": "2021-06-21T13:51:07.650Z"
   },
   {
    "duration": 501,
    "start_time": "2021-06-21T13:51:08.135Z"
   },
   {
    "duration": 517,
    "start_time": "2021-06-21T13:51:08.638Z"
   },
   {
    "duration": 10,
    "start_time": "2021-06-21T13:51:09.157Z"
   },
   {
    "duration": 25,
    "start_time": "2021-06-21T13:51:09.168Z"
   },
   {
    "duration": 12,
    "start_time": "2021-06-21T13:51:09.194Z"
   },
   {
    "duration": 17,
    "start_time": "2021-06-21T13:51:09.207Z"
   },
   {
    "duration": 23,
    "start_time": "2021-06-21T13:51:09.226Z"
   },
   {
    "duration": 341,
    "start_time": "2021-06-21T13:51:09.250Z"
   },
   {
    "duration": 8,
    "start_time": "2021-06-21T13:51:09.593Z"
   },
   {
    "duration": 250,
    "start_time": "2021-06-21T13:51:09.603Z"
   },
   {
    "duration": 265,
    "start_time": "2021-06-21T13:51:09.855Z"
   },
   {
    "duration": 226,
    "start_time": "2021-06-21T13:51:10.122Z"
   },
   {
    "duration": 221,
    "start_time": "2021-06-21T13:51:10.350Z"
   },
   {
    "duration": 432,
    "start_time": "2021-06-21T13:51:10.573Z"
   },
   {
    "duration": 316,
    "start_time": "2021-06-21T13:51:11.007Z"
   },
   {
    "duration": 316,
    "start_time": "2021-06-21T13:51:11.325Z"
   },
   {
    "duration": 376,
    "start_time": "2021-06-21T13:51:11.643Z"
   },
   {
    "duration": 309,
    "start_time": "2021-06-21T13:51:12.021Z"
   },
   {
    "duration": 316,
    "start_time": "2021-06-21T13:51:12.332Z"
   },
   {
    "duration": 356,
    "start_time": "2021-06-21T13:51:12.650Z"
   },
   {
    "duration": 8,
    "start_time": "2021-06-21T13:51:13.009Z"
   },
   {
    "duration": 124,
    "start_time": "2021-06-21T13:52:07.238Z"
   },
   {
    "duration": 243,
    "start_time": "2021-06-21T13:56:41.034Z"
   },
   {
    "duration": 751,
    "start_time": "2021-06-21T14:01:30.155Z"
   },
   {
    "duration": 24,
    "start_time": "2021-06-21T14:01:30.908Z"
   },
   {
    "duration": 6,
    "start_time": "2021-06-21T14:01:30.934Z"
   },
   {
    "duration": 46,
    "start_time": "2021-06-21T14:01:30.942Z"
   },
   {
    "duration": 14,
    "start_time": "2021-06-21T14:01:30.990Z"
   },
   {
    "duration": 8,
    "start_time": "2021-06-21T14:01:31.006Z"
   },
   {
    "duration": 29,
    "start_time": "2021-06-21T14:01:31.015Z"
   },
   {
    "duration": 6,
    "start_time": "2021-06-21T14:01:31.047Z"
   },
   {
    "duration": 142,
    "start_time": "2021-06-21T14:01:31.055Z"
   },
   {
    "duration": 13,
    "start_time": "2021-06-21T14:01:31.199Z"
   },
   {
    "duration": 3,
    "start_time": "2021-06-21T14:01:31.214Z"
   },
   {
    "duration": 492,
    "start_time": "2021-06-21T14:01:31.219Z"
   },
   {
    "duration": 5,
    "start_time": "2021-06-21T14:01:31.712Z"
   },
   {
    "duration": 47,
    "start_time": "2021-06-21T14:01:31.719Z"
   },
   {
    "duration": 501,
    "start_time": "2021-06-21T14:01:31.768Z"
   },
   {
    "duration": 217,
    "start_time": "2021-06-21T14:01:32.271Z"
   },
   {
    "duration": 390,
    "start_time": "2021-06-21T14:01:32.489Z"
   },
   {
    "duration": 150,
    "start_time": "2021-06-21T14:01:32.880Z"
   },
   {
    "duration": 272,
    "start_time": "2021-06-21T14:01:33.032Z"
   },
   {
    "duration": 442,
    "start_time": "2021-06-21T14:01:33.306Z"
   },
   {
    "duration": 196,
    "start_time": "2021-06-21T14:01:33.750Z"
   },
   {
    "duration": 431,
    "start_time": "2021-06-21T14:01:33.948Z"
   },
   {
    "duration": 208,
    "start_time": "2021-06-21T14:01:34.387Z"
   },
   {
    "duration": 441,
    "start_time": "2021-06-21T14:01:34.597Z"
   },
   {
    "duration": 150,
    "start_time": "2021-06-21T14:01:35.040Z"
   },
   {
    "duration": 364,
    "start_time": "2021-06-21T14:01:35.192Z"
   },
   {
    "duration": 345,
    "start_time": "2021-06-21T14:01:35.557Z"
   },
   {
    "duration": 10,
    "start_time": "2021-06-21T14:01:35.904Z"
   },
   {
    "duration": 545,
    "start_time": "2021-06-21T14:01:35.915Z"
   },
   {
    "duration": 238694,
    "start_time": "2021-06-21T14:01:36.462Z"
   },
   {
    "duration": 502,
    "start_time": "2021-06-21T14:05:35.157Z"
   },
   {
    "duration": 490,
    "start_time": "2021-06-21T14:05:35.661Z"
   },
   {
    "duration": 482,
    "start_time": "2021-06-21T14:05:36.153Z"
   },
   {
    "duration": 492,
    "start_time": "2021-06-21T14:05:36.637Z"
   },
   {
    "duration": 510,
    "start_time": "2021-06-21T14:05:37.131Z"
   },
   {
    "duration": 9,
    "start_time": "2021-06-21T14:05:37.643Z"
   },
   {
    "duration": 14,
    "start_time": "2021-06-21T14:05:37.654Z"
   },
   {
    "duration": 13,
    "start_time": "2021-06-21T14:05:37.684Z"
   },
   {
    "duration": 13,
    "start_time": "2021-06-21T14:05:37.698Z"
   },
   {
    "duration": 24,
    "start_time": "2021-06-21T14:05:37.712Z"
   },
   {
    "duration": 349,
    "start_time": "2021-06-21T14:05:37.738Z"
   },
   {
    "duration": 6,
    "start_time": "2021-06-21T14:05:38.089Z"
   },
   {
    "duration": 228,
    "start_time": "2021-06-21T14:05:38.096Z"
   },
   {
    "duration": 269,
    "start_time": "2021-06-21T14:05:38.326Z"
   },
   {
    "duration": 218,
    "start_time": "2021-06-21T14:05:38.597Z"
   },
   {
    "duration": 232,
    "start_time": "2021-06-21T14:05:38.816Z"
   },
   {
    "duration": 378,
    "start_time": "2021-06-21T14:05:39.050Z"
   },
   {
    "duration": 306,
    "start_time": "2021-06-21T14:05:39.430Z"
   },
   {
    "duration": 380,
    "start_time": "2021-06-21T14:05:39.737Z"
   },
   {
    "duration": 324,
    "start_time": "2021-06-21T14:05:40.119Z"
   },
   {
    "duration": 348,
    "start_time": "2021-06-21T14:05:40.445Z"
   },
   {
    "duration": 334,
    "start_time": "2021-06-21T14:05:40.795Z"
   },
   {
    "duration": 322,
    "start_time": "2021-06-21T14:05:41.131Z"
   },
   {
    "duration": 8,
    "start_time": "2021-06-21T14:05:41.455Z"
   },
   {
    "duration": 420,
    "start_time": "2021-06-21T15:54:35.437Z"
   },
   {
    "duration": 1095,
    "start_time": "2021-06-21T15:54:44.209Z"
   },
   {
    "duration": 39,
    "start_time": "2021-06-21T15:54:45.306Z"
   },
   {
    "duration": 10,
    "start_time": "2021-06-21T15:54:45.348Z"
   },
   {
    "duration": 81,
    "start_time": "2021-06-21T15:54:45.360Z"
   },
   {
    "duration": 21,
    "start_time": "2021-06-21T15:54:45.443Z"
   },
   {
    "duration": 13,
    "start_time": "2021-06-21T15:54:45.467Z"
   },
   {
    "duration": 49,
    "start_time": "2021-06-21T15:54:45.482Z"
   },
   {
    "duration": 10,
    "start_time": "2021-06-21T15:54:45.535Z"
   },
   {
    "duration": 230,
    "start_time": "2021-06-21T15:54:45.548Z"
   },
   {
    "duration": 28,
    "start_time": "2021-06-21T15:54:45.781Z"
   },
   {
    "duration": 5,
    "start_time": "2021-06-21T15:54:45.811Z"
   },
   {
    "duration": 829,
    "start_time": "2021-06-21T15:54:45.819Z"
   },
   {
    "duration": 8,
    "start_time": "2021-06-21T15:54:46.651Z"
   },
   {
    "duration": 95,
    "start_time": "2021-06-21T15:54:46.662Z"
   },
   {
    "duration": 838,
    "start_time": "2021-06-21T15:54:46.761Z"
   },
   {
    "duration": 339,
    "start_time": "2021-06-21T15:54:47.610Z"
   },
   {
    "duration": 632,
    "start_time": "2021-06-21T15:54:47.952Z"
   },
   {
    "duration": 243,
    "start_time": "2021-06-21T15:54:48.587Z"
   },
   {
    "duration": 432,
    "start_time": "2021-06-21T15:54:48.832Z"
   },
   {
    "duration": 694,
    "start_time": "2021-06-21T15:54:49.266Z"
   },
   {
    "duration": 331,
    "start_time": "2021-06-21T15:54:49.962Z"
   },
   {
    "duration": 654,
    "start_time": "2021-06-21T15:54:50.295Z"
   },
   {
    "duration": 338,
    "start_time": "2021-06-21T15:54:50.954Z"
   },
   {
    "duration": 730,
    "start_time": "2021-06-21T15:54:51.296Z"
   },
   {
    "duration": 240,
    "start_time": "2021-06-21T15:54:52.029Z"
   },
   {
    "duration": 583,
    "start_time": "2021-06-21T15:54:52.271Z"
   },
   {
    "duration": 571,
    "start_time": "2021-06-21T15:54:52.856Z"
   },
   {
    "duration": 17,
    "start_time": "2021-06-21T15:54:53.429Z"
   },
   {
    "duration": 730,
    "start_time": "2021-06-21T15:54:53.448Z"
   },
   {
    "duration": 380813,
    "start_time": "2021-06-21T15:54:54.181Z"
   },
   {
    "duration": 787,
    "start_time": "2021-06-21T16:01:14.997Z"
   },
   {
    "duration": 784,
    "start_time": "2021-06-21T16:01:15.787Z"
   },
   {
    "duration": 759,
    "start_time": "2021-06-21T16:01:16.573Z"
   },
   {
    "duration": 774,
    "start_time": "2021-06-21T16:01:17.335Z"
   },
   {
    "duration": 790,
    "start_time": "2021-06-21T16:01:18.112Z"
   },
   {
    "duration": 14,
    "start_time": "2021-06-21T16:01:18.905Z"
   },
   {
    "duration": 29,
    "start_time": "2021-06-21T16:01:18.921Z"
   },
   {
    "duration": 21,
    "start_time": "2021-06-21T16:01:18.953Z"
   },
   {
    "duration": 52,
    "start_time": "2021-06-21T16:01:18.976Z"
   },
   {
    "duration": 41,
    "start_time": "2021-06-21T16:01:19.030Z"
   },
   {
    "duration": 463,
    "start_time": "2021-06-21T16:01:19.074Z"
   },
   {
    "duration": 9,
    "start_time": "2021-06-21T16:01:19.539Z"
   },
   {
    "duration": 391,
    "start_time": "2021-06-21T16:01:19.551Z"
   },
   {
    "duration": 440,
    "start_time": "2021-06-21T16:01:19.944Z"
   },
   {
    "duration": 351,
    "start_time": "2021-06-21T16:01:20.387Z"
   },
   {
    "duration": 368,
    "start_time": "2021-06-21T16:01:20.741Z"
   },
   {
    "duration": 466,
    "start_time": "2021-06-21T16:01:21.112Z"
   },
   {
    "duration": 465,
    "start_time": "2021-06-21T16:01:21.580Z"
   },
   {
    "duration": 524,
    "start_time": "2021-06-21T16:01:22.048Z"
   },
   {
    "duration": 487,
    "start_time": "2021-06-21T16:01:22.574Z"
   },
   {
    "duration": 508,
    "start_time": "2021-06-21T16:01:23.064Z"
   },
   {
    "duration": 473,
    "start_time": "2021-06-21T16:01:23.574Z"
   },
   {
    "duration": 520,
    "start_time": "2021-06-21T16:01:24.049Z"
   },
   {
    "duration": 11,
    "start_time": "2021-06-21T16:01:24.571Z"
   },
   {
    "duration": 215,
    "start_time": "2021-06-21T17:13:24.078Z"
   },
   {
    "duration": 205,
    "start_time": "2021-06-21T17:13:39.862Z"
   },
   {
    "duration": 211,
    "start_time": "2021-06-21T17:13:48.237Z"
   },
   {
    "duration": 849,
    "start_time": "2021-06-21T17:19:49.025Z"
   },
   {
    "duration": 1034,
    "start_time": "2021-06-21T17:26:55.017Z"
   },
   {
    "duration": 38,
    "start_time": "2021-06-21T17:26:56.053Z"
   },
   {
    "duration": 21,
    "start_time": "2021-06-21T17:26:56.094Z"
   },
   {
    "duration": 47,
    "start_time": "2021-06-21T17:26:56.118Z"
   },
   {
    "duration": 47,
    "start_time": "2021-06-21T17:26:56.167Z"
   },
   {
    "duration": 12,
    "start_time": "2021-06-21T17:26:56.216Z"
   },
   {
    "duration": 30,
    "start_time": "2021-06-21T17:26:56.231Z"
   },
   {
    "duration": 11,
    "start_time": "2021-06-21T17:26:56.264Z"
   },
   {
    "duration": 247,
    "start_time": "2021-06-21T17:26:56.277Z"
   },
   {
    "duration": 18,
    "start_time": "2021-06-21T17:26:56.527Z"
   },
   {
    "duration": 8,
    "start_time": "2021-06-21T17:26:56.548Z"
   },
   {
    "duration": 871,
    "start_time": "2021-06-21T17:26:56.558Z"
   },
   {
    "duration": 7,
    "start_time": "2021-06-21T17:26:57.432Z"
   },
   {
    "duration": 80,
    "start_time": "2021-06-21T17:26:57.441Z"
   },
   {
    "duration": 858,
    "start_time": "2021-06-21T17:26:57.523Z"
   },
   {
    "duration": 351,
    "start_time": "2021-06-21T17:26:58.383Z"
   },
   {
    "duration": 672,
    "start_time": "2021-06-21T17:26:58.736Z"
   },
   {
    "duration": 251,
    "start_time": "2021-06-21T17:26:59.411Z"
   },
   {
    "duration": 437,
    "start_time": "2021-06-21T17:26:59.664Z"
   },
   {
    "duration": 724,
    "start_time": "2021-06-21T17:27:00.109Z"
   },
   {
    "duration": 340,
    "start_time": "2021-06-21T17:27:00.836Z"
   },
   {
    "duration": 655,
    "start_time": "2021-06-21T17:27:01.178Z"
   },
   {
    "duration": 353,
    "start_time": "2021-06-21T17:27:01.838Z"
   },
   {
    "duration": 785,
    "start_time": "2021-06-21T17:27:02.194Z"
   },
   {
    "duration": 251,
    "start_time": "2021-06-21T17:27:02.982Z"
   },
   {
    "duration": 621,
    "start_time": "2021-06-21T17:27:03.235Z"
   },
   {
    "duration": 603,
    "start_time": "2021-06-21T17:27:03.858Z"
   },
   {
    "duration": 19,
    "start_time": "2021-06-21T17:27:04.464Z"
   },
   {
    "duration": 786,
    "start_time": "2021-06-21T17:27:04.486Z"
   },
   {
    "duration": 406023,
    "start_time": "2021-06-21T17:27:05.275Z"
   },
   {
    "duration": 436877,
    "start_time": "2021-06-21T17:33:51.301Z"
   },
   {
    "duration": 728,
    "start_time": "2021-06-21T17:41:08.181Z"
   },
   {
    "duration": 741,
    "start_time": "2021-06-21T17:41:08.911Z"
   },
   {
    "duration": 731,
    "start_time": "2021-06-21T17:41:09.654Z"
   },
   {
    "duration": 865,
    "start_time": "2021-06-21T17:41:10.388Z"
   },
   {
    "duration": 14,
    "start_time": "2021-06-21T17:41:11.255Z"
   },
   {
    "duration": 31,
    "start_time": "2021-06-21T17:41:11.271Z"
   },
   {
    "duration": 19,
    "start_time": "2021-06-21T17:41:11.305Z"
   },
   {
    "duration": 24,
    "start_time": "2021-06-21T17:41:11.326Z"
   },
   {
    "duration": 40,
    "start_time": "2021-06-21T17:41:11.352Z"
   },
   {
    "duration": 441,
    "start_time": "2021-06-21T17:41:11.395Z"
   },
   {
    "duration": 9,
    "start_time": "2021-06-21T17:41:11.839Z"
   },
   {
    "duration": 566,
    "start_time": "2021-06-21T17:41:11.851Z"
   },
   {
    "duration": 627,
    "start_time": "2021-06-21T17:41:12.419Z"
   },
   {
    "duration": 371,
    "start_time": "2021-06-21T17:41:13.048Z"
   },
   {
    "duration": 365,
    "start_time": "2021-06-21T17:41:13.421Z"
   },
   {
    "duration": 504,
    "start_time": "2021-06-21T17:41:13.789Z"
   },
   {
    "duration": 464,
    "start_time": "2021-06-21T17:41:14.296Z"
   },
   {
    "duration": 516,
    "start_time": "2021-06-21T17:41:14.762Z"
   },
   {
    "duration": 478,
    "start_time": "2021-06-21T17:41:15.281Z"
   },
   {
    "duration": 479,
    "start_time": "2021-06-21T17:41:15.762Z"
   },
   {
    "duration": 458,
    "start_time": "2021-06-21T17:41:16.244Z"
   },
   {
    "duration": 462,
    "start_time": "2021-06-21T17:41:16.704Z"
   },
   {
    "duration": 12,
    "start_time": "2021-06-21T17:41:17.169Z"
   },
   {
    "duration": 1718,
    "start_time": "2021-06-21T18:07:16.028Z"
   },
   {
    "duration": 1266,
    "start_time": "2021-06-21T18:07:28.729Z"
   },
   {
    "duration": 227,
    "start_time": "2021-06-21T18:10:32.195Z"
   },
   {
    "duration": 129,
    "start_time": "2021-06-21T18:10:52.260Z"
   },
   {
    "duration": 50,
    "start_time": "2021-06-21T18:10:52.392Z"
   },
   {
    "duration": 9,
    "start_time": "2021-06-21T18:10:52.445Z"
   },
   {
    "duration": 82,
    "start_time": "2021-06-21T18:10:52.456Z"
   },
   {
    "duration": 19,
    "start_time": "2021-06-21T18:10:52.540Z"
   },
   {
    "duration": 13,
    "start_time": "2021-06-21T18:10:52.561Z"
   },
   {
    "duration": 62,
    "start_time": "2021-06-21T18:10:52.576Z"
   },
   {
    "duration": 9,
    "start_time": "2021-06-21T18:10:52.642Z"
   },
   {
    "duration": 243,
    "start_time": "2021-06-21T18:10:52.654Z"
   },
   {
    "duration": 23,
    "start_time": "2021-06-21T18:10:52.899Z"
   },
   {
    "duration": 11,
    "start_time": "2021-06-21T18:10:52.925Z"
   },
   {
    "duration": 838,
    "start_time": "2021-06-21T18:10:52.938Z"
   },
   {
    "duration": 7,
    "start_time": "2021-06-21T18:10:53.778Z"
   },
   {
    "duration": 71,
    "start_time": "2021-06-21T18:10:53.788Z"
   },
   {
    "duration": 857,
    "start_time": "2021-06-21T18:10:53.862Z"
   },
   {
    "duration": 361,
    "start_time": "2021-06-21T18:10:54.721Z"
   },
   {
    "duration": 737,
    "start_time": "2021-06-21T18:10:55.084Z"
   },
   {
    "duration": 290,
    "start_time": "2021-06-21T18:10:55.824Z"
   },
   {
    "duration": 465,
    "start_time": "2021-06-21T18:10:56.117Z"
   },
   {
    "duration": 757,
    "start_time": "2021-06-21T18:10:56.585Z"
   },
   {
    "duration": 349,
    "start_time": "2021-06-21T18:10:57.345Z"
   },
   {
    "duration": 622,
    "start_time": "2021-06-21T18:10:57.697Z"
   },
   {
    "duration": 369,
    "start_time": "2021-06-21T18:10:58.327Z"
   },
   {
    "duration": 865,
    "start_time": "2021-06-21T18:10:58.700Z"
   },
   {
    "duration": 248,
    "start_time": "2021-06-21T18:10:59.568Z"
   },
   {
    "duration": 779,
    "start_time": "2021-06-21T18:10:59.819Z"
   },
   {
    "duration": 625,
    "start_time": "2021-06-21T18:11:00.601Z"
   },
   {
    "duration": 17,
    "start_time": "2021-06-21T18:11:01.228Z"
   },
   {
    "duration": 724,
    "start_time": "2021-06-21T18:11:01.248Z"
   },
   {
    "duration": 424947,
    "start_time": "2021-06-21T18:11:01.975Z"
   },
   {
    "duration": 1119,
    "start_time": "2021-06-21T18:20:21.496Z"
   },
   {
    "duration": 40,
    "start_time": "2021-06-21T18:20:22.619Z"
   },
   {
    "duration": 9,
    "start_time": "2021-06-21T18:20:22.662Z"
   },
   {
    "duration": 74,
    "start_time": "2021-06-21T18:20:22.674Z"
   },
   {
    "duration": 19,
    "start_time": "2021-06-21T18:20:22.751Z"
   },
   {
    "duration": 36,
    "start_time": "2021-06-21T18:20:22.773Z"
   },
   {
    "duration": 26,
    "start_time": "2021-06-21T18:20:22.811Z"
   },
   {
    "duration": 9,
    "start_time": "2021-06-21T18:20:22.841Z"
   },
   {
    "duration": 236,
    "start_time": "2021-06-21T18:20:22.853Z"
   },
   {
    "duration": 26,
    "start_time": "2021-06-21T18:20:23.092Z"
   },
   {
    "duration": 5,
    "start_time": "2021-06-21T18:20:23.120Z"
   },
   {
    "duration": 837,
    "start_time": "2021-06-21T18:20:23.128Z"
   },
   {
    "duration": 6,
    "start_time": "2021-06-21T18:20:23.968Z"
   },
   {
    "duration": 96,
    "start_time": "2021-06-21T18:20:23.977Z"
   },
   {
    "duration": 816,
    "start_time": "2021-06-21T18:20:24.076Z"
   },
   {
    "duration": 347,
    "start_time": "2021-06-21T18:20:24.895Z"
   },
   {
    "duration": 680,
    "start_time": "2021-06-21T18:20:25.245Z"
   },
   {
    "duration": 263,
    "start_time": "2021-06-21T18:20:25.928Z"
   },
   {
    "duration": 446,
    "start_time": "2021-06-21T18:20:26.194Z"
   },
   {
    "duration": 731,
    "start_time": "2021-06-21T18:20:26.643Z"
   },
   {
    "duration": 345,
    "start_time": "2021-06-21T18:20:27.378Z"
   },
   {
    "duration": 668,
    "start_time": "2021-06-21T18:20:27.726Z"
   },
   {
    "duration": 330,
    "start_time": "2021-06-21T18:20:28.411Z"
   },
   {
    "duration": 840,
    "start_time": "2021-06-21T18:20:28.744Z"
   },
   {
    "duration": 237,
    "start_time": "2021-06-21T18:20:29.587Z"
   },
   {
    "duration": 616,
    "start_time": "2021-06-21T18:20:29.826Z"
   },
   {
    "duration": 575,
    "start_time": "2021-06-21T18:20:30.445Z"
   },
   {
    "duration": 15,
    "start_time": "2021-06-21T18:20:31.023Z"
   },
   {
    "duration": 768,
    "start_time": "2021-06-21T18:20:31.041Z"
   },
   {
    "duration": 445,
    "start_time": "2021-06-21T18:20:31.811Z"
   },
   {
    "duration": -743,
    "start_time": "2021-06-21T18:20:33.006Z"
   },
   {
    "duration": -751,
    "start_time": "2021-06-21T18:20:33.015Z"
   },
   {
    "duration": -758,
    "start_time": "2021-06-21T18:20:33.023Z"
   },
   {
    "duration": -765,
    "start_time": "2021-06-21T18:20:33.031Z"
   },
   {
    "duration": -772,
    "start_time": "2021-06-21T18:20:33.039Z"
   },
   {
    "duration": -777,
    "start_time": "2021-06-21T18:20:33.046Z"
   },
   {
    "duration": -784,
    "start_time": "2021-06-21T18:20:33.054Z"
   },
   {
    "duration": -789,
    "start_time": "2021-06-21T18:20:33.061Z"
   },
   {
    "duration": -797,
    "start_time": "2021-06-21T18:20:33.070Z"
   },
   {
    "duration": -803,
    "start_time": "2021-06-21T18:20:33.078Z"
   },
   {
    "duration": -815,
    "start_time": "2021-06-21T18:20:33.091Z"
   },
   {
    "duration": -834,
    "start_time": "2021-06-21T18:20:33.112Z"
   },
   {
    "duration": -842,
    "start_time": "2021-06-21T18:20:33.121Z"
   },
   {
    "duration": -851,
    "start_time": "2021-06-21T18:20:33.132Z"
   },
   {
    "duration": -859,
    "start_time": "2021-06-21T18:20:33.141Z"
   },
   {
    "duration": -871,
    "start_time": "2021-06-21T18:20:33.154Z"
   },
   {
    "duration": -877,
    "start_time": "2021-06-21T18:20:33.162Z"
   },
   {
    "duration": -886,
    "start_time": "2021-06-21T18:20:33.172Z"
   },
   {
    "duration": -894,
    "start_time": "2021-06-21T18:20:33.182Z"
   },
   {
    "duration": -904,
    "start_time": "2021-06-21T18:20:33.193Z"
   },
   {
    "duration": -912,
    "start_time": "2021-06-21T18:20:33.203Z"
   },
   {
    "duration": -936,
    "start_time": "2021-06-21T18:20:33.228Z"
   },
   {
    "duration": -944,
    "start_time": "2021-06-21T18:20:33.238Z"
   },
   {
    "duration": -953,
    "start_time": "2021-06-21T18:20:33.249Z"
   },
   {
    "duration": 386506,
    "start_time": "2021-06-21T18:21:02.208Z"
   },
   {
    "duration": 66,
    "start_time": "2021-06-21T18:39:47.562Z"
   },
   {
    "duration": 147,
    "start_time": "2021-06-21T18:39:59.319Z"
   },
   {
    "duration": 68,
    "start_time": "2021-06-21T18:39:59.468Z"
   },
   {
    "duration": 12,
    "start_time": "2021-06-21T18:39:59.540Z"
   },
   {
    "duration": 86,
    "start_time": "2021-06-21T18:39:59.555Z"
   },
   {
    "duration": 27,
    "start_time": "2021-06-21T18:39:59.643Z"
   },
   {
    "duration": 39,
    "start_time": "2021-06-21T18:39:59.672Z"
   },
   {
    "duration": 32,
    "start_time": "2021-06-21T18:39:59.715Z"
   },
   {
    "duration": 10,
    "start_time": "2021-06-21T18:39:59.751Z"
   },
   {
    "duration": 264,
    "start_time": "2021-06-21T18:39:59.764Z"
   },
   {
    "duration": 19,
    "start_time": "2021-06-21T18:40:00.031Z"
   },
   {
    "duration": 9,
    "start_time": "2021-06-21T18:40:00.052Z"
   },
   {
    "duration": 847,
    "start_time": "2021-06-21T18:40:00.063Z"
   },
   {
    "duration": 7,
    "start_time": "2021-06-21T18:40:00.912Z"
   },
   {
    "duration": 119,
    "start_time": "2021-06-21T18:40:00.922Z"
   },
   {
    "duration": 821,
    "start_time": "2021-06-21T18:40:01.043Z"
   },
   {
    "duration": 369,
    "start_time": "2021-06-21T18:40:01.867Z"
   },
   {
    "duration": 886,
    "start_time": "2021-06-21T18:40:02.239Z"
   },
   {
    "duration": 395,
    "start_time": "2021-06-21T18:40:03.128Z"
   },
   {
    "duration": 445,
    "start_time": "2021-06-21T18:40:03.525Z"
   },
   {
    "duration": 745,
    "start_time": "2021-06-21T18:40:03.972Z"
   },
   {
    "duration": 334,
    "start_time": "2021-06-21T18:40:04.720Z"
   },
   {
    "duration": 591,
    "start_time": "2021-06-21T18:40:05.057Z"
   },
   {
    "duration": 349,
    "start_time": "2021-06-21T18:40:05.654Z"
   },
   {
    "duration": 769,
    "start_time": "2021-06-21T18:40:06.010Z"
   },
   {
    "duration": 244,
    "start_time": "2021-06-21T18:40:06.782Z"
   },
   {
    "duration": 704,
    "start_time": "2021-06-21T18:40:07.029Z"
   },
   {
    "duration": 581,
    "start_time": "2021-06-21T18:40:07.735Z"
   },
   {
    "duration": 15,
    "start_time": "2021-06-21T18:40:08.318Z"
   },
   {
    "duration": 1186,
    "start_time": "2021-06-21T18:40:08.337Z"
   },
   {
    "duration": 401758,
    "start_time": "2021-06-21T18:40:09.526Z"
   },
   {
    "duration": 764,
    "start_time": "2021-06-21T18:46:51.287Z"
   },
   {
    "duration": 716,
    "start_time": "2021-06-21T18:46:52.053Z"
   },
   {
    "duration": 717,
    "start_time": "2021-06-21T18:46:52.771Z"
   },
   {
    "duration": 324,
    "start_time": "2021-06-21T18:46:53.491Z"
   },
   {
    "duration": -706,
    "start_time": "2021-06-21T18:46:54.524Z"
   },
   {
    "duration": -727,
    "start_time": "2021-06-21T18:46:54.546Z"
   },
   {
    "duration": -733,
    "start_time": "2021-06-21T18:46:54.554Z"
   },
   {
    "duration": -740,
    "start_time": "2021-06-21T18:46:54.562Z"
   },
   {
    "duration": -749,
    "start_time": "2021-06-21T18:46:54.572Z"
   },
   {
    "duration": -754,
    "start_time": "2021-06-21T18:46:54.579Z"
   },
   {
    "duration": -762,
    "start_time": "2021-06-21T18:46:54.588Z"
   },
   {
    "duration": -767,
    "start_time": "2021-06-21T18:46:54.595Z"
   },
   {
    "duration": -775,
    "start_time": "2021-06-21T18:46:54.604Z"
   },
   {
    "duration": -781,
    "start_time": "2021-06-21T18:46:54.611Z"
   },
   {
    "duration": -788,
    "start_time": "2021-06-21T18:46:54.620Z"
   },
   {
    "duration": -796,
    "start_time": "2021-06-21T18:46:54.629Z"
   },
   {
    "duration": -804,
    "start_time": "2021-06-21T18:46:54.639Z"
   },
   {
    "duration": -823,
    "start_time": "2021-06-21T18:46:54.659Z"
   },
   {
    "duration": -832,
    "start_time": "2021-06-21T18:46:54.669Z"
   },
   {
    "duration": -837,
    "start_time": "2021-06-21T18:46:54.676Z"
   },
   {
    "duration": -846,
    "start_time": "2021-06-21T18:46:54.686Z"
   },
   {
    "duration": -851,
    "start_time": "2021-06-21T18:46:54.693Z"
   },
   {
    "duration": -859,
    "start_time": "2021-06-21T18:46:54.702Z"
   },
   {
    "duration": -864,
    "start_time": "2021-06-21T18:46:54.709Z"
   },
   {
    "duration": -870,
    "start_time": "2021-06-21T18:46:54.718Z"
   },
   {
    "duration": 72,
    "start_time": "2021-06-21T18:47:01.816Z"
   },
   {
    "duration": 135,
    "start_time": "2021-06-21T18:48:50.135Z"
   },
   {
    "duration": 61,
    "start_time": "2021-06-21T18:48:50.272Z"
   },
   {
    "duration": 9,
    "start_time": "2021-06-21T18:48:50.336Z"
   },
   {
    "duration": 79,
    "start_time": "2021-06-21T18:48:50.348Z"
   },
   {
    "duration": 20,
    "start_time": "2021-06-21T18:48:50.429Z"
   },
   {
    "duration": 23,
    "start_time": "2021-06-21T18:48:50.452Z"
   },
   {
    "duration": 84,
    "start_time": "2021-06-21T18:48:50.479Z"
   },
   {
    "duration": 26,
    "start_time": "2021-06-21T18:48:50.569Z"
   },
   {
    "duration": 277,
    "start_time": "2021-06-21T18:48:50.612Z"
   },
   {
    "duration": 28,
    "start_time": "2021-06-21T18:48:50.891Z"
   },
   {
    "duration": 5,
    "start_time": "2021-06-21T18:48:50.921Z"
   },
   {
    "duration": 823,
    "start_time": "2021-06-21T18:48:50.929Z"
   },
   {
    "duration": 7,
    "start_time": "2021-06-21T18:48:51.755Z"
   },
   {
    "duration": 78,
    "start_time": "2021-06-21T18:48:51.765Z"
   },
   {
    "duration": 788,
    "start_time": "2021-06-21T18:48:51.845Z"
   },
   {
    "duration": 349,
    "start_time": "2021-06-21T18:48:52.635Z"
   },
   {
    "duration": 668,
    "start_time": "2021-06-21T18:48:52.987Z"
   },
   {
    "duration": 253,
    "start_time": "2021-06-21T18:48:53.657Z"
   },
   {
    "duration": 630,
    "start_time": "2021-06-21T18:48:53.912Z"
   },
   {
    "duration": 928,
    "start_time": "2021-06-21T18:48:54.545Z"
   },
   {
    "duration": 335,
    "start_time": "2021-06-21T18:48:55.475Z"
   },
   {
    "duration": 585,
    "start_time": "2021-06-21T18:48:55.813Z"
   },
   {
    "duration": 344,
    "start_time": "2021-06-21T18:48:56.411Z"
   },
   {
    "duration": 773,
    "start_time": "2021-06-21T18:48:56.758Z"
   },
   {
    "duration": 244,
    "start_time": "2021-06-21T18:48:57.533Z"
   },
   {
    "duration": 607,
    "start_time": "2021-06-21T18:48:57.779Z"
   },
   {
    "duration": 583,
    "start_time": "2021-06-21T18:48:58.388Z"
   },
   {
    "duration": 17,
    "start_time": "2021-06-21T18:48:58.973Z"
   },
   {
    "duration": 757,
    "start_time": "2021-06-21T18:48:58.993Z"
   },
   {
    "duration": 391437,
    "start_time": "2021-06-21T18:48:59.753Z"
   },
   {
    "duration": 734,
    "start_time": "2021-06-21T18:55:31.193Z"
   },
   {
    "duration": 754,
    "start_time": "2021-06-21T18:55:31.930Z"
   },
   {
    "duration": 732,
    "start_time": "2021-06-21T18:55:32.687Z"
   },
   {
    "duration": 438,
    "start_time": "2021-06-21T18:55:33.422Z"
   },
   {
    "duration": -1656182,
    "start_time": "2021-06-21T19:23:10.045Z"
   },
   {
    "duration": -1656193,
    "start_time": "2021-06-21T19:23:10.058Z"
   },
   {
    "duration": -1656206,
    "start_time": "2021-06-21T19:23:10.072Z"
   },
   {
    "duration": -1656218,
    "start_time": "2021-06-21T19:23:10.085Z"
   },
   {
    "duration": -1656226,
    "start_time": "2021-06-21T19:23:10.094Z"
   },
   {
    "duration": -1656235,
    "start_time": "2021-06-21T19:23:10.105Z"
   },
   {
    "duration": -1656246,
    "start_time": "2021-06-21T19:23:10.117Z"
   },
   {
    "duration": -1656409,
    "start_time": "2021-06-21T19:23:10.281Z"
   },
   {
    "duration": -1656419,
    "start_time": "2021-06-21T19:23:10.293Z"
   },
   {
    "duration": -1656429,
    "start_time": "2021-06-21T19:23:10.304Z"
   },
   {
    "duration": -1656435,
    "start_time": "2021-06-21T19:23:10.312Z"
   },
   {
    "duration": -1656443,
    "start_time": "2021-06-21T19:23:10.321Z"
   },
   {
    "duration": -1656450,
    "start_time": "2021-06-21T19:23:10.329Z"
   },
   {
    "duration": -1656457,
    "start_time": "2021-06-21T19:23:10.338Z"
   },
   {
    "duration": -1656466,
    "start_time": "2021-06-21T19:23:10.348Z"
   },
   {
    "duration": -1656474,
    "start_time": "2021-06-21T19:23:10.358Z"
   },
   {
    "duration": -1656482,
    "start_time": "2021-06-21T19:23:10.367Z"
   },
   {
    "duration": -1656490,
    "start_time": "2021-06-21T19:23:10.377Z"
   },
   {
    "duration": -1656514,
    "start_time": "2021-06-21T19:23:10.402Z"
   },
   {
    "duration": -1656523,
    "start_time": "2021-06-21T19:23:10.412Z"
   },
   {
    "duration": 303,
    "start_time": "2021-06-21T19:27:01.727Z"
   },
   {
    "duration": 216,
    "start_time": "2021-06-21T19:28:54.711Z"
   },
   {
    "duration": 236,
    "start_time": "2021-06-21T19:30:59.419Z"
   },
   {
    "duration": 371,
    "start_time": "2021-06-21T19:31:52.461Z"
   },
   {
    "duration": 257,
    "start_time": "2021-06-21T19:32:54.753Z"
   },
   {
    "duration": 98549,
    "start_time": "2021-06-21T19:36:07.138Z"
   },
   {
    "duration": 343,
    "start_time": "2021-06-21T19:38:29.548Z"
   },
   {
    "duration": 19,
    "start_time": "2021-06-21T19:38:55.989Z"
   },
   {
    "duration": 5,
    "start_time": "2021-06-21T19:38:58.926Z"
   },
   {
    "duration": 2003,
    "start_time": "2021-06-21T19:39:00.628Z"
   },
   {
    "duration": 23,
    "start_time": "2021-06-21T19:40:19.934Z"
   },
   {
    "duration": 40,
    "start_time": "2021-06-21T19:40:26.045Z"
   },
   {
    "duration": 295,
    "start_time": "2021-06-21T19:42:26.478Z"
   },
   {
    "duration": 436,
    "start_time": "2021-06-21T19:42:54.201Z"
   },
   {
    "duration": 11,
    "start_time": "2021-06-21T19:43:01.264Z"
   },
   {
    "duration": 381,
    "start_time": "2021-06-21T19:43:02.396Z"
   },
   {
    "duration": 419,
    "start_time": "2021-06-21T19:43:09.108Z"
   },
   {
    "duration": 457,
    "start_time": "2021-06-21T19:43:32.288Z"
   },
   {
    "duration": 345,
    "start_time": "2021-06-21T19:43:51.901Z"
   },
   {
    "duration": 16009,
    "start_time": "2021-06-21T19:44:41.787Z"
   },
   {
    "duration": 16343,
    "start_time": "2021-06-21T19:45:23.118Z"
   },
   {
    "duration": 311,
    "start_time": "2021-06-21T19:47:00.372Z"
   },
   {
    "duration": 236,
    "start_time": "2021-06-21T19:47:34.864Z"
   },
   {
    "duration": 261,
    "start_time": "2021-06-21T19:48:09.473Z"
   },
   {
    "duration": 268,
    "start_time": "2021-06-21T19:49:00.544Z"
   },
   {
    "duration": 289,
    "start_time": "2021-06-21T19:49:39.274Z"
   },
   {
    "duration": 242,
    "start_time": "2021-06-21T19:50:16.538Z"
   },
   {
    "duration": 365,
    "start_time": "2021-06-21T19:59:41.492Z"
   },
   {
    "duration": 1028,
    "start_time": "2021-06-21T20:00:18.367Z"
   },
   {
    "duration": 42,
    "start_time": "2021-06-21T20:00:19.409Z"
   },
   {
    "duration": 10,
    "start_time": "2021-06-21T20:00:19.455Z"
   },
   {
    "duration": 75,
    "start_time": "2021-06-21T20:00:19.467Z"
   },
   {
    "duration": 23,
    "start_time": "2021-06-21T20:00:19.545Z"
   },
   {
    "duration": 14,
    "start_time": "2021-06-21T20:00:19.570Z"
   },
   {
    "duration": 28,
    "start_time": "2021-06-21T20:00:19.610Z"
   },
   {
    "duration": 10,
    "start_time": "2021-06-21T20:00:19.643Z"
   },
   {
    "duration": 239,
    "start_time": "2021-06-21T20:00:19.656Z"
   },
   {
    "duration": 23,
    "start_time": "2021-06-21T20:00:19.898Z"
   },
   {
    "duration": 5,
    "start_time": "2021-06-21T20:00:19.923Z"
   },
   {
    "duration": 852,
    "start_time": "2021-06-21T20:00:19.930Z"
   },
   {
    "duration": 7,
    "start_time": "2021-06-21T20:00:20.785Z"
   },
   {
    "duration": 59,
    "start_time": "2021-06-21T20:00:20.809Z"
   },
   {
    "duration": 826,
    "start_time": "2021-06-21T20:00:20.870Z"
   },
   {
    "duration": 351,
    "start_time": "2021-06-21T20:00:21.699Z"
   },
   {
    "duration": 713,
    "start_time": "2021-06-21T20:00:22.052Z"
   },
   {
    "duration": 256,
    "start_time": "2021-06-21T20:00:22.768Z"
   },
   {
    "duration": 441,
    "start_time": "2021-06-21T20:00:23.027Z"
   },
   {
    "duration": 720,
    "start_time": "2021-06-21T20:00:23.471Z"
   },
   {
    "duration": 340,
    "start_time": "2021-06-21T20:00:24.193Z"
   },
   {
    "duration": 663,
    "start_time": "2021-06-21T20:00:24.536Z"
   },
   {
    "duration": 339,
    "start_time": "2021-06-21T20:00:25.213Z"
   },
   {
    "duration": 873,
    "start_time": "2021-06-21T20:00:25.555Z"
   },
   {
    "duration": 393,
    "start_time": "2021-06-21T20:00:26.431Z"
   },
   {
    "duration": 592,
    "start_time": "2021-06-21T20:00:26.827Z"
   },
   {
    "duration": 574,
    "start_time": "2021-06-21T20:00:27.422Z"
   },
   {
    "duration": 24,
    "start_time": "2021-06-21T20:00:27.999Z"
   },
   {
    "duration": 763,
    "start_time": "2021-06-21T20:00:28.026Z"
   },
   {
    "duration": 398,
    "start_time": "2021-06-21T20:00:28.792Z"
   },
   {
    "duration": 228,
    "start_time": "2021-06-21T20:00:29.193Z"
   },
   {
    "duration": 254,
    "start_time": "2021-06-21T20:00:29.424Z"
   },
   {
    "duration": 400,
    "start_time": "2021-06-21T20:00:29.681Z"
   },
   {
    "duration": 265,
    "start_time": "2021-06-21T20:00:30.083Z"
   },
   {
    "duration": 389,
    "start_time": "2021-06-21T20:00:30.350Z"
   },
   {
    "duration": 14,
    "start_time": "2021-06-21T20:00:30.742Z"
   },
   {
    "duration": 40,
    "start_time": "2021-06-21T20:00:30.759Z"
   },
   {
    "duration": 19,
    "start_time": "2021-06-21T20:00:30.808Z"
   },
   {
    "duration": 23,
    "start_time": "2021-06-21T20:00:30.830Z"
   },
   {
    "duration": 66,
    "start_time": "2021-06-21T20:00:30.856Z"
   },
   {
    "duration": 409,
    "start_time": "2021-06-21T20:00:30.924Z"
   },
   {
    "duration": 9,
    "start_time": "2021-06-21T20:00:31.336Z"
   },
   {
    "duration": 407,
    "start_time": "2021-06-21T20:00:31.348Z"
   },
   {
    "duration": 424,
    "start_time": "2021-06-21T20:00:31.758Z"
   },
   {
    "duration": 451,
    "start_time": "2021-06-21T20:00:32.186Z"
   },
   {
    "duration": 375,
    "start_time": "2021-06-21T20:00:32.640Z"
   },
   {
    "duration": 429,
    "start_time": "2021-06-21T20:00:33.017Z"
   },
   {
    "duration": 261,
    "start_time": "2021-06-21T20:00:33.449Z"
   },
   {
    "duration": 277,
    "start_time": "2021-06-21T20:00:33.713Z"
   },
   {
    "duration": 302,
    "start_time": "2021-06-21T20:00:33.993Z"
   },
   {
    "duration": 313,
    "start_time": "2021-06-21T20:00:34.297Z"
   },
   {
    "duration": 254,
    "start_time": "2021-06-21T20:00:34.613Z"
   },
   {
    "duration": 12,
    "start_time": "2021-06-21T20:00:34.870Z"
   },
   {
    "duration": 114,
    "start_time": "2021-06-22T14:34:28.122Z"
   }
  ],
  "kernelspec": {
   "display_name": "Python 3",
   "language": "python",
   "name": "python3"
  },
  "language_info": {
   "codemirror_mode": {
    "name": "ipython",
    "version": 3
   },
   "file_extension": ".py",
   "mimetype": "text/x-python",
   "name": "python",
   "nbconvert_exporter": "python",
   "pygments_lexer": "ipython3",
   "version": "3.8.8"
  },
  "toc": {
   "base_numbering": 1,
   "nav_menu": {},
   "number_sections": true,
   "sideBar": true,
   "skip_h1_title": true,
   "title_cell": "Содержание",
   "title_sidebar": "Contents",
   "toc_cell": true,
   "toc_position": {
    "height": "calc(100% - 180px)",
    "left": "10px",
    "top": "150px",
    "width": "165px"
   },
   "toc_section_display": true,
   "toc_window_display": true
  }
 },
 "nbformat": 4,
 "nbformat_minor": 2
}
